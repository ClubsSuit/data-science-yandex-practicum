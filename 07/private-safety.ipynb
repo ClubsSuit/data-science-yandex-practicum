{
 "cells": [
  {
   "attachments": {},
   "cell_type": "markdown",
   "metadata": {
    "toc": true
   },
   "source": [
    "<h1>Содержание<span class=\"tocSkip\"></span></h1>\n",
    "<div class=\"toc\"><ul class=\"toc-item\"><li><span><a href=\"#Загрузка-данных\" data-toc-modified-id=\"Загрузка-данных-1\"><span class=\"toc-item-num\">1&nbsp;&nbsp;</span>Загрузка данных</a></span><ul class=\"toc-item\"><li><span><a href=\"#Выводы\" data-toc-modified-id=\"Выводы-1.1\"><span class=\"toc-item-num\">1.1&nbsp;&nbsp;</span>Выводы</a></span></li></ul></li><li><span><a href=\"#Умножение-матриц\" data-toc-modified-id=\"Умножение-матриц-2\"><span class=\"toc-item-num\">2&nbsp;&nbsp;</span>Умножение матриц</a></span><ul class=\"toc-item\"><li><span><a href=\"#Выводы\" data-toc-modified-id=\"Выводы-2.1\"><span class=\"toc-item-num\">2.1&nbsp;&nbsp;</span>Выводы</a></span></li></ul></li><li><span><a href=\"#Алгоритм-преобразования\" data-toc-modified-id=\"Алгоритм-преобразования-3\"><span class=\"toc-item-num\">3&nbsp;&nbsp;</span>Алгоритм преобразования</a></span><ul class=\"toc-item\"><li><span><a href=\"#Выводы\" data-toc-modified-id=\"Выводы-3.1\"><span class=\"toc-item-num\">3.1&nbsp;&nbsp;</span>Выводы</a></span></li></ul></li><li><span><a href=\"#Проверка-алгоритма\" data-toc-modified-id=\"Проверка-алгоритма-4\"><span class=\"toc-item-num\">4&nbsp;&nbsp;</span>Проверка алгоритма</a></span><ul class=\"toc-item\"><li><span><a href=\"#Выводы\" data-toc-modified-id=\"Выводы-4.1\"><span class=\"toc-item-num\">4.1&nbsp;&nbsp;</span>Выводы</a></span></li></ul></li><li><span><a href=\"#Чек-лист-проверки\" data-toc-modified-id=\"Чек-лист-проверки-5\"><span class=\"toc-item-num\">5&nbsp;&nbsp;</span>Чек-лист проверки</a></span></li></ul></div>"
   ]
  },
  {
   "attachments": {},
   "cell_type": "markdown",
   "metadata": {},
   "source": [
    "# Защита персональных данных клиентов"
   ]
  },
  {
   "attachments": {},
   "cell_type": "markdown",
   "metadata": {},
   "source": [
    "Вам нужно защитить данные клиентов страховой компании «Хоть потоп». Разработайте такой метод преобразования данных, чтобы по ним было сложно восстановить персональную информацию. Обоснуйте корректность его работы.\n",
    "\n",
    "Нужно защитить данные, чтобы при преобразовании качество моделей машинного обучения не ухудшилось. Подбирать наилучшую модель не требуется."
   ]
  },
  {
   "attachments": {},
   "cell_type": "markdown",
   "metadata": {},
   "source": [
    "## Загрузка данных"
   ]
  },
  {
   "cell_type": "code",
   "execution_count": 1,
   "metadata": {},
   "outputs": [],
   "source": [
    "import pandas as pd\n",
    "import numpy as np\n",
    "import seaborn as sns\n",
    "import matplotlib.pyplot as plt\n",
    "from scipy.stats import spearmanr\n",
    "\n",
    "from sklearn.model_selection import train_test_split\n",
    "from sklearn.metrics import r2_score\n",
    "from sklearn.linear_model import LinearRegression\n",
    "\n",
    "df = pd.read_csv('/datasets/insurance.csv')"
   ]
  },
  {
   "cell_type": "code",
   "execution_count": 2,
   "metadata": {
    "scrolled": true
   },
   "outputs": [
    {
     "name": "stdout",
     "output_type": "stream",
     "text": [
      "<class 'pandas.core.frame.DataFrame'>\n",
      "RangeIndex: 5000 entries, 0 to 4999\n",
      "Data columns (total 5 columns):\n",
      " #   Column             Non-Null Count  Dtype  \n",
      "---  ------             --------------  -----  \n",
      " 0   Пол                5000 non-null   int64  \n",
      " 1   Возраст            5000 non-null   float64\n",
      " 2   Зарплата           5000 non-null   float64\n",
      " 3   Члены семьи        5000 non-null   int64  \n",
      " 4   Страховые выплаты  5000 non-null   int64  \n",
      "dtypes: float64(2), int64(3)\n",
      "memory usage: 195.4 KB\n"
     ]
    }
   ],
   "source": [
    "df.info()"
   ]
  },
  {
   "cell_type": "code",
   "execution_count": 3,
   "metadata": {},
   "outputs": [],
   "source": [
    "df['Возраст'] = df['Возраст'].astype('int')\n",
    "df['Зарплата'] = df['Зарплата'].astype('int')"
   ]
  },
  {
   "cell_type": "code",
   "execution_count": 4,
   "metadata": {
    "scrolled": true
   },
   "outputs": [
    {
     "data": {
      "text/html": [
       "<div>\n",
       "<style scoped>\n",
       "    .dataframe tbody tr th:only-of-type {\n",
       "        vertical-align: middle;\n",
       "    }\n",
       "\n",
       "    .dataframe tbody tr th {\n",
       "        vertical-align: top;\n",
       "    }\n",
       "\n",
       "    .dataframe thead th {\n",
       "        text-align: right;\n",
       "    }\n",
       "</style>\n",
       "<table border=\"1\" class=\"dataframe\">\n",
       "  <thead>\n",
       "    <tr style=\"text-align: right;\">\n",
       "      <th></th>\n",
       "      <th>Пол</th>\n",
       "      <th>Возраст</th>\n",
       "      <th>Зарплата</th>\n",
       "      <th>Члены семьи</th>\n",
       "      <th>Страховые выплаты</th>\n",
       "    </tr>\n",
       "  </thead>\n",
       "  <tbody>\n",
       "    <tr>\n",
       "      <th>0</th>\n",
       "      <td>1</td>\n",
       "      <td>41</td>\n",
       "      <td>49600</td>\n",
       "      <td>1</td>\n",
       "      <td>0</td>\n",
       "    </tr>\n",
       "    <tr>\n",
       "      <th>1</th>\n",
       "      <td>0</td>\n",
       "      <td>46</td>\n",
       "      <td>38000</td>\n",
       "      <td>1</td>\n",
       "      <td>1</td>\n",
       "    </tr>\n",
       "    <tr>\n",
       "      <th>2</th>\n",
       "      <td>0</td>\n",
       "      <td>29</td>\n",
       "      <td>21000</td>\n",
       "      <td>0</td>\n",
       "      <td>0</td>\n",
       "    </tr>\n",
       "    <tr>\n",
       "      <th>3</th>\n",
       "      <td>0</td>\n",
       "      <td>21</td>\n",
       "      <td>41700</td>\n",
       "      <td>2</td>\n",
       "      <td>0</td>\n",
       "    </tr>\n",
       "    <tr>\n",
       "      <th>4</th>\n",
       "      <td>1</td>\n",
       "      <td>28</td>\n",
       "      <td>26100</td>\n",
       "      <td>0</td>\n",
       "      <td>0</td>\n",
       "    </tr>\n",
       "  </tbody>\n",
       "</table>\n",
       "</div>"
      ],
      "text/plain": [
       "   Пол  Возраст  Зарплата  Члены семьи  Страховые выплаты\n",
       "0    1       41     49600            1                  0\n",
       "1    0       46     38000            1                  1\n",
       "2    0       29     21000            0                  0\n",
       "3    0       21     41700            2                  0\n",
       "4    1       28     26100            0                  0"
      ]
     },
     "execution_count": 4,
     "metadata": {},
     "output_type": "execute_result"
    }
   ],
   "source": [
    "df.head()"
   ]
  },
  {
   "cell_type": "code",
   "execution_count": 5,
   "metadata": {
    "scrolled": true
   },
   "outputs": [
    {
     "data": {
      "text/plain": [
       "Пол                  0\n",
       "Возраст              0\n",
       "Зарплата             0\n",
       "Члены семьи          0\n",
       "Страховые выплаты    0\n",
       "dtype: int64"
      ]
     },
     "execution_count": 5,
     "metadata": {},
     "output_type": "execute_result"
    }
   ],
   "source": [
    "df.isna().sum()"
   ]
  },
  {
   "cell_type": "code",
   "execution_count": 6,
   "metadata": {
    "scrolled": true
   },
   "outputs": [
    {
     "data": {
      "text/plain": [
       "<AxesSubplot:>"
      ]
     },
     "execution_count": 6,
     "metadata": {},
     "output_type": "execute_result"
    },
    {
     "data": {
      "image/png": "[encoded data removed]",
      "text/plain": [
       "<Figure size 432x288 with 1 Axes>"
      ]
     },
     "metadata": {
      "needs_background": "light"
     },
     "output_type": "display_data"
    }
   ],
   "source": [
    "df['Зарплата'].plot(kind='box')"
   ]
  },
  {
   "cell_type": "code",
   "execution_count": 7,
   "metadata": {
    "scrolled": true
   },
   "outputs": [
    {
     "data": {
      "text/plain": [
       "<AxesSubplot:>"
      ]
     },
     "execution_count": 7,
     "metadata": {},
     "output_type": "execute_result"
    },
    {
     "data": {
      "image/png": "[encoded data removed]",
      "text/plain": [
       "<Figure size 432x288 with 1 Axes>"
      ]
     },
     "metadata": {
      "needs_background": "light"
     },
     "output_type": "display_data"
    }
   ],
   "source": [
    "df['Возраст'].plot(kind='box')"
   ]
  },
  {
   "cell_type": "code",
   "execution_count": 8,
   "metadata": {
    "scrolled": true
   },
   "outputs": [
    {
     "data": {
      "text/plain": [
       "<AxesSubplot:>"
      ]
     },
     "execution_count": 8,
     "metadata": {},
     "output_type": "execute_result"
    },
    {
     "data": {
      "image/png": "[encoded data removed]",
      "text/plain": [
       "<Figure size 432x288 with 1 Axes>"
      ]
     },
     "metadata": {
      "needs_background": "light"
     },
     "output_type": "display_data"
    }
   ],
   "source": [
    "df['Пол'].value_counts().plot.bar()"
   ]
  },
  {
   "cell_type": "code",
   "execution_count": 9,
   "metadata": {
    "scrolled": true
   },
   "outputs": [
    {
     "data": {
      "text/plain": [
       "<AxesSubplot:>"
      ]
     },
     "execution_count": 9,
     "metadata": {},
     "output_type": "execute_result"
    },
    {
     "data": {
      "image/png": "[encoded data removed]",
      "text/plain": [
       "<Figure size 432x288 with 1 Axes>"
      ]
     },
     "metadata": {
      "needs_background": "light"
     },
     "output_type": "display_data"
    }
   ],
   "source": [
    "df['Члены семьи'].value_counts().plot.bar()"
   ]
  },
  {
   "cell_type": "code",
   "execution_count": 10,
   "metadata": {},
   "outputs": [
    {
     "data": {
      "text/plain": [
       "<AxesSubplot:>"
      ]
     },
     "execution_count": 10,
     "metadata": {},
     "output_type": "execute_result"
    },
    {
     "data": {
      "image/png": "[encoded data removed]",
      "text/plain": [
       "<Figure size 432x288 with 1 Axes>"
      ]
     },
     "metadata": {
      "needs_background": "light"
     },
     "output_type": "display_data"
    }
   ],
   "source": [
    "df['Страховые выплаты'].value_counts().plot.bar()"
   ]
  },
  {
   "cell_type": "code",
   "execution_count": 11,
   "metadata": {
    "scrolled": true
   },
   "outputs": [
    {
     "data": {
      "text/plain": [
       "<AxesSubplot:>"
      ]
     },
     "execution_count": 11,
     "metadata": {},
     "output_type": "execute_result"
    },
    {
     "data": {
      "image/png": "[encoded data removed]",
      "text/plain": [
       "<Figure size 720x576 with 2 Axes>"
      ]
     },
     "metadata": {
      "needs_background": "light"
     },
     "output_type": "display_data"
    }
   ],
   "source": [
    "f, ax = plt.subplots(figsize=(10, 8))\n",
    "corr = df[['Возраст', 'Зарплата', 'Страховые выплаты']].corr()\n",
    "sns.heatmap(corr,\n",
    "    cmap=sns.diverging_palette(220, 10, as_cmap=True),\n",
    "    vmin=-1.0, vmax=1.0, annot=True,\n",
    "    square=True, ax=ax)"
   ]
  },
  {
   "attachments": {},
   "cell_type": "markdown",
   "metadata": {},
   "source": [
    "### Выводы"
   ]
  },
  {
   "attachments": {},
   "cell_type": "markdown",
   "metadata": {},
   "source": [
    "Данные загружены, проведен анализ данных, преобразованны типы данных. Данные подготовлены к моделлированию."
   ]
  },
  {
   "attachments": {},
   "cell_type": "markdown",
   "metadata": {},
   "source": [
    "## Умножение матриц"
   ]
  },
  {
   "attachments": {},
   "cell_type": "markdown",
   "metadata": {},
   "source": [
    "В этом задании вы можете записывать формулы в *Jupyter Notebook.*\n",
    "\n",
    "Чтобы записать формулу внутри текста, окружите её символами доллара \\\\$; если снаружи —  двойными символами \\\\$\\\\$. Эти формулы записываются на языке вёрстки *LaTeX.* \n",
    "\n",
    "Для примера мы записали формулы линейной регрессии. Можете их скопировать и отредактировать, чтобы решить задачу.\n",
    "\n",
    "Работать в *LaTeX* необязательно."
   ]
  },
  {
   "attachments": {},
   "cell_type": "markdown",
   "metadata": {},
   "source": [
    "Обозначения:\n",
    "\n",
    "- $X$ — матрица признаков (нулевой столбец состоит из единиц)\n",
    "\n",
    "- $y$ — вектор целевого признака\n",
    "\n",
    "- $P$ — матрица, на которую умножаются признаки\n",
    "\n",
    "- $w$ — вектор весов линейной регрессии (нулевой элемент равен сдвигу)"
   ]
  },
  {
   "attachments": {},
   "cell_type": "markdown",
   "metadata": {},
   "source": [
    "Предсказания:\n",
    "\n",
    "$$\n",
    "a = Xw\n",
    "$$\n",
    "\n",
    "Задача обучения:\n",
    "\n",
    "$$\n",
    "w = \\arg\\min_w MSE(Xw, y)\n",
    "$$\n",
    "\n",
    "Формула обучения:\n",
    "\n",
    "$$\n",
    "w = (X^T X)^{-1} X^T y\n",
    "$$"
   ]
  },
  {
   "attachments": {},
   "cell_type": "markdown",
   "metadata": {},
   "source": [
    "**Ответ:** модели линейной регрессии не изменяться при перемножении матрицы признаков $X(M, N)$ на обратимую матрицу $P(N, M)$ \n",
    "\n",
    "**Обоснование:** \n",
    "\n",
    "Допустим что:\n",
    "\n",
    "$ X^T X $- обратимая квадратная матрица и по определению матрица $P$ обратима\n",
    "\n",
    "тогда используя следующие формулы:\n",
    "$$\n",
    "(A B)^T = A^T B^T\n",
    "$$\n",
    "\n",
    "$$\n",
    "(A B)^{-1} = A^{-1} B^{-1} \n",
    "$$\n",
    "\n",
    "$$\n",
    "A^{-1} A = E\n",
    "$$\n",
    "\n",
    "Подставим $X P$ в формулы обучения:\n",
    "\n",
    "$$\n",
    "a = Xw = XEw = XPP^{-1}w = (XP)P^{-1}w = (XP)w'\n",
    "$$\n",
    "\n",
    "$$\n",
    "w' = ((X P)^T X P)^{-1} (X P)^T y\n",
    "$$\n",
    "\n",
    "$$\n",
    "a = X P (P^T X^T X P)^{-1} P^T X^T y = X P P^{-1} (X^T X)^{-1} (P^T)^{-1} P^T X^T y\n",
    "$$\n",
    "\n",
    "$$\n",
    "= X (X^T X)^{-1} (P^{-1})^T P^T X^T y = X (X^T X)^{-1} (P P^{-1})^T X^T y \n",
    "$$\n",
    "\n",
    "\n",
    "$$\n",
    " = X (X^T X)^{-1} X^T y = a\n",
    "$$"
   ]
  },
  {
   "attachments": {},
   "cell_type": "markdown",
   "metadata": {},
   "source": [
    "### Выводы"
   ]
  },
  {
   "attachments": {},
   "cell_type": "markdown",
   "metadata": {},
   "source": [
    "С теоритеческой стороны домножение матрицы признаков на обратимую матрицу не повлияет на качество модели с алгоритмом линейной регрессии."
   ]
  },
  {
   "attachments": {},
   "cell_type": "markdown",
   "metadata": {},
   "source": [
    "## Алгоритм преобразования"
   ]
  },
  {
   "attachments": {},
   "cell_type": "markdown",
   "metadata": {},
   "source": [
    "**Алгоритм**\n",
    "\n",
    "* Разделение данных на матрицу признаков и вектор таргета \n",
    "* Создание матрицы P размерностью (4, 4)\n",
    "* Создание обратной матрицы P\n",
    "* Создание преобразованной матрицы признаков, с помощью умножения оригинальной матрицы на обратную матрицу P\n",
    "* Создание модели на основе оригинальной матрицы признаков и ее оценка по метрике R2\n",
    "* Создание модели на основе преобразованной матрицы признаков и ее оценка по метрике R2\n",
    "* Сравнение метрик"
   ]
  },
  {
   "attachments": {},
   "cell_type": "markdown",
   "metadata": {},
   "source": [
    "**Обоснование**\n",
    "\n",
    "Если метрики будут одинаковыми - это будет означать, что домножение матрицы признаков на обратимую матрицу не повлияет на качество модели с алгоритмом линейной регрессии."
   ]
  },
  {
   "attachments": {},
   "cell_type": "markdown",
   "metadata": {},
   "source": [
    "### Выводы"
   ]
  },
  {
   "attachments": {},
   "cell_type": "markdown",
   "metadata": {},
   "source": [
    "Разработан алгоритм подтверждения теории о том что для защиты данных возможно домножить матрицу признаков на обратимую матрицу и это не повлияет на качество модели с алгоритмом линейной регрессии."
   ]
  },
  {
   "attachments": {},
   "cell_type": "markdown",
   "metadata": {},
   "source": [
    "## Проверка алгоритма"
   ]
  },
  {
   "attachments": {},
   "cell_type": "markdown",
   "metadata": {},
   "source": [
    "Создадим обратимую матрицу"
   ]
  },
  {
   "cell_type": "code",
   "execution_count": 12,
   "metadata": {},
   "outputs": [
    {
     "data": {
      "text/plain": [
       "array([[ 0.03942465, -0.07488754,  0.66910756, -1.15215726],\n",
       "       [ 0.2579871 ,  1.32715242, -1.40170544, -0.06213597],\n",
       "       [-0.12211338, -0.4104478 , -0.21913409, -0.82470132],\n",
       "       [-0.03891308, -0.14852594, -0.78816818,  0.32498045]])"
      ]
     },
     "metadata": {},
     "output_type": "display_data"
    }
   ],
   "source": [
    "features = df.drop('Страховые выплаты', axis=1)\n",
    "target = df['Страховые выплаты']\n",
    "\n",
    "P = np.random.normal(size = (4,4))\n",
    "\n",
    "display(P)"
   ]
  },
  {
   "cell_type": "code",
   "execution_count": 13,
   "metadata": {
    "scrolled": false
   },
   "outputs": [
    {
     "data": {
      "text/plain": [
       "array([[ 12.56863971,  -1.03652391, -11.31082181,  15.65815535],\n",
       "       [ -2.75251618,   0.76767732,   2.09884353,  -4.28552577],\n",
       "       [ -0.27428975,  -0.16920459,  -0.06957584,  -1.1813569 ],\n",
       "       [ -0.4182467 ,  -0.18362956,  -0.56386063,   0.12827669]])"
      ]
     },
     "metadata": {},
     "output_type": "display_data"
    }
   ],
   "source": [
    "reverse_P = np.linalg.inv(P)\n",
    "\n",
    "display(reverse_P)"
   ]
  },
  {
   "attachments": {},
   "cell_type": "markdown",
   "metadata": {},
   "source": [
    "Посмотрим как выглядит преобразованная матрица признаков"
   ]
  },
  {
   "cell_type": "code",
   "execution_count": 14,
   "metadata": {
    "scrolled": true
   },
   "outputs": [
    {
     "data": {
      "text/html": [
       "<div>\n",
       "<style scoped>\n",
       "    .dataframe tbody tr th:only-of-type {\n",
       "        vertical-align: middle;\n",
       "    }\n",
       "\n",
       "    .dataframe tbody tr th {\n",
       "        vertical-align: top;\n",
       "    }\n",
       "\n",
       "    .dataframe thead th {\n",
       "        text-align: right;\n",
       "    }\n",
       "</style>\n",
       "<table border=\"1\" class=\"dataframe\">\n",
       "  <thead>\n",
       "    <tr style=\"text-align: right;\">\n",
       "      <th></th>\n",
       "      <th>0</th>\n",
       "      <th>1</th>\n",
       "      <th>2</th>\n",
       "      <th>3</th>\n",
       "    </tr>\n",
       "  </thead>\n",
       "  <tbody>\n",
       "    <tr>\n",
       "      <th>0</th>\n",
       "      <td>-6046.245596</td>\n",
       "      <td>-20304.021146</td>\n",
       "      <td>-10926.640078</td>\n",
       "      <td>-40908.560337</td>\n",
       "    </tr>\n",
       "    <tr>\n",
       "      <th>1</th>\n",
       "      <td>-4628.479894</td>\n",
       "      <td>-15536.115993</td>\n",
       "      <td>-8392.362215</td>\n",
       "      <td>-31341.183521</td>\n",
       "    </tr>\n",
       "    <tr>\n",
       "      <th>2</th>\n",
       "      <td>-2556.899325</td>\n",
       "      <td>-8580.916423</td>\n",
       "      <td>-4642.465445</td>\n",
       "      <td>-17320.529711</td>\n",
       "    </tr>\n",
       "    <tr>\n",
       "      <th>3</th>\n",
       "      <td>-5086.787985</td>\n",
       "      <td>-17088.100197</td>\n",
       "      <td>-9168.903898</td>\n",
       "      <td>-34390.700034</td>\n",
       "    </tr>\n",
       "    <tr>\n",
       "      <th>4</th>\n",
       "      <td>-3179.896118</td>\n",
       "      <td>-10675.602253</td>\n",
       "      <td>-5757.978515</td>\n",
       "      <td>-21527.596476</td>\n",
       "    </tr>\n",
       "    <tr>\n",
       "      <th>...</th>\n",
       "      <td>...</td>\n",
       "      <td>...</td>\n",
       "      <td>...</td>\n",
       "      <td>...</td>\n",
       "    </tr>\n",
       "    <tr>\n",
       "      <th>4995</th>\n",
       "      <td>-4352.301804</td>\n",
       "      <td>-14616.123317</td>\n",
       "      <td>-7863.911268</td>\n",
       "      <td>-29442.927052</td>\n",
       "    </tr>\n",
       "    <tr>\n",
       "      <th>4996</th>\n",
       "      <td>-6390.008391</td>\n",
       "      <td>-21462.490171</td>\n",
       "      <td>-11531.072713</td>\n",
       "      <td>-43216.136930</td>\n",
       "    </tr>\n",
       "    <tr>\n",
       "      <th>4997</th>\n",
       "      <td>-4134.561619</td>\n",
       "      <td>-13887.934493</td>\n",
       "      <td>-7458.256254</td>\n",
       "      <td>-27957.967584</td>\n",
       "    </tr>\n",
       "    <tr>\n",
       "      <th>4998</th>\n",
       "      <td>-3987.509079</td>\n",
       "      <td>-13392.966239</td>\n",
       "      <td>-7198.217812</td>\n",
       "      <td>-26969.277446</td>\n",
       "    </tr>\n",
       "    <tr>\n",
       "      <th>4999</th>\n",
       "      <td>-4950.579021</td>\n",
       "      <td>-16627.243909</td>\n",
       "      <td>-8936.211056</td>\n",
       "      <td>-33485.440669</td>\n",
       "    </tr>\n",
       "  </tbody>\n",
       "</table>\n",
       "<p>5000 rows × 4 columns</p>\n",
       "</div>"
      ],
      "text/plain": [
       "                0             1             2             3\n",
       "0    -6046.245596 -20304.021146 -10926.640078 -40908.560337\n",
       "1    -4628.479894 -15536.115993  -8392.362215 -31341.183521\n",
       "2    -2556.899325  -8580.916423  -4642.465445 -17320.529711\n",
       "3    -5086.787985 -17088.100197  -9168.903898 -34390.700034\n",
       "4    -3179.896118 -10675.602253  -5757.978515 -21527.596476\n",
       "...           ...           ...           ...           ...\n",
       "4995 -4352.301804 -14616.123317  -7863.911268 -29442.927052\n",
       "4996 -6390.008391 -21462.490171 -11531.072713 -43216.136930\n",
       "4997 -4134.561619 -13887.934493  -7458.256254 -27957.967584\n",
       "4998 -3987.509079 -13392.966239  -7198.217812 -26969.277446\n",
       "4999 -4950.579021 -16627.243909  -8936.211056 -33485.440669\n",
       "\n",
       "[5000 rows x 4 columns]"
      ]
     },
     "metadata": {},
     "output_type": "display_data"
    }
   ],
   "source": [
    "reverse_features = features @ P\n",
    "display(reverse_features)"
   ]
  },
  {
   "attachments": {},
   "cell_type": "markdown",
   "metadata": {},
   "source": [
    "Понять возраст, зарплату по таким данным невозможно. Проверим как выглядит восстановленная матрица признаков."
   ]
  },
  {
   "cell_type": "code",
   "execution_count": 15,
   "metadata": {},
   "outputs": [
    {
     "data": {
      "text/html": [
       "<div>\n",
       "<style scoped>\n",
       "    .dataframe tbody tr th:only-of-type {\n",
       "        vertical-align: middle;\n",
       "    }\n",
       "\n",
       "    .dataframe tbody tr th {\n",
       "        vertical-align: top;\n",
       "    }\n",
       "\n",
       "    .dataframe thead th {\n",
       "        text-align: right;\n",
       "    }\n",
       "</style>\n",
       "<table border=\"1\" class=\"dataframe\">\n",
       "  <thead>\n",
       "    <tr style=\"text-align: right;\">\n",
       "      <th></th>\n",
       "      <th>0</th>\n",
       "      <th>1</th>\n",
       "      <th>2</th>\n",
       "      <th>3</th>\n",
       "    </tr>\n",
       "  </thead>\n",
       "  <tbody>\n",
       "    <tr>\n",
       "      <th>0</th>\n",
       "      <td>1.000000e+00</td>\n",
       "      <td>41.0</td>\n",
       "      <td>49600.0</td>\n",
       "      <td>1.000000e+00</td>\n",
       "    </tr>\n",
       "    <tr>\n",
       "      <th>1</th>\n",
       "      <td>7.277844e-12</td>\n",
       "      <td>46.0</td>\n",
       "      <td>38000.0</td>\n",
       "      <td>1.000000e+00</td>\n",
       "    </tr>\n",
       "    <tr>\n",
       "      <th>2</th>\n",
       "      <td>1.210578e-12</td>\n",
       "      <td>29.0</td>\n",
       "      <td>21000.0</td>\n",
       "      <td>-4.309707e-12</td>\n",
       "    </tr>\n",
       "    <tr>\n",
       "      <th>3</th>\n",
       "      <td>8.018021e-12</td>\n",
       "      <td>21.0</td>\n",
       "      <td>41700.0</td>\n",
       "      <td>2.000000e+00</td>\n",
       "    </tr>\n",
       "    <tr>\n",
       "      <th>4</th>\n",
       "      <td>1.000000e+00</td>\n",
       "      <td>28.0</td>\n",
       "      <td>26100.0</td>\n",
       "      <td>5.618461e-12</td>\n",
       "    </tr>\n",
       "  </tbody>\n",
       "</table>\n",
       "</div>"
      ],
      "text/plain": [
       "              0     1        2             3\n",
       "0  1.000000e+00  41.0  49600.0  1.000000e+00\n",
       "1  7.277844e-12  46.0  38000.0  1.000000e+00\n",
       "2  1.210578e-12  29.0  21000.0 -4.309707e-12\n",
       "3  8.018021e-12  21.0  41700.0  2.000000e+00\n",
       "4  1.000000e+00  28.0  26100.0  5.618461e-12"
      ]
     },
     "metadata": {},
     "output_type": "display_data"
    }
   ],
   "source": [
    "recovery_features = reverse_features @ reverse_P\n",
    "display(recovery_features.head())"
   ]
  },
  {
   "cell_type": "code",
   "execution_count": 16,
   "metadata": {},
   "outputs": [
    {
     "name": "stdout",
     "output_type": "stream",
     "text": [
      "Метрика качества линейной регрессии R2 на исходных признаках: 0.42494550308169177\n"
     ]
    }
   ],
   "source": [
    "model = LinearRegression()\n",
    "model.fit(features, target)\n",
    "predictions = model.predict(features)\n",
    "metric1 = r2_score(target, predictions)\n",
    "print('Метрика качества линейной регрессии R2 на исходных признаках:', metric1)"
   ]
  },
  {
   "cell_type": "code",
   "execution_count": 17,
   "metadata": {
    "scrolled": false
   },
   "outputs": [
    {
     "name": "stdout",
     "output_type": "stream",
     "text": [
      "Метрика качества линейной регрессии R2 на исходных признаках с домножением на обратимую матрицу: 0.4249455030816881\n"
     ]
    }
   ],
   "source": [
    "model = LinearRegression()\n",
    "model.fit(reverse_features, target)\n",
    "predictions = model.predict(reverse_features)\n",
    "metric = r2_score(target, predictions)\n",
    "print('Метрика качества линейной регрессии R2 на исходных признаках с домножением на обратимую матрицу:', metric)"
   ]
  },
  {
   "cell_type": "code",
   "execution_count": 18,
   "metadata": {},
   "outputs": [
    {
     "name": "stdout",
     "output_type": "stream",
     "text": [
      "Отклонение метрики линейной регрессии непреобразованной матрицы от преобразованной -8.621660788721649e-15\n"
     ]
    }
   ],
   "source": [
    "print('Отклонение метрики линейной регрессии непреобразованной матрицы от преобразованной', (metric - metric1)/metric1)"
   ]
  },
  {
   "attachments": {},
   "cell_type": "markdown",
   "metadata": {},
   "source": [
    "### Выводы"
   ]
  },
  {
   "attachments": {},
   "cell_type": "markdown",
   "metadata": {},
   "source": [
    "Для шифрования данных теоритически доказан алгоритм преобразования матрицы признаков. Алгоритм был смоделлирован на реальных данных, полученны значения метрик R2 для преобразованных и не преобразованных данных. \n",
    "\n",
    "Отклонение составило -8.621660788721649e-15. \n",
    "\n",
    "Данное отклонение подтверждает теоретический алгоритм для шифрования данных."
   ]
  }
 ],
 "metadata": {
  "ExecuteTimeLog": [
   {
    "duration": 422,
    "start_time": "2023-02-24T13:03:01.079Z"
   },
   {
    "duration": 926,
    "start_time": "2023-02-24T14:30:55.916Z"
   },
   {
    "duration": 82,
    "start_time": "2023-02-24T14:31:43.520Z"
   },
   {
    "duration": 12,
    "start_time": "2023-02-24T14:48:42.696Z"
   },
   {
    "duration": 4,
    "start_time": "2023-02-24T14:49:23.743Z"
   },
   {
    "duration": 4,
    "start_time": "2023-02-24T14:49:50.392Z"
   },
   {
    "duration": 11,
    "start_time": "2023-02-24T14:49:59.972Z"
   },
   {
    "duration": 3,
    "start_time": "2023-02-24T14:50:26.463Z"
   },
   {
    "duration": 13,
    "start_time": "2023-02-24T14:50:39.431Z"
   },
   {
    "duration": 6,
    "start_time": "2023-02-24T14:52:07.973Z"
   },
   {
    "duration": 6,
    "start_time": "2023-02-24T14:56:34.379Z"
   },
   {
    "duration": 6,
    "start_time": "2023-02-24T14:57:38.962Z"
   },
   {
    "duration": 7,
    "start_time": "2023-02-24T14:58:49.499Z"
   },
   {
    "duration": 11,
    "start_time": "2023-02-24T15:17:53.995Z"
   },
   {
    "duration": 9,
    "start_time": "2023-02-24T15:17:58.160Z"
   },
   {
    "duration": 5,
    "start_time": "2023-02-24T15:17:58.837Z"
   },
   {
    "duration": 16,
    "start_time": "2023-02-24T15:17:59.325Z"
   },
   {
    "duration": 13,
    "start_time": "2023-02-24T15:19:41.784Z"
   },
   {
    "duration": 8,
    "start_time": "2023-02-24T15:20:00.979Z"
   },
   {
    "duration": 8,
    "start_time": "2023-02-24T15:20:32.887Z"
   },
   {
    "duration": 5,
    "start_time": "2023-02-24T15:20:42.888Z"
   },
   {
    "duration": 17,
    "start_time": "2023-02-24T15:21:02.183Z"
   },
   {
    "duration": 17,
    "start_time": "2023-02-24T15:21:38.220Z"
   },
   {
    "duration": 23,
    "start_time": "2023-02-24T15:21:49.931Z"
   },
   {
    "duration": 14,
    "start_time": "2023-02-24T15:21:55.759Z"
   },
   {
    "duration": 8,
    "start_time": "2023-02-24T15:22:08.843Z"
   },
   {
    "duration": 13,
    "start_time": "2023-02-24T15:22:19.671Z"
   },
   {
    "duration": 7,
    "start_time": "2023-02-24T15:22:20.842Z"
   },
   {
    "duration": 5,
    "start_time": "2023-02-24T15:22:29.655Z"
   },
   {
    "duration": 8,
    "start_time": "2023-02-24T15:22:31.470Z"
   },
   {
    "duration": 15,
    "start_time": "2023-02-24T15:23:48.373Z"
   },
   {
    "duration": 6,
    "start_time": "2023-02-24T15:23:56.686Z"
   },
   {
    "duration": 14,
    "start_time": "2023-02-24T15:24:10.421Z"
   },
   {
    "duration": 9,
    "start_time": "2023-02-24T15:24:21.093Z"
   },
   {
    "duration": 6,
    "start_time": "2023-02-24T15:24:21.477Z"
   },
   {
    "duration": 9,
    "start_time": "2023-02-24T15:24:21.893Z"
   },
   {
    "duration": 5,
    "start_time": "2023-02-24T15:24:22.589Z"
   },
   {
    "duration": 12,
    "start_time": "2023-02-24T15:24:24.921Z"
   },
   {
    "duration": 6,
    "start_time": "2023-02-24T15:25:15.686Z"
   },
   {
    "duration": 8,
    "start_time": "2023-02-24T15:26:32.652Z"
   },
   {
    "duration": 9,
    "start_time": "2023-02-24T15:27:29.668Z"
   },
   {
    "duration": 14,
    "start_time": "2023-02-24T15:27:32.428Z"
   },
   {
    "duration": 6,
    "start_time": "2023-02-24T15:27:36.728Z"
   },
   {
    "duration": 8,
    "start_time": "2023-02-24T15:27:37.160Z"
   },
   {
    "duration": 11,
    "start_time": "2023-02-24T15:27:38.835Z"
   },
   {
    "duration": 15,
    "start_time": "2023-02-24T15:27:39.222Z"
   },
   {
    "duration": 10,
    "start_time": "2023-02-24T15:27:41.428Z"
   },
   {
    "duration": 15,
    "start_time": "2023-02-24T15:29:30.380Z"
   },
   {
    "duration": 10,
    "start_time": "2023-02-24T15:29:45.300Z"
   },
   {
    "duration": 936,
    "start_time": "2023-02-24T15:31:12.738Z"
   },
   {
    "duration": 728,
    "start_time": "2023-02-24T15:31:44.490Z"
   },
   {
    "duration": 19,
    "start_time": "2023-02-24T15:34:54.321Z"
   },
   {
    "duration": 10,
    "start_time": "2023-02-24T15:34:59.504Z"
   },
   {
    "duration": 9,
    "start_time": "2023-02-24T15:35:09.233Z"
   },
   {
    "duration": 10,
    "start_time": "2023-02-24T15:35:14.704Z"
   },
   {
    "duration": 10,
    "start_time": "2023-02-24T15:38:31.454Z"
   },
   {
    "duration": 9,
    "start_time": "2023-02-24T15:39:27.416Z"
   },
   {
    "duration": 111,
    "start_time": "2023-02-24T15:39:32.516Z"
   },
   {
    "duration": 172,
    "start_time": "2023-02-24T15:39:36.710Z"
   },
   {
    "duration": 437,
    "start_time": "2023-02-24T15:39:46.749Z"
   },
   {
    "duration": 425,
    "start_time": "2023-02-24T15:40:48.637Z"
   },
   {
    "duration": 74,
    "start_time": "2023-02-24T16:30:21.430Z"
   },
   {
    "duration": 94,
    "start_time": "2023-02-24T16:42:47.120Z"
   },
   {
    "duration": 9,
    "start_time": "2023-02-24T16:54:25.237Z"
   },
   {
    "duration": 11,
    "start_time": "2023-02-24T16:54:27.667Z"
   },
   {
    "duration": 9,
    "start_time": "2023-02-24T16:54:28.345Z"
   },
   {
    "duration": 5,
    "start_time": "2023-02-24T16:54:30.177Z"
   },
   {
    "duration": 11,
    "start_time": "2023-02-24T17:00:26.717Z"
   },
   {
    "duration": 1455,
    "start_time": "2023-02-24T17:00:37.177Z"
   },
   {
    "duration": 11,
    "start_time": "2023-02-24T17:00:38.635Z"
   },
   {
    "duration": 5,
    "start_time": "2023-02-24T17:00:38.648Z"
   },
   {
    "duration": 14,
    "start_time": "2023-02-24T17:00:38.654Z"
   },
   {
    "duration": 5,
    "start_time": "2023-02-24T17:00:38.671Z"
   },
   {
    "duration": 722,
    "start_time": "2023-02-24T17:00:38.678Z"
   },
   {
    "duration": 439,
    "start_time": "2023-02-24T17:00:39.401Z"
   },
   {
    "duration": 6,
    "start_time": "2023-02-24T17:00:39.841Z"
   },
   {
    "duration": 7,
    "start_time": "2023-02-24T17:00:39.849Z"
   },
   {
    "duration": 62,
    "start_time": "2023-02-24T17:00:39.858Z"
   },
   {
    "duration": 98,
    "start_time": "2023-02-24T17:00:39.922Z"
   },
   {
    "duration": 15,
    "start_time": "2023-02-24T17:00:40.022Z"
   },
   {
    "duration": 126,
    "start_time": "2023-02-24T17:00:40.103Z"
   },
   {
    "duration": 71,
    "start_time": "2023-02-24T17:00:40.235Z"
   },
   {
    "duration": 9017,
    "start_time": "2023-02-25T06:43:49.904Z"
   },
   {
    "duration": 17,
    "start_time": "2023-02-25T07:00:12.306Z"
   },
   {
    "duration": 110,
    "start_time": "2023-02-25T07:00:12.902Z"
   },
   {
    "duration": 1689,
    "start_time": "2023-02-25T08:46:21.042Z"
   },
   {
    "duration": 16,
    "start_time": "2023-02-25T08:46:22.733Z"
   },
   {
    "duration": 29,
    "start_time": "2023-02-25T08:46:22.751Z"
   },
   {
    "duration": 16,
    "start_time": "2023-02-25T08:46:22.782Z"
   },
   {
    "duration": 10,
    "start_time": "2023-02-25T08:46:22.801Z"
   },
   {
    "duration": 771,
    "start_time": "2023-02-25T08:46:22.813Z"
   },
   {
    "duration": 526,
    "start_time": "2023-02-25T08:46:23.587Z"
   },
   {
    "duration": 8,
    "start_time": "2023-02-25T08:46:24.115Z"
   },
   {
    "duration": 33,
    "start_time": "2023-02-25T08:46:24.124Z"
   },
   {
    "duration": 101,
    "start_time": "2023-02-25T08:46:24.162Z"
   },
   {
    "duration": 21,
    "start_time": "2023-02-25T08:46:24.265Z"
   },
   {
    "duration": 164,
    "start_time": "2023-02-25T08:46:24.289Z"
   },
   {
    "duration": 111,
    "start_time": "2023-02-25T08:46:24.457Z"
   },
   {
    "duration": 189,
    "start_time": "2023-02-25T08:46:24.570Z"
   },
   {
    "duration": 15,
    "start_time": "2023-02-25T08:46:47.487Z"
   },
   {
    "duration": 12,
    "start_time": "2023-02-25T08:46:51.589Z"
   },
   {
    "duration": 11,
    "start_time": "2023-02-25T08:46:51.917Z"
   },
   {
    "duration": 3,
    "start_time": "2023-02-25T08:46:53.964Z"
   },
   {
    "duration": 426,
    "start_time": "2023-02-25T09:21:55.557Z"
   },
   {
    "duration": 24,
    "start_time": "2023-02-25T09:27:18.807Z"
   },
   {
    "duration": 5,
    "start_time": "2023-02-25T09:29:23.509Z"
   },
   {
    "duration": 6,
    "start_time": "2023-02-25T09:30:55.326Z"
   },
   {
    "duration": 6,
    "start_time": "2023-02-25T09:31:33.495Z"
   },
   {
    "duration": 20609,
    "start_time": "2023-02-25T09:36:36.396Z"
   },
   {
    "duration": 1382,
    "start_time": "2023-02-25T09:37:02.810Z"
   },
   {
    "duration": 12,
    "start_time": "2023-02-25T09:37:04.193Z"
   },
   {
    "duration": 11,
    "start_time": "2023-02-25T09:37:04.207Z"
   },
   {
    "duration": 10,
    "start_time": "2023-02-25T09:37:04.220Z"
   },
   {
    "duration": 7,
    "start_time": "2023-02-25T09:37:04.232Z"
   },
   {
    "duration": 690,
    "start_time": "2023-02-25T09:37:04.241Z"
   },
   {
    "duration": 26404,
    "start_time": "2023-02-25T09:37:04.933Z"
   },
   {
    "duration": 364,
    "start_time": "2023-02-25T09:37:31.339Z"
   },
   {
    "duration": 6,
    "start_time": "2023-02-25T09:37:31.704Z"
   },
   {
    "duration": 27,
    "start_time": "2023-02-25T09:37:31.712Z"
   },
   {
    "duration": 112,
    "start_time": "2023-02-25T09:37:31.755Z"
   },
   {
    "duration": 17,
    "start_time": "2023-02-25T09:37:31.870Z"
   },
   {
    "duration": 77,
    "start_time": "2023-02-25T09:37:31.889Z"
   },
   {
    "duration": 116,
    "start_time": "2023-02-25T09:37:31.970Z"
   },
   {
    "duration": 187,
    "start_time": "2023-02-25T09:37:32.088Z"
   },
   {
    "duration": 16976,
    "start_time": "2023-02-25T09:37:46.404Z"
   },
   {
    "duration": 129,
    "start_time": "2023-02-25T09:38:39.287Z"
   },
   {
    "duration": 99,
    "start_time": "2023-02-25T09:39:13.656Z"
   },
   {
    "duration": 27903,
    "start_time": "2023-02-25T09:39:36.319Z"
   },
   {
    "duration": 109,
    "start_time": "2023-02-25T09:41:44.186Z"
   },
   {
    "duration": 5,
    "start_time": "2023-02-25T09:42:04.531Z"
   },
   {
    "duration": 12,
    "start_time": "2023-02-25T09:42:25.291Z"
   },
   {
    "duration": 6,
    "start_time": "2023-02-25T09:43:52.680Z"
   },
   {
    "duration": 95,
    "start_time": "2023-02-25T09:44:10.103Z"
   },
   {
    "duration": 132,
    "start_time": "2023-02-25T09:44:35.282Z"
   },
   {
    "duration": 108,
    "start_time": "2023-02-25T09:45:20.110Z"
   },
   {
    "duration": 1410,
    "start_time": "2023-02-25T09:48:34.479Z"
   },
   {
    "duration": 13,
    "start_time": "2023-02-25T09:48:35.891Z"
   },
   {
    "duration": 7,
    "start_time": "2023-02-25T09:48:35.906Z"
   },
   {
    "duration": 13,
    "start_time": "2023-02-25T09:48:35.914Z"
   },
   {
    "duration": 6,
    "start_time": "2023-02-25T09:48:35.929Z"
   },
   {
    "duration": 133,
    "start_time": "2023-02-25T09:48:35.936Z"
   },
   {
    "duration": 109,
    "start_time": "2023-02-25T09:48:36.071Z"
   },
   {
    "duration": 118,
    "start_time": "2023-02-25T09:48:36.182Z"
   },
   {
    "duration": 137,
    "start_time": "2023-02-25T09:48:36.301Z"
   },
   {
    "duration": 132,
    "start_time": "2023-02-25T09:48:36.440Z"
   },
   {
    "duration": 422,
    "start_time": "2023-02-25T09:48:36.574Z"
   },
   {
    "duration": 6,
    "start_time": "2023-02-25T09:48:36.998Z"
   },
   {
    "duration": 12,
    "start_time": "2023-02-25T09:48:37.005Z"
   },
   {
    "duration": 20,
    "start_time": "2023-02-25T09:48:37.052Z"
   },
   {
    "duration": 90,
    "start_time": "2023-02-25T09:48:37.075Z"
   },
   {
    "duration": 89,
    "start_time": "2023-02-25T09:48:37.167Z"
   },
   {
    "duration": 108,
    "start_time": "2023-02-25T09:48:37.258Z"
   },
   {
    "duration": 91,
    "start_time": "2023-02-25T09:48:37.369Z"
   }
  ],
  "kernelspec": {
   "display_name": "Python 3 (ipykernel)",
   "language": "python",
   "name": "python3"
  },
  "language_info": {
   "codemirror_mode": {
    "name": "ipython",
    "version": 3
   },
   "file_extension": ".py",
   "mimetype": "text/x-python",
   "name": "python",
   "nbconvert_exporter": "python",
   "pygments_lexer": "ipython3",
   "version": "3.9.5"
  },
  "toc": {
   "base_numbering": 1,
   "nav_menu": {},
   "number_sections": true,
   "sideBar": true,
   "skip_h1_title": true,
   "title_cell": "Содержание",
   "title_sidebar": "Contents",
   "toc_cell": true,
   "toc_position": {
    "height": "calc(100% - 180px)",
    "left": "10px",
    "top": "150px",
    "width": "233.188px"
   },
   "toc_section_display": true,
   "toc_window_display": true
  }
 },
 "nbformat": 4,
 "nbformat_minor": 2
}
