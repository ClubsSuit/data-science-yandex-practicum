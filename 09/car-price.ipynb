{
 "cells": [
  {
   "attachments": {},
   "cell_type": "markdown",
   "metadata": {},
   "source": [
    "# Определение стоимости автомобилей"
   ]
  },
  {
   "attachments": {},
   "cell_type": "markdown",
   "metadata": {},
   "source": [
    "Сервис по продаже автомобилей с пробегом «Не бит, не крашен» разрабатывает приложение для привлечения новых клиентов. В нём можно быстро узнать рыночную стоимость своего автомобиля. В вашем распоряжении исторические данные: технические характеристики, комплектации и цены автомобилей. Вам нужно построить модель для определения стоимости. \n",
    "\n",
    "Заказчику важны:\n",
    "\n",
    "- качество предсказания;\n",
    "- скорость предсказания;\n",
    "- время обучения."
   ]
  },
  {
   "attachments": {},
   "cell_type": "markdown",
   "metadata": {},
   "source": [
    "**Признаки**\n",
    "\n",
    "* DateCrawled — дата скачивания анкеты из базы\n",
    "* VehicleType — тип автомобильного кузова\n",
    "* RegistrationYear — год регистрации автомобиля\n",
    "* Gearbox — тип коробки передач\n",
    "* Power — мощность (л. с.)\n",
    "* Model — модель автомобиля\n",
    "* Kilometer — пробег (км)\n",
    "* RegistrationMonth — месяц регистрации автомобиля\n",
    "* FuelType — тип топлива\n",
    "* Brand — марка автомобиля\n",
    "* Repaired — была машина в ремонте или нет\n",
    "* DateCreated — дата создания анкеты\n",
    "* NumberOfPictures — количество фотографий автомобиля\n",
    "* PostalCode — почтовый индекс владельца анкеты (пользователя)\n",
    "* LastSeen — дата последней активности пользователя\n",
    "\n",
    "**Целевой признак**\n",
    "\n",
    "* Price — цена (евро)"
   ]
  },
  {
   "attachments": {},
   "cell_type": "markdown",
   "metadata": {},
   "source": [
    "## Подготовка данных"
   ]
  },
  {
   "cell_type": "code",
   "execution_count": 1,
   "metadata": {},
   "outputs": [],
   "source": [
    "import os\n",
    "import time\n",
    "\n",
    "import pandas as pd\n",
    "import numpy as np\n",
    "import seaborn as sns\n",
    "import matplotlib.pyplot as plt\n",
    "import sklearn.metrics\n",
    "\n",
    "from sklearn.model_selection import train_test_split, GridSearchCV\n",
    "from sklearn.linear_model import Ridge\n",
    "from sklearn.pipeline import Pipeline\n",
    "from sklearn.preprocessing import OneHotEncoder, StandardScaler, LabelEncoder\n",
    "from sklearn.metrics import mean_squared_error as mse\n",
    "\n",
    "from lightgbm import LGBMRegressor\n",
    "import lightgbm as lgb"
   ]
  },
  {
   "cell_type": "code",
   "execution_count": 2,
   "metadata": {
    "scrolled": false
   },
   "outputs": [
    {
     "name": "stdout",
     "output_type": "stream",
     "text": [
      "<class 'pandas.core.frame.DataFrame'>\n",
      "RangeIndex: 354369 entries, 0 to 354368\n",
      "Data columns (total 16 columns):\n",
      " #   Column             Non-Null Count   Dtype \n",
      "---  ------             --------------   ----- \n",
      " 0   DateCrawled        354369 non-null  object\n",
      " 1   Price              354369 non-null  int64 \n",
      " 2   VehicleType        316879 non-null  object\n",
      " 3   RegistrationYear   354369 non-null  int64 \n",
      " 4   Gearbox            334536 non-null  object\n",
      " 5   Power              354369 non-null  int64 \n",
      " 6   Model              334664 non-null  object\n",
      " 7   Kilometer          354369 non-null  int64 \n",
      " 8   RegistrationMonth  354369 non-null  int64 \n",
      " 9   FuelType           321474 non-null  object\n",
      " 10  Brand              354369 non-null  object\n",
      " 11  Repaired           283215 non-null  object\n",
      " 12  DateCreated        354369 non-null  object\n",
      " 13  NumberOfPictures   354369 non-null  int64 \n",
      " 14  PostalCode         354369 non-null  int64 \n",
      " 15  LastSeen           354369 non-null  object\n",
      "dtypes: int64(7), object(9)\n",
      "memory usage: 43.3+ MB\n"
     ]
    }
   ],
   "source": [
    "df = pd.read_csv('autos.csv')\n",
    "\n",
    "df.info()"
   ]
  },
  {
   "cell_type": "code",
   "execution_count": 3,
   "metadata": {
    "scrolled": false
   },
   "outputs": [
    {
     "data": {
      "text/html": [
       "<div>\n",
       "<style scoped>\n",
       "    .dataframe tbody tr th:only-of-type {\n",
       "        vertical-align: middle;\n",
       "    }\n",
       "\n",
       "    .dataframe tbody tr th {\n",
       "        vertical-align: top;\n",
       "    }\n",
       "\n",
       "    .dataframe thead th {\n",
       "        text-align: right;\n",
       "    }\n",
       "</style>\n",
       "<table border=\"1\" class=\"dataframe\">\n",
       "  <thead>\n",
       "    <tr style=\"text-align: right;\">\n",
       "      <th></th>\n",
       "      <th>count</th>\n",
       "      <th>mean</th>\n",
       "      <th>std</th>\n",
       "      <th>min</th>\n",
       "      <th>25%</th>\n",
       "      <th>50%</th>\n",
       "      <th>75%</th>\n",
       "      <th>max</th>\n",
       "    </tr>\n",
       "  </thead>\n",
       "  <tbody>\n",
       "    <tr>\n",
       "      <th>Price</th>\n",
       "      <td>354369.0</td>\n",
       "      <td>4416.656776</td>\n",
       "      <td>4514.158514</td>\n",
       "      <td>0.0</td>\n",
       "      <td>1050.0</td>\n",
       "      <td>2700.0</td>\n",
       "      <td>6400.0</td>\n",
       "      <td>20000.0</td>\n",
       "    </tr>\n",
       "    <tr>\n",
       "      <th>RegistrationYear</th>\n",
       "      <td>354369.0</td>\n",
       "      <td>2004.234448</td>\n",
       "      <td>90.227958</td>\n",
       "      <td>1000.0</td>\n",
       "      <td>1999.0</td>\n",
       "      <td>2003.0</td>\n",
       "      <td>2008.0</td>\n",
       "      <td>9999.0</td>\n",
       "    </tr>\n",
       "    <tr>\n",
       "      <th>Power</th>\n",
       "      <td>354369.0</td>\n",
       "      <td>110.094337</td>\n",
       "      <td>189.850405</td>\n",
       "      <td>0.0</td>\n",
       "      <td>69.0</td>\n",
       "      <td>105.0</td>\n",
       "      <td>143.0</td>\n",
       "      <td>20000.0</td>\n",
       "    </tr>\n",
       "    <tr>\n",
       "      <th>Kilometer</th>\n",
       "      <td>354369.0</td>\n",
       "      <td>128211.172535</td>\n",
       "      <td>37905.341530</td>\n",
       "      <td>5000.0</td>\n",
       "      <td>125000.0</td>\n",
       "      <td>150000.0</td>\n",
       "      <td>150000.0</td>\n",
       "      <td>150000.0</td>\n",
       "    </tr>\n",
       "    <tr>\n",
       "      <th>RegistrationMonth</th>\n",
       "      <td>354369.0</td>\n",
       "      <td>5.714645</td>\n",
       "      <td>3.726421</td>\n",
       "      <td>0.0</td>\n",
       "      <td>3.0</td>\n",
       "      <td>6.0</td>\n",
       "      <td>9.0</td>\n",
       "      <td>12.0</td>\n",
       "    </tr>\n",
       "    <tr>\n",
       "      <th>NumberOfPictures</th>\n",
       "      <td>354369.0</td>\n",
       "      <td>0.000000</td>\n",
       "      <td>0.000000</td>\n",
       "      <td>0.0</td>\n",
       "      <td>0.0</td>\n",
       "      <td>0.0</td>\n",
       "      <td>0.0</td>\n",
       "      <td>0.0</td>\n",
       "    </tr>\n",
       "    <tr>\n",
       "      <th>PostalCode</th>\n",
       "      <td>354369.0</td>\n",
       "      <td>50508.689087</td>\n",
       "      <td>25783.096248</td>\n",
       "      <td>1067.0</td>\n",
       "      <td>30165.0</td>\n",
       "      <td>49413.0</td>\n",
       "      <td>71083.0</td>\n",
       "      <td>99998.0</td>\n",
       "    </tr>\n",
       "  </tbody>\n",
       "</table>\n",
       "</div>"
      ],
      "text/plain": [
       "                      count           mean           std     min       25%  \\\n",
       "Price              354369.0    4416.656776   4514.158514     0.0    1050.0   \n",
       "RegistrationYear   354369.0    2004.234448     90.227958  1000.0    1999.0   \n",
       "Power              354369.0     110.094337    189.850405     0.0      69.0   \n",
       "Kilometer          354369.0  128211.172535  37905.341530  5000.0  125000.0   \n",
       "RegistrationMonth  354369.0       5.714645      3.726421     0.0       3.0   \n",
       "NumberOfPictures   354369.0       0.000000      0.000000     0.0       0.0   \n",
       "PostalCode         354369.0   50508.689087  25783.096248  1067.0   30165.0   \n",
       "\n",
       "                        50%       75%       max  \n",
       "Price                2700.0    6400.0   20000.0  \n",
       "RegistrationYear     2003.0    2008.0    9999.0  \n",
       "Power                 105.0     143.0   20000.0  \n",
       "Kilometer          150000.0  150000.0  150000.0  \n",
       "RegistrationMonth       6.0       9.0      12.0  \n",
       "NumberOfPictures        0.0       0.0       0.0  \n",
       "PostalCode          49413.0   71083.0   99998.0  "
      ]
     },
     "execution_count": 3,
     "metadata": {},
     "output_type": "execute_result"
    }
   ],
   "source": [
    "df.describe().T"
   ]
  },
  {
   "cell_type": "code",
   "execution_count": 4,
   "metadata": {},
   "outputs": [],
   "source": [
    "df_orig_shape = df.shape"
   ]
  },
  {
   "attachments": {},
   "cell_type": "markdown",
   "metadata": {},
   "source": [
    "Удалим колонки, которые не влияют на цену автомобиля ```DateCrawled, DateCreated, LastSeen, NumberOfPictures```, последнию удаляем так как признак содержит только одно значение \"0\""
   ]
  },
  {
   "cell_type": "code",
   "execution_count": 6,
   "metadata": {},
   "outputs": [
    {
     "data": {
      "text/plain": [
       "(354369, 10)"
      ]
     },
     "execution_count": 6,
     "metadata": {},
     "output_type": "execute_result"
    }
   ],
   "source": [
    "df = df.drop(columns=['DateCrawled', 'LastSeen', 'DateCreated', 'NumberOfPictures', 'PostalCode', 'RegistrationMonth'])\n",
    "df.shape"
   ]
  },
  {
   "attachments": {},
   "cell_type": "markdown",
   "metadata": {},
   "source": [
    "Удалим явные дубликаты"
   ]
  },
  {
   "cell_type": "code",
   "execution_count": 7,
   "metadata": {},
   "outputs": [
    {
     "data": {
      "text/plain": [
       "(309329, 10)"
      ]
     },
     "execution_count": 7,
     "metadata": {},
     "output_type": "execute_result"
    }
   ],
   "source": [
    "df = df.drop_duplicates()\n",
    "df.shape"
   ]
  },
  {
   "attachments": {},
   "cell_type": "markdown",
   "metadata": {},
   "source": [
    "Разделим признаки на категориальные и количественные "
   ]
  },
  {
   "cell_type": "code",
   "execution_count": 8,
   "metadata": {},
   "outputs": [],
   "source": [
    "numerical_features = ['Power', 'Kilometer', 'RegistrationYear']\n",
    "categorial_features = ['VehicleType', 'Gearbox', 'Model', 'FuelType',\n",
    "                       'Brand', 'Repaired']"
   ]
  },
  {
   "attachments": {},
   "cell_type": "markdown",
   "metadata": {},
   "source": [
    "Определим количество пропусков в данных"
   ]
  },
  {
   "cell_type": "code",
   "execution_count": 9,
   "metadata": {
    "scrolled": false
   },
   "outputs": [
    {
     "name": "stdout",
     "output_type": "stream",
     "text": [
      "Столбец Price содержит 0 пропусков - это 0.00% от общего числа\n",
      "Столбец VehicleType содержит 34559 пропусков - это 11.17% от общего числа\n",
      "Столбец RegistrationYear содержит 0 пропусков - это 0.00% от общего числа\n",
      "Столбец Gearbox содержит 17207 пропусков - это 5.56% от общего числа\n",
      "Столбец Power содержит 0 пропусков - это 0.00% от общего числа\n",
      "Столбец Model содержит 18361 пропусков - это 5.94% от общего числа\n",
      "Столбец Kilometer содержит 0 пропусков - это 0.00% от общего числа\n",
      "Столбец FuelType содержит 30764 пропусков - это 9.95% от общего числа\n",
      "Столбец Brand содержит 0 пропусков - это 0.00% от общего числа\n",
      "Столбец Repaired содержит 64558 пропусков - это 20.87% от общего числа\n"
     ]
    }
   ],
   "source": [
    "for index in df.columns:\n",
    "    print('Столбец {} содержит {} пропусков - это {:.2%} от общего числа'.format(index, df[index].isna().sum(), df[index].isna().sum()/df.shape[0]))"
   ]
  },
  {
   "cell_type": "code",
   "execution_count": 10,
   "metadata": {
    "scrolled": false
   },
   "outputs": [
    {
     "data": {
      "image/png": "[encoded data removed]",
      "text/plain": [
       "<Figure size 1200x300 with 1 Axes>"
      ]
     },
     "metadata": {},
     "output_type": "display_data"
    }
   ],
   "source": [
    "df.isna().mean().plot.bar(figsize=(12, 3))\n",
    "plt.ylabel('Процент пропущенных данных')\n",
    "plt.xlabel('Признаки')\n",
    "plt.title('Количество пропусков')\n",
    "plt.show()"
   ]
  },
  {
   "attachments": {},
   "cell_type": "markdown",
   "metadata": {},
   "source": [
    "Оценим количество уникальных знначений в категориальных признаках"
   ]
  },
  {
   "attachments": {},
   "cell_type": "markdown",
   "metadata": {},
   "source": [
    "Признак ```RegistrationYear```"
   ]
  },
  {
   "cell_type": "code",
   "execution_count": 11,
   "metadata": {
    "scrolled": false
   },
   "outputs": [
    {
     "name": "stdout",
     "output_type": "stream",
     "text": [
      "[1000 1001 1039 1111 1200 1234 1253 1255 1300 1400 1500 1600 1602 1688\n",
      " 1800 1910 1915 1919 1920 1923 1925 1927 1928 1929 1930 1931 1932 1933\n",
      " 1934 1935 1936 1937 1938 1940 1941 1942 1943 1944 1945 1946 1947 1948\n",
      " 1949 1950 1951 1952 1953 1954 1955 1956 1957 1958 1959 1960 1961 1962\n",
      " 1963 1964 1965 1966 1967 1968 1969 1970 1971 1972 1973 1974 1975 1976\n",
      " 1977 1978 1979 1980 1981 1982 1983 1984 1985 1986 1987 1988 1989 1990\n",
      " 1991 1992 1993 1994 1995 1996 1997 1998 1999 2000 2001 2002 2003 2004\n",
      " 2005 2006 2007 2008 2009 2010 2011 2012 2013 2014 2015 2016 2017 2018\n",
      " 2019 2066 2200 2222 2290 2500 2800 2900 3000 3200 3500 3700 3800 4000\n",
      " 4100 4500 4800 5000 5300 5555 5600 5900 5911 6000 6500 7000 7100 7500\n",
      " 7800 8000 8200 8455 8500 8888 9000 9229 9450 9996 9999]\n"
     ]
    }
   ],
   "source": [
    "print(np.sort(df['RegistrationYear'].unique()))"
   ]
  },
  {
   "cell_type": "code",
   "execution_count": 12,
   "metadata": {
    "scrolled": false
   },
   "outputs": [
    {
     "data": {
      "image/png": "[encoded data removed]",
      "text/plain": [
       "<Figure size 1500x500 with 1 Axes>"
      ]
     },
     "metadata": {},
     "output_type": "display_data"
    }
   ],
   "source": [
    "sns.set(rc={'figure.figsize':(15, 5)})\n",
    "fig, ax = plt.subplots()\n",
    "sns.boxplot(data=df, x='RegistrationYear', ax=ax)\n",
    "ax.set_xlim(1950, 2066)\n",
    "plt.show()"
   ]
  },
  {
   "cell_type": "code",
   "execution_count": 13,
   "metadata": {},
   "outputs": [
    {
     "data": {
      "text/plain": [
       "(280827, 10)"
      ]
     },
     "execution_count": 13,
     "metadata": {},
     "output_type": "execute_result"
    }
   ],
   "source": [
    "df = df.loc[(df['RegistrationYear'] <= 2016) & (df['RegistrationYear'] > 1985)]\n",
    "df.shape"
   ]
  },
  {
   "attachments": {},
   "cell_type": "markdown",
   "metadata": {},
   "source": [
    "Признак ```Power```"
   ]
  },
  {
   "cell_type": "code",
   "execution_count": 14,
   "metadata": {
    "scrolled": false
   },
   "outputs": [
    {
     "data": {
      "image/png": "[encoded data removed]",
      "text/plain": [
       "<Figure size 1500x500 with 1 Axes>"
      ]
     },
     "metadata": {},
     "output_type": "display_data"
    }
   ],
   "source": [
    "fig, ax = plt.subplots()\n",
    "sns.boxplot(data=df, x='Power', ax=ax)\n",
    "ax.set_xlim(1, 300)\n",
    "plt.show()"
   ]
  },
  {
   "cell_type": "code",
   "execution_count": 15,
   "metadata": {},
   "outputs": [
    {
     "data": {
      "text/plain": [
       "(249068, 10)"
      ]
     },
     "execution_count": 15,
     "metadata": {},
     "output_type": "execute_result"
    }
   ],
   "source": [
    "df = df.loc[(df['Power'] < 300) & (df['Power'] > 30)]\n",
    "df.shape"
   ]
  },
  {
   "attachments": {},
   "cell_type": "markdown",
   "metadata": {},
   "source": [
    "Рассмотрим признак ```Kilometer```"
   ]
  },
  {
   "cell_type": "code",
   "execution_count": 16,
   "metadata": {
    "scrolled": false
   },
   "outputs": [
    {
     "data": {
      "image/png": "[encoded data removed]",
      "text/plain": [
       "<Figure size 1500x500 with 1 Axes>"
      ]
     },
     "metadata": {},
     "output_type": "display_data"
    }
   ],
   "source": [
    "sns.boxplot(data=df, x='Kilometer')\n",
    "plt.show()"
   ]
  },
  {
   "cell_type": "code",
   "execution_count": 17,
   "metadata": {},
   "outputs": [
    {
     "data": {
      "text/plain": [
       "(210178, 10)"
      ]
     },
     "execution_count": 17,
     "metadata": {},
     "output_type": "execute_result"
    }
   ],
   "source": [
    "df = df.loc[(df['Kilometer'] > 85000)]\n",
    "df.shape"
   ]
  },
  {
   "attachments": {},
   "cell_type": "markdown",
   "metadata": {},
   "source": [
    "Признак ```Price```"
   ]
  },
  {
   "cell_type": "code",
   "execution_count": 18,
   "metadata": {
    "scrolled": false
   },
   "outputs": [
    {
     "data": {
      "image/png": "[encoded data removed]",
      "text/plain": [
       "<Figure size 1500x500 with 1 Axes>"
      ]
     },
     "metadata": {},
     "output_type": "display_data"
    }
   ],
   "source": [
    "sns.set(rc={'figure.figsize':(15, 5)})\n",
    "sns.histplot(data=df, x='Price')\n",
    "plt.show()"
   ]
  },
  {
   "cell_type": "code",
   "execution_count": 19,
   "metadata": {},
   "outputs": [
    {
     "data": {
      "text/plain": [
       "<AxesSubplot: xlabel='Price'>"
      ]
     },
     "execution_count": 19,
     "metadata": {},
     "output_type": "execute_result"
    },
    {
     "data": {
      "image/png": "[encoded data removed]",
      "text/plain": [
       "<Figure size 1500x500 with 1 Axes>"
      ]
     },
     "metadata": {},
     "output_type": "display_data"
    }
   ],
   "source": [
    "sns.boxplot(data=df, x='Price')"
   ]
  },
  {
   "attachments": {},
   "cell_type": "markdown",
   "metadata": {},
   "source": [
    "Нулевая цена это явная ошибка заполнения данных, удалим эти объявления из данных."
   ]
  },
  {
   "cell_type": "code",
   "execution_count": 20,
   "metadata": {},
   "outputs": [
    {
     "data": {
      "text/plain": [
       "(210178, 10)"
      ]
     },
     "execution_count": 20,
     "metadata": {},
     "output_type": "execute_result"
    }
   ],
   "source": [
    "df = df.loc[(df['Price'] != 0) | (df['Price'] < 15000)]\n",
    "df.shape"
   ]
  },
  {
   "attachments": {},
   "cell_type": "markdown",
   "metadata": {},
   "source": [
    "Признак ```Model```"
   ]
  },
  {
   "attachments": {},
   "cell_type": "markdown",
   "metadata": {},
   "source": [
    "Пропуски в этом признаки заполнить не получится, так что удалим эти строки"
   ]
  },
  {
   "cell_type": "code",
   "execution_count": 21,
   "metadata": {
    "scrolled": true
   },
   "outputs": [
    {
     "data": {
      "text/plain": [
       "8410"
      ]
     },
     "execution_count": 21,
     "metadata": {},
     "output_type": "execute_result"
    }
   ],
   "source": [
    "df['Model'].isna().sum()"
   ]
  },
  {
   "cell_type": "code",
   "execution_count": 22,
   "metadata": {},
   "outputs": [],
   "source": [
    "df = df[~df['Model'].isna()]"
   ]
  },
  {
   "attachments": {},
   "cell_type": "markdown",
   "metadata": {},
   "source": [
    "Признак ```Brand```"
   ]
  },
  {
   "attachments": {},
   "cell_type": "markdown",
   "metadata": {},
   "source": [
    "Пропусков в этом признаке нету"
   ]
  },
  {
   "cell_type": "code",
   "execution_count": 23,
   "metadata": {},
   "outputs": [
    {
     "data": {
      "text/plain": [
       "0"
      ]
     },
     "execution_count": 23,
     "metadata": {},
     "output_type": "execute_result"
    }
   ],
   "source": [
    "df['Brand'].isna().sum()"
   ]
  },
  {
   "attachments": {},
   "cell_type": "markdown",
   "metadata": {},
   "source": [
    "Признаки ```VehicleType, Gearbox, FuelType```"
   ]
  },
  {
   "attachments": {},
   "cell_type": "markdown",
   "metadata": {},
   "source": [
    "Пропуски в признаках заполним модой значений с схожими признаками ```Brand, Model```"
   ]
  },
  {
   "cell_type": "code",
   "execution_count": 24,
   "metadata": {},
   "outputs": [],
   "source": [
    "df['VehicleType'] = df['VehicleType'].fillna(df.groupby('Model')['VehicleType'].transform(lambda x: x.value_counts().idxmax()))"
   ]
  },
  {
   "cell_type": "code",
   "execution_count": 25,
   "metadata": {},
   "outputs": [],
   "source": [
    "df['Gearbox'] = df['Gearbox'].fillna(df.groupby('Model')['VehicleType'].transform(lambda x: x.value_counts().idxmax()))"
   ]
  },
  {
   "cell_type": "code",
   "execution_count": 26,
   "metadata": {},
   "outputs": [],
   "source": [
    "df['FuelType'] = df['FuelType'].fillna(df.groupby('Model')['VehicleType'].transform(lambda x: x.value_counts().idxmax()))"
   ]
  },
  {
   "cell_type": "code",
   "execution_count": 27,
   "metadata": {
    "scrolled": true
   },
   "outputs": [
    {
     "name": "stdout",
     "output_type": "stream",
     "text": [
      "Процент предобработанных данных к исходным - 48.21%\n"
     ]
    }
   ],
   "source": [
    "print('Процент предобработанных данных к исходным - {:.2%}'.format(df.dropna(axis=0).shape[0]/df_orig_shape[0]))"
   ]
  },
  {
   "cell_type": "code",
   "execution_count": 28,
   "metadata": {},
   "outputs": [
    {
     "data": {
      "text/plain": [
       "170850"
      ]
     },
     "execution_count": 28,
     "metadata": {},
     "output_type": "execute_result"
    }
   ],
   "source": [
    "df.dropna(axis=0).shape[0]"
   ]
  },
  {
   "attachments": {},
   "cell_type": "markdown",
   "metadata": {},
   "source": [
    "## Обучение моделей"
   ]
  },
  {
   "attachments": {},
   "cell_type": "markdown",
   "metadata": {},
   "source": [
    "Разделим данные на тренировочную и тестовую выборки"
   ]
  },
  {
   "cell_type": "code",
   "execution_count": 29,
   "metadata": {},
   "outputs": [],
   "source": [
    "features = df.drop(['Price'], axis = 1)  \n",
    "target = df['Price'] \n",
    "\n",
    "features_train, features_test, target_train, target_test = train_test_split(features, target, test_size=0.2, random_state=123)"
   ]
  },
  {
   "attachments": {},
   "cell_type": "markdown",
   "metadata": {},
   "source": [
    "Создадим функцию сбора данных о времени обучения и предсказания моделей"
   ]
  },
  {
   "cell_type": "code",
   "execution_count": 30,
   "metadata": {},
   "outputs": [],
   "source": [
    "results = []\n",
    "\n",
    "def time_score(model, model_name, f_train, t_train):\n",
    "    \n",
    "    start_time = time.time()\n",
    "    model.fit(f_train, t_train)\n",
    "    fit_time = time.time() - start_time\n",
    "    \n",
    "    start_time = time.time()\n",
    "    pred_train = model.predict(f_train)\n",
    "    pred_time = time.time() - start_time\n",
    "    \n",
    "    return model_name, fit_time, pred_time, mse(pred_train, t_train)**0.5"
   ]
  },
  {
   "attachments": {},
   "cell_type": "markdown",
   "metadata": {},
   "source": [
    "### Ridge"
   ]
  },
  {
   "attachments": {},
   "cell_type": "markdown",
   "metadata": {},
   "source": [
    "Создадим пайплайн:\n",
    "* Кодирование OneHotEncoder\n",
    "* масштабирование StandardScaler\n",
    "* Обучения алгоритма Ridge"
   ]
  },
  {
   "cell_type": "code",
   "execution_count": 31,
   "metadata": {},
   "outputs": [],
   "source": [
    "pipe = Pipeline([\n",
    "    ('ohe', OneHotEncoder(handle_unknown='ignore')),\n",
    "    ('scaler', StandardScaler(with_mean=False)),\n",
    "    ('model', Ridge(random_state=12345))\n",
    "])\n",
    "\n",
    "params = [\n",
    "    {\n",
    "        'model__alpha': np.arange(1, 40, 10)\n",
    "    } \n",
    "]"
   ]
  },
  {
   "cell_type": "code",
   "execution_count": 32,
   "metadata": {},
   "outputs": [],
   "source": [
    "grid = GridSearchCV(pipe,\n",
    "                    param_grid=params,\n",
    "                    cv=3,\n",
    "                    scoring='neg_mean_squared_error',\n",
    "                    n_jobs=-1,\n",
    "                    verbose=False)"
   ]
  },
  {
   "cell_type": "code",
   "execution_count": 33,
   "metadata": {
    "scrolled": true
   },
   "outputs": [
    {
     "data": {
      "text/html": [
       "<style>#sk-container-id-1 {color: black;background-color: white;}#sk-container-id-1 pre{padding: 0;}#sk-container-id-1 div.sk-toggleable {background-color: white;}#sk-container-id-1 label.sk-toggleable__label {cursor: pointer;display: block;width: 100%;margin-bottom: 0;padding: 0.3em;box-sizing: border-box;text-align: center;}#sk-container-id-1 label.sk-toggleable__label-arrow:before {content: \"▸\";float: left;margin-right: 0.25em;color: #696969;}#sk-container-id-1 label.sk-toggleable__label-arrow:hover:before {color: black;}#sk-container-id-1 div.sk-estimator:hover label.sk-toggleable__label-arrow:before {color: black;}#sk-container-id-1 div.sk-toggleable__content {max-height: 0;max-width: 0;overflow: hidden;text-align: left;background-color: #f0f8ff;}#sk-container-id-1 div.sk-toggleable__content pre {margin: 0.2em;color: black;border-radius: 0.25em;background-color: #f0f8ff;}#sk-container-id-1 input.sk-toggleable__control:checked~div.sk-toggleable__content {max-height: 200px;max-width: 100%;overflow: auto;}#sk-container-id-1 input.sk-toggleable__control:checked~label.sk-toggleable__label-arrow:before {content: \"▾\";}#sk-container-id-1 div.sk-estimator input.sk-toggleable__control:checked~label.sk-toggleable__label {background-color: #d4ebff;}#sk-container-id-1 div.sk-label input.sk-toggleable__control:checked~label.sk-toggleable__label {background-color: #d4ebff;}#sk-container-id-1 input.sk-hidden--visually {border: 0;clip: rect(1px 1px 1px 1px);clip: rect(1px, 1px, 1px, 1px);height: 1px;margin: -1px;overflow: hidden;padding: 0;position: absolute;width: 1px;}#sk-container-id-1 div.sk-estimator {font-family: monospace;background-color: #f0f8ff;border: 1px dotted black;border-radius: 0.25em;box-sizing: border-box;margin-bottom: 0.5em;}#sk-container-id-1 div.sk-estimator:hover {background-color: #d4ebff;}#sk-container-id-1 div.sk-parallel-item::after {content: \"\";width: 100%;border-bottom: 1px solid gray;flex-grow: 1;}#sk-container-id-1 div.sk-label:hover label.sk-toggleable__label {background-color: #d4ebff;}#sk-container-id-1 div.sk-serial::before {content: \"\";position: absolute;border-left: 1px solid gray;box-sizing: border-box;top: 0;bottom: 0;left: 50%;z-index: 0;}#sk-container-id-1 div.sk-serial {display: flex;flex-direction: column;align-items: center;background-color: white;padding-right: 0.2em;padding-left: 0.2em;position: relative;}#sk-container-id-1 div.sk-item {position: relative;z-index: 1;}#sk-container-id-1 div.sk-parallel {display: flex;align-items: stretch;justify-content: center;background-color: white;position: relative;}#sk-container-id-1 div.sk-item::before, #sk-container-id-1 div.sk-parallel-item::before {content: \"\";position: absolute;border-left: 1px solid gray;box-sizing: border-box;top: 0;bottom: 0;left: 50%;z-index: -1;}#sk-container-id-1 div.sk-parallel-item {display: flex;flex-direction: column;z-index: 1;position: relative;background-color: white;}#sk-container-id-1 div.sk-parallel-item:first-child::after {align-self: flex-end;width: 50%;}#sk-container-id-1 div.sk-parallel-item:last-child::after {align-self: flex-start;width: 50%;}#sk-container-id-1 div.sk-parallel-item:only-child::after {width: 0;}#sk-container-id-1 div.sk-dashed-wrapped {border: 1px dashed gray;margin: 0 0.4em 0.5em 0.4em;box-sizing: border-box;padding-bottom: 0.4em;background-color: white;}#sk-container-id-1 div.sk-label label {font-family: monospace;font-weight: bold;display: inline-block;line-height: 1.2em;}#sk-container-id-1 div.sk-label-container {text-align: center;}#sk-container-id-1 div.sk-container {/* jupyter's `normalize.less` sets `[hidden] { display: none; }` but bootstrap.min.css set `[hidden] { display: none !important; }` so we also need the `!important` here to be able to override the default hidden behavior on the sphinx rendered scikit-learn.org. See: https://github.com/scikit-learn/scikit-learn/issues/21755 */display: inline-block !important;position: relative;}#sk-container-id-1 div.sk-text-repr-fallback {display: none;}</style><div id=\"sk-container-id-1\" class=\"sk-top-container\"><div class=\"sk-text-repr-fallback\"><pre>GridSearchCV(cv=3,\n",
       "             estimator=Pipeline(steps=[(&#x27;ohe&#x27;,\n",
       "                                        OneHotEncoder(handle_unknown=&#x27;ignore&#x27;)),\n",
       "                                       (&#x27;scaler&#x27;,\n",
       "                                        StandardScaler(with_mean=False)),\n",
       "                                       (&#x27;model&#x27;, Ridge(random_state=12345))]),\n",
       "             n_jobs=-1, param_grid=[{&#x27;model__alpha&#x27;: array([ 1, 11, 21, 31])}],\n",
       "             scoring=&#x27;neg_mean_squared_error&#x27;, verbose=False)</pre><b>In a Jupyter environment, please rerun this cell to show the HTML representation or trust the notebook. <br />On GitHub, the HTML representation is unable to render, please try loading this page with nbviewer.org.</b></div><div class=\"sk-container\" hidden><div class=\"sk-item sk-dashed-wrapped\"><div class=\"sk-label-container\"><div class=\"sk-label sk-toggleable\"><input class=\"sk-toggleable__control sk-hidden--visually\" id=\"sk-estimator-id-1\" type=\"checkbox\" ><label for=\"sk-estimator-id-1\" class=\"sk-toggleable__label sk-toggleable__label-arrow\">GridSearchCV</label><div class=\"sk-toggleable__content\"><pre>GridSearchCV(cv=3,\n",
       "             estimator=Pipeline(steps=[(&#x27;ohe&#x27;,\n",
       "                                        OneHotEncoder(handle_unknown=&#x27;ignore&#x27;)),\n",
       "                                       (&#x27;scaler&#x27;,\n",
       "                                        StandardScaler(with_mean=False)),\n",
       "                                       (&#x27;model&#x27;, Ridge(random_state=12345))]),\n",
       "             n_jobs=-1, param_grid=[{&#x27;model__alpha&#x27;: array([ 1, 11, 21, 31])}],\n",
       "             scoring=&#x27;neg_mean_squared_error&#x27;, verbose=False)</pre></div></div></div><div class=\"sk-parallel\"><div class=\"sk-parallel-item\"><div class=\"sk-item\"><div class=\"sk-label-container\"><div class=\"sk-label sk-toggleable\"><input class=\"sk-toggleable__control sk-hidden--visually\" id=\"sk-estimator-id-2\" type=\"checkbox\" ><label for=\"sk-estimator-id-2\" class=\"sk-toggleable__label sk-toggleable__label-arrow\">estimator: Pipeline</label><div class=\"sk-toggleable__content\"><pre>Pipeline(steps=[(&#x27;ohe&#x27;, OneHotEncoder(handle_unknown=&#x27;ignore&#x27;)),\n",
       "                (&#x27;scaler&#x27;, StandardScaler(with_mean=False)),\n",
       "                (&#x27;model&#x27;, Ridge(random_state=12345))])</pre></div></div></div><div class=\"sk-serial\"><div class=\"sk-item\"><div class=\"sk-serial\"><div class=\"sk-item\"><div class=\"sk-estimator sk-toggleable\"><input class=\"sk-toggleable__control sk-hidden--visually\" id=\"sk-estimator-id-3\" type=\"checkbox\" ><label for=\"sk-estimator-id-3\" class=\"sk-toggleable__label sk-toggleable__label-arrow\">OneHotEncoder</label><div class=\"sk-toggleable__content\"><pre>OneHotEncoder(handle_unknown=&#x27;ignore&#x27;)</pre></div></div></div><div class=\"sk-item\"><div class=\"sk-estimator sk-toggleable\"><input class=\"sk-toggleable__control sk-hidden--visually\" id=\"sk-estimator-id-4\" type=\"checkbox\" ><label for=\"sk-estimator-id-4\" class=\"sk-toggleable__label sk-toggleable__label-arrow\">StandardScaler</label><div class=\"sk-toggleable__content\"><pre>StandardScaler(with_mean=False)</pre></div></div></div><div class=\"sk-item\"><div class=\"sk-estimator sk-toggleable\"><input class=\"sk-toggleable__control sk-hidden--visually\" id=\"sk-estimator-id-5\" type=\"checkbox\" ><label for=\"sk-estimator-id-5\" class=\"sk-toggleable__label sk-toggleable__label-arrow\">Ridge</label><div class=\"sk-toggleable__content\"><pre>Ridge(random_state=12345)</pre></div></div></div></div></div></div></div></div></div></div></div></div>"
      ],
      "text/plain": [
       "GridSearchCV(cv=3,\n",
       "             estimator=Pipeline(steps=[('ohe',\n",
       "                                        OneHotEncoder(handle_unknown='ignore')),\n",
       "                                       ('scaler',\n",
       "                                        StandardScaler(with_mean=False)),\n",
       "                                       ('model', Ridge(random_state=12345))]),\n",
       "             n_jobs=-1, param_grid=[{'model__alpha': array([ 1, 11, 21, 31])}],\n",
       "             scoring='neg_mean_squared_error', verbose=False)"
      ]
     },
     "execution_count": 33,
     "metadata": {},
     "output_type": "execute_result"
    }
   ],
   "source": [
    "grid.fit(features_train, target_train)"
   ]
  },
  {
   "attachments": {},
   "cell_type": "markdown",
   "metadata": {},
   "source": [
    "Результаты сохраним в список"
   ]
  },
  {
   "cell_type": "code",
   "execution_count": 34,
   "metadata": {
    "scrolled": true
   },
   "outputs": [],
   "source": [
    "results.append(time_score(grid.best_estimator_, 'Ridge', features_train, target_train))"
   ]
  },
  {
   "attachments": {},
   "cell_type": "markdown",
   "metadata": {},
   "source": [
    "Изменим тип категориальных данных  на ```Category```"
   ]
  },
  {
   "cell_type": "code",
   "execution_count": 35,
   "metadata": {},
   "outputs": [],
   "source": [
    "features_train[categorial_features] = features_train[categorial_features].astype('category')\n",
    "features_test[categorial_features] = features_test[categorial_features].astype('category')"
   ]
  },
  {
   "attachments": {},
   "cell_type": "markdown",
   "metadata": {},
   "source": [
    "Используем ```LabelEncoder``` в качестве метода кодирования категориальных данных, так как новых признаков не появиться и для алгоритма решающего дерева не страшны возможные корреляции закодированных признаков"
   ]
  },
  {
   "cell_type": "code",
   "execution_count": 36,
   "metadata": {},
   "outputs": [],
   "source": [
    "label_encoder = LabelEncoder()"
   ]
  },
  {
   "cell_type": "code",
   "execution_count": 37,
   "metadata": {
    "scrolled": false
   },
   "outputs": [
    {
     "data": {
      "text/html": [
       "<div>\n",
       "<style scoped>\n",
       "    .dataframe tbody tr th:only-of-type {\n",
       "        vertical-align: middle;\n",
       "    }\n",
       "\n",
       "    .dataframe tbody tr th {\n",
       "        vertical-align: top;\n",
       "    }\n",
       "\n",
       "    .dataframe thead th {\n",
       "        text-align: right;\n",
       "    }\n",
       "</style>\n",
       "<table border=\"1\" class=\"dataframe\">\n",
       "  <thead>\n",
       "    <tr style=\"text-align: right;\">\n",
       "      <th></th>\n",
       "      <th>VehicleType</th>\n",
       "      <th>Gearbox</th>\n",
       "      <th>Model</th>\n",
       "      <th>FuelType</th>\n",
       "      <th>Brand</th>\n",
       "      <th>Repaired</th>\n",
       "    </tr>\n",
       "  </thead>\n",
       "  <tbody>\n",
       "    <tr>\n",
       "      <th>209964</th>\n",
       "      <td>6</td>\n",
       "      <td>4</td>\n",
       "      <td>214</td>\n",
       "      <td>5</td>\n",
       "      <td>37</td>\n",
       "      <td>2</td>\n",
       "    </tr>\n",
       "    <tr>\n",
       "      <th>304108</th>\n",
       "      <td>1</td>\n",
       "      <td>4</td>\n",
       "      <td>8</td>\n",
       "      <td>9</td>\n",
       "      <td>25</td>\n",
       "      <td>0</td>\n",
       "    </tr>\n",
       "    <tr>\n",
       "      <th>119503</th>\n",
       "      <td>7</td>\n",
       "      <td>4</td>\n",
       "      <td>168</td>\n",
       "      <td>5</td>\n",
       "      <td>37</td>\n",
       "      <td>0</td>\n",
       "    </tr>\n",
       "    <tr>\n",
       "      <th>23714</th>\n",
       "      <td>1</td>\n",
       "      <td>4</td>\n",
       "      <td>203</td>\n",
       "      <td>9</td>\n",
       "      <td>20</td>\n",
       "      <td>0</td>\n",
       "    </tr>\n",
       "    <tr>\n",
       "      <th>38263</th>\n",
       "      <td>5</td>\n",
       "      <td>4</td>\n",
       "      <td>126</td>\n",
       "      <td>9</td>\n",
       "      <td>10</td>\n",
       "      <td>0</td>\n",
       "    </tr>\n",
       "    <tr>\n",
       "      <th>...</th>\n",
       "      <td>...</td>\n",
       "      <td>...</td>\n",
       "      <td>...</td>\n",
       "      <td>...</td>\n",
       "      <td>...</td>\n",
       "      <td>...</td>\n",
       "    </tr>\n",
       "    <tr>\n",
       "      <th>198872</th>\n",
       "      <td>7</td>\n",
       "      <td>4</td>\n",
       "      <td>152</td>\n",
       "      <td>9</td>\n",
       "      <td>10</td>\n",
       "      <td>2</td>\n",
       "    </tr>\n",
       "    <tr>\n",
       "      <th>336011</th>\n",
       "      <td>2</td>\n",
       "      <td>4</td>\n",
       "      <td>11</td>\n",
       "      <td>9</td>\n",
       "      <td>2</td>\n",
       "      <td>0</td>\n",
       "    </tr>\n",
       "    <tr>\n",
       "      <th>27202</th>\n",
       "      <td>7</td>\n",
       "      <td>0</td>\n",
       "      <td>28</td>\n",
       "      <td>9</td>\n",
       "      <td>1</td>\n",
       "      <td>0</td>\n",
       "    </tr>\n",
       "    <tr>\n",
       "      <th>43412</th>\n",
       "      <td>2</td>\n",
       "      <td>4</td>\n",
       "      <td>213</td>\n",
       "      <td>9</td>\n",
       "      <td>24</td>\n",
       "      <td>1</td>\n",
       "    </tr>\n",
       "    <tr>\n",
       "      <th>24078</th>\n",
       "      <td>4</td>\n",
       "      <td>4</td>\n",
       "      <td>93</td>\n",
       "      <td>5</td>\n",
       "      <td>20</td>\n",
       "      <td>0</td>\n",
       "    </tr>\n",
       "  </tbody>\n",
       "</table>\n",
       "<p>161414 rows × 6 columns</p>\n",
       "</div>"
      ],
      "text/plain": [
       "        VehicleType  Gearbox  Model  FuelType  Brand  Repaired\n",
       "209964            6        4    214         5     37         2\n",
       "304108            1        4      8         9     25         0\n",
       "119503            7        4    168         5     37         0\n",
       "23714             1        4    203         9     20         0\n",
       "38263             5        4    126         9     10         0\n",
       "...             ...      ...    ...       ...    ...       ...\n",
       "198872            7        4    152         9     10         2\n",
       "336011            2        4     11         9      2         0\n",
       "27202             7        0     28         9      1         0\n",
       "43412             2        4    213         9     24         1\n",
       "24078             4        4     93         5     20         0\n",
       "\n",
       "[161414 rows x 6 columns]"
      ]
     },
     "metadata": {},
     "output_type": "display_data"
    }
   ],
   "source": [
    "for col in categorial_features:\n",
    "    features_train[col] = label_encoder.fit_transform(features_train[col])\n",
    "    features_test[col] = label_encoder.fit_transform(features_test[col])\n",
    "    \n",
    "display(features_train[categorial_features])"
   ]
  },
  {
   "attachments": {},
   "cell_type": "markdown",
   "metadata": {},
   "source": [
    "Отмасштабируем данные"
   ]
  },
  {
   "cell_type": "code",
   "execution_count": 38,
   "metadata": {},
   "outputs": [],
   "source": [
    "scaler = StandardScaler()"
   ]
  },
  {
   "cell_type": "code",
   "execution_count": 39,
   "metadata": {
    "scrolled": true
   },
   "outputs": [],
   "source": [
    "scaler.fit(features_train)\n",
    "\n",
    "columns = features_train.columns\n",
    "features_train = pd.DataFrame(scaler.transform(features_train), columns = columns)\n",
    "features_test = pd.DataFrame(scaler.transform(features_test), columns = columns)"
   ]
  },
  {
   "attachments": {},
   "cell_type": "markdown",
   "metadata": {},
   "source": [
    "Найдем лучшую модель LGBM и сохраним результаты "
   ]
  },
  {
   "cell_type": "code",
   "execution_count": 40,
   "metadata": {},
   "outputs": [],
   "source": [
    "gbm = lgb.LGBMRegressor()\n",
    "\n",
    "params = {\n",
    "    'learning_rate': [0.1, 0.7, 1],\n",
    "    'n_estimators': [40, 60],\n",
    "    'num_leaves': [21, 31, 41],\n",
    "}\n",
    "\n",
    "grid_gbm = GridSearchCV(gbm,\n",
    "                        params,\n",
    "                        cv=3,\n",
    "                        scoring='neg_root_mean_squared_error',\n",
    "                        verbose=0,\n",
    "                        n_jobs = -1)"
   ]
  },
  {
   "cell_type": "code",
   "execution_count": 41,
   "metadata": {},
   "outputs": [
    {
     "data": {
      "text/html": [
       "<style>#sk-container-id-2 {color: black;background-color: white;}#sk-container-id-2 pre{padding: 0;}#sk-container-id-2 div.sk-toggleable {background-color: white;}#sk-container-id-2 label.sk-toggleable__label {cursor: pointer;display: block;width: 100%;margin-bottom: 0;padding: 0.3em;box-sizing: border-box;text-align: center;}#sk-container-id-2 label.sk-toggleable__label-arrow:before {content: \"▸\";float: left;margin-right: 0.25em;color: #696969;}#sk-container-id-2 label.sk-toggleable__label-arrow:hover:before {color: black;}#sk-container-id-2 div.sk-estimator:hover label.sk-toggleable__label-arrow:before {color: black;}#sk-container-id-2 div.sk-toggleable__content {max-height: 0;max-width: 0;overflow: hidden;text-align: left;background-color: #f0f8ff;}#sk-container-id-2 div.sk-toggleable__content pre {margin: 0.2em;color: black;border-radius: 0.25em;background-color: #f0f8ff;}#sk-container-id-2 input.sk-toggleable__control:checked~div.sk-toggleable__content {max-height: 200px;max-width: 100%;overflow: auto;}#sk-container-id-2 input.sk-toggleable__control:checked~label.sk-toggleable__label-arrow:before {content: \"▾\";}#sk-container-id-2 div.sk-estimator input.sk-toggleable__control:checked~label.sk-toggleable__label {background-color: #d4ebff;}#sk-container-id-2 div.sk-label input.sk-toggleable__control:checked~label.sk-toggleable__label {background-color: #d4ebff;}#sk-container-id-2 input.sk-hidden--visually {border: 0;clip: rect(1px 1px 1px 1px);clip: rect(1px, 1px, 1px, 1px);height: 1px;margin: -1px;overflow: hidden;padding: 0;position: absolute;width: 1px;}#sk-container-id-2 div.sk-estimator {font-family: monospace;background-color: #f0f8ff;border: 1px dotted black;border-radius: 0.25em;box-sizing: border-box;margin-bottom: 0.5em;}#sk-container-id-2 div.sk-estimator:hover {background-color: #d4ebff;}#sk-container-id-2 div.sk-parallel-item::after {content: \"\";width: 100%;border-bottom: 1px solid gray;flex-grow: 1;}#sk-container-id-2 div.sk-label:hover label.sk-toggleable__label {background-color: #d4ebff;}#sk-container-id-2 div.sk-serial::before {content: \"\";position: absolute;border-left: 1px solid gray;box-sizing: border-box;top: 0;bottom: 0;left: 50%;z-index: 0;}#sk-container-id-2 div.sk-serial {display: flex;flex-direction: column;align-items: center;background-color: white;padding-right: 0.2em;padding-left: 0.2em;position: relative;}#sk-container-id-2 div.sk-item {position: relative;z-index: 1;}#sk-container-id-2 div.sk-parallel {display: flex;align-items: stretch;justify-content: center;background-color: white;position: relative;}#sk-container-id-2 div.sk-item::before, #sk-container-id-2 div.sk-parallel-item::before {content: \"\";position: absolute;border-left: 1px solid gray;box-sizing: border-box;top: 0;bottom: 0;left: 50%;z-index: -1;}#sk-container-id-2 div.sk-parallel-item {display: flex;flex-direction: column;z-index: 1;position: relative;background-color: white;}#sk-container-id-2 div.sk-parallel-item:first-child::after {align-self: flex-end;width: 50%;}#sk-container-id-2 div.sk-parallel-item:last-child::after {align-self: flex-start;width: 50%;}#sk-container-id-2 div.sk-parallel-item:only-child::after {width: 0;}#sk-container-id-2 div.sk-dashed-wrapped {border: 1px dashed gray;margin: 0 0.4em 0.5em 0.4em;box-sizing: border-box;padding-bottom: 0.4em;background-color: white;}#sk-container-id-2 div.sk-label label {font-family: monospace;font-weight: bold;display: inline-block;line-height: 1.2em;}#sk-container-id-2 div.sk-label-container {text-align: center;}#sk-container-id-2 div.sk-container {/* jupyter's `normalize.less` sets `[hidden] { display: none; }` but bootstrap.min.css set `[hidden] { display: none !important; }` so we also need the `!important` here to be able to override the default hidden behavior on the sphinx rendered scikit-learn.org. See: https://github.com/scikit-learn/scikit-learn/issues/21755 */display: inline-block !important;position: relative;}#sk-container-id-2 div.sk-text-repr-fallback {display: none;}</style><div id=\"sk-container-id-2\" class=\"sk-top-container\"><div class=\"sk-text-repr-fallback\"><pre>GridSearchCV(cv=3, estimator=LGBMRegressor(), n_jobs=-1,\n",
       "             param_grid={&#x27;learning_rate&#x27;: [0.1, 0.7, 1],\n",
       "                         &#x27;n_estimators&#x27;: [40, 60], &#x27;num_leaves&#x27;: [21, 31, 41]},\n",
       "             scoring=&#x27;neg_root_mean_squared_error&#x27;)</pre><b>In a Jupyter environment, please rerun this cell to show the HTML representation or trust the notebook. <br />On GitHub, the HTML representation is unable to render, please try loading this page with nbviewer.org.</b></div><div class=\"sk-container\" hidden><div class=\"sk-item sk-dashed-wrapped\"><div class=\"sk-label-container\"><div class=\"sk-label sk-toggleable\"><input class=\"sk-toggleable__control sk-hidden--visually\" id=\"sk-estimator-id-6\" type=\"checkbox\" ><label for=\"sk-estimator-id-6\" class=\"sk-toggleable__label sk-toggleable__label-arrow\">GridSearchCV</label><div class=\"sk-toggleable__content\"><pre>GridSearchCV(cv=3, estimator=LGBMRegressor(), n_jobs=-1,\n",
       "             param_grid={&#x27;learning_rate&#x27;: [0.1, 0.7, 1],\n",
       "                         &#x27;n_estimators&#x27;: [40, 60], &#x27;num_leaves&#x27;: [21, 31, 41]},\n",
       "             scoring=&#x27;neg_root_mean_squared_error&#x27;)</pre></div></div></div><div class=\"sk-parallel\"><div class=\"sk-parallel-item\"><div class=\"sk-item\"><div class=\"sk-label-container\"><div class=\"sk-label sk-toggleable\"><input class=\"sk-toggleable__control sk-hidden--visually\" id=\"sk-estimator-id-7\" type=\"checkbox\" ><label for=\"sk-estimator-id-7\" class=\"sk-toggleable__label sk-toggleable__label-arrow\">estimator: LGBMRegressor</label><div class=\"sk-toggleable__content\"><pre>LGBMRegressor()</pre></div></div></div><div class=\"sk-serial\"><div class=\"sk-item\"><div class=\"sk-estimator sk-toggleable\"><input class=\"sk-toggleable__control sk-hidden--visually\" id=\"sk-estimator-id-8\" type=\"checkbox\" ><label for=\"sk-estimator-id-8\" class=\"sk-toggleable__label sk-toggleable__label-arrow\">LGBMRegressor</label><div class=\"sk-toggleable__content\"><pre>LGBMRegressor()</pre></div></div></div></div></div></div></div></div></div></div>"
      ],
      "text/plain": [
       "GridSearchCV(cv=3, estimator=LGBMRegressor(), n_jobs=-1,\n",
       "             param_grid={'learning_rate': [0.1, 0.7, 1],\n",
       "                         'n_estimators': [40, 60], 'num_leaves': [21, 31, 41]},\n",
       "             scoring='neg_root_mean_squared_error')"
      ]
     },
     "execution_count": 41,
     "metadata": {},
     "output_type": "execute_result"
    }
   ],
   "source": [
    "grid_gbm.fit(features_train, target_train)"
   ]
  },
  {
   "cell_type": "code",
   "execution_count": 42,
   "metadata": {},
   "outputs": [],
   "source": [
    "results.append(time_score(grid_gbm.best_estimator_, 'LGBM', features_train, target_train))"
   ]
  },
  {
   "attachments": {},
   "cell_type": "markdown",
   "metadata": {},
   "source": [
    "## Анализ моделей"
   ]
  },
  {
   "attachments": {},
   "cell_type": "markdown",
   "metadata": {},
   "source": [
    "Рассмотрим финальные результаты "
   ]
  },
  {
   "cell_type": "code",
   "execution_count": 43,
   "metadata": {},
   "outputs": [
    {
     "data": {
      "text/html": [
       "<div>\n",
       "<style scoped>\n",
       "    .dataframe tbody tr th:only-of-type {\n",
       "        vertical-align: middle;\n",
       "    }\n",
       "\n",
       "    .dataframe tbody tr th {\n",
       "        vertical-align: top;\n",
       "    }\n",
       "\n",
       "    .dataframe thead th {\n",
       "        text-align: right;\n",
       "    }\n",
       "</style>\n",
       "<table border=\"1\" class=\"dataframe\">\n",
       "  <thead>\n",
       "    <tr style=\"text-align: right;\">\n",
       "      <th></th>\n",
       "      <th>Model</th>\n",
       "      <th>Fit_time</th>\n",
       "      <th>Pred_time</th>\n",
       "      <th>RMSE</th>\n",
       "    </tr>\n",
       "  </thead>\n",
       "  <tbody>\n",
       "    <tr>\n",
       "      <th>0</th>\n",
       "      <td>Ridge</td>\n",
       "      <td>1.847322</td>\n",
       "      <td>0.336642</td>\n",
       "      <td>1791.87833</td>\n",
       "    </tr>\n",
       "    <tr>\n",
       "      <th>1</th>\n",
       "      <td>LGBM</td>\n",
       "      <td>0.404585</td>\n",
       "      <td>0.152844</td>\n",
       "      <td>1460.32444</td>\n",
       "    </tr>\n",
       "  </tbody>\n",
       "</table>\n",
       "</div>"
      ],
      "text/plain": [
       "   Model  Fit_time  Pred_time        RMSE\n",
       "0  Ridge  1.847322   0.336642  1791.87833\n",
       "1   LGBM  0.404585   0.152844  1460.32444"
      ]
     },
     "metadata": {},
     "output_type": "display_data"
    }
   ],
   "source": [
    "results_df = pd.DataFrame(data=results, columns=['Model', 'Fit_time', 'Pred_time', 'RMSE'])\n",
    "\n",
    "display(results_df)"
   ]
  },
  {
   "attachments": {},
   "cell_type": "markdown",
   "metadata": {},
   "source": [
    "## Тестирование лучшей модели"
   ]
  },
  {
   "attachments": {},
   "cell_type": "markdown",
   "metadata": {},
   "source": [
    "По полученным результатам видно, что алгоритм ```LGBM``` показал лучшее время и метрику ```RMSE```, чем ```Ridge```. Проверим на тестовой выборке:"
   ]
  },
  {
   "cell_type": "code",
   "execution_count": 44,
   "metadata": {},
   "outputs": [
    {
     "name": "stdout",
     "output_type": "stream",
     "text": [
      "1648.2523191604234\n"
     ]
    }
   ],
   "source": [
    "print(mse(grid_gbm.best_estimator_.predict(features_test), target_test)**0.5)"
   ]
  },
  {
   "attachments": {},
   "cell_type": "markdown",
   "metadata": {},
   "source": [
    "Финальное значение метрики ```RMSE``` составило 1648, что означает, что данная модель выполняет условия проекта."
   ]
  }
 ],
 "metadata": {
  "ExecuteTimeLog": [
   {
    "duration": 403,
    "start_time": "2023-03-07T10:27:03.786Z"
   },
   {
    "duration": 1269,
    "start_time": "2023-03-07T10:27:04.197Z"
   },
   {
    "duration": 135,
    "start_time": "2023-03-07T10:30:10.619Z"
   },
   {
    "duration": 128,
    "start_time": "2023-03-07T10:30:49.163Z"
   },
   {
    "duration": 8,
    "start_time": "2023-03-07T10:31:26.884Z"
   },
   {
    "duration": 8,
    "start_time": "2023-03-07T10:31:37.067Z"
   },
   {
    "duration": 12769,
    "start_time": "2023-03-07T10:33:49.251Z"
   },
   {
    "duration": 354,
    "start_time": "2023-03-07T10:34:23.443Z"
   },
   {
    "duration": 300,
    "start_time": "2023-03-07T10:34:44.987Z"
   },
   {
    "duration": 372,
    "start_time": "2023-03-07T10:35:48.515Z"
   },
   {
    "duration": 208,
    "start_time": "2023-03-07T11:01:19.009Z"
   },
   {
    "duration": 350,
    "start_time": "2023-03-07T11:01:43.513Z"
   },
   {
    "duration": 15,
    "start_time": "2023-03-07T11:02:04.026Z"
   },
   {
    "duration": 44,
    "start_time": "2023-03-09T12:16:46.345Z"
   },
   {
    "duration": 392,
    "start_time": "2023-03-09T12:16:51.954Z"
   },
   {
    "duration": 1075,
    "start_time": "2023-03-09T12:16:52.347Z"
   },
   {
    "duration": 174,
    "start_time": "2023-03-09T12:16:55.020Z"
   },
   {
    "duration": 18,
    "start_time": "2023-03-09T12:16:57.210Z"
   },
   {
    "duration": 47,
    "start_time": "2023-03-09T12:16:59.555Z"
   },
   {
    "duration": 98,
    "start_time": "2023-03-09T13:20:54.248Z"
   },
   {
    "duration": 98,
    "start_time": "2023-03-09T13:21:02.988Z"
   },
   {
    "duration": 414,
    "start_time": "2023-03-09T13:22:00.256Z"
   },
   {
    "duration": 844,
    "start_time": "2023-03-09T13:22:00.672Z"
   },
   {
    "duration": 182,
    "start_time": "2023-03-09T13:22:01.517Z"
   },
   {
    "duration": 14,
    "start_time": "2023-03-09T13:22:01.702Z"
   },
   {
    "duration": 66,
    "start_time": "2023-03-09T13:22:01.717Z"
   },
   {
    "duration": 264,
    "start_time": "2023-03-09T13:22:01.784Z"
   },
   {
    "duration": 84,
    "start_time": "2023-03-09T13:22:02.050Z"
   },
   {
    "duration": 64,
    "start_time": "2023-03-10T12:44:59.912Z"
   },
   {
    "duration": 432,
    "start_time": "2023-03-10T12:45:04.870Z"
   },
   {
    "duration": 1266,
    "start_time": "2023-03-10T12:45:05.304Z"
   },
   {
    "duration": 341,
    "start_time": "2023-03-10T12:45:06.572Z"
   },
   {
    "duration": 108,
    "start_time": "2023-03-10T12:45:06.915Z"
   },
   {
    "duration": 39,
    "start_time": "2023-03-10T12:45:07.026Z"
   },
   {
    "duration": 36,
    "start_time": "2023-03-10T13:32:11.416Z"
   },
   {
    "duration": 42,
    "start_time": "2023-03-10T13:46:05.643Z"
   },
   {
    "duration": 110,
    "start_time": "2023-03-10T14:09:55.723Z"
   },
   {
    "duration": 106,
    "start_time": "2023-03-10T14:10:02.040Z"
   },
   {
    "duration": 380,
    "start_time": "2023-03-10T14:15:10.717Z"
   },
   {
    "duration": 1024,
    "start_time": "2023-03-10T14:15:11.099Z"
   },
   {
    "duration": 113,
    "start_time": "2023-03-10T14:15:12.125Z"
   },
   {
    "duration": 58,
    "start_time": "2023-03-10T14:15:12.240Z"
   },
   {
    "duration": 114,
    "start_time": "2023-03-10T14:15:12.300Z"
   },
   {
    "duration": 34,
    "start_time": "2023-03-10T14:15:12.416Z"
   },
   {
    "duration": 36,
    "start_time": "2023-03-10T14:15:26.880Z"
   },
   {
    "duration": 977,
    "start_time": "2023-03-10T14:18:12.362Z"
   },
   {
    "duration": 5,
    "start_time": "2023-03-10T14:46:09.904Z"
   },
   {
    "duration": 152,
    "start_time": "2023-03-10T14:46:20.649Z"
   },
   {
    "duration": 88,
    "start_time": "2023-03-10T14:52:01.823Z"
   },
   {
    "duration": 69,
    "start_time": "2023-03-10T14:52:23.834Z"
   },
   {
    "duration": 57,
    "start_time": "2023-03-10T14:52:55.706Z"
   },
   {
    "duration": 16,
    "start_time": "2023-03-10T15:03:36.042Z"
   },
   {
    "duration": 27,
    "start_time": "2023-03-10T15:06:36.506Z"
   },
   {
    "duration": 19,
    "start_time": "2023-03-10T15:06:50.042Z"
   },
   {
    "duration": 114,
    "start_time": "2023-03-10T15:06:55.394Z"
   },
   {
    "duration": 182,
    "start_time": "2023-03-10T15:07:06.937Z"
   },
   {
    "duration": 28,
    "start_time": "2023-03-10T15:07:54.002Z"
   },
   {
    "duration": 180,
    "start_time": "2023-03-10T15:08:08.721Z"
   },
   {
    "duration": 9,
    "start_time": "2023-03-10T15:08:31.353Z"
   },
   {
    "duration": 9,
    "start_time": "2023-03-10T15:08:40.129Z"
   },
   {
    "duration": 424,
    "start_time": "2023-03-10T15:09:43.625Z"
   },
   {
    "duration": 12224,
    "start_time": "2023-03-10T15:10:32.521Z"
   },
   {
    "duration": 73,
    "start_time": "2023-03-10T15:13:09.746Z"
   },
   {
    "duration": 8250,
    "start_time": "2023-03-10T15:13:41.491Z"
   },
   {
    "duration": 4,
    "start_time": "2023-03-10T15:15:09.361Z"
   },
   {
    "duration": 53,
    "start_time": "2023-03-10T15:15:58.865Z"
   },
   {
    "duration": 50,
    "start_time": "2023-03-10T15:16:14.889Z"
   },
   {
    "duration": 194,
    "start_time": "2023-03-10T15:18:32.529Z"
   },
   {
    "duration": 9,
    "start_time": "2023-03-10T15:21:31.485Z"
   },
   {
    "duration": 3,
    "start_time": "2023-03-10T15:21:53.568Z"
   },
   {
    "duration": 1027,
    "start_time": "2023-03-10T15:21:54.585Z"
   },
   {
    "duration": 102,
    "start_time": "2023-03-10T15:21:58.768Z"
   },
   {
    "duration": 42,
    "start_time": "2023-03-10T15:22:02.153Z"
   },
   {
    "duration": 90,
    "start_time": "2023-03-10T15:22:02.537Z"
   },
   {
    "duration": 79,
    "start_time": "2023-03-10T15:22:07.800Z"
   },
   {
    "duration": 94,
    "start_time": "2023-03-10T15:22:10.440Z"
   },
   {
    "duration": 9,
    "start_time": "2023-03-10T15:23:06.577Z"
   },
   {
    "duration": 10,
    "start_time": "2023-03-10T15:23:20.888Z"
   },
   {
    "duration": 8,
    "start_time": "2023-03-10T15:23:28.065Z"
   },
   {
    "duration": 23,
    "start_time": "2023-03-10T15:24:09.488Z"
   },
   {
    "duration": 471,
    "start_time": "2023-03-10T15:25:07.920Z"
   },
   {
    "duration": 370,
    "start_time": "2023-03-10T15:25:16.377Z"
   },
   {
    "duration": 9,
    "start_time": "2023-03-10T15:33:14.489Z"
   },
   {
    "duration": 88,
    "start_time": "2023-03-10T15:33:18.440Z"
   },
   {
    "duration": 1951,
    "start_time": "2023-03-10T15:33:23.885Z"
   },
   {
    "duration": 65,
    "start_time": "2023-03-10T15:34:37.690Z"
   },
   {
    "duration": 2563,
    "start_time": "2023-03-10T15:34:42.473Z"
   },
   {
    "duration": 2264,
    "start_time": "2023-03-10T15:34:52.936Z"
   },
   {
    "duration": 3,
    "start_time": "2023-03-10T15:35:09.498Z"
   },
   {
    "duration": 12,
    "start_time": "2023-03-10T15:38:42.605Z"
   },
   {
    "duration": 136,
    "start_time": "2023-03-10T15:38:59.048Z"
   },
   {
    "duration": 11,
    "start_time": "2023-03-10T15:40:20.521Z"
   },
   {
    "duration": 29,
    "start_time": "2023-03-10T15:40:28.848Z"
   },
   {
    "duration": 85,
    "start_time": "2023-03-10T15:45:32.952Z"
   },
   {
    "duration": 61,
    "start_time": "2023-03-10T15:45:46.616Z"
   },
   {
    "duration": 49,
    "start_time": "2023-03-10T15:46:07.889Z"
   },
   {
    "duration": 90,
    "start_time": "2023-03-10T15:47:38.409Z"
   },
   {
    "duration": 53,
    "start_time": "2023-03-10T15:47:58.408Z"
   },
   {
    "duration": 17,
    "start_time": "2023-03-10T15:49:37.377Z"
   },
   {
    "duration": 423,
    "start_time": "2023-03-10T15:49:53.379Z"
   },
   {
    "duration": 1147,
    "start_time": "2023-03-10T15:49:53.804Z"
   },
   {
    "duration": 144,
    "start_time": "2023-03-10T15:49:54.952Z"
   },
   {
    "duration": 340,
    "start_time": "2023-03-10T15:49:55.099Z"
   },
   {
    "duration": 105,
    "start_time": "2023-03-10T15:49:55.441Z"
   },
   {
    "duration": 60,
    "start_time": "2023-03-10T15:49:55.548Z"
   },
   {
    "duration": 98,
    "start_time": "2023-03-10T15:49:55.610Z"
   },
   {
    "duration": 6586,
    "start_time": "2023-03-10T15:51:49.624Z"
   },
   {
    "duration": 173,
    "start_time": "2023-03-10T15:52:15.104Z"
   },
   {
    "duration": 744,
    "start_time": "2023-03-10T15:52:34.128Z"
   },
   {
    "duration": 0,
    "start_time": "2023-03-10T15:54:18.143Z"
   },
   {
    "duration": 0,
    "start_time": "2023-03-10T15:54:18.144Z"
   },
   {
    "duration": 12,
    "start_time": "2023-03-10T15:54:21.680Z"
   },
   {
    "duration": 3108,
    "start_time": "2023-03-10T15:54:28.705Z"
   },
   {
    "duration": 1781,
    "start_time": "2023-03-10T15:54:37.921Z"
   },
   {
    "duration": 1668,
    "start_time": "2023-03-10T15:56:35.581Z"
   },
   {
    "duration": 1664,
    "start_time": "2023-03-10T16:00:37.861Z"
   },
   {
    "duration": 1876,
    "start_time": "2023-03-10T16:01:19.384Z"
   },
   {
    "duration": 1929,
    "start_time": "2023-03-10T16:01:40.520Z"
   },
   {
    "duration": 1787,
    "start_time": "2023-03-10T16:01:48.871Z"
   },
   {
    "duration": 4,
    "start_time": "2023-03-10T16:02:23.073Z"
   },
   {
    "duration": 2001,
    "start_time": "2023-03-10T16:02:31.623Z"
   },
   {
    "duration": 3,
    "start_time": "2023-03-10T16:03:02.192Z"
   },
   {
    "duration": 1775,
    "start_time": "2023-03-10T16:03:06.468Z"
   },
   {
    "duration": 20,
    "start_time": "2023-03-10T16:12:23.632Z"
   },
   {
    "duration": 10,
    "start_time": "2023-03-10T16:12:41.135Z"
   },
   {
    "duration": 4,
    "start_time": "2023-03-10T16:15:11.178Z"
   },
   {
    "duration": 5,
    "start_time": "2023-03-10T16:15:18.972Z"
   },
   {
    "duration": 4,
    "start_time": "2023-03-10T16:15:49.319Z"
   },
   {
    "duration": 7,
    "start_time": "2023-03-10T16:15:50.068Z"
   },
   {
    "duration": 10,
    "start_time": "2023-03-10T16:15:54.460Z"
   },
   {
    "duration": 1230,
    "start_time": "2023-03-10T16:16:01.808Z"
   },
   {
    "duration": 1112,
    "start_time": "2023-03-10T16:16:03.040Z"
   },
   {
    "duration": 133,
    "start_time": "2023-03-10T16:16:04.154Z"
   },
   {
    "duration": 363,
    "start_time": "2023-03-10T16:16:04.289Z"
   },
   {
    "duration": 100,
    "start_time": "2023-03-10T16:16:04.655Z"
   },
   {
    "duration": 1878,
    "start_time": "2023-03-10T16:16:04.764Z"
   },
   {
    "duration": 13,
    "start_time": "2023-03-10T16:16:06.644Z"
   },
   {
    "duration": 45,
    "start_time": "2023-03-10T16:16:06.669Z"
   },
   {
    "duration": 9,
    "start_time": "2023-03-10T16:16:06.717Z"
   },
   {
    "duration": 137,
    "start_time": "2023-03-10T16:16:06.733Z"
   },
   {
    "duration": 1836,
    "start_time": "2023-03-10T16:17:19.359Z"
   },
   {
    "duration": 1782,
    "start_time": "2023-03-10T16:17:30.431Z"
   },
   {
    "duration": 64,
    "start_time": "2023-03-10T16:19:18.599Z"
   },
   {
    "duration": 37,
    "start_time": "2023-03-10T16:20:14.088Z"
   },
   {
    "duration": 37,
    "start_time": "2023-03-10T16:20:37.383Z"
   },
   {
    "duration": 37,
    "start_time": "2023-03-10T16:20:57.519Z"
   },
   {
    "duration": 46,
    "start_time": "2023-03-10T16:21:26.384Z"
   },
   {
    "duration": 27,
    "start_time": "2023-03-10T16:32:25.580Z"
   },
   {
    "duration": 29,
    "start_time": "2023-03-10T16:32:29.991Z"
   },
   {
    "duration": 40,
    "start_time": "2023-03-10T16:32:35.263Z"
   },
   {
    "duration": 25,
    "start_time": "2023-03-10T16:33:00.399Z"
   },
   {
    "duration": 1271,
    "start_time": "2023-03-10T16:33:07.943Z"
   },
   {
    "duration": 1127,
    "start_time": "2023-03-10T16:33:09.216Z"
   },
   {
    "duration": 121,
    "start_time": "2023-03-10T16:33:10.347Z"
   },
   {
    "duration": 354,
    "start_time": "2023-03-10T16:33:10.470Z"
   },
   {
    "duration": 101,
    "start_time": "2023-03-10T16:33:10.826Z"
   },
   {
    "duration": 1740,
    "start_time": "2023-03-10T16:33:10.929Z"
   },
   {
    "duration": 13,
    "start_time": "2023-03-10T16:33:12.671Z"
   },
   {
    "duration": 32,
    "start_time": "2023-03-10T16:33:12.685Z"
   },
   {
    "duration": 24,
    "start_time": "2023-03-10T16:33:12.719Z"
   },
   {
    "duration": 143,
    "start_time": "2023-03-10T16:33:12.771Z"
   },
   {
    "duration": 17,
    "start_time": "2023-03-10T16:33:27.503Z"
   },
   {
    "duration": 1320,
    "start_time": "2023-03-10T16:33:41.554Z"
   },
   {
    "duration": 1194,
    "start_time": "2023-03-10T16:33:42.878Z"
   },
   {
    "duration": 134,
    "start_time": "2023-03-10T16:33:44.080Z"
   },
   {
    "duration": 426,
    "start_time": "2023-03-10T16:33:44.217Z"
   },
   {
    "duration": 158,
    "start_time": "2023-03-10T16:33:44.646Z"
   },
   {
    "duration": 1819,
    "start_time": "2023-03-10T16:33:44.807Z"
   },
   {
    "duration": 14,
    "start_time": "2023-03-10T16:33:46.629Z"
   },
   {
    "duration": 95,
    "start_time": "2023-03-10T16:33:46.645Z"
   },
   {
    "duration": 37,
    "start_time": "2023-03-10T16:33:46.742Z"
   },
   {
    "duration": 168,
    "start_time": "2023-03-10T16:33:46.781Z"
   },
   {
    "duration": 17,
    "start_time": "2023-03-10T16:34:14.431Z"
   },
   {
    "duration": 205,
    "start_time": "2023-03-10T16:35:24.240Z"
   },
   {
    "duration": 13,
    "start_time": "2023-03-10T16:35:36.312Z"
   },
   {
    "duration": 183,
    "start_time": "2023-03-10T16:36:42.359Z"
   },
   {
    "duration": 196,
    "start_time": "2023-03-10T16:37:18.847Z"
   },
   {
    "duration": 37,
    "start_time": "2023-03-10T16:45:38.248Z"
   },
   {
    "duration": 4,
    "start_time": "2023-03-10T16:45:56.520Z"
   },
   {
    "duration": 1349,
    "start_time": "2023-03-11T12:50:19.694Z"
   },
   {
    "duration": 1267,
    "start_time": "2023-03-11T12:50:21.046Z"
   },
   {
    "duration": 125,
    "start_time": "2023-03-11T12:50:22.315Z"
   },
   {
    "duration": 376,
    "start_time": "2023-03-11T12:50:22.443Z"
   },
   {
    "duration": 179,
    "start_time": "2023-03-11T12:50:22.821Z"
   },
   {
    "duration": 92,
    "start_time": "2023-03-11T12:50:23.002Z"
   },
   {
    "duration": 1741,
    "start_time": "2023-03-11T12:50:23.095Z"
   },
   {
    "duration": 13,
    "start_time": "2023-03-11T12:50:24.838Z"
   },
   {
    "duration": 56,
    "start_time": "2023-03-11T12:50:24.853Z"
   },
   {
    "duration": 17,
    "start_time": "2023-03-11T12:50:24.911Z"
   },
   {
    "duration": 52,
    "start_time": "2023-03-11T12:50:24.930Z"
   },
   {
    "duration": 4,
    "start_time": "2023-03-11T12:50:24.984Z"
   },
   {
    "duration": 132,
    "start_time": "2023-03-11T12:50:24.989Z"
   },
   {
    "duration": 21,
    "start_time": "2023-03-11T12:58:58.401Z"
   },
   {
    "duration": 1303,
    "start_time": "2023-03-11T12:59:02.888Z"
   },
   {
    "duration": 1046,
    "start_time": "2023-03-11T12:59:04.194Z"
   },
   {
    "duration": 116,
    "start_time": "2023-03-11T12:59:05.242Z"
   },
   {
    "duration": 358,
    "start_time": "2023-03-11T12:59:05.361Z"
   },
   {
    "duration": 181,
    "start_time": "2023-03-11T12:59:05.721Z"
   },
   {
    "duration": 1790,
    "start_time": "2023-03-11T12:59:05.904Z"
   },
   {
    "duration": 11,
    "start_time": "2023-03-11T12:59:07.696Z"
   },
   {
    "duration": 30,
    "start_time": "2023-03-11T12:59:07.709Z"
   },
   {
    "duration": 55,
    "start_time": "2023-03-11T12:59:07.742Z"
   },
   {
    "duration": 42,
    "start_time": "2023-03-11T12:59:07.800Z"
   },
   {
    "duration": 5,
    "start_time": "2023-03-11T12:59:07.844Z"
   },
   {
    "duration": 41,
    "start_time": "2023-03-11T12:59:07.852Z"
   },
   {
    "duration": 126,
    "start_time": "2023-03-11T12:59:07.895Z"
   },
   {
    "duration": 99,
    "start_time": "2023-03-11T13:04:05.479Z"
   },
   {
    "duration": 101,
    "start_time": "2023-03-11T13:04:24.827Z"
   },
   {
    "duration": 98,
    "start_time": "2023-03-11T13:06:44.491Z"
   },
   {
    "duration": 92,
    "start_time": "2023-03-11T13:07:46.690Z"
   },
   {
    "duration": 723,
    "start_time": "2023-03-11T13:23:35.618Z"
   },
   {
    "duration": 7,
    "start_time": "2023-03-11T13:25:27.273Z"
   },
   {
    "duration": 12,
    "start_time": "2023-03-11T13:25:46.578Z"
   },
   {
    "duration": 6,
    "start_time": "2023-03-11T13:26:08.439Z"
   },
   {
    "duration": 12,
    "start_time": "2023-03-11T13:26:23.740Z"
   },
   {
    "duration": 12,
    "start_time": "2023-03-11T13:26:28.530Z"
   },
   {
    "duration": 7,
    "start_time": "2023-03-11T13:27:28.275Z"
   },
   {
    "duration": 7,
    "start_time": "2023-03-11T13:27:31.825Z"
   },
   {
    "duration": 8,
    "start_time": "2023-03-11T13:27:39.664Z"
   },
   {
    "duration": 8,
    "start_time": "2023-03-11T13:28:13.370Z"
   },
   {
    "duration": 22,
    "start_time": "2023-03-11T13:57:07.258Z"
   },
   {
    "duration": 1313,
    "start_time": "2023-03-11T13:57:18.573Z"
   },
   {
    "duration": 1055,
    "start_time": "2023-03-11T13:57:19.889Z"
   },
   {
    "duration": 117,
    "start_time": "2023-03-11T13:57:20.945Z"
   },
   {
    "duration": 40,
    "start_time": "2023-03-11T13:57:21.064Z"
   },
   {
    "duration": 579,
    "start_time": "2023-03-11T13:57:21.107Z"
   },
   {
    "duration": 3,
    "start_time": "2023-03-11T13:57:21.688Z"
   },
   {
    "duration": 854,
    "start_time": "2023-03-11T13:57:21.694Z"
   },
   {
    "duration": 16,
    "start_time": "2023-03-11T13:57:22.550Z"
   },
   {
    "duration": 448,
    "start_time": "2023-03-11T13:57:22.570Z"
   },
   {
    "duration": 210,
    "start_time": "2023-03-11T13:57:23.021Z"
   },
   {
    "duration": 2052,
    "start_time": "2023-03-11T13:57:23.234Z"
   },
   {
    "duration": 16,
    "start_time": "2023-03-11T13:57:25.289Z"
   },
   {
    "duration": 59,
    "start_time": "2023-03-11T13:57:25.306Z"
   },
   {
    "duration": 27,
    "start_time": "2023-03-11T13:57:25.367Z"
   },
   {
    "duration": 87,
    "start_time": "2023-03-11T13:57:25.396Z"
   },
   {
    "duration": 6,
    "start_time": "2023-03-11T13:57:25.485Z"
   },
   {
    "duration": 38,
    "start_time": "2023-03-11T13:57:25.492Z"
   },
   {
    "duration": 149,
    "start_time": "2023-03-11T13:57:25.531Z"
   },
   {
    "duration": 3,
    "start_time": "2023-03-11T13:58:33.667Z"
   },
   {
    "duration": 1275,
    "start_time": "2023-03-11T13:58:53.781Z"
   },
   {
    "duration": 1095,
    "start_time": "2023-03-11T13:58:55.058Z"
   },
   {
    "duration": 123,
    "start_time": "2023-03-11T13:58:56.155Z"
   },
   {
    "duration": 3,
    "start_time": "2023-03-11T13:58:56.280Z"
   },
   {
    "duration": 58,
    "start_time": "2023-03-11T13:58:56.285Z"
   },
   {
    "duration": 125,
    "start_time": "2023-03-11T13:58:56.345Z"
   },
   {
    "duration": 0,
    "start_time": "2023-03-11T13:58:56.473Z"
   },
   {
    "duration": 0,
    "start_time": "2023-03-11T13:58:56.474Z"
   },
   {
    "duration": 0,
    "start_time": "2023-03-11T13:58:56.477Z"
   },
   {
    "duration": 0,
    "start_time": "2023-03-11T13:58:56.478Z"
   },
   {
    "duration": 0,
    "start_time": "2023-03-11T13:58:56.479Z"
   },
   {
    "duration": 0,
    "start_time": "2023-03-11T13:58:56.480Z"
   },
   {
    "duration": 0,
    "start_time": "2023-03-11T13:58:56.482Z"
   },
   {
    "duration": 0,
    "start_time": "2023-03-11T13:58:56.483Z"
   },
   {
    "duration": 0,
    "start_time": "2023-03-11T13:58:56.484Z"
   },
   {
    "duration": 0,
    "start_time": "2023-03-11T13:58:56.486Z"
   },
   {
    "duration": 0,
    "start_time": "2023-03-11T13:58:56.487Z"
   },
   {
    "duration": 0,
    "start_time": "2023-03-11T13:58:56.488Z"
   },
   {
    "duration": 0,
    "start_time": "2023-03-11T13:58:56.489Z"
   },
   {
    "duration": 274,
    "start_time": "2023-03-11T13:59:09.889Z"
   },
   {
    "duration": 1340,
    "start_time": "2023-03-11T13:59:21.054Z"
   },
   {
    "duration": 1140,
    "start_time": "2023-03-11T13:59:22.396Z"
   },
   {
    "duration": 139,
    "start_time": "2023-03-11T13:59:23.538Z"
   },
   {
    "duration": 3,
    "start_time": "2023-03-11T13:59:23.679Z"
   },
   {
    "duration": 53,
    "start_time": "2023-03-11T13:59:23.684Z"
   },
   {
    "duration": 293,
    "start_time": "2023-03-11T13:59:23.739Z"
   },
   {
    "duration": 4,
    "start_time": "2023-03-11T13:59:24.033Z"
   },
   {
    "duration": 869,
    "start_time": "2023-03-11T13:59:24.040Z"
   },
   {
    "duration": 6,
    "start_time": "2023-03-11T13:59:24.911Z"
   },
   {
    "duration": 259,
    "start_time": "2023-03-11T13:59:24.920Z"
   },
   {
    "duration": 124,
    "start_time": "2023-03-11T13:59:25.181Z"
   },
   {
    "duration": 1907,
    "start_time": "2023-03-11T13:59:25.306Z"
   },
   {
    "duration": 12,
    "start_time": "2023-03-11T13:59:27.215Z"
   },
   {
    "duration": 58,
    "start_time": "2023-03-11T13:59:27.229Z"
   },
   {
    "duration": 19,
    "start_time": "2023-03-11T13:59:27.288Z"
   },
   {
    "duration": 37,
    "start_time": "2023-03-11T13:59:27.309Z"
   },
   {
    "duration": 4,
    "start_time": "2023-03-11T13:59:27.348Z"
   },
   {
    "duration": 39,
    "start_time": "2023-03-11T13:59:27.354Z"
   },
   {
    "duration": 128,
    "start_time": "2023-03-11T13:59:27.395Z"
   },
   {
    "duration": 5,
    "start_time": "2023-03-11T14:01:14.488Z"
   },
   {
    "duration": 3,
    "start_time": "2023-03-11T14:02:05.513Z"
   },
   {
    "duration": 71,
    "start_time": "2023-03-11T14:08:55.341Z"
   },
   {
    "duration": 127,
    "start_time": "2023-03-11T14:09:00.596Z"
   },
   {
    "duration": 206,
    "start_time": "2023-03-11T14:10:44.460Z"
   },
   {
    "duration": 232,
    "start_time": "2023-03-11T14:12:03.171Z"
   },
   {
    "duration": 87,
    "start_time": "2023-03-11T14:12:25.851Z"
   },
   {
    "duration": 327,
    "start_time": "2023-03-11T14:14:17.332Z"
   },
   {
    "duration": 325,
    "start_time": "2023-03-11T14:15:09.962Z"
   },
   {
    "duration": 327,
    "start_time": "2023-03-11T14:15:28.098Z"
   },
   {
    "duration": 81,
    "start_time": "2023-03-11T14:15:55.226Z"
   },
   {
    "duration": 81,
    "start_time": "2023-03-11T14:17:16.650Z"
   },
   {
    "duration": 9,
    "start_time": "2023-03-11T14:20:51.095Z"
   },
   {
    "duration": 205,
    "start_time": "2023-03-11T14:20:56.175Z"
   },
   {
    "duration": 843,
    "start_time": "2023-03-11T14:26:24.580Z"
   },
   {
    "duration": 15,
    "start_time": "2023-03-11T14:30:40.075Z"
   },
   {
    "duration": 6,
    "start_time": "2023-03-11T14:30:47.186Z"
   },
   {
    "duration": 5,
    "start_time": "2023-03-11T14:38:08.007Z"
   },
   {
    "duration": 5,
    "start_time": "2023-03-11T14:38:15.910Z"
   },
   {
    "duration": 75,
    "start_time": "2023-03-11T14:40:25.462Z"
   },
   {
    "duration": 4,
    "start_time": "2023-03-11T14:40:34.597Z"
   },
   {
    "duration": 3,
    "start_time": "2023-03-11T14:40:35.133Z"
   },
   {
    "duration": 187,
    "start_time": "2023-03-11T14:40:36.030Z"
   },
   {
    "duration": 1171,
    "start_time": "2023-03-11T14:40:45.600Z"
   },
   {
    "duration": 1048,
    "start_time": "2023-03-11T14:40:46.774Z"
   },
   {
    "duration": 112,
    "start_time": "2023-03-11T14:40:47.824Z"
   },
   {
    "duration": 2,
    "start_time": "2023-03-11T14:40:47.938Z"
   },
   {
    "duration": 64,
    "start_time": "2023-03-11T14:40:47.943Z"
   },
   {
    "duration": 286,
    "start_time": "2023-03-11T14:40:48.009Z"
   },
   {
    "duration": 127,
    "start_time": "2023-03-11T14:40:48.298Z"
   },
   {
    "duration": 5,
    "start_time": "2023-03-11T14:40:48.427Z"
   },
   {
    "duration": 5,
    "start_time": "2023-03-11T14:40:48.434Z"
   },
   {
    "duration": 213,
    "start_time": "2023-03-11T14:40:48.440Z"
   },
   {
    "duration": 333,
    "start_time": "2023-03-11T14:40:48.656Z"
   },
   {
    "duration": 287,
    "start_time": "2023-03-11T14:40:48.991Z"
   },
   {
    "duration": 791,
    "start_time": "2023-03-11T14:40:49.280Z"
   },
   {
    "duration": 8,
    "start_time": "2023-03-11T14:40:50.075Z"
   },
   {
    "duration": 144,
    "start_time": "2023-03-11T14:40:50.085Z"
   },
   {
    "duration": 1708,
    "start_time": "2023-03-11T14:40:50.231Z"
   },
   {
    "duration": 11,
    "start_time": "2023-03-11T14:40:51.941Z"
   },
   {
    "duration": 53,
    "start_time": "2023-03-11T14:40:51.954Z"
   },
   {
    "duration": 17,
    "start_time": "2023-03-11T14:40:52.009Z"
   },
   {
    "duration": 53,
    "start_time": "2023-03-11T14:40:52.028Z"
   },
   {
    "duration": 4,
    "start_time": "2023-03-11T14:40:52.083Z"
   },
   {
    "duration": 43,
    "start_time": "2023-03-11T14:40:52.089Z"
   },
   {
    "duration": 121,
    "start_time": "2023-03-11T14:40:52.134Z"
   },
   {
    "duration": 336,
    "start_time": "2023-03-11T14:41:16.609Z"
   },
   {
    "duration": 302,
    "start_time": "2023-03-11T14:41:23.803Z"
   },
   {
    "duration": 1220,
    "start_time": "2023-03-11T14:41:55.756Z"
   },
   {
    "duration": 1060,
    "start_time": "2023-03-11T14:41:56.979Z"
   },
   {
    "duration": 116,
    "start_time": "2023-03-11T14:41:58.042Z"
   },
   {
    "duration": 3,
    "start_time": "2023-03-11T14:41:58.160Z"
   },
   {
    "duration": 51,
    "start_time": "2023-03-11T14:41:58.176Z"
   },
   {
    "duration": 295,
    "start_time": "2023-03-11T14:41:58.229Z"
   },
   {
    "duration": 5,
    "start_time": "2023-03-11T14:41:58.527Z"
   },
   {
    "duration": 13,
    "start_time": "2023-03-11T14:41:58.534Z"
   },
   {
    "duration": 188,
    "start_time": "2023-03-11T14:41:58.548Z"
   },
   {
    "duration": 296,
    "start_time": "2023-03-11T14:41:58.738Z"
   },
   {
    "duration": 242,
    "start_time": "2023-03-11T14:41:59.036Z"
   },
   {
    "duration": 755,
    "start_time": "2023-03-11T14:41:59.280Z"
   },
   {
    "duration": 6,
    "start_time": "2023-03-11T14:42:00.037Z"
   },
   {
    "duration": 148,
    "start_time": "2023-03-11T14:42:00.044Z"
   },
   {
    "duration": 1767,
    "start_time": "2023-03-11T14:42:00.194Z"
   },
   {
    "duration": 17,
    "start_time": "2023-03-11T14:42:01.963Z"
   },
   {
    "duration": 51,
    "start_time": "2023-03-11T14:42:01.982Z"
   },
   {
    "duration": 17,
    "start_time": "2023-03-11T14:42:02.035Z"
   },
   {
    "duration": 50,
    "start_time": "2023-03-11T14:42:02.054Z"
   },
   {
    "duration": 28,
    "start_time": "2023-03-11T14:42:02.106Z"
   },
   {
    "duration": 40,
    "start_time": "2023-03-11T14:42:02.136Z"
   },
   {
    "duration": 155,
    "start_time": "2023-03-11T14:42:02.178Z"
   },
   {
    "duration": 113,
    "start_time": "2023-03-11T14:42:30.933Z"
   },
   {
    "duration": 12,
    "start_time": "2023-03-11T14:42:44.853Z"
   },
   {
    "duration": 129,
    "start_time": "2023-03-11T14:42:59.204Z"
   },
   {
    "duration": 313,
    "start_time": "2023-03-11T14:43:36.404Z"
   },
   {
    "duration": 505,
    "start_time": "2023-03-11T14:45:00.140Z"
   },
   {
    "duration": 199,
    "start_time": "2023-03-11T14:52:27.728Z"
   },
   {
    "duration": 70,
    "start_time": "2023-03-11T14:53:03.856Z"
   },
   {
    "duration": 194,
    "start_time": "2023-03-11T14:53:08.704Z"
   },
   {
    "duration": 1282,
    "start_time": "2023-03-11T14:58:41.209Z"
   },
   {
    "duration": 1131,
    "start_time": "2023-03-11T14:58:42.493Z"
   },
   {
    "duration": 127,
    "start_time": "2023-03-11T14:58:43.626Z"
   },
   {
    "duration": 3,
    "start_time": "2023-03-11T14:58:43.756Z"
   },
   {
    "duration": 61,
    "start_time": "2023-03-11T14:58:43.760Z"
   },
   {
    "duration": 287,
    "start_time": "2023-03-11T14:58:43.823Z"
   },
   {
    "duration": 5,
    "start_time": "2023-03-11T14:58:44.112Z"
   },
   {
    "duration": 15,
    "start_time": "2023-03-11T14:58:44.118Z"
   },
   {
    "duration": 200,
    "start_time": "2023-03-11T14:58:44.135Z"
   },
   {
    "duration": 296,
    "start_time": "2023-03-11T14:58:44.338Z"
   },
   {
    "duration": 262,
    "start_time": "2023-03-11T14:58:44.636Z"
   },
   {
    "duration": 755,
    "start_time": "2023-03-11T14:58:44.900Z"
   },
   {
    "duration": 6,
    "start_time": "2023-03-11T14:58:45.657Z"
   },
   {
    "duration": 99,
    "start_time": "2023-03-11T14:58:45.664Z"
   },
   {
    "duration": 1872,
    "start_time": "2023-03-11T14:58:45.765Z"
   },
   {
    "duration": 11,
    "start_time": "2023-03-11T14:58:47.639Z"
   },
   {
    "duration": 44,
    "start_time": "2023-03-11T14:58:47.651Z"
   },
   {
    "duration": 17,
    "start_time": "2023-03-11T14:58:47.697Z"
   },
   {
    "duration": 41,
    "start_time": "2023-03-11T14:58:47.715Z"
   },
   {
    "duration": 5,
    "start_time": "2023-03-11T14:58:47.758Z"
   },
   {
    "duration": 45,
    "start_time": "2023-03-11T14:58:47.764Z"
   },
   {
    "duration": 146,
    "start_time": "2023-03-11T14:58:47.810Z"
   },
   {
    "duration": 775,
    "start_time": "2023-03-11T14:59:19.069Z"
   },
   {
    "duration": 448,
    "start_time": "2023-03-11T15:06:55.697Z"
   },
   {
    "duration": 500,
    "start_time": "2023-03-11T15:08:36.768Z"
   },
   {
    "duration": 10,
    "start_time": "2023-03-11T15:42:09.056Z"
   },
   {
    "duration": 10,
    "start_time": "2023-03-11T15:49:59.159Z"
   },
   {
    "duration": 9,
    "start_time": "2023-03-11T15:50:03.564Z"
   },
   {
    "duration": 8,
    "start_time": "2023-03-11T15:53:11.165Z"
   },
   {
    "duration": 108,
    "start_time": "2023-03-11T15:53:46.123Z"
   },
   {
    "duration": 9,
    "start_time": "2023-03-11T15:53:50.456Z"
   },
   {
    "duration": 46980,
    "start_time": "2023-03-11T15:55:27.794Z"
   },
   {
    "duration": 1238,
    "start_time": "2023-03-11T15:56:20.421Z"
   },
   {
    "duration": 1120,
    "start_time": "2023-03-11T15:56:21.662Z"
   },
   {
    "duration": 123,
    "start_time": "2023-03-11T15:56:22.784Z"
   },
   {
    "duration": 3,
    "start_time": "2023-03-11T15:56:22.909Z"
   },
   {
    "duration": 70,
    "start_time": "2023-03-11T15:56:22.916Z"
   },
   {
    "duration": 303,
    "start_time": "2023-03-11T15:56:22.988Z"
   },
   {
    "duration": 5,
    "start_time": "2023-03-11T15:56:23.293Z"
   },
   {
    "duration": 18,
    "start_time": "2023-03-11T15:56:23.300Z"
   },
   {
    "duration": 212,
    "start_time": "2023-03-11T15:56:23.320Z"
   },
   {
    "duration": 302,
    "start_time": "2023-03-11T15:56:23.534Z"
   },
   {
    "duration": 226,
    "start_time": "2023-03-11T15:56:23.838Z"
   },
   {
    "duration": 734,
    "start_time": "2023-03-11T15:56:24.065Z"
   },
   {
    "duration": 11,
    "start_time": "2023-03-11T15:56:24.801Z"
   },
   {
    "duration": 17,
    "start_time": "2023-03-11T15:56:24.816Z"
   },
   {
    "duration": 46859,
    "start_time": "2023-03-11T15:56:24.835Z"
   },
   {
    "duration": 0,
    "start_time": "2023-03-11T15:57:11.696Z"
   },
   {
    "duration": 0,
    "start_time": "2023-03-11T15:57:11.699Z"
   },
   {
    "duration": 0,
    "start_time": "2023-03-11T15:57:11.700Z"
   },
   {
    "duration": 0,
    "start_time": "2023-03-11T15:57:11.701Z"
   },
   {
    "duration": 0,
    "start_time": "2023-03-11T15:57:11.702Z"
   },
   {
    "duration": 0,
    "start_time": "2023-03-11T15:57:11.703Z"
   },
   {
    "duration": 0,
    "start_time": "2023-03-11T15:57:11.704Z"
   },
   {
    "duration": 0,
    "start_time": "2023-03-11T15:57:11.705Z"
   },
   {
    "duration": 0,
    "start_time": "2023-03-11T15:57:11.706Z"
   },
   {
    "duration": 192,
    "start_time": "2023-03-11T15:57:46.026Z"
   },
   {
    "duration": 100903,
    "start_time": "2023-03-11T15:58:01.619Z"
   },
   {
    "duration": 7413,
    "start_time": "2023-03-11T16:00:34.657Z"
   },
   {
    "duration": 440,
    "start_time": "2023-03-11T16:01:31.487Z"
   },
   {
    "duration": 26,
    "start_time": "2023-03-11T16:02:31.814Z"
   },
   {
    "duration": 448,
    "start_time": "2023-03-11T16:02:33.366Z"
   },
   {
    "duration": 12,
    "start_time": "2023-03-11T16:03:03.830Z"
   },
   {
    "duration": 12,
    "start_time": "2023-03-11T16:03:09.680Z"
   },
   {
    "duration": 7,
    "start_time": "2023-03-11T16:06:05.719Z"
   },
   {
    "duration": 7,
    "start_time": "2023-03-11T16:06:10.572Z"
   },
   {
    "duration": 8,
    "start_time": "2023-03-11T16:07:01.340Z"
   },
   {
    "duration": 402,
    "start_time": "2023-03-11T16:09:11.419Z"
   },
   {
    "duration": 228,
    "start_time": "2023-03-11T16:09:48.980Z"
   },
   {
    "duration": 28731,
    "start_time": "2023-03-11T16:09:59.258Z"
   },
   {
    "duration": 206,
    "start_time": "2023-03-11T16:10:38.116Z"
   },
   {
    "duration": 178,
    "start_time": "2023-03-11T16:10:55.621Z"
   },
   {
    "duration": 204,
    "start_time": "2023-03-11T16:11:16.428Z"
   },
   {
    "duration": 12,
    "start_time": "2023-03-11T16:12:04.107Z"
   },
   {
    "duration": 448,
    "start_time": "2023-03-11T16:12:51.865Z"
   },
   {
    "duration": 389,
    "start_time": "2023-03-11T16:14:10.888Z"
   },
   {
    "duration": 450,
    "start_time": "2023-03-11T16:14:22.993Z"
   },
   {
    "duration": 34,
    "start_time": "2023-03-11T16:15:00.874Z"
   },
   {
    "duration": 395,
    "start_time": "2023-03-11T16:15:02.760Z"
   },
   {
    "duration": 35,
    "start_time": "2023-03-11T16:15:25.722Z"
   },
   {
    "duration": 461,
    "start_time": "2023-03-11T16:15:26.424Z"
   },
   {
    "duration": 100,
    "start_time": "2023-03-11T16:15:56.679Z"
   },
   {
    "duration": 0,
    "start_time": "2023-03-11T16:16:35.091Z"
   },
   {
    "duration": 48,
    "start_time": "2023-03-11T16:16:46.871Z"
   },
   {
    "duration": 506,
    "start_time": "2023-03-11T16:17:12.007Z"
   },
   {
    "duration": 1208,
    "start_time": "2023-03-11T16:17:20.978Z"
   },
   {
    "duration": 1096,
    "start_time": "2023-03-11T16:17:22.189Z"
   },
   {
    "duration": 107,
    "start_time": "2023-03-11T16:17:23.287Z"
   },
   {
    "duration": 3,
    "start_time": "2023-03-11T16:17:23.396Z"
   },
   {
    "duration": 117,
    "start_time": "2023-03-11T16:17:23.401Z"
   },
   {
    "duration": 292,
    "start_time": "2023-03-11T16:17:23.520Z"
   },
   {
    "duration": 6,
    "start_time": "2023-03-11T16:17:23.815Z"
   },
   {
    "duration": 32,
    "start_time": "2023-03-11T16:17:23.823Z"
   },
   {
    "duration": 195,
    "start_time": "2023-03-11T16:17:23.857Z"
   },
   {
    "duration": 297,
    "start_time": "2023-03-11T16:17:24.054Z"
   },
   {
    "duration": 246,
    "start_time": "2023-03-11T16:17:24.352Z"
   },
   {
    "duration": 732,
    "start_time": "2023-03-11T16:17:24.600Z"
   },
   {
    "duration": 9,
    "start_time": "2023-03-11T16:17:25.333Z"
   },
   {
    "duration": 23,
    "start_time": "2023-03-11T16:17:25.346Z"
   },
   {
    "duration": 458,
    "start_time": "2023-03-11T16:17:25.371Z"
   },
   {
    "duration": 33,
    "start_time": "2023-03-11T16:17:25.832Z"
   },
   {
    "duration": 17,
    "start_time": "2023-03-11T16:17:25.867Z"
   },
   {
    "duration": 123,
    "start_time": "2023-03-11T16:17:25.886Z"
   },
   {
    "duration": 1762,
    "start_time": "2023-03-11T16:17:26.011Z"
   },
   {
    "duration": 11,
    "start_time": "2023-03-11T16:17:27.777Z"
   },
   {
    "duration": 27,
    "start_time": "2023-03-11T16:17:27.790Z"
   },
   {
    "duration": 17,
    "start_time": "2023-03-11T16:17:27.819Z"
   },
   {
    "duration": 61,
    "start_time": "2023-03-11T16:17:27.838Z"
   },
   {
    "duration": 5,
    "start_time": "2023-03-11T16:17:27.901Z"
   },
   {
    "duration": 34,
    "start_time": "2023-03-11T16:17:27.907Z"
   },
   {
    "duration": 144,
    "start_time": "2023-03-11T16:17:27.943Z"
   },
   {
    "duration": 1609,
    "start_time": "2023-03-11T16:18:40.862Z"
   },
   {
    "duration": 0,
    "start_time": "2023-03-11T16:19:36.098Z"
   },
   {
    "duration": 0,
    "start_time": "2023-03-11T16:19:36.099Z"
   },
   {
    "duration": 0,
    "start_time": "2023-03-11T16:19:38.442Z"
   },
   {
    "duration": 0,
    "start_time": "2023-03-11T16:19:38.444Z"
   },
   {
    "duration": 0,
    "start_time": "2023-03-11T16:19:38.445Z"
   },
   {
    "duration": 0,
    "start_time": "2023-03-11T16:19:38.446Z"
   },
   {
    "duration": 0,
    "start_time": "2023-03-11T16:19:38.448Z"
   },
   {
    "duration": 0,
    "start_time": "2023-03-11T16:19:38.449Z"
   },
   {
    "duration": 0,
    "start_time": "2023-03-11T16:19:38.451Z"
   },
   {
    "duration": 0,
    "start_time": "2023-03-11T16:19:38.452Z"
   },
   {
    "duration": 0,
    "start_time": "2023-03-11T16:19:38.454Z"
   },
   {
    "duration": 0,
    "start_time": "2023-03-11T16:19:38.455Z"
   },
   {
    "duration": 0,
    "start_time": "2023-03-11T16:19:38.456Z"
   },
   {
    "duration": 0,
    "start_time": "2023-03-11T16:19:38.456Z"
   },
   {
    "duration": 0,
    "start_time": "2023-03-11T16:19:38.478Z"
   },
   {
    "duration": 0,
    "start_time": "2023-03-11T16:19:38.480Z"
   },
   {
    "duration": 0,
    "start_time": "2023-03-11T16:19:38.481Z"
   },
   {
    "duration": 0,
    "start_time": "2023-03-11T16:19:38.483Z"
   },
   {
    "duration": 0,
    "start_time": "2023-03-11T16:19:38.485Z"
   },
   {
    "duration": 0,
    "start_time": "2023-03-11T16:19:38.486Z"
   },
   {
    "duration": 0,
    "start_time": "2023-03-11T16:19:38.488Z"
   },
   {
    "duration": 0,
    "start_time": "2023-03-11T16:19:38.489Z"
   },
   {
    "duration": 0,
    "start_time": "2023-03-11T16:19:38.490Z"
   },
   {
    "duration": 0,
    "start_time": "2023-03-11T16:19:38.491Z"
   },
   {
    "duration": 0,
    "start_time": "2023-03-11T16:19:38.492Z"
   },
   {
    "duration": 0,
    "start_time": "2023-03-11T16:19:38.494Z"
   },
   {
    "duration": 0,
    "start_time": "2023-03-11T16:19:38.495Z"
   },
   {
    "duration": 4,
    "start_time": "2023-03-11T16:19:38.505Z"
   },
   {
    "duration": 1026,
    "start_time": "2023-03-11T16:19:39.630Z"
   },
   {
    "duration": 109,
    "start_time": "2023-03-11T16:19:40.659Z"
   },
   {
    "duration": 3,
    "start_time": "2023-03-11T16:19:40.776Z"
   },
   {
    "duration": 55,
    "start_time": "2023-03-11T16:19:40.781Z"
   },
   {
    "duration": 299,
    "start_time": "2023-03-11T16:19:44.389Z"
   },
   {
    "duration": 11,
    "start_time": "2023-03-11T16:19:44.728Z"
   },
   {
    "duration": 5,
    "start_time": "2023-03-11T16:19:44.902Z"
   },
   {
    "duration": 319,
    "start_time": "2023-03-11T16:19:46.709Z"
   },
   {
    "duration": 387,
    "start_time": "2023-03-11T16:19:47.031Z"
   },
   {
    "duration": 237,
    "start_time": "2023-03-11T16:19:47.421Z"
   },
   {
    "duration": 861,
    "start_time": "2023-03-11T16:19:49.574Z"
   },
   {
    "duration": 7,
    "start_time": "2023-03-11T16:19:50.438Z"
   },
   {
    "duration": 7,
    "start_time": "2023-03-11T16:19:53.849Z"
   },
   {
    "duration": 63833,
    "start_time": "2023-03-11T16:19:55.647Z"
   },
   {
    "duration": 1524,
    "start_time": "2023-03-11T16:23:18.284Z"
   },
   {
    "duration": 60205,
    "start_time": "2023-03-11T16:26:53.403Z"
   },
   {
    "duration": 2278,
    "start_time": "2023-03-11T16:28:34.770Z"
   },
   {
    "duration": 26,
    "start_time": "2023-03-11T16:28:42.962Z"
   },
   {
    "duration": 105,
    "start_time": "2023-03-11T16:28:50.128Z"
   },
   {
    "duration": 381,
    "start_time": "2023-03-11T16:29:57.490Z"
   },
   {
    "duration": 18226,
    "start_time": "2023-03-11T16:30:54.929Z"
   },
   {
    "duration": 15862,
    "start_time": "2023-03-11T16:31:30.594Z"
   },
   {
    "duration": 14,
    "start_time": "2023-03-11T16:33:09.968Z"
   },
   {
    "duration": 16049,
    "start_time": "2023-03-11T16:33:25.936Z"
   },
   {
    "duration": 5,
    "start_time": "2023-03-11T16:33:49.728Z"
   },
   {
    "duration": 12,
    "start_time": "2023-03-11T16:34:30.182Z"
   },
   {
    "duration": 9,
    "start_time": "2023-03-11T16:35:17.103Z"
   },
   {
    "duration": 13,
    "start_time": "2023-03-11T16:35:18.271Z"
   },
   {
    "duration": 6,
    "start_time": "2023-03-11T16:35:34.355Z"
   },
   {
    "duration": 15,
    "start_time": "2023-03-11T16:35:34.974Z"
   },
   {
    "duration": 1314,
    "start_time": "2023-03-11T16:35:43.090Z"
   },
   {
    "duration": 1187,
    "start_time": "2023-03-11T16:35:44.407Z"
   },
   {
    "duration": 137,
    "start_time": "2023-03-11T16:35:45.596Z"
   },
   {
    "duration": 3,
    "start_time": "2023-03-11T16:35:45.736Z"
   },
   {
    "duration": 75,
    "start_time": "2023-03-11T16:35:45.742Z"
   },
   {
    "duration": 365,
    "start_time": "2023-03-11T16:35:45.820Z"
   },
   {
    "duration": 5,
    "start_time": "2023-03-11T16:35:46.187Z"
   },
   {
    "duration": 28,
    "start_time": "2023-03-11T16:35:46.194Z"
   },
   {
    "duration": 266,
    "start_time": "2023-03-11T16:35:46.224Z"
   },
   {
    "duration": 328,
    "start_time": "2023-03-11T16:35:46.493Z"
   },
   {
    "duration": 276,
    "start_time": "2023-03-11T16:35:46.824Z"
   },
   {
    "duration": 818,
    "start_time": "2023-03-11T16:35:47.103Z"
   },
   {
    "duration": 9,
    "start_time": "2023-03-11T16:35:47.923Z"
   },
   {
    "duration": 18,
    "start_time": "2023-03-11T16:35:47.934Z"
   },
   {
    "duration": 59688,
    "start_time": "2023-03-11T16:35:47.954Z"
   },
   {
    "duration": 2291,
    "start_time": "2023-03-11T16:36:47.644Z"
   },
   {
    "duration": 45,
    "start_time": "2023-03-11T16:36:49.937Z"
   },
   {
    "duration": 19256,
    "start_time": "2023-03-11T16:36:49.984Z"
   },
   {
    "duration": 24,
    "start_time": "2023-03-11T16:37:09.242Z"
   },
   {
    "duration": 124,
    "start_time": "2023-03-11T16:37:09.276Z"
   },
   {
    "duration": 1705,
    "start_time": "2023-03-11T16:37:09.403Z"
   },
   {
    "duration": 10,
    "start_time": "2023-03-11T16:37:11.110Z"
   },
   {
    "duration": 24,
    "start_time": "2023-03-11T16:37:11.122Z"
   },
   {
    "duration": 38,
    "start_time": "2023-03-11T16:37:11.148Z"
   },
   {
    "duration": 69,
    "start_time": "2023-03-11T16:37:11.190Z"
   },
   {
    "duration": 5,
    "start_time": "2023-03-11T16:37:11.261Z"
   },
   {
    "duration": 29,
    "start_time": "2023-03-11T16:37:11.268Z"
   },
   {
    "duration": 139,
    "start_time": "2023-03-11T16:37:11.301Z"
   },
   {
    "duration": 93,
    "start_time": "2023-03-11T16:39:36.628Z"
   },
   {
    "duration": 1624,
    "start_time": "2023-03-11T16:39:48.379Z"
   },
   {
    "duration": 192,
    "start_time": "2023-03-11T16:41:01.452Z"
   },
   {
    "duration": 84,
    "start_time": "2023-03-11T16:41:09.948Z"
   },
   {
    "duration": 2008,
    "start_time": "2023-03-11T16:42:32.692Z"
   },
   {
    "duration": 22,
    "start_time": "2023-03-11T16:47:02.681Z"
   },
   {
    "duration": 15,
    "start_time": "2023-03-11T16:50:28.023Z"
   },
   {
    "duration": 40,
    "start_time": "2023-03-11T16:50:30.999Z"
   },
   {
    "duration": 4,
    "start_time": "2023-03-11T16:50:31.510Z"
   },
   {
    "duration": 1327,
    "start_time": "2023-03-11T16:50:41.613Z"
   },
   {
    "duration": 1077,
    "start_time": "2023-03-11T16:50:42.942Z"
   },
   {
    "duration": 121,
    "start_time": "2023-03-11T16:50:44.022Z"
   },
   {
    "duration": 3,
    "start_time": "2023-03-11T16:50:44.146Z"
   },
   {
    "duration": 71,
    "start_time": "2023-03-11T16:50:44.151Z"
   },
   {
    "duration": 304,
    "start_time": "2023-03-11T16:50:44.225Z"
   },
   {
    "duration": 4,
    "start_time": "2023-03-11T16:50:44.531Z"
   },
   {
    "duration": 18,
    "start_time": "2023-03-11T16:50:44.537Z"
   },
   {
    "duration": 206,
    "start_time": "2023-03-11T16:50:44.557Z"
   },
   {
    "duration": 308,
    "start_time": "2023-03-11T16:50:44.767Z"
   },
   {
    "duration": 237,
    "start_time": "2023-03-11T16:50:45.078Z"
   },
   {
    "duration": 748,
    "start_time": "2023-03-11T16:50:45.317Z"
   },
   {
    "duration": 15,
    "start_time": "2023-03-11T16:50:46.067Z"
   },
   {
    "duration": 7,
    "start_time": "2023-03-11T16:50:46.084Z"
   },
   {
    "duration": 54343,
    "start_time": "2023-03-11T16:50:46.092Z"
   },
   {
    "duration": 54,
    "start_time": "2023-03-11T16:51:40.437Z"
   },
   {
    "duration": 21420,
    "start_time": "2023-03-11T16:51:40.494Z"
   },
   {
    "duration": 24,
    "start_time": "2023-03-11T16:52:01.916Z"
   },
   {
    "duration": 1870,
    "start_time": "2023-03-11T16:52:01.942Z"
   },
   {
    "duration": 1865,
    "start_time": "2023-03-11T16:52:03.814Z"
   },
   {
    "duration": 16,
    "start_time": "2023-03-11T16:52:05.682Z"
   },
   {
    "duration": 29,
    "start_time": "2023-03-11T16:52:05.701Z"
   },
   {
    "duration": 17,
    "start_time": "2023-03-11T16:52:05.732Z"
   },
   {
    "duration": 76,
    "start_time": "2023-03-11T16:52:05.750Z"
   },
   {
    "duration": 5,
    "start_time": "2023-03-11T16:52:05.828Z"
   },
   {
    "duration": 19,
    "start_time": "2023-03-11T16:52:05.835Z"
   },
   {
    "duration": 112,
    "start_time": "2023-03-11T16:52:05.856Z"
   },
   {
    "duration": 149,
    "start_time": "2023-03-11T16:52:05.977Z"
   },
   {
    "duration": 24,
    "start_time": "2023-03-11T16:53:13.474Z"
   },
   {
    "duration": 5,
    "start_time": "2023-03-11T16:53:27.903Z"
   },
   {
    "duration": 120,
    "start_time": "2023-03-11T16:53:42.445Z"
   },
   {
    "duration": 1256,
    "start_time": "2023-03-11T18:03:19.814Z"
   },
   {
    "duration": 1097,
    "start_time": "2023-03-11T18:03:21.072Z"
   },
   {
    "duration": 121,
    "start_time": "2023-03-11T18:03:22.178Z"
   },
   {
    "duration": 3,
    "start_time": "2023-03-11T18:03:22.302Z"
   },
   {
    "duration": 74,
    "start_time": "2023-03-11T18:03:22.307Z"
   },
   {
    "duration": 329,
    "start_time": "2023-03-11T18:03:22.384Z"
   },
   {
    "duration": 10,
    "start_time": "2023-03-11T18:03:22.717Z"
   },
   {
    "duration": 25,
    "start_time": "2023-03-11T18:03:22.729Z"
   },
   {
    "duration": 206,
    "start_time": "2023-03-11T18:03:22.757Z"
   },
   {
    "duration": 267,
    "start_time": "2023-03-11T18:03:22.966Z"
   },
   {
    "duration": 140,
    "start_time": "2023-03-11T18:03:23.235Z"
   },
   {
    "duration": 0,
    "start_time": "2023-03-11T18:03:23.377Z"
   },
   {
    "duration": 0,
    "start_time": "2023-03-11T18:03:23.379Z"
   },
   {
    "duration": 0,
    "start_time": "2023-03-11T18:03:23.381Z"
   },
   {
    "duration": 0,
    "start_time": "2023-03-11T18:03:23.383Z"
   },
   {
    "duration": 0,
    "start_time": "2023-03-11T18:03:23.384Z"
   },
   {
    "duration": 0,
    "start_time": "2023-03-11T18:03:23.386Z"
   },
   {
    "duration": 0,
    "start_time": "2023-03-11T18:03:23.388Z"
   },
   {
    "duration": 0,
    "start_time": "2023-03-11T18:03:23.389Z"
   },
   {
    "duration": 0,
    "start_time": "2023-03-11T18:03:23.390Z"
   },
   {
    "duration": 0,
    "start_time": "2023-03-11T18:03:23.392Z"
   },
   {
    "duration": 0,
    "start_time": "2023-03-11T18:03:23.393Z"
   },
   {
    "duration": 0,
    "start_time": "2023-03-11T18:03:23.395Z"
   },
   {
    "duration": 0,
    "start_time": "2023-03-11T18:03:23.397Z"
   },
   {
    "duration": 0,
    "start_time": "2023-03-11T18:03:23.398Z"
   },
   {
    "duration": 0,
    "start_time": "2023-03-11T18:03:23.400Z"
   },
   {
    "duration": 0,
    "start_time": "2023-03-11T18:03:23.402Z"
   },
   {
    "duration": 0,
    "start_time": "2023-03-11T18:03:23.403Z"
   },
   {
    "duration": 3,
    "start_time": "2023-03-11T18:06:48.191Z"
   },
   {
    "duration": 196,
    "start_time": "2023-03-11T18:06:49.557Z"
   },
   {
    "duration": 271,
    "start_time": "2023-03-11T18:06:52.535Z"
   },
   {
    "duration": 196,
    "start_time": "2023-03-11T18:06:56.279Z"
   },
   {
    "duration": 6,
    "start_time": "2023-03-11T18:07:34.372Z"
   },
   {
    "duration": 47793,
    "start_time": "2023-03-11T18:07:41.470Z"
   },
   {
    "duration": 543,
    "start_time": "2023-03-11T18:08:46.678Z"
   },
   {
    "duration": 215,
    "start_time": "2023-03-11T18:08:57.651Z"
   },
   {
    "duration": 5733,
    "start_time": "2023-03-11T18:09:04.652Z"
   },
   {
    "duration": 20,
    "start_time": "2023-03-11T18:09:23.054Z"
   },
   {
    "duration": 13249,
    "start_time": "2023-03-11T18:09:31.188Z"
   },
   {
    "duration": 22,
    "start_time": "2023-03-11T18:09:55.500Z"
   },
   {
    "duration": 1501,
    "start_time": "2023-03-11T18:09:57.260Z"
   },
   {
    "duration": 1419,
    "start_time": "2023-03-11T18:10:02.476Z"
   },
   {
    "duration": 10,
    "start_time": "2023-03-11T18:10:03.897Z"
   },
   {
    "duration": 1132,
    "start_time": "2023-03-11T18:10:41.182Z"
   },
   {
    "duration": 9,
    "start_time": "2023-03-11T18:11:21.044Z"
   },
   {
    "duration": 23,
    "start_time": "2023-03-11T18:11:58.268Z"
   },
   {
    "duration": 11,
    "start_time": "2023-03-11T18:12:09.371Z"
   },
   {
    "duration": 237,
    "start_time": "2023-03-11T18:13:21.827Z"
   },
   {
    "duration": 145,
    "start_time": "2023-03-11T18:13:54.122Z"
   },
   {
    "duration": 178,
    "start_time": "2023-03-11T18:15:44.730Z"
   },
   {
    "duration": 1277,
    "start_time": "2023-03-11T18:16:15.491Z"
   },
   {
    "duration": 1063,
    "start_time": "2023-03-11T18:16:16.770Z"
   },
   {
    "duration": 118,
    "start_time": "2023-03-11T18:16:17.835Z"
   },
   {
    "duration": 3,
    "start_time": "2023-03-11T18:16:17.956Z"
   },
   {
    "duration": 69,
    "start_time": "2023-03-11T18:16:17.961Z"
   },
   {
    "duration": 237,
    "start_time": "2023-03-11T18:16:18.032Z"
   },
   {
    "duration": 7,
    "start_time": "2023-03-11T18:16:18.271Z"
   },
   {
    "duration": 13,
    "start_time": "2023-03-11T18:16:18.280Z"
   },
   {
    "duration": 169,
    "start_time": "2023-03-11T18:16:18.295Z"
   },
   {
    "duration": 289,
    "start_time": "2023-03-11T18:16:18.467Z"
   },
   {
    "duration": 6,
    "start_time": "2023-03-11T18:16:18.757Z"
   },
   {
    "duration": 18,
    "start_time": "2023-03-11T18:16:18.765Z"
   },
   {
    "duration": 130,
    "start_time": "2023-03-11T18:16:18.785Z"
   },
   {
    "duration": 24,
    "start_time": "2023-03-11T18:16:18.919Z"
   },
   {
    "duration": 3,
    "start_time": "2023-03-11T18:16:18.945Z"
   },
   {
    "duration": 172,
    "start_time": "2023-03-11T18:16:18.951Z"
   },
   {
    "duration": 22,
    "start_time": "2023-03-11T18:16:19.125Z"
   },
   {
    "duration": 223,
    "start_time": "2023-03-11T18:16:19.149Z"
   },
   {
    "duration": 558,
    "start_time": "2023-03-11T18:16:19.377Z"
   },
   {
    "duration": 216,
    "start_time": "2023-03-11T18:16:19.938Z"
   },
   {
    "duration": 22,
    "start_time": "2023-03-11T18:16:20.156Z"
   },
   {
    "duration": 28,
    "start_time": "2023-03-11T18:16:20.180Z"
   },
   {
    "duration": 24,
    "start_time": "2023-03-11T18:16:20.210Z"
   },
   {
    "duration": 61,
    "start_time": "2023-03-11T18:16:20.236Z"
   },
   {
    "duration": 5,
    "start_time": "2023-03-11T18:16:20.300Z"
   },
   {
    "duration": 44,
    "start_time": "2023-03-11T18:16:20.307Z"
   },
   {
    "duration": 119,
    "start_time": "2023-03-11T18:16:20.354Z"
   },
   {
    "duration": 84,
    "start_time": "2023-03-11T18:16:20.475Z"
   },
   {
    "duration": 179,
    "start_time": "2023-03-11T18:18:35.775Z"
   },
   {
    "duration": 1194,
    "start_time": "2023-03-11T18:19:15.040Z"
   },
   {
    "duration": 1013,
    "start_time": "2023-03-11T18:19:16.237Z"
   },
   {
    "duration": 144,
    "start_time": "2023-03-11T18:19:17.255Z"
   },
   {
    "duration": 3,
    "start_time": "2023-03-11T18:19:17.400Z"
   },
   {
    "duration": 54,
    "start_time": "2023-03-11T18:19:17.405Z"
   },
   {
    "duration": 252,
    "start_time": "2023-03-11T18:19:17.461Z"
   },
   {
    "duration": 4,
    "start_time": "2023-03-11T18:19:17.715Z"
   },
   {
    "duration": 6,
    "start_time": "2023-03-11T18:19:17.721Z"
   },
   {
    "duration": 171,
    "start_time": "2023-03-11T18:19:17.731Z"
   },
   {
    "duration": 246,
    "start_time": "2023-03-11T18:19:17.904Z"
   },
   {
    "duration": 6,
    "start_time": "2023-03-11T18:19:18.152Z"
   },
   {
    "duration": 18,
    "start_time": "2023-03-11T18:19:18.159Z"
   },
   {
    "duration": 165,
    "start_time": "2023-03-11T18:19:18.179Z"
   },
   {
    "duration": 23,
    "start_time": "2023-03-11T18:19:18.346Z"
   },
   {
    "duration": 3,
    "start_time": "2023-03-11T18:19:18.377Z"
   },
   {
    "duration": 182,
    "start_time": "2023-03-11T18:19:18.383Z"
   },
   {
    "duration": 32,
    "start_time": "2023-03-11T18:19:18.567Z"
   },
   {
    "duration": 244,
    "start_time": "2023-03-11T18:19:18.601Z"
   },
   {
    "duration": 16,
    "start_time": "2023-03-11T18:19:18.850Z"
   },
   {
    "duration": 276,
    "start_time": "2023-03-11T18:19:18.869Z"
   },
   {
    "duration": 172,
    "start_time": "2023-03-11T18:19:19.148Z"
   },
   {
    "duration": 10,
    "start_time": "2023-03-11T18:19:19.322Z"
   },
   {
    "duration": 14,
    "start_time": "2023-03-11T18:19:19.334Z"
   },
   {
    "duration": 29,
    "start_time": "2023-03-11T18:19:19.350Z"
   },
   {
    "duration": 4,
    "start_time": "2023-03-11T18:19:19.381Z"
   },
   {
    "duration": 9,
    "start_time": "2023-03-11T18:19:19.387Z"
   },
   {
    "duration": 19,
    "start_time": "2023-03-11T18:19:19.400Z"
   },
   {
    "duration": 20,
    "start_time": "2023-03-11T18:19:19.421Z"
   },
   {
    "duration": 1245,
    "start_time": "2023-03-11T18:20:30.217Z"
   },
   {
    "duration": 1101,
    "start_time": "2023-03-11T18:20:31.464Z"
   },
   {
    "duration": 125,
    "start_time": "2023-03-11T18:20:32.576Z"
   },
   {
    "duration": 3,
    "start_time": "2023-03-11T18:20:32.703Z"
   },
   {
    "duration": 83,
    "start_time": "2023-03-11T18:20:32.707Z"
   },
   {
    "duration": 235,
    "start_time": "2023-03-11T18:20:32.792Z"
   },
   {
    "duration": 5,
    "start_time": "2023-03-11T18:20:33.028Z"
   },
   {
    "duration": 39,
    "start_time": "2023-03-11T18:20:33.034Z"
   },
   {
    "duration": 178,
    "start_time": "2023-03-11T18:20:33.075Z"
   },
   {
    "duration": 272,
    "start_time": "2023-03-11T18:20:33.256Z"
   },
   {
    "duration": 8,
    "start_time": "2023-03-11T18:20:33.530Z"
   },
   {
    "duration": 30,
    "start_time": "2023-03-11T18:20:33.540Z"
   },
   {
    "duration": 187,
    "start_time": "2023-03-11T18:20:33.572Z"
   },
   {
    "duration": 28,
    "start_time": "2023-03-11T18:20:33.761Z"
   },
   {
    "duration": 3,
    "start_time": "2023-03-11T18:20:33.791Z"
   },
   {
    "duration": 199,
    "start_time": "2023-03-11T18:20:33.795Z"
   },
   {
    "duration": 23,
    "start_time": "2023-03-11T18:20:33.995Z"
   },
   {
    "duration": 262,
    "start_time": "2023-03-11T18:20:34.020Z"
   },
   {
    "duration": 24,
    "start_time": "2023-03-11T18:20:34.283Z"
   },
   {
    "duration": 286,
    "start_time": "2023-03-11T18:20:34.309Z"
   },
   {
    "duration": 181,
    "start_time": "2023-03-11T18:20:34.597Z"
   },
   {
    "duration": 8,
    "start_time": "2023-03-11T18:20:34.780Z"
   },
   {
    "duration": 24,
    "start_time": "2023-03-11T18:20:34.790Z"
   },
   {
    "duration": 12,
    "start_time": "2023-03-11T18:20:34.816Z"
   },
   {
    "duration": 8,
    "start_time": "2023-03-11T18:20:34.830Z"
   },
   {
    "duration": 17,
    "start_time": "2023-03-11T18:20:34.841Z"
   },
   {
    "duration": 33,
    "start_time": "2023-03-11T18:20:34.860Z"
   },
   {
    "duration": 26,
    "start_time": "2023-03-11T18:20:34.899Z"
   },
   {
    "duration": 3,
    "start_time": "2023-03-11T18:21:24.493Z"
   },
   {
    "duration": 968,
    "start_time": "2023-03-11T18:21:24.830Z"
   },
   {
    "duration": 106,
    "start_time": "2023-03-11T18:21:25.800Z"
   },
   {
    "duration": 4,
    "start_time": "2023-03-11T18:21:28.808Z"
   },
   {
    "duration": 45,
    "start_time": "2023-03-11T18:21:30.766Z"
   },
   {
    "duration": 230,
    "start_time": "2023-03-11T18:21:34.390Z"
   },
   {
    "duration": 4,
    "start_time": "2023-03-11T18:21:43.173Z"
   },
   {
    "duration": 156,
    "start_time": "2023-03-11T18:21:44.510Z"
   },
   {
    "duration": 263,
    "start_time": "2023-03-11T18:21:47.422Z"
   },
   {
    "duration": 6,
    "start_time": "2023-03-11T18:21:52.213Z"
   },
   {
    "duration": 3,
    "start_time": "2023-03-11T18:21:54.645Z"
   },
   {
    "duration": 161,
    "start_time": "2023-03-11T18:21:56.470Z"
   },
   {
    "duration": 26,
    "start_time": "2023-03-11T18:22:04.701Z"
   },
   {
    "duration": 2,
    "start_time": "2023-03-11T18:22:09.293Z"
   },
   {
    "duration": 203,
    "start_time": "2023-03-11T18:22:10.118Z"
   },
   {
    "duration": 23,
    "start_time": "2023-03-11T18:22:17.870Z"
   },
   {
    "duration": 341,
    "start_time": "2023-03-11T18:22:24.741Z"
   },
   {
    "duration": 19,
    "start_time": "2023-03-11T18:22:31.374Z"
   },
   {
    "duration": 6,
    "start_time": "2023-03-11T18:22:41.798Z"
   },
   {
    "duration": 1263,
    "start_time": "2023-03-11T18:22:47.600Z"
   },
   {
    "duration": 1119,
    "start_time": "2023-03-11T18:22:48.867Z"
   },
   {
    "duration": 130,
    "start_time": "2023-03-11T18:22:49.988Z"
   },
   {
    "duration": 3,
    "start_time": "2023-03-11T18:22:50.120Z"
   },
   {
    "duration": 70,
    "start_time": "2023-03-11T18:22:50.126Z"
   },
   {
    "duration": 247,
    "start_time": "2023-03-11T18:22:50.198Z"
   },
   {
    "duration": 3,
    "start_time": "2023-03-11T18:22:50.447Z"
   },
   {
    "duration": 188,
    "start_time": "2023-03-11T18:22:50.451Z"
   },
   {
    "duration": 281,
    "start_time": "2023-03-11T18:22:50.641Z"
   },
   {
    "duration": 6,
    "start_time": "2023-03-11T18:22:50.924Z"
   },
   {
    "duration": 13,
    "start_time": "2023-03-11T18:22:50.931Z"
   },
   {
    "duration": 180,
    "start_time": "2023-03-11T18:22:50.946Z"
   },
   {
    "duration": 28,
    "start_time": "2023-03-11T18:22:51.128Z"
   },
   {
    "duration": 18,
    "start_time": "2023-03-11T18:22:51.160Z"
   },
   {
    "duration": 203,
    "start_time": "2023-03-11T18:22:51.180Z"
   },
   {
    "duration": 24,
    "start_time": "2023-03-11T18:22:51.385Z"
   },
   {
    "duration": 277,
    "start_time": "2023-03-11T18:22:51.411Z"
   },
   {
    "duration": 22,
    "start_time": "2023-03-11T18:22:51.690Z"
   },
   {
    "duration": 440,
    "start_time": "2023-03-11T18:22:51.714Z"
   },
   {
    "duration": 223,
    "start_time": "2023-03-11T18:22:52.157Z"
   },
   {
    "duration": 20,
    "start_time": "2023-03-11T18:22:52.382Z"
   },
   {
    "duration": 21,
    "start_time": "2023-03-11T18:22:52.405Z"
   },
   {
    "duration": 56,
    "start_time": "2023-03-11T18:22:52.428Z"
   },
   {
    "duration": 22,
    "start_time": "2023-03-11T18:22:52.487Z"
   },
   {
    "duration": 43,
    "start_time": "2023-03-11T18:22:52.512Z"
   },
   {
    "duration": 108,
    "start_time": "2023-03-11T18:22:52.557Z"
   },
   {
    "duration": 98,
    "start_time": "2023-03-11T18:22:52.667Z"
   },
   {
    "duration": 18,
    "start_time": "2023-03-11T18:24:11.788Z"
   },
   {
    "duration": 387,
    "start_time": "2023-03-11T18:24:12.909Z"
   },
   {
    "duration": 259,
    "start_time": "2023-03-11T18:24:15.292Z"
   },
   {
    "duration": 21,
    "start_time": "2023-03-11T18:24:25.870Z"
   },
   {
    "duration": 15,
    "start_time": "2023-03-11T18:24:36.940Z"
   },
   {
    "duration": 24,
    "start_time": "2023-03-11T18:24:39.084Z"
   },
   {
    "duration": 4,
    "start_time": "2023-03-11T18:24:39.780Z"
   },
   {
    "duration": 14,
    "start_time": "2023-03-11T18:24:41.196Z"
   },
   {
    "duration": 66,
    "start_time": "2023-03-11T18:24:53.773Z"
   },
   {
    "duration": 69,
    "start_time": "2023-03-11T18:24:54.550Z"
   },
   {
    "duration": 147,
    "start_time": "2023-03-11T18:26:33.532Z"
   },
   {
    "duration": 157,
    "start_time": "2023-03-11T18:26:59.131Z"
   },
   {
    "duration": 237,
    "start_time": "2023-03-11T18:27:30.264Z"
   },
   {
    "duration": 1266,
    "start_time": "2023-03-11T18:27:41.144Z"
   },
   {
    "duration": 1197,
    "start_time": "2023-03-11T18:27:42.414Z"
   },
   {
    "duration": 113,
    "start_time": "2023-03-11T18:27:43.614Z"
   },
   {
    "duration": 11,
    "start_time": "2023-03-11T18:27:43.730Z"
   },
   {
    "duration": 99,
    "start_time": "2023-03-11T18:27:43.747Z"
   },
   {
    "duration": 223,
    "start_time": "2023-03-11T18:27:43.848Z"
   },
   {
    "duration": 5,
    "start_time": "2023-03-11T18:27:44.076Z"
   },
   {
    "duration": 178,
    "start_time": "2023-03-11T18:27:44.083Z"
   },
   {
    "duration": 284,
    "start_time": "2023-03-11T18:27:44.263Z"
   },
   {
    "duration": 5,
    "start_time": "2023-03-11T18:27:44.550Z"
   },
   {
    "duration": 191,
    "start_time": "2023-03-11T18:27:44.557Z"
   },
   {
    "duration": 34,
    "start_time": "2023-03-11T18:27:44.750Z"
   },
   {
    "duration": 191,
    "start_time": "2023-03-11T18:27:44.786Z"
   },
   {
    "duration": 25,
    "start_time": "2023-03-11T18:27:44.979Z"
   },
   {
    "duration": 259,
    "start_time": "2023-03-11T18:27:45.006Z"
   },
   {
    "duration": 35,
    "start_time": "2023-03-11T18:27:45.268Z"
   },
   {
    "duration": 421,
    "start_time": "2023-03-11T18:27:45.305Z"
   },
   {
    "duration": 205,
    "start_time": "2023-03-11T18:27:45.728Z"
   },
   {
    "duration": 21,
    "start_time": "2023-03-11T18:27:45.935Z"
   },
   {
    "duration": 15,
    "start_time": "2023-03-11T18:27:45.976Z"
   },
   {
    "duration": 41,
    "start_time": "2023-03-11T18:27:45.993Z"
   },
   {
    "duration": 5,
    "start_time": "2023-03-11T18:27:46.036Z"
   },
   {
    "duration": 30,
    "start_time": "2023-03-11T18:27:46.046Z"
   },
   {
    "duration": 95,
    "start_time": "2023-03-11T18:27:46.078Z"
   },
   {
    "duration": 71,
    "start_time": "2023-03-11T18:27:46.175Z"
   },
   {
    "duration": 542,
    "start_time": "2023-03-11T18:36:21.080Z"
   },
   {
    "duration": 113,
    "start_time": "2023-03-11T18:36:22.134Z"
   },
   {
    "duration": 388,
    "start_time": "2023-03-11T18:36:30.974Z"
   },
   {
    "duration": 62,
    "start_time": "2023-03-11T18:36:37.158Z"
   },
   {
    "duration": 1111,
    "start_time": "2023-03-11T18:37:13.569Z"
   },
   {
    "duration": 35,
    "start_time": "2023-03-11T18:38:29.286Z"
   },
   {
    "duration": 3,
    "start_time": "2023-03-11T18:39:29.133Z"
   },
   {
    "duration": 4,
    "start_time": "2023-03-11T18:40:22.174Z"
   },
   {
    "duration": 1930,
    "start_time": "2023-03-16T12:21:28.538Z"
   },
   {
    "duration": 3294,
    "start_time": "2023-03-16T12:21:30.470Z"
   },
   {
    "duration": 133,
    "start_time": "2023-03-16T12:21:33.766Z"
   },
   {
    "duration": 3,
    "start_time": "2023-03-16T12:21:33.901Z"
   },
   {
    "duration": 68,
    "start_time": "2023-03-16T12:21:33.906Z"
   },
   {
    "duration": 307,
    "start_time": "2023-03-16T12:21:33.976Z"
   },
   {
    "duration": 3,
    "start_time": "2023-03-16T12:21:34.284Z"
   },
   {
    "duration": 194,
    "start_time": "2023-03-16T12:21:34.291Z"
   },
   {
    "duration": 243,
    "start_time": "2023-03-16T12:21:34.487Z"
   },
   {
    "duration": 5,
    "start_time": "2023-03-16T12:21:34.733Z"
   },
   {
    "duration": 184,
    "start_time": "2023-03-16T12:21:34.739Z"
   },
   {
    "duration": 27,
    "start_time": "2023-03-16T12:21:34.925Z"
   },
   {
    "duration": 174,
    "start_time": "2023-03-16T12:21:34.954Z"
   },
   {
    "duration": 20,
    "start_time": "2023-03-16T12:21:35.130Z"
   },
   {
    "duration": 232,
    "start_time": "2023-03-16T12:21:35.152Z"
   },
   {
    "duration": 19,
    "start_time": "2023-03-16T12:21:35.386Z"
   },
   {
    "duration": 460,
    "start_time": "2023-03-16T12:21:35.406Z"
   },
   {
    "duration": 182,
    "start_time": "2023-03-16T12:21:35.868Z"
   },
   {
    "duration": 18,
    "start_time": "2023-03-16T12:21:36.052Z"
   },
   {
    "duration": 12,
    "start_time": "2023-03-16T12:21:36.072Z"
   },
   {
    "duration": 55,
    "start_time": "2023-03-16T12:21:36.085Z"
   },
   {
    "duration": 5,
    "start_time": "2023-03-16T12:21:36.142Z"
   },
   {
    "duration": 29,
    "start_time": "2023-03-16T12:21:36.148Z"
   },
   {
    "duration": 113,
    "start_time": "2023-03-16T12:21:36.178Z"
   },
   {
    "duration": 88,
    "start_time": "2023-03-16T12:21:36.293Z"
   },
   {
    "duration": 127,
    "start_time": "2023-03-16T12:21:36.382Z"
   },
   {
    "duration": 0,
    "start_time": "2023-03-16T12:21:36.511Z"
   },
   {
    "duration": 0,
    "start_time": "2023-03-16T12:21:36.512Z"
   },
   {
    "duration": 0,
    "start_time": "2023-03-16T12:21:36.524Z"
   },
   {
    "duration": 1626,
    "start_time": "2023-03-16T17:32:19.955Z"
   },
   {
    "duration": 1189,
    "start_time": "2023-03-16T17:32:21.583Z"
   },
   {
    "duration": 124,
    "start_time": "2023-03-16T17:32:22.774Z"
   },
   {
    "duration": 3,
    "start_time": "2023-03-16T17:32:22.901Z"
   },
   {
    "duration": 48,
    "start_time": "2023-03-16T17:32:22.907Z"
   },
   {
    "duration": 220,
    "start_time": "2023-03-16T17:32:22.957Z"
   },
   {
    "duration": 4,
    "start_time": "2023-03-16T17:32:23.179Z"
   },
   {
    "duration": 149,
    "start_time": "2023-03-16T17:32:23.192Z"
   },
   {
    "duration": 247,
    "start_time": "2023-03-16T17:32:23.343Z"
   },
   {
    "duration": 6,
    "start_time": "2023-03-16T17:32:23.592Z"
   },
   {
    "duration": 175,
    "start_time": "2023-03-16T17:32:23.599Z"
   },
   {
    "duration": 30,
    "start_time": "2023-03-16T17:32:23.776Z"
   },
   {
    "duration": 156,
    "start_time": "2023-03-16T17:32:23.808Z"
   },
   {
    "duration": 30,
    "start_time": "2023-03-16T17:32:23.967Z"
   },
   {
    "duration": 224,
    "start_time": "2023-03-16T17:32:23.998Z"
   },
   {
    "duration": 18,
    "start_time": "2023-03-16T17:32:24.225Z"
   },
   {
    "duration": 474,
    "start_time": "2023-03-16T17:32:24.244Z"
   },
   {
    "duration": 200,
    "start_time": "2023-03-16T17:32:24.721Z"
   },
   {
    "duration": 18,
    "start_time": "2023-03-16T17:32:24.923Z"
   },
   {
    "duration": 13,
    "start_time": "2023-03-16T17:32:24.942Z"
   },
   {
    "duration": 42,
    "start_time": "2023-03-16T17:32:24.956Z"
   },
   {
    "duration": 4,
    "start_time": "2023-03-16T17:32:25.000Z"
   },
   {
    "duration": 31,
    "start_time": "2023-03-16T17:32:25.006Z"
   },
   {
    "duration": 224,
    "start_time": "2023-03-16T17:32:25.039Z"
   },
   {
    "duration": 214,
    "start_time": "2023-03-16T17:32:25.264Z"
   },
   {
    "duration": 215,
    "start_time": "2023-03-16T17:32:25.479Z"
   },
   {
    "duration": 63,
    "start_time": "2023-03-16T17:32:25.696Z"
   },
   {
    "duration": 77,
    "start_time": "2023-03-16T17:32:25.761Z"
   },
   {
    "duration": 128,
    "start_time": "2023-03-16T17:32:25.840Z"
   },
   {
    "duration": 0,
    "start_time": "2023-03-16T17:32:25.969Z"
   },
   {
    "duration": 0,
    "start_time": "2023-03-16T17:32:25.971Z"
   },
   {
    "duration": 0,
    "start_time": "2023-03-16T17:32:25.971Z"
   },
   {
    "duration": 80,
    "start_time": "2023-03-16T17:45:52.192Z"
   },
   {
    "duration": 12,
    "start_time": "2023-03-16T17:45:53.613Z"
   },
   {
    "duration": 14,
    "start_time": "2023-03-16T17:46:05.684Z"
   },
   {
    "duration": 5,
    "start_time": "2023-03-16T17:46:12.208Z"
   },
   {
    "duration": 18,
    "start_time": "2023-03-16T17:46:30.947Z"
   },
   {
    "duration": 5,
    "start_time": "2023-03-16T17:46:36.458Z"
   },
   {
    "duration": 14,
    "start_time": "2023-03-16T17:51:37.252Z"
   },
   {
    "duration": 36,
    "start_time": "2023-03-16T17:51:43.834Z"
   },
   {
    "duration": 4,
    "start_time": "2023-03-16T17:51:52.919Z"
   },
   {
    "duration": 18,
    "start_time": "2023-03-16T17:51:54.616Z"
   },
   {
    "duration": 3,
    "start_time": "2023-03-16T17:52:01.975Z"
   },
   {
    "duration": 119,
    "start_time": "2023-03-16T17:52:03.574Z"
   },
   {
    "duration": 4,
    "start_time": "2023-03-16T17:52:19.143Z"
   },
   {
    "duration": 3,
    "start_time": "2023-03-16T17:52:19.818Z"
   },
   {
    "duration": 47645,
    "start_time": "2023-03-16T17:52:20.464Z"
   },
   {
    "duration": 4,
    "start_time": "2023-03-16T17:53:47.108Z"
   },
   {
    "duration": 77,
    "start_time": "2023-03-16T17:56:11.133Z"
   },
   {
    "duration": 506,
    "start_time": "2023-03-16T17:56:44.709Z"
   },
   {
    "duration": 5,
    "start_time": "2023-03-16T18:13:06.459Z"
   },
   {
    "duration": 5,
    "start_time": "2023-03-16T18:15:34.520Z"
   },
   {
    "duration": 11,
    "start_time": "2023-03-16T18:15:34.948Z"
   },
   {
    "duration": 3,
    "start_time": "2023-03-16T18:16:05.115Z"
   },
   {
    "duration": 4,
    "start_time": "2023-03-16T18:16:06.851Z"
   },
   {
    "duration": 48176,
    "start_time": "2023-03-16T18:16:07.819Z"
   },
   {
    "duration": 10,
    "start_time": "2023-03-16T18:17:19.467Z"
   },
   {
    "duration": 562,
    "start_time": "2023-03-16T18:17:41.218Z"
   },
   {
    "duration": 4,
    "start_time": "2023-03-16T18:17:43.223Z"
   },
   {
    "duration": 5,
    "start_time": "2023-03-16T18:21:15.462Z"
   },
   {
    "duration": 3,
    "start_time": "2023-03-16T18:21:16.457Z"
   },
   {
    "duration": 0,
    "start_time": "2023-03-16T18:27:49.912Z"
   },
   {
    "duration": 0,
    "start_time": "2023-03-16T18:27:49.914Z"
   },
   {
    "duration": 0,
    "start_time": "2023-03-16T18:27:49.915Z"
   },
   {
    "duration": 9,
    "start_time": "2023-03-16T18:27:53.382Z"
   },
   {
    "duration": 11,
    "start_time": "2023-03-16T18:28:29.190Z"
   },
   {
    "duration": 9,
    "start_time": "2023-03-16T18:30:50.244Z"
   },
   {
    "duration": 4,
    "start_time": "2023-03-16T18:30:53.562Z"
   },
   {
    "duration": 4,
    "start_time": "2023-03-16T18:31:15.345Z"
   },
   {
    "duration": 5,
    "start_time": "2023-03-16T18:31:16.300Z"
   },
   {
    "duration": 0,
    "start_time": "2023-03-16T18:36:49.315Z"
   },
   {
    "duration": 10,
    "start_time": "2023-03-16T18:36:53.554Z"
   },
   {
    "duration": 10,
    "start_time": "2023-03-16T18:37:15.185Z"
   },
   {
    "duration": 13,
    "start_time": "2023-03-16T18:37:49.928Z"
   },
   {
    "duration": 1497,
    "start_time": "2023-03-16T18:41:24.438Z"
   },
   {
    "duration": 1111,
    "start_time": "2023-03-16T18:41:25.938Z"
   },
   {
    "duration": 118,
    "start_time": "2023-03-16T18:41:27.051Z"
   },
   {
    "duration": 3,
    "start_time": "2023-03-16T18:41:27.174Z"
   },
   {
    "duration": 59,
    "start_time": "2023-03-16T18:41:27.189Z"
   },
   {
    "duration": 283,
    "start_time": "2023-03-16T18:41:27.252Z"
   },
   {
    "duration": 3,
    "start_time": "2023-03-16T18:41:27.537Z"
   },
   {
    "duration": 202,
    "start_time": "2023-03-16T18:41:27.542Z"
   },
   {
    "duration": 270,
    "start_time": "2023-03-16T18:41:27.747Z"
   },
   {
    "duration": 8,
    "start_time": "2023-03-16T18:41:28.022Z"
   },
   {
    "duration": 288,
    "start_time": "2023-03-16T18:41:28.032Z"
   },
   {
    "duration": 36,
    "start_time": "2023-03-16T18:41:28.322Z"
   },
   {
    "duration": 262,
    "start_time": "2023-03-16T18:41:28.360Z"
   },
   {
    "duration": 29,
    "start_time": "2023-03-16T18:41:28.624Z"
   },
   {
    "duration": 347,
    "start_time": "2023-03-16T18:41:28.655Z"
   },
   {
    "duration": 26,
    "start_time": "2023-03-16T18:41:29.004Z"
   },
   {
    "duration": 493,
    "start_time": "2023-03-16T18:41:29.033Z"
   },
   {
    "duration": 197,
    "start_time": "2023-03-16T18:41:29.529Z"
   },
   {
    "duration": 26,
    "start_time": "2023-03-16T18:41:29.728Z"
   },
   {
    "duration": 34,
    "start_time": "2023-03-16T18:41:29.756Z"
   },
   {
    "duration": 29,
    "start_time": "2023-03-16T18:41:29.793Z"
   },
   {
    "duration": 6,
    "start_time": "2023-03-16T18:41:29.824Z"
   },
   {
    "duration": 21,
    "start_time": "2023-03-16T18:41:29.831Z"
   },
   {
    "duration": 252,
    "start_time": "2023-03-16T18:41:29.854Z"
   },
   {
    "duration": 244,
    "start_time": "2023-03-16T18:41:30.108Z"
   },
   {
    "duration": 338,
    "start_time": "2023-03-16T18:41:30.354Z"
   },
   {
    "duration": 134,
    "start_time": "2023-03-16T18:41:30.694Z"
   },
   {
    "duration": 99,
    "start_time": "2023-03-16T18:41:30.833Z"
   },
   {
    "duration": 93,
    "start_time": "2023-03-16T18:41:30.934Z"
   },
   {
    "duration": 5,
    "start_time": "2023-03-16T18:41:31.030Z"
   },
   {
    "duration": 20,
    "start_time": "2023-03-16T18:41:31.036Z"
   },
   {
    "duration": 36,
    "start_time": "2023-03-16T18:41:31.058Z"
   },
   {
    "duration": 32,
    "start_time": "2023-03-16T18:41:31.097Z"
   },
   {
    "duration": 6788,
    "start_time": "2023-03-16T18:41:31.131Z"
   },
   {
    "duration": 620,
    "start_time": "2023-03-16T18:41:37.921Z"
   },
   {
    "duration": 5,
    "start_time": "2023-03-16T18:41:38.544Z"
   },
   {
    "duration": 10,
    "start_time": "2023-03-16T18:41:38.551Z"
   },
   {
    "duration": 1578,
    "start_time": "2023-03-16T18:51:10.265Z"
   },
   {
    "duration": 1059,
    "start_time": "2023-03-16T18:51:11.845Z"
   },
   {
    "duration": 113,
    "start_time": "2023-03-16T18:51:12.906Z"
   },
   {
    "duration": 3,
    "start_time": "2023-03-16T18:51:13.023Z"
   },
   {
    "duration": 55,
    "start_time": "2023-03-16T18:51:13.028Z"
   },
   {
    "duration": 265,
    "start_time": "2023-03-16T18:51:13.091Z"
   },
   {
    "duration": 2,
    "start_time": "2023-03-16T18:51:13.358Z"
   },
   {
    "duration": 169,
    "start_time": "2023-03-16T18:51:13.362Z"
   },
   {
    "duration": 264,
    "start_time": "2023-03-16T18:51:13.532Z"
   },
   {
    "duration": 8,
    "start_time": "2023-03-16T18:51:13.798Z"
   },
   {
    "duration": 190,
    "start_time": "2023-03-16T18:51:13.808Z"
   },
   {
    "duration": 39,
    "start_time": "2023-03-16T18:51:14.000Z"
   },
   {
    "duration": 183,
    "start_time": "2023-03-16T18:51:14.041Z"
   },
   {
    "duration": 23,
    "start_time": "2023-03-16T18:51:14.231Z"
   },
   {
    "duration": 285,
    "start_time": "2023-03-16T18:51:14.257Z"
   },
   {
    "duration": 27,
    "start_time": "2023-03-16T18:51:14.544Z"
   },
   {
    "duration": 540,
    "start_time": "2023-03-16T18:51:14.590Z"
   },
   {
    "duration": 234,
    "start_time": "2023-03-16T18:51:15.132Z"
   },
   {
    "duration": 32,
    "start_time": "2023-03-16T18:51:15.368Z"
   },
   {
    "duration": 23,
    "start_time": "2023-03-16T18:51:15.402Z"
   },
   {
    "duration": 29,
    "start_time": "2023-03-16T18:51:15.428Z"
   },
   {
    "duration": 9,
    "start_time": "2023-03-16T18:51:15.459Z"
   },
   {
    "duration": 40,
    "start_time": "2023-03-16T18:51:15.471Z"
   },
   {
    "duration": 265,
    "start_time": "2023-03-16T18:51:15.513Z"
   },
   {
    "duration": 257,
    "start_time": "2023-03-16T18:51:15.780Z"
   },
   {
    "duration": 251,
    "start_time": "2023-03-16T18:51:16.040Z"
   },
   {
    "duration": 84,
    "start_time": "2023-03-16T18:51:16.293Z"
   },
   {
    "duration": 104,
    "start_time": "2023-03-16T18:51:16.391Z"
   },
   {
    "duration": 61,
    "start_time": "2023-03-16T18:51:16.497Z"
   },
   {
    "duration": 5,
    "start_time": "2023-03-16T18:51:16.560Z"
   },
   {
    "duration": 32,
    "start_time": "2023-03-16T18:51:16.567Z"
   },
   {
    "duration": 49,
    "start_time": "2023-03-16T18:51:16.600Z"
   },
   {
    "duration": 15,
    "start_time": "2023-03-16T18:51:16.651Z"
   },
   {
    "duration": 6672,
    "start_time": "2023-03-16T18:51:16.669Z"
   },
   {
    "duration": 634,
    "start_time": "2023-03-16T18:51:23.343Z"
   },
   {
    "duration": 4,
    "start_time": "2023-03-16T18:51:23.979Z"
   },
   {
    "duration": 15,
    "start_time": "2023-03-16T18:51:23.984Z"
   },
   {
    "duration": 325718,
    "start_time": "2023-03-16T18:51:24.001Z"
   },
   {
    "duration": 0,
    "start_time": "2023-03-16T18:56:49.721Z"
   },
   {
    "duration": 0,
    "start_time": "2023-03-16T18:56:49.722Z"
   },
   {
    "duration": 0,
    "start_time": "2023-03-16T18:56:49.724Z"
   },
   {
    "duration": 1031,
    "start_time": "2023-03-16T19:01:58.236Z"
   },
   {
    "duration": 4,
    "start_time": "2023-03-16T19:03:38.702Z"
   },
   {
    "duration": 5,
    "start_time": "2023-03-16T19:05:23.493Z"
   },
   {
    "duration": 1266,
    "start_time": "2023-03-16T19:05:47.698Z"
   },
   {
    "duration": 16,
    "start_time": "2023-03-16T19:08:49.374Z"
   },
   {
    "duration": 25,
    "start_time": "2023-03-16T19:10:22.655Z"
   },
   {
    "duration": 54,
    "start_time": "2023-03-16T19:10:34.097Z"
   },
   {
    "duration": 1020,
    "start_time": "2023-03-16T19:10:40.122Z"
   },
   {
    "duration": 1110,
    "start_time": "2023-03-16T19:11:11.354Z"
   },
   {
    "duration": 5,
    "start_time": "2023-03-16T19:12:12.196Z"
   },
   {
    "duration": 43,
    "start_time": "2023-03-16T19:12:14.181Z"
   },
   {
    "duration": 9,
    "start_time": "2023-03-16T19:12:51.569Z"
   },
   {
    "duration": 34,
    "start_time": "2023-03-16T19:12:52.743Z"
   },
   {
    "duration": 113,
    "start_time": "2023-03-16T19:16:29.982Z"
   },
   {
    "duration": 5,
    "start_time": "2023-03-16T19:16:37.161Z"
   },
   {
    "duration": 36,
    "start_time": "2023-03-16T19:16:38.097Z"
   },
   {
    "duration": 5,
    "start_time": "2023-03-16T19:17:32.134Z"
   },
   {
    "duration": 5,
    "start_time": "2023-03-16T19:17:39.623Z"
   },
   {
    "duration": 39,
    "start_time": "2023-03-16T19:19:55.942Z"
   },
   {
    "duration": 6,
    "start_time": "2023-03-16T19:20:46.626Z"
   },
   {
    "duration": 37,
    "start_time": "2023-03-16T19:20:49.426Z"
   },
   {
    "duration": 1563,
    "start_time": "2023-03-17T11:06:40.535Z"
   },
   {
    "duration": 3188,
    "start_time": "2023-03-17T11:06:42.100Z"
   },
   {
    "duration": 95,
    "start_time": "2023-03-17T11:06:45.290Z"
   },
   {
    "duration": 3,
    "start_time": "2023-03-17T11:06:45.387Z"
   },
   {
    "duration": 54,
    "start_time": "2023-03-17T11:06:45.391Z"
   },
   {
    "duration": 191,
    "start_time": "2023-03-17T11:06:45.446Z"
   },
   {
    "duration": 2,
    "start_time": "2023-03-17T11:06:45.639Z"
   },
   {
    "duration": 143,
    "start_time": "2023-03-17T11:06:45.643Z"
   },
   {
    "duration": 234,
    "start_time": "2023-03-17T11:06:45.788Z"
   },
   {
    "duration": 5,
    "start_time": "2023-03-17T11:06:46.025Z"
   },
   {
    "duration": 168,
    "start_time": "2023-03-17T11:06:46.031Z"
   },
   {
    "duration": 25,
    "start_time": "2023-03-17T11:06:46.201Z"
   },
   {
    "duration": 174,
    "start_time": "2023-03-17T11:06:46.227Z"
   },
   {
    "duration": 22,
    "start_time": "2023-03-17T11:06:46.403Z"
   },
   {
    "duration": 239,
    "start_time": "2023-03-17T11:06:46.427Z"
   },
   {
    "duration": 19,
    "start_time": "2023-03-17T11:06:46.668Z"
   },
   {
    "duration": 479,
    "start_time": "2023-03-17T11:06:46.689Z"
   },
   {
    "duration": 190,
    "start_time": "2023-03-17T11:06:47.169Z"
   },
   {
    "duration": 18,
    "start_time": "2023-03-17T11:06:47.362Z"
   },
   {
    "duration": 11,
    "start_time": "2023-03-17T11:06:47.381Z"
   },
   {
    "duration": 22,
    "start_time": "2023-03-17T11:06:47.394Z"
   },
   {
    "duration": 3,
    "start_time": "2023-03-17T11:06:47.417Z"
   },
   {
    "duration": 15,
    "start_time": "2023-03-17T11:06:47.446Z"
   },
   {
    "duration": 269,
    "start_time": "2023-03-17T11:06:47.463Z"
   },
   {
    "duration": 198,
    "start_time": "2023-03-17T11:06:47.734Z"
   },
   {
    "duration": 195,
    "start_time": "2023-03-17T11:06:47.934Z"
   },
   {
    "duration": 69,
    "start_time": "2023-03-17T11:06:48.131Z"
   },
   {
    "duration": 66,
    "start_time": "2023-03-17T11:06:48.204Z"
   },
   {
    "duration": 44,
    "start_time": "2023-03-17T11:06:48.271Z"
   },
   {
    "duration": 4,
    "start_time": "2023-03-17T11:06:48.317Z"
   },
   {
    "duration": 22,
    "start_time": "2023-03-17T11:06:48.323Z"
   },
   {
    "duration": 13,
    "start_time": "2023-03-17T11:06:48.346Z"
   },
   {
    "duration": 5,
    "start_time": "2023-03-17T11:06:48.361Z"
   },
   {
    "duration": 5847,
    "start_time": "2023-03-17T11:06:48.368Z"
   },
   {
    "duration": 544,
    "start_time": "2023-03-17T11:06:54.217Z"
   },
   {
    "duration": 4,
    "start_time": "2023-03-17T11:06:54.762Z"
   },
   {
    "duration": 5,
    "start_time": "2023-03-17T11:06:54.767Z"
   },
   {
    "duration": 11,
    "start_time": "2023-03-17T11:06:54.773Z"
   },
   {
    "duration": 1287,
    "start_time": "2023-03-17T11:06:54.785Z"
   },
   {
    "duration": 0,
    "start_time": "2023-03-17T11:06:56.074Z"
   },
   {
    "duration": 52,
    "start_time": "2023-03-18T12:35:07.687Z"
   },
   {
    "duration": 1809,
    "start_time": "2023-03-18T12:36:04.697Z"
   },
   {
    "duration": 102,
    "start_time": "2023-03-18T12:36:06.508Z"
   },
   {
    "duration": 16,
    "start_time": "2023-03-18T12:36:11.437Z"
   },
   {
    "duration": 1556,
    "start_time": "2023-03-18T12:37:12.274Z"
   },
   {
    "duration": 4,
    "start_time": "2023-03-18T12:37:13.832Z"
   },
   {
    "duration": 3939,
    "start_time": "2023-03-18T12:37:13.838Z"
   },
   {
    "duration": 115,
    "start_time": "2023-03-18T12:37:17.784Z"
   },
   {
    "duration": 3,
    "start_time": "2023-03-18T12:37:17.900Z"
   },
   {
    "duration": 73,
    "start_time": "2023-03-18T12:37:17.905Z"
   },
   {
    "duration": 236,
    "start_time": "2023-03-18T12:37:17.980Z"
   },
   {
    "duration": 3,
    "start_time": "2023-03-18T12:37:18.218Z"
   },
   {
    "duration": 202,
    "start_time": "2023-03-18T12:37:18.222Z"
   },
   {
    "duration": 269,
    "start_time": "2023-03-18T12:37:18.427Z"
   },
   {
    "duration": 5,
    "start_time": "2023-03-18T12:37:18.698Z"
   },
   {
    "duration": 198,
    "start_time": "2023-03-18T12:37:18.705Z"
   },
   {
    "duration": 39,
    "start_time": "2023-03-18T12:37:18.906Z"
   },
   {
    "duration": 241,
    "start_time": "2023-03-18T12:37:18.946Z"
   },
   {
    "duration": 24,
    "start_time": "2023-03-18T12:37:19.188Z"
   },
   {
    "duration": 252,
    "start_time": "2023-03-18T12:37:19.213Z"
   },
   {
    "duration": 19,
    "start_time": "2023-03-18T12:37:19.474Z"
   },
   {
    "duration": 462,
    "start_time": "2023-03-18T12:37:19.495Z"
   },
   {
    "duration": 193,
    "start_time": "2023-03-18T12:37:19.970Z"
   },
   {
    "duration": 23,
    "start_time": "2023-03-18T12:37:20.165Z"
   },
   {
    "duration": 13,
    "start_time": "2023-03-18T12:37:20.190Z"
   },
   {
    "duration": 45,
    "start_time": "2023-03-18T12:37:20.204Z"
   },
   {
    "duration": 7,
    "start_time": "2023-03-18T12:37:20.250Z"
   },
   {
    "duration": 31,
    "start_time": "2023-03-18T12:37:20.258Z"
   },
   {
    "duration": 217,
    "start_time": "2023-03-18T12:37:20.291Z"
   },
   {
    "duration": 299,
    "start_time": "2023-03-18T12:37:20.510Z"
   },
   {
    "duration": 267,
    "start_time": "2023-03-18T12:37:20.811Z"
   },
   {
    "duration": 78,
    "start_time": "2023-03-18T12:37:21.083Z"
   },
   {
    "duration": 114,
    "start_time": "2023-03-18T12:37:21.166Z"
   },
   {
    "duration": 42,
    "start_time": "2023-03-18T12:37:21.282Z"
   },
   {
    "duration": 4,
    "start_time": "2023-03-18T12:37:21.325Z"
   },
   {
    "duration": 8,
    "start_time": "2023-03-18T12:37:21.352Z"
   },
   {
    "duration": 7,
    "start_time": "2023-03-18T12:37:21.362Z"
   },
   {
    "duration": 21,
    "start_time": "2023-03-18T12:37:21.370Z"
   },
   {
    "duration": 6929,
    "start_time": "2023-03-18T12:37:21.393Z"
   },
   {
    "duration": 658,
    "start_time": "2023-03-18T12:37:28.324Z"
   },
   {
    "duration": 4,
    "start_time": "2023-03-18T12:37:28.984Z"
   },
   {
    "duration": 5,
    "start_time": "2023-03-18T12:37:28.989Z"
   },
   {
    "duration": 6,
    "start_time": "2023-03-18T12:37:28.995Z"
   },
   {
    "duration": 1617,
    "start_time": "2023-03-18T12:37:29.003Z"
   },
   {
    "duration": 0,
    "start_time": "2023-03-18T12:37:30.621Z"
   },
   {
    "duration": 123,
    "start_time": "2023-03-18T12:39:00.785Z"
   },
   {
    "duration": 6,
    "start_time": "2023-03-18T12:39:03.490Z"
   },
   {
    "duration": 25919888,
    "start_time": "2023-03-18T12:39:04.228Z"
   },
   {
    "duration": 2144,
    "start_time": "2023-03-19T10:08:48.780Z"
   },
   {
    "duration": 4,
    "start_time": "2023-03-19T10:08:50.926Z"
   },
   {
    "duration": 7317,
    "start_time": "2023-03-19T10:08:56.568Z"
   },
   {
    "duration": 195,
    "start_time": "2023-03-19T10:09:05.233Z"
   },
   {
    "duration": 4,
    "start_time": "2023-03-19T10:09:06.304Z"
   },
   {
    "duration": 82,
    "start_time": "2023-03-19T10:09:07.335Z"
   },
   {
    "duration": 376,
    "start_time": "2023-03-19T10:09:10.423Z"
   },
   {
    "duration": 5,
    "start_time": "2023-03-19T10:09:10.803Z"
   },
   {
    "duration": 309,
    "start_time": "2023-03-19T10:09:11.099Z"
   },
   {
    "duration": 434,
    "start_time": "2023-03-19T10:09:11.412Z"
   },
   {
    "duration": 18,
    "start_time": "2023-03-19T10:09:11.885Z"
   },
   {
    "duration": 242,
    "start_time": "2023-03-19T10:09:14.207Z"
   },
   {
    "duration": 50,
    "start_time": "2023-03-19T10:09:14.457Z"
   },
   {
    "duration": 203,
    "start_time": "2023-03-19T10:09:14.796Z"
   },
   {
    "duration": 29,
    "start_time": "2023-03-19T10:09:15.001Z"
   },
   {
    "duration": 432,
    "start_time": "2023-03-19T10:09:17.114Z"
   },
   {
    "duration": 45,
    "start_time": "2023-03-19T10:09:17.547Z"
   },
   {
    "duration": 629,
    "start_time": "2023-03-19T10:09:17.758Z"
   },
   {
    "duration": 285,
    "start_time": "2023-03-19T10:09:21.133Z"
   },
   {
    "duration": 47,
    "start_time": "2023-03-19T10:09:22.461Z"
   },
   {
    "duration": 46,
    "start_time": "2023-03-19T10:09:22.844Z"
   },
   {
    "duration": 42,
    "start_time": "2023-03-19T10:09:23.024Z"
   },
   {
    "duration": 5,
    "start_time": "2023-03-19T10:09:23.220Z"
   },
   {
    "duration": 37,
    "start_time": "2023-03-19T10:09:25.489Z"
   },
   {
    "duration": 340,
    "start_time": "2023-03-19T10:09:25.667Z"
   },
   {
    "duration": 353,
    "start_time": "2023-03-19T10:09:26.010Z"
   },
   {
    "duration": 324,
    "start_time": "2023-03-19T10:09:26.370Z"
   },
   {
    "duration": 141,
    "start_time": "2023-03-19T10:09:27.357Z"
   },
   {
    "duration": 122,
    "start_time": "2023-03-19T10:09:31.104Z"
   },
   {
    "duration": 101,
    "start_time": "2023-03-19T10:09:34.873Z"
   },
   {
    "duration": 17,
    "start_time": "2023-03-19T10:09:35.290Z"
   },
   {
    "duration": 5,
    "start_time": "2023-03-19T10:09:36.030Z"
   },
   {
    "duration": 13,
    "start_time": "2023-03-19T10:09:44.967Z"
   },
   {
    "duration": 4,
    "start_time": "2023-03-19T10:09:45.415Z"
   },
   {
    "duration": 9558,
    "start_time": "2023-03-19T10:09:46.097Z"
   },
   {
    "duration": 914,
    "start_time": "2023-03-19T10:09:59.005Z"
   },
   {
    "duration": 5,
    "start_time": "2023-03-19T10:10:03.927Z"
   },
   {
    "duration": 182,
    "start_time": "2023-03-19T10:10:08.391Z"
   },
   {
    "duration": 3,
    "start_time": "2023-03-19T10:10:44.753Z"
   },
   {
    "duration": 183,
    "start_time": "2023-03-19T10:12:41.263Z"
   },
   {
    "duration": 335,
    "start_time": "2023-03-19T10:13:49.518Z"
   },
   {
    "duration": 4,
    "start_time": "2023-03-19T10:17:35.955Z"
   },
   {
    "duration": 14,
    "start_time": "2023-03-19T10:20:04.072Z"
   },
   {
    "duration": 54,
    "start_time": "2023-03-19T10:20:05.427Z"
   },
   {
    "duration": 62,
    "start_time": "2023-03-19T10:21:02.715Z"
   },
   {
    "duration": 21,
    "start_time": "2023-03-19T10:21:40.265Z"
   },
   {
    "duration": 39,
    "start_time": "2023-03-19T10:21:58.337Z"
   },
   {
    "duration": 47,
    "start_time": "2023-03-19T10:22:56.707Z"
   },
   {
    "duration": 17,
    "start_time": "2023-03-19T10:22:57.817Z"
   },
   {
    "duration": 7,
    "start_time": "2023-03-19T10:23:23.893Z"
   },
   {
    "duration": 67,
    "start_time": "2023-03-19T10:23:24.338Z"
   },
   {
    "duration": 34,
    "start_time": "2023-03-19T10:28:09.374Z"
   },
   {
    "duration": 2059,
    "start_time": "2023-03-19T10:28:42.799Z"
   },
   {
    "duration": 7,
    "start_time": "2023-03-19T10:28:44.860Z"
   },
   {
    "duration": 1562,
    "start_time": "2023-03-19T10:28:44.869Z"
   },
   {
    "duration": 160,
    "start_time": "2023-03-19T10:28:46.433Z"
   },
   {
    "duration": 3,
    "start_time": "2023-03-19T10:28:46.596Z"
   },
   {
    "duration": 94,
    "start_time": "2023-03-19T10:28:46.601Z"
   },
   {
    "duration": 406,
    "start_time": "2023-03-19T10:28:46.705Z"
   },
   {
    "duration": 9,
    "start_time": "2023-03-19T10:28:47.114Z"
   },
   {
    "duration": 316,
    "start_time": "2023-03-19T10:28:47.130Z"
   },
   {
    "duration": 395,
    "start_time": "2023-03-19T10:28:47.457Z"
   },
   {
    "duration": 11,
    "start_time": "2023-03-19T10:28:47.859Z"
   },
   {
    "duration": 242,
    "start_time": "2023-03-19T10:28:47.874Z"
   },
   {
    "duration": 42,
    "start_time": "2023-03-19T10:28:48.119Z"
   },
   {
    "duration": 205,
    "start_time": "2023-03-19T10:28:48.164Z"
   },
   {
    "duration": 35,
    "start_time": "2023-03-19T10:28:48.371Z"
   },
   {
    "duration": 305,
    "start_time": "2023-03-19T10:28:48.411Z"
   },
   {
    "duration": 50,
    "start_time": "2023-03-19T10:28:48.725Z"
   },
   {
    "duration": 696,
    "start_time": "2023-03-19T10:28:48.789Z"
   },
   {
    "duration": 295,
    "start_time": "2023-03-19T10:28:49.491Z"
   },
   {
    "duration": 43,
    "start_time": "2023-03-19T10:28:49.792Z"
   },
   {
    "duration": 42,
    "start_time": "2023-03-19T10:28:49.840Z"
   },
   {
    "duration": 57,
    "start_time": "2023-03-19T10:28:49.890Z"
   },
   {
    "duration": 20,
    "start_time": "2023-03-19T10:28:49.954Z"
   },
   {
    "duration": 58,
    "start_time": "2023-03-19T10:28:49.979Z"
   },
   {
    "duration": 338,
    "start_time": "2023-03-19T10:28:50.054Z"
   },
   {
    "duration": 335,
    "start_time": "2023-03-19T10:28:50.394Z"
   },
   {
    "duration": 330,
    "start_time": "2023-03-19T10:28:50.732Z"
   },
   {
    "duration": 134,
    "start_time": "2023-03-19T10:28:51.064Z"
   },
   {
    "duration": 131,
    "start_time": "2023-03-19T10:28:51.200Z"
   },
   {
    "duration": 112,
    "start_time": "2023-03-19T10:28:51.333Z"
   },
   {
    "duration": 6,
    "start_time": "2023-03-19T10:28:51.448Z"
   },
   {
    "duration": 20,
    "start_time": "2023-03-19T10:28:51.456Z"
   },
   {
    "duration": 19,
    "start_time": "2023-03-19T10:28:51.479Z"
   },
   {
    "duration": 23,
    "start_time": "2023-03-19T10:28:51.500Z"
   },
   {
    "duration": 9732,
    "start_time": "2023-03-19T10:28:51.530Z"
   },
   {
    "duration": 970,
    "start_time": "2023-03-19T10:29:01.264Z"
   },
   {
    "duration": 12,
    "start_time": "2023-03-19T10:29:02.235Z"
   },
   {
    "duration": 252,
    "start_time": "2023-03-19T10:29:02.248Z"
   },
   {
    "duration": 2,
    "start_time": "2023-03-19T10:29:02.502Z"
   },
   {
    "duration": 572,
    "start_time": "2023-03-19T10:29:02.510Z"
   },
   {
    "duration": 12,
    "start_time": "2023-03-19T10:29:03.090Z"
   },
   {
    "duration": 72,
    "start_time": "2023-03-19T10:29:03.113Z"
   },
   {
    "duration": 33,
    "start_time": "2023-03-19T10:29:03.190Z"
   },
   {
    "duration": 10,
    "start_time": "2023-03-19T10:29:03.225Z"
   },
   {
    "duration": 258,
    "start_time": "2023-03-19T10:29:03.240Z"
   },
   {
    "duration": 0,
    "start_time": "2023-03-19T10:29:03.504Z"
   },
   {
    "duration": 5,
    "start_time": "2023-03-19T10:29:35.425Z"
   },
   {
    "duration": 206087,
    "start_time": "2023-03-19T10:29:36.237Z"
   },
   {
    "duration": 25,
    "start_time": "2023-03-19T10:33:58.069Z"
   },
   {
    "duration": 1953,
    "start_time": "2023-03-19T11:11:24.798Z"
   },
   {
    "duration": 4,
    "start_time": "2023-03-19T11:11:26.754Z"
   },
   {
    "duration": 1485,
    "start_time": "2023-03-19T11:11:26.760Z"
   },
   {
    "duration": 157,
    "start_time": "2023-03-19T11:11:28.248Z"
   },
   {
    "duration": 3,
    "start_time": "2023-03-19T11:11:28.415Z"
   },
   {
    "duration": 52,
    "start_time": "2023-03-19T11:11:28.420Z"
   },
   {
    "duration": 270,
    "start_time": "2023-03-19T11:11:28.473Z"
   },
   {
    "duration": 2,
    "start_time": "2023-03-19T11:11:28.745Z"
   },
   {
    "duration": 294,
    "start_time": "2023-03-19T11:11:28.749Z"
   },
   {
    "duration": 393,
    "start_time": "2023-03-19T11:11:29.051Z"
   },
   {
    "duration": 12,
    "start_time": "2023-03-19T11:11:29.450Z"
   },
   {
    "duration": 212,
    "start_time": "2023-03-19T11:11:29.473Z"
   },
   {
    "duration": 30,
    "start_time": "2023-03-19T11:11:29.689Z"
   },
   {
    "duration": 238,
    "start_time": "2023-03-19T11:11:29.723Z"
   },
   {
    "duration": 30,
    "start_time": "2023-03-19T11:11:29.970Z"
   },
   {
    "duration": 259,
    "start_time": "2023-03-19T11:11:30.002Z"
   },
   {
    "duration": 24,
    "start_time": "2023-03-19T11:11:30.262Z"
   },
   {
    "duration": 541,
    "start_time": "2023-03-19T11:11:30.288Z"
   },
   {
    "duration": 228,
    "start_time": "2023-03-19T11:11:30.831Z"
   },
   {
    "duration": 27,
    "start_time": "2023-03-19T11:11:31.061Z"
   },
   {
    "duration": 23,
    "start_time": "2023-03-19T11:11:31.090Z"
   },
   {
    "duration": 87,
    "start_time": "2023-03-19T11:11:31.115Z"
   },
   {
    "duration": 10,
    "start_time": "2023-03-19T11:11:31.205Z"
   },
   {
    "duration": 63,
    "start_time": "2023-03-19T11:11:31.217Z"
   },
   {
    "duration": 306,
    "start_time": "2023-03-19T11:11:31.285Z"
   },
   {
    "duration": 266,
    "start_time": "2023-03-19T11:11:31.597Z"
   },
   {
    "duration": 256,
    "start_time": "2023-03-19T11:11:31.868Z"
   },
   {
    "duration": 133,
    "start_time": "2023-03-19T11:11:32.126Z"
   },
   {
    "duration": 88,
    "start_time": "2023-03-19T11:11:32.261Z"
   },
   {
    "duration": 66,
    "start_time": "2023-03-19T11:11:32.351Z"
   },
   {
    "duration": 4,
    "start_time": "2023-03-19T11:11:32.419Z"
   },
   {
    "duration": 28,
    "start_time": "2023-03-19T11:11:32.425Z"
   },
   {
    "duration": 36,
    "start_time": "2023-03-19T11:11:32.456Z"
   },
   {
    "duration": 28,
    "start_time": "2023-03-19T11:11:32.494Z"
   },
   {
    "duration": 7924,
    "start_time": "2023-03-19T11:11:32.523Z"
   },
   {
    "duration": 785,
    "start_time": "2023-03-19T11:11:40.450Z"
   },
   {
    "duration": 9,
    "start_time": "2023-03-19T11:11:41.237Z"
   },
   {
    "duration": 200,
    "start_time": "2023-03-19T11:11:41.248Z"
   },
   {
    "duration": 11,
    "start_time": "2023-03-19T11:11:41.460Z"
   },
   {
    "duration": 474,
    "start_time": "2023-03-19T11:11:41.477Z"
   },
   {
    "duration": 3,
    "start_time": "2023-03-19T11:11:41.956Z"
   },
   {
    "duration": 68,
    "start_time": "2023-03-19T11:11:41.961Z"
   },
   {
    "duration": 20,
    "start_time": "2023-03-19T11:11:42.031Z"
   },
   {
    "duration": 19,
    "start_time": "2023-03-19T11:11:42.053Z"
   },
   {
    "duration": 1586350,
    "start_time": "2023-03-19T11:11:42.079Z"
   },
   {
    "duration": 0,
    "start_time": "2023-03-19T11:38:08.431Z"
   },
   {
    "duration": 4,
    "start_time": "2023-03-19T11:38:15.309Z"
   },
   {
    "duration": 403812,
    "start_time": "2023-03-19T11:38:16.079Z"
   },
   {
    "duration": 313,
    "start_time": "2023-03-22T15:48:08.990Z"
   },
   {
    "duration": 6802,
    "start_time": "2023-03-22T15:48:13.290Z"
   },
   {
    "duration": 700,
    "start_time": "2023-03-22T15:48:20.096Z"
   },
   {
    "duration": 0,
    "start_time": "2023-03-22T15:48:20.801Z"
   },
   {
    "duration": 0,
    "start_time": "2023-03-22T15:48:20.888Z"
   },
   {
    "duration": 98,
    "start_time": "2023-03-22T15:48:34.691Z"
   },
   {
    "duration": 5,
    "start_time": "2023-03-22T15:48:36.693Z"
   }
  ],
  "kernelspec": {
   "display_name": "Python 3 (ipykernel)",
   "language": "python",
   "name": "python3"
  },
  "language_info": {
   "codemirror_mode": {
    "name": "ipython",
    "version": 3
   },
   "file_extension": ".py",
   "mimetype": "text/x-python",
   "name": "python",
   "nbconvert_exporter": "python",
   "pygments_lexer": "ipython3",
   "version": "3.11.0"
  },
  "toc": {
   "base_numbering": 1,
   "nav_menu": {},
   "number_sections": true,
   "sideBar": true,
   "skip_h1_title": true,
   "title_cell": "Table of Contents",
   "title_sidebar": "Contents",
   "toc_cell": false,
   "toc_position": {},
   "toc_section_display": true,
   "toc_window_display": false
  },
  "vscode": {
   "interpreter": {
    "hash": "8e78f0197b4980055e2bc45d26be2e4615f01851326e1ed3a0c731c4b5c09364"
   }
  }
 },
 "nbformat": 4,
 "nbformat_minor": 2
}
