{
 "cells": [
  {
   "cell_type": "markdown",
   "metadata": {},
   "source": [
    "<h1> Комментарий тимлида </h1>\n",
    "\n",
    "👋 **Приветствую, Дмитрий!** \n",
    "\n",
    "✨ Поздравляю с началом работы над финальным проектом!\n",
    "\n",
    "Меня зовут Арсен Абдулин и я буду твоим ревьювером. Предлагаю общаться на «ты», если не против =)\n",
    "\n",
    "При проверке работ я пишу следующие комментарии:\n",
    "\n",
    "<div class=\"alert alert-success\">\n",
    "<b>✔️ Зеленым цветом</b> отмечены удачные решения.</div>\n",
    "\n",
    "<div class=\"alert alert-warning\">\n",
    "<b>⚠️ Желтым цветом</b> я отметил пункты, которые в следующий раз можно сделать по-другому. Одно-два таких замечания в проекте допускается, но если их много — проект следует доработать. </div>\n",
    "\n",
    "<div class=\"alert alert-danger\">\n",
    "<b>🚫 Красным цветом</b> отмечены критические замечания, которые необходимо поправить, чтобы принять проект. </div>\n",
    "\n",
    "Если какие-то моменты в задании для тебя были непонятны и у тебя есть ко мне вопросы — смело спрашивай 😊 Также ты можешь доработать места, где есть желтые комментарии в проекте (однако, это не обязательно).\n",
    "\n",
    "Предлагаю работать в диалоге: если ты решишь что-то поменять по моим рекомендациям — пиши об этом (выбери для своих комментариев определенный цвет - так мне будет легче увидеть изменения). Пожалуйста не перемещай, не изменяй и не удаляй мои комментарии. Все это поможет сделать проверку твоего проекта оперативнее.\n",
    "\n",
    "<div class=\"alert alert-info\"> <b>ℹ️ Комментарий студента: </b> Пример комментария. </div>"
   ]
  },
  {
   "cell_type": "markdown",
   "metadata": {},
   "source": [
    "<div class=\"alert alert-success\">\n",
    "<b>✔️ Комментарий тимлида:</b> Хорошо, когда есть подробное описание проекта и поставлена цель — так постороннему человеку будет проще ознакомиться!   \n",
    "\n",
    "</div>"
   ]
  },
  {
   "cell_type": "markdown",
   "metadata": {},
   "source": [
    "# **Проект**\n",
    "\n",
    "# **\"Прогнозирование оттока клиентов телекоммуникационной компании\"**\n",
    "\n",
    "# **Описание проекта**\n",
    "\n",
    "Оператор связи «Ниединогоразрыва.ком» хочет научиться прогнозировать отток клиентов. Если выяснится, что пользователь планирует уйти, ему будут предложены промокоды и специальные условия. Команда оператора собрала персональные данные о некоторых клиентах, информацию об их тарифах и договорах.\n",
    "\n",
    "**Описание услуг**\n",
    "\n",
    "Оператор предоставляет два основных типа услуг: \n",
    "\n",
    "1. Стационарную телефонную связь. Возможно подключение телефонного аппарата к нескольким линиям одновременно.\n",
    "2. Интернет. Подключение может быть двух типов: через телефонную линию (DSL*,* от англ. *digital subscriber line*, «цифровая абонентская линия») или оптоволоконный кабель (*Fiber optic*).  \n",
    "\n",
    "Также доступны такие услуги:\n",
    "\n",
    "- Интернет-безопасность: антивирус (*DeviceProtection*) и блокировка небезопасных сайтов (*OnlineSecurity*);\n",
    "- Выделенная линия технической поддержки (*TechSupport*);\n",
    "- Облачное хранилище файлов для резервного копирования данных (*OnlineBackup*);\n",
    "- Стриминговое телевидение (*StreamingTV*) и каталог фильмов (*StreamingMovies*).\n",
    "\n",
    "За услуги клиенты могут платить каждый месяц или заключить договор на 1–2 года. Доступны различные способы расчёта и возможность получения электронного чека.\n",
    "\n",
    "**Описание данных**\n",
    "\n",
    "Данные состоят из файлов, полученных из разных источников:\n",
    "\n",
    "- `contract_new.csv` — информация о договоре\n",
    "\n",
    "    * BeginDate - дата заключения контракта\n",
    "    * EndDate - дата окончания контракта \n",
    "    * Type - тип договора (по месячной или годовой оплаты)  \n",
    "    * PaperlessBilling - чек биллинга не в бумажном виде\n",
    "    * PaymentMethod - способ оплаты\n",
    "    * MonthlyCharges - месячная плата\n",
    "    * TotalCharges - полная оплата\n",
    "    \n",
    "- `personal_new.csv` — персональные данные клиента\n",
    "\n",
    "    * Gender - пол клиента\n",
    "    * SeniorCitizen - пенсионер\n",
    "    * Partner - наличие партнера\n",
    "    * Dependents - наличие иждевенцов\n",
    "    \n",
    "- `internet_new.csv` — информация об интернет-услугах\n",
    "\n",
    "    * InternetService - тип интернет подключения\n",
    "    * OnlineSecurity - подключение услуги блокировка небезопасных сайтов\n",
    "    * OnlineBackup - подключение услуги облачного хранилища бэкапов\n",
    "    * DeviceProtection - подключение услуги антивируса\n",
    "    * TechSupport - подключение выделенной линии технической поддержки\n",
    "    * StreamingTV - подключение стриминга телевидения\n",
    "    * StreamingMovies - подключение стриминга кино  \n",
    "\n",
    "- `phone_new.csv` — информация об услугах телефонии.\n",
    "\n",
    "    * MultipleLines - подключение нескольких выделенных телефонных линий\n",
    "\n",
    "Во всех файлах столбец `customerID` содержит код клиента.\n",
    "\n",
    "Информация о договорах актуальна на 1 февраля 2020.\n",
    "\n",
    "**Цель проекта**\n",
    "\n",
    "Оператор связи «Ниединогоразрыва.ком» хочет научиться прогнозировать отток клиентов. Если выяснится, что пользователь планирует уйти, ему будут предложены промокоды и специальные условия. \n",
    "\n",
    "Для этого необходимо обучить модель на предоставленных данных, при этом метрика ROC-AUC должна быть не менее 0,85.\n",
    "\n",
    "# **Содержание проекта**\n",
    "\n",
    "**1 Импортирование данных**\n",
    "\n",
    "**1.1 Исследовательский анализ данных**\n",
    "\n",
    "**2 Предобработка данных**\n",
    "\n",
    "**2.1 Обработка пропусков**\n",
    "\n",
    "**2.2 Обработка аномалий**\n",
    "\n",
    "**2.3 Добавление признаков**\n",
    "\n",
    "**2.4 Кодирование категориальных признаков**\n",
    " \n",
    "**2.5 Анализ мульти коллинеарности признаков**\n",
    "\n",
    "**3 Обучение моделей**\n",
    "\n",
    "**3.1 Логистическая регрессия**\n",
    "\n",
    "**3.2 Random Forrest**\n",
    "\n",
    "**3.3 Градиентный бустинг XGBoost**\n",
    "\n",
    "**4 Тестирование модели**\n",
    "\n",
    "**4.1 Тестирование модели на тестовой выборке**\n",
    "\n",
    "**4.2 Проверка на адекватность**\n",
    "\n",
    "**5 Заключение**"
   ]
  },
  {
   "cell_type": "markdown",
   "metadata": {},
   "source": [
    "<div class=\"alert alert-success\">\n",
    "<b>✔️ Комментарий тимлида:</b> В целом по плану работ все хорошо, только исследовательский анализ нужно сделать после добавления новых признаков\n",
    "    \n",
    "Сейчас у нас этап предварительного анализа данных\n",
    "\n",
    "</div>"
   ]
  },
  {
   "cell_type": "markdown",
   "metadata": {},
   "source": [
    "<div class=\"alert alert-block alert-info\"> У меня нету вопросов по проекту. </div>"
   ]
  },
  {
   "cell_type": "markdown",
   "metadata": {},
   "source": [
    "<div class=\"alert alert-success\">\n",
    "<b>✔️ Комментарий тимлида:</b> Хорошо\n",
    "\n",
    "</div>"
   ]
  },
  {
   "cell_type": "markdown",
   "metadata": {},
   "source": [
    "## Импортирование данных"
   ]
  },
  {
   "cell_type": "code",
   "execution_count": 1,
   "metadata": {},
   "outputs": [],
   "source": [
    "import pandas as pd\n",
    "import numpy as np\n",
    "import matplotlib.pyplot as plt\n",
    "import seaborn as sns\n",
    "import xgboost as xgb\n",
    "\n",
    "from sklearn.model_selection import train_test_split, cross_val_score, GridSearchCV\n",
    "from sklearn.linear_model import LogisticRegression\n",
    "from sklearn.ensemble import RandomForestClassifier\n",
    "from catboost import CatBoostClassifier\n",
    "from sklearn.metrics import roc_auc_score, accuracy_score, roc_curve, recall_score, precision_score\n",
    "from sklearn.preprocessing import StandardScaler, OneHotEncoder\n",
    "from sklearn.compose import make_column_transformer\n",
    "from sklearn.pipeline import make_pipeline\n",
    "from sklearn.pipeline import Pipeline\n",
    "from sklearn.compose import ColumnTransformer\n",
    "\n",
    "from xgboost import plot_importance"
   ]
  },
  {
   "cell_type": "code",
   "execution_count": 2,
   "metadata": {},
   "outputs": [],
   "source": [
    "contract = pd.read_csv('/datasets/contract_new.csv', index_col=['customerID'])\n",
    "personal = pd.read_csv('/datasets/personal_new.csv', index_col=['customerID'])\n",
    "internet = pd.read_csv('/datasets/internet_new.csv', index_col=['customerID'])\n",
    "phone = pd.read_csv('/datasets/phone_new.csv', index_col=['customerID'])"
   ]
  },
  {
   "cell_type": "markdown",
   "metadata": {},
   "source": [
    "### Исследовательский анализ данных"
   ]
  },
  {
   "cell_type": "code",
   "execution_count": 3,
   "metadata": {
    "scrolled": false
   },
   "outputs": [
    {
     "name": "stdout",
     "output_type": "stream",
     "text": [
      "<class 'pandas.core.frame.DataFrame'>\n",
      "Index: 7043 entries, 7590-VHVEG to 3186-AJIEK\n",
      "Data columns (total 7 columns):\n",
      " #   Column            Non-Null Count  Dtype  \n",
      "---  ------            --------------  -----  \n",
      " 0   BeginDate         7043 non-null   object \n",
      " 1   EndDate           7043 non-null   object \n",
      " 2   Type              7043 non-null   object \n",
      " 3   PaperlessBilling  7043 non-null   object \n",
      " 4   PaymentMethod     7043 non-null   object \n",
      " 5   MonthlyCharges    7043 non-null   float64\n",
      " 6   TotalCharges      7043 non-null   object \n",
      "dtypes: float64(1), object(6)\n",
      "memory usage: 440.2+ KB\n"
     ]
    },
    {
     "data": {
      "text/html": [
       "<div>\n",
       "<style scoped>\n",
       "    .dataframe tbody tr th:only-of-type {\n",
       "        vertical-align: middle;\n",
       "    }\n",
       "\n",
       "    .dataframe tbody tr th {\n",
       "        vertical-align: top;\n",
       "    }\n",
       "\n",
       "    .dataframe thead th {\n",
       "        text-align: right;\n",
       "    }\n",
       "</style>\n",
       "<table border=\"1\" class=\"dataframe\">\n",
       "  <thead>\n",
       "    <tr style=\"text-align: right;\">\n",
       "      <th></th>\n",
       "      <th>BeginDate</th>\n",
       "      <th>EndDate</th>\n",
       "      <th>Type</th>\n",
       "      <th>PaperlessBilling</th>\n",
       "      <th>PaymentMethod</th>\n",
       "      <th>MonthlyCharges</th>\n",
       "      <th>TotalCharges</th>\n",
       "    </tr>\n",
       "    <tr>\n",
       "      <th>customerID</th>\n",
       "      <th></th>\n",
       "      <th></th>\n",
       "      <th></th>\n",
       "      <th></th>\n",
       "      <th></th>\n",
       "      <th></th>\n",
       "      <th></th>\n",
       "    </tr>\n",
       "  </thead>\n",
       "  <tbody>\n",
       "    <tr>\n",
       "      <th>7590-VHVEG</th>\n",
       "      <td>2020-01-01</td>\n",
       "      <td>No</td>\n",
       "      <td>Month-to-month</td>\n",
       "      <td>Yes</td>\n",
       "      <td>Electronic check</td>\n",
       "      <td>29.85</td>\n",
       "      <td>31.04</td>\n",
       "    </tr>\n",
       "    <tr>\n",
       "      <th>5575-GNVDE</th>\n",
       "      <td>2017-04-01</td>\n",
       "      <td>No</td>\n",
       "      <td>One year</td>\n",
       "      <td>No</td>\n",
       "      <td>Mailed check</td>\n",
       "      <td>56.95</td>\n",
       "      <td>2071.84</td>\n",
       "    </tr>\n",
       "    <tr>\n",
       "      <th>3668-QPYBK</th>\n",
       "      <td>2019-10-01</td>\n",
       "      <td>No</td>\n",
       "      <td>Month-to-month</td>\n",
       "      <td>Yes</td>\n",
       "      <td>Mailed check</td>\n",
       "      <td>53.85</td>\n",
       "      <td>226.17</td>\n",
       "    </tr>\n",
       "    <tr>\n",
       "      <th>7795-CFOCW</th>\n",
       "      <td>2016-05-01</td>\n",
       "      <td>No</td>\n",
       "      <td>One year</td>\n",
       "      <td>No</td>\n",
       "      <td>Bank transfer (automatic)</td>\n",
       "      <td>42.30</td>\n",
       "      <td>1960.6</td>\n",
       "    </tr>\n",
       "    <tr>\n",
       "      <th>9237-HQITU</th>\n",
       "      <td>2019-09-01</td>\n",
       "      <td>No</td>\n",
       "      <td>Month-to-month</td>\n",
       "      <td>Yes</td>\n",
       "      <td>Electronic check</td>\n",
       "      <td>70.70</td>\n",
       "      <td>353.5</td>\n",
       "    </tr>\n",
       "  </tbody>\n",
       "</table>\n",
       "</div>"
      ],
      "text/plain": [
       "             BeginDate EndDate            Type PaperlessBilling  \\\n",
       "customerID                                                        \n",
       "7590-VHVEG  2020-01-01      No  Month-to-month              Yes   \n",
       "5575-GNVDE  2017-04-01      No        One year               No   \n",
       "3668-QPYBK  2019-10-01      No  Month-to-month              Yes   \n",
       "7795-CFOCW  2016-05-01      No        One year               No   \n",
       "9237-HQITU  2019-09-01      No  Month-to-month              Yes   \n",
       "\n",
       "                        PaymentMethod  MonthlyCharges TotalCharges  \n",
       "customerID                                                          \n",
       "7590-VHVEG           Electronic check           29.85        31.04  \n",
       "5575-GNVDE               Mailed check           56.95      2071.84  \n",
       "3668-QPYBK               Mailed check           53.85       226.17  \n",
       "7795-CFOCW  Bank transfer (automatic)           42.30       1960.6  \n",
       "9237-HQITU           Electronic check           70.70        353.5  "
      ]
     },
     "execution_count": 3,
     "metadata": {},
     "output_type": "execute_result"
    }
   ],
   "source": [
    "contract.info()\n",
    "contract.head(5)"
   ]
  },
  {
   "cell_type": "code",
   "execution_count": 4,
   "metadata": {
    "scrolled": true
   },
   "outputs": [
    {
     "data": {
      "text/html": [
       "<div>\n",
       "<style scoped>\n",
       "    .dataframe tbody tr th:only-of-type {\n",
       "        vertical-align: middle;\n",
       "    }\n",
       "\n",
       "    .dataframe tbody tr th {\n",
       "        vertical-align: top;\n",
       "    }\n",
       "\n",
       "    .dataframe thead th {\n",
       "        text-align: right;\n",
       "    }\n",
       "</style>\n",
       "<table border=\"1\" class=\"dataframe\">\n",
       "  <thead>\n",
       "    <tr style=\"text-align: right;\">\n",
       "      <th></th>\n",
       "      <th>BeginDate</th>\n",
       "      <th>EndDate</th>\n",
       "      <th>Type</th>\n",
       "      <th>PaperlessBilling</th>\n",
       "      <th>PaymentMethod</th>\n",
       "      <th>MonthlyCharges</th>\n",
       "      <th>TotalCharges</th>\n",
       "    </tr>\n",
       "    <tr>\n",
       "      <th>customerID</th>\n",
       "      <th></th>\n",
       "      <th></th>\n",
       "      <th></th>\n",
       "      <th></th>\n",
       "      <th></th>\n",
       "      <th></th>\n",
       "      <th></th>\n",
       "    </tr>\n",
       "  </thead>\n",
       "  <tbody>\n",
       "    <tr>\n",
       "      <th>4472-LVYGI</th>\n",
       "      <td>2020-02-01</td>\n",
       "      <td>No</td>\n",
       "      <td>Two year</td>\n",
       "      <td>Yes</td>\n",
       "      <td>Bank transfer (automatic)</td>\n",
       "      <td>52.55</td>\n",
       "      <td></td>\n",
       "    </tr>\n",
       "    <tr>\n",
       "      <th>3115-CZMZD</th>\n",
       "      <td>2020-02-01</td>\n",
       "      <td>No</td>\n",
       "      <td>Two year</td>\n",
       "      <td>No</td>\n",
       "      <td>Mailed check</td>\n",
       "      <td>20.25</td>\n",
       "      <td></td>\n",
       "    </tr>\n",
       "    <tr>\n",
       "      <th>5709-LVOEQ</th>\n",
       "      <td>2020-02-01</td>\n",
       "      <td>No</td>\n",
       "      <td>Two year</td>\n",
       "      <td>No</td>\n",
       "      <td>Mailed check</td>\n",
       "      <td>80.85</td>\n",
       "      <td></td>\n",
       "    </tr>\n",
       "    <tr>\n",
       "      <th>4367-NUYAO</th>\n",
       "      <td>2020-02-01</td>\n",
       "      <td>No</td>\n",
       "      <td>Two year</td>\n",
       "      <td>No</td>\n",
       "      <td>Mailed check</td>\n",
       "      <td>25.75</td>\n",
       "      <td></td>\n",
       "    </tr>\n",
       "    <tr>\n",
       "      <th>1371-DWPAZ</th>\n",
       "      <td>2020-02-01</td>\n",
       "      <td>No</td>\n",
       "      <td>Two year</td>\n",
       "      <td>No</td>\n",
       "      <td>Credit card (automatic)</td>\n",
       "      <td>56.05</td>\n",
       "      <td></td>\n",
       "    </tr>\n",
       "    <tr>\n",
       "      <th>7644-OMVMY</th>\n",
       "      <td>2020-02-01</td>\n",
       "      <td>No</td>\n",
       "      <td>Two year</td>\n",
       "      <td>No</td>\n",
       "      <td>Mailed check</td>\n",
       "      <td>19.85</td>\n",
       "      <td></td>\n",
       "    </tr>\n",
       "    <tr>\n",
       "      <th>3213-VVOLG</th>\n",
       "      <td>2020-02-01</td>\n",
       "      <td>No</td>\n",
       "      <td>Two year</td>\n",
       "      <td>No</td>\n",
       "      <td>Mailed check</td>\n",
       "      <td>25.35</td>\n",
       "      <td></td>\n",
       "    </tr>\n",
       "    <tr>\n",
       "      <th>2520-SGTTA</th>\n",
       "      <td>2020-02-01</td>\n",
       "      <td>No</td>\n",
       "      <td>Two year</td>\n",
       "      <td>No</td>\n",
       "      <td>Mailed check</td>\n",
       "      <td>20.00</td>\n",
       "      <td></td>\n",
       "    </tr>\n",
       "    <tr>\n",
       "      <th>2923-ARZLG</th>\n",
       "      <td>2020-02-01</td>\n",
       "      <td>No</td>\n",
       "      <td>One year</td>\n",
       "      <td>Yes</td>\n",
       "      <td>Mailed check</td>\n",
       "      <td>19.70</td>\n",
       "      <td></td>\n",
       "    </tr>\n",
       "    <tr>\n",
       "      <th>4075-WKNIU</th>\n",
       "      <td>2020-02-01</td>\n",
       "      <td>No</td>\n",
       "      <td>Two year</td>\n",
       "      <td>No</td>\n",
       "      <td>Mailed check</td>\n",
       "      <td>73.35</td>\n",
       "      <td></td>\n",
       "    </tr>\n",
       "    <tr>\n",
       "      <th>2775-SEFEE</th>\n",
       "      <td>2020-02-01</td>\n",
       "      <td>No</td>\n",
       "      <td>Two year</td>\n",
       "      <td>Yes</td>\n",
       "      <td>Bank transfer (automatic)</td>\n",
       "      <td>61.90</td>\n",
       "      <td></td>\n",
       "    </tr>\n",
       "  </tbody>\n",
       "</table>\n",
       "</div>"
      ],
      "text/plain": [
       "             BeginDate EndDate      Type PaperlessBilling  \\\n",
       "customerID                                                  \n",
       "4472-LVYGI  2020-02-01      No  Two year              Yes   \n",
       "3115-CZMZD  2020-02-01      No  Two year               No   \n",
       "5709-LVOEQ  2020-02-01      No  Two year               No   \n",
       "4367-NUYAO  2020-02-01      No  Two year               No   \n",
       "1371-DWPAZ  2020-02-01      No  Two year               No   \n",
       "7644-OMVMY  2020-02-01      No  Two year               No   \n",
       "3213-VVOLG  2020-02-01      No  Two year               No   \n",
       "2520-SGTTA  2020-02-01      No  Two year               No   \n",
       "2923-ARZLG  2020-02-01      No  One year              Yes   \n",
       "4075-WKNIU  2020-02-01      No  Two year               No   \n",
       "2775-SEFEE  2020-02-01      No  Two year              Yes   \n",
       "\n",
       "                        PaymentMethod  MonthlyCharges TotalCharges  \n",
       "customerID                                                          \n",
       "4472-LVYGI  Bank transfer (automatic)           52.55               \n",
       "3115-CZMZD               Mailed check           20.25               \n",
       "5709-LVOEQ               Mailed check           80.85               \n",
       "4367-NUYAO               Mailed check           25.75               \n",
       "1371-DWPAZ    Credit card (automatic)           56.05               \n",
       "7644-OMVMY               Mailed check           19.85               \n",
       "3213-VVOLG               Mailed check           25.35               \n",
       "2520-SGTTA               Mailed check           20.00               \n",
       "2923-ARZLG               Mailed check           19.70               \n",
       "4075-WKNIU               Mailed check           73.35               \n",
       "2775-SEFEE  Bank transfer (automatic)           61.90               "
      ]
     },
     "execution_count": 4,
     "metadata": {},
     "output_type": "execute_result"
    }
   ],
   "source": [
    "contract[contract['TotalCharges'] == ' ']"
   ]
  },
  {
   "cell_type": "markdown",
   "metadata": {},
   "source": [
    "Контракты созданы в день выгрузки и потому пока не содержат информации об всех выплатах, для анализа заменим на 0."
   ]
  },
  {
   "cell_type": "markdown",
   "metadata": {},
   "source": [
    "<div class=\"alert alert-success\">\n",
    "<b>✔️ Комментарий ревьювера:</b> Хорошо, что обратил внимание на пустые строки в признаке TotalCharges!\n",
    "    \n",
    "Как рекоменжация, данные пропуски можно заполнить месячными значениями платежей \n",
    "    \n",
    "</div>"
   ]
  },
  {
   "cell_type": "code",
   "execution_count": 5,
   "metadata": {},
   "outputs": [],
   "source": [
    "contract['TotalCharges'] = contract['TotalCharges'].replace(' ','0')"
   ]
  },
  {
   "cell_type": "code",
   "execution_count": 6,
   "metadata": {},
   "outputs": [],
   "source": [
    "contract['TotalCharges'] = contract['TotalCharges'].astype('float64')"
   ]
  },
  {
   "cell_type": "code",
   "execution_count": 7,
   "metadata": {},
   "outputs": [
    {
     "data": {
      "text/html": [
       "<div>\n",
       "<style scoped>\n",
       "    .dataframe tbody tr th:only-of-type {\n",
       "        vertical-align: middle;\n",
       "    }\n",
       "\n",
       "    .dataframe tbody tr th {\n",
       "        vertical-align: top;\n",
       "    }\n",
       "\n",
       "    .dataframe thead th {\n",
       "        text-align: right;\n",
       "    }\n",
       "</style>\n",
       "<table border=\"1\" class=\"dataframe\">\n",
       "  <thead>\n",
       "    <tr style=\"text-align: right;\">\n",
       "      <th></th>\n",
       "      <th>MonthlyCharges</th>\n",
       "      <th>TotalCharges</th>\n",
       "    </tr>\n",
       "  </thead>\n",
       "  <tbody>\n",
       "    <tr>\n",
       "      <th>count</th>\n",
       "      <td>7043.000000</td>\n",
       "      <td>7043.000000</td>\n",
       "    </tr>\n",
       "    <tr>\n",
       "      <th>mean</th>\n",
       "      <td>64.761692</td>\n",
       "      <td>2115.312885</td>\n",
       "    </tr>\n",
       "    <tr>\n",
       "      <th>std</th>\n",
       "      <td>30.090047</td>\n",
       "      <td>2112.742814</td>\n",
       "    </tr>\n",
       "    <tr>\n",
       "      <th>min</th>\n",
       "      <td>18.250000</td>\n",
       "      <td>0.000000</td>\n",
       "    </tr>\n",
       "    <tr>\n",
       "      <th>25%</th>\n",
       "      <td>35.500000</td>\n",
       "      <td>436.750000</td>\n",
       "    </tr>\n",
       "    <tr>\n",
       "      <th>50%</th>\n",
       "      <td>70.350000</td>\n",
       "      <td>1343.350000</td>\n",
       "    </tr>\n",
       "    <tr>\n",
       "      <th>75%</th>\n",
       "      <td>89.850000</td>\n",
       "      <td>3236.690000</td>\n",
       "    </tr>\n",
       "    <tr>\n",
       "      <th>max</th>\n",
       "      <td>118.750000</td>\n",
       "      <td>9221.380000</td>\n",
       "    </tr>\n",
       "  </tbody>\n",
       "</table>\n",
       "</div>"
      ],
      "text/plain": [
       "       MonthlyCharges  TotalCharges\n",
       "count     7043.000000   7043.000000\n",
       "mean        64.761692   2115.312885\n",
       "std         30.090047   2112.742814\n",
       "min         18.250000      0.000000\n",
       "25%         35.500000    436.750000\n",
       "50%         70.350000   1343.350000\n",
       "75%         89.850000   3236.690000\n",
       "max        118.750000   9221.380000"
      ]
     },
     "execution_count": 7,
     "metadata": {},
     "output_type": "execute_result"
    }
   ],
   "source": [
    "contract.describe()"
   ]
  },
  {
   "cell_type": "code",
   "execution_count": 8,
   "metadata": {
    "scrolled": true
   },
   "outputs": [
    {
     "name": "stdout",
     "output_type": "stream",
     "text": [
      "<class 'pandas.core.frame.DataFrame'>\n",
      "Index: 7043 entries, 7590-VHVEG to 3186-AJIEK\n",
      "Data columns (total 4 columns):\n",
      " #   Column         Non-Null Count  Dtype \n",
      "---  ------         --------------  ----- \n",
      " 0   gender         7043 non-null   object\n",
      " 1   SeniorCitizen  7043 non-null   int64 \n",
      " 2   Partner        7043 non-null   object\n",
      " 3   Dependents     7043 non-null   object\n",
      "dtypes: int64(1), object(3)\n",
      "memory usage: 275.1+ KB\n"
     ]
    },
    {
     "data": {
      "text/html": [
       "<div>\n",
       "<style scoped>\n",
       "    .dataframe tbody tr th:only-of-type {\n",
       "        vertical-align: middle;\n",
       "    }\n",
       "\n",
       "    .dataframe tbody tr th {\n",
       "        vertical-align: top;\n",
       "    }\n",
       "\n",
       "    .dataframe thead th {\n",
       "        text-align: right;\n",
       "    }\n",
       "</style>\n",
       "<table border=\"1\" class=\"dataframe\">\n",
       "  <thead>\n",
       "    <tr style=\"text-align: right;\">\n",
       "      <th></th>\n",
       "      <th>gender</th>\n",
       "      <th>SeniorCitizen</th>\n",
       "      <th>Partner</th>\n",
       "      <th>Dependents</th>\n",
       "    </tr>\n",
       "    <tr>\n",
       "      <th>customerID</th>\n",
       "      <th></th>\n",
       "      <th></th>\n",
       "      <th></th>\n",
       "      <th></th>\n",
       "    </tr>\n",
       "  </thead>\n",
       "  <tbody>\n",
       "    <tr>\n",
       "      <th>7590-VHVEG</th>\n",
       "      <td>Female</td>\n",
       "      <td>0</td>\n",
       "      <td>Yes</td>\n",
       "      <td>No</td>\n",
       "    </tr>\n",
       "    <tr>\n",
       "      <th>5575-GNVDE</th>\n",
       "      <td>Male</td>\n",
       "      <td>0</td>\n",
       "      <td>No</td>\n",
       "      <td>No</td>\n",
       "    </tr>\n",
       "    <tr>\n",
       "      <th>3668-QPYBK</th>\n",
       "      <td>Male</td>\n",
       "      <td>0</td>\n",
       "      <td>No</td>\n",
       "      <td>No</td>\n",
       "    </tr>\n",
       "    <tr>\n",
       "      <th>7795-CFOCW</th>\n",
       "      <td>Male</td>\n",
       "      <td>0</td>\n",
       "      <td>No</td>\n",
       "      <td>No</td>\n",
       "    </tr>\n",
       "    <tr>\n",
       "      <th>9237-HQITU</th>\n",
       "      <td>Female</td>\n",
       "      <td>0</td>\n",
       "      <td>No</td>\n",
       "      <td>No</td>\n",
       "    </tr>\n",
       "  </tbody>\n",
       "</table>\n",
       "</div>"
      ],
      "text/plain": [
       "            gender  SeniorCitizen Partner Dependents\n",
       "customerID                                          \n",
       "7590-VHVEG  Female              0     Yes         No\n",
       "5575-GNVDE    Male              0      No         No\n",
       "3668-QPYBK    Male              0      No         No\n",
       "7795-CFOCW    Male              0      No         No\n",
       "9237-HQITU  Female              0      No         No"
      ]
     },
     "execution_count": 8,
     "metadata": {},
     "output_type": "execute_result"
    }
   ],
   "source": [
    "personal.info()\n",
    "personal.head()"
   ]
  },
  {
   "cell_type": "code",
   "execution_count": 9,
   "metadata": {},
   "outputs": [
    {
     "data": {
      "text/html": [
       "<div>\n",
       "<style scoped>\n",
       "    .dataframe tbody tr th:only-of-type {\n",
       "        vertical-align: middle;\n",
       "    }\n",
       "\n",
       "    .dataframe tbody tr th {\n",
       "        vertical-align: top;\n",
       "    }\n",
       "\n",
       "    .dataframe thead th {\n",
       "        text-align: right;\n",
       "    }\n",
       "</style>\n",
       "<table border=\"1\" class=\"dataframe\">\n",
       "  <thead>\n",
       "    <tr style=\"text-align: right;\">\n",
       "      <th></th>\n",
       "      <th>count</th>\n",
       "      <th>mean</th>\n",
       "      <th>std</th>\n",
       "      <th>min</th>\n",
       "      <th>25%</th>\n",
       "      <th>50%</th>\n",
       "      <th>75%</th>\n",
       "      <th>max</th>\n",
       "    </tr>\n",
       "  </thead>\n",
       "  <tbody>\n",
       "    <tr>\n",
       "      <th>SeniorCitizen</th>\n",
       "      <td>7043.0</td>\n",
       "      <td>0.162147</td>\n",
       "      <td>0.368612</td>\n",
       "      <td>0.0</td>\n",
       "      <td>0.0</td>\n",
       "      <td>0.0</td>\n",
       "      <td>0.0</td>\n",
       "      <td>1.0</td>\n",
       "    </tr>\n",
       "  </tbody>\n",
       "</table>\n",
       "</div>"
      ],
      "text/plain": [
       "                count      mean       std  min  25%  50%  75%  max\n",
       "SeniorCitizen  7043.0  0.162147  0.368612  0.0  0.0  0.0  0.0  1.0"
      ]
     },
     "execution_count": 9,
     "metadata": {},
     "output_type": "execute_result"
    }
   ],
   "source": [
    "personal.describe().T"
   ]
  },
  {
   "cell_type": "code",
   "execution_count": 10,
   "metadata": {
    "scrolled": true
   },
   "outputs": [
    {
     "name": "stdout",
     "output_type": "stream",
     "text": [
      "<class 'pandas.core.frame.DataFrame'>\n",
      "Index: 5517 entries, 7590-VHVEG to 3186-AJIEK\n",
      "Data columns (total 7 columns):\n",
      " #   Column            Non-Null Count  Dtype \n",
      "---  ------            --------------  ----- \n",
      " 0   InternetService   5517 non-null   object\n",
      " 1   OnlineSecurity    5517 non-null   object\n",
      " 2   OnlineBackup      5517 non-null   object\n",
      " 3   DeviceProtection  5517 non-null   object\n",
      " 4   TechSupport       5517 non-null   object\n",
      " 5   StreamingTV       5517 non-null   object\n",
      " 6   StreamingMovies   5517 non-null   object\n",
      "dtypes: object(7)\n",
      "memory usage: 344.8+ KB\n"
     ]
    },
    {
     "data": {
      "text/html": [
       "<div>\n",
       "<style scoped>\n",
       "    .dataframe tbody tr th:only-of-type {\n",
       "        vertical-align: middle;\n",
       "    }\n",
       "\n",
       "    .dataframe tbody tr th {\n",
       "        vertical-align: top;\n",
       "    }\n",
       "\n",
       "    .dataframe thead th {\n",
       "        text-align: right;\n",
       "    }\n",
       "</style>\n",
       "<table border=\"1\" class=\"dataframe\">\n",
       "  <thead>\n",
       "    <tr style=\"text-align: right;\">\n",
       "      <th></th>\n",
       "      <th>InternetService</th>\n",
       "      <th>OnlineSecurity</th>\n",
       "      <th>OnlineBackup</th>\n",
       "      <th>DeviceProtection</th>\n",
       "      <th>TechSupport</th>\n",
       "      <th>StreamingTV</th>\n",
       "      <th>StreamingMovies</th>\n",
       "    </tr>\n",
       "    <tr>\n",
       "      <th>customerID</th>\n",
       "      <th></th>\n",
       "      <th></th>\n",
       "      <th></th>\n",
       "      <th></th>\n",
       "      <th></th>\n",
       "      <th></th>\n",
       "      <th></th>\n",
       "    </tr>\n",
       "  </thead>\n",
       "  <tbody>\n",
       "    <tr>\n",
       "      <th>7590-VHVEG</th>\n",
       "      <td>DSL</td>\n",
       "      <td>No</td>\n",
       "      <td>Yes</td>\n",
       "      <td>No</td>\n",
       "      <td>No</td>\n",
       "      <td>No</td>\n",
       "      <td>No</td>\n",
       "    </tr>\n",
       "    <tr>\n",
       "      <th>5575-GNVDE</th>\n",
       "      <td>DSL</td>\n",
       "      <td>Yes</td>\n",
       "      <td>No</td>\n",
       "      <td>Yes</td>\n",
       "      <td>No</td>\n",
       "      <td>No</td>\n",
       "      <td>No</td>\n",
       "    </tr>\n",
       "    <tr>\n",
       "      <th>3668-QPYBK</th>\n",
       "      <td>DSL</td>\n",
       "      <td>Yes</td>\n",
       "      <td>Yes</td>\n",
       "      <td>No</td>\n",
       "      <td>No</td>\n",
       "      <td>No</td>\n",
       "      <td>No</td>\n",
       "    </tr>\n",
       "    <tr>\n",
       "      <th>7795-CFOCW</th>\n",
       "      <td>DSL</td>\n",
       "      <td>Yes</td>\n",
       "      <td>No</td>\n",
       "      <td>Yes</td>\n",
       "      <td>Yes</td>\n",
       "      <td>No</td>\n",
       "      <td>No</td>\n",
       "    </tr>\n",
       "    <tr>\n",
       "      <th>9237-HQITU</th>\n",
       "      <td>Fiber optic</td>\n",
       "      <td>No</td>\n",
       "      <td>No</td>\n",
       "      <td>No</td>\n",
       "      <td>No</td>\n",
       "      <td>No</td>\n",
       "      <td>No</td>\n",
       "    </tr>\n",
       "  </tbody>\n",
       "</table>\n",
       "</div>"
      ],
      "text/plain": [
       "           InternetService OnlineSecurity OnlineBackup DeviceProtection  \\\n",
       "customerID                                                                \n",
       "7590-VHVEG             DSL             No          Yes               No   \n",
       "5575-GNVDE             DSL            Yes           No              Yes   \n",
       "3668-QPYBK             DSL            Yes          Yes               No   \n",
       "7795-CFOCW             DSL            Yes           No              Yes   \n",
       "9237-HQITU     Fiber optic             No           No               No   \n",
       "\n",
       "           TechSupport StreamingTV StreamingMovies  \n",
       "customerID                                          \n",
       "7590-VHVEG          No          No              No  \n",
       "5575-GNVDE          No          No              No  \n",
       "3668-QPYBK          No          No              No  \n",
       "7795-CFOCW         Yes          No              No  \n",
       "9237-HQITU          No          No              No  "
      ]
     },
     "execution_count": 10,
     "metadata": {},
     "output_type": "execute_result"
    }
   ],
   "source": [
    "internet.info()\n",
    "internet.head()"
   ]
  },
  {
   "cell_type": "code",
   "execution_count": 11,
   "metadata": {},
   "outputs": [
    {
     "name": "stdout",
     "output_type": "stream",
     "text": [
      "<class 'pandas.core.frame.DataFrame'>\n",
      "Index: 6361 entries, 5575-GNVDE to 3186-AJIEK\n",
      "Data columns (total 1 columns):\n",
      " #   Column         Non-Null Count  Dtype \n",
      "---  ------         --------------  ----- \n",
      " 0   MultipleLines  6361 non-null   object\n",
      "dtypes: object(1)\n",
      "memory usage: 99.4+ KB\n"
     ]
    },
    {
     "data": {
      "text/html": [
       "<div>\n",
       "<style scoped>\n",
       "    .dataframe tbody tr th:only-of-type {\n",
       "        vertical-align: middle;\n",
       "    }\n",
       "\n",
       "    .dataframe tbody tr th {\n",
       "        vertical-align: top;\n",
       "    }\n",
       "\n",
       "    .dataframe thead th {\n",
       "        text-align: right;\n",
       "    }\n",
       "</style>\n",
       "<table border=\"1\" class=\"dataframe\">\n",
       "  <thead>\n",
       "    <tr style=\"text-align: right;\">\n",
       "      <th></th>\n",
       "      <th>MultipleLines</th>\n",
       "    </tr>\n",
       "    <tr>\n",
       "      <th>customerID</th>\n",
       "      <th></th>\n",
       "    </tr>\n",
       "  </thead>\n",
       "  <tbody>\n",
       "    <tr>\n",
       "      <th>5575-GNVDE</th>\n",
       "      <td>No</td>\n",
       "    </tr>\n",
       "    <tr>\n",
       "      <th>3668-QPYBK</th>\n",
       "      <td>No</td>\n",
       "    </tr>\n",
       "    <tr>\n",
       "      <th>9237-HQITU</th>\n",
       "      <td>No</td>\n",
       "    </tr>\n",
       "    <tr>\n",
       "      <th>9305-CDSKC</th>\n",
       "      <td>Yes</td>\n",
       "    </tr>\n",
       "    <tr>\n",
       "      <th>1452-KIOVK</th>\n",
       "      <td>Yes</td>\n",
       "    </tr>\n",
       "  </tbody>\n",
       "</table>\n",
       "</div>"
      ],
      "text/plain": [
       "           MultipleLines\n",
       "customerID              \n",
       "5575-GNVDE            No\n",
       "3668-QPYBK            No\n",
       "9237-HQITU            No\n",
       "9305-CDSKC           Yes\n",
       "1452-KIOVK           Yes"
      ]
     },
     "execution_count": 11,
     "metadata": {},
     "output_type": "execute_result"
    }
   ],
   "source": [
    "phone.info()\n",
    "phone.head()"
   ]
  },
  {
   "cell_type": "markdown",
   "metadata": {},
   "source": [
    "<div class=\"alert alert-warning\">\n",
    "<b>⚠️ Комментарий ревьювера:</b> Желательно указывать тип присоединения таблиц, например:\n",
    "    \n",
    "    how = 'outer'\n",
    "    \n",
    "</div>"
   ]
  },
  {
   "cell_type": "code",
   "execution_count": 12,
   "metadata": {},
   "outputs": [],
   "source": [
    "df = contract.join(personal)"
   ]
  },
  {
   "cell_type": "code",
   "execution_count": 13,
   "metadata": {},
   "outputs": [],
   "source": [
    "df = df.join(internet)"
   ]
  },
  {
   "cell_type": "code",
   "execution_count": 14,
   "metadata": {},
   "outputs": [],
   "source": [
    "df = df.join(phone)"
   ]
  },
  {
   "cell_type": "code",
   "execution_count": 15,
   "metadata": {},
   "outputs": [
    {
     "name": "stdout",
     "output_type": "stream",
     "text": [
      "<class 'pandas.core.frame.DataFrame'>\n",
      "Index: 7043 entries, 7590-VHVEG to 3186-AJIEK\n",
      "Data columns (total 19 columns):\n",
      " #   Column            Non-Null Count  Dtype  \n",
      "---  ------            --------------  -----  \n",
      " 0   BeginDate         7043 non-null   object \n",
      " 1   EndDate           7043 non-null   object \n",
      " 2   Type              7043 non-null   object \n",
      " 3   PaperlessBilling  7043 non-null   object \n",
      " 4   PaymentMethod     7043 non-null   object \n",
      " 5   MonthlyCharges    7043 non-null   float64\n",
      " 6   TotalCharges      7043 non-null   float64\n",
      " 7   gender            7043 non-null   object \n",
      " 8   SeniorCitizen     7043 non-null   int64  \n",
      " 9   Partner           7043 non-null   object \n",
      " 10  Dependents        7043 non-null   object \n",
      " 11  InternetService   5517 non-null   object \n",
      " 12  OnlineSecurity    5517 non-null   object \n",
      " 13  OnlineBackup      5517 non-null   object \n",
      " 14  DeviceProtection  5517 non-null   object \n",
      " 15  TechSupport       5517 non-null   object \n",
      " 16  StreamingTV       5517 non-null   object \n",
      " 17  StreamingMovies   5517 non-null   object \n",
      " 18  MultipleLines     6361 non-null   object \n",
      "dtypes: float64(2), int64(1), object(16)\n",
      "memory usage: 1.3+ MB\n"
     ]
    }
   ],
   "source": [
    "df.info()"
   ]
  },
  {
   "cell_type": "markdown",
   "metadata": {},
   "source": [
    "Данные были импортированны, датасеты для удобства объединены в один.\n",
    "\n",
    "Он содержит 2 количественных и 15 категориальных признака и 2 признака отвечающих за даты."
   ]
  },
  {
   "cell_type": "markdown",
   "metadata": {},
   "source": [
    "<div class=\"alert alert-success\">\n",
    "<b>✔️ Комментарий тимлида:</b> Предварительный анализ данных выполнен успешно! Видно, что потребуется предобработка\n",
    "\n",
    "</div>"
   ]
  },
  {
   "cell_type": "markdown",
   "metadata": {},
   "source": [
    "<div class=\"alert alert-success\">\n",
    "<b>✔️ Комментарий тимлида:</b> План работ принят, можно приступать к основному проекту.\n",
    "    \n",
    "Сохрани пожалуйста наши с тобой комментарии, а проект продолжай в этом же файле. Успехов!\n",
    "</div>"
   ]
  },
  {
   "cell_type": "markdown",
   "metadata": {},
   "source": [
    "<h1> Комментарий ревьювера </h1>\n",
    "\n",
    "<div class=\"alert alert-success\">\n",
    "    \n",
    "👋 Дмитрий, привет еще раз! Это снова Арсен Абдулин — и я буду делать ревью основного проекта.\n",
    "    \n",
    "Давай посмотрим, что получилось.\n",
    "    \n",
    "</div>"
   ]
  },
  {
   "cell_type": "markdown",
   "metadata": {},
   "source": [
    "## Предобработка данных"
   ]
  },
  {
   "cell_type": "markdown",
   "metadata": {},
   "source": [
    "### Добавление признаков"
   ]
  },
  {
   "cell_type": "markdown",
   "metadata": {},
   "source": [
    "Необходимо добавить признак ```Churn``` - факт оттока клиента"
   ]
  },
  {
   "cell_type": "markdown",
   "metadata": {},
   "source": [
    "<div class=\"alert alert-success\">\n",
    "<b>✔️ Комментарий ревьювера:</b> Отлично, получили целевую переменную!\n",
    "    \n",
    "</div>"
   ]
  },
  {
   "cell_type": "code",
   "execution_count": 16,
   "metadata": {},
   "outputs": [],
   "source": [
    "df['Churn'] = 1\n",
    "df.loc[df['EndDate'] == 'No', 'Churn'] = 0"
   ]
  },
  {
   "cell_type": "code",
   "execution_count": 17,
   "metadata": {},
   "outputs": [
    {
     "name": "stdout",
     "output_type": "stream",
     "text": [
      "Количество - 1101\n"
     ]
    }
   ],
   "source": [
    "print('Количество - {:}'.format(df[df['Churn'] == 1]['Churn'].count()))"
   ]
  },
  {
   "cell_type": "code",
   "execution_count": 18,
   "metadata": {},
   "outputs": [
    {
     "name": "stdout",
     "output_type": "stream",
     "text": [
      "Количество - 5942\n"
     ]
    }
   ],
   "source": [
    "print('Количество - {:}'.format(df[df['Churn'] == 0]['Churn'].count()))"
   ]
  },
  {
   "cell_type": "code",
   "execution_count": 19,
   "metadata": {},
   "outputs": [],
   "source": [
    "df.loc[df['EndDate'] == 'No', 'EndDate'] = '2020-02-01'"
   ]
  },
  {
   "cell_type": "markdown",
   "metadata": {},
   "source": [
    "Также добавим признак ```ContractDays``` - количество дней использования услуг провайдера"
   ]
  },
  {
   "cell_type": "code",
   "execution_count": 20,
   "metadata": {},
   "outputs": [],
   "source": [
    "df['BeginDate'] = pd.to_datetime(df['BeginDate'], format='%Y-%m-%d')\n",
    "df['EndDate'] = pd.to_datetime(df['EndDate'], format='%Y-%m-%d')"
   ]
  },
  {
   "cell_type": "code",
   "execution_count": 21,
   "metadata": {},
   "outputs": [],
   "source": [
    "df['ContractDays'] = (df['EndDate'] - df['BeginDate']).apply(lambda s: s.days)"
   ]
  },
  {
   "cell_type": "markdown",
   "metadata": {},
   "source": [
    "<div class=\"alert alert-success\">\n",
    "<b>✔️ Комментарий ревьювера:</b> Хорошо, так мы получим новый полезный признак для обучения!\n",
    "    \n",
    "</div>"
   ]
  },
  {
   "cell_type": "markdown",
   "metadata": {},
   "source": [
    "Удалим признаки начала и конца контракта"
   ]
  },
  {
   "cell_type": "code",
   "execution_count": 22,
   "metadata": {},
   "outputs": [],
   "source": [
    "df = df.drop(['EndDate', 'BeginDate'], axis = 1)"
   ]
  },
  {
   "cell_type": "markdown",
   "metadata": {},
   "source": [
    "### Обработка пропусков"
   ]
  },
  {
   "cell_type": "markdown",
   "metadata": {},
   "source": [
    "Заполним пропуски в столбцах ```InternetService```, ```OnlineSecurity```, ```OnlineBackup```, ```DeviceProtection```, ```TechSupport```, ```StreamingTV```, ```StreamingMovies```, ```MultipleLines``` значением \"0\", так как это признаки с бинарными значениями \"да/нет\" и пропуск означает отсутствие у клиента интернета или телефонной связи и как следствие интернет-услуг или многоканального телефонного номера."
   ]
  },
  {
   "cell_type": "markdown",
   "metadata": {},
   "source": [
    "<div class=\"alert alert-success\">\n",
    "<b>✔️ Комментарий ревьювера:</b> Согласен, можно заполнить пропуски таким образом!\n",
    "    \n",
    "</div>"
   ]
  },
  {
   "cell_type": "code",
   "execution_count": 23,
   "metadata": {},
   "outputs": [],
   "source": [
    "df['InternetService'] = df['InternetService'].fillna('No')\n",
    "df['OnlineSecurity'] = df['OnlineSecurity'].fillna('No')\n",
    "df['OnlineBackup'] = df['OnlineBackup'].fillna('No')\n",
    "df['DeviceProtection'] = df['DeviceProtection'].fillna('No')\n",
    "df['TechSupport'] = df['TechSupport'].fillna('No')\n",
    "df['StreamingTV'] = df['StreamingTV'].fillna('No')\n",
    "df['StreamingMovies'] = df['StreamingMovies'].fillna('No')\n",
    "df['MultipleLines'] = df['MultipleLines'].fillna('No')"
   ]
  },
  {
   "cell_type": "markdown",
   "metadata": {},
   "source": [
    "### Обработка аномалий"
   ]
  },
  {
   "cell_type": "markdown",
   "metadata": {},
   "source": [
    "Посмотрим на распределение числовых признаков"
   ]
  },
  {
   "cell_type": "code",
   "execution_count": 24,
   "metadata": {
    "scrolled": true
   },
   "outputs": [
    {
     "data": {
      "text/plain": [
       "<AxesSubplot:>"
      ]
     },
     "execution_count": 24,
     "metadata": {},
     "output_type": "execute_result"
    },
    {
     "data": {
      "image/png": "[encoded data removed]",
      "text/plain": [
       "<Figure size 432x288 with 1 Axes>"
      ]
     },
     "metadata": {
      "needs_background": "light"
     },
     "output_type": "display_data"
    }
   ],
   "source": [
    "df.boxplot(column=['ContractDays'])"
   ]
  },
  {
   "cell_type": "code",
   "execution_count": 25,
   "metadata": {
    "scrolled": true
   },
   "outputs": [
    {
     "data": {
      "text/plain": [
       "<AxesSubplot:>"
      ]
     },
     "execution_count": 25,
     "metadata": {},
     "output_type": "execute_result"
    },
    {
     "data": {
      "image/png": "[encoded data removed]",
      "text/plain": [
       "<Figure size 432x288 with 1 Axes>"
      ]
     },
     "metadata": {
      "needs_background": "light"
     },
     "output_type": "display_data"
    }
   ],
   "source": [
    "df.boxplot(column=['MonthlyCharges'])"
   ]
  },
  {
   "cell_type": "code",
   "execution_count": 26,
   "metadata": {
    "scrolled": true
   },
   "outputs": [
    {
     "data": {
      "text/plain": [
       "<AxesSubplot:>"
      ]
     },
     "execution_count": 26,
     "metadata": {},
     "output_type": "execute_result"
    },
    {
     "data": {
      "image/png": "[encoded data removed]",
      "text/plain": [
       "<Figure size 432x288 with 1 Axes>"
      ]
     },
     "metadata": {
      "needs_background": "light"
     },
     "output_type": "display_data"
    }
   ],
   "source": [
    "df.boxplot(column=['TotalCharges'])"
   ]
  },
  {
   "cell_type": "markdown",
   "metadata": {},
   "source": [
    "<div class=\"alert alert-danger\">\n",
    "<b>🚫 Комментарий ревьювера:</b> В данном случае неверно считать эти данные выбросами. Просто мы имеем дело с клиентами, которые платят больше остальных, для них также необходимо предсказывать факт оттока\n",
    "    \n",
    "</div>"
   ]
  },
  {
   "cell_type": "markdown",
   "metadata": {},
   "source": [
    "<div class=\"alert alert-warning\">\n",
    "<b>⚠️ Комментарий ревьювера v2:</b> Желательно добавить вывод на основе полученных результатов \n",
    "    \n",
    "</div>"
   ]
  },
  {
   "cell_type": "markdown",
   "metadata": {},
   "source": [
    "### Кодирование категориальных признаков"
   ]
  },
  {
   "cell_type": "markdown",
   "metadata": {},
   "source": [
    "Все категориальные признаки кодируем методом ```One-Hot Encoder```, а численные масштабируем методом ```StandardScaler```"
   ]
  },
  {
   "cell_type": "markdown",
   "metadata": {},
   "source": [
    "Для этого создадим данные признаков и таргетов, а также разделим на тренировочный и тестовый набор данных. "
   ]
  },
  {
   "cell_type": "code",
   "execution_count": 27,
   "metadata": {},
   "outputs": [],
   "source": [
    "X = df.drop('Churn', axis = 1)\n",
    "y = df['Churn']"
   ]
  },
  {
   "cell_type": "code",
   "execution_count": 28,
   "metadata": {},
   "outputs": [],
   "source": [
    "X_train, X_test, y_train, y_test = train_test_split(\n",
    "X, y, test_size=0.25, random_state=220523)"
   ]
  },
  {
   "cell_type": "code",
   "execution_count": 29,
   "metadata": {},
   "outputs": [],
   "source": [
    "cat_features = ['Type', 'PaperlessBilling', 'PaymentMethod', 'gender', \n",
    "                'Partner', 'Dependents', 'InternetService', 'OnlineSecurity',\n",
    "                'OnlineBackup', 'DeviceProtection', 'TechSupport', 'StreamingTV',\n",
    "                'StreamingMovies', 'MultipleLines']\n",
    "\n",
    "num_features = ['MonthlyCharges', 'TotalCharges', 'ContractDays']"
   ]
  },
  {
   "cell_type": "code",
   "execution_count": 30,
   "metadata": {
    "scrolled": true
   },
   "outputs": [],
   "source": [
    "mkc = make_column_transformer((StandardScaler(), num_features), (OneHotEncoder(drop='first'), cat_features), remainder='passthrough')"
   ]
  },
  {
   "cell_type": "markdown",
   "metadata": {},
   "source": [
    "Создадим препроцессор для обработки данных и обработаем тренировочные и тестовые данные"
   ]
  },
  {
   "cell_type": "code",
   "execution_count": 31,
   "metadata": {},
   "outputs": [],
   "source": [
    "num_transformer = Pipeline(steps=[('scaler', StandardScaler())])\n",
    "cat_transformer = Pipeline(steps=[('onehot', OneHotEncoder(drop='first'))])\n",
    "\n",
    "preprocessor = ColumnTransformer(transformers=\n",
    "                                [\n",
    "                                 ('num', num_transformer, num_features),\n",
    "                                 ('cat', cat_transformer, cat_features)\n",
    "                                ])"
   ]
  },
  {
   "cell_type": "code",
   "execution_count": 32,
   "metadata": {},
   "outputs": [],
   "source": [
    "X_train_d = preprocessor.fit_transform(X_train)\n",
    "columns = num_features + list(preprocessor.named_transformers_['cat'].named_steps['onehot'].get_feature_names(cat_features))\n",
    "X_test_d = preprocessor.transform(X_test)\n",
    "X_train_n = pd.DataFrame(X_train_d, columns=columns)\n",
    "X_test_n = pd.DataFrame(X_test_d, columns=columns)"
   ]
  },
  {
   "cell_type": "markdown",
   "metadata": {},
   "source": [
    "<div class=\"alert alert-warning\">\n",
    "<b>⚠️ Комментарий ревьювера:</b> Желательно все-таки закодировать признаки с помощью энкодера, а не вручную\n",
    "    \n",
    "Для бинарных признаков это может быть допустимо, но лучше все сделать на одном этапе\n",
    "    \n",
    "</div>"
   ]
  },
  {
   "cell_type": "markdown",
   "metadata": {},
   "source": [
    "<div class=\"alert alert-danger\">\n",
    "<b>🚫 Комментарий ревьювера:</b> Подобное кодирование категориальных признаков не допускается делать вручную в финальном проекте. \n",
    "    \n",
    "В реальности категорий гораздо больше, необходимо применять автоматизированные методы\n",
    "    \n",
    "</div>"
   ]
  },
  {
   "cell_type": "markdown",
   "metadata": {},
   "source": [
    "<div class=\"alert alert-danger\">\n",
    "<b>🚫 Комментарий ревьювера:</b> Кодировать признаки необходимо после разделения на выборки, иначе будет утечка\n",
    "    \n",
    "Если используешь get_dummies, то нужно сравнить списки признаков после кодирования:\n",
    "    \n",
    "    x_train.columns == x_test.columns\n",
    "    \n",
    "Также необходимо добавить параметр drop_first = True\n",
    "    \n",
    "</div>"
   ]
  },
  {
   "cell_type": "markdown",
   "metadata": {},
   "source": [
    "<div class=\"alert alert-success\">\n",
    "<b>✔️ Комментарий ревьювера v2:</b> Замечание поправлено \n",
    "    \n",
    "</div>"
   ]
  },
  {
   "cell_type": "markdown",
   "metadata": {},
   "source": [
    "Далее удаляем лишние признаки после кодировки данных"
   ]
  },
  {
   "cell_type": "markdown",
   "metadata": {},
   "source": [
    "### Анализ мульти коллинеарности признаков"
   ]
  },
  {
   "cell_type": "markdown",
   "metadata": {},
   "source": [
    "<div class=\"alert alert-danger\">\n",
    "<b>🚫 Комментарий ревьювера:</b> В данном проекте необходимо сделать также графический исследовательский анализ по лояльным и ушедшим клиентам. Необходимо изучить несколько признаков (можно и все), построить гистограммы и написать аналитические выводы.\n",
    "    \n",
    "Для анализа ушедших и оставшихся клиентов удобно применить метод histplot:    \n",
    "       \n",
    "https://seaborn.pydata.org/generated/seaborn.histplot.html\n",
    "    \n",
    "Например:\n",
    "    \n",
    "    sns.histplot(data, x = column, hue = 'target', multiple = 'stack')\n",
    "    \n",
    "</div>"
   ]
  },
  {
   "cell_type": "markdown",
   "metadata": {},
   "source": [
    "Посмотрим на распределение таргета по признакам"
   ]
  },
  {
   "cell_type": "code",
   "execution_count": 33,
   "metadata": {
    "scrolled": true
   },
   "outputs": [
    {
     "data": {
      "text/html": [
       "<div>\n",
       "<style scoped>\n",
       "    .dataframe tbody tr th:only-of-type {\n",
       "        vertical-align: middle;\n",
       "    }\n",
       "\n",
       "    .dataframe tbody tr th {\n",
       "        vertical-align: top;\n",
       "    }\n",
       "\n",
       "    .dataframe thead th {\n",
       "        text-align: right;\n",
       "    }\n",
       "</style>\n",
       "<table border=\"1\" class=\"dataframe\">\n",
       "  <thead>\n",
       "    <tr style=\"text-align: right;\">\n",
       "      <th>Churn</th>\n",
       "      <th>0</th>\n",
       "      <th>1</th>\n",
       "    </tr>\n",
       "  </thead>\n",
       "  <tbody>\n",
       "    <tr>\n",
       "      <th>MonthlyCharges</th>\n",
       "      <td>62.763455</td>\n",
       "      <td>75.546004</td>\n",
       "    </tr>\n",
       "    <tr>\n",
       "      <th>TotalCharges</th>\n",
       "      <td>2067.866420</td>\n",
       "      <td>2371.377275</td>\n",
       "    </tr>\n",
       "    <tr>\n",
       "      <th>SeniorCitizen</th>\n",
       "      <td>0.153147</td>\n",
       "      <td>0.210718</td>\n",
       "    </tr>\n",
       "    <tr>\n",
       "      <th>ContractDays</th>\n",
       "      <td>893.681084</td>\n",
       "      <td>924.863760</td>\n",
       "    </tr>\n",
       "  </tbody>\n",
       "</table>\n",
       "</div>"
      ],
      "text/plain": [
       "Churn                     0            1\n",
       "MonthlyCharges    62.763455    75.546004\n",
       "TotalCharges    2067.866420  2371.377275\n",
       "SeniorCitizen      0.153147     0.210718\n",
       "ContractDays     893.681084   924.863760"
      ]
     },
     "execution_count": 33,
     "metadata": {},
     "output_type": "execute_result"
    }
   ],
   "source": [
    "df.groupby(['Churn']).mean().T"
   ]
  },
  {
   "cell_type": "code",
   "execution_count": 34,
   "metadata": {
    "scrolled": true
   },
   "outputs": [
    {
     "data": {
      "image/png": "[encoded data removed]",
      "text/plain": [
       "<Figure size 432x288 with 1 Axes>"
      ]
     },
     "metadata": {
      "needs_background": "light"
     },
     "output_type": "display_data"
    }
   ],
   "source": [
    "sns.violinplot(x='Churn', y='MonthlyCharges', data=df)\n",
    "plt.show()"
   ]
  },
  {
   "cell_type": "code",
   "execution_count": 35,
   "metadata": {
    "scrolled": true
   },
   "outputs": [
    {
     "data": {
      "image/png": "[encoded data removed]",
      "text/plain": [
       "<Figure size 432x288 with 1 Axes>"
      ]
     },
     "metadata": {
      "needs_background": "light"
     },
     "output_type": "display_data"
    }
   ],
   "source": [
    "sns.violinplot(x='Churn', y='TotalCharges', data=df)\n",
    "plt.show()"
   ]
  },
  {
   "cell_type": "code",
   "execution_count": 36,
   "metadata": {
    "scrolled": true
   },
   "outputs": [
    {
     "data": {
      "image/png": "[encoded data removed]",
      "text/plain": [
       "<Figure size 432x288 with 1 Axes>"
      ]
     },
     "metadata": {
      "needs_background": "light"
     },
     "output_type": "display_data"
    },
    {
     "data": {
      "image/png": "[encoded data removed]",
      "text/plain": [
       "<Figure size 432x288 with 1 Axes>"
      ]
     },
     "metadata": {
      "needs_background": "light"
     },
     "output_type": "display_data"
    },
    {
     "data": {
      "image/png": "[encoded data removed]",
      "text/plain": [
       "<Figure size 432x288 with 1 Axes>"
      ]
     },
     "metadata": {
      "needs_background": "light"
     },
     "output_type": "display_data"
    },
    {
     "data": {
      "image/png": "[encoded data removed]",
      "text/plain": [
       "<Figure size 432x288 with 1 Axes>"
      ]
     },
     "metadata": {
      "needs_background": "light"
     },
     "output_type": "display_data"
    },
    {
     "data": {
      "image/png": "[encoded data removed]",
      "text/plain": [
       "<Figure size 432x288 with 1 Axes>"
      ]
     },
     "metadata": {
      "needs_background": "light"
     },
     "output_type": "display_data"
    },
    {
     "data": {
      "image/png": "[encoded data removed]",
      "text/plain": [
       "<Figure size 432x288 with 1 Axes>"
      ]
     },
     "metadata": {
      "needs_background": "light"
     },
     "output_type": "display_data"
    },
    {
     "data": {
      "image/png": "[encoded data removed]",
      "text/plain": [
       "<Figure size 432x288 with 1 Axes>"
      ]
     },
     "metadata": {
      "needs_background": "light"
     },
     "output_type": "display_data"
    },
    {
     "data": {
      "image/png": "[encoded data removed]",
      "text/plain": [
       "<Figure size 432x288 with 1 Axes>"
      ]
     },
     "metadata": {
      "needs_background": "light"
     },
     "output_type": "display_data"
    },
    {
     "data": {
      "image/png": "[encoded data removed]",
      "text/plain": [
       "<Figure size 432x288 with 1 Axes>"
      ]
     },
     "metadata": {
      "needs_background": "light"
     },
     "output_type": "display_data"
    },
    {
     "data": {
      "image/png": "[encoded data removed]",
      "text/plain": [
       "<Figure size 432x288 with 1 Axes>"
      ]
     },
     "metadata": {
      "needs_background": "light"
     },
     "output_type": "display_data"
    },
    {
     "data": {
      "image/png": "[encoded data removed]",
      "text/plain": [
       "<Figure size 432x288 with 1 Axes>"
      ]
     },
     "metadata": {
      "needs_background": "light"
     },
     "output_type": "display_data"
    },
    {
     "data": {
      "image/png": "[encoded data removed]",
      "text/plain": [
       "<Figure size 432x288 with 1 Axes>"
      ]
     },
     "metadata": {
      "needs_background": "light"
     },
     "output_type": "display_data"
    },
    {
     "data": {
      "image/png": "[encoded data removed]",
      "text/plain": [
       "<Figure size 432x288 with 1 Axes>"
      ]
     },
     "metadata": {
      "needs_background": "light"
     },
     "output_type": "display_data"
    },
    {
     "data": {
      "image/png": "[encoded data removed]",
      "text/plain": [
       "<Figure size 432x288 with 1 Axes>"
      ]
     },
     "metadata": {
      "needs_background": "light"
     },
     "output_type": "display_data"
    },
    {
     "data": {
      "image/png": "[encoded data removed]",
      "text/plain": [
       "<Figure size 432x288 with 1 Axes>"
      ]
     },
     "metadata": {
      "needs_background": "light"
     },
     "output_type": "display_data"
    },
    {
     "data": {
      "image/png": "[encoded data removed]",
      "text/plain": [
       "<Figure size 432x288 with 1 Axes>"
      ]
     },
     "metadata": {
      "needs_background": "light"
     },
     "output_type": "display_data"
    },
    {
     "data": {
      "image/png": "[encoded data removed]",
      "text/plain": [
       "<Figure size 432x288 with 1 Axes>"
      ]
     },
     "metadata": {
      "needs_background": "light"
     },
     "output_type": "display_data"
    },
    {
     "data": {
      "image/png": "[encoded data removed]",
      "text/plain": [
       "<Figure size 432x288 with 1 Axes>"
      ]
     },
     "metadata": {
      "needs_background": "light"
     },
     "output_type": "display_data"
    },
    {
     "data": {
      "image/png": "[encoded data removed]",
      "text/plain": [
       "<Figure size 432x288 with 1 Axes>"
      ]
     },
     "metadata": {
      "needs_background": "light"
     },
     "output_type": "display_data"
    }
   ],
   "source": [
    "for col in df.columns:\n",
    "    sns.histplot(df, x = df[col], hue = 'Churn', multiple = 'stack')\n",
    "    plt.show()"
   ]
  },
  {
   "cell_type": "markdown",
   "metadata": {},
   "source": [
    "По данным щ распределению видно, что больше всего фактов отткоа клиентов среди тех, кто платит больше в месяц и соответственно больше подключенных услуг"
   ]
  },
  {
   "cell_type": "code",
   "execution_count": 37,
   "metadata": {
    "scrolled": true
   },
   "outputs": [
    {
     "data": {
      "image/png": "[encoded data removed]",
      "text/plain": [
       "<Figure size 576x576 with 2 Axes>"
      ]
     },
     "metadata": {
      "needs_background": "light"
     },
     "output_type": "display_data"
    }
   ],
   "source": [
    "cor_columns = ['Churn', 'MonthlyCharges', 'TotalCharges', 'ContractDays']\n",
    "correlation = df[cor_columns].corr()\n",
    "plt.figure(figsize=(8, 8))\n",
    "sns.heatmap(correlation, vmax=1, square=True,annot=True,cmap='RdBu')\n",
    "\n",
    "plt.title('Correlation between different fearures')\n",
    "plt.show()"
   ]
  },
  {
   "cell_type": "markdown",
   "metadata": {},
   "source": [
    "По данному распределению видно что также есть корреляция с месячными платежами"
   ]
  },
  {
   "cell_type": "markdown",
   "metadata": {},
   "source": [
    "<div class=\"alert alert-warning\">\n",
    "<b>⚠️ Комментарий ревьювера:</b> Можно также отметить мультиколлинеарность пары признаков\n",
    "    \n",
    "</div>"
   ]
  },
  {
   "cell_type": "markdown",
   "metadata": {},
   "source": [
    "## Обучение моделей"
   ]
  },
  {
   "cell_type": "markdown",
   "metadata": {},
   "source": [
    "### Логистическая регрессия"
   ]
  },
  {
   "cell_type": "markdown",
   "metadata": {},
   "source": [
    "Обучим модель логистической регрессия и проведем кросс-валидацию"
   ]
  },
  {
   "cell_type": "markdown",
   "metadata": {},
   "source": [
    "<div class=\"alert alert-success\">\n",
    "<b>✔️ Комментарий ревьювера v2:</b> Замечание поправлено 👍\n",
    "    \n",
    "</div>"
   ]
  },
  {
   "cell_type": "markdown",
   "metadata": {},
   "source": [
    "<div class=\"alert alert-danger\">\n",
    "<b>🚫 Комментарий ревьювера:</b> Масштабирование нужно сделать только для числовых признаков\n",
    "    \n",
    "</div>"
   ]
  },
  {
   "cell_type": "code",
   "execution_count": 38,
   "metadata": {},
   "outputs": [],
   "source": [
    "crossval_scores = cross_val_score(LogisticRegression(max_iter=10000), X_train_n, y_train, scoring='roc_auc', cv=5)"
   ]
  },
  {
   "cell_type": "code",
   "execution_count": 39,
   "metadata": {},
   "outputs": [
    {
     "name": "stdout",
     "output_type": "stream",
     "text": [
      "ROC_AUC для модели логистической регрессии на кросс-валидации: 0.758\n"
     ]
    }
   ],
   "source": [
    "print('ROC_AUC для модели логистической регрессии на кросс-валидации: {:.3f}'.format(crossval_scores.mean()))"
   ]
  },
  {
   "cell_type": "markdown",
   "metadata": {},
   "source": [
    "### Random Forrest"
   ]
  },
  {
   "cell_type": "markdown",
   "metadata": {},
   "source": [
    "Обучим модель случайного леса, подберем гиперпараметры и проведем кросс-валидацию"
   ]
  },
  {
   "cell_type": "code",
   "execution_count": 40,
   "metadata": {},
   "outputs": [
    {
     "data": {
      "text/plain": [
       "GridSearchCV(cv=5, estimator=RandomForestClassifier(), n_jobs=-1,\n",
       "             param_grid={'max_depth': [7, 9], 'max_features': [5, 7],\n",
       "                         'min_samples_leaf': [2, 4],\n",
       "                         'min_samples_split': [2, 4], 'n_estimators': [300]},\n",
       "             scoring='roc_auc')"
      ]
     },
     "execution_count": 40,
     "metadata": {},
     "output_type": "execute_result"
    }
   ],
   "source": [
    "param_grid = {'n_estimators': [300],\n",
    "              'max_depth': [7, 9],\n",
    "              'max_features': [5, 7],\n",
    "              'min_samples_split': [2, 4],\n",
    "              'min_samples_leaf': [2, 4],\n",
    "             }\n",
    "\n",
    "model_rf = RandomForestClassifier()\n",
    "\n",
    "grid_search_rf = GridSearchCV(estimator = model_rf,\n",
    "                           param_grid = param_grid,\n",
    "                           cv = 5,\n",
    "                           n_jobs = -1,\n",
    "                           verbose = 0,\n",
    "                           scoring = 'roc_auc')\n",
    "\n",
    "grid_search_rf.fit(X_train_n, y_train)"
   ]
  },
  {
   "cell_type": "code",
   "execution_count": 41,
   "metadata": {},
   "outputs": [
    {
     "name": "stdout",
     "output_type": "stream",
     "text": [
      "model params:  {'max_depth': 7, 'max_features': 7, 'min_samples_leaf': 2, 'min_samples_split': 2, 'n_estimators': 300}\n",
      "ROC_AUC для модели Random Forest на кросс-валидации: 0.822\n"
     ]
    }
   ],
   "source": [
    "print('model params: ', grid_search_rf.best_params_)\n",
    "print('ROC_AUC для модели Random Forest на кросс-валидации: {:.3f}'.format(grid_search_rf.best_score_))"
   ]
  },
  {
   "cell_type": "markdown",
   "metadata": {},
   "source": [
    "### Градиентный бустинг XGBoost"
   ]
  },
  {
   "cell_type": "markdown",
   "metadata": {},
   "source": [
    "Обучим модель градиентного бустинга XGBoost, подберем гиперпараметры (Для уменьшения времени работы подбор параметров был сделан ранее и в тетрадке представлены наиболее выгодные) и проведем кросс-валидацию"
   ]
  },
  {
   "cell_type": "code",
   "execution_count": 42,
   "metadata": {},
   "outputs": [
    {
     "name": "stdout",
     "output_type": "stream",
     "text": [
      "Fitting 3 folds for each of 1 candidates, totalling 3 fits\n",
      "[14:40:28] WARNING: ../src/learner.cc:1115: Starting in XGBoost 1.3.0, the default evaluation metric used with the objective 'binary:logistic' was changed from 'error' to 'logloss'. Explicitly set eval_metric if you'd like to restore the old behavior.\n",
      "[14:45:17] WARNING: ../src/learner.cc:1115: Starting in XGBoost 1.3.0, the default evaluation metric used with the objective 'binary:logistic' was changed from 'error' to 'logloss'. Explicitly set eval_metric if you'd like to restore the old behavior.\n",
      "[14:51:00] WARNING: ../src/learner.cc:1115: Starting in XGBoost 1.3.0, the default evaluation metric used with the objective 'binary:logistic' was changed from 'error' to 'logloss'. Explicitly set eval_metric if you'd like to restore the old behavior.\n",
      "[14:56:55] WARNING: ../src/learner.cc:1115: Starting in XGBoost 1.3.0, the default evaluation metric used with the objective 'binary:logistic' was changed from 'error' to 'logloss'. Explicitly set eval_metric if you'd like to restore the old behavior.\n"
     ]
    },
    {
     "data": {
      "text/plain": [
       "GridSearchCV(cv=3,\n",
       "             estimator=XGBClassifier(base_score=None, booster=None,\n",
       "                                     colsample_bylevel=None,\n",
       "                                     colsample_bynode=None,\n",
       "                                     colsample_bytree=None,\n",
       "                                     enable_categorical=False, gamma=None,\n",
       "                                     gpu_id=None, importance_type=None,\n",
       "                                     interaction_constraints=None,\n",
       "                                     learning_rate=None, max_delta_step=None,\n",
       "                                     max_depth=None, min_child_weight=None,\n",
       "                                     missing=nan, monotone_constraints=None,...\n",
       "                                     num_parallel_tree=None, predictor=None,\n",
       "                                     random_state=None, reg_alpha=None,\n",
       "                                     reg_lambda=None, scale_pos_weight=None,\n",
       "                                     subsample=None, tree_method=None,\n",
       "                                     validate_parameters=None, verbosity=None),\n",
       "             n_jobs=-1,\n",
       "             param_grid={'learning_rate': [0.1], 'max_depth': [7],\n",
       "                         'n_estimators': [300], 'reg_alpha': [0],\n",
       "                         'reg_lambda': [1], 'use_label_encoder': [False]},\n",
       "             scoring='roc_auc', verbose=1)"
      ]
     },
     "execution_count": 42,
     "metadata": {},
     "output_type": "execute_result"
    }
   ],
   "source": [
    "param_grid = {'n_estimators': [300],\n",
    "              'max_depth': [7],\n",
    "              'learning_rate': [0.1],\n",
    "              'reg_alpha': [0],\n",
    "              'reg_lambda': [1],\n",
    "              'use_label_encoder': [False]\n",
    "             }\n",
    "\n",
    "pipe_xg = xgb.XGBClassifier()\n",
    "\n",
    "grid_search_xg = GridSearchCV(estimator = pipe_xg,\n",
    "                           param_grid = param_grid,\n",
    "                           cv = 3,\n",
    "                           n_jobs = -1,\n",
    "                           verbose = 1,\n",
    "                           scoring = 'roc_auc')\n",
    "grid_search_xg.fit(X_train_n, y_train)"
   ]
  },
  {
   "cell_type": "code",
   "execution_count": 43,
   "metadata": {},
   "outputs": [
    {
     "name": "stdout",
     "output_type": "stream",
     "text": [
      "model params:  {'learning_rate': 0.1, 'max_depth': 7, 'n_estimators': 300, 'reg_alpha': 0, 'reg_lambda': 1, 'use_label_encoder': False}\n",
      "ROC_AUC для модели XGBoost на кросс-валидации: 0.857\n"
     ]
    }
   ],
   "source": [
    "print('model params: ', grid_search_xg.best_params_)\n",
    "print('ROC_AUC для модели XGBoost на кросс-валидации: {:.3f}'.format(grid_search_xg.best_score_))"
   ]
  },
  {
   "cell_type": "markdown",
   "metadata": {},
   "source": [
    "По данным результатам видно, что наиболее точная модель - модель градиентного бустинга XGBoost"
   ]
  },
  {
   "cell_type": "markdown",
   "metadata": {},
   "source": [
    "## Тестирование модели"
   ]
  },
  {
   "cell_type": "markdown",
   "metadata": {},
   "source": [
    "### Тестирование модели на тестовой выборке"
   ]
  },
  {
   "cell_type": "markdown",
   "metadata": {},
   "source": [
    "Проведем тестирование нашей модели "
   ]
  },
  {
   "cell_type": "code",
   "execution_count": 44,
   "metadata": {},
   "outputs": [
    {
     "name": "stdout",
     "output_type": "stream",
     "text": [
      "ROC_AUC для тестовой модели - 0.910\n"
     ]
    }
   ],
   "source": [
    "roc_auc_xg = roc_auc_score(y_test, grid_search_xg.best_estimator_.predict_proba(X_test_d)[:, 1])\n",
    "\n",
    "print('ROC_AUC для тестовой модели - {:.3f}'.format(roc_auc_xg))"
   ]
  },
  {
   "cell_type": "markdown",
   "metadata": {},
   "source": [
    "<div class=\"alert alert-success\">\n",
    "<b>✔️ Комментарий ревьювера:</b> Отличный результат на тестировании, поздравляю!\n",
    "\n",
    "</div>"
   ]
  },
  {
   "cell_type": "markdown",
   "metadata": {},
   "source": [
    "для наглядности построим кривую ROC AUC"
   ]
  },
  {
   "cell_type": "code",
   "execution_count": 45,
   "metadata": {},
   "outputs": [
    {
     "data": {
      "image/png": "[encoded data removed]",
      "text/plain": [
       "<Figure size 432x288 with 1 Axes>"
      ]
     },
     "metadata": {
      "needs_background": "light"
     },
     "output_type": "display_data"
    }
   ],
   "source": [
    "def make_roc_curve(y_test, pred_test):\n",
    "    fpr, tpr, thresholds = roc_curve(y_test, pred_test)\n",
    "\n",
    "    plt.figure()\n",
    "    plt.plot(fpr, tpr)\n",
    "    plt.plot([0, 1], [0, 1], linestyle='--')\n",
    "    plt.xlim([0.0, 1.0])\n",
    "    plt.ylim([0.0, 1.0])\n",
    "    plt.xlabel('False Positive Rate')\n",
    "    plt.ylabel('True Positive Rate')\n",
    "    plt.title('ROC-curve')\n",
    "    plt.show()\n",
    "    \n",
    "make_roc_curve(y_test, grid_search_xg.best_estimator_.predict_proba(X_test_d)[:, 1])"
   ]
  },
  {
   "cell_type": "markdown",
   "metadata": {},
   "source": [
    "Посмотрим распределение важности каждого из признаков"
   ]
  },
  {
   "cell_type": "code",
   "execution_count": 46,
   "metadata": {
    "scrolled": true
   },
   "outputs": [
    {
     "data": {
      "image/png": "[encoded data removed]",
      "text/plain": [
       "<Figure size 720x576 with 1 Axes>"
      ]
     },
     "metadata": {
      "needs_background": "light"
     },
     "output_type": "display_data"
    }
   ],
   "source": [
    "fig, ax = plt.subplots(figsize=(10, 8))\n",
    "xgb.plot_importance(grid_search_xg.best_estimator_, ax=ax)\n",
    "#ax.set_yticklabels(feature_names)\n",
    "plt.show()"
   ]
  },
  {
   "cell_type": "markdown",
   "metadata": {},
   "source": [
    "<div class=\"alert alert-success\">\n",
    "<b>✔️ Комментарий ревьювера:</b> Здорово, что изучил важность признаков для лучшей модели 👍\n",
    "    \n",
    "Так мы сможем увидеть, какие признаки слабо влияют на отток, и в принципе их можно вообще исключить из обучения, и сделать новую модель, отобрав только самые важные признаки. (Пересчитывать с новыми признаками не нужно).\n",
    "\n",
    "Анализ важности признаков позволяет не только построить лучшую модель и уменьшить число признаков для обучения. Мы также можем выдать рекомендации бизнесу, изучив влияние признаков на отток, тем самым можно повысить качество определенных услуг, например онлайн-платежи или интернет на оптоволокне.\n",
    "    \n",
    "***\n",
    "    \n",
    "Вот здесь можно немного почитать про интерпретацию важности признаков\n",
    "    \n",
    "https://webiomed.ru/blog/interpretatsiia-rezultatov-mashinnogo-obucheniia/\n",
    "    \n",
    "https://habr.com/ru/articles/428213/\n",
    "    \n",
    "</div>"
   ]
  },
  {
   "cell_type": "markdown",
   "metadata": {},
   "source": [
    "<div class=\"alert alert-success\">\n",
    "<b>✔️ Комментарий ревьювера:</b> Вот небольшие статьи по метрикам в машинном обучении, если заинтересует:\n",
    "\n",
    "https://habr.com/ru/company/ods/blog/328372/ \n",
    "    \n",
    "https://habr.com/ru/company/jetinfosystems/blog/420261/\n",
    "\n",
    "</div>"
   ]
  },
  {
   "cell_type": "markdown",
   "metadata": {},
   "source": [
    "### Проверка на адекватность"
   ]
  },
  {
   "cell_type": "markdown",
   "metadata": {},
   "source": [
    "Посмотрим на метрики константной модели "
   ]
  },
  {
   "cell_type": "code",
   "execution_count": 47,
   "metadata": {},
   "outputs": [
    {
     "name": "stdout",
     "output_type": "stream",
     "text": [
      "ROC_AUC для константной модели - 0.500\n",
      "Accuracy для константной модели - 0.160\n"
     ]
    }
   ],
   "source": [
    "pred_bl = [1] * y_train.shape[0]\n",
    "roc_auc_bl = roc_auc_score(y_train.values, pred_bl)\n",
    "print('ROC_AUC для константной модели - {:.3f}'.format(roc_auc_bl))\n",
    "accuracy_bl = accuracy_score(y_train.values, pred_bl)\n",
    "print('Accuracy для константной модели - {:.3f}'.format(accuracy_bl))"
   ]
  },
  {
   "cell_type": "markdown",
   "metadata": {},
   "source": [
    "Модель градиентного бустинга дает более высокие показания"
   ]
  },
  {
   "cell_type": "markdown",
   "metadata": {},
   "source": [
    "## Заключение"
   ]
  },
  {
   "cell_type": "markdown",
   "metadata": {},
   "source": [
    "Проведен анализ данных и также предобработка данных. Были добавлены новые признаки и кодированны категориальные признаки."
   ]
  },
  {
   "cell_type": "markdown",
   "metadata": {},
   "source": [
    "Были обученны различные модели классификации, подобранны их гиперпараметры, полученны значения метрики ROC AUC"
   ]
  },
  {
   "cell_type": "code",
   "execution_count": 48,
   "metadata": {},
   "outputs": [
    {
     "data": {
      "text/html": [
       "<div>\n",
       "<style scoped>\n",
       "    .dataframe tbody tr th:only-of-type {\n",
       "        vertical-align: middle;\n",
       "    }\n",
       "\n",
       "    .dataframe tbody tr th {\n",
       "        vertical-align: top;\n",
       "    }\n",
       "\n",
       "    .dataframe thead th {\n",
       "        text-align: right;\n",
       "    }\n",
       "</style>\n",
       "<table border=\"1\" class=\"dataframe\">\n",
       "  <thead>\n",
       "    <tr style=\"text-align: right;\">\n",
       "      <th></th>\n",
       "      <th>Модель</th>\n",
       "      <th>ROC AUC</th>\n",
       "    </tr>\n",
       "  </thead>\n",
       "  <tbody>\n",
       "    <tr>\n",
       "      <th>0</th>\n",
       "      <td>Логическая регрессия</td>\n",
       "      <td>0.757650</td>\n",
       "    </tr>\n",
       "    <tr>\n",
       "      <th>1</th>\n",
       "      <td>Случайный лес</td>\n",
       "      <td>0.821542</td>\n",
       "    </tr>\n",
       "    <tr>\n",
       "      <th>2</th>\n",
       "      <td>XGBoost</td>\n",
       "      <td>0.856507</td>\n",
       "    </tr>\n",
       "  </tbody>\n",
       "</table>\n",
       "</div>"
      ],
      "text/plain": [
       "                 Модель   ROC AUC\n",
       "0  Логическая регрессия  0.757650\n",
       "1         Случайный лес  0.821542\n",
       "2               XGBoost  0.856507"
      ]
     },
     "execution_count": 48,
     "metadata": {},
     "output_type": "execute_result"
    }
   ],
   "source": [
    "tabledata = [[\"Логическая регрессия\", crossval_scores.mean()],\n",
    "         [\"Случайный лес\", grid_search_rf.best_score_],\n",
    "         [\"XGBoost\", grid_search_xg.best_score_]]\n",
    "\n",
    "pd.DataFrame(tabledata, columns=[\"Модель\", \"ROC AUC\"])"
   ]
  },
  {
   "cell_type": "markdown",
   "metadata": {},
   "source": [
    "Лучший результат продемонстрировала модель градиентного бустинга, была подсчитанна метрика на тестовом наборе данных"
   ]
  },
  {
   "cell_type": "code",
   "execution_count": 49,
   "metadata": {},
   "outputs": [
    {
     "name": "stdout",
     "output_type": "stream",
     "text": [
      "ROC_AUC для тестовой модели - 0.910\n"
     ]
    }
   ],
   "source": [
    "print('ROC_AUC для тестовой модели - {:.3f}'.format(roc_auc_xg))"
   ]
  },
  {
   "cell_type": "markdown",
   "metadata": {},
   "source": [
    "Так же по результатам исследования важности признаков подтвержденно предроложение, что большинство оттока клиентов связано с большим месячным платежём"
   ]
  },
  {
   "cell_type": "markdown",
   "metadata": {},
   "source": [
    "<font color=blue>\n",
    "<b> ✔️ 👍Заключение ревьювера:</b> Дмитрий, у тебя хорошая работа, было приятно делать проверку! \n",
    "    \n",
    "В целом тебе практически удалось справиться с выпускным проектом, поздравляю! Данные из разных таблиц собраны в один датафрейм, удалены аномалии, заполнены пропуски, получены новые признаки, а ненужные признаки удалены. Рассмотрено несколько моделей и сделан перебор параметров. Могу отметить самостоятельность и аналитический подход в выполнении проекта!\n",
    "   \n",
    "Положительные моменты: \n",
    "    \n",
    "- грамотное и понятное оформление кода;\n",
    "    \n",
    "- аналитический подход — исследована корреляция признаков;\n",
    "    \n",
    "- новые признаки сгенерированы правильно, лишние удалены;\n",
    "    \n",
    "- рассмотрено несколько моделей, выполнен перебор гиперпараметров, удалось достичь высокого значения метрики ROC-AUC.\n",
    "    \n",
    "Сейчас есть несколько замечаний:\n",
    "   \n",
    "- поправить кодирование признаков, сделать кодирование после разделения на выборки;\n",
    "    \n",
    "- не удалять часть данных на этапе анализа аномалий;\n",
    "    \n",
    "- поправить масштабирование признаков\n",
    "    \n",
    "- сделать графический анализ по ушедшим и оставшимся клиентам, добавить выводы.\n",
    "    \n",
    "На данном этапе проект практически завершен, я также отметил рекомендации. Поскольку у нас еще есть время — я отправлю его, чтобы ты мог ознакомиться с проверкой, внести изменения и возможно задать вопросы =)\n",
    "    \n",
    "Также на будущее стоит иметь ввиду, что метрика ROC-AUC является не единственной, всегда нужно прислушиваться к требованиями бизнеса. Обычно одной метрикой не ограничиваются, смотрят также Precision, Recall, и выбирают те, которые наиболее подходят для конкретных задач. \n",
    "    \n",
    "Еще нужно смотреть на важность признаков в модели, чтобы понимать, какие параметры влияют на отток.\n",
    "    \n",
    "Проверка важности признаков по модели это только один из способов (корреляция в том числе). Используют также аналитические методы проверки гипотез.\n",
    "    \n",
    "</font>"
   ]
  },
  {
   "cell_type": "markdown",
   "metadata": {},
   "source": [
    "<div class=\"alert alert-success\">\n",
    "<b>✔️ Комментарий ревьювера v2:</b> Дмитрий, поздравляю с выполнением основной части проекта!     \n",
    "    \n",
    "Пожалуйста, сохрани наши с тобой комментарии, а отчет продолжай выполнять ниже, в этом файле Jupyter Notebook.\n",
    "    \n",
    "В отчете не забудь указать все пункты по предобработке данных, параметрам модели, набору признаков для обучения — чтобы была возможность воспроизвести твою работу, изучив только отчет.\n",
    "    \n",
    "Необходимо выделить следующие пункты:\n",
    "    \n",
    "- список признаков, которые использовались для обучения;\n",
    "    \n",
    "- указать итоговую модель и ее гиперпараметры — желательно в отдельной строке, чтобы не сливалась с остальным текстом;\n",
    "    \n",
    "- отличия от исходного плана работ;\n",
    "    \n",
    "- в отчете нужно указать трудности в работе (если не было, то так и написать) и ключевые этапы (если ключевых этапов не было, то написать, что все этапы важны);\n",
    "    \n",
    "- размер тестовой выборки, параметр random_state.\n",
    "\n",
    "Я принимаю работу и буду ждать твой отчет на проверку!\n",
    "        \n",
    "</div>"
   ]
  },
  {
   "cell_type": "markdown",
   "metadata": {},
   "source": [
    "### Отчёт по проекту моделированния оттока клиентов "
   ]
  },
  {
   "cell_type": "markdown",
   "metadata": {},
   "source": [
    "В проекте необходимо было смоделировать отток клиентов из телекоммуникационной комппании, создав модель машинного обучения на основе данных об клиентах компании и их условий договоров."
   ]
  },
  {
   "cell_type": "markdown",
   "metadata": {},
   "source": [
    "Данные компании были проанализированны и предобработанны:\n",
    "\n",
    "* добавлен таргет 'Churn' - как факт наличия даты EndDays\n",
    "* добавлен признак ContractDays как разница между BeginDays и EndDays (если EndDays содержало значение 'No', то оно заменялось на дату выгрузки '2020-02-01')\n",
    "* заполнены пропуски категориальных признаков значением \"No\"\n",
    "* аномальных значений не выявлено\n",
    "\n",
    "в итоге модель обучалась на следующих признаках:\n",
    "\n",
    "**Числовые признаки**\n",
    "\n",
    "* MonthlyCharges - ежемесячные платежи\n",
    "* TotalCharges - полные платежи\n",
    "* ContractDays - дни обслуживания по контракту\n",
    "\n",
    "**Категориальные признаки**\n",
    "\n",
    "* Type_One year - использование годового тарифный план\n",
    "* Type_Two year - использование двухгодового тарифный план\n",
    "* PaperlessBilling_Yes - согласие на безбумажные чеки\n",
    "* PaymentMethod_Credit card (automatic) - подключение автоматического платежа кредитной картой\n",
    "* PaymentMethod_Electronic check - наличие электронного чека\n",
    "* PaymentMethod_Mailed check - высылка бумажного чека\n",
    "* gender_Male - пол клиента мужской\n",
    "* Partner_Yes - наличие партнера у клиента\n",
    "* Dependents_Yes - наличие иждевенцов у клиента\n",
    "* InternetService_Fiber optic - тип подключения интернета по оптоволоконному соединению\n",
    "* InternetService_No - подключение интернета\n",
    "* OnlineSecurity_Yes - подключение услуги онлайн-безопасности\n",
    "* OnlineBackup_Yes - подключение услуги онлайн-бэкапа\n",
    "* DeviceProtection_Yes  - подключение услуги антивируса\n",
    "* TechSupport_Yes  - подключение услуги приоритетной техподдержки\n",
    "* StreamingTV_Yes  - подключение услуги стримингового телевидения\n",
    "* StreamingMovies_Yes  - подключение услуги стримингового кинотеатра\n",
    "* MultipleLines_Yes   - подключение услуги мультиканальной телефонии\n"
   ]
  },
  {
   "cell_type": "markdown",
   "metadata": {},
   "source": [
    "Далее датасет был разделен на тренировочный и тестовый наборы данных, объем тестовой выборки составил 25%, а значение random_state - 220523"
   ]
  },
  {
   "cell_type": "markdown",
   "metadata": {},
   "source": [
    "Далее был построен ***Pipeline*** со следующими шагами:\n",
    "\n",
    "* ***StandardScaler*** для числовых признаков \n",
    "* ***OneHotEncoder*** для категориальных признаков, с параметров drop = first"
   ]
  },
  {
   "cell_type": "markdown",
   "metadata": {},
   "source": [
    "В отличие от первоначального плана работ, в процессе предобработки данных сначала были созданы дополнительные признаки, и уже потом проведена предобработка"
   ]
  },
  {
   "cell_type": "markdown",
   "metadata": {},
   "source": [
    "На этих данных и таком Pipeline построены различные модели, лучшей оказалась модель использующая алгоритм градиентного бустинга **XGBoost**, \n",
    "со следующими параметрами:\n",
    "\n",
    "* learning_rate - 0.1\n",
    "* max_depth - 7\n",
    "* n_estimators - 300\n",
    "* reg_alpha - 0\n",
    "* reg_lambda - 1\n",
    "\n",
    "Остальные параметры алгоритма использовались по умолчанию."
   ]
  },
  {
   "cell_type": "markdown",
   "metadata": {},
   "source": [
    "Значение ROC_AUC для тестовой выборке составил ***0.91***."
   ]
  },
  {
   "cell_type": "markdown",
   "metadata": {},
   "source": [
    "В процессе работ не возникло больших трудностей на всех ключевых этапах:\n",
    "\n",
    "* предобработка данных\n",
    "* анализ данных\n",
    "* препроцессинга данных с помощью функции ***Pipeline*** (***StandardScaler*** для числовых признаков и ***OneHotEncoder*** для категориальных)\n",
    "* подбор алгоритмов и их гиперпараметров с помощью функции ***GridSearchCV***\n",
    "* тестирование финальной модели на тестовом наборе данных и сравнение с константной моделью\n",
    "* анализ полученных результатов"
   ]
  },
  {
   "cell_type": "markdown",
   "metadata": {},
   "source": [
    "<div class=\"alert alert-success\"> \n",
    "<b>✔️ Заключение тимлида:</b> Дмитрий, было приятно поработать с тобой над финальным проектом! Видно, что ты подошел к проекту основательно, как к реальной работе.\n",
    "    \n",
    "На мой взгляд работа выполнена на хорошем уровне! По отчету понятно, какие признаки использовались для обучения, как были получены дополнительные признаки, указана модель для обучения и гиперпараметры — по этим шагам можно воспроизвести проект.\n",
    "    \n",
    "В процессе работы над проектом ты проявил себя как грамотный специалист — могу отметить самостоятельность и аналитический подход!\n",
    "    \n",
    "✨ Поздравляю тебя с успешным завершением финального спринта! Если вспомнить, с чего начиналось обучение, видно как от простых задач мы перешли к реальным проектам, и у тебя это здорово получилось 👍   \n",
    "    \n",
    "Сейчас ты можешь доработать этот проект с учетом рекомендаций, удалить наши с тобой комментарии и добавить себе в портфолио — лучше это сделать в ближайшее время, пока все нюансы еще отложились в памяти =) \n",
    "    \n",
    "Здесь хочу добавить несколько рекомендаций на будущее:\n",
    "    \n",
    "- для анализа данных по ситуации можно применять библиотеки pandas_profiling или sweetviz. Когда нужен оперативный отчет по датафрейму, можно воспользоваться такими инструментами для автоматизации. Но в учебных проектах мы делали вручную, поскольку должны были всему научиться;\n",
    "    \n",
    "- следует отметить, что можно использовать аналитические методы проверки гипотез для оценки влияния признаков на отток. Например, можно воспользоваться инструментом ANOVA для дисперсионного анализа: https://www.reneshbedre.com/blog/anova.html\n",
    "    \n",
    "***\n",
    "\n",
    "Далее, хочу добавить некоторые ссылки на полезные ресурсы по машинному обучению:\n",
    "\n",
    "https://academy.yandex.ru/handbook/ml онлайн-учебник от Школы анализа данных Яндекса, в котором описаны теоретические основы работы моделей машинного обучения;\n",
    "\n",
    "https://www.youtube.com/watch?v=xl1fwCza9C8 познавательное видео по настройке модели CatBoost\n",
    "\n",
    "https://habr.com/ru/company/ods/blog/322626/ на Habr можно закрепить свои знания, порешав задачи из цикла статей — Открытый курс машинного обучения\n",
    "\n",
    "https://github.com/esokolov/ml-course-hse — на гитхаб есть репозиторий с задачами из курса по машинному обучению от Евгения Соколова, можно использовать как дополнительный материал для закрепления знаний.\n",
    "\n",
    "https://habr.com/ru/company/avito/blog/571094/ — материалы по A/B тестам.\n",
    "\n",
    "Также хочу поделиться опытом и вкратце рассказать о том, в какие направления можно подаваться на работу и какие навыки там пригодятся:\n",
    "\n",
    "Направление аналитики: хорошие знания теории вероятностей и математической статистики; базовые знания библиотек ML; уверенные знания SQL; умение решать задачи по A/B тестам; плюсом будет знание специальных инструментов для аналитики по визуализации результатов.\n",
    "\n",
    "Направление ML: уверенные знания классических моделей машинного обучения; хорошие знания SQL; понимание алгоритмов машинного обучения — как устроена модель линейной регрессии, модели случайного леса, градиентного бустинга и т.д. На собеседовании могут спросить, как работает какая-нибудь модель «под капотом», очень любят градиентный бустинг и случайный лес. Здесь поможет учебник https://academy.yandex.ru/handbook/ml\n",
    "\n",
    "В некоторых компаниях при устройстве на работу или стажировку, например в Яндексе, нужно решить тест на алгоритмические задачи. По алгоритмам есть много разных курсов, платных и бесплатных. Можно попробовать Тренировки по Алгоритмам от Яндекса https://yandex.ru/yaintern/algorithm-training (бесплатно, хороший курс). Насколько знаю, у Практикума тоже есть курс по алгоритмам.\n",
    "\n",
    "Есть компании, где требуется умение решать задачи с использованием нейронных сетей, в основном задачи распознавания изображений и анализа текстов (NLP). Если понравилось работать с нейронками, желательно порешать разные задачи, набрать портфолио из нескольких работ, можно подаваться.\n",
    "\n",
    "Существуют научные и производственные компании, которые внедряют алгоритмы ML в свои рабочие процессы — в таких компаниях можно совместить должность, например инженера и программиста. Тоже хороший вариант, но нужно понимать, если хотите развиваться дальше, особенно на первых этапах, у вас должны быть опытные наставники, которые помогут советом.\n",
    "    \n",
    "***\n",
    "    \n",
    "После окончания финального спринта у нас будет заключительная консультация, где мы сможем подвести итоги и обсудить несколько проектов. Есть возможность выступить перед сокурсниками со своим проектом в zoom =)\n",
    "    \n",
    "Отчет принимаю и до встречи!\n",
    "    \n",
    "</div>"
   ]
  },
  {
   "cell_type": "code",
   "execution_count": null,
   "metadata": {},
   "outputs": [],
   "source": []
  }
 ],
 "metadata": {
  "ExecuteTimeLog": [
   {
    "duration": 126,
    "start_time": "2023-05-30T14:18:40.367Z"
   },
   {
    "duration": 147,
    "start_time": "2023-05-30T14:18:45.829Z"
   },
   {
    "duration": 2113,
    "start_time": "2023-05-30T14:27:36.788Z"
   },
   {
    "duration": 0,
    "start_time": "2023-05-30T14:27:38.904Z"
   },
   {
    "duration": 0,
    "start_time": "2023-05-30T14:27:38.905Z"
   },
   {
    "duration": 0,
    "start_time": "2023-05-30T14:27:38.907Z"
   },
   {
    "duration": 0,
    "start_time": "2023-05-30T14:27:38.908Z"
   },
   {
    "duration": 0,
    "start_time": "2023-05-30T14:27:38.909Z"
   },
   {
    "duration": 0,
    "start_time": "2023-05-30T14:27:38.910Z"
   },
   {
    "duration": 0,
    "start_time": "2023-05-30T14:27:38.911Z"
   },
   {
    "duration": 0,
    "start_time": "2023-05-30T14:27:38.912Z"
   },
   {
    "duration": 0,
    "start_time": "2023-05-30T14:27:38.914Z"
   },
   {
    "duration": 0,
    "start_time": "2023-05-30T14:27:38.915Z"
   },
   {
    "duration": 0,
    "start_time": "2023-05-30T14:27:38.916Z"
   },
   {
    "duration": 0,
    "start_time": "2023-05-30T14:27:38.917Z"
   },
   {
    "duration": 0,
    "start_time": "2023-05-30T14:27:38.918Z"
   },
   {
    "duration": 0,
    "start_time": "2023-05-30T14:27:38.919Z"
   },
   {
    "duration": 0,
    "start_time": "2023-05-30T14:27:38.920Z"
   },
   {
    "duration": 0,
    "start_time": "2023-05-30T14:27:38.921Z"
   },
   {
    "duration": 0,
    "start_time": "2023-05-30T14:27:38.921Z"
   },
   {
    "duration": 0,
    "start_time": "2023-05-30T14:27:38.922Z"
   },
   {
    "duration": 0,
    "start_time": "2023-05-30T14:27:38.952Z"
   },
   {
    "duration": 0,
    "start_time": "2023-05-30T14:27:38.953Z"
   },
   {
    "duration": 0,
    "start_time": "2023-05-30T14:27:38.953Z"
   },
   {
    "duration": 0,
    "start_time": "2023-05-30T14:27:38.956Z"
   },
   {
    "duration": 0,
    "start_time": "2023-05-30T14:27:38.958Z"
   },
   {
    "duration": 0,
    "start_time": "2023-05-30T14:27:38.959Z"
   },
   {
    "duration": 0,
    "start_time": "2023-05-30T14:27:38.960Z"
   },
   {
    "duration": 0,
    "start_time": "2023-05-30T14:27:38.961Z"
   },
   {
    "duration": 0,
    "start_time": "2023-05-30T14:27:38.963Z"
   },
   {
    "duration": 0,
    "start_time": "2023-05-30T14:27:38.964Z"
   },
   {
    "duration": 0,
    "start_time": "2023-05-30T14:27:38.965Z"
   },
   {
    "duration": 0,
    "start_time": "2023-05-30T14:27:38.967Z"
   },
   {
    "duration": 0,
    "start_time": "2023-05-30T14:27:38.968Z"
   },
   {
    "duration": 0,
    "start_time": "2023-05-30T14:27:38.969Z"
   },
   {
    "duration": 0,
    "start_time": "2023-05-30T14:27:38.970Z"
   },
   {
    "duration": 0,
    "start_time": "2023-05-30T14:27:38.971Z"
   },
   {
    "duration": 0,
    "start_time": "2023-05-30T14:27:38.972Z"
   },
   {
    "duration": 0,
    "start_time": "2023-05-30T14:27:38.974Z"
   },
   {
    "duration": 0,
    "start_time": "2023-05-30T14:27:38.975Z"
   },
   {
    "duration": 0,
    "start_time": "2023-05-30T14:27:38.976Z"
   },
   {
    "duration": 0,
    "start_time": "2023-05-30T14:27:38.978Z"
   },
   {
    "duration": 0,
    "start_time": "2023-05-30T14:27:38.979Z"
   },
   {
    "duration": 0,
    "start_time": "2023-05-30T14:27:38.980Z"
   },
   {
    "duration": 0,
    "start_time": "2023-05-30T14:27:38.981Z"
   },
   {
    "duration": 0,
    "start_time": "2023-05-30T14:27:38.982Z"
   },
   {
    "duration": 0,
    "start_time": "2023-05-30T14:27:38.983Z"
   },
   {
    "duration": 0,
    "start_time": "2023-05-30T14:27:38.984Z"
   },
   {
    "duration": 0,
    "start_time": "2023-05-30T14:27:38.985Z"
   },
   {
    "duration": 0,
    "start_time": "2023-05-30T14:27:38.986Z"
   },
   {
    "duration": 0,
    "start_time": "2023-05-30T14:27:38.987Z"
   },
   {
    "duration": 0,
    "start_time": "2023-05-30T14:27:38.988Z"
   },
   {
    "duration": 1954,
    "start_time": "2023-05-30T14:38:21.912Z"
   },
   {
    "duration": 374,
    "start_time": "2023-05-30T14:38:23.868Z"
   },
   {
    "duration": 45,
    "start_time": "2023-05-30T14:38:24.244Z"
   },
   {
    "duration": 21,
    "start_time": "2023-05-30T14:38:24.291Z"
   },
   {
    "duration": 6,
    "start_time": "2023-05-30T14:38:24.316Z"
   },
   {
    "duration": 10,
    "start_time": "2023-05-30T14:38:24.323Z"
   },
   {
    "duration": 34,
    "start_time": "2023-05-30T14:38:24.335Z"
   },
   {
    "duration": 34,
    "start_time": "2023-05-30T14:38:24.371Z"
   },
   {
    "duration": 27,
    "start_time": "2023-05-30T14:38:24.407Z"
   },
   {
    "duration": 32,
    "start_time": "2023-05-30T14:38:24.436Z"
   },
   {
    "duration": 60,
    "start_time": "2023-05-30T14:38:24.469Z"
   },
   {
    "duration": 8,
    "start_time": "2023-05-30T14:38:24.531Z"
   },
   {
    "duration": 29,
    "start_time": "2023-05-30T14:38:24.541Z"
   },
   {
    "duration": 18,
    "start_time": "2023-05-30T14:38:24.572Z"
   },
   {
    "duration": 26,
    "start_time": "2023-05-30T14:38:24.592Z"
   },
   {
    "duration": 5,
    "start_time": "2023-05-30T14:38:24.620Z"
   },
   {
    "duration": 14,
    "start_time": "2023-05-30T14:38:24.626Z"
   },
   {
    "duration": 12,
    "start_time": "2023-05-30T14:38:24.642Z"
   },
   {
    "duration": 43,
    "start_time": "2023-05-30T14:38:24.655Z"
   },
   {
    "duration": 16,
    "start_time": "2023-05-30T14:38:24.700Z"
   },
   {
    "duration": 60,
    "start_time": "2023-05-30T14:38:24.718Z"
   },
   {
    "duration": 5,
    "start_time": "2023-05-30T14:38:24.780Z"
   },
   {
    "duration": 21,
    "start_time": "2023-05-30T14:38:24.787Z"
   },
   {
    "duration": 133,
    "start_time": "2023-05-30T14:38:24.810Z"
   },
   {
    "duration": 191,
    "start_time": "2023-05-30T14:38:24.946Z"
   },
   {
    "duration": 136,
    "start_time": "2023-05-30T14:38:25.139Z"
   },
   {
    "duration": 4,
    "start_time": "2023-05-30T14:38:25.279Z"
   },
   {
    "duration": 13,
    "start_time": "2023-05-30T14:38:25.287Z"
   },
   {
    "duration": 24,
    "start_time": "2023-05-30T14:38:25.302Z"
   },
   {
    "duration": 8,
    "start_time": "2023-05-30T14:38:25.328Z"
   },
   {
    "duration": 27,
    "start_time": "2023-05-30T14:38:25.338Z"
   },
   {
    "duration": 62,
    "start_time": "2023-05-30T14:38:25.367Z"
   },
   {
    "duration": 13,
    "start_time": "2023-05-30T14:38:25.431Z"
   },
   {
    "duration": 190,
    "start_time": "2023-05-30T14:38:25.445Z"
   },
   {
    "duration": 173,
    "start_time": "2023-05-30T14:38:25.637Z"
   },
   {
    "duration": 3929,
    "start_time": "2023-05-30T14:38:25.812Z"
   },
   {
    "duration": 395,
    "start_time": "2023-05-30T14:38:29.743Z"
   },
   {
    "duration": 7928,
    "start_time": "2023-05-30T14:38:30.140Z"
   },
   {
    "duration": 80,
    "start_time": "2023-05-30T14:38:38.074Z"
   },
   {
    "duration": 110484,
    "start_time": "2023-05-30T14:38:38.156Z"
   },
   {
    "duration": 9,
    "start_time": "2023-05-30T14:40:28.641Z"
   },
   {
    "duration": 1332307,
    "start_time": "2023-05-30T14:40:28.655Z"
   },
   {
    "duration": 12,
    "start_time": "2023-05-30T15:02:40.963Z"
   },
   {
    "duration": 74,
    "start_time": "2023-05-30T15:02:40.978Z"
   },
   {
    "duration": 250,
    "start_time": "2023-05-30T15:02:41.058Z"
   },
   {
    "duration": 545,
    "start_time": "2023-05-30T15:02:41.310Z"
   },
   {
    "duration": 15,
    "start_time": "2023-05-30T15:02:41.861Z"
   },
   {
    "duration": 47,
    "start_time": "2023-05-30T15:02:41.879Z"
   },
   {
    "duration": 8,
    "start_time": "2023-05-30T15:02:41.929Z"
   },
   {
    "duration": 246,
    "start_time": "2023-05-30T15:02:41.939Z"
   },
   {
    "duration": 148,
    "start_time": "2023-05-30T15:15:15.024Z"
   },
   {
    "duration": 15,
    "start_time": "2023-05-30T15:15:21.477Z"
   }
  ],
  "kernelspec": {
   "display_name": "Python 3 (ipykernel)",
   "language": "python",
   "name": "python3"
  },
  "language_info": {
   "codemirror_mode": {
    "name": "ipython",
    "version": 3
   },
   "file_extension": ".py",
   "mimetype": "text/x-python",
   "name": "python",
   "nbconvert_exporter": "python",
   "pygments_lexer": "ipython3",
   "version": "3.9.5"
  },
  "toc": {
   "base_numbering": 1,
   "nav_menu": {},
   "number_sections": true,
   "sideBar": true,
   "skip_h1_title": true,
   "title_cell": "Table of Contents",
   "title_sidebar": "Contents",
   "toc_cell": false,
   "toc_position": {},
   "toc_section_display": true,
   "toc_window_display": false
  }
 },
 "nbformat": 4,
 "nbformat_minor": 2
}
