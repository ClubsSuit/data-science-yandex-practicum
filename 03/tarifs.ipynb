{
 "cells": [
  {
   "attachments": {},
   "cell_type": "markdown",
   "metadata": {},
   "source": [
    "# Рекомендация тарифов"
   ]
  },
  {
   "attachments": {},
   "cell_type": "markdown",
   "metadata": {},
   "source": [
    "В вашем распоряжении данные о поведении клиентов, которые уже перешли на эти тарифы (из проекта курса «Статистический анализ данных»). Нужно построить модель для задачи классификации, которая выберет подходящий тариф. Предобработка данных не понадобится — вы её уже сделали.\n",
    "\n",
    "Постройте модель с максимально большим значением *accuracy*. Чтобы сдать проект успешно, нужно довести долю правильных ответов по крайней мере до 0.75. Проверьте *accuracy* на тестовой выборке самостоятельно."
   ]
  },
  {
   "attachments": {},
   "cell_type": "markdown",
   "metadata": {},
   "source": [
    "## Откройте и изучите файл"
   ]
  },
  {
   "cell_type": "code",
   "execution_count": 1,
   "metadata": {},
   "outputs": [
    {
     "data": {
      "text/html": [
       "<div>\n",
       "<style scoped>\n",
       "    .dataframe tbody tr th:only-of-type {\n",
       "        vertical-align: middle;\n",
       "    }\n",
       "\n",
       "    .dataframe tbody tr th {\n",
       "        vertical-align: top;\n",
       "    }\n",
       "\n",
       "    .dataframe thead th {\n",
       "        text-align: right;\n",
       "    }\n",
       "</style>\n",
       "<table border=\"1\" class=\"dataframe\">\n",
       "  <thead>\n",
       "    <tr style=\"text-align: right;\">\n",
       "      <th></th>\n",
       "      <th>calls</th>\n",
       "      <th>minutes</th>\n",
       "      <th>messages</th>\n",
       "      <th>mb_used</th>\n",
       "      <th>is_ultra</th>\n",
       "    </tr>\n",
       "  </thead>\n",
       "  <tbody>\n",
       "    <tr>\n",
       "      <th>count</th>\n",
       "      <td>3214.000000</td>\n",
       "      <td>3214.000000</td>\n",
       "      <td>3214.000000</td>\n",
       "      <td>3214.000000</td>\n",
       "      <td>3214.000000</td>\n",
       "    </tr>\n",
       "    <tr>\n",
       "      <th>mean</th>\n",
       "      <td>63.038892</td>\n",
       "      <td>438.208787</td>\n",
       "      <td>38.281269</td>\n",
       "      <td>17207.673836</td>\n",
       "      <td>0.306472</td>\n",
       "    </tr>\n",
       "    <tr>\n",
       "      <th>std</th>\n",
       "      <td>33.236368</td>\n",
       "      <td>234.569872</td>\n",
       "      <td>36.148326</td>\n",
       "      <td>7570.968246</td>\n",
       "      <td>0.461100</td>\n",
       "    </tr>\n",
       "    <tr>\n",
       "      <th>min</th>\n",
       "      <td>0.000000</td>\n",
       "      <td>0.000000</td>\n",
       "      <td>0.000000</td>\n",
       "      <td>0.000000</td>\n",
       "      <td>0.000000</td>\n",
       "    </tr>\n",
       "    <tr>\n",
       "      <th>25%</th>\n",
       "      <td>40.000000</td>\n",
       "      <td>274.575000</td>\n",
       "      <td>9.000000</td>\n",
       "      <td>12491.902500</td>\n",
       "      <td>0.000000</td>\n",
       "    </tr>\n",
       "    <tr>\n",
       "      <th>50%</th>\n",
       "      <td>62.000000</td>\n",
       "      <td>430.600000</td>\n",
       "      <td>30.000000</td>\n",
       "      <td>16943.235000</td>\n",
       "      <td>0.000000</td>\n",
       "    </tr>\n",
       "    <tr>\n",
       "      <th>75%</th>\n",
       "      <td>82.000000</td>\n",
       "      <td>571.927500</td>\n",
       "      <td>57.000000</td>\n",
       "      <td>21424.700000</td>\n",
       "      <td>1.000000</td>\n",
       "    </tr>\n",
       "    <tr>\n",
       "      <th>max</th>\n",
       "      <td>244.000000</td>\n",
       "      <td>1632.060000</td>\n",
       "      <td>224.000000</td>\n",
       "      <td>49745.730000</td>\n",
       "      <td>1.000000</td>\n",
       "    </tr>\n",
       "  </tbody>\n",
       "</table>\n",
       "</div>"
      ],
      "text/plain": [
       "             calls      minutes     messages       mb_used     is_ultra\n",
       "count  3214.000000  3214.000000  3214.000000   3214.000000  3214.000000\n",
       "mean     63.038892   438.208787    38.281269  17207.673836     0.306472\n",
       "std      33.236368   234.569872    36.148326   7570.968246     0.461100\n",
       "min       0.000000     0.000000     0.000000      0.000000     0.000000\n",
       "25%      40.000000   274.575000     9.000000  12491.902500     0.000000\n",
       "50%      62.000000   430.600000    30.000000  16943.235000     0.000000\n",
       "75%      82.000000   571.927500    57.000000  21424.700000     1.000000\n",
       "max     244.000000  1632.060000   224.000000  49745.730000     1.000000"
      ]
     },
     "metadata": {},
     "output_type": "display_data"
    },
    {
     "name": "stdout",
     "output_type": "stream",
     "text": [
      "Количество дубликатов: 0\n",
      "\n",
      "<class 'pandas.core.frame.DataFrame'>\n",
      "RangeIndex: 3214 entries, 0 to 3213\n",
      "Data columns (total 5 columns):\n",
      " #   Column    Non-Null Count  Dtype  \n",
      "---  ------    --------------  -----  \n",
      " 0   calls     3214 non-null   float64\n",
      " 1   minutes   3214 non-null   float64\n",
      " 2   messages  3214 non-null   float64\n",
      " 3   mb_used   3214 non-null   float64\n",
      " 4   is_ultra  3214 non-null   int64  \n",
      "dtypes: float64(4), int64(1)\n",
      "memory usage: 125.7 KB\n",
      "None\n"
     ]
    }
   ],
   "source": [
    "import pandas as pd\n",
    "\n",
    "from sklearn.tree import DecisionTreeClassifier\n",
    "from sklearn.ensemble import RandomForestRegressor\n",
    "from sklearn.linear_model import LogisticRegression \n",
    "\n",
    "from sklearn.metrics import accuracy_score\n",
    "from sklearn.metrics import mean_squared_error\n",
    "from sklearn.model_selection import train_test_split\n",
    "\n",
    "from sklearn.dummy import DummyClassifier\n",
    "\n",
    "df = pd.read_csv('/datasets/users_behavior.csv')\n",
    "\n",
    "display(df.describe())\n",
    "\n",
    "print('Количество дубликатов:', df.duplicated().sum())\n",
    "print()\n",
    "print(df.info())"
   ]
  },
  {
   "attachments": {},
   "cell_type": "markdown",
   "metadata": {},
   "source": [
    "## Разбейте данные на выборки"
   ]
  },
  {
   "attachments": {},
   "cell_type": "markdown",
   "metadata": {},
   "source": [
    "Разобьем данные в соотношении 60% - 20% - 20%, для обучающего, валидационного и тестового датасета."
   ]
  },
  {
   "cell_type": "code",
   "execution_count": 2,
   "metadata": {},
   "outputs": [],
   "source": [
    "features = df.drop(['is_ultra'], axis=1)\n",
    "target = df['is_ultra']\n",
    "\n",
    "features_train, features_tmp, target_train, target_tmp = train_test_split(features, target, train_size=0.6, random_state=12345)\n",
    "features_valid, features_test, target_valid, target_test = train_test_split(features_tmp, target_tmp, train_size=0.5, random_state=12345)"
   ]
  },
  {
   "cell_type": "code",
   "execution_count": 3,
   "metadata": {},
   "outputs": [
    {
     "data": {
      "text/plain": [
       "((1928, 4), (643, 4), (643, 4))"
      ]
     },
     "execution_count": 3,
     "metadata": {},
     "output_type": "execute_result"
    }
   ],
   "source": [
    "# Код ревьюера\n",
    "features_train.shape, features_test.shape, features_valid.shape"
   ]
  },
  {
   "attachments": {},
   "cell_type": "markdown",
   "metadata": {},
   "source": [
    "## Исследуйте модели"
   ]
  },
  {
   "attachments": {},
   "cell_type": "markdown",
   "metadata": {},
   "source": [
    "Рассмотрим сначала алгоритм \"Решающего Древа\". Проведем анализ для разных глубин алгоритма."
   ]
  },
  {
   "cell_type": "code",
   "execution_count": 4,
   "metadata": {
    "scrolled": false
   },
   "outputs": [
    {
     "name": "stdout",
     "output_type": "stream",
     "text": [
      "max_depth = 3 :  0.7853810264385692\n"
     ]
    }
   ],
   "source": [
    "best_result = 0.7\n",
    "best_depth = 0\n",
    "for depth in range(1,5):\n",
    "    model_tree = DecisionTreeClassifier(random_state=12345, max_depth=depth, min_samples_split = 10)\n",
    "    model_tree.fit(features_train, target_train)\n",
    "    predictions_valid = model_tree.predict(features_valid)\n",
    "    result = accuracy_score(target_valid, predictions_valid)\n",
    "    if result > best_result:\n",
    "            best_model_tree = model_tree\n",
    "            best_result = result\n",
    "            best_depth = depth\n",
    "            \n",
    "    \n",
    "print(\"max_depth =\", best_depth, \": \", best_result)\n",
    "    \n"
   ]
  },
  {
   "attachments": {},
   "cell_type": "markdown",
   "metadata": {},
   "source": [
    "Наиболее эффективным показало себя древо с 3 уровнем глубины, дальше заметно переобучение модели.\n",
    "\n",
    "Дальше рассмотрим модель \"Случайного леса\" с различными параметрами алгоритма."
   ]
  },
  {
   "cell_type": "code",
   "execution_count": 5,
   "metadata": {
    "scrolled": true
   },
   "outputs": [
    {
     "name": "stdout",
     "output_type": "stream",
     "text": [
      "Accuracy наилучшей модели на валидационной выборке: 0.1140729465113487 Количество деревьев: 80 Максимальная глубина: 4\n"
     ]
    }
   ],
   "source": [
    "best_model = None\n",
    "best_result = 10000\n",
    "best_est = 0\n",
    "best_depth = 0\n",
    "for est in range(10, 101, 10):\n",
    "    for depth in range (1, 5):\n",
    "        model_forest = RandomForestRegressor(random_state=12345, n_estimators=est, max_depth=depth)\n",
    "        model_forest.fit(features_train, target_train)\n",
    "        result = model_forest.score(features_valid, target_valid)\n",
    "        if result < best_result:\n",
    "            best_model_forest = model_forest\n",
    "            best_result = result\n",
    "            best_est = est\n",
    "            best_depth = depth\n",
    "\n",
    "print(\"Accuracy наилучшей модели на валидационной выборке:\", best_result, \"Количество деревьев:\", best_est, \"Максимальная глубина:\", depth)"
   ]
  },
  {
   "attachments": {},
   "cell_type": "markdown",
   "metadata": {},
   "source": [
    "Модель слишком сложна для такого малого количества данных, поэтому accuracy низок.\n",
    "\n",
    "Далее расссмотрим алгоритм линейной регрессии."
   ]
  },
  {
   "cell_type": "code",
   "execution_count": 6,
   "metadata": {},
   "outputs": [
    {
     "name": "stdout",
     "output_type": "stream",
     "text": [
      "Accuracy модели на валидационной выборке: 0.7573872472783826\n"
     ]
    }
   ],
   "source": [
    "model_regression = LogisticRegression(random_state=12345, solver='lbfgs', max_iter=1000)\n",
    "model_regression.fit(features, target)\n",
    "result = model_regression.score(features_valid, target_valid)\n",
    "\n",
    "print(\"Accuracy модели на валидационной выборке:\", result)"
   ]
  },
  {
   "attachments": {},
   "cell_type": "markdown",
   "metadata": {},
   "source": [
    "**Выводы**"
   ]
  },
  {
   "attachments": {},
   "cell_type": "markdown",
   "metadata": {},
   "source": [
    "Наиболее точной моделью оказалась модель \"Решающего Дерева\", далее будем использовать именно её."
   ]
  },
  {
   "attachments": {},
   "cell_type": "markdown",
   "metadata": {},
   "source": [
    "## Проверьте модель на тестовой выборке"
   ]
  },
  {
   "attachments": {},
   "cell_type": "markdown",
   "metadata": {},
   "source": [
    "Проверим модель \"Решающего Дерева\" на тестовой выборке и посмотрим на результаты accuracy."
   ]
  },
  {
   "cell_type": "code",
   "execution_count": 7,
   "metadata": {},
   "outputs": [
    {
     "name": "stdout",
     "output_type": "stream",
     "text": [
      "Accuracy модели на тестовой выборке: 0.7791601866251944\n"
     ]
    }
   ],
   "source": [
    "predictions_test = best_model_tree.predict(features_test)\n",
    "result = accuracy_score(target_test, predictions_test)\n",
    "print('Accuracy модели на тестовой выборке:', result)"
   ]
  },
  {
   "attachments": {},
   "cell_type": "markdown",
   "metadata": {},
   "source": [
    "## Выводы"
   ]
  },
  {
   "attachments": {},
   "cell_type": "markdown",
   "metadata": {},
   "source": [
    "По полученным результатам можно утверждать, что для выбора тарифного плана наиболее подходящего клиенту подходит модель \"Решающего Древа\" с accuracy - 0,78 на тестовой выборке.\n",
    "\n",
    "Применение предложенной модели в 80% случаев правильно предлагает клиентам тариф."
   ]
  },
  {
   "attachments": {},
   "cell_type": "markdown",
   "metadata": {},
   "source": [
    "## (бонус) Проверьте модели на адекватность"
   ]
  },
  {
   "cell_type": "code",
   "execution_count": 8,
   "metadata": {
    "scrolled": true
   },
   "outputs": [
    {
     "name": "stdout",
     "output_type": "stream",
     "text": [
      "Accuracy простой модели DummyClassifier: 0.7060653188180405\n"
     ]
    }
   ],
   "source": [
    "dummy_cl = DummyClassifier(strategy=\"most_frequent\")\n",
    "dummy_cl.fit(features_train, target_train)\n",
    "result = dummy_cl.score(features_valid, target_valid)\n",
    "print('Accuracy простой модели DummyClassifier:', result)"
   ]
  },
  {
   "attachments": {},
   "cell_type": "markdown",
   "metadata": {},
   "source": [
    "Accuracy модели DummyClassifier выше чем у модели RandomForestClassifier, поэтому можно утверждать что модель RandomForestClassifier неадекватна."
   ]
  }
 ],
 "metadata": {
  "ExecuteTimeLog": [
   {
    "duration": 1282,
    "start_time": "2022-12-19T20:07:24.729Z"
   },
   {
    "duration": 132,
    "start_time": "2022-12-19T20:07:52.695Z"
   },
   {
    "duration": 42,
    "start_time": "2022-12-19T20:08:03.392Z"
   },
   {
    "duration": 31,
    "start_time": "2022-12-19T20:10:21.230Z"
   },
   {
    "duration": 113,
    "start_time": "2022-12-19T20:21:47.891Z"
   },
   {
    "duration": 24,
    "start_time": "2022-12-19T20:22:36.682Z"
   },
   {
    "duration": 11,
    "start_time": "2022-12-19T20:22:55.786Z"
   },
   {
    "duration": 8,
    "start_time": "2022-12-19T20:23:57.118Z"
   },
   {
    "duration": 19,
    "start_time": "2022-12-19T20:29:06.284Z"
   },
   {
    "duration": 23,
    "start_time": "2022-12-19T20:29:27.660Z"
   },
   {
    "duration": 13,
    "start_time": "2022-12-19T20:32:37.103Z"
   },
   {
    "duration": 12,
    "start_time": "2022-12-19T20:33:33.746Z"
   },
   {
    "duration": 12,
    "start_time": "2022-12-19T20:38:11.774Z"
   },
   {
    "duration": 12,
    "start_time": "2022-12-19T20:38:20.559Z"
   },
   {
    "duration": 11,
    "start_time": "2022-12-19T20:38:25.206Z"
   },
   {
    "duration": 8,
    "start_time": "2022-12-19T20:39:45.742Z"
   },
   {
    "duration": 9,
    "start_time": "2022-12-19T20:39:50.126Z"
   },
   {
    "duration": 16,
    "start_time": "2022-12-19T20:42:49.573Z"
   },
   {
    "duration": 34,
    "start_time": "2022-12-19T20:42:51.886Z"
   },
   {
    "duration": 33,
    "start_time": "2022-12-19T20:43:10.006Z"
   },
   {
    "duration": 39,
    "start_time": "2022-12-19T20:43:16.186Z"
   },
   {
    "duration": 11,
    "start_time": "2022-12-19T20:47:11.842Z"
   },
   {
    "duration": 42,
    "start_time": "2022-12-19T20:47:26.106Z"
   },
   {
    "duration": 8,
    "start_time": "2022-12-19T20:47:29.694Z"
   },
   {
    "duration": 4398,
    "start_time": "2022-12-19T20:47:32.314Z"
   },
   {
    "duration": 34,
    "start_time": "2022-12-19T20:48:34.235Z"
   },
   {
    "duration": 29,
    "start_time": "2022-12-19T20:50:22.291Z"
   },
   {
    "duration": 38,
    "start_time": "2022-12-19T20:50:31.121Z"
   },
   {
    "duration": 4602,
    "start_time": "2022-12-19T20:52:13.390Z"
   },
   {
    "duration": 30,
    "start_time": "2022-12-19T20:55:47.936Z"
   },
   {
    "duration": 4337,
    "start_time": "2022-12-19T20:58:22.510Z"
   },
   {
    "duration": 40,
    "start_time": "2022-12-19T21:00:48.741Z"
   },
   {
    "duration": 1101,
    "start_time": "2022-12-19T21:01:05.798Z"
   },
   {
    "duration": 35,
    "start_time": "2022-12-19T21:06:19.114Z"
   },
   {
    "duration": 4403,
    "start_time": "2022-12-19T21:06:56.810Z"
   },
   {
    "duration": 1754,
    "start_time": "2022-12-19T21:07:15.833Z"
   },
   {
    "duration": 29,
    "start_time": "2022-12-19T21:09:51.545Z"
   },
   {
    "duration": 39,
    "start_time": "2022-12-19T21:10:08.353Z"
   },
   {
    "duration": 28,
    "start_time": "2022-12-19T21:11:28.114Z"
   },
   {
    "duration": 27,
    "start_time": "2022-12-19T21:11:32.802Z"
   },
   {
    "duration": 31,
    "start_time": "2022-12-19T21:11:52.129Z"
   },
   {
    "duration": 9,
    "start_time": "2022-12-19T21:12:35.521Z"
   },
   {
    "duration": 40,
    "start_time": "2022-12-19T21:12:37.713Z"
   },
   {
    "duration": 39,
    "start_time": "2022-12-19T21:12:46.009Z"
   },
   {
    "duration": 35,
    "start_time": "2022-12-19T21:13:29.969Z"
   },
   {
    "duration": 30,
    "start_time": "2022-12-19T21:13:51.936Z"
   },
   {
    "duration": 20,
    "start_time": "2022-12-19T21:15:25.449Z"
   },
   {
    "duration": 19,
    "start_time": "2022-12-19T21:15:38.553Z"
   },
   {
    "duration": 31,
    "start_time": "2022-12-19T21:16:18.465Z"
   },
   {
    "duration": 5,
    "start_time": "2022-12-19T21:16:22.296Z"
   },
   {
    "duration": 8,
    "start_time": "2022-12-19T21:20:10.824Z"
   },
   {
    "duration": 4401,
    "start_time": "2022-12-19T21:20:14.688Z"
   },
   {
    "duration": 17,
    "start_time": "2022-12-19T21:20:22.895Z"
   },
   {
    "duration": 19,
    "start_time": "2022-12-19T21:20:38.399Z"
   },
   {
    "duration": 5,
    "start_time": "2022-12-19T21:21:25.402Z"
   },
   {
    "duration": 17,
    "start_time": "2022-12-19T21:21:47.728Z"
   },
   {
    "duration": 1175,
    "start_time": "2022-12-19T21:22:22.704Z"
   },
   {
    "duration": 16,
    "start_time": "2022-12-19T21:22:49.775Z"
   },
   {
    "duration": 8,
    "start_time": "2022-12-19T21:27:02.189Z"
   },
   {
    "duration": 31,
    "start_time": "2022-12-19T21:32:15.689Z"
   },
   {
    "duration": 40,
    "start_time": "2022-12-19T21:32:52.476Z"
   },
   {
    "duration": 32,
    "start_time": "2022-12-19T21:34:07.094Z"
   },
   {
    "duration": 32,
    "start_time": "2022-12-19T21:34:12.426Z"
   },
   {
    "duration": 55,
    "start_time": "2022-12-19T21:36:24.642Z"
   },
   {
    "duration": 26,
    "start_time": "2022-12-19T21:37:05.939Z"
   },
   {
    "duration": 485,
    "start_time": "2022-12-19T21:37:55.778Z"
   },
   {
    "duration": 1198,
    "start_time": "2022-12-19T21:38:22.441Z"
   },
   {
    "duration": 1552,
    "start_time": "2022-12-19T21:38:48.449Z"
   },
   {
    "duration": 5,
    "start_time": "2022-12-19T21:38:59.305Z"
   },
   {
    "duration": 17,
    "start_time": "2022-12-19T21:39:03.728Z"
   },
   {
    "duration": 7,
    "start_time": "2022-12-19T21:39:07.713Z"
   },
   {
    "duration": 1380,
    "start_time": "2022-12-27T15:52:48.488Z"
   },
   {
    "duration": 10,
    "start_time": "2022-12-27T15:52:49.871Z"
   },
   {
    "duration": 129,
    "start_time": "2022-12-27T15:52:49.882Z"
   },
   {
    "duration": 0,
    "start_time": "2022-12-27T15:52:50.014Z"
   },
   {
    "duration": 0,
    "start_time": "2022-12-27T15:52:50.015Z"
   },
   {
    "duration": 0,
    "start_time": "2022-12-27T15:52:50.016Z"
   },
   {
    "duration": 0,
    "start_time": "2022-12-27T15:52:50.017Z"
   },
   {
    "duration": 0,
    "start_time": "2022-12-27T15:52:50.018Z"
   },
   {
    "duration": 0,
    "start_time": "2022-12-27T15:52:50.020Z"
   },
   {
    "duration": 29,
    "start_time": "2022-12-27T15:53:10.701Z"
   },
   {
    "duration": 1138,
    "start_time": "2022-12-27T15:53:25.884Z"
   },
   {
    "duration": 8,
    "start_time": "2022-12-27T15:53:27.024Z"
   },
   {
    "duration": 49,
    "start_time": "2022-12-27T15:53:27.034Z"
   },
   {
    "duration": 1267,
    "start_time": "2022-12-27T15:53:27.084Z"
   },
   {
    "duration": 603,
    "start_time": "2022-12-27T15:53:28.354Z"
   },
   {
    "duration": 92,
    "start_time": "2022-12-27T15:53:28.959Z"
   },
   {
    "duration": 25,
    "start_time": "2022-12-27T15:53:29.053Z"
   },
   {
    "duration": 8,
    "start_time": "2022-12-27T15:53:29.080Z"
   },
   {
    "duration": 14,
    "start_time": "2022-12-27T15:53:29.090Z"
   },
   {
    "duration": 27,
    "start_time": "2022-12-27T15:54:17.332Z"
   },
   {
    "duration": 1310,
    "start_time": "2022-12-28T13:09:27.957Z"
   },
   {
    "duration": 9,
    "start_time": "2022-12-28T13:09:29.269Z"
   },
   {
    "duration": 29,
    "start_time": "2022-12-28T13:09:29.279Z"
   },
   {
    "duration": 4409,
    "start_time": "2022-12-28T13:09:29.311Z"
   },
   {
    "duration": 557,
    "start_time": "2022-12-28T13:09:33.722Z"
   },
   {
    "duration": 98,
    "start_time": "2022-12-28T13:09:34.283Z"
   },
   {
    "duration": 39,
    "start_time": "2022-12-28T13:09:34.382Z"
   },
   {
    "duration": 7,
    "start_time": "2022-12-28T13:09:34.423Z"
   },
   {
    "duration": 13,
    "start_time": "2022-12-28T13:09:34.432Z"
   },
   {
    "duration": 407,
    "start_time": "2022-12-28T13:26:27.279Z"
   },
   {
    "duration": 53,
    "start_time": "2022-12-28T13:30:11.311Z"
   },
   {
    "duration": 1171,
    "start_time": "2022-12-28T13:31:11.330Z"
   },
   {
    "duration": 8,
    "start_time": "2022-12-28T13:31:12.503Z"
   },
   {
    "duration": 35,
    "start_time": "2022-12-28T13:31:12.513Z"
   },
   {
    "duration": 4541,
    "start_time": "2022-12-28T13:31:12.550Z"
   },
   {
    "duration": 390,
    "start_time": "2022-12-28T13:31:17.093Z"
   },
   {
    "duration": 95,
    "start_time": "2022-12-28T13:31:17.485Z"
   },
   {
    "duration": 61,
    "start_time": "2022-12-28T13:31:17.582Z"
   },
   {
    "duration": 42,
    "start_time": "2022-12-28T13:31:17.645Z"
   },
   {
    "duration": 1365,
    "start_time": "2022-12-28T14:21:05.981Z"
   },
   {
    "duration": 7,
    "start_time": "2022-12-28T14:21:07.348Z"
   },
   {
    "duration": 58,
    "start_time": "2022-12-28T14:21:07.357Z"
   },
   {
    "duration": 4099,
    "start_time": "2022-12-28T14:21:07.417Z"
   },
   {
    "duration": 793,
    "start_time": "2022-12-28T14:21:11.518Z"
   },
   {
    "duration": 97,
    "start_time": "2022-12-28T14:21:12.313Z"
   },
   {
    "duration": 110,
    "start_time": "2022-12-28T14:21:12.412Z"
   },
   {
    "duration": 7,
    "start_time": "2022-12-28T14:21:12.524Z"
   },
   {
    "duration": 3,
    "start_time": "2022-12-28T14:21:43.853Z"
   },
   {
    "duration": 4,
    "start_time": "2022-12-28T14:22:12.836Z"
   },
   {
    "duration": 1288,
    "start_time": "2023-01-11T13:03:41.778Z"
   },
   {
    "duration": 0,
    "start_time": "2023-01-11T13:03:43.068Z"
   },
   {
    "duration": 0,
    "start_time": "2023-01-11T13:03:43.069Z"
   },
   {
    "duration": 0,
    "start_time": "2023-01-11T13:03:43.070Z"
   },
   {
    "duration": 0,
    "start_time": "2023-01-11T13:03:43.071Z"
   },
   {
    "duration": 0,
    "start_time": "2023-01-11T13:03:43.071Z"
   },
   {
    "duration": 0,
    "start_time": "2023-01-11T13:03:43.072Z"
   },
   {
    "duration": 0,
    "start_time": "2023-01-11T13:03:43.074Z"
   },
   {
    "duration": 0,
    "start_time": "2023-01-11T13:03:43.075Z"
   },
   {
    "duration": 38,
    "start_time": "2023-01-11T13:04:02.877Z"
   },
   {
    "duration": 46,
    "start_time": "2023-01-11T13:04:14.415Z"
   },
   {
    "duration": 46,
    "start_time": "2023-01-11T13:04:19.947Z"
   },
   {
    "duration": 4882,
    "start_time": "2023-01-11T13:05:23.769Z"
   },
   {
    "duration": 5122,
    "start_time": "2023-01-11T13:05:30.715Z"
   },
   {
    "duration": 48,
    "start_time": "2023-01-11T13:05:53.397Z"
   },
   {
    "duration": 49,
    "start_time": "2023-01-11T13:06:10.266Z"
   },
   {
    "duration": 50,
    "start_time": "2023-01-11T13:06:27.817Z"
   },
   {
    "duration": 53,
    "start_time": "2023-01-11T13:06:37.585Z"
   },
   {
    "duration": 58,
    "start_time": "2023-01-11T13:08:17.936Z"
   },
   {
    "duration": 55,
    "start_time": "2023-01-11T13:08:44.153Z"
   },
   {
    "duration": 54,
    "start_time": "2023-01-11T13:08:54.391Z"
   },
   {
    "duration": 8,
    "start_time": "2023-01-11T13:09:58.120Z"
   },
   {
    "duration": 1127,
    "start_time": "2023-01-11T13:10:03.894Z"
   },
   {
    "duration": 8,
    "start_time": "2023-01-11T13:10:05.023Z"
   },
   {
    "duration": 20,
    "start_time": "2023-01-11T13:10:05.033Z"
   },
   {
    "duration": 46,
    "start_time": "2023-01-11T13:10:05.055Z"
   },
   {
    "duration": 4007,
    "start_time": "2023-01-11T13:10:05.102Z"
   },
   {
    "duration": 449,
    "start_time": "2023-01-11T13:10:09.111Z"
   },
   {
    "duration": 93,
    "start_time": "2023-01-11T13:10:09.561Z"
   },
   {
    "duration": 93,
    "start_time": "2023-01-11T13:24:34.107Z"
   },
   {
    "duration": 58,
    "start_time": "2023-01-11T13:24:47.378Z"
   },
   {
    "duration": 4,
    "start_time": "2023-01-11T13:24:52.875Z"
   },
   {
    "duration": 5,
    "start_time": "2023-01-11T13:26:36.607Z"
   },
   {
    "duration": 9,
    "start_time": "2023-01-11T13:27:18.296Z"
   },
   {
    "duration": 61,
    "start_time": "2023-01-11T13:27:23.961Z"
   },
   {
    "duration": 10,
    "start_time": "2023-01-11T13:27:27.848Z"
   },
   {
    "duration": 6,
    "start_time": "2023-01-11T13:27:58.414Z"
   },
   {
    "duration": 5,
    "start_time": "2023-01-11T13:31:34.589Z"
   },
   {
    "duration": 1180,
    "start_time": "2023-01-11T13:41:47.253Z"
   },
   {
    "duration": 6,
    "start_time": "2023-01-11T13:41:48.435Z"
   },
   {
    "duration": 25,
    "start_time": "2023-01-11T13:41:48.443Z"
   },
   {
    "duration": 52,
    "start_time": "2023-01-11T13:41:48.470Z"
   },
   {
    "duration": 4337,
    "start_time": "2023-01-11T13:41:48.524Z"
   },
   {
    "duration": 1090,
    "start_time": "2023-01-11T13:41:52.863Z"
   },
   {
    "duration": 96,
    "start_time": "2023-01-11T13:41:53.958Z"
   },
   {
    "duration": 16,
    "start_time": "2023-01-11T13:41:54.056Z"
   },
   {
    "duration": 1113,
    "start_time": "2023-01-11T13:44:27.969Z"
   },
   {
    "duration": 6,
    "start_time": "2023-01-11T13:44:29.084Z"
   },
   {
    "duration": 17,
    "start_time": "2023-01-11T13:44:29.092Z"
   },
   {
    "duration": 25,
    "start_time": "2023-01-11T13:44:29.111Z"
   },
   {
    "duration": 3947,
    "start_time": "2023-01-11T13:44:29.137Z"
   },
   {
    "duration": 371,
    "start_time": "2023-01-11T13:44:33.086Z"
   },
   {
    "duration": 95,
    "start_time": "2023-01-11T13:44:33.458Z"
   },
   {
    "duration": 98,
    "start_time": "2023-01-11T13:44:33.556Z"
   }
  ],
  "kernelspec": {
   "display_name": "Python 3 (ipykernel)",
   "language": "python",
   "name": "python3"
  },
  "language_info": {
   "codemirror_mode": {
    "name": "ipython",
    "version": 3
   },
   "file_extension": ".py",
   "mimetype": "text/x-python",
   "name": "python",
   "nbconvert_exporter": "python",
   "pygments_lexer": "ipython3",
   "version": "3.9.5"
  },
  "toc": {
   "base_numbering": 1,
   "nav_menu": {},
   "number_sections": true,
   "sideBar": true,
   "skip_h1_title": true,
   "title_cell": "Table of Contents",
   "title_sidebar": "Contents",
   "toc_cell": false,
   "toc_position": {},
   "toc_section_display": true,
   "toc_window_display": false
  }
 },
 "nbformat": 4,
 "nbformat_minor": 2
}
