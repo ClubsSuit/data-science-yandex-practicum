{
 "cells": [
  {
   "cell_type": "markdown",
   "metadata": {},
   "source": [
    "# Выбор локации для скважины"
   ]
  },
  {
   "cell_type": "markdown",
   "metadata": {},
   "source": [
    "Допустим, вы работаете в добывающей компании «ГлавРосГосНефть». Нужно решить, где бурить новую скважину.\n",
    "\n",
    "Вам предоставлены пробы нефти в трёх регионах: в каждом 10 000 месторождений, где измерили качество нефти и объём её запасов. Постройте модель машинного обучения, которая поможет определить регион, где добыча принесёт наибольшую прибыль. Проанализируйте возможную прибыль и риски техникой *Bootstrap.*\n",
    "\n",
    "Шаги для выбора локации:\n",
    "\n",
    "- В избранном регионе ищут месторождения, для каждого определяют значения признаков;\n",
    "- Строят модель и оценивают объём запасов;\n",
    "- Выбирают месторождения с самым высокими оценками значений. Количество месторождений зависит от бюджета компании и стоимости разработки одной скважины;\n",
    "- Прибыль равна суммарной прибыли отобранных месторождений."
   ]
  },
  {
   "cell_type": "markdown",
   "metadata": {},
   "source": [
    "## Загрузка и подготовка данных"
   ]
  },
  {
   "cell_type": "markdown",
   "metadata": {},
   "source": [
    "Загрузим данные о скважинах в трёх регионах. Данные содержат:\n",
    "* id — уникальный идентификатор скважины;\n",
    "* f0, f1, f2 — три признака точек (неважно, что они означают, но сами признаки значимы);\n",
    "* product — объём запасов в скважине (тыс. баррелей)."
   ]
  },
  {
   "cell_type": "code",
   "execution_count": 2,
   "metadata": {},
   "outputs": [],
   "source": [
    "import pandas as pd\n",
    "import numpy as np\n",
    "import warnings\n",
    "\n",
    "warnings.filterwarnings(\"ignore\")\n",
    "\n",
    "from sklearn.model_selection import train_test_split\n",
    "from sklearn.linear_model import LinearRegression\n",
    "from sklearn.metrics import mean_squared_error\n",
    "from sklearn.model_selection import cross_val_score"
   ]
  },
  {
   "cell_type": "code",
   "execution_count": 3,
   "metadata": {
    "scrolled": false
   },
   "outputs": [
    {
     "name": "stdout",
     "output_type": "stream",
     "text": [
      "['A', 'B', 'C']\n"
     ]
    }
   ],
   "source": [
    "data_a = pd.read_csv('/datasets/geo_data_0.csv')\n",
    "data_b = pd.read_csv('/datasets/geo_data_1.csv')\n",
    "data_c = pd.read_csv('/datasets/geo_data_2.csv')\n",
    "\n",
    "data = {}\n",
    "counter = 65\n",
    "\n",
    "for df in [data_a, data_b, data_c]:\n",
    "    key = chr(counter)\n",
    "    value = df\n",
    "    data[key] = value\n",
    "    counter += 1\n",
    "    \n",
    "regions = list(data.keys())\n",
    "\n",
    "print(regions)"
   ]
  },
  {
   "cell_type": "code",
   "execution_count": 4,
   "metadata": {},
   "outputs": [
    {
     "data": {
      "text/html": [
       "<div>\n",
       "<style scoped>\n",
       "    .dataframe tbody tr th:only-of-type {\n",
       "        vertical-align: middle;\n",
       "    }\n",
       "\n",
       "    .dataframe tbody tr th {\n",
       "        vertical-align: top;\n",
       "    }\n",
       "\n",
       "    .dataframe thead th {\n",
       "        text-align: right;\n",
       "    }\n",
       "</style>\n",
       "<table border=\"1\" class=\"dataframe\">\n",
       "  <thead>\n",
       "    <tr style=\"text-align: right;\">\n",
       "      <th></th>\n",
       "      <th>count</th>\n",
       "      <th>mean</th>\n",
       "      <th>std</th>\n",
       "      <th>min</th>\n",
       "      <th>25%</th>\n",
       "      <th>50%</th>\n",
       "      <th>75%</th>\n",
       "      <th>max</th>\n",
       "    </tr>\n",
       "  </thead>\n",
       "  <tbody>\n",
       "    <tr>\n",
       "      <th>f0</th>\n",
       "      <td>100000.0</td>\n",
       "      <td>0.500419</td>\n",
       "      <td>0.871832</td>\n",
       "      <td>-1.408605</td>\n",
       "      <td>-0.072580</td>\n",
       "      <td>0.502360</td>\n",
       "      <td>1.073581</td>\n",
       "      <td>2.362331</td>\n",
       "    </tr>\n",
       "    <tr>\n",
       "      <th>f1</th>\n",
       "      <td>100000.0</td>\n",
       "      <td>0.250143</td>\n",
       "      <td>0.504433</td>\n",
       "      <td>-0.848218</td>\n",
       "      <td>-0.200881</td>\n",
       "      <td>0.250252</td>\n",
       "      <td>0.700646</td>\n",
       "      <td>1.343769</td>\n",
       "    </tr>\n",
       "    <tr>\n",
       "      <th>f2</th>\n",
       "      <td>100000.0</td>\n",
       "      <td>2.502647</td>\n",
       "      <td>3.248248</td>\n",
       "      <td>-12.088328</td>\n",
       "      <td>0.287748</td>\n",
       "      <td>2.515969</td>\n",
       "      <td>4.715088</td>\n",
       "      <td>16.003790</td>\n",
       "    </tr>\n",
       "    <tr>\n",
       "      <th>product</th>\n",
       "      <td>100000.0</td>\n",
       "      <td>92.500000</td>\n",
       "      <td>44.288691</td>\n",
       "      <td>0.000000</td>\n",
       "      <td>56.497507</td>\n",
       "      <td>91.849972</td>\n",
       "      <td>128.564089</td>\n",
       "      <td>185.364347</td>\n",
       "    </tr>\n",
       "  </tbody>\n",
       "</table>\n",
       "</div>"
      ],
      "text/plain": [
       "            count       mean        std        min        25%        50%  \\\n",
       "f0       100000.0   0.500419   0.871832  -1.408605  -0.072580   0.502360   \n",
       "f1       100000.0   0.250143   0.504433  -0.848218  -0.200881   0.250252   \n",
       "f2       100000.0   2.502647   3.248248 -12.088328   0.287748   2.515969   \n",
       "product  100000.0  92.500000  44.288691   0.000000  56.497507  91.849972   \n",
       "\n",
       "                75%         max  \n",
       "f0         1.073581    2.362331  \n",
       "f1         0.700646    1.343769  \n",
       "f2         4.715088   16.003790  \n",
       "product  128.564089  185.364347  "
      ]
     },
     "execution_count": 4,
     "metadata": {},
     "output_type": "execute_result"
    }
   ],
   "source": [
    "data_a.describe().T"
   ]
  },
  {
   "cell_type": "code",
   "execution_count": 5,
   "metadata": {},
   "outputs": [
    {
     "data": {
      "text/html": [
       "<div>\n",
       "<style scoped>\n",
       "    .dataframe tbody tr th:only-of-type {\n",
       "        vertical-align: middle;\n",
       "    }\n",
       "\n",
       "    .dataframe tbody tr th {\n",
       "        vertical-align: top;\n",
       "    }\n",
       "\n",
       "    .dataframe thead th {\n",
       "        text-align: right;\n",
       "    }\n",
       "</style>\n",
       "<table border=\"1\" class=\"dataframe\">\n",
       "  <thead>\n",
       "    <tr style=\"text-align: right;\">\n",
       "      <th></th>\n",
       "      <th>count</th>\n",
       "      <th>mean</th>\n",
       "      <th>std</th>\n",
       "      <th>min</th>\n",
       "      <th>25%</th>\n",
       "      <th>50%</th>\n",
       "      <th>75%</th>\n",
       "      <th>max</th>\n",
       "    </tr>\n",
       "  </thead>\n",
       "  <tbody>\n",
       "    <tr>\n",
       "      <th>f0</th>\n",
       "      <td>100000.0</td>\n",
       "      <td>1.141296</td>\n",
       "      <td>8.965932</td>\n",
       "      <td>-31.609576</td>\n",
       "      <td>-6.298551</td>\n",
       "      <td>1.153055</td>\n",
       "      <td>8.621015</td>\n",
       "      <td>29.421755</td>\n",
       "    </tr>\n",
       "    <tr>\n",
       "      <th>f1</th>\n",
       "      <td>100000.0</td>\n",
       "      <td>-4.796579</td>\n",
       "      <td>5.119872</td>\n",
       "      <td>-26.358598</td>\n",
       "      <td>-8.267985</td>\n",
       "      <td>-4.813172</td>\n",
       "      <td>-1.332816</td>\n",
       "      <td>18.734063</td>\n",
       "    </tr>\n",
       "    <tr>\n",
       "      <th>f2</th>\n",
       "      <td>100000.0</td>\n",
       "      <td>2.494541</td>\n",
       "      <td>1.703572</td>\n",
       "      <td>-0.018144</td>\n",
       "      <td>1.000021</td>\n",
       "      <td>2.011479</td>\n",
       "      <td>3.999904</td>\n",
       "      <td>5.019721</td>\n",
       "    </tr>\n",
       "    <tr>\n",
       "      <th>product</th>\n",
       "      <td>100000.0</td>\n",
       "      <td>68.825000</td>\n",
       "      <td>45.944423</td>\n",
       "      <td>0.000000</td>\n",
       "      <td>26.953261</td>\n",
       "      <td>57.085625</td>\n",
       "      <td>107.813044</td>\n",
       "      <td>137.945408</td>\n",
       "    </tr>\n",
       "  </tbody>\n",
       "</table>\n",
       "</div>"
      ],
      "text/plain": [
       "            count       mean        std        min        25%        50%  \\\n",
       "f0       100000.0   1.141296   8.965932 -31.609576  -6.298551   1.153055   \n",
       "f1       100000.0  -4.796579   5.119872 -26.358598  -8.267985  -4.813172   \n",
       "f2       100000.0   2.494541   1.703572  -0.018144   1.000021   2.011479   \n",
       "product  100000.0  68.825000  45.944423   0.000000  26.953261  57.085625   \n",
       "\n",
       "                75%         max  \n",
       "f0         8.621015   29.421755  \n",
       "f1        -1.332816   18.734063  \n",
       "f2         3.999904    5.019721  \n",
       "product  107.813044  137.945408  "
      ]
     },
     "execution_count": 5,
     "metadata": {},
     "output_type": "execute_result"
    }
   ],
   "source": [
    "data_b.describe().T"
   ]
  },
  {
   "cell_type": "code",
   "execution_count": 6,
   "metadata": {},
   "outputs": [
    {
     "data": {
      "text/html": [
       "<div>\n",
       "<style scoped>\n",
       "    .dataframe tbody tr th:only-of-type {\n",
       "        vertical-align: middle;\n",
       "    }\n",
       "\n",
       "    .dataframe tbody tr th {\n",
       "        vertical-align: top;\n",
       "    }\n",
       "\n",
       "    .dataframe thead th {\n",
       "        text-align: right;\n",
       "    }\n",
       "</style>\n",
       "<table border=\"1\" class=\"dataframe\">\n",
       "  <thead>\n",
       "    <tr style=\"text-align: right;\">\n",
       "      <th></th>\n",
       "      <th>count</th>\n",
       "      <th>mean</th>\n",
       "      <th>std</th>\n",
       "      <th>min</th>\n",
       "      <th>25%</th>\n",
       "      <th>50%</th>\n",
       "      <th>75%</th>\n",
       "      <th>max</th>\n",
       "    </tr>\n",
       "  </thead>\n",
       "  <tbody>\n",
       "    <tr>\n",
       "      <th>f0</th>\n",
       "      <td>100000.0</td>\n",
       "      <td>0.002023</td>\n",
       "      <td>1.732045</td>\n",
       "      <td>-8.760004</td>\n",
       "      <td>-1.162288</td>\n",
       "      <td>0.009424</td>\n",
       "      <td>1.158535</td>\n",
       "      <td>7.238262</td>\n",
       "    </tr>\n",
       "    <tr>\n",
       "      <th>f1</th>\n",
       "      <td>100000.0</td>\n",
       "      <td>-0.002081</td>\n",
       "      <td>1.730417</td>\n",
       "      <td>-7.084020</td>\n",
       "      <td>-1.174820</td>\n",
       "      <td>-0.009482</td>\n",
       "      <td>1.163678</td>\n",
       "      <td>7.844801</td>\n",
       "    </tr>\n",
       "    <tr>\n",
       "      <th>f2</th>\n",
       "      <td>100000.0</td>\n",
       "      <td>2.495128</td>\n",
       "      <td>3.473445</td>\n",
       "      <td>-11.970335</td>\n",
       "      <td>0.130359</td>\n",
       "      <td>2.484236</td>\n",
       "      <td>4.858794</td>\n",
       "      <td>16.739402</td>\n",
       "    </tr>\n",
       "    <tr>\n",
       "      <th>product</th>\n",
       "      <td>100000.0</td>\n",
       "      <td>95.000000</td>\n",
       "      <td>44.749921</td>\n",
       "      <td>0.000000</td>\n",
       "      <td>59.450441</td>\n",
       "      <td>94.925613</td>\n",
       "      <td>130.595027</td>\n",
       "      <td>190.029838</td>\n",
       "    </tr>\n",
       "  </tbody>\n",
       "</table>\n",
       "</div>"
      ],
      "text/plain": [
       "            count       mean        std        min        25%        50%  \\\n",
       "f0       100000.0   0.002023   1.732045  -8.760004  -1.162288   0.009424   \n",
       "f1       100000.0  -0.002081   1.730417  -7.084020  -1.174820  -0.009482   \n",
       "f2       100000.0   2.495128   3.473445 -11.970335   0.130359   2.484236   \n",
       "product  100000.0  95.000000  44.749921   0.000000  59.450441  94.925613   \n",
       "\n",
       "                75%         max  \n",
       "f0         1.158535    7.238262  \n",
       "f1         1.163678    7.844801  \n",
       "f2         4.858794   16.739402  \n",
       "product  130.595027  190.029838  "
      ]
     },
     "execution_count": 6,
     "metadata": {},
     "output_type": "execute_result"
    }
   ],
   "source": [
    "data_c.describe().T"
   ]
  },
  {
   "cell_type": "markdown",
   "metadata": {},
   "source": [
    "Осмотрены входные данные, они не содержат дупликатов и пропусков, и готовы к дальнейшему анализу. Также была изучена корреляция параметров влияющих на таргет. Для разных регионов различные признаки имеют максимальную корреляцию:\n",
    "\n",
    "* Для региона А - f2 (положительно) и f1 (отрицательно) \n",
    "* Для региона В - f1\n",
    "* Для региона С - f2"
   ]
  },
  {
   "cell_type": "markdown",
   "metadata": {},
   "source": [
    "Для выполнения дальнейшего исследования нам надо обучить алгоритм линейной регрессии для построения модели. Для этого разделим данные на тренировочные и валидационные выборки, в соотношении 75% / 25%."
   ]
  },
  {
   "cell_type": "code",
   "execution_count": 6,
   "metadata": {},
   "outputs": [],
   "source": [
    "for r in regions:\n",
    "    data[r + '_train'], data[r + '_valid'] = train_test_split(data[r], test_size=0.25, random_state=12345)\n",
    "    \n",
    "    data['features_' + r + '_train'] = data[r + '_train'].drop(['product', 'id'], axis=1)\n",
    "    data['target_' + r + '_train'] = data[r + '_train']['product']\n",
    "    data['features_' + r + '_valid'] = data[r + '_valid'].drop(['product', 'id'], axis=1)\n",
    "    data['target_' + r + '_valid'] = data[r + '_valid']['product']    "
   ]
  },
  {
   "cell_type": "markdown",
   "metadata": {},
   "source": [
    "## Обучение и проверка модели"
   ]
  },
  {
   "cell_type": "markdown",
   "metadata": {},
   "source": [
    "Проведём обучение модели на тренировочной выборки для 3 регионов. Данные предсказаные моделью добавим новым столбцом в датафрейм валидационной выборки."
   ]
  },
  {
   "cell_type": "code",
   "execution_count": 7,
   "metadata": {},
   "outputs": [
    {
     "name": "stdout",
     "output_type": "stream",
     "text": [
      "Средний предсказанный запас скважины региона А - 92.593\n",
      "RMSE 37.579\n",
      "Фактический запас - 92.079\n",
      "Средний предсказанный запас скважины региона А - 68.729\n",
      "RMSE 0.893\n",
      "Фактический запас - 68.723\n",
      "Средний предсказанный запас скважины региона А - 94.965\n",
      "RMSE 40.030\n",
      "Фактический запас - 94.884\n"
     ]
    }
   ],
   "source": [
    "for r in regions:\n",
    "       \n",
    "    model = LinearRegression()\n",
    "    model.fit(data['features_' + r + '_train'], data['target_' + r + '_train'])\n",
    "    \n",
    "    data[r + '_valid']['predictions'] = model.predict(data['features_' + r + '_valid'])\n",
    "    \n",
    "    print('Средний предсказанный запас скважины региона А - {:.3f}'.format(data[r + '_valid']['predictions'].mean()))\n",
    "    print('RMSE {:.3f}'.format(mean_squared_error(data[r + '_valid']['product'], data[r + '_valid']['predictions']) ** 0.5))\n",
    "    print('Фактический запас - {:.3f}'.format(data[r + '_valid']['product'].mean()))"
   ]
  },
  {
   "cell_type": "markdown",
   "metadata": {},
   "source": [
    "Средние величины запасов нефти скважины предсказанные моделью и фактические, довольно близки. Проведенные расчеты метрики RMSE показывает, что более точно модель предсказывает запасы нефти в регионе B. Можно утверждать, что модель корректна и адекватна для решения задачи."
   ]
  },
  {
   "cell_type": "markdown",
   "metadata": {},
   "source": [
    "## Подготовка к расчёту прибыли"
   ]
  },
  {
   "cell_type": "markdown",
   "metadata": {},
   "source": [
    "Для проведения расчетов прибыли установим:\n",
    "* цены барраля нефти 450 ₽\n",
    "* бюджет разработки нефти в новом регионе 10 000 000 000 ₽"
   ]
  },
  {
   "cell_type": "code",
   "execution_count": 8,
   "metadata": {
    "scrolled": true
   },
   "outputs": [
    {
     "name": "stdout",
     "output_type": "stream",
     "text": [
      "Объем запаса нефти необходимый для окупаемости разработки в регионе: 22222 тысяч баррелей\n",
      "Объем запаса нефти необходимый для окупаемости разработки одной скважины из 200 в регионе: 111 тысяч баррелей\n",
      "Количество скважин для окупаемости разработки нефти в регионе А: 240\n",
      "Количество скважин для окупаемости разработки нефти в регионе А: 323\n",
      "Количество скважин для окупаемости разработки нефти в регионе А: 234\n"
     ]
    }
   ],
   "source": [
    "BARREL_PRICE = 450_000\n",
    "WELL_COST = 10_000_000_000\n",
    "MIN_STORAGE = WELL_COST / BARREL_PRICE\n",
    "WELLS = 500\n",
    "WELLS_TOP = 200\n",
    "\n",
    "print('Объем запаса нефти необходимый для окупаемости разработки в регионе: {:.0f} тысяч баррелей'.format(MIN_STORAGE))\n",
    "print('Объем запаса нефти необходимый для окупаемости разработки одной скважины из 200 в регионе: {:.0f} тысяч баррелей'.format(MIN_STORAGE/200))\n",
    "for r in regions:\n",
    "    print('Количество скважин для окупаемости разработки нефти в регионе А: {:.0f}'.format(MIN_STORAGE / (data[r + '_valid']['predictions'].mean()) ))\n"
   ]
  },
  {
   "cell_type": "markdown",
   "metadata": {},
   "source": [
    "Проведены расчеты объема запаса нефти для окупаемости разработки новых скважин в регионе и составил 22 222 тысячи баррелей. \n",
    "\n",
    "С учетом среднего значения запаса нефти в скважинах и величиной объема запаса нефти для окупаемости разработки новых скважин в регионе расчитанно количество скважин для окупаемости.\n",
    "\n",
    "С учетом средних значений запаса нефти, в каждом регионе необходимо бурить более 200 скважин, чтобы окупиться."
   ]
  },
  {
   "cell_type": "markdown",
   "metadata": {},
   "source": [
    "## Расчёт прибыли и рисков "
   ]
  },
  {
   "cell_type": "code",
   "execution_count": 9,
   "metadata": {},
   "outputs": [],
   "source": [
    "def profit(storage, b, w):\n",
    "    return (storage*b) - w"
   ]
  },
  {
   "cell_type": "code",
   "execution_count": 10,
   "metadata": {
    "scrolled": true
   },
   "outputs": [
    {
     "name": "stdout",
     "output_type": "stream",
     "text": [
      "Регион A\n",
      "Средняя прибыль в регионе - ₽ 396,164,984.80\n",
      "Доверительный интервал равен - [ ₽ -111,215,545.89, ₽ 909,766,941.55 ]\n",
      "Риск понести убытки составляет - 6.90%\n",
      "Регион B\n",
      "Средняя прибыль в регионе - ₽ 461,155,817.28\n",
      "Доверительный интервал равен - [ ₽ 78,050,810.75, ₽ 862,952,060.26 ]\n",
      "Риск понести убытки составляет - 0.70%\n",
      "Регион C\n",
      "Средняя прибыль в регионе - ₽ 392,950,475.17\n",
      "Доверительный интервал равен - [ ₽ -112,227,625.38, ₽ 934,562,914.55 ]\n",
      "Риск понести убытки составляет - 6.50%\n"
     ]
    }
   ],
   "source": [
    "state = np.random.RandomState(12345)\n",
    "def region_recon(region, wells, wells_top):\n",
    "    values = []\n",
    "    for i in range(1000):\n",
    "        subsample = data[r+'_valid'].sample(n=wells, replace=True, random_state=state)\n",
    "        subsample_sorted = subsample.sort_values(by='predictions', ascending=False)[:wells_top]\n",
    "        storage = subsample_sorted['product'].sum()\n",
    "        values.append(profit(storage, BARREL_PRICE, WELL_COST))\n",
    "\n",
    "    values = pd.Series(values)\n",
    "    \n",
    "    lower = values.quantile(0.025)\n",
    "    upper = values.quantile(0.975)\n",
    "    mean = values.mean()\n",
    "    risk = values[values<0].count()/values.count()\n",
    "    \n",
    "    print('Регион {}'.format(region))\n",
    "    print('Средняя прибыль в регионе - ₽ {:,.2f}'.format(mean))\n",
    "    print('Доверительный интервал равен - [ ₽ {:,.2f}, ₽ {:,.2f} ]'.format(lower, upper))\n",
    "    print('Риск понести убытки составляет - {:.2%}'.format(risk))\n",
    "\n",
    "for r in regions:\n",
    "    region_recon(r, WELLS, WELLS_TOP)"
   ]
  },
  {
   "cell_type": "markdown",
   "metadata": {},
   "source": [
    "## Выводы"
   ]
  },
  {
   "cell_type": "markdown",
   "metadata": {},
   "source": [
    "Проведены расчеты прибыли нефтедобычи в различных регионах, а также были проведены оценки рисков получить отрицательную прибыль.\n",
    "По полученным результатам регион В является максимально выгодным для разработки нефти ввиду низкого риска получить отрицательную прибыль."
   ]
  }
 ],
 "metadata": {
  "ExecuteTimeLog": [
   {
    "duration": 44,
    "start_time": "2023-01-29T12:30:49.230Z"
   },
   {
    "duration": 383,
    "start_time": "2023-01-29T12:30:53.042Z"
   },
   {
    "duration": 1480,
    "start_time": "2023-01-29T12:30:54.526Z"
   },
   {
    "duration": 366,
    "start_time": "2023-01-29T12:31:25.035Z"
   },
   {
    "duration": 27,
    "start_time": "2023-01-29T12:47:06.428Z"
   },
   {
    "duration": 650,
    "start_time": "2023-01-29T12:47:10.166Z"
   },
   {
    "duration": 49,
    "start_time": "2023-01-29T12:47:13.247Z"
   },
   {
    "duration": 20,
    "start_time": "2023-01-29T12:47:59.380Z"
   },
   {
    "duration": 3,
    "start_time": "2023-01-29T12:53:19.850Z"
   },
   {
    "duration": 2,
    "start_time": "2023-01-29T12:56:52.748Z"
   },
   {
    "duration": 362,
    "start_time": "2023-01-29T12:56:54.135Z"
   },
   {
    "duration": 61,
    "start_time": "2023-01-29T12:56:57.265Z"
   },
   {
    "duration": 235,
    "start_time": "2023-01-29T12:57:01.932Z"
   },
   {
    "duration": 78,
    "start_time": "2023-01-29T12:58:17.969Z"
   },
   {
    "duration": 98,
    "start_time": "2023-01-29T13:01:13.549Z"
   },
   {
    "duration": 77,
    "start_time": "2023-01-29T13:03:13.685Z"
   },
   {
    "duration": 148,
    "start_time": "2023-01-29T13:03:24.997Z"
   },
   {
    "duration": 82,
    "start_time": "2023-01-29T13:11:49.564Z"
   },
   {
    "duration": 8,
    "start_time": "2023-01-29T13:16:18.193Z"
   },
   {
    "duration": 4,
    "start_time": "2023-01-29T13:17:17.664Z"
   },
   {
    "duration": 4,
    "start_time": "2023-01-29T13:17:34.749Z"
   },
   {
    "duration": 3,
    "start_time": "2023-01-29T13:21:02.842Z"
   },
   {
    "duration": 1040,
    "start_time": "2023-01-29T13:21:08.243Z"
   },
   {
    "duration": 367,
    "start_time": "2023-01-29T13:21:09.285Z"
   },
   {
    "duration": 49,
    "start_time": "2023-01-29T13:21:09.654Z"
   },
   {
    "duration": 139,
    "start_time": "2023-01-29T13:21:09.705Z"
   },
   {
    "duration": 5,
    "start_time": "2023-01-29T13:21:09.848Z"
   },
   {
    "duration": 112,
    "start_time": "2023-01-29T13:22:19.738Z"
   },
   {
    "duration": 66,
    "start_time": "2023-01-29T13:23:08.447Z"
   },
   {
    "duration": 10,
    "start_time": "2023-01-29T13:23:12.477Z"
   },
   {
    "duration": 9,
    "start_time": "2023-01-29T13:23:45.849Z"
   },
   {
    "duration": 9,
    "start_time": "2023-01-29T13:23:56.400Z"
   },
   {
    "duration": 3,
    "start_time": "2023-01-29T13:24:01.694Z"
   },
   {
    "duration": 3,
    "start_time": "2023-01-29T13:24:27.527Z"
   },
   {
    "duration": 4,
    "start_time": "2023-01-29T13:24:43.390Z"
   },
   {
    "duration": 4,
    "start_time": "2023-01-29T13:24:50.183Z"
   },
   {
    "duration": 4,
    "start_time": "2023-01-29T13:27:20.147Z"
   },
   {
    "duration": 4,
    "start_time": "2023-01-29T13:28:03.035Z"
   },
   {
    "duration": 4,
    "start_time": "2023-01-29T13:28:16.431Z"
   },
   {
    "duration": 4,
    "start_time": "2023-01-29T13:28:53.173Z"
   },
   {
    "duration": 4,
    "start_time": "2023-01-29T13:32:15.744Z"
   },
   {
    "duration": 393,
    "start_time": "2023-01-29T14:20:47.208Z"
   },
   {
    "duration": 6,
    "start_time": "2023-01-29T14:24:08.978Z"
   },
   {
    "duration": 5,
    "start_time": "2023-01-29T14:25:11.116Z"
   },
   {
    "duration": 5,
    "start_time": "2023-01-29T14:25:49.073Z"
   },
   {
    "duration": 5,
    "start_time": "2023-01-29T14:26:34.976Z"
   },
   {
    "duration": 5,
    "start_time": "2023-01-29T14:27:19.592Z"
   },
   {
    "duration": 60,
    "start_time": "2023-01-29T14:32:15.886Z"
   },
   {
    "duration": 96,
    "start_time": "2023-01-29T14:32:26.550Z"
   },
   {
    "duration": 4,
    "start_time": "2023-01-29T14:34:06.374Z"
   },
   {
    "duration": 4,
    "start_time": "2023-01-29T14:36:00.350Z"
   },
   {
    "duration": 4,
    "start_time": "2023-01-29T14:38:51.159Z"
   },
   {
    "duration": 5,
    "start_time": "2023-01-29T14:39:01.345Z"
   },
   {
    "duration": 4,
    "start_time": "2023-01-29T14:43:10.304Z"
   },
   {
    "duration": 9,
    "start_time": "2023-01-29T14:43:31.769Z"
   },
   {
    "duration": 8,
    "start_time": "2023-01-29T14:43:38.273Z"
   },
   {
    "duration": 11,
    "start_time": "2023-01-29T14:44:02.680Z"
   },
   {
    "duration": 8,
    "start_time": "2023-01-29T14:44:07.957Z"
   },
   {
    "duration": 7,
    "start_time": "2023-01-29T14:44:20.264Z"
   },
   {
    "duration": 1021,
    "start_time": "2023-01-29T14:45:19.558Z"
   },
   {
    "duration": 383,
    "start_time": "2023-01-29T14:45:20.581Z"
   },
   {
    "duration": 50,
    "start_time": "2023-01-29T14:45:20.966Z"
   },
   {
    "duration": 129,
    "start_time": "2023-01-29T14:45:21.018Z"
   },
   {
    "duration": 96,
    "start_time": "2023-01-29T14:45:21.150Z"
   },
   {
    "duration": 17,
    "start_time": "2023-01-29T14:45:21.248Z"
   },
   {
    "duration": 8,
    "start_time": "2023-01-29T14:45:54.176Z"
   },
   {
    "duration": 7,
    "start_time": "2023-01-29T14:46:05.455Z"
   },
   {
    "duration": 8,
    "start_time": "2023-01-29T14:47:21.262Z"
   },
   {
    "duration": 7,
    "start_time": "2023-01-29T14:48:38.858Z"
   },
   {
    "duration": 7,
    "start_time": "2023-01-29T14:48:50.678Z"
   },
   {
    "duration": 13,
    "start_time": "2023-01-29T14:51:05.965Z"
   },
   {
    "duration": 14,
    "start_time": "2023-01-29T14:56:39.791Z"
   },
   {
    "duration": 15,
    "start_time": "2023-01-29T14:57:06.986Z"
   },
   {
    "duration": 98,
    "start_time": "2023-01-29T15:38:59.669Z"
   },
   {
    "duration": 3,
    "start_time": "2023-01-29T15:39:06.293Z"
   },
   {
    "duration": 1073,
    "start_time": "2023-01-29T15:39:11.508Z"
   },
   {
    "duration": 373,
    "start_time": "2023-01-29T15:39:12.583Z"
   },
   {
    "duration": 51,
    "start_time": "2023-01-29T15:39:12.957Z"
   },
   {
    "duration": 135,
    "start_time": "2023-01-29T15:39:13.010Z"
   },
   {
    "duration": 96,
    "start_time": "2023-01-29T15:39:13.147Z"
   },
   {
    "duration": 601,
    "start_time": "2023-01-29T15:39:13.245Z"
   },
   {
    "duration": 2680,
    "start_time": "2023-01-29T15:42:46.611Z"
   },
   {
    "duration": 89,
    "start_time": "2023-01-29T15:48:03.269Z"
   },
   {
    "duration": 10,
    "start_time": "2023-01-29T15:48:22.435Z"
   },
   {
    "duration": 9,
    "start_time": "2023-01-29T15:48:58.250Z"
   },
   {
    "duration": 6,
    "start_time": "2023-01-29T15:49:12.641Z"
   },
   {
    "duration": 2634,
    "start_time": "2023-01-29T15:49:14.952Z"
   },
   {
    "duration": 2666,
    "start_time": "2023-01-29T15:50:16.135Z"
   },
   {
    "duration": 7844,
    "start_time": "2023-01-29T15:51:21.206Z"
   },
   {
    "duration": 13,
    "start_time": "2023-01-29T16:06:25.938Z"
   },
   {
    "duration": 5,
    "start_time": "2023-01-29T16:06:33.079Z"
   },
   {
    "duration": 354,
    "start_time": "2023-01-29T16:06:35.760Z"
   },
   {
    "duration": 343,
    "start_time": "2023-01-29T16:06:57.584Z"
   },
   {
    "duration": 57,
    "start_time": "2023-01-29T18:32:32.999Z"
   },
   {
    "duration": 1204,
    "start_time": "2023-01-29T18:32:38.153Z"
   },
   {
    "duration": 1309,
    "start_time": "2023-01-29T18:32:39.360Z"
   },
   {
    "duration": 66,
    "start_time": "2023-01-29T18:32:40.671Z"
   },
   {
    "duration": 246,
    "start_time": "2023-01-29T18:32:40.739Z"
   },
   {
    "duration": 95,
    "start_time": "2023-01-29T18:32:40.989Z"
   },
   {
    "duration": 1421,
    "start_time": "2023-01-29T18:32:41.087Z"
   },
   {
    "duration": 1289,
    "start_time": "2023-01-29T18:34:01.844Z"
   },
   {
    "duration": 2310,
    "start_time": "2023-01-29T18:35:48.579Z"
   },
   {
    "duration": 145,
    "start_time": "2023-01-29T18:44:36.213Z"
   },
   {
    "duration": 448,
    "start_time": "2023-01-29T18:44:58.445Z"
   },
   {
    "duration": 463,
    "start_time": "2023-01-29T18:45:35.524Z"
   },
   {
    "duration": 1706,
    "start_time": "2023-01-29T18:45:53.859Z"
   },
   {
    "duration": 467,
    "start_time": "2023-01-29T18:46:27.179Z"
   },
   {
    "duration": 1806,
    "start_time": "2023-01-29T18:46:34.331Z"
   },
   {
    "duration": 15,
    "start_time": "2023-01-29T18:58:54.948Z"
   },
   {
    "duration": 26,
    "start_time": "2023-01-29T18:59:13.211Z"
   },
   {
    "duration": 28,
    "start_time": "2023-01-29T18:59:56.087Z"
   },
   {
    "duration": 27,
    "start_time": "2023-01-29T19:02:28.459Z"
   },
   {
    "duration": 1174,
    "start_time": "2023-01-29T19:02:37.729Z"
   },
   {
    "duration": 430,
    "start_time": "2023-01-29T19:02:38.905Z"
   },
   {
    "duration": 67,
    "start_time": "2023-01-29T19:02:39.337Z"
   },
   {
    "duration": 85,
    "start_time": "2023-01-29T19:02:39.406Z"
   },
   {
    "duration": 95,
    "start_time": "2023-01-29T19:02:39.493Z"
   },
   {
    "duration": 217,
    "start_time": "2023-01-29T19:02:39.591Z"
   },
   {
    "duration": 77,
    "start_time": "2023-01-29T19:05:20.069Z"
   },
   {
    "duration": 82,
    "start_time": "2023-01-29T19:05:37.646Z"
   },
   {
    "duration": 172,
    "start_time": "2023-01-29T19:05:40.614Z"
   },
   {
    "duration": 6,
    "start_time": "2023-01-29T19:05:43.944Z"
   },
   {
    "duration": 25,
    "start_time": "2023-01-29T19:05:46.095Z"
   },
   {
    "duration": 101,
    "start_time": "2023-01-29T19:07:43.392Z"
   },
   {
    "duration": 27,
    "start_time": "2023-01-29T19:09:29.342Z"
   },
   {
    "duration": 156,
    "start_time": "2023-01-29T19:15:51.439Z"
   },
   {
    "duration": 307,
    "start_time": "2023-01-29T19:17:46.782Z"
   },
   {
    "duration": 192,
    "start_time": "2023-01-29T19:19:35.813Z"
   },
   {
    "duration": 63,
    "start_time": "2023-01-29T19:20:40.127Z"
   },
   {
    "duration": 368,
    "start_time": "2023-01-29T19:23:33.363Z"
   },
   {
    "duration": 296,
    "start_time": "2023-01-29T19:23:52.219Z"
   },
   {
    "duration": 247,
    "start_time": "2023-01-29T19:24:06.546Z"
   },
   {
    "duration": 454,
    "start_time": "2023-01-29T19:24:54.610Z"
   },
   {
    "duration": 423,
    "start_time": "2023-01-29T19:25:20.579Z"
   },
   {
    "duration": 1205,
    "start_time": "2023-01-29T19:25:29.306Z"
   },
   {
    "duration": 423,
    "start_time": "2023-01-29T19:25:45.163Z"
   },
   {
    "duration": 75,
    "start_time": "2023-01-29T19:27:01.138Z"
   },
   {
    "duration": 58,
    "start_time": "2023-01-29T19:27:07.321Z"
   },
   {
    "duration": 55,
    "start_time": "2023-01-29T19:27:40.856Z"
   },
   {
    "duration": 226,
    "start_time": "2023-01-29T19:28:47.297Z"
   },
   {
    "duration": 241,
    "start_time": "2023-01-29T19:34:58.246Z"
   },
   {
    "duration": 237,
    "start_time": "2023-01-29T19:35:23.254Z"
   },
   {
    "duration": 147,
    "start_time": "2023-01-29T19:36:39.749Z"
   },
   {
    "duration": 17,
    "start_time": "2023-01-29T19:38:59.220Z"
   },
   {
    "duration": 20,
    "start_time": "2023-01-29T19:41:15.218Z"
   },
   {
    "duration": 18,
    "start_time": "2023-01-29T19:41:56.810Z"
   },
   {
    "duration": 394,
    "start_time": "2023-01-29T19:42:43.642Z"
   },
   {
    "duration": 222,
    "start_time": "2023-01-29T19:43:10.265Z"
   },
   {
    "duration": 169,
    "start_time": "2023-01-29T19:45:40.224Z"
   },
   {
    "duration": 278,
    "start_time": "2023-01-29T19:50:29.607Z"
   },
   {
    "duration": 134,
    "start_time": "2023-01-29T19:50:55.756Z"
   },
   {
    "duration": 177,
    "start_time": "2023-01-29T19:51:32.109Z"
   },
   {
    "duration": 385,
    "start_time": "2023-01-29T19:51:37.668Z"
   },
   {
    "duration": 17,
    "start_time": "2023-01-29T20:07:41.875Z"
   },
   {
    "duration": 18,
    "start_time": "2023-01-29T20:07:52.107Z"
   },
   {
    "duration": 19,
    "start_time": "2023-01-29T20:08:02.619Z"
   },
   {
    "duration": 19,
    "start_time": "2023-01-29T20:08:17.643Z"
   },
   {
    "duration": 50,
    "start_time": "2023-01-29T20:08:47.973Z"
   },
   {
    "duration": 17,
    "start_time": "2023-01-29T20:09:33.498Z"
   },
   {
    "duration": 8,
    "start_time": "2023-01-29T20:09:49.153Z"
   },
   {
    "duration": 14,
    "start_time": "2023-01-29T20:12:01.777Z"
   },
   {
    "duration": 4320,
    "start_time": "2023-01-29T20:12:33.793Z"
   },
   {
    "duration": 12,
    "start_time": "2023-01-29T20:14:14.720Z"
   },
   {
    "duration": 4920,
    "start_time": "2023-01-29T20:14:17.199Z"
   },
   {
    "duration": 10,
    "start_time": "2023-01-29T20:16:02.790Z"
   },
   {
    "duration": 4589,
    "start_time": "2023-01-29T20:16:04.918Z"
   },
   {
    "duration": 13,
    "start_time": "2023-01-29T20:17:18.390Z"
   },
   {
    "duration": 14,
    "start_time": "2023-01-29T20:17:42.758Z"
   },
   {
    "duration": 11,
    "start_time": "2023-01-29T20:18:33.605Z"
   },
   {
    "duration": 11,
    "start_time": "2023-01-29T20:18:43.461Z"
   },
   {
    "duration": 11,
    "start_time": "2023-01-29T20:19:18.869Z"
   },
   {
    "duration": 5994,
    "start_time": "2023-01-29T20:19:36.900Z"
   },
   {
    "duration": 10,
    "start_time": "2023-01-29T20:19:53.676Z"
   },
   {
    "duration": 4659,
    "start_time": "2023-01-29T20:19:55.773Z"
   },
   {
    "duration": 12,
    "start_time": "2023-01-29T20:38:27.634Z"
   },
   {
    "duration": 11,
    "start_time": "2023-01-29T20:38:48.188Z"
   },
   {
    "duration": 7,
    "start_time": "2023-01-29T20:38:57.673Z"
   },
   {
    "duration": 12,
    "start_time": "2023-01-29T20:39:47.570Z"
   },
   {
    "duration": 5,
    "start_time": "2023-01-29T20:51:22.165Z"
   },
   {
    "duration": 241,
    "start_time": "2023-01-29T20:51:27.045Z"
   },
   {
    "duration": 39,
    "start_time": "2023-01-29T20:51:40.149Z"
   },
   {
    "duration": 1066,
    "start_time": "2023-01-30T10:15:18.331Z"
   },
   {
    "duration": 938,
    "start_time": "2023-01-30T10:15:19.399Z"
   },
   {
    "duration": 65,
    "start_time": "2023-01-30T10:15:20.339Z"
   },
   {
    "duration": 303,
    "start_time": "2023-01-30T10:15:26.084Z"
   },
   {
    "duration": 74,
    "start_time": "2023-01-30T10:15:47.833Z"
   },
   {
    "duration": 9,
    "start_time": "2023-01-30T10:16:05.308Z"
   },
   {
    "duration": 5,
    "start_time": "2023-01-30T10:16:26.996Z"
   },
   {
    "duration": 9,
    "start_time": "2023-01-30T10:23:21.371Z"
   },
   {
    "duration": 14,
    "start_time": "2023-01-30T10:24:27.075Z"
   },
   {
    "duration": 12,
    "start_time": "2023-01-30T10:24:50.553Z"
   },
   {
    "duration": 22,
    "start_time": "2023-01-30T10:24:57.189Z"
   },
   {
    "duration": 19,
    "start_time": "2023-01-30T10:27:50.168Z"
   },
   {
    "duration": 15,
    "start_time": "2023-01-30T10:32:33.028Z"
   },
   {
    "duration": 3152,
    "start_time": "2023-01-30T10:32:35.492Z"
   },
   {
    "duration": 4,
    "start_time": "2023-01-30T10:33:28.170Z"
   },
   {
    "duration": 2860,
    "start_time": "2023-01-30T10:33:32.900Z"
   },
   {
    "duration": 2947,
    "start_time": "2023-01-30T10:37:12.771Z"
   },
   {
    "duration": 2932,
    "start_time": "2023-01-30T10:37:54.291Z"
   },
   {
    "duration": 2832,
    "start_time": "2023-01-30T10:44:33.059Z"
   },
   {
    "duration": 3251,
    "start_time": "2023-01-30T10:45:20.931Z"
   },
   {
    "duration": 2939,
    "start_time": "2023-01-30T10:45:44.308Z"
   },
   {
    "duration": 2898,
    "start_time": "2023-01-30T10:45:52.187Z"
   },
   {
    "duration": 2792,
    "start_time": "2023-01-30T10:46:01.436Z"
   },
   {
    "duration": 2918,
    "start_time": "2023-01-30T10:48:16.124Z"
   },
   {
    "duration": 488,
    "start_time": "2023-01-30T13:22:31.402Z"
   },
   {
    "duration": 53,
    "start_time": "2023-01-31T06:30:37.308Z"
   },
   {
    "duration": 1025,
    "start_time": "2023-01-31T06:30:42.939Z"
   },
   {
    "duration": 1067,
    "start_time": "2023-01-31T06:30:43.970Z"
   },
   {
    "duration": 71,
    "start_time": "2023-01-31T06:30:45.038Z"
   },
   {
    "duration": 182,
    "start_time": "2023-01-31T06:30:45.111Z"
   },
   {
    "duration": 4,
    "start_time": "2023-01-31T06:30:45.295Z"
   },
   {
    "duration": 28,
    "start_time": "2023-01-31T06:30:45.301Z"
   },
   {
    "duration": 2582,
    "start_time": "2023-01-31T06:30:45.331Z"
   },
   {
    "duration": 1191,
    "start_time": "2023-01-31T08:49:16.532Z"
   },
   {
    "duration": 14843,
    "start_time": "2023-01-31T08:49:40.172Z"
   },
   {
    "duration": 1845,
    "start_time": "2023-01-31T08:50:20.174Z"
   },
   {
    "duration": 515,
    "start_time": "2023-01-31T08:50:54.469Z"
   },
   {
    "duration": 497,
    "start_time": "2023-01-31T08:51:01.437Z"
   },
   {
    "duration": 9420,
    "start_time": "2023-01-31T08:51:10.045Z"
   },
   {
    "duration": 69,
    "start_time": "2023-01-31T09:01:52.726Z"
   },
   {
    "duration": 70,
    "start_time": "2023-01-31T09:02:48.422Z"
   },
   {
    "duration": 73,
    "start_time": "2023-01-31T09:04:37.396Z"
   },
   {
    "duration": 62,
    "start_time": "2023-01-31T09:05:07.324Z"
   },
   {
    "duration": 62,
    "start_time": "2023-01-31T09:05:32.212Z"
   },
   {
    "duration": 60,
    "start_time": "2023-01-31T09:06:29.723Z"
   },
   {
    "duration": 60,
    "start_time": "2023-01-31T09:06:50.739Z"
   },
   {
    "duration": 395,
    "start_time": "2023-01-31T09:14:23.313Z"
   },
   {
    "duration": 393,
    "start_time": "2023-01-31T09:15:01.001Z"
   },
   {
    "duration": 79,
    "start_time": "2023-01-31T09:20:30.577Z"
   },
   {
    "duration": 12,
    "start_time": "2023-01-31T09:20:39.160Z"
   },
   {
    "duration": 381,
    "start_time": "2023-01-31T10:17:19.417Z"
   },
   {
    "duration": 396,
    "start_time": "2023-01-31T10:17:27.625Z"
   },
   {
    "duration": 426,
    "start_time": "2023-01-31T10:19:15.624Z"
   },
   {
    "duration": 386,
    "start_time": "2023-01-31T10:24:07.000Z"
   },
   {
    "duration": 417,
    "start_time": "2023-01-31T10:24:23.256Z"
   },
   {
    "duration": 413,
    "start_time": "2023-01-31T10:24:36.896Z"
   },
   {
    "duration": 424,
    "start_time": "2023-01-31T10:27:01.776Z"
   },
   {
    "duration": 372,
    "start_time": "2023-01-31T10:28:33.984Z"
   },
   {
    "duration": 356,
    "start_time": "2023-01-31T10:33:50.599Z"
   },
   {
    "duration": 382,
    "start_time": "2023-01-31T10:34:14.839Z"
   },
   {
    "duration": 383,
    "start_time": "2023-01-31T10:34:22.976Z"
   },
   {
    "duration": 24,
    "start_time": "2023-01-31T10:50:26.677Z"
   },
   {
    "duration": 26,
    "start_time": "2023-01-31T10:51:36.777Z"
   },
   {
    "duration": 40,
    "start_time": "2023-01-31T10:52:24.367Z"
   },
   {
    "duration": 53,
    "start_time": "2023-01-31T10:53:03.720Z"
   },
   {
    "duration": 71,
    "start_time": "2023-01-31T10:53:24.057Z"
   },
   {
    "duration": 55,
    "start_time": "2023-01-31T10:57:26.392Z"
   },
   {
    "duration": 52,
    "start_time": "2023-01-31T10:57:44.240Z"
   },
   {
    "duration": 65,
    "start_time": "2023-01-31T11:00:09.335Z"
   },
   {
    "duration": 379,
    "start_time": "2023-01-31T11:27:33.440Z"
   },
   {
    "duration": 13,
    "start_time": "2023-01-31T11:28:04.410Z"
   },
   {
    "duration": 26,
    "start_time": "2023-01-31T11:28:21.555Z"
   },
   {
    "duration": 393,
    "start_time": "2023-01-31T11:29:06.444Z"
   },
   {
    "duration": 373,
    "start_time": "2023-01-31T11:29:15.219Z"
   },
   {
    "duration": 348,
    "start_time": "2023-01-31T11:29:29.243Z"
   },
   {
    "duration": 45,
    "start_time": "2023-01-31T11:29:33.212Z"
   },
   {
    "duration": 324,
    "start_time": "2023-01-31T11:30:47.228Z"
   },
   {
    "duration": 127,
    "start_time": "2023-01-31T11:30:59.724Z"
   },
   {
    "duration": 302,
    "start_time": "2023-01-31T11:31:24.748Z"
   },
   {
    "duration": 77,
    "start_time": "2023-01-31T11:39:31.716Z"
   },
   {
    "duration": 229,
    "start_time": "2023-01-31T11:40:04.221Z"
   },
   {
    "duration": 207,
    "start_time": "2023-01-31T11:40:15.846Z"
   },
   {
    "duration": 47,
    "start_time": "2023-01-31T11:44:12.331Z"
   },
   {
    "duration": 54,
    "start_time": "2023-01-31T11:44:20.381Z"
   },
   {
    "duration": 1187,
    "start_time": "2023-01-31T11:50:37.086Z"
   },
   {
    "duration": 160,
    "start_time": "2023-01-31T11:50:56.894Z"
   },
   {
    "duration": 6,
    "start_time": "2023-01-31T11:51:49.294Z"
   },
   {
    "duration": 7,
    "start_time": "2023-01-31T12:14:05.021Z"
   },
   {
    "duration": 4,
    "start_time": "2023-01-31T12:14:16.397Z"
   },
   {
    "duration": 899,
    "start_time": "2023-01-31T12:14:19.176Z"
   },
   {
    "duration": 2752,
    "start_time": "2023-01-31T12:14:46.623Z"
   },
   {
    "duration": 4784,
    "start_time": "2023-01-31T12:23:54.867Z"
   },
   {
    "duration": 373,
    "start_time": "2023-01-31T12:23:59.653Z"
   },
   {
    "duration": 9102,
    "start_time": "2023-01-31T12:24:00.028Z"
   },
   {
    "duration": 7960,
    "start_time": "2023-01-31T12:24:09.132Z"
   },
   {
    "duration": 8636,
    "start_time": "2023-01-31T12:24:17.094Z"
   },
   {
    "duration": 55,
    "start_time": "2023-01-31T12:24:25.751Z"
   },
   {
    "duration": 341,
    "start_time": "2023-01-31T12:24:25.808Z"
   },
   {
    "duration": 98,
    "start_time": "2023-01-31T12:24:26.152Z"
   },
   {
    "duration": 28,
    "start_time": "2023-01-31T12:24:26.252Z"
   },
   {
    "duration": 2780,
    "start_time": "2023-01-31T12:24:26.282Z"
   },
   {
    "duration": 1388,
    "start_time": "2023-07-05T16:38:02.219Z"
   },
   {
    "duration": 3,
    "start_time": "2023-07-05T16:38:10.243Z"
   },
   {
    "duration": 1010,
    "start_time": "2023-07-05T16:38:11.472Z"
   },
   {
    "duration": 54,
    "start_time": "2023-07-05T16:38:13.844Z"
   },
   {
    "duration": 47,
    "start_time": "2023-07-05T16:38:14.747Z"
   },
   {
    "duration": 38,
    "start_time": "2023-07-05T16:38:15.516Z"
   }
  ],
  "kernelspec": {
   "display_name": "Python 3 (ipykernel)",
   "language": "python",
   "name": "python3"
  },
  "language_info": {
   "codemirror_mode": {
    "name": "ipython",
    "version": 3
   },
   "file_extension": ".py",
   "mimetype": "text/x-python",
   "name": "python",
   "nbconvert_exporter": "python",
   "pygments_lexer": "ipython3",
   "version": "3.9.5"
  },
  "toc": {
   "base_numbering": 1,
   "nav_menu": {},
   "number_sections": true,
   "sideBar": true,
   "skip_h1_title": true,
   "title_cell": "Table of Contents",
   "title_sidebar": "Contents",
   "toc_cell": false,
   "toc_position": {},
   "toc_section_display": true,
   "toc_window_display": false
  }
 },
 "nbformat": 4,
 "nbformat_minor": 2
}
