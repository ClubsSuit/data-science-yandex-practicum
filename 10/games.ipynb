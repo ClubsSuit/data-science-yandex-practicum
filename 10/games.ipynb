{
 "cells": [
  {
   "cell_type": "markdown",
   "metadata": {},
   "source": [
    "<div style=\"border:solid green 2px; padding: 20px\">\n",
    "<b>Дмитрий, привет!</b>\n",
    "\n",
    "Меня зовут Евгений Дащенко, и я буду проверять твой проект. Предлагаю общаться на «ты» 😊 Но если это не удобно - дай знать, и мы перейдем на \"вы\". \n",
    "\n",
    "Моя основная цель — не указать на совершенные тобою ошибки, а поделиться своим опытом и помочь тебе стать аналитиком данных. Ты уже проделал большую работу над проектом, но давай сделаем его еще лучше. Ниже ты найдешь мои комментарии - пожалуйста, не перемещай, не изменяй и не удаляй их. Я буду использовать цветовую разметку:\n",
    "\n",
    "<div class=\"alert alert-danger\">\n",
    "<b>Критическая ошибка: ❌</b> Так выделены самые важные замечания. Без их отработки проект не будет принят. </div>\n",
    "\n",
    "<div class=\"alert alert-warning\">\n",
    "<b>Хорошо, но можно и лучше: ❗️</b> Так выделены небольшие замечания. Одна-два таких замечания в проекте допустимы, но если их будет больше - тебе будет необходимо внести исправления. Это как тестовое задание при приеме на работу: очень много мелких ошибок могут стать причиной отказа кандидату. \n",
    "\n",
    "</div>\n",
    "\n",
    "<div class=\"alert alert-success\">\n",
    "<b>Все отлично: ✅</b> Так я выделяю все остальные комментарии.</div>\n",
    "\n",
    "Давай работать над проектом в диалоге: если ты что-то меняешь в проекте или отвечаешь на мои комменатри — пиши об этом. Мне будет легче отследить изменения, если ты выделишь свои комментарии:\n",
    "<div class=\"alert alert-info\"> <b>Комментарий студента: ℹ️</b> Например, вот так.</div>\n",
    "\n",
    "Всё это поможет выполнить повторную проверку твоего проекта оперативнее. "
   ]
  },
  {
   "cell_type": "markdown",
   "metadata": {},
   "source": [
    "# Анализ"
   ]
  },
  {
   "cell_type": "markdown",
   "metadata": {},
   "source": [
    "В данном анализе необходимо выработать подходы работы с данными игровой индустрии. Для начала надо проести предобработку данных и далее провести исследовательский анализ. Табличка содержит следующие столбцы:\n",
    "\n",
    "* Name — название игры\n",
    "* Platform — платформа\n",
    "* Year_of_Release — год выпуска\n",
    "* Genre — жанр игры\n",
    "* NA_sales — продажи в Северной Америке (миллионы проданных копий)\n",
    "* EU_sales — продажи в Европе (миллионы проданных копий)\n",
    "* JP_sales — продажи в Японии (миллионы проданных копий)\n",
    "* Other_sales — продажи в других странах (миллионы проданных копий)\n",
    "* Critic_Score — оценка критиков (максимум 100)\n",
    "* User_Score — оценка пользователей (максимум 10)\n",
    "* Rating — рейтинг от организации ESRB (англ. Entertainment Software Rating Board). Эта ассоциация определяет рейтинг компьютерных игр и присваивает им подходящую возрастную категорию."
   ]
  },
  {
   "cell_type": "markdown",
   "metadata": {},
   "source": [
    "<div class=\"alert alert-warning\">\n",
    "<b>Комментарий ревьюера: ❗️</b>\n",
    "\n",
    "<s>Рекомендуется делать краткое вступление в работу и описание того, что планируешь сделать (если план у тебя уже сформирован), а также информацию о входных данных: какие столбцы есть в таблице, их названия и какую информацию они несут. Так работа станет выглядеть презентабельнее.\n",
    "\n",
    "</div>"
   ]
  },
  {
   "cell_type": "markdown",
   "metadata": {},
   "source": [
    "## Обзор данных"
   ]
  },
  {
   "cell_type": "markdown",
   "metadata": {},
   "source": [
    "Проведем анализ данных, для начала импортируем табличку и посмотрим на первые 10 строк проекта, сводную информацию о датасете, описание столбцов и первые графики."
   ]
  },
  {
   "cell_type": "code",
   "execution_count": 1,
   "metadata": {},
   "outputs": [
    {
     "data": {
      "text/html": [
       "<div>\n",
       "<style scoped>\n",
       "    .dataframe tbody tr th:only-of-type {\n",
       "        vertical-align: middle;\n",
       "    }\n",
       "\n",
       "    .dataframe tbody tr th {\n",
       "        vertical-align: top;\n",
       "    }\n",
       "\n",
       "    .dataframe thead th {\n",
       "        text-align: right;\n",
       "    }\n",
       "</style>\n",
       "<table border=\"1\" class=\"dataframe\">\n",
       "  <thead>\n",
       "    <tr style=\"text-align: right;\">\n",
       "      <th></th>\n",
       "      <th>Name</th>\n",
       "      <th>Platform</th>\n",
       "      <th>Year_of_Release</th>\n",
       "      <th>Genre</th>\n",
       "      <th>NA_sales</th>\n",
       "      <th>EU_sales</th>\n",
       "      <th>JP_sales</th>\n",
       "      <th>Other_sales</th>\n",
       "      <th>Critic_Score</th>\n",
       "      <th>User_Score</th>\n",
       "      <th>Rating</th>\n",
       "    </tr>\n",
       "  </thead>\n",
       "  <tbody>\n",
       "    <tr>\n",
       "      <th>0</th>\n",
       "      <td>Wii Sports</td>\n",
       "      <td>Wii</td>\n",
       "      <td>2006.0</td>\n",
       "      <td>Sports</td>\n",
       "      <td>41.36</td>\n",
       "      <td>28.96</td>\n",
       "      <td>3.77</td>\n",
       "      <td>8.45</td>\n",
       "      <td>76.0</td>\n",
       "      <td>8</td>\n",
       "      <td>E</td>\n",
       "    </tr>\n",
       "    <tr>\n",
       "      <th>1</th>\n",
       "      <td>Super Mario Bros.</td>\n",
       "      <td>NES</td>\n",
       "      <td>1985.0</td>\n",
       "      <td>Platform</td>\n",
       "      <td>29.08</td>\n",
       "      <td>3.58</td>\n",
       "      <td>6.81</td>\n",
       "      <td>0.77</td>\n",
       "      <td>NaN</td>\n",
       "      <td>NaN</td>\n",
       "      <td>NaN</td>\n",
       "    </tr>\n",
       "    <tr>\n",
       "      <th>2</th>\n",
       "      <td>Mario Kart Wii</td>\n",
       "      <td>Wii</td>\n",
       "      <td>2008.0</td>\n",
       "      <td>Racing</td>\n",
       "      <td>15.68</td>\n",
       "      <td>12.76</td>\n",
       "      <td>3.79</td>\n",
       "      <td>3.29</td>\n",
       "      <td>82.0</td>\n",
       "      <td>8.3</td>\n",
       "      <td>E</td>\n",
       "    </tr>\n",
       "    <tr>\n",
       "      <th>3</th>\n",
       "      <td>Wii Sports Resort</td>\n",
       "      <td>Wii</td>\n",
       "      <td>2009.0</td>\n",
       "      <td>Sports</td>\n",
       "      <td>15.61</td>\n",
       "      <td>10.93</td>\n",
       "      <td>3.28</td>\n",
       "      <td>2.95</td>\n",
       "      <td>80.0</td>\n",
       "      <td>8</td>\n",
       "      <td>E</td>\n",
       "    </tr>\n",
       "    <tr>\n",
       "      <th>4</th>\n",
       "      <td>Pokemon Red/Pokemon Blue</td>\n",
       "      <td>GB</td>\n",
       "      <td>1996.0</td>\n",
       "      <td>Role-Playing</td>\n",
       "      <td>11.27</td>\n",
       "      <td>8.89</td>\n",
       "      <td>10.22</td>\n",
       "      <td>1.00</td>\n",
       "      <td>NaN</td>\n",
       "      <td>NaN</td>\n",
       "      <td>NaN</td>\n",
       "    </tr>\n",
       "    <tr>\n",
       "      <th>5</th>\n",
       "      <td>Tetris</td>\n",
       "      <td>GB</td>\n",
       "      <td>1989.0</td>\n",
       "      <td>Puzzle</td>\n",
       "      <td>23.20</td>\n",
       "      <td>2.26</td>\n",
       "      <td>4.22</td>\n",
       "      <td>0.58</td>\n",
       "      <td>NaN</td>\n",
       "      <td>NaN</td>\n",
       "      <td>NaN</td>\n",
       "    </tr>\n",
       "    <tr>\n",
       "      <th>6</th>\n",
       "      <td>New Super Mario Bros.</td>\n",
       "      <td>DS</td>\n",
       "      <td>2006.0</td>\n",
       "      <td>Platform</td>\n",
       "      <td>11.28</td>\n",
       "      <td>9.14</td>\n",
       "      <td>6.50</td>\n",
       "      <td>2.88</td>\n",
       "      <td>89.0</td>\n",
       "      <td>8.5</td>\n",
       "      <td>E</td>\n",
       "    </tr>\n",
       "    <tr>\n",
       "      <th>7</th>\n",
       "      <td>Wii Play</td>\n",
       "      <td>Wii</td>\n",
       "      <td>2006.0</td>\n",
       "      <td>Misc</td>\n",
       "      <td>13.96</td>\n",
       "      <td>9.18</td>\n",
       "      <td>2.93</td>\n",
       "      <td>2.84</td>\n",
       "      <td>58.0</td>\n",
       "      <td>6.6</td>\n",
       "      <td>E</td>\n",
       "    </tr>\n",
       "    <tr>\n",
       "      <th>8</th>\n",
       "      <td>New Super Mario Bros. Wii</td>\n",
       "      <td>Wii</td>\n",
       "      <td>2009.0</td>\n",
       "      <td>Platform</td>\n",
       "      <td>14.44</td>\n",
       "      <td>6.94</td>\n",
       "      <td>4.70</td>\n",
       "      <td>2.24</td>\n",
       "      <td>87.0</td>\n",
       "      <td>8.4</td>\n",
       "      <td>E</td>\n",
       "    </tr>\n",
       "    <tr>\n",
       "      <th>9</th>\n",
       "      <td>Duck Hunt</td>\n",
       "      <td>NES</td>\n",
       "      <td>1984.0</td>\n",
       "      <td>Shooter</td>\n",
       "      <td>26.93</td>\n",
       "      <td>0.63</td>\n",
       "      <td>0.28</td>\n",
       "      <td>0.47</td>\n",
       "      <td>NaN</td>\n",
       "      <td>NaN</td>\n",
       "      <td>NaN</td>\n",
       "    </tr>\n",
       "  </tbody>\n",
       "</table>\n",
       "</div>"
      ],
      "text/plain": [
       "                        Name Platform  Year_of_Release         Genre  \\\n",
       "0                 Wii Sports      Wii           2006.0        Sports   \n",
       "1          Super Mario Bros.      NES           1985.0      Platform   \n",
       "2             Mario Kart Wii      Wii           2008.0        Racing   \n",
       "3          Wii Sports Resort      Wii           2009.0        Sports   \n",
       "4   Pokemon Red/Pokemon Blue       GB           1996.0  Role-Playing   \n",
       "5                     Tetris       GB           1989.0        Puzzle   \n",
       "6      New Super Mario Bros.       DS           2006.0      Platform   \n",
       "7                   Wii Play      Wii           2006.0          Misc   \n",
       "8  New Super Mario Bros. Wii      Wii           2009.0      Platform   \n",
       "9                  Duck Hunt      NES           1984.0       Shooter   \n",
       "\n",
       "   NA_sales  EU_sales  JP_sales  Other_sales  Critic_Score User_Score Rating  \n",
       "0     41.36     28.96      3.77         8.45          76.0          8      E  \n",
       "1     29.08      3.58      6.81         0.77           NaN        NaN    NaN  \n",
       "2     15.68     12.76      3.79         3.29          82.0        8.3      E  \n",
       "3     15.61     10.93      3.28         2.95          80.0          8      E  \n",
       "4     11.27      8.89     10.22         1.00           NaN        NaN    NaN  \n",
       "5     23.20      2.26      4.22         0.58           NaN        NaN    NaN  \n",
       "6     11.28      9.14      6.50         2.88          89.0        8.5      E  \n",
       "7     13.96      9.18      2.93         2.84          58.0        6.6      E  \n",
       "8     14.44      6.94      4.70         2.24          87.0        8.4      E  \n",
       "9     26.93      0.63      0.28         0.47           NaN        NaN    NaN  "
      ]
     },
     "execution_count": 1,
     "metadata": {},
     "output_type": "execute_result"
    }
   ],
   "source": [
    "import pandas as pd\n",
    "import numpy as np\n",
    "import matplotlib.pyplot as plt\n",
    "import seaborn as sns\n",
    "from scipy import stats as st\n",
    "\n",
    "df = pd.read_csv('/datasets/games.csv')\n",
    "df.head(10)"
   ]
  },
  {
   "cell_type": "code",
   "execution_count": 2,
   "metadata": {},
   "outputs": [
    {
     "name": "stdout",
     "output_type": "stream",
     "text": [
      "<class 'pandas.core.frame.DataFrame'>\n",
      "RangeIndex: 16715 entries, 0 to 16714\n",
      "Data columns (total 11 columns):\n",
      " #   Column           Non-Null Count  Dtype  \n",
      "---  ------           --------------  -----  \n",
      " 0   Name             16713 non-null  object \n",
      " 1   Platform         16715 non-null  object \n",
      " 2   Year_of_Release  16446 non-null  float64\n",
      " 3   Genre            16713 non-null  object \n",
      " 4   NA_sales         16715 non-null  float64\n",
      " 5   EU_sales         16715 non-null  float64\n",
      " 6   JP_sales         16715 non-null  float64\n",
      " 7   Other_sales      16715 non-null  float64\n",
      " 8   Critic_Score     8137 non-null   float64\n",
      " 9   User_Score       10014 non-null  object \n",
      " 10  Rating           9949 non-null   object \n",
      "dtypes: float64(6), object(5)\n",
      "memory usage: 1.4+ MB\n"
     ]
    }
   ],
   "source": [
    "df.info()"
   ]
  },
  {
   "cell_type": "code",
   "execution_count": 3,
   "metadata": {},
   "outputs": [
    {
     "data": {
      "text/html": [
       "<div>\n",
       "<style scoped>\n",
       "    .dataframe tbody tr th:only-of-type {\n",
       "        vertical-align: middle;\n",
       "    }\n",
       "\n",
       "    .dataframe tbody tr th {\n",
       "        vertical-align: top;\n",
       "    }\n",
       "\n",
       "    .dataframe thead th {\n",
       "        text-align: right;\n",
       "    }\n",
       "</style>\n",
       "<table border=\"1\" class=\"dataframe\">\n",
       "  <thead>\n",
       "    <tr style=\"text-align: right;\">\n",
       "      <th></th>\n",
       "      <th>count</th>\n",
       "      <th>mean</th>\n",
       "      <th>std</th>\n",
       "      <th>min</th>\n",
       "      <th>25%</th>\n",
       "      <th>50%</th>\n",
       "      <th>75%</th>\n",
       "      <th>max</th>\n",
       "    </tr>\n",
       "  </thead>\n",
       "  <tbody>\n",
       "    <tr>\n",
       "      <th>Year_of_Release</th>\n",
       "      <td>16446.0</td>\n",
       "      <td>2006.484616</td>\n",
       "      <td>5.877050</td>\n",
       "      <td>1980.0</td>\n",
       "      <td>2003.0</td>\n",
       "      <td>2007.00</td>\n",
       "      <td>2010.00</td>\n",
       "      <td>2016.00</td>\n",
       "    </tr>\n",
       "    <tr>\n",
       "      <th>NA_sales</th>\n",
       "      <td>16715.0</td>\n",
       "      <td>0.263377</td>\n",
       "      <td>0.813604</td>\n",
       "      <td>0.0</td>\n",
       "      <td>0.0</td>\n",
       "      <td>0.08</td>\n",
       "      <td>0.24</td>\n",
       "      <td>41.36</td>\n",
       "    </tr>\n",
       "    <tr>\n",
       "      <th>EU_sales</th>\n",
       "      <td>16715.0</td>\n",
       "      <td>0.145060</td>\n",
       "      <td>0.503339</td>\n",
       "      <td>0.0</td>\n",
       "      <td>0.0</td>\n",
       "      <td>0.02</td>\n",
       "      <td>0.11</td>\n",
       "      <td>28.96</td>\n",
       "    </tr>\n",
       "    <tr>\n",
       "      <th>JP_sales</th>\n",
       "      <td>16715.0</td>\n",
       "      <td>0.077617</td>\n",
       "      <td>0.308853</td>\n",
       "      <td>0.0</td>\n",
       "      <td>0.0</td>\n",
       "      <td>0.00</td>\n",
       "      <td>0.04</td>\n",
       "      <td>10.22</td>\n",
       "    </tr>\n",
       "    <tr>\n",
       "      <th>Other_sales</th>\n",
       "      <td>16715.0</td>\n",
       "      <td>0.047342</td>\n",
       "      <td>0.186731</td>\n",
       "      <td>0.0</td>\n",
       "      <td>0.0</td>\n",
       "      <td>0.01</td>\n",
       "      <td>0.03</td>\n",
       "      <td>10.57</td>\n",
       "    </tr>\n",
       "    <tr>\n",
       "      <th>Critic_Score</th>\n",
       "      <td>8137.0</td>\n",
       "      <td>68.967679</td>\n",
       "      <td>13.938165</td>\n",
       "      <td>13.0</td>\n",
       "      <td>60.0</td>\n",
       "      <td>71.00</td>\n",
       "      <td>79.00</td>\n",
       "      <td>98.00</td>\n",
       "    </tr>\n",
       "  </tbody>\n",
       "</table>\n",
       "</div>"
      ],
      "text/plain": [
       "                   count         mean        std     min     25%      50%  \\\n",
       "Year_of_Release  16446.0  2006.484616   5.877050  1980.0  2003.0  2007.00   \n",
       "NA_sales         16715.0     0.263377   0.813604     0.0     0.0     0.08   \n",
       "EU_sales         16715.0     0.145060   0.503339     0.0     0.0     0.02   \n",
       "JP_sales         16715.0     0.077617   0.308853     0.0     0.0     0.00   \n",
       "Other_sales      16715.0     0.047342   0.186731     0.0     0.0     0.01   \n",
       "Critic_Score      8137.0    68.967679  13.938165    13.0    60.0    71.00   \n",
       "\n",
       "                     75%      max  \n",
       "Year_of_Release  2010.00  2016.00  \n",
       "NA_sales            0.24    41.36  \n",
       "EU_sales            0.11    28.96  \n",
       "JP_sales            0.04    10.22  \n",
       "Other_sales         0.03    10.57  \n",
       "Critic_Score       79.00    98.00  "
      ]
     },
     "execution_count": 3,
     "metadata": {},
     "output_type": "execute_result"
    }
   ],
   "source": [
    "df.describe().T"
   ]
  },
  {
   "cell_type": "markdown",
   "metadata": {},
   "source": [
    "По первой информации видно, что в таблице есть пропуски данных, неправильные названия столбцов, неправильный тип данных столбца."
   ]
  },
  {
   "cell_type": "markdown",
   "metadata": {},
   "source": [
    "<div class=\"alert alert-success\">\n",
    "<b>Комментарий ревьюера: ✅</b>\n",
    "\n",
    "Классный способ сделать таблицу более читабельной 👍\n",
    "</div>"
   ]
  },
  {
   "cell_type": "markdown",
   "metadata": {},
   "source": [
    "## Преддобработка данных"
   ]
  },
  {
   "cell_type": "markdown",
   "metadata": {},
   "source": [
    "### Общее"
   ]
  },
  {
   "cell_type": "markdown",
   "metadata": {},
   "source": [
    "Сначала изменим названия столбцов, сделаем их прописными буквами."
   ]
  },
  {
   "cell_type": "code",
   "execution_count": 4,
   "metadata": {},
   "outputs": [],
   "source": [
    "df.columns = df.columns.str.lower()"
   ]
  },
  {
   "cell_type": "markdown",
   "metadata": {},
   "source": [
    "<div class=\"alert alert-success\">\n",
    "<b>Комментарий ревьюера: ✅</b>\n",
    "\n",
    "Первичные данные посмотрели, давай теперь их обработаем, ведь у нас есть план 😊. \n",
    "</div>"
   ]
  },
  {
   "cell_type": "markdown",
   "metadata": {},
   "source": [
    "### Столбец name"
   ]
  },
  {
   "cell_type": "markdown",
   "metadata": {},
   "source": [
    "\n",
    "Данный столбец содержит всего 2 пропуска и потому заполним эти пробелы словом 'unknown'. Разработчики могли просто не предумать название своей игре."
   ]
  },
  {
   "cell_type": "code",
   "execution_count": 5,
   "metadata": {},
   "outputs": [],
   "source": [
    "df.loc[df['name'].isna(), 'name'] = 'unknown'"
   ]
  },
  {
   "cell_type": "markdown",
   "metadata": {},
   "source": [
    "### Столбец platform"
   ]
  },
  {
   "cell_type": "markdown",
   "metadata": {},
   "source": [
    "\n",
    "Данный столбец не содержит пропусков."
   ]
  },
  {
   "cell_type": "markdown",
   "metadata": {},
   "source": [
    "### Столбец genre"
   ]
  },
  {
   "cell_type": "markdown",
   "metadata": {},
   "source": [
    "\n",
    "Столбец содержит 2 пропуска их заменим словом 'unknown' также. Разработчики не смогли определить жанр своей игры."
   ]
  },
  {
   "cell_type": "code",
   "execution_count": 6,
   "metadata": {},
   "outputs": [],
   "source": [
    "df.loc[df['genre'].isna(), 'genre'] = 'unknown'"
   ]
  },
  {
   "cell_type": "markdown",
   "metadata": {},
   "source": [
    "<div class=\"alert alert-success\">\n",
    "<b>Комментарий ревьюера: ✅</b>\n",
    "\n",
    "Для замен значений здесь и выше, думаю отлично подошел бы цикл `for`.\n",
    "</div>"
   ]
  },
  {
   "cell_type": "markdown",
   "metadata": {},
   "source": [
    "### Столбцы na_sales, eu_sales, jp_sales, other_sales"
   ]
  },
  {
   "cell_type": "markdown",
   "metadata": {},
   "source": [
    "\n",
    "Данные этих столбцов не содержат пропусков."
   ]
  },
  {
   "cell_type": "markdown",
   "metadata": {},
   "source": [
    "\n",
    "### Столбец year_of_release\n",
    "\n",
    "Данный столбец во-первых типа float, изменим на int, так как год - натуральное число."
   ]
  },
  {
   "cell_type": "code",
   "execution_count": 7,
   "metadata": {},
   "outputs": [],
   "source": [
    "df['year_of_release'] = df['year_of_release'].astype('Int64')"
   ]
  },
  {
   "cell_type": "markdown",
   "metadata": {},
   "source": [
    "Добавим строки с пропуском года выпуска в отфильтрованные значения. Пропуски заменим значением 1, в дальнейшем исследовании всегда можно будет понять, что 1 является пропуском и исключить из рассмотрения."
   ]
  },
  {
   "cell_type": "code",
   "execution_count": 8,
   "metadata": {},
   "outputs": [],
   "source": [
    "df['filter'] = True\n",
    "df.loc[df.year_of_release.isna(), 'filter'] = False\n",
    "df.loc[df.year_of_release.isna(), 'year_of_release'] = 1"
   ]
  },
  {
   "cell_type": "markdown",
   "metadata": {},
   "source": [
    "Далее обработаем пропуски. Возможно часть пропусков связана с тем что есть запись об игре вышедшей на одной платформе, а на другой платформе год уже не стали указывать. Хотя и технические ошибки тоже возможны."
   ]
  },
  {
   "cell_type": "markdown",
   "metadata": {},
   "source": [
    "<div class=\"alert alert-danger\">\n",
    "<b>Комментарий ревьюера: ❌</b>\n",
    "\n",
    "<s>Поправь пожалуйста ошибку в коде, чтобы я смог проверить проект дальше.\n",
    "    \n",
    "Рекомендую перед отправкой проекта запустить весь проект целиком, чтобы не возникло дополнительных ошибок.\n",
    "    \n",
    "</div>"
   ]
  },
  {
   "cell_type": "markdown",
   "metadata": {},
   "source": [
    "<div class=\"alert alert-info\"> Я работал в VS Code, но не в тренажере. Возможно разные версии библиотек, потому как у меня всё отработало без ошибок. В дальнейшем буду переносить в тренажер и потом отправлять на проверку, тк кнопка \"загрузить\" и отправить минует тренажер.</div>"
   ]
  },
  {
   "cell_type": "markdown",
   "metadata": {},
   "source": [
    "<div class=\"alert alert-success\">\n",
    "<b>Комментарий ревьюера (2): ✅</b>\n",
    "\n",
    "Так и подумал, что проблема с версиями 😊, попробую тогда без запуска написать свои комментарии.    \n",
    "    \n",
    "</div>"
   ]
  },
  {
   "cell_type": "markdown",
   "metadata": {},
   "source": [
    "Далее заполним ячейки года выпуска игры, год выхода той же игры, но на другой платформе."
   ]
  },
  {
   "cell_type": "code",
   "execution_count": 9,
   "metadata": {},
   "outputs": [],
   "source": [
    "temp = pd.pivot_table(df, values='year_of_release', \n",
    "                                        index='name', \n",
    "                                        aggfunc='first').reset_index().rename({'year_of_release': 'same_year_of_release'}, axis=1)\n",
    "\n",
    "df = df.merge(temp, on='name', how='left')\n",
    "df.loc[df.year_of_release.isna() & (~df.same_year_of_release.isna()), 'year_of_release'] = df['same_year_of_release']\n",
    "df.drop(columns=['same_year_of_release'], inplace=True)"
   ]
  },
  {
   "cell_type": "markdown",
   "metadata": {},
   "source": [
    "### Столбец critic_score"
   ]
  },
  {
   "cell_type": "markdown",
   "metadata": {},
   "source": [
    "Пропуски заменим значением -1, в дальнейшем исследовании всегда можно будет понять, что 1 является пропуском и исключить из рассмотрения:"
   ]
  },
  {
   "cell_type": "code",
   "execution_count": 10,
   "metadata": {},
   "outputs": [],
   "source": [
    "df.loc[df.critic_score.isna(), 'filter'] = False\n",
    "df.loc[df.critic_score.isna(), 'critic_score'] = -1"
   ]
  },
  {
   "cell_type": "markdown",
   "metadata": {},
   "source": [
    "\n",
    "Этот столбец содержит как пропуски так и неправильный тип данных, нужно сделать Int, так как все оценки это натуральные числа. Пропуски заполним таким же способом как и год выхода только заполнять будем медианой."
   ]
  },
  {
   "cell_type": "code",
   "execution_count": 11,
   "metadata": {},
   "outputs": [],
   "source": [
    "temp = pd.pivot_table(df, values='critic_score', \n",
    "                                        index='name', \n",
    "                                        aggfunc='median').reset_index().rename({'critic_score': 'same_critic_score'}, axis=1)\n",
    "\n",
    "df = df.merge(temp, on='name', how='left')\n",
    "df.loc[df.critic_score.isna() & (~df.same_critic_score.isna()), 'critic_score'] = df['same_critic_score']\n",
    "df.drop(columns=['same_critic_score'], inplace=True)\n",
    "df['critic_score'] = np.ceil(df['critic_score']).astype('Int64')"
   ]
  },
  {
   "cell_type": "markdown",
   "metadata": {},
   "source": [
    "<div class=\"alert alert-success\">\n",
    "<b>Комментарий ревьюера (2): ✅</b>\n",
    "\n",
    "Здорово, что используешь методы из библиотеки `numpy`, очень быстрая библиотека для расчетов 😊    \n",
    "    \n",
    "</div>"
   ]
  },
  {
   "cell_type": "markdown",
   "metadata": {},
   "source": [
    "### Столбец user_score"
   ]
  },
  {
   "cell_type": "markdown",
   "metadata": {},
   "source": [
    "Пропуски заменим значением -1 для пропусков и -2 для tbd, в дальнейшем исследовании всегда можно будет понять, что -1 и -2 является пропуском/tbd и исключить из рассмотрения:"
   ]
  },
  {
   "cell_type": "code",
   "execution_count": 12,
   "metadata": {},
   "outputs": [],
   "source": [
    "df.loc[df.user_score.isna(), 'filter'] = False\n",
    "df.loc[df.user_score.isna(), 'user_score'] = -1\n",
    "df.loc[df['user_score'] == 'tbd', 'user_score'] = -2\n",
    "df['user_score'] = df['user_score'].astype('Float64')"
   ]
  },
  {
   "cell_type": "markdown",
   "metadata": {},
   "source": [
    "\n",
    "Столбец содержит пропуски неправильного типа данных, но перед тем как перевести в Int, надо понять что за значение ***'tbd'***. Данная запись означает, что оценка пока не определена игра не так давно вышла и оценки могут повлиять на продажи."
   ]
  },
  {
   "cell_type": "code",
   "execution_count": 13,
   "metadata": {},
   "outputs": [],
   "source": [
    "temp = df[df['user_score'] != 'tbd'][['name', 'user_score']].dropna().groupby('name', as_index=False)['user_score'].median().rename({'user_score': 'same_user_score'}, axis=1)\n",
    "df = df.merge(temp, on='name', how='left')\n",
    "df.loc[df.user_score.isna() & (~df.same_user_score.isna()), 'user_score'] = df['same_user_score']\n",
    "df.drop(columns=['same_user_score'], inplace=True)"
   ]
  },
  {
   "cell_type": "markdown",
   "metadata": {},
   "source": [
    "### Столбец rating"
   ]
  },
  {
   "cell_type": "markdown",
   "metadata": {},
   "source": [
    "\n",
    "Столбец содержит пропуски. Стоит сразу заполнить пропуски рейтинга для игр вышедших до 1994, так как до этого года ESRB не существовало, также эта компания маркирует игры только Северной Америки, но не Европы и Японии. Потому в первом случае пропуски заменем на 'old', а во втором случае на 'eu_game' или 'jp_game', определим это по продажам в соответствующих регионах."
   ]
  },
  {
   "cell_type": "code",
   "execution_count": 14,
   "metadata": {},
   "outputs": [],
   "source": [
    "df.loc[df.rating.isna(), 'filter'] = False\n",
    "df.loc[df.rating.isna(), 'rating'] = 'unrated'\n",
    "df.loc[df['year_of_release'] < 1994, 'rating'] = 'old'\n",
    "df.loc[(df['eu_sales'] > df['na_sales'])&(df['eu_sales'] > df['jp_sales'])&df['rating'].isna(), 'rating'] = 'eu_game'\n",
    "df.loc[(df['jp_sales'] > df['na_sales'])&(df['jp_sales'] > df['eu_sales'])&df['rating'].isna(), 'rating'] = 'jp_game'"
   ]
  },
  {
   "cell_type": "code",
   "execution_count": 15,
   "metadata": {},
   "outputs": [],
   "source": [
    "temp = df[['name', 'rating']].dropna().groupby('name', as_index=False)['rating'].first().rename({'rating': 'same_rating'}, axis=1)\n",
    "df = df.merge(temp, on='name', how='left')\n",
    "df.loc[df.rating.isna() & (~df.same_rating.isna()), 'rating'] = df['same_rating']\n",
    "df.drop(columns=['same_rating'], inplace=True)"
   ]
  },
  {
   "cell_type": "code",
   "execution_count": 16,
   "metadata": {},
   "outputs": [
    {
     "data": {
      "text/plain": [
       "unrated    6315\n",
       "E          3921\n",
       "T          2903\n",
       "M          1535\n",
       "E10+       1392\n",
       "old         636\n",
       "EC            8\n",
       "K-A           3\n",
       "AO            1\n",
       "RP            1\n",
       "Name: rating, dtype: int64"
      ]
     },
     "execution_count": 16,
     "metadata": {},
     "output_type": "execute_result"
    }
   ],
   "source": [
    "df['rating'].value_counts()"
   ]
  },
  {
   "cell_type": "markdown",
   "metadata": {},
   "source": [
    "### Добавление столбцов"
   ]
  },
  {
   "cell_type": "markdown",
   "metadata": {},
   "source": [
    "Также добавим столбец общих продаж игры во всех регионах."
   ]
  },
  {
   "cell_type": "code",
   "execution_count": 17,
   "metadata": {},
   "outputs": [],
   "source": [
    "df['total_sales'] = df['na_sales'] + df['eu_sales'] + df['jp_sales'] + df['other_sales']"
   ]
  },
  {
   "cell_type": "markdown",
   "metadata": {},
   "source": [
    "<div class=\"alert alert-success\">\n",
    "<b>Комментарий ревьюера: ✅</b>\n",
    "\n",
    "Кстати мы можем применить метод `sum(axis=1)` к суммируемым столбцам.\n",
    "    \n",
    "`df[['col1', 'col2', 'col3']].sum(axis=1)`\n",
    "</div>"
   ]
  },
  {
   "cell_type": "markdown",
   "metadata": {},
   "source": [
    "### Выводы"
   ]
  },
  {
   "cell_type": "markdown",
   "metadata": {},
   "source": [
    "После предобработки данных были изменены типы данных в столбцах, где это необходимо, заплнены пропуски где это было возможно. Пропущенные данные были ***помеченны*** явно отличенными от используемых в таблице значениями, для того чтобы в дальнейшем анализе было можно легко их исключить, также добавлен столбец filter для отброски всех пропущенных данных."
   ]
  },
  {
   "cell_type": "code",
   "execution_count": 18,
   "metadata": {},
   "outputs": [
    {
     "name": "stdout",
     "output_type": "stream",
     "text": [
      "Доля пропусков в датасете составляет 0.47\n"
     ]
    }
   ],
   "source": [
    "print('Доля пропусков в датасете составляет {:.2f}'.format(df[df['filter']==True].shape[0] / df.shape[0]))"
   ]
  },
  {
   "cell_type": "markdown",
   "metadata": {},
   "source": [
    "<div class=\"alert alert-success\">\n",
    "<b>Комментарий ревьюера: ✅</b>\n",
    "\n",
    "Хороший способ посчитать долю пропущенных значений 👍\n",
    "</div>"
   ]
  },
  {
   "cell_type": "markdown",
   "metadata": {},
   "source": [
    "## Анализ данных"
   ]
  },
  {
   "cell_type": "markdown",
   "metadata": {},
   "source": [
    "### Определение актуального периода для проведения прогноза на 2017 год"
   ]
  },
  {
   "cell_type": "markdown",
   "metadata": {},
   "source": [
    "Посмотрим на распределение игр по годам"
   ]
  },
  {
   "cell_type": "code",
   "execution_count": 19,
   "metadata": {},
   "outputs": [
    {
     "data": {
      "image/png": "[encoded data removed]",
      "text/plain": [
       "<Figure size 432x288 with 1 Axes>"
      ]
     },
     "metadata": {
      "needs_background": "light"
     },
     "output_type": "display_data"
    }
   ],
   "source": [
    "df['year_of_release'].hist(bins=36, range=(1980, 2016), rwidth=10)\n",
    "plt.title('Полные продажи игр, распределенные по годам')\n",
    "plt.ylabel('Объем продаж')\n",
    "plt.xlabel('Год')\n",
    "plt.show()"
   ]
  },
  {
   "cell_type": "markdown",
   "metadata": {},
   "source": [
    "Пик выпуска игр - 2008/2009, после 2001 наблюдается скачок выхода игр.\n",
    "\n",
    "Посмотрим на распределение полных продаж игр по платформам."
   ]
  },
  {
   "cell_type": "markdown",
   "metadata": {},
   "source": [
    "<div class=\"alert alert-success\">\n",
    "<b>Комментарий ревьюера: ✅</b>\n",
    "\n",
    "Хорошо, когда график и его оси подписаны 😊👍\n",
    "    \n",
    "Так быстрее понять о чем идёт речь на самом графике.\n",
    "    \n",
    "</div>"
   ]
  },
  {
   "cell_type": "code",
   "execution_count": 20,
   "metadata": {
    "scrolled": true
   },
   "outputs": [
    {
     "data": {
      "text/html": [
       "<div>\n",
       "<style scoped>\n",
       "    .dataframe tbody tr th:only-of-type {\n",
       "        vertical-align: middle;\n",
       "    }\n",
       "\n",
       "    .dataframe tbody tr th {\n",
       "        vertical-align: top;\n",
       "    }\n",
       "\n",
       "    .dataframe thead th {\n",
       "        text-align: right;\n",
       "    }\n",
       "</style>\n",
       "<table border=\"1\" class=\"dataframe\">\n",
       "  <thead>\n",
       "    <tr style=\"text-align: right;\">\n",
       "      <th></th>\n",
       "      <th>total_sales</th>\n",
       "    </tr>\n",
       "    <tr>\n",
       "      <th>platform</th>\n",
       "      <th></th>\n",
       "    </tr>\n",
       "  </thead>\n",
       "  <tbody>\n",
       "    <tr>\n",
       "      <th>PS2</th>\n",
       "      <td>1255.77</td>\n",
       "    </tr>\n",
       "    <tr>\n",
       "      <th>X360</th>\n",
       "      <td>971.42</td>\n",
       "    </tr>\n",
       "    <tr>\n",
       "      <th>PS3</th>\n",
       "      <td>939.65</td>\n",
       "    </tr>\n",
       "    <tr>\n",
       "      <th>Wii</th>\n",
       "      <td>907.51</td>\n",
       "    </tr>\n",
       "    <tr>\n",
       "      <th>DS</th>\n",
       "      <td>806.12</td>\n",
       "    </tr>\n",
       "    <tr>\n",
       "      <th>PS</th>\n",
       "      <td>730.86</td>\n",
       "    </tr>\n",
       "    <tr>\n",
       "      <th>GBA</th>\n",
       "      <td>317.85</td>\n",
       "    </tr>\n",
       "    <tr>\n",
       "      <th>PS4</th>\n",
       "      <td>314.14</td>\n",
       "    </tr>\n",
       "    <tr>\n",
       "      <th>PSP</th>\n",
       "      <td>294.05</td>\n",
       "    </tr>\n",
       "    <tr>\n",
       "      <th>PC</th>\n",
       "      <td>259.52</td>\n",
       "    </tr>\n",
       "    <tr>\n",
       "      <th>3DS</th>\n",
       "      <td>259.00</td>\n",
       "    </tr>\n",
       "    <tr>\n",
       "      <th>XB</th>\n",
       "      <td>257.74</td>\n",
       "    </tr>\n",
       "    <tr>\n",
       "      <th>GB</th>\n",
       "      <td>255.46</td>\n",
       "    </tr>\n",
       "    <tr>\n",
       "      <th>NES</th>\n",
       "      <td>251.05</td>\n",
       "    </tr>\n",
       "    <tr>\n",
       "      <th>N64</th>\n",
       "      <td>218.68</td>\n",
       "    </tr>\n",
       "    <tr>\n",
       "      <th>SNES</th>\n",
       "      <td>200.04</td>\n",
       "    </tr>\n",
       "    <tr>\n",
       "      <th>GC</th>\n",
       "      <td>198.93</td>\n",
       "    </tr>\n",
       "    <tr>\n",
       "      <th>XOne</th>\n",
       "      <td>159.32</td>\n",
       "    </tr>\n",
       "    <tr>\n",
       "      <th>2600</th>\n",
       "      <td>96.98</td>\n",
       "    </tr>\n",
       "    <tr>\n",
       "      <th>WiiU</th>\n",
       "      <td>82.19</td>\n",
       "    </tr>\n",
       "    <tr>\n",
       "      <th>PSV</th>\n",
       "      <td>54.07</td>\n",
       "    </tr>\n",
       "    <tr>\n",
       "      <th>SAT</th>\n",
       "      <td>33.59</td>\n",
       "    </tr>\n",
       "    <tr>\n",
       "      <th>GEN</th>\n",
       "      <td>30.77</td>\n",
       "    </tr>\n",
       "    <tr>\n",
       "      <th>DC</th>\n",
       "      <td>15.95</td>\n",
       "    </tr>\n",
       "    <tr>\n",
       "      <th>SCD</th>\n",
       "      <td>1.86</td>\n",
       "    </tr>\n",
       "    <tr>\n",
       "      <th>NG</th>\n",
       "      <td>1.44</td>\n",
       "    </tr>\n",
       "    <tr>\n",
       "      <th>WS</th>\n",
       "      <td>1.42</td>\n",
       "    </tr>\n",
       "    <tr>\n",
       "      <th>TG16</th>\n",
       "      <td>0.16</td>\n",
       "    </tr>\n",
       "    <tr>\n",
       "      <th>3DO</th>\n",
       "      <td>0.10</td>\n",
       "    </tr>\n",
       "    <tr>\n",
       "      <th>GG</th>\n",
       "      <td>0.04</td>\n",
       "    </tr>\n",
       "    <tr>\n",
       "      <th>PCFX</th>\n",
       "      <td>0.03</td>\n",
       "    </tr>\n",
       "  </tbody>\n",
       "</table>\n",
       "</div>"
      ],
      "text/plain": [
       "          total_sales\n",
       "platform             \n",
       "PS2           1255.77\n",
       "X360           971.42\n",
       "PS3            939.65\n",
       "Wii            907.51\n",
       "DS             806.12\n",
       "PS             730.86\n",
       "GBA            317.85\n",
       "PS4            314.14\n",
       "PSP            294.05\n",
       "PC             259.52\n",
       "3DS            259.00\n",
       "XB             257.74\n",
       "GB             255.46\n",
       "NES            251.05\n",
       "N64            218.68\n",
       "SNES           200.04\n",
       "GC             198.93\n",
       "XOne           159.32\n",
       "2600            96.98\n",
       "WiiU            82.19\n",
       "PSV             54.07\n",
       "SAT             33.59\n",
       "GEN             30.77\n",
       "DC              15.95\n",
       "SCD              1.86\n",
       "NG               1.44\n",
       "WS               1.42\n",
       "TG16             0.16\n",
       "3DO              0.10\n",
       "GG               0.04\n",
       "PCFX             0.03"
      ]
     },
     "metadata": {},
     "output_type": "display_data"
    }
   ],
   "source": [
    "display(pd.pivot_table(df, index='platform', values='total_sales', aggfunc='sum').sort_values(by='total_sales', ascending=False))"
   ]
  },
  {
   "cell_type": "markdown",
   "metadata": {},
   "source": [
    "Посмотрим на распределение количества игр на соответствующих платформах по годам, вынесем старые платформы в отдельный список, чтобы было нагляднее."
   ]
  },
  {
   "cell_type": "code",
   "execution_count": 21,
   "metadata": {},
   "outputs": [
    {
     "data": {
      "image/png": "[encoded data removed]",
      "text/plain": [
       "<Figure size 2160x4320 with 10 Axes>"
      ]
     },
     "metadata": {
      "needs_background": "light"
     },
     "output_type": "display_data"
    }
   ],
   "source": [
    "plt_diag = [['NES',  'GB',   'DS'], \n",
    "            ['GBA',  '3DS',  '2600'], \n",
    "            ['GC',   'GEN',  'DC'],\n",
    "            ['SNES', 'SAT',  'SCD'],\n",
    "            ['WS',   'NG',   'TG16'],\n",
    "            ['3DO',  'GG',   'PCFX', 'N64'],\n",
    "            ['Wii',  'WiiU', 'PSP'],\n",
    "            ['X360', 'PS2',  'PS3'],\n",
    "            ['PC',   'PS4',  'XOne'],\n",
    "            ['PSV',  'XB',   'PS']\n",
    "           ]\n",
    "platforms = df['platform'].unique()\n",
    "\n",
    "fig, axs = plt.subplots(nrows=len(plt_diag), ncols=1, figsize=(30, 60))\n",
    "#fig.suptitle('График объема продаж игр на разных платформах по годам')\n",
    "count=0\n",
    "for p in plt_diag:\n",
    "    temp = df[(df['platform'].isin(p))&(df['year_of_release']>0)].pivot_table(index='year_of_release',\n",
    "                                                                          columns='platform',\n",
    "                                                                          values='total_sales',\n",
    "                                                                          aggfunc='sum')\n",
    "    temp.plot(grid=True, ax=axs[count], xlim=(1980, 2016), xlabel='')\n",
    "    count += 1\n",
    "\n",
    "plt.show()"
   ]
  },
  {
   "cell_type": "markdown",
   "metadata": {},
   "source": [
    "Большинство платформ из набора данных к 2016 году ***\"вымерли\"*** и не влияют на прогнозирование 2017 года.\n",
    "\n",
    "Посмотрим распределение продаж по платформам в 2016 году."
   ]
  },
  {
   "cell_type": "markdown",
   "metadata": {},
   "source": [
    "<div class=\"alert alert-warning\">\n",
    "<b>Комментарий ревьюера: ❗️</b>\n",
    "\n",
    "<s>Обрати внимание, что график не совсем читабелен, потому что включает в себя много линий. Обычно используют 2-3 линии максимум на одном графике, чтобы повысить комфортность изучения графика.\n",
    "    \n",
    "Рекомендовал бы посмотреть каждую платформу на отдельном графике или использовать метод `subplots` построив графики в 2 столбца например.\n",
    "    \n",
    "https://matplotlib.org/stable/gallery/subplots_axes_and_figures/subplots_demo.html\n",
    "    \n",
    "</div>"
   ]
  },
  {
   "cell_type": "markdown",
   "metadata": {},
   "source": [
    "<div class=\"alert alert-success\">\n",
    "<b>Комментарий ревьюера (2): ✅</b>\n",
    "\n",
    "🔥🔥🔥    \n",
    "    \n",
    "</div>"
   ]
  },
  {
   "cell_type": "code",
   "execution_count": 22,
   "metadata": {},
   "outputs": [
    {
     "data": {
      "image/png": "[encoded data removed]",
      "text/plain": [
       "<Figure size 432x288 with 1 Axes>"
      ]
     },
     "metadata": {},
     "output_type": "display_data"
    }
   ],
   "source": [
    "#ass = df[~df['platform'].isin(old_platform)&(df['year_of_release']==2016)].pivot_table(index='platform', columns='year_of_release', values='total_sales', aggfunc='sum')\n",
    "df[df['year_of_release']==2016].dropna().groupby('platform')['total_sales'].mean().plot.pie(ylabel='Доля объема продаж по платформам за 2016')\n",
    "stil_alive_platform = ['PC', 'Wii', 'WiiU', 'X360', 'XOne', 'PS3', 'PS4']\n"
   ]
  },
  {
   "cell_type": "markdown",
   "metadata": {},
   "source": [
    "Как видно из графика наиболее популярные платформы PS4 и XOne. Оценим среднее количество лет ***жизни*** платформы."
   ]
  },
  {
   "cell_type": "code",
   "execution_count": 23,
   "metadata": {},
   "outputs": [
    {
     "data": {
      "text/plain": [
       "(-1.0, 17.0)"
      ]
     },
     "execution_count": 23,
     "metadata": {},
     "output_type": "execute_result"
    },
    {
     "data": {
      "image/png": "[encoded data removed]",
      "text/plain": [
       "<Figure size 432x288 with 1 Axes>"
      ]
     },
     "metadata": {
      "needs_background": "light"
     },
     "output_type": "display_data"
    }
   ],
   "source": [
    "for p in df['platform'].unique():\n",
    "    df.loc[df['platform']==p, 'plt_life'] = df[(df['platform'] == p)&(df['year_of_release']>1)]['year_of_release'].max() - df[(df['platform'] == p)&(df['year_of_release']>1)]['year_of_release'].min()\n",
    "    \n",
    "pd.pivot_table(df, index='platform', values='plt_life', aggfunc='median').boxplot()\n",
    "plt.xlabel('Время жизни платформы')\n",
    "plt.ylabel('Продолжительность жизни')\n",
    "plt.title('Определение среднего периода жизни платформы')\n",
    "plt.ylim(-1, 17)"
   ]
  },
  {
   "cell_type": "markdown",
   "metadata": {},
   "source": [
    "В среднем платформа живет 6 лет."
   ]
  },
  {
   "cell_type": "markdown",
   "metadata": {},
   "source": [
    "По полученным данным можно констатировать что актуальным периодом для анализа будут 3-4 предыдущих года, так как в среднем платформа живет 8 лет и если прошло всего половина этого периода, значит в запасе у магазина будет ещё время на этой платформе. По графику распределения продаж по платформам видно, что PS4 и XOne, увеличивают свои продажи, а остальные потихоньку сходят на нет, кроме персональных компьютеров, продажи которых всегда держаться на одном уровне. WiiU имеет достаточно крупную долю продаж в 2016 году и так как она появилась в 2012 стоит выбрать актуальным периодом 2012-2016 года."
   ]
  },
  {
   "cell_type": "markdown",
   "metadata": {},
   "source": [
    "<div class=\"alert alert-success\">\n",
    "<b>Комментарий ревьюера: ✅</b>\n",
    "\n",
    "Согласен.\n",
    "    \n",
    "Логичный подход к расчету 👍\n",
    "    \n",
    "</div>"
   ]
  },
  {
   "cell_type": "code",
   "execution_count": 24,
   "metadata": {},
   "outputs": [],
   "source": [
    "df_actual = df[df['year_of_release'] >= 2012]"
   ]
  },
  {
   "cell_type": "markdown",
   "metadata": {},
   "source": [
    "### Глобальным продажи игр в разбивке по платформам"
   ]
  },
  {
   "cell_type": "code",
   "execution_count": 25,
   "metadata": {},
   "outputs": [
    {
     "data": {
      "text/plain": [
       "(-0.05, 2.5)"
      ]
     },
     "execution_count": 25,
     "metadata": {},
     "output_type": "execute_result"
    },
    {
     "data": {
      "image/png": "[encoded data removed]",
      "text/plain": [
       "<Figure size 432x288 with 1 Axes>"
      ]
     },
     "metadata": {
      "needs_background": "light"
     },
     "output_type": "display_data"
    }
   ],
   "source": [
    "sns.boxplot(data=df_actual, x='platform', y='total_sales', order=list(df_actual['platform'].unique()))\n",
    "plt.ylim(bottom=-0.05, top=2.5)"
   ]
  },
  {
   "cell_type": "markdown",
   "metadata": {},
   "source": [
    "Наиболее прибыльные PS3, X360, PS4, XOne, Wii, WiiU"
   ]
  },
  {
   "cell_type": "markdown",
   "metadata": {},
   "source": [
    "<div class=\"alert alert-success\">\n",
    "<b>Комментарий ревьюера: ✅</b>\n",
    "\n",
    "Кстати для того чтобы подписать график мы можем использовать метод `plt.title()` и в конце кода применить `plt.show()`\n",
    "</div>"
   ]
  },
  {
   "cell_type": "markdown",
   "metadata": {},
   "source": [
    "### Оценка корреляции оценок на глобальные продажи игр"
   ]
  },
  {
   "cell_type": "markdown",
   "metadata": {},
   "source": [
    "Построим график корреляции оценок на объем продаж наиболее популярной платформы - PS3."
   ]
  },
  {
   "cell_type": "code",
   "execution_count": 26,
   "metadata": {},
   "outputs": [
    {
     "data": {
      "text/plain": [
       "Text(0, 0.5, 'Объем продаж')"
      ]
     },
     "execution_count": 26,
     "metadata": {},
     "output_type": "execute_result"
    },
    {
     "data": {
      "image/png": "[encoded data removed]",
      "text/plain": [
       "<Figure size 432x288 with 1 Axes>"
      ]
     },
     "metadata": {},
     "output_type": "display_data"
    }
   ],
   "source": [
    "sns.set_style('ticks')\n",
    "sns.scatterplot(data=df_actual[df_actual['platform'] == 'PS3'], x='user_score', y='total_sales')\n",
    "plt.xlim(left=0, right=10)\n",
    "plt.title('Корреляция оценок пользователей и объемов продаж для PS3')\n",
    "plt.xlabel('Оценки пользователей')\n",
    "plt.ylabel('Объем продаж')"
   ]
  },
  {
   "cell_type": "markdown",
   "metadata": {},
   "source": [
    "<div class=\"alert alert-success\">\n",
    "<b>Комментарий ревьюера: ✅</b>\n",
    "\n",
    "Также мы можем увеличить сам график, чтобы его было удобнее изучать с помощью метода `plt.figure(figsize=(10,7))` или если используешь методы библиотеки `pandas`, в основном всегда есть атрибут `figsize=(10,7)`, который также поможет настроить ширину и высоту графика.\n",
    "    \n",
    "</div>"
   ]
  },
  {
   "cell_type": "code",
   "execution_count": 27,
   "metadata": {},
   "outputs": [
    {
     "data": {
      "text/plain": [
       "Text(0, 0.5, 'Объем продаж')"
      ]
     },
     "execution_count": 27,
     "metadata": {},
     "output_type": "execute_result"
    },
    {
     "data": {
      "image/png": "[encoded data removed]",
      "text/plain": [
       "<Figure size 432x288 with 1 Axes>"
      ]
     },
     "metadata": {},
     "output_type": "display_data"
    }
   ],
   "source": [
    "sns.scatterplot(data=df_actual[df_actual['platform'] == 'PS3'], x='critic_score', y='total_sales')\n",
    "plt.xlim(left=0, right=100)\n",
    "plt.title('Корреляция оценок критиков и объемов продаж для PS3')\n",
    "plt.xlabel('Оценки критиков')\n",
    "plt.ylabel('Объем продаж')"
   ]
  },
  {
   "cell_type": "markdown",
   "metadata": {},
   "source": [
    "Посчитаем корреляцию для всех платформ по отдельности"
   ]
  },
  {
   "cell_type": "code",
   "execution_count": 28,
   "metadata": {},
   "outputs": [
    {
     "name": "stdout",
     "output_type": "stream",
     "text": [
      "Корреляция оценок и объемов продаж для PS3\n"
     ]
    },
    {
     "data": {
      "text/html": [
       "<div>\n",
       "<style scoped>\n",
       "    .dataframe tbody tr th:only-of-type {\n",
       "        vertical-align: middle;\n",
       "    }\n",
       "\n",
       "    .dataframe tbody tr th {\n",
       "        vertical-align: top;\n",
       "    }\n",
       "\n",
       "    .dataframe thead th {\n",
       "        text-align: right;\n",
       "    }\n",
       "</style>\n",
       "<table border=\"1\" class=\"dataframe\">\n",
       "  <thead>\n",
       "    <tr style=\"text-align: right;\">\n",
       "      <th></th>\n",
       "      <th>total_sales</th>\n",
       "      <th>critic_score</th>\n",
       "      <th>user_score</th>\n",
       "    </tr>\n",
       "  </thead>\n",
       "  <tbody>\n",
       "    <tr>\n",
       "      <th>total_sales</th>\n",
       "      <td>1.000000</td>\n",
       "      <td>0.298204</td>\n",
       "      <td>0.218702</td>\n",
       "    </tr>\n",
       "    <tr>\n",
       "      <th>critic_score</th>\n",
       "      <td>0.298204</td>\n",
       "      <td>1.000000</td>\n",
       "      <td>0.760580</td>\n",
       "    </tr>\n",
       "    <tr>\n",
       "      <th>user_score</th>\n",
       "      <td>0.218702</td>\n",
       "      <td>0.760580</td>\n",
       "      <td>1.000000</td>\n",
       "    </tr>\n",
       "  </tbody>\n",
       "</table>\n",
       "</div>"
      ],
      "text/plain": [
       "              total_sales  critic_score  user_score\n",
       "total_sales      1.000000      0.298204    0.218702\n",
       "critic_score     0.298204      1.000000    0.760580\n",
       "user_score       0.218702      0.760580    1.000000"
      ]
     },
     "metadata": {},
     "output_type": "display_data"
    },
    {
     "name": "stdout",
     "output_type": "stream",
     "text": [
      "Корреляция оценок и объемов продаж для X360\n"
     ]
    },
    {
     "data": {
      "text/html": [
       "<div>\n",
       "<style scoped>\n",
       "    .dataframe tbody tr th:only-of-type {\n",
       "        vertical-align: middle;\n",
       "    }\n",
       "\n",
       "    .dataframe tbody tr th {\n",
       "        vertical-align: top;\n",
       "    }\n",
       "\n",
       "    .dataframe thead th {\n",
       "        text-align: right;\n",
       "    }\n",
       "</style>\n",
       "<table border=\"1\" class=\"dataframe\">\n",
       "  <thead>\n",
       "    <tr style=\"text-align: right;\">\n",
       "      <th></th>\n",
       "      <th>total_sales</th>\n",
       "      <th>critic_score</th>\n",
       "      <th>user_score</th>\n",
       "    </tr>\n",
       "  </thead>\n",
       "  <tbody>\n",
       "    <tr>\n",
       "      <th>total_sales</th>\n",
       "      <td>1.000000</td>\n",
       "      <td>0.260993</td>\n",
       "      <td>0.104884</td>\n",
       "    </tr>\n",
       "    <tr>\n",
       "      <th>critic_score</th>\n",
       "      <td>0.260993</td>\n",
       "      <td>1.000000</td>\n",
       "      <td>0.639099</td>\n",
       "    </tr>\n",
       "    <tr>\n",
       "      <th>user_score</th>\n",
       "      <td>0.104884</td>\n",
       "      <td>0.639099</td>\n",
       "      <td>1.000000</td>\n",
       "    </tr>\n",
       "  </tbody>\n",
       "</table>\n",
       "</div>"
      ],
      "text/plain": [
       "              total_sales  critic_score  user_score\n",
       "total_sales      1.000000      0.260993    0.104884\n",
       "critic_score     0.260993      1.000000    0.639099\n",
       "user_score       0.104884      0.639099    1.000000"
      ]
     },
     "metadata": {},
     "output_type": "display_data"
    },
    {
     "name": "stdout",
     "output_type": "stream",
     "text": [
      "Корреляция оценок и объемов продаж для PS4\n"
     ]
    },
    {
     "data": {
      "text/html": [
       "<div>\n",
       "<style scoped>\n",
       "    .dataframe tbody tr th:only-of-type {\n",
       "        vertical-align: middle;\n",
       "    }\n",
       "\n",
       "    .dataframe tbody tr th {\n",
       "        vertical-align: top;\n",
       "    }\n",
       "\n",
       "    .dataframe thead th {\n",
       "        text-align: right;\n",
       "    }\n",
       "</style>\n",
       "<table border=\"1\" class=\"dataframe\">\n",
       "  <thead>\n",
       "    <tr style=\"text-align: right;\">\n",
       "      <th></th>\n",
       "      <th>total_sales</th>\n",
       "      <th>critic_score</th>\n",
       "      <th>user_score</th>\n",
       "    </tr>\n",
       "  </thead>\n",
       "  <tbody>\n",
       "    <tr>\n",
       "      <th>total_sales</th>\n",
       "      <td>1.000000</td>\n",
       "      <td>0.226526</td>\n",
       "      <td>0.117211</td>\n",
       "    </tr>\n",
       "    <tr>\n",
       "      <th>critic_score</th>\n",
       "      <td>0.226526</td>\n",
       "      <td>1.000000</td>\n",
       "      <td>0.904835</td>\n",
       "    </tr>\n",
       "    <tr>\n",
       "      <th>user_score</th>\n",
       "      <td>0.117211</td>\n",
       "      <td>0.904835</td>\n",
       "      <td>1.000000</td>\n",
       "    </tr>\n",
       "  </tbody>\n",
       "</table>\n",
       "</div>"
      ],
      "text/plain": [
       "              total_sales  critic_score  user_score\n",
       "total_sales      1.000000      0.226526    0.117211\n",
       "critic_score     0.226526      1.000000    0.904835\n",
       "user_score       0.117211      0.904835    1.000000"
      ]
     },
     "metadata": {},
     "output_type": "display_data"
    },
    {
     "name": "stdout",
     "output_type": "stream",
     "text": [
      "Корреляция оценок и объемов продаж для 3DS\n"
     ]
    },
    {
     "data": {
      "text/html": [
       "<div>\n",
       "<style scoped>\n",
       "    .dataframe tbody tr th:only-of-type {\n",
       "        vertical-align: middle;\n",
       "    }\n",
       "\n",
       "    .dataframe tbody tr th {\n",
       "        vertical-align: top;\n",
       "    }\n",
       "\n",
       "    .dataframe thead th {\n",
       "        text-align: right;\n",
       "    }\n",
       "</style>\n",
       "<table border=\"1\" class=\"dataframe\">\n",
       "  <thead>\n",
       "    <tr style=\"text-align: right;\">\n",
       "      <th></th>\n",
       "      <th>total_sales</th>\n",
       "      <th>critic_score</th>\n",
       "      <th>user_score</th>\n",
       "    </tr>\n",
       "  </thead>\n",
       "  <tbody>\n",
       "    <tr>\n",
       "      <th>total_sales</th>\n",
       "      <td>1.000000</td>\n",
       "      <td>0.149864</td>\n",
       "      <td>0.131915</td>\n",
       "    </tr>\n",
       "    <tr>\n",
       "      <th>critic_score</th>\n",
       "      <td>0.149864</td>\n",
       "      <td>1.000000</td>\n",
       "      <td>0.903828</td>\n",
       "    </tr>\n",
       "    <tr>\n",
       "      <th>user_score</th>\n",
       "      <td>0.131915</td>\n",
       "      <td>0.903828</td>\n",
       "      <td>1.000000</td>\n",
       "    </tr>\n",
       "  </tbody>\n",
       "</table>\n",
       "</div>"
      ],
      "text/plain": [
       "              total_sales  critic_score  user_score\n",
       "total_sales      1.000000      0.149864    0.131915\n",
       "critic_score     0.149864      1.000000    0.903828\n",
       "user_score       0.131915      0.903828    1.000000"
      ]
     },
     "metadata": {},
     "output_type": "display_data"
    },
    {
     "name": "stdout",
     "output_type": "stream",
     "text": [
      "Корреляция оценок и объемов продаж для DS\n"
     ]
    },
    {
     "data": {
      "text/html": [
       "<div>\n",
       "<style scoped>\n",
       "    .dataframe tbody tr th:only-of-type {\n",
       "        vertical-align: middle;\n",
       "    }\n",
       "\n",
       "    .dataframe tbody tr th {\n",
       "        vertical-align: top;\n",
       "    }\n",
       "\n",
       "    .dataframe thead th {\n",
       "        text-align: right;\n",
       "    }\n",
       "</style>\n",
       "<table border=\"1\" class=\"dataframe\">\n",
       "  <thead>\n",
       "    <tr style=\"text-align: right;\">\n",
       "      <th></th>\n",
       "      <th>total_sales</th>\n",
       "      <th>critic_score</th>\n",
       "      <th>user_score</th>\n",
       "    </tr>\n",
       "  </thead>\n",
       "  <tbody>\n",
       "    <tr>\n",
       "      <th>total_sales</th>\n",
       "      <td>1.000000</td>\n",
       "      <td>0.079326</td>\n",
       "      <td>0.105847</td>\n",
       "    </tr>\n",
       "    <tr>\n",
       "      <th>critic_score</th>\n",
       "      <td>0.079326</td>\n",
       "      <td>1.000000</td>\n",
       "      <td>0.622876</td>\n",
       "    </tr>\n",
       "    <tr>\n",
       "      <th>user_score</th>\n",
       "      <td>0.105847</td>\n",
       "      <td>0.622876</td>\n",
       "      <td>1.000000</td>\n",
       "    </tr>\n",
       "  </tbody>\n",
       "</table>\n",
       "</div>"
      ],
      "text/plain": [
       "              total_sales  critic_score  user_score\n",
       "total_sales      1.000000      0.079326    0.105847\n",
       "critic_score     0.079326      1.000000    0.622876\n",
       "user_score       0.105847      0.622876    1.000000"
      ]
     },
     "metadata": {},
     "output_type": "display_data"
    },
    {
     "name": "stdout",
     "output_type": "stream",
     "text": [
      "Корреляция оценок и объемов продаж для XOne\n"
     ]
    },
    {
     "data": {
      "text/html": [
       "<div>\n",
       "<style scoped>\n",
       "    .dataframe tbody tr th:only-of-type {\n",
       "        vertical-align: middle;\n",
       "    }\n",
       "\n",
       "    .dataframe tbody tr th {\n",
       "        vertical-align: top;\n",
       "    }\n",
       "\n",
       "    .dataframe thead th {\n",
       "        text-align: right;\n",
       "    }\n",
       "</style>\n",
       "<table border=\"1\" class=\"dataframe\">\n",
       "  <thead>\n",
       "    <tr style=\"text-align: right;\">\n",
       "      <th></th>\n",
       "      <th>total_sales</th>\n",
       "      <th>critic_score</th>\n",
       "      <th>user_score</th>\n",
       "    </tr>\n",
       "  </thead>\n",
       "  <tbody>\n",
       "    <tr>\n",
       "      <th>total_sales</th>\n",
       "      <td>1.000000</td>\n",
       "      <td>0.273782</td>\n",
       "      <td>0.126290</td>\n",
       "    </tr>\n",
       "    <tr>\n",
       "      <th>critic_score</th>\n",
       "      <td>0.273782</td>\n",
       "      <td>1.000000</td>\n",
       "      <td>0.776371</td>\n",
       "    </tr>\n",
       "    <tr>\n",
       "      <th>user_score</th>\n",
       "      <td>0.126290</td>\n",
       "      <td>0.776371</td>\n",
       "      <td>1.000000</td>\n",
       "    </tr>\n",
       "  </tbody>\n",
       "</table>\n",
       "</div>"
      ],
      "text/plain": [
       "              total_sales  critic_score  user_score\n",
       "total_sales      1.000000      0.273782    0.126290\n",
       "critic_score     0.273782      1.000000    0.776371\n",
       "user_score       0.126290      0.776371    1.000000"
      ]
     },
     "metadata": {},
     "output_type": "display_data"
    },
    {
     "name": "stdout",
     "output_type": "stream",
     "text": [
      "Корреляция оценок и объемов продаж для WiiU\n"
     ]
    },
    {
     "data": {
      "text/html": [
       "<div>\n",
       "<style scoped>\n",
       "    .dataframe tbody tr th:only-of-type {\n",
       "        vertical-align: middle;\n",
       "    }\n",
       "\n",
       "    .dataframe tbody tr th {\n",
       "        vertical-align: top;\n",
       "    }\n",
       "\n",
       "    .dataframe thead th {\n",
       "        text-align: right;\n",
       "    }\n",
       "</style>\n",
       "<table border=\"1\" class=\"dataframe\">\n",
       "  <thead>\n",
       "    <tr style=\"text-align: right;\">\n",
       "      <th></th>\n",
       "      <th>total_sales</th>\n",
       "      <th>critic_score</th>\n",
       "      <th>user_score</th>\n",
       "    </tr>\n",
       "  </thead>\n",
       "  <tbody>\n",
       "    <tr>\n",
       "      <th>total_sales</th>\n",
       "      <td>1.000000</td>\n",
       "      <td>0.297168</td>\n",
       "      <td>0.259601</td>\n",
       "    </tr>\n",
       "    <tr>\n",
       "      <th>critic_score</th>\n",
       "      <td>0.297168</td>\n",
       "      <td>1.000000</td>\n",
       "      <td>0.853781</td>\n",
       "    </tr>\n",
       "    <tr>\n",
       "      <th>user_score</th>\n",
       "      <td>0.259601</td>\n",
       "      <td>0.853781</td>\n",
       "      <td>1.000000</td>\n",
       "    </tr>\n",
       "  </tbody>\n",
       "</table>\n",
       "</div>"
      ],
      "text/plain": [
       "              total_sales  critic_score  user_score\n",
       "total_sales      1.000000      0.297168    0.259601\n",
       "critic_score     0.297168      1.000000    0.853781\n",
       "user_score       0.259601      0.853781    1.000000"
      ]
     },
     "metadata": {},
     "output_type": "display_data"
    },
    {
     "name": "stdout",
     "output_type": "stream",
     "text": [
      "Корреляция оценок и объемов продаж для Wii\n"
     ]
    },
    {
     "data": {
      "text/html": [
       "<div>\n",
       "<style scoped>\n",
       "    .dataframe tbody tr th:only-of-type {\n",
       "        vertical-align: middle;\n",
       "    }\n",
       "\n",
       "    .dataframe tbody tr th {\n",
       "        vertical-align: top;\n",
       "    }\n",
       "\n",
       "    .dataframe thead th {\n",
       "        text-align: right;\n",
       "    }\n",
       "</style>\n",
       "<table border=\"1\" class=\"dataframe\">\n",
       "  <thead>\n",
       "    <tr style=\"text-align: right;\">\n",
       "      <th></th>\n",
       "      <th>total_sales</th>\n",
       "      <th>critic_score</th>\n",
       "      <th>user_score</th>\n",
       "    </tr>\n",
       "  </thead>\n",
       "  <tbody>\n",
       "    <tr>\n",
       "      <th>total_sales</th>\n",
       "      <td>1.000000</td>\n",
       "      <td>0.538293</td>\n",
       "      <td>0.611024</td>\n",
       "    </tr>\n",
       "    <tr>\n",
       "      <th>critic_score</th>\n",
       "      <td>0.538293</td>\n",
       "      <td>1.000000</td>\n",
       "      <td>0.545043</td>\n",
       "    </tr>\n",
       "    <tr>\n",
       "      <th>user_score</th>\n",
       "      <td>0.611024</td>\n",
       "      <td>0.545043</td>\n",
       "      <td>1.000000</td>\n",
       "    </tr>\n",
       "  </tbody>\n",
       "</table>\n",
       "</div>"
      ],
      "text/plain": [
       "              total_sales  critic_score  user_score\n",
       "total_sales      1.000000      0.538293    0.611024\n",
       "critic_score     0.538293      1.000000    0.545043\n",
       "user_score       0.611024      0.545043    1.000000"
      ]
     },
     "metadata": {},
     "output_type": "display_data"
    },
    {
     "name": "stdout",
     "output_type": "stream",
     "text": [
      "Корреляция оценок и объемов продаж для PC\n"
     ]
    },
    {
     "data": {
      "text/html": [
       "<div>\n",
       "<style scoped>\n",
       "    .dataframe tbody tr th:only-of-type {\n",
       "        vertical-align: middle;\n",
       "    }\n",
       "\n",
       "    .dataframe tbody tr th {\n",
       "        vertical-align: top;\n",
       "    }\n",
       "\n",
       "    .dataframe thead th {\n",
       "        text-align: right;\n",
       "    }\n",
       "</style>\n",
       "<table border=\"1\" class=\"dataframe\">\n",
       "  <thead>\n",
       "    <tr style=\"text-align: right;\">\n",
       "      <th></th>\n",
       "      <th>total_sales</th>\n",
       "      <th>critic_score</th>\n",
       "      <th>user_score</th>\n",
       "    </tr>\n",
       "  </thead>\n",
       "  <tbody>\n",
       "    <tr>\n",
       "      <th>total_sales</th>\n",
       "      <td>1.000000</td>\n",
       "      <td>0.203580</td>\n",
       "      <td>0.054643</td>\n",
       "    </tr>\n",
       "    <tr>\n",
       "      <th>critic_score</th>\n",
       "      <td>0.203580</td>\n",
       "      <td>1.000000</td>\n",
       "      <td>0.815215</td>\n",
       "    </tr>\n",
       "    <tr>\n",
       "      <th>user_score</th>\n",
       "      <td>0.054643</td>\n",
       "      <td>0.815215</td>\n",
       "      <td>1.000000</td>\n",
       "    </tr>\n",
       "  </tbody>\n",
       "</table>\n",
       "</div>"
      ],
      "text/plain": [
       "              total_sales  critic_score  user_score\n",
       "total_sales      1.000000      0.203580    0.054643\n",
       "critic_score     0.203580      1.000000    0.815215\n",
       "user_score       0.054643      0.815215    1.000000"
      ]
     },
     "metadata": {},
     "output_type": "display_data"
    },
    {
     "name": "stdout",
     "output_type": "stream",
     "text": [
      "Корреляция оценок и объемов продаж для PSV\n"
     ]
    },
    {
     "data": {
      "text/html": [
       "<div>\n",
       "<style scoped>\n",
       "    .dataframe tbody tr th:only-of-type {\n",
       "        vertical-align: middle;\n",
       "    }\n",
       "\n",
       "    .dataframe tbody tr th {\n",
       "        vertical-align: top;\n",
       "    }\n",
       "\n",
       "    .dataframe thead th {\n",
       "        text-align: right;\n",
       "    }\n",
       "</style>\n",
       "<table border=\"1\" class=\"dataframe\">\n",
       "  <thead>\n",
       "    <tr style=\"text-align: right;\">\n",
       "      <th></th>\n",
       "      <th>total_sales</th>\n",
       "      <th>critic_score</th>\n",
       "      <th>user_score</th>\n",
       "    </tr>\n",
       "  </thead>\n",
       "  <tbody>\n",
       "    <tr>\n",
       "      <th>total_sales</th>\n",
       "      <td>1.000000</td>\n",
       "      <td>0.395085</td>\n",
       "      <td>0.375410</td>\n",
       "    </tr>\n",
       "    <tr>\n",
       "      <th>critic_score</th>\n",
       "      <td>0.395085</td>\n",
       "      <td>1.000000</td>\n",
       "      <td>0.873302</td>\n",
       "    </tr>\n",
       "    <tr>\n",
       "      <th>user_score</th>\n",
       "      <td>0.375410</td>\n",
       "      <td>0.873302</td>\n",
       "      <td>1.000000</td>\n",
       "    </tr>\n",
       "  </tbody>\n",
       "</table>\n",
       "</div>"
      ],
      "text/plain": [
       "              total_sales  critic_score  user_score\n",
       "total_sales      1.000000      0.395085    0.375410\n",
       "critic_score     0.395085      1.000000    0.873302\n",
       "user_score       0.375410      0.873302    1.000000"
      ]
     },
     "metadata": {},
     "output_type": "display_data"
    },
    {
     "name": "stdout",
     "output_type": "stream",
     "text": [
      "Корреляция оценок и объемов продаж для PSP\n"
     ]
    },
    {
     "data": {
      "text/html": [
       "<div>\n",
       "<style scoped>\n",
       "    .dataframe tbody tr th:only-of-type {\n",
       "        vertical-align: middle;\n",
       "    }\n",
       "\n",
       "    .dataframe tbody tr th {\n",
       "        vertical-align: top;\n",
       "    }\n",
       "\n",
       "    .dataframe thead th {\n",
       "        text-align: right;\n",
       "    }\n",
       "</style>\n",
       "<table border=\"1\" class=\"dataframe\">\n",
       "  <thead>\n",
       "    <tr style=\"text-align: right;\">\n",
       "      <th></th>\n",
       "      <th>total_sales</th>\n",
       "      <th>critic_score</th>\n",
       "      <th>user_score</th>\n",
       "    </tr>\n",
       "  </thead>\n",
       "  <tbody>\n",
       "    <tr>\n",
       "      <th>total_sales</th>\n",
       "      <td>1.000000</td>\n",
       "      <td>0.091510</td>\n",
       "      <td>0.195498</td>\n",
       "    </tr>\n",
       "    <tr>\n",
       "      <th>critic_score</th>\n",
       "      <td>0.091510</td>\n",
       "      <td>1.000000</td>\n",
       "      <td>0.619232</td>\n",
       "    </tr>\n",
       "    <tr>\n",
       "      <th>user_score</th>\n",
       "      <td>0.195498</td>\n",
       "      <td>0.619232</td>\n",
       "      <td>1.000000</td>\n",
       "    </tr>\n",
       "  </tbody>\n",
       "</table>\n",
       "</div>"
      ],
      "text/plain": [
       "              total_sales  critic_score  user_score\n",
       "total_sales      1.000000      0.091510    0.195498\n",
       "critic_score     0.091510      1.000000    0.619232\n",
       "user_score       0.195498      0.619232    1.000000"
      ]
     },
     "metadata": {},
     "output_type": "display_data"
    }
   ],
   "source": [
    "for p in df_actual['platform'].unique():\n",
    "    print('Корреляция оценок и объемов продаж для', p)\n",
    "    display(df_actual[df_actual['platform']==p][['total_sales', 'critic_score', 'user_score']].corr())"
   ]
  },
  {
   "cell_type": "markdown",
   "metadata": {},
   "source": [
    "По расчитаной корреляции между оценками и объемом продаж можно констатировать, что сильной зависимости нет между ними. Кроме Wii где наблюдается корреляция между оценками пользователей и продажами.\n"
   ]
  },
  {
   "cell_type": "markdown",
   "metadata": {},
   "source": [
    "<div class=\"alert alert-success\">\n",
    "<b>Комментарий ревьюера:</b>\n",
    "\n",
    "В том числе мы можем использовать метод `heatmap` из библиотеки `seaborn`, для того чтобы визуализировать матрицу корреляции. \n",
    "    \n",
    "</div>"
   ]
  },
  {
   "cell_type": "markdown",
   "metadata": {},
   "source": [
    "### Распределение объема продаж по жанрам игр"
   ]
  },
  {
   "cell_type": "markdown",
   "metadata": {},
   "source": [
    "\n",
    "Посмотрим на распределение объема продаж по жанрам игр."
   ]
  },
  {
   "cell_type": "code",
   "execution_count": 29,
   "metadata": {},
   "outputs": [
    {
     "data": {
      "text/html": [
       "<div>\n",
       "<style scoped>\n",
       "    .dataframe tbody tr th:only-of-type {\n",
       "        vertical-align: middle;\n",
       "    }\n",
       "\n",
       "    .dataframe tbody tr th {\n",
       "        vertical-align: top;\n",
       "    }\n",
       "\n",
       "    .dataframe thead th {\n",
       "        text-align: right;\n",
       "    }\n",
       "</style>\n",
       "<table border=\"1\" class=\"dataframe\">\n",
       "  <thead>\n",
       "    <tr style=\"text-align: right;\">\n",
       "      <th></th>\n",
       "      <th>total_sales</th>\n",
       "    </tr>\n",
       "    <tr>\n",
       "      <th>genre</th>\n",
       "      <th></th>\n",
       "    </tr>\n",
       "  </thead>\n",
       "  <tbody>\n",
       "    <tr>\n",
       "      <th>Shooter</th>\n",
       "      <td>1.296723</td>\n",
       "    </tr>\n",
       "    <tr>\n",
       "      <th>Platform</th>\n",
       "      <td>0.717647</td>\n",
       "    </tr>\n",
       "    <tr>\n",
       "      <th>Sports</th>\n",
       "      <td>0.675634</td>\n",
       "    </tr>\n",
       "    <tr>\n",
       "      <th>Role-Playing</th>\n",
       "      <td>0.521081</td>\n",
       "    </tr>\n",
       "    <tr>\n",
       "      <th>Racing</th>\n",
       "      <td>0.465217</td>\n",
       "    </tr>\n",
       "    <tr>\n",
       "      <th>Misc</th>\n",
       "      <td>0.442917</td>\n",
       "    </tr>\n",
       "    <tr>\n",
       "      <th>Simulation</th>\n",
       "      <td>0.439000</td>\n",
       "    </tr>\n",
       "    <tr>\n",
       "      <th>Action</th>\n",
       "      <td>0.427856</td>\n",
       "    </tr>\n",
       "    <tr>\n",
       "      <th>Fighting</th>\n",
       "      <td>0.408165</td>\n",
       "    </tr>\n",
       "    <tr>\n",
       "      <th>Strategy</th>\n",
       "      <td>0.187887</td>\n",
       "    </tr>\n",
       "    <tr>\n",
       "      <th>Puzzle</th>\n",
       "      <td>0.174643</td>\n",
       "    </tr>\n",
       "    <tr>\n",
       "      <th>Adventure</th>\n",
       "      <td>0.097450</td>\n",
       "    </tr>\n",
       "  </tbody>\n",
       "</table>\n",
       "</div>"
      ],
      "text/plain": [
       "              total_sales\n",
       "genre                    \n",
       "Shooter          1.296723\n",
       "Platform         0.717647\n",
       "Sports           0.675634\n",
       "Role-Playing     0.521081\n",
       "Racing           0.465217\n",
       "Misc             0.442917\n",
       "Simulation       0.439000\n",
       "Action           0.427856\n",
       "Fighting         0.408165\n",
       "Strategy         0.187887\n",
       "Puzzle           0.174643\n",
       "Adventure        0.097450"
      ]
     },
     "metadata": {},
     "output_type": "display_data"
    },
    {
     "data": {
      "image/png": "[encoded data removed]",
      "text/plain": [
       "<Figure size 432x288 with 1 Axes>"
      ]
     },
     "metadata": {},
     "output_type": "display_data"
    }
   ],
   "source": [
    "display(df_actual.pivot_table(index='genre', values='total_sales', aggfunc='mean').sort_values(by='total_sales', ascending=False))\n",
    "df_actual.groupby('genre')['total_sales'].mean().plot.pie(title='Распределение объемов продаж по жанрам', ylabel='')\n",
    "plt.show()"
   ]
  },
  {
   "cell_type": "markdown",
   "metadata": {},
   "source": [
    "В среднем игры жанра Shooter, Sports и Platform имеют большие объема продаж."
   ]
  },
  {
   "cell_type": "markdown",
   "metadata": {},
   "source": [
    "<div class=\"alert alert-warning\">\n",
    "<b>Комментарий ревьюера: ❗️</b>\n",
    "\n",
    "<s>А если мы посмотрим на средние значения продаж, какие выводы мы сможем сделать ? \n",
    "    \n",
    "Почему на средние значения ? \n",
    "    \n",
    "Т.к. эта метрика более устойчива к выбросам, чем просто суммы и количественные показатели.\n",
    "    \n",
    "</div>"
   ]
  },
  {
   "cell_type": "markdown",
   "metadata": {},
   "source": [
    "## Составление портрета пользователя каждого региона"
   ]
  },
  {
   "cell_type": "markdown",
   "metadata": {},
   "source": [
    "### Предпочитаемая платформа"
   ]
  },
  {
   "cell_type": "markdown",
   "metadata": {},
   "source": [
    "Составим графики распределения объема продаж по платформам для каждого региона"
   ]
  },
  {
   "cell_type": "code",
   "execution_count": 30,
   "metadata": {},
   "outputs": [
    {
     "data": {
      "image/png": "[encoded data removed]",
      "text/plain": [
       "<Figure size 432x288 with 1 Axes>"
      ]
     },
     "metadata": {},
     "output_type": "display_data"
    },
    {
     "data": {
      "image/png": "[encoded data removed]",
      "text/plain": [
       "<Figure size 432x288 with 1 Axes>"
      ]
     },
     "metadata": {},
     "output_type": "display_data"
    },
    {
     "data": {
      "image/png": "[encoded data removed]",
      "text/plain": [
       "<Figure size 432x288 with 1 Axes>"
      ]
     },
     "metadata": {},
     "output_type": "display_data"
    }
   ],
   "source": [
    "df_actual.pivot_table(index='platform', values='na_sales', aggfunc='sum').sort_values(by='na_sales', ascending=False).head(5).plot.pie(title='Распределение объемов продаж по платформам в Америке', y='na_sales', ylabel='', legend=False)\n",
    "plt.show()\n",
    "df_actual.pivot_table(index='platform', values='eu_sales', aggfunc='sum').sort_values(by='eu_sales', ascending=False).head(5).plot.pie(title='Распределение объемов продаж по платформам в Европе', y='eu_sales', ylabel='', legend=False)\n",
    "plt.show()\n",
    "df_actual.pivot_table(index='platform', values='jp_sales', aggfunc='sum').sort_values(by='jp_sales', ascending=False).head(5).plot.pie(title='Распределение объемов продаж по платформам в Японии', y='jp_sales', ylabel='', legend=False)\n",
    "plt.show()"
   ]
  },
  {
   "cell_type": "markdown",
   "metadata": {},
   "source": [
    "Картина для Европы и Америки схожа, но Япония сильно отличается. В Японии превалирует платформа 3DS, также очень популярными являются карманные приставки и в топ-5 нет платформы от майкрософт."
   ]
  },
  {
   "cell_type": "markdown",
   "metadata": {},
   "source": [
    "### Предпочитаемый жанр"
   ]
  },
  {
   "cell_type": "markdown",
   "metadata": {},
   "source": [
    "Построим графики распределения топ-5 жанровых предпочтений для каждого региона:"
   ]
  },
  {
   "cell_type": "code",
   "execution_count": 31,
   "metadata": {},
   "outputs": [
    {
     "data": {
      "image/png": "[encoded data removed]",
      "text/plain": [
       "<Figure size 432x288 with 1 Axes>"
      ]
     },
     "metadata": {},
     "output_type": "display_data"
    },
    {
     "data": {
      "image/png": "[encoded data removed]",
      "text/plain": [
       "<Figure size 432x288 with 1 Axes>"
      ]
     },
     "metadata": {},
     "output_type": "display_data"
    },
    {
     "data": {
      "image/png": "[encoded data removed]",
      "text/plain": [
       "<Figure size 432x288 with 1 Axes>"
      ]
     },
     "metadata": {},
     "output_type": "display_data"
    }
   ],
   "source": [
    "df_actual.pivot_table(index='genre', values='na_sales', aggfunc='sum').sort_values(by='na_sales', ascending=False).head(5).plot.pie(title='Распределение объемов продаж по платформам в Америке', y='na_sales', ylabel='', legend=False)\n",
    "plt.show()\n",
    "df_actual.pivot_table(index='genre', values='eu_sales', aggfunc='sum').sort_values(by='eu_sales', ascending=False).head(5).plot.pie(title='Распределение объемов продаж по платформам в Европе', y='eu_sales', ylabel='', legend=False)\n",
    "plt.show()\n",
    "df_actual.pivot_table(index='genre', values='jp_sales', aggfunc='sum').sort_values(by='jp_sales', ascending=False).head(5).plot.pie(title='Распределение объемов продаж по платформам в Японии', y='jp_sales', ylabel='', legend=False)\n",
    "plt.show()"
   ]
  },
  {
   "cell_type": "markdown",
   "metadata": {},
   "source": [
    "Как видно из графиков если Европа и Америка отличается 4 и 5 местами рейтинга, то Япония предпочитает практически полностью другие игры, кроме жанра Action."
   ]
  },
  {
   "cell_type": "markdown",
   "metadata": {},
   "source": [
    "### Влияние рейтинга игры на продажи по каждому из регионов"
   ]
  },
  {
   "cell_type": "markdown",
   "metadata": {},
   "source": [
    "Построим сводную таблицу, в которой строками будут рейтинги игр, а столбцами объемы продаж по регионам."
   ]
  },
  {
   "cell_type": "code",
   "execution_count": 32,
   "metadata": {},
   "outputs": [
    {
     "data": {
      "text/html": [
       "<div>\n",
       "<style scoped>\n",
       "    .dataframe tbody tr th:only-of-type {\n",
       "        vertical-align: middle;\n",
       "    }\n",
       "\n",
       "    .dataframe tbody tr th {\n",
       "        vertical-align: top;\n",
       "    }\n",
       "\n",
       "    .dataframe thead th {\n",
       "        text-align: right;\n",
       "    }\n",
       "</style>\n",
       "<table border=\"1\" class=\"dataframe\">\n",
       "  <thead>\n",
       "    <tr style=\"text-align: right;\">\n",
       "      <th></th>\n",
       "      <th>eu_sales</th>\n",
       "      <th>jp_sales</th>\n",
       "      <th>na_sales</th>\n",
       "    </tr>\n",
       "    <tr>\n",
       "      <th>rating</th>\n",
       "      <th></th>\n",
       "      <th></th>\n",
       "      <th></th>\n",
       "    </tr>\n",
       "  </thead>\n",
       "  <tbody>\n",
       "    <tr>\n",
       "      <th>E</th>\n",
       "      <td>113.03</td>\n",
       "      <td>28.33</td>\n",
       "      <td>114.37</td>\n",
       "    </tr>\n",
       "    <tr>\n",
       "      <th>E10+</th>\n",
       "      <td>55.37</td>\n",
       "      <td>8.19</td>\n",
       "      <td>75.70</td>\n",
       "    </tr>\n",
       "    <tr>\n",
       "      <th>M</th>\n",
       "      <td>193.96</td>\n",
       "      <td>21.20</td>\n",
       "      <td>231.57</td>\n",
       "    </tr>\n",
       "    <tr>\n",
       "      <th>T</th>\n",
       "      <td>52.96</td>\n",
       "      <td>26.02</td>\n",
       "      <td>66.02</td>\n",
       "    </tr>\n",
       "    <tr>\n",
       "      <th>unrated</th>\n",
       "      <td>91.50</td>\n",
       "      <td>108.84</td>\n",
       "      <td>103.31</td>\n",
       "    </tr>\n",
       "  </tbody>\n",
       "</table>\n",
       "</div>"
      ],
      "text/plain": [
       "         eu_sales  jp_sales  na_sales\n",
       "rating                               \n",
       "E          113.03     28.33    114.37\n",
       "E10+        55.37      8.19     75.70\n",
       "M          193.96     21.20    231.57\n",
       "T           52.96     26.02     66.02\n",
       "unrated     91.50    108.84    103.31"
      ]
     },
     "execution_count": 32,
     "metadata": {},
     "output_type": "execute_result"
    }
   ],
   "source": [
    "df_actual.pivot_table(index='rating', values=['na_sales', 'eu_sales', 'jp_sales'], aggfunc='sum')"
   ]
  },
  {
   "cell_type": "markdown",
   "metadata": {},
   "source": [
    "И опять схожая картина для Европы и Америки, но полностью отлченная у Японии. Если в первом случае игры с рейтингом \"Взрослые\" наиболее прибылен, то в Японии, ввиду отсутствия ESRB - нет. "
   ]
  },
  {
   "cell_type": "markdown",
   "metadata": {},
   "source": [
    "<div class=\"alert alert-success\">\n",
    "<b>Комментарий ревьюера: ✅</b>\n",
    "\n",
    "Достаточно детально проанализировали наши данные и изучили портреты пользователей.\n",
    "    \n",
    "\n",
    "    \n",
    "Давай теперь проверим наши гипотезы.\n",
    "    \n",
    "</div>"
   ]
  },
  {
   "cell_type": "markdown",
   "metadata": {},
   "source": [
    "## Проверка гипотез"
   ]
  },
  {
   "cell_type": "markdown",
   "metadata": {},
   "source": [
    "<div class=\"alert alert-warning\">\n",
    "<b>Комментарий ревьюера:</b>\n",
    "\n",
    "<s>Лучше всего импортировать все необходимые библиотеки в самом начале проекта. \n",
    "    \n",
    "Это общепринятый формат в программировании, ведь так проще понять какие пакеты будут использованы в нашей работе.\n",
    "    \n",
    "</div>"
   ]
  },
  {
   "cell_type": "markdown",
   "metadata": {},
   "source": [
    "Первой гипотезой является - ***Средние пользовательские рейтинги платформ Xbox One и PC одинаковые***\n",
    "\n",
    "Это же утверждение и будет нулевой гипотезой.\n",
    "\n",
    "Проведем анализ при пороге pvalue в 5%"
   ]
  },
  {
   "cell_type": "markdown",
   "metadata": {},
   "source": [
    "Второй гипотезой является - ***Средние пользовательские рейтинги жанров Action (англ. «действие», экшен-игры) и Sports (англ. «спортивные соревнования») разные***\n",
    "\n",
    "Нулевой гипотезой будет - равенство средних пользовательских рейтингов жанров Action (англ. «действие», экшен-игры) и Sports (англ. «спортивные соревнования»)\n",
    "\n",
    "Если нулевая гипотеза будет отвергнута, значит утверждение ***Средние пользовательские рейтинги жанров Action (англ. «действие», экшен-игры) и Sports (англ. «спортивные соревнования») разные*** - верно.\n",
    "\n",
    "Проведем анализ при пороге pvalue в 5%"
   ]
  },
  {
   "cell_type": "markdown",
   "metadata": {},
   "source": [
    "<div class=\"alert alert-success\">\n",
    "<b>Комментарий ревьюера (2): ✅</b>\n",
    "\n",
    "Хорошая функция для проверки гипотез 👍🔥   \n",
    "    \n",
    "</div>"
   ]
  },
  {
   "cell_type": "code",
   "execution_count": 33,
   "metadata": {},
   "outputs": [
    {
     "name": "stderr",
     "output_type": "stream",
     "text": [
      "/tmp/ipykernel_178/1491611578.py:2: UserWarning: Boolean Series key will be reindexed to match DataFrame index.\n",
      "  values1 = list(df_actual[(df[col] == var1)&(df_actual['user_score'] > 0)]['user_score'].values)\n",
      "/tmp/ipykernel_178/1491611578.py:3: UserWarning: Boolean Series key will be reindexed to match DataFrame index.\n",
      "  values2 = list(df_actual[(df[col] == var2)&(df_actual['user_score'] > 0)]['user_score'].values)\n",
      "/tmp/ipykernel_178/1491611578.py:13: UserWarning: Boolean Series key will be reindexed to match DataFrame index.\n",
      "  df_actual[(df[col] == var1)&(df_actual['user_score'] > 0)]['user_score'].plot(title=var1, kind='hist', ax=axs[0])\n",
      "/tmp/ipykernel_178/1491611578.py:14: UserWarning: Boolean Series key will be reindexed to match DataFrame index.\n",
      "  df_actual[(df[col] == var2)&(df_actual['user_score'] > 0)]['user_score'].plot(title=var2, kind='hist', ax=axs[1])\n"
     ]
    },
    {
     "name": "stdout",
     "output_type": "stream",
     "text": [
      "pvalue =  0.5489537965134912\n",
      "Не получилось отвергнуть нулевую гипотезу\n"
     ]
    },
    {
     "data": {
      "image/png": "[encoded data removed]",
      "text/plain": [
       "<Figure size 2160x1440 with 2 Axes>"
      ]
     },
     "metadata": {},
     "output_type": "display_data"
    }
   ],
   "source": [
    "def stat_test(col, var1, var2):    \n",
    "    values1 = list(df_actual[(df[col] == var1)&(df_actual['user_score'] > 0)]['user_score'].values)\n",
    "    values2 = list(df_actual[(df[col] == var2)&(df_actual['user_score'] > 0)]['user_score'].values)\n",
    "\n",
    "    results = st.ttest_ind(values1, values2, equal_var=False)\n",
    "    alpha = .05\n",
    "    print('pvalue = ', results.pvalue)\n",
    "    if results.pvalue < alpha : \n",
    "        print(\"Отвергаем нулевую гипотезу\")\n",
    "    else:\n",
    "        print(\"Не получилось отвергнуть нулевую гипотезу\")\n",
    "    fig, axs = plt.subplots(nrows=1, ncols=2, figsize=(30, 20))    \n",
    "    df_actual[(df[col] == var1)&(df_actual['user_score'] > 0)]['user_score'].plot(title=var1, kind='hist', ax=axs[0])\n",
    "    df_actual[(df[col] == var2)&(df_actual['user_score'] > 0)]['user_score'].plot(title=var2, kind='hist', ax=axs[1])\n",
    "    plt.show()\n",
    "    \n",
    "stat_test('platform', 'XOne', 'PC')    "
   ]
  },
  {
   "cell_type": "markdown",
   "metadata": {},
   "source": [
    "<div class=\"alert alert-success\">\n",
    "<b>Комментарий ревьюера (2): ✅</b>\n",
    "\n",
    "Кстати можно отключить предупреждения с помощью следующего способа ниже.\n",
    "    \n",
    "`import warnings` \n",
    "    \n",
    "`warnings.simplefilter('ignore')` \n",
    "    \n",
    "</div>"
   ]
  },
  {
   "cell_type": "markdown",
   "metadata": {},
   "source": [
    "<div class=\"alert alert-success\">\n",
    "<b>Комментарий ревьюера: ✅</b>\n",
    "\n",
    "\n",
    "    \n",
    "**Best practies:**\n",
    "    \n",
    "    \n",
    "В том числе стоит визуализировать распределение каждой выборки, чтобы определить нормальное ли у них распределение или нет.\n",
    "    \n",
    "Так мы покажем логичность и последовательность наших действий.\n",
    "    \n",
    "</div>"
   ]
  },
  {
   "cell_type": "markdown",
   "metadata": {},
   "source": [
    "Результат анализа не позволяет отклонить нулевую гипотезу и потому альтернативная гипотеза о том, что ***Средние пользовательские рейтинги платформ Xbox One и PC разные*** не верна."
   ]
  },
  {
   "cell_type": "markdown",
   "metadata": {},
   "source": [
    "<div class=\"alert alert-warning\">\n",
    "<b>Комментарий ревьюера:</b>\n",
    "\n",
    "<s>Лучше сразу перед проверкой гипотезы сформулировать сами гипотезы и потом их проверить. Так наши действия будут казаться как раз понятными и последовательными.\n",
    "    \n",
    "</div>"
   ]
  },
  {
   "cell_type": "code",
   "execution_count": 34,
   "metadata": {},
   "outputs": [
    {
     "name": "stderr",
     "output_type": "stream",
     "text": [
      "/tmp/ipykernel_178/1491611578.py:2: UserWarning: Boolean Series key will be reindexed to match DataFrame index.\n",
      "  values1 = list(df_actual[(df[col] == var1)&(df_actual['user_score'] > 0)]['user_score'].values)\n",
      "/tmp/ipykernel_178/1491611578.py:3: UserWarning: Boolean Series key will be reindexed to match DataFrame index.\n",
      "  values2 = list(df_actual[(df[col] == var2)&(df_actual['user_score'] > 0)]['user_score'].values)\n",
      "/tmp/ipykernel_178/1491611578.py:13: UserWarning: Boolean Series key will be reindexed to match DataFrame index.\n",
      "  df_actual[(df[col] == var1)&(df_actual['user_score'] > 0)]['user_score'].plot(title=var1, kind='hist', ax=axs[0])\n",
      "/tmp/ipykernel_178/1491611578.py:14: UserWarning: Boolean Series key will be reindexed to match DataFrame index.\n",
      "  df_actual[(df[col] == var2)&(df_actual['user_score'] > 0)]['user_score'].plot(title=var2, kind='hist', ax=axs[1])\n"
     ]
    },
    {
     "name": "stdout",
     "output_type": "stream",
     "text": [
      "pvalue =  4.24307776572644e-20\n",
      "Отвергаем нулевую гипотезу\n"
     ]
    },
    {
     "data": {
      "image/png": "[encoded data removed]",
      "text/plain": [
       "<Figure size 2160x1440 with 2 Axes>"
      ]
     },
     "metadata": {},
     "output_type": "display_data"
    }
   ],
   "source": [
    "stat_test('genre', 'Action', 'Sports')  "
   ]
  },
  {
   "cell_type": "markdown",
   "metadata": {},
   "source": [
    "Результат отвергает нулевую гипотезу, и значит рейтинги все же разные."
   ]
  },
  {
   "cell_type": "markdown",
   "metadata": {},
   "source": [
    "<div class=\"alert alert-success\">\n",
    "<b>Комментарий ревьюера: ✅</b>\n",
    "\n",
    "Обрати внимание, что наши действия также повторяются с точки зрения расчетов статистических тестов, это говорит о том, что мы можем также создать здесь функцию 😊\n",
    "    \n",
    "</div>"
   ]
  },
  {
   "cell_type": "markdown",
   "metadata": {},
   "source": [
    "## Выводы"
   ]
  },
  {
   "cell_type": "markdown",
   "metadata": {},
   "source": [
    "По проведенному анализу, видно что основными этапами работы с даннами игровой индустрии важны:\n",
    "* оценка средней продолжительности **\"жизни\"** игровой платформы\n",
    "* выбор актуального периода для анализа\n",
    "* построение портрета игрока для каждого региона, в который должны войти:\n",
    "    - распределение продаж по платформам\n",
    "    - распределение продаж по жанрам"
   ]
  },
  {
   "cell_type": "markdown",
   "metadata": {},
   "source": [
    "<div class=\"alert alert-success\">\n",
    "<b>Комментарий ревьюера: ✅</b>\n",
    "\n",
    "Выводы понятны и логичны, а самое главное подкреплены выявленными фактами.\n",
    "       \n",
    "В целом сам проект выполнен на хорошем уровне! На протяжении всей работы чувствуется глубина проработки задачи и это безусловный плюс для нас. Было использовано большое количество методов, которые будут помогать тебе в дальнейших проектах.\n",
    "    \n",
    "    \n",
    "    \n",
    "**[общий комментарий]** Ячейки **markdown** в том числе мы можем использовать как дополнительный способ стилизации нашего проекта. Оставил ниже ссылку, с примерами стилизации.\n",
    "\n",
    "https://sqlbak.com/blog/jupyter-notebook-markdown-cheatsheet     \n",
    "</div>"
   ]
  },
  {
   "cell_type": "markdown",
   "metadata": {},
   "source": [
    "<div class=\"alert alert-success\">\n",
    "<b>Комментарий ревьюера: ✅</b>\n",
    "    \n",
    "\n",
    "Возвращаю проект обратно, чтобы убедиться что все мои комментарии понятны.\n",
    "    \n",
    "Если вдруг у тебя возникнут какие-то вопросы, то я с радостью отвечу на них 😊\n",
    "    \n",
    "</div>"
   ]
  },
  {
   "cell_type": "markdown",
   "metadata": {},
   "source": [
    "<div class=\"alert alert-success\">\n",
    "<b>Комментарий ревьюера (2): ✅</b>\n",
    "\n",
    "Рад, что в целом все понятно и особенно здорово, что сразу вносишь правки в проект, так быстрее запомнится информация. Тогда предлагаю двигаться дальше.\n",
    "    \n",
    "Поздравляю с успешным завершением проекта 😊👍\n",
    "    \n",
    "И желаю успехов в новых работах 😊\n",
    "    \n",
    "    \n",
    "</div>"
   ]
  },
  {
   "cell_type": "markdown",
   "metadata": {},
   "source": []
  }
 ],
 "metadata": {
  "ExecuteTimeLog": [
   {
    "duration": 1387,
    "start_time": "2022-12-04T18:07:06.546Z"
   },
   {
    "duration": 14,
    "start_time": "2022-12-04T18:07:07.935Z"
   },
   {
    "duration": 30,
    "start_time": "2022-12-04T18:07:07.951Z"
   },
   {
    "duration": 3,
    "start_time": "2022-12-04T18:07:07.983Z"
   },
   {
    "duration": 19,
    "start_time": "2022-12-04T18:07:07.989Z"
   },
   {
    "duration": 26,
    "start_time": "2022-12-04T18:07:08.009Z"
   },
   {
    "duration": 12,
    "start_time": "2022-12-04T18:07:08.037Z"
   },
   {
    "duration": 14,
    "start_time": "2022-12-04T18:07:08.051Z"
   },
   {
    "duration": 150,
    "start_time": "2022-12-04T18:07:08.067Z"
   },
   {
    "duration": 0,
    "start_time": "2022-12-04T18:07:08.219Z"
   },
   {
    "duration": 0,
    "start_time": "2022-12-04T18:07:08.220Z"
   },
   {
    "duration": 0,
    "start_time": "2022-12-04T18:07:08.221Z"
   },
   {
    "duration": 0,
    "start_time": "2022-12-04T18:07:08.223Z"
   },
   {
    "duration": 0,
    "start_time": "2022-12-04T18:07:08.224Z"
   },
   {
    "duration": 0,
    "start_time": "2022-12-04T18:07:08.225Z"
   },
   {
    "duration": 0,
    "start_time": "2022-12-04T18:07:08.226Z"
   },
   {
    "duration": 0,
    "start_time": "2022-12-04T18:07:08.227Z"
   },
   {
    "duration": 0,
    "start_time": "2022-12-04T18:07:08.228Z"
   },
   {
    "duration": 0,
    "start_time": "2022-12-04T18:07:08.229Z"
   },
   {
    "duration": 0,
    "start_time": "2022-12-04T18:07:08.230Z"
   },
   {
    "duration": 0,
    "start_time": "2022-12-04T18:07:08.231Z"
   },
   {
    "duration": 0,
    "start_time": "2022-12-04T18:07:08.232Z"
   },
   {
    "duration": 0,
    "start_time": "2022-12-04T18:07:08.234Z"
   },
   {
    "duration": 0,
    "start_time": "2022-12-04T18:07:08.234Z"
   },
   {
    "duration": 0,
    "start_time": "2022-12-04T18:07:08.235Z"
   },
   {
    "duration": 0,
    "start_time": "2022-12-04T18:07:08.236Z"
   },
   {
    "duration": 0,
    "start_time": "2022-12-04T18:07:08.237Z"
   },
   {
    "duration": 0,
    "start_time": "2022-12-04T18:07:08.238Z"
   },
   {
    "duration": 0,
    "start_time": "2022-12-04T18:07:08.239Z"
   },
   {
    "duration": 0,
    "start_time": "2022-12-04T18:07:08.276Z"
   },
   {
    "duration": 0,
    "start_time": "2022-12-04T18:07:08.278Z"
   },
   {
    "duration": 0,
    "start_time": "2022-12-04T18:07:08.278Z"
   },
   {
    "duration": 0,
    "start_time": "2022-12-04T18:07:08.280Z"
   },
   {
    "duration": 0,
    "start_time": "2022-12-04T18:07:08.280Z"
   },
   {
    "duration": 0,
    "start_time": "2022-12-04T18:07:08.281Z"
   },
   {
    "duration": 0,
    "start_time": "2022-12-04T18:07:08.282Z"
   },
   {
    "duration": 1378,
    "start_time": "2022-12-04T18:47:52.344Z"
   },
   {
    "duration": 15,
    "start_time": "2022-12-04T18:47:53.725Z"
   },
   {
    "duration": 30,
    "start_time": "2022-12-04T18:47:53.741Z"
   },
   {
    "duration": 3,
    "start_time": "2022-12-04T18:47:53.773Z"
   },
   {
    "duration": 19,
    "start_time": "2022-12-04T18:47:53.778Z"
   },
   {
    "duration": 4,
    "start_time": "2022-12-04T18:47:53.799Z"
   },
   {
    "duration": 6,
    "start_time": "2022-12-04T18:47:53.805Z"
   },
   {
    "duration": 6,
    "start_time": "2022-12-04T18:47:53.812Z"
   },
   {
    "duration": 152,
    "start_time": "2022-12-04T18:47:53.820Z"
   },
   {
    "duration": 0,
    "start_time": "2022-12-04T18:47:53.974Z"
   },
   {
    "duration": 0,
    "start_time": "2022-12-04T18:47:53.975Z"
   },
   {
    "duration": 0,
    "start_time": "2022-12-04T18:47:53.976Z"
   },
   {
    "duration": 0,
    "start_time": "2022-12-04T18:47:53.977Z"
   },
   {
    "duration": 0,
    "start_time": "2022-12-04T18:47:53.978Z"
   },
   {
    "duration": 0,
    "start_time": "2022-12-04T18:47:53.979Z"
   },
   {
    "duration": 0,
    "start_time": "2022-12-04T18:47:53.981Z"
   },
   {
    "duration": 0,
    "start_time": "2022-12-04T18:47:53.982Z"
   },
   {
    "duration": 0,
    "start_time": "2022-12-04T18:47:53.996Z"
   },
   {
    "duration": 0,
    "start_time": "2022-12-04T18:47:53.997Z"
   },
   {
    "duration": 0,
    "start_time": "2022-12-04T18:47:53.998Z"
   },
   {
    "duration": 0,
    "start_time": "2022-12-04T18:47:53.999Z"
   },
   {
    "duration": 0,
    "start_time": "2022-12-04T18:47:54.000Z"
   },
   {
    "duration": 0,
    "start_time": "2022-12-04T18:47:54.002Z"
   },
   {
    "duration": 0,
    "start_time": "2022-12-04T18:47:54.002Z"
   },
   {
    "duration": 0,
    "start_time": "2022-12-04T18:47:54.003Z"
   },
   {
    "duration": 0,
    "start_time": "2022-12-04T18:47:54.004Z"
   },
   {
    "duration": 0,
    "start_time": "2022-12-04T18:47:54.006Z"
   },
   {
    "duration": 0,
    "start_time": "2022-12-04T18:47:54.007Z"
   },
   {
    "duration": 0,
    "start_time": "2022-12-04T18:47:54.008Z"
   },
   {
    "duration": 0,
    "start_time": "2022-12-04T18:47:54.009Z"
   },
   {
    "duration": 0,
    "start_time": "2022-12-04T18:47:54.010Z"
   },
   {
    "duration": 0,
    "start_time": "2022-12-04T18:47:54.011Z"
   },
   {
    "duration": 0,
    "start_time": "2022-12-04T18:47:54.012Z"
   },
   {
    "duration": 0,
    "start_time": "2022-12-04T18:47:54.014Z"
   },
   {
    "duration": 0,
    "start_time": "2022-12-04T18:47:54.015Z"
   },
   {
    "duration": 0,
    "start_time": "2022-12-04T18:47:54.015Z"
   },
   {
    "duration": 35,
    "start_time": "2022-12-04T18:50:34.410Z"
   },
   {
    "duration": 32,
    "start_time": "2022-12-04T18:51:21.152Z"
   },
   {
    "duration": 5,
    "start_time": "2022-12-04T18:51:52.709Z"
   },
   {
    "duration": 28,
    "start_time": "2022-12-04T18:52:19.106Z"
   },
   {
    "duration": 39,
    "start_time": "2022-12-04T18:52:25.924Z"
   },
   {
    "duration": 14,
    "start_time": "2022-12-04T18:52:34.598Z"
   },
   {
    "duration": 24,
    "start_time": "2022-12-04T18:53:06.662Z"
   },
   {
    "duration": 14,
    "start_time": "2022-12-04T18:53:09.702Z"
   },
   {
    "duration": 23,
    "start_time": "2022-12-04T18:53:35.364Z"
   },
   {
    "duration": 15,
    "start_time": "2022-12-04T18:53:36.798Z"
   },
   {
    "duration": 17,
    "start_time": "2022-12-04T18:54:47.623Z"
   },
   {
    "duration": 1236,
    "start_time": "2022-12-04T18:55:50.942Z"
   },
   {
    "duration": 15,
    "start_time": "2022-12-04T18:55:52.182Z"
   },
   {
    "duration": 37,
    "start_time": "2022-12-04T18:55:52.199Z"
   },
   {
    "duration": 4,
    "start_time": "2022-12-04T18:55:52.237Z"
   },
   {
    "duration": 17,
    "start_time": "2022-12-04T18:55:52.242Z"
   },
   {
    "duration": 11,
    "start_time": "2022-12-04T18:55:52.261Z"
   },
   {
    "duration": 19,
    "start_time": "2022-12-04T18:55:52.274Z"
   },
   {
    "duration": 15,
    "start_time": "2022-12-04T18:55:52.295Z"
   },
   {
    "duration": 39,
    "start_time": "2022-12-04T18:55:52.313Z"
   },
   {
    "duration": 6,
    "start_time": "2022-12-04T18:55:52.353Z"
   },
   {
    "duration": 47,
    "start_time": "2022-12-04T18:55:52.360Z"
   },
   {
    "duration": 213,
    "start_time": "2022-12-04T18:55:52.409Z"
   },
   {
    "duration": 0,
    "start_time": "2022-12-04T18:55:52.624Z"
   },
   {
    "duration": 0,
    "start_time": "2022-12-04T18:55:52.625Z"
   },
   {
    "duration": 0,
    "start_time": "2022-12-04T18:55:52.626Z"
   },
   {
    "duration": 0,
    "start_time": "2022-12-04T18:55:52.628Z"
   },
   {
    "duration": 0,
    "start_time": "2022-12-04T18:55:52.630Z"
   },
   {
    "duration": 0,
    "start_time": "2022-12-04T18:55:52.631Z"
   },
   {
    "duration": 0,
    "start_time": "2022-12-04T18:55:52.632Z"
   },
   {
    "duration": 0,
    "start_time": "2022-12-04T18:55:52.634Z"
   },
   {
    "duration": 0,
    "start_time": "2022-12-04T18:55:52.635Z"
   },
   {
    "duration": 0,
    "start_time": "2022-12-04T18:55:52.636Z"
   },
   {
    "duration": 0,
    "start_time": "2022-12-04T18:55:52.637Z"
   },
   {
    "duration": 0,
    "start_time": "2022-12-04T18:55:52.638Z"
   },
   {
    "duration": 0,
    "start_time": "2022-12-04T18:55:52.639Z"
   },
   {
    "duration": 0,
    "start_time": "2022-12-04T18:55:52.641Z"
   },
   {
    "duration": 0,
    "start_time": "2022-12-04T18:55:52.642Z"
   },
   {
    "duration": 0,
    "start_time": "2022-12-04T18:55:52.643Z"
   },
   {
    "duration": 0,
    "start_time": "2022-12-04T18:55:52.644Z"
   },
   {
    "duration": 0,
    "start_time": "2022-12-04T18:55:52.645Z"
   },
   {
    "duration": 0,
    "start_time": "2022-12-04T18:55:52.646Z"
   },
   {
    "duration": 0,
    "start_time": "2022-12-04T18:55:52.648Z"
   },
   {
    "duration": 0,
    "start_time": "2022-12-04T18:55:52.649Z"
   },
   {
    "duration": 0,
    "start_time": "2022-12-04T18:55:52.650Z"
   },
   {
    "duration": 0,
    "start_time": "2022-12-04T18:55:52.651Z"
   },
   {
    "duration": 14,
    "start_time": "2022-12-04T18:57:36.806Z"
   },
   {
    "duration": 1294,
    "start_time": "2022-12-04T18:57:41.613Z"
   },
   {
    "duration": 16,
    "start_time": "2022-12-04T18:57:42.909Z"
   },
   {
    "duration": 35,
    "start_time": "2022-12-04T18:57:42.926Z"
   },
   {
    "duration": 4,
    "start_time": "2022-12-04T18:57:42.963Z"
   },
   {
    "duration": 18,
    "start_time": "2022-12-04T18:57:42.968Z"
   },
   {
    "duration": 29,
    "start_time": "2022-12-04T18:57:42.995Z"
   },
   {
    "duration": 20,
    "start_time": "2022-12-04T18:57:43.026Z"
   },
   {
    "duration": 26,
    "start_time": "2022-12-04T18:57:43.048Z"
   },
   {
    "duration": 61,
    "start_time": "2022-12-04T18:57:43.075Z"
   },
   {
    "duration": 5,
    "start_time": "2022-12-04T18:57:43.139Z"
   },
   {
    "duration": 61,
    "start_time": "2022-12-04T18:57:43.146Z"
   },
   {
    "duration": 13,
    "start_time": "2022-12-04T18:57:43.209Z"
   },
   {
    "duration": 43,
    "start_time": "2022-12-04T18:57:43.223Z"
   },
   {
    "duration": 13,
    "start_time": "2022-12-04T18:57:43.268Z"
   },
   {
    "duration": 44,
    "start_time": "2022-12-04T18:57:43.297Z"
   },
   {
    "duration": 8,
    "start_time": "2022-12-04T18:57:43.343Z"
   },
   {
    "duration": 10,
    "start_time": "2022-12-04T18:57:43.353Z"
   },
   {
    "duration": 31,
    "start_time": "2022-12-04T18:57:43.365Z"
   },
   {
    "duration": 194,
    "start_time": "2022-12-04T18:57:43.398Z"
   },
   {
    "duration": 16,
    "start_time": "2022-12-04T18:57:43.596Z"
   },
   {
    "duration": 901,
    "start_time": "2022-12-04T18:57:43.614Z"
   },
   {
    "duration": 112,
    "start_time": "2022-12-04T18:57:44.517Z"
   },
   {
    "duration": 323,
    "start_time": "2022-12-04T18:57:44.631Z"
   },
   {
    "duration": 8,
    "start_time": "2022-12-04T18:57:44.959Z"
   },
   {
    "duration": 129,
    "start_time": "2022-12-04T18:57:44.969Z"
   },
   {
    "duration": 0,
    "start_time": "2022-12-04T18:57:45.100Z"
   },
   {
    "duration": 0,
    "start_time": "2022-12-04T18:57:45.101Z"
   },
   {
    "duration": 0,
    "start_time": "2022-12-04T18:57:45.102Z"
   },
   {
    "duration": 0,
    "start_time": "2022-12-04T18:57:45.103Z"
   },
   {
    "duration": 0,
    "start_time": "2022-12-04T18:57:45.104Z"
   },
   {
    "duration": 0,
    "start_time": "2022-12-04T18:57:45.105Z"
   },
   {
    "duration": 0,
    "start_time": "2022-12-04T18:57:45.106Z"
   },
   {
    "duration": 0,
    "start_time": "2022-12-04T18:57:45.108Z"
   },
   {
    "duration": 0,
    "start_time": "2022-12-04T18:57:45.109Z"
   },
   {
    "duration": 0,
    "start_time": "2022-12-04T18:57:45.110Z"
   },
   {
    "duration": 263,
    "start_time": "2022-12-04T18:58:03.077Z"
   },
   {
    "duration": 1184,
    "start_time": "2022-12-04T18:58:09.569Z"
   },
   {
    "duration": 15,
    "start_time": "2022-12-04T18:58:10.755Z"
   },
   {
    "duration": 31,
    "start_time": "2022-12-04T18:58:10.771Z"
   },
   {
    "duration": 3,
    "start_time": "2022-12-04T18:58:10.804Z"
   },
   {
    "duration": 10,
    "start_time": "2022-12-04T18:58:10.809Z"
   },
   {
    "duration": 9,
    "start_time": "2022-12-04T18:58:10.821Z"
   },
   {
    "duration": 6,
    "start_time": "2022-12-04T18:58:10.832Z"
   },
   {
    "duration": 7,
    "start_time": "2022-12-04T18:58:10.839Z"
   },
   {
    "duration": 64,
    "start_time": "2022-12-04T18:58:10.847Z"
   },
   {
    "duration": 5,
    "start_time": "2022-12-04T18:58:10.914Z"
   },
   {
    "duration": 44,
    "start_time": "2022-12-04T18:58:10.921Z"
   },
   {
    "duration": 11,
    "start_time": "2022-12-04T18:58:10.966Z"
   },
   {
    "duration": 49,
    "start_time": "2022-12-04T18:58:10.978Z"
   },
   {
    "duration": 13,
    "start_time": "2022-12-04T18:58:11.029Z"
   },
   {
    "duration": 35,
    "start_time": "2022-12-04T18:58:11.043Z"
   },
   {
    "duration": 7,
    "start_time": "2022-12-04T18:58:11.097Z"
   },
   {
    "duration": 35,
    "start_time": "2022-12-04T18:58:11.106Z"
   },
   {
    "duration": 30,
    "start_time": "2022-12-04T18:58:11.144Z"
   },
   {
    "duration": 229,
    "start_time": "2022-12-04T18:58:11.177Z"
   },
   {
    "duration": 17,
    "start_time": "2022-12-04T18:58:11.408Z"
   },
   {
    "duration": 870,
    "start_time": "2022-12-04T18:58:11.426Z"
   },
   {
    "duration": 111,
    "start_time": "2022-12-04T18:58:12.298Z"
   },
   {
    "duration": 301,
    "start_time": "2022-12-04T18:58:12.410Z"
   },
   {
    "duration": 6,
    "start_time": "2022-12-04T18:58:12.713Z"
   },
   {
    "duration": 253,
    "start_time": "2022-12-04T18:58:12.721Z"
   },
   {
    "duration": 113,
    "start_time": "2022-12-04T18:58:12.975Z"
   },
   {
    "duration": 0,
    "start_time": "2022-12-04T18:58:13.090Z"
   },
   {
    "duration": 0,
    "start_time": "2022-12-04T18:58:13.091Z"
   },
   {
    "duration": 0,
    "start_time": "2022-12-04T18:58:13.092Z"
   },
   {
    "duration": 0,
    "start_time": "2022-12-04T18:58:13.096Z"
   },
   {
    "duration": 0,
    "start_time": "2022-12-04T18:58:13.097Z"
   },
   {
    "duration": 0,
    "start_time": "2022-12-04T18:58:13.098Z"
   },
   {
    "duration": 0,
    "start_time": "2022-12-04T18:58:13.099Z"
   },
   {
    "duration": 0,
    "start_time": "2022-12-04T18:58:13.100Z"
   },
   {
    "duration": 0,
    "start_time": "2022-12-04T18:58:13.101Z"
   },
   {
    "duration": 258,
    "start_time": "2022-12-04T18:58:29.328Z"
   },
   {
    "duration": 147,
    "start_time": "2022-12-04T18:58:38.234Z"
   },
   {
    "duration": 87,
    "start_time": "2022-12-04T18:58:43.155Z"
   },
   {
    "duration": 152,
    "start_time": "2022-12-04T18:58:48.618Z"
   },
   {
    "duration": 336,
    "start_time": "2022-12-04T18:58:54.563Z"
   },
   {
    "duration": 285,
    "start_time": "2022-12-04T18:58:58.660Z"
   },
   {
    "duration": 16,
    "start_time": "2022-12-04T18:59:02.142Z"
   },
   {
    "duration": 3,
    "start_time": "2022-12-04T18:59:08.148Z"
   },
   {
    "duration": 19,
    "start_time": "2022-12-04T18:59:08.556Z"
   },
   {
    "duration": 20,
    "start_time": "2022-12-04T18:59:15.013Z"
   },
   {
    "duration": 12,
    "start_time": "2022-12-04T18:59:51.347Z"
   },
   {
    "duration": 41,
    "start_time": "2022-12-04T18:59:51.929Z"
   },
   {
    "duration": 8,
    "start_time": "2022-12-04T18:59:52.484Z"
   },
   {
    "duration": 1602,
    "start_time": "2022-12-06T12:25:17.044Z"
   },
   {
    "duration": 15,
    "start_time": "2022-12-06T12:25:18.648Z"
   },
   {
    "duration": 32,
    "start_time": "2022-12-06T12:25:18.664Z"
   },
   {
    "duration": 3,
    "start_time": "2022-12-06T12:25:18.698Z"
   },
   {
    "duration": 12,
    "start_time": "2022-12-06T12:25:18.703Z"
   },
   {
    "duration": 11,
    "start_time": "2022-12-06T12:25:18.717Z"
   },
   {
    "duration": 8,
    "start_time": "2022-12-06T12:25:18.730Z"
   },
   {
    "duration": 7,
    "start_time": "2022-12-06T12:25:18.740Z"
   },
   {
    "duration": 43,
    "start_time": "2022-12-06T12:25:18.748Z"
   },
   {
    "duration": 5,
    "start_time": "2022-12-06T12:25:18.794Z"
   },
   {
    "duration": 39,
    "start_time": "2022-12-06T12:25:18.801Z"
   },
   {
    "duration": 15,
    "start_time": "2022-12-06T12:25:18.842Z"
   },
   {
    "duration": 37,
    "start_time": "2022-12-06T12:25:18.859Z"
   },
   {
    "duration": 13,
    "start_time": "2022-12-06T12:25:18.898Z"
   },
   {
    "duration": 48,
    "start_time": "2022-12-06T12:25:18.913Z"
   },
   {
    "duration": 10,
    "start_time": "2022-12-06T12:25:18.963Z"
   },
   {
    "duration": 7,
    "start_time": "2022-12-06T12:25:18.975Z"
   },
   {
    "duration": 10,
    "start_time": "2022-12-06T12:25:18.984Z"
   },
   {
    "duration": 287,
    "start_time": "2022-12-06T12:25:18.997Z"
   },
   {
    "duration": 66,
    "start_time": "2022-12-06T12:25:19.286Z"
   },
   {
    "duration": 73,
    "start_time": "2022-12-06T12:25:19.353Z"
   },
   {
    "duration": 0,
    "start_time": "2022-12-06T12:25:19.428Z"
   },
   {
    "duration": 0,
    "start_time": "2022-12-06T12:25:19.429Z"
   },
   {
    "duration": 0,
    "start_time": "2022-12-06T12:25:19.431Z"
   },
   {
    "duration": 0,
    "start_time": "2022-12-06T12:25:19.432Z"
   },
   {
    "duration": 0,
    "start_time": "2022-12-06T12:25:19.433Z"
   },
   {
    "duration": 0,
    "start_time": "2022-12-06T12:25:19.434Z"
   },
   {
    "duration": 0,
    "start_time": "2022-12-06T12:25:19.436Z"
   },
   {
    "duration": 0,
    "start_time": "2022-12-06T12:25:19.437Z"
   },
   {
    "duration": 0,
    "start_time": "2022-12-06T12:25:19.438Z"
   },
   {
    "duration": 0,
    "start_time": "2022-12-06T12:25:19.439Z"
   },
   {
    "duration": 0,
    "start_time": "2022-12-06T12:25:19.441Z"
   },
   {
    "duration": 0,
    "start_time": "2022-12-06T12:25:19.442Z"
   },
   {
    "duration": 0,
    "start_time": "2022-12-06T12:25:19.443Z"
   },
   {
    "duration": 0,
    "start_time": "2022-12-06T12:25:19.444Z"
   },
   {
    "duration": 5,
    "start_time": "2022-12-06T12:26:44.593Z"
   },
   {
    "duration": 4,
    "start_time": "2022-12-06T12:27:24.317Z"
   },
   {
    "duration": 5,
    "start_time": "2022-12-06T12:33:17.674Z"
   },
   {
    "duration": 267,
    "start_time": "2022-12-06T12:33:32.517Z"
   },
   {
    "duration": 267,
    "start_time": "2022-12-06T12:35:59.759Z"
   },
   {
    "duration": 222,
    "start_time": "2022-12-06T12:36:33.253Z"
   },
   {
    "duration": 1137,
    "start_time": "2022-12-06T12:37:26.654Z"
   },
   {
    "duration": 240,
    "start_time": "2022-12-06T12:40:19.238Z"
   },
   {
    "duration": 281,
    "start_time": "2022-12-06T12:41:06.590Z"
   },
   {
    "duration": 264,
    "start_time": "2022-12-06T12:41:22.198Z"
   },
   {
    "duration": 36,
    "start_time": "2022-12-06T12:41:27.854Z"
   },
   {
    "duration": 18,
    "start_time": "2022-12-06T12:42:01.694Z"
   },
   {
    "duration": 235,
    "start_time": "2022-12-06T12:42:16.159Z"
   },
   {
    "duration": 345,
    "start_time": "2022-12-06T12:42:42.182Z"
   },
   {
    "duration": 241,
    "start_time": "2022-12-06T12:43:07.326Z"
   },
   {
    "duration": 237,
    "start_time": "2022-12-06T12:43:31.022Z"
   },
   {
    "duration": 207,
    "start_time": "2022-12-06T12:46:06.078Z"
   },
   {
    "duration": 216,
    "start_time": "2022-12-06T12:46:29.295Z"
   },
   {
    "duration": 238,
    "start_time": "2022-12-06T12:51:38.718Z"
   },
   {
    "duration": 243,
    "start_time": "2022-12-06T12:51:56.910Z"
   },
   {
    "duration": 21,
    "start_time": "2022-12-06T12:52:30.615Z"
   },
   {
    "duration": 236,
    "start_time": "2022-12-06T12:53:04.926Z"
   },
   {
    "duration": 286,
    "start_time": "2022-12-06T12:56:09.446Z"
   },
   {
    "duration": 42,
    "start_time": "2022-12-06T12:56:43.662Z"
   },
   {
    "duration": 41,
    "start_time": "2022-12-06T12:57:09.240Z"
   },
   {
    "duration": 974,
    "start_time": "2022-12-06T12:57:23.270Z"
   },
   {
    "duration": 330,
    "start_time": "2022-12-06T12:58:02.758Z"
   },
   {
    "duration": 232,
    "start_time": "2022-12-06T13:00:12.079Z"
   },
   {
    "duration": 1002,
    "start_time": "2022-12-06T13:01:01.552Z"
   },
   {
    "duration": 792,
    "start_time": "2022-12-06T13:02:00.119Z"
   },
   {
    "duration": 880,
    "start_time": "2022-12-06T13:02:19.347Z"
   },
   {
    "duration": 757,
    "start_time": "2022-12-06T13:02:24.553Z"
   },
   {
    "duration": 205,
    "start_time": "2022-12-06T13:04:07.982Z"
   },
   {
    "duration": 271,
    "start_time": "2022-12-06T13:05:28.622Z"
   },
   {
    "duration": 260,
    "start_time": "2022-12-06T13:05:44.777Z"
   },
   {
    "duration": 296,
    "start_time": "2022-12-06T13:06:00.591Z"
   },
   {
    "duration": 274,
    "start_time": "2022-12-06T13:06:21.071Z"
   },
   {
    "duration": 53,
    "start_time": "2022-12-06T20:48:09.142Z"
   },
   {
    "duration": 1563,
    "start_time": "2022-12-06T20:48:14.428Z"
   },
   {
    "duration": 14,
    "start_time": "2022-12-06T20:48:15.993Z"
   },
   {
    "duration": 32,
    "start_time": "2022-12-06T20:48:16.009Z"
   },
   {
    "duration": 3,
    "start_time": "2022-12-06T20:48:16.043Z"
   },
   {
    "duration": 16,
    "start_time": "2022-12-06T20:48:16.048Z"
   },
   {
    "duration": 6,
    "start_time": "2022-12-06T20:48:16.066Z"
   },
   {
    "duration": 8,
    "start_time": "2022-12-06T20:48:16.074Z"
   },
   {
    "duration": 7,
    "start_time": "2022-12-06T20:48:16.083Z"
   },
   {
    "duration": 58,
    "start_time": "2022-12-06T20:48:16.092Z"
   },
   {
    "duration": 6,
    "start_time": "2022-12-06T20:48:16.153Z"
   },
   {
    "duration": 37,
    "start_time": "2022-12-06T20:48:16.160Z"
   },
   {
    "duration": 38,
    "start_time": "2022-12-06T20:48:16.199Z"
   },
   {
    "duration": 38,
    "start_time": "2022-12-06T20:48:16.240Z"
   },
   {
    "duration": 12,
    "start_time": "2022-12-06T20:48:16.280Z"
   },
   {
    "duration": 66,
    "start_time": "2022-12-06T20:48:16.294Z"
   },
   {
    "duration": 8,
    "start_time": "2022-12-06T20:48:16.361Z"
   },
   {
    "duration": 6,
    "start_time": "2022-12-06T20:48:16.370Z"
   },
   {
    "duration": 7,
    "start_time": "2022-12-06T20:48:16.377Z"
   },
   {
    "duration": 198,
    "start_time": "2022-12-06T20:48:16.386Z"
   },
   {
    "duration": 17,
    "start_time": "2022-12-06T20:48:16.586Z"
   },
   {
    "duration": 924,
    "start_time": "2022-12-06T20:48:16.604Z"
   },
   {
    "duration": 122,
    "start_time": "2022-12-06T20:48:17.538Z"
   },
   {
    "duration": 0,
    "start_time": "2022-12-06T20:48:17.662Z"
   },
   {
    "duration": 0,
    "start_time": "2022-12-06T20:48:17.663Z"
   },
   {
    "duration": 0,
    "start_time": "2022-12-06T20:48:17.664Z"
   },
   {
    "duration": 0,
    "start_time": "2022-12-06T20:48:17.666Z"
   },
   {
    "duration": 0,
    "start_time": "2022-12-06T20:48:17.667Z"
   },
   {
    "duration": 0,
    "start_time": "2022-12-06T20:48:17.668Z"
   },
   {
    "duration": 0,
    "start_time": "2022-12-06T20:48:17.669Z"
   },
   {
    "duration": 1,
    "start_time": "2022-12-06T20:48:17.670Z"
   },
   {
    "duration": 0,
    "start_time": "2022-12-06T20:48:17.672Z"
   },
   {
    "duration": 0,
    "start_time": "2022-12-06T20:48:17.673Z"
   },
   {
    "duration": 0,
    "start_time": "2022-12-06T20:48:17.674Z"
   },
   {
    "duration": 0,
    "start_time": "2022-12-06T20:48:17.675Z"
   },
   {
    "duration": 0,
    "start_time": "2022-12-06T20:48:17.676Z"
   },
   {
    "duration": 0,
    "start_time": "2022-12-06T20:48:17.677Z"
   },
   {
    "duration": 5,
    "start_time": "2022-12-06T20:51:02.808Z"
   },
   {
    "duration": 671,
    "start_time": "2022-12-06T21:03:04.966Z"
   },
   {
    "duration": 92,
    "start_time": "2022-12-06T21:03:45.906Z"
   },
   {
    "duration": 14,
    "start_time": "2022-12-06T21:04:13.587Z"
   },
   {
    "duration": 1342,
    "start_time": "2022-12-06T21:04:23.023Z"
   },
   {
    "duration": 15,
    "start_time": "2022-12-06T21:04:24.367Z"
   },
   {
    "duration": 34,
    "start_time": "2022-12-06T21:04:24.384Z"
   },
   {
    "duration": 17,
    "start_time": "2022-12-06T21:04:24.421Z"
   },
   {
    "duration": 8,
    "start_time": "2022-12-06T21:04:24.439Z"
   },
   {
    "duration": 6,
    "start_time": "2022-12-06T21:04:24.449Z"
   },
   {
    "duration": 9,
    "start_time": "2022-12-06T21:04:24.456Z"
   },
   {
    "duration": 7,
    "start_time": "2022-12-06T21:04:24.466Z"
   },
   {
    "duration": 72,
    "start_time": "2022-12-06T21:04:24.475Z"
   },
   {
    "duration": 7,
    "start_time": "2022-12-06T21:04:24.550Z"
   },
   {
    "duration": 44,
    "start_time": "2022-12-06T21:04:24.558Z"
   },
   {
    "duration": 38,
    "start_time": "2022-12-06T21:04:24.604Z"
   },
   {
    "duration": 43,
    "start_time": "2022-12-06T21:04:24.644Z"
   },
   {
    "duration": 13,
    "start_time": "2022-12-06T21:04:24.689Z"
   },
   {
    "duration": 62,
    "start_time": "2022-12-06T21:04:24.703Z"
   },
   {
    "duration": 7,
    "start_time": "2022-12-06T21:04:24.767Z"
   },
   {
    "duration": 7,
    "start_time": "2022-12-06T21:04:24.776Z"
   },
   {
    "duration": 7,
    "start_time": "2022-12-06T21:04:24.784Z"
   },
   {
    "duration": 205,
    "start_time": "2022-12-06T21:04:24.793Z"
   },
   {
    "duration": 16,
    "start_time": "2022-12-06T21:04:25.000Z"
   },
   {
    "duration": 924,
    "start_time": "2022-12-06T21:04:25.018Z"
   },
   {
    "duration": 907,
    "start_time": "2022-12-06T21:04:25.944Z"
   },
   {
    "duration": 0,
    "start_time": "2022-12-06T21:04:26.853Z"
   },
   {
    "duration": 0,
    "start_time": "2022-12-06T21:04:26.855Z"
   },
   {
    "duration": 0,
    "start_time": "2022-12-06T21:04:26.856Z"
   },
   {
    "duration": 0,
    "start_time": "2022-12-06T21:04:26.857Z"
   },
   {
    "duration": 0,
    "start_time": "2022-12-06T21:04:26.858Z"
   },
   {
    "duration": 0,
    "start_time": "2022-12-06T21:04:26.859Z"
   },
   {
    "duration": 0,
    "start_time": "2022-12-06T21:04:26.860Z"
   },
   {
    "duration": 0,
    "start_time": "2022-12-06T21:04:26.861Z"
   },
   {
    "duration": 0,
    "start_time": "2022-12-06T21:04:26.862Z"
   },
   {
    "duration": 0,
    "start_time": "2022-12-06T21:04:26.863Z"
   },
   {
    "duration": 0,
    "start_time": "2022-12-06T21:04:26.864Z"
   },
   {
    "duration": 0,
    "start_time": "2022-12-06T21:04:26.865Z"
   },
   {
    "duration": 0,
    "start_time": "2022-12-06T21:04:26.866Z"
   },
   {
    "duration": 0,
    "start_time": "2022-12-06T21:04:26.867Z"
   },
   {
    "duration": 146,
    "start_time": "2022-12-06T21:06:06.232Z"
   },
   {
    "duration": 729,
    "start_time": "2022-12-06T21:06:57.161Z"
   },
   {
    "duration": 666,
    "start_time": "2022-12-06T21:07:26.623Z"
   },
   {
    "duration": 5,
    "start_time": "2022-12-06T21:09:08.518Z"
   },
   {
    "duration": 6,
    "start_time": "2022-12-06T21:11:24.501Z"
   },
   {
    "duration": 4164,
    "start_time": "2022-12-06T21:12:18.957Z"
   },
   {
    "duration": 3880,
    "start_time": "2022-12-06T21:12:54.957Z"
   },
   {
    "duration": 5,
    "start_time": "2022-12-06T21:13:13.500Z"
   },
   {
    "duration": 4626,
    "start_time": "2022-12-06T21:13:20.468Z"
   },
   {
    "duration": 5277,
    "start_time": "2022-12-06T21:13:36.700Z"
   },
   {
    "duration": 5761,
    "start_time": "2022-12-06T21:13:51.772Z"
   },
   {
    "duration": 6797,
    "start_time": "2022-12-06T21:15:01.740Z"
   },
   {
    "duration": 6222,
    "start_time": "2022-12-06T21:15:50.340Z"
   },
   {
    "duration": 72,
    "start_time": "2022-12-06T21:16:52.737Z"
   },
   {
    "duration": 19,
    "start_time": "2022-12-06T21:16:59.265Z"
   },
   {
    "duration": 69,
    "start_time": "2022-12-06T21:17:09.619Z"
   },
   {
    "duration": 6,
    "start_time": "2022-12-06T21:17:15.508Z"
   },
   {
    "duration": 1982,
    "start_time": "2022-12-06T21:17:29.737Z"
   },
   {
    "duration": 557,
    "start_time": "2022-12-06T21:17:41.585Z"
   },
   {
    "duration": 766,
    "start_time": "2022-12-06T21:18:26.754Z"
   },
   {
    "duration": 652,
    "start_time": "2022-12-06T21:18:37.345Z"
   },
   {
    "duration": 661,
    "start_time": "2022-12-06T21:20:21.937Z"
   },
   {
    "duration": 1830,
    "start_time": "2022-12-06T21:20:46.784Z"
   },
   {
    "duration": 2407,
    "start_time": "2022-12-06T21:21:10.273Z"
   },
   {
    "duration": 2268,
    "start_time": "2022-12-06T21:22:11.112Z"
   },
   {
    "duration": 1230,
    "start_time": "2022-12-06T21:22:59.615Z"
   },
   {
    "duration": 2127,
    "start_time": "2022-12-06T21:23:11.335Z"
   },
   {
    "duration": 2351,
    "start_time": "2022-12-06T21:24:25.471Z"
   },
   {
    "duration": 2358,
    "start_time": "2022-12-06T21:24:43.430Z"
   },
   {
    "duration": 2329,
    "start_time": "2022-12-06T21:26:26.573Z"
   },
   {
    "duration": 1272,
    "start_time": "2022-12-06T21:26:51.493Z"
   },
   {
    "duration": 15,
    "start_time": "2022-12-06T21:26:52.767Z"
   },
   {
    "duration": 36,
    "start_time": "2022-12-06T21:26:52.783Z"
   },
   {
    "duration": 16,
    "start_time": "2022-12-06T21:26:52.822Z"
   },
   {
    "duration": 7,
    "start_time": "2022-12-06T21:26:52.840Z"
   },
   {
    "duration": 15,
    "start_time": "2022-12-06T21:26:52.849Z"
   },
   {
    "duration": 5,
    "start_time": "2022-12-06T21:26:52.866Z"
   },
   {
    "duration": 5,
    "start_time": "2022-12-06T21:26:52.873Z"
   },
   {
    "duration": 63,
    "start_time": "2022-12-06T21:26:52.880Z"
   },
   {
    "duration": 5,
    "start_time": "2022-12-06T21:26:52.946Z"
   },
   {
    "duration": 39,
    "start_time": "2022-12-06T21:26:52.952Z"
   },
   {
    "duration": 15,
    "start_time": "2022-12-06T21:26:52.992Z"
   },
   {
    "duration": 60,
    "start_time": "2022-12-06T21:26:53.009Z"
   },
   {
    "duration": 12,
    "start_time": "2022-12-06T21:26:53.071Z"
   },
   {
    "duration": 52,
    "start_time": "2022-12-06T21:26:53.085Z"
   },
   {
    "duration": 7,
    "start_time": "2022-12-06T21:26:53.139Z"
   },
   {
    "duration": 10,
    "start_time": "2022-12-06T21:26:53.148Z"
   },
   {
    "duration": 9,
    "start_time": "2022-12-06T21:26:53.160Z"
   },
   {
    "duration": 202,
    "start_time": "2022-12-06T21:26:53.171Z"
   },
   {
    "duration": 17,
    "start_time": "2022-12-06T21:26:53.374Z"
   },
   {
    "duration": 903,
    "start_time": "2022-12-06T21:26:53.393Z"
   },
   {
    "duration": 2324,
    "start_time": "2022-12-06T21:26:54.298Z"
   },
   {
    "duration": 115,
    "start_time": "2022-12-06T21:26:56.624Z"
   },
   {
    "duration": 328,
    "start_time": "2022-12-06T21:26:56.741Z"
   },
   {
    "duration": 6,
    "start_time": "2022-12-06T21:26:57.071Z"
   },
   {
    "duration": 261,
    "start_time": "2022-12-06T21:26:57.078Z"
   },
   {
    "duration": 155,
    "start_time": "2022-12-06T21:26:57.340Z"
   },
   {
    "duration": 149,
    "start_time": "2022-12-06T21:26:57.498Z"
   },
   {
    "duration": 120,
    "start_time": "2022-12-06T21:26:57.649Z"
   },
   {
    "duration": 179,
    "start_time": "2022-12-06T21:26:57.771Z"
   },
   {
    "duration": 333,
    "start_time": "2022-12-06T21:26:57.958Z"
   },
   {
    "duration": 421,
    "start_time": "2022-12-06T21:26:58.293Z"
   },
   {
    "duration": 25,
    "start_time": "2022-12-06T21:26:58.716Z"
   },
   {
    "duration": 3,
    "start_time": "2022-12-06T21:26:58.743Z"
   },
   {
    "duration": 24,
    "start_time": "2022-12-06T21:26:58.748Z"
   },
   {
    "duration": 21,
    "start_time": "2022-12-06T21:26:58.774Z"
   },
   {
    "duration": 152,
    "start_time": "2022-12-06T21:28:21.228Z"
   },
   {
    "duration": 147,
    "start_time": "2022-12-06T21:29:13.691Z"
   },
   {
    "duration": 809,
    "start_time": "2022-12-06T21:37:29.951Z"
   },
   {
    "duration": 21,
    "start_time": "2022-12-06T21:38:12.991Z"
   },
   {
    "duration": 21,
    "start_time": "2022-12-06T21:38:53.904Z"
   },
   {
    "duration": 33,
    "start_time": "2022-12-06T21:39:35.034Z"
   },
   {
    "duration": 30,
    "start_time": "2022-12-06T21:39:41.367Z"
   },
   {
    "duration": 21,
    "start_time": "2022-12-06T21:39:50.545Z"
   },
   {
    "duration": 357,
    "start_time": "2022-12-06T21:40:00.326Z"
   },
   {
    "duration": 444,
    "start_time": "2022-12-06T21:42:17.238Z"
   },
   {
    "duration": 180,
    "start_time": "2022-12-06T21:43:51.318Z"
   },
   {
    "duration": 5,
    "start_time": "2022-12-06T21:44:48.780Z"
   },
   {
    "duration": 34,
    "start_time": "2022-12-06T21:45:00.660Z"
   },
   {
    "duration": 175,
    "start_time": "2022-12-06T21:45:13.662Z"
   },
   {
    "duration": 183,
    "start_time": "2022-12-06T21:46:31.252Z"
   },
   {
    "duration": 197,
    "start_time": "2022-12-06T21:46:52.283Z"
   },
   {
    "duration": 1112,
    "start_time": "2022-12-06T21:49:33.756Z"
   },
   {
    "duration": 1101,
    "start_time": "2022-12-06T21:50:25.476Z"
   },
   {
    "duration": 808,
    "start_time": "2022-12-06T21:51:06.394Z"
   },
   {
    "duration": 831,
    "start_time": "2022-12-06T21:51:15.868Z"
   },
   {
    "duration": 500,
    "start_time": "2022-12-06T21:51:26.139Z"
   },
   {
    "duration": 373,
    "start_time": "2022-12-06T21:51:49.267Z"
   },
   {
    "duration": 602,
    "start_time": "2022-12-06T21:52:04.548Z"
   },
   {
    "duration": 436,
    "start_time": "2022-12-06T21:52:38.075Z"
   },
   {
    "duration": 470,
    "start_time": "2022-12-06T21:53:35.714Z"
   },
   {
    "duration": 462,
    "start_time": "2022-12-06T21:54:04.755Z"
   },
   {
    "duration": 517,
    "start_time": "2022-12-06T21:54:25.705Z"
   },
   {
    "duration": 460,
    "start_time": "2022-12-06T21:55:32.881Z"
   },
   {
    "duration": 459,
    "start_time": "2022-12-06T21:56:17.666Z"
   },
   {
    "duration": 179,
    "start_time": "2022-12-06T21:59:17.265Z"
   },
   {
    "duration": 193,
    "start_time": "2022-12-06T21:59:29.647Z"
   },
   {
    "duration": 310,
    "start_time": "2022-12-06T21:59:46.807Z"
   },
   {
    "duration": 266,
    "start_time": "2022-12-06T22:00:48.487Z"
   },
   {
    "duration": 140,
    "start_time": "2022-12-06T22:01:19.039Z"
   },
   {
    "duration": 151,
    "start_time": "2022-12-06T22:01:33.767Z"
   },
   {
    "duration": 1257,
    "start_time": "2022-12-06T22:02:00.279Z"
   },
   {
    "duration": 15,
    "start_time": "2022-12-06T22:02:01.538Z"
   },
   {
    "duration": 61,
    "start_time": "2022-12-06T22:02:01.554Z"
   },
   {
    "duration": 3,
    "start_time": "2022-12-06T22:02:01.618Z"
   },
   {
    "duration": 11,
    "start_time": "2022-12-06T22:02:01.624Z"
   },
   {
    "duration": 16,
    "start_time": "2022-12-06T22:02:01.636Z"
   },
   {
    "duration": 9,
    "start_time": "2022-12-06T22:02:01.653Z"
   },
   {
    "duration": 9,
    "start_time": "2022-12-06T22:02:01.663Z"
   },
   {
    "duration": 41,
    "start_time": "2022-12-06T22:02:01.674Z"
   },
   {
    "duration": 6,
    "start_time": "2022-12-06T22:02:01.717Z"
   },
   {
    "duration": 51,
    "start_time": "2022-12-06T22:02:01.724Z"
   },
   {
    "duration": 12,
    "start_time": "2022-12-06T22:02:01.777Z"
   },
   {
    "duration": 63,
    "start_time": "2022-12-06T22:02:01.791Z"
   },
   {
    "duration": 13,
    "start_time": "2022-12-06T22:02:01.856Z"
   },
   {
    "duration": 55,
    "start_time": "2022-12-06T22:02:01.871Z"
   },
   {
    "duration": 7,
    "start_time": "2022-12-06T22:02:01.927Z"
   },
   {
    "duration": 7,
    "start_time": "2022-12-06T22:02:01.937Z"
   },
   {
    "duration": 9,
    "start_time": "2022-12-06T22:02:01.946Z"
   },
   {
    "duration": 215,
    "start_time": "2022-12-06T22:02:01.957Z"
   },
   {
    "duration": 17,
    "start_time": "2022-12-06T22:02:02.173Z"
   },
   {
    "duration": 2338,
    "start_time": "2022-12-06T22:02:02.192Z"
   },
   {
    "duration": 109,
    "start_time": "2022-12-06T22:02:04.532Z"
   },
   {
    "duration": 0,
    "start_time": "2022-12-06T22:02:04.643Z"
   },
   {
    "duration": 0,
    "start_time": "2022-12-06T22:02:04.645Z"
   },
   {
    "duration": 0,
    "start_time": "2022-12-06T22:02:04.645Z"
   },
   {
    "duration": 0,
    "start_time": "2022-12-06T22:02:04.647Z"
   },
   {
    "duration": 0,
    "start_time": "2022-12-06T22:02:04.649Z"
   },
   {
    "duration": 1,
    "start_time": "2022-12-06T22:02:04.650Z"
   },
   {
    "duration": 0,
    "start_time": "2022-12-06T22:02:04.652Z"
   },
   {
    "duration": 0,
    "start_time": "2022-12-06T22:02:04.654Z"
   },
   {
    "duration": 0,
    "start_time": "2022-12-06T22:02:04.656Z"
   },
   {
    "duration": 0,
    "start_time": "2022-12-06T22:02:04.657Z"
   },
   {
    "duration": 0,
    "start_time": "2022-12-06T22:02:04.659Z"
   },
   {
    "duration": 0,
    "start_time": "2022-12-06T22:02:04.660Z"
   },
   {
    "duration": 119,
    "start_time": "2022-12-06T22:03:02.102Z"
   },
   {
    "duration": 113,
    "start_time": "2022-12-06T22:03:21.638Z"
   },
   {
    "duration": 1290,
    "start_time": "2022-12-06T22:03:40.142Z"
   },
   {
    "duration": 15,
    "start_time": "2022-12-06T22:03:41.434Z"
   },
   {
    "duration": 32,
    "start_time": "2022-12-06T22:03:41.451Z"
   },
   {
    "duration": 3,
    "start_time": "2022-12-06T22:03:41.486Z"
   },
   {
    "duration": 7,
    "start_time": "2022-12-06T22:03:41.491Z"
   },
   {
    "duration": 16,
    "start_time": "2022-12-06T22:03:41.500Z"
   },
   {
    "duration": 27,
    "start_time": "2022-12-06T22:03:41.518Z"
   },
   {
    "duration": 8,
    "start_time": "2022-12-06T22:03:41.548Z"
   },
   {
    "duration": 46,
    "start_time": "2022-12-06T22:03:41.558Z"
   },
   {
    "duration": 5,
    "start_time": "2022-12-06T22:03:41.607Z"
   },
   {
    "duration": 58,
    "start_time": "2022-12-06T22:03:41.614Z"
   },
   {
    "duration": 12,
    "start_time": "2022-12-06T22:03:41.674Z"
   },
   {
    "duration": 50,
    "start_time": "2022-12-06T22:03:41.687Z"
   },
   {
    "duration": 13,
    "start_time": "2022-12-06T22:03:41.739Z"
   },
   {
    "duration": 38,
    "start_time": "2022-12-06T22:03:41.754Z"
   },
   {
    "duration": 7,
    "start_time": "2022-12-06T22:03:41.794Z"
   },
   {
    "duration": 6,
    "start_time": "2022-12-06T22:03:41.803Z"
   },
   {
    "duration": 38,
    "start_time": "2022-12-06T22:03:41.811Z"
   },
   {
    "duration": 218,
    "start_time": "2022-12-06T22:03:41.852Z"
   },
   {
    "duration": 18,
    "start_time": "2022-12-06T22:03:42.072Z"
   },
   {
    "duration": 2322,
    "start_time": "2022-12-06T22:03:42.092Z"
   },
   {
    "duration": 198,
    "start_time": "2022-12-06T22:03:44.416Z"
   },
   {
    "duration": 347,
    "start_time": "2022-12-06T22:03:44.616Z"
   },
   {
    "duration": 6,
    "start_time": "2022-12-06T22:03:44.965Z"
   },
   {
    "duration": 265,
    "start_time": "2022-12-06T22:03:44.972Z"
   },
   {
    "duration": 164,
    "start_time": "2022-12-06T22:03:45.239Z"
   },
   {
    "duration": 155,
    "start_time": "2022-12-06T22:03:45.405Z"
   },
   {
    "duration": 122,
    "start_time": "2022-12-06T22:03:45.564Z"
   },
   {
    "duration": 199,
    "start_time": "2022-12-06T22:03:45.689Z"
   },
   {
    "duration": 302,
    "start_time": "2022-12-06T22:03:45.889Z"
   },
   {
    "duration": 301,
    "start_time": "2022-12-06T22:03:46.193Z"
   },
   {
    "duration": 17,
    "start_time": "2022-12-06T22:03:46.495Z"
   },
   {
    "duration": 580,
    "start_time": "2022-12-06T22:03:46.513Z"
   },
   {
    "duration": 458,
    "start_time": "2022-12-06T22:03:47.095Z"
   }
  ],
  "kernelspec": {
   "display_name": "Python 3 (ipykernel)",
   "language": "python",
   "name": "python3"
  },
  "language_info": {
   "codemirror_mode": {
    "name": "ipython",
    "version": 3
   },
   "file_extension": ".py",
   "mimetype": "text/x-python",
   "name": "python",
   "nbconvert_exporter": "python",
   "pygments_lexer": "ipython3",
   "version": "3.9.5"
  },
  "toc": {
   "base_numbering": 1,
   "nav_menu": {},
   "number_sections": true,
   "sideBar": true,
   "skip_h1_title": true,
   "title_cell": "Table of Contents",
   "title_sidebar": "Contents",
   "toc_cell": false,
   "toc_position": {
    "height": "calc(100% - 180px)",
    "left": "10px",
    "top": "150px",
    "width": "238.781px"
   },
   "toc_section_display": true,
   "toc_window_display": false
  },
  "vscode": {
   "interpreter": {
    "hash": "8e78f0197b4980055e2bc45d26be2e4615f01851326e1ed3a0c731c4b5c09364"
   }
  }
 },
 "nbformat": 4,
 "nbformat_minor": 2
}
