{
 "cells": [
  {
   "cell_type": "markdown",
   "metadata": {
    "toc": true
   },
   "source": [
    "<h1>Содержание<span class=\"tocSkip\"></span></h1>\n",
    "<div class=\"toc\"><ul class=\"toc-item\"><li><span><a href=\"#Подготовка\" data-toc-modified-id=\"Подготовка-1\"><span class=\"toc-item-num\">1&nbsp;&nbsp;</span>Подготовка</a></span></li><li><span><a href=\"#Обучение\" data-toc-modified-id=\"Обучение-2\"><span class=\"toc-item-num\">2&nbsp;&nbsp;</span>Обучение</a></span></li><li><span><a href=\"#Выводы\" data-toc-modified-id=\"Выводы-3\"><span class=\"toc-item-num\">3&nbsp;&nbsp;</span>Выводы</a></span></li></ul></div>"
   ]
  },
  {
   "cell_type": "markdown",
   "metadata": {},
   "source": [
    "# Проект для «Викишоп»"
   ]
  },
  {
   "cell_type": "markdown",
   "metadata": {},
   "source": [
    "Интернет-магазин «Викишоп» запускает новый сервис. Теперь пользователи могут редактировать и дополнять описания товаров, как в вики-сообществах. То есть клиенты предлагают свои правки и комментируют изменения других. Магазину нужен инструмент, который будет искать токсичные комментарии и отправлять их на модерацию. \n",
    "\n",
    "Обучите модель классифицировать комментарии на позитивные и негативные. В вашем распоряжении набор данных с разметкой о токсичности правок.\n",
    "\n",
    "Постройте модель со значением метрики качества *F1* не меньше 0.75. \n",
    "\n",
    "**Инструкция по выполнению проекта**\n",
    "\n",
    "1. Загрузите и подготовьте данные.\n",
    "2. Обучите разные модели. \n",
    "3. Сделайте выводы.\n",
    "\n",
    "Для выполнения проекта применять *BERT* необязательно, но вы можете попробовать.\n",
    "\n",
    "**Описание данных**\n",
    "\n",
    "Данные находятся в файле `toxic_comments.csv`. Столбец *text* в нём содержит текст комментария, а *toxic* — целевой признак."
   ]
  },
  {
   "cell_type": "markdown",
   "metadata": {},
   "source": [
    "## Подготовка"
   ]
  },
  {
   "cell_type": "code",
   "execution_count": 1,
   "metadata": {},
   "outputs": [
    {
     "name": "stderr",
     "output_type": "stream",
     "text": [
      "[nltk_data] Downloading package averaged_perceptron_tagger to\n",
      "[nltk_data]     /home/jovyan/nltk_data...\n",
      "[nltk_data]   Unzipping taggers/averaged_perceptron_tagger.zip.\n"
     ]
    },
    {
     "data": {
      "text/plain": [
       "True"
      ]
     },
     "execution_count": 1,
     "metadata": {},
     "output_type": "execute_result"
    }
   ],
   "source": [
    "import numpy as np\n",
    "import pandas as pd\n",
    "import re\n",
    "import spacy\n",
    "from spacy.lang.en import stop_words\n",
    "\n",
    "from sklearn.linear_model import LogisticRegression\n",
    "from sklearn.svm import LinearSVC\n",
    "from sklearn.model_selection import train_test_split, cross_val_score, GridSearchCV\n",
    "from sklearn.feature_extraction.text import TfidfVectorizer\n",
    "from sklearn.metrics import f1_score\n",
    "from sklearn.pipeline import Pipeline\n",
    "\n",
    "import nltk\n",
    "from nltk.corpus import stopwords as nltk_stopwords\n",
    "from nltk.stem import WordNetLemmatizer\n",
    "from nltk.corpus import wordnet\n",
    "\n",
    "nltk.download('averaged_perceptron_tagger')"
   ]
  },
  {
   "cell_type": "code",
   "execution_count": 20,
   "metadata": {},
   "outputs": [],
   "source": [
    "data = pd.read_csv('/datasets/toxic_comments.csv')"
   ]
  },
  {
   "cell_type": "code",
   "execution_count": 21,
   "metadata": {},
   "outputs": [
    {
     "name": "stdout",
     "output_type": "stream",
     "text": [
      "<class 'pandas.core.frame.DataFrame'>\n",
      "RangeIndex: 159292 entries, 0 to 159291\n",
      "Data columns (total 3 columns):\n",
      " #   Column      Non-Null Count   Dtype \n",
      "---  ------      --------------   ----- \n",
      " 0   Unnamed: 0  159292 non-null  int64 \n",
      " 1   text        159292 non-null  object\n",
      " 2   toxic       159292 non-null  int64 \n",
      "dtypes: int64(2), object(1)\n",
      "memory usage: 3.6+ MB\n"
     ]
    }
   ],
   "source": [
    "data.info()"
   ]
  },
  {
   "cell_type": "code",
   "execution_count": 22,
   "metadata": {},
   "outputs": [
    {
     "data": {
      "text/html": [
       "<div>\n",
       "<style scoped>\n",
       "    .dataframe tbody tr th:only-of-type {\n",
       "        vertical-align: middle;\n",
       "    }\n",
       "\n",
       "    .dataframe tbody tr th {\n",
       "        vertical-align: top;\n",
       "    }\n",
       "\n",
       "    .dataframe thead th {\n",
       "        text-align: right;\n",
       "    }\n",
       "</style>\n",
       "<table border=\"1\" class=\"dataframe\">\n",
       "  <thead>\n",
       "    <tr style=\"text-align: right;\">\n",
       "      <th></th>\n",
       "      <th>Unnamed: 0</th>\n",
       "      <th>text</th>\n",
       "      <th>toxic</th>\n",
       "    </tr>\n",
       "  </thead>\n",
       "  <tbody>\n",
       "    <tr>\n",
       "      <th>0</th>\n",
       "      <td>0</td>\n",
       "      <td>Explanation\\nWhy the edits made under my usern...</td>\n",
       "      <td>0</td>\n",
       "    </tr>\n",
       "    <tr>\n",
       "      <th>1</th>\n",
       "      <td>1</td>\n",
       "      <td>D'aww! He matches this background colour I'm s...</td>\n",
       "      <td>0</td>\n",
       "    </tr>\n",
       "    <tr>\n",
       "      <th>2</th>\n",
       "      <td>2</td>\n",
       "      <td>Hey man, I'm really not trying to edit war. It...</td>\n",
       "      <td>0</td>\n",
       "    </tr>\n",
       "    <tr>\n",
       "      <th>3</th>\n",
       "      <td>3</td>\n",
       "      <td>\"\\nMore\\nI can't make any real suggestions on ...</td>\n",
       "      <td>0</td>\n",
       "    </tr>\n",
       "    <tr>\n",
       "      <th>4</th>\n",
       "      <td>4</td>\n",
       "      <td>You, sir, are my hero. Any chance you remember...</td>\n",
       "      <td>0</td>\n",
       "    </tr>\n",
       "  </tbody>\n",
       "</table>\n",
       "</div>"
      ],
      "text/plain": [
       "   Unnamed: 0                                               text  toxic\n",
       "0           0  Explanation\\nWhy the edits made under my usern...      0\n",
       "1           1  D'aww! He matches this background colour I'm s...      0\n",
       "2           2  Hey man, I'm really not trying to edit war. It...      0\n",
       "3           3  \"\\nMore\\nI can't make any real suggestions on ...      0\n",
       "4           4  You, sir, are my hero. Any chance you remember...      0"
      ]
     },
     "execution_count": 22,
     "metadata": {},
     "output_type": "execute_result"
    }
   ],
   "source": [
    "data.head()"
   ]
  },
  {
   "cell_type": "code",
   "execution_count": 23,
   "metadata": {
    "scrolled": true
   },
   "outputs": [
    {
     "name": "stdout",
     "output_type": "stream",
     "text": [
      "Соотношение класса 1 признака Toxic - 10.16%\n"
     ]
    }
   ],
   "source": [
    "print('Соотношение класса 1 признака Toxic - {:.2%}'.format(sum(data['toxic']) / len(data)))"
   ]
  },
  {
   "cell_type": "markdown",
   "metadata": {},
   "source": [
    "Сначала надо очистить текст от ненужных символов, а также лемматизировать его"
   ]
  },
  {
   "cell_type": "code",
   "execution_count": 38,
   "metadata": {},
   "outputs": [],
   "source": [
    "wnl = WordNetLemmatizer()"
   ]
  },
  {
   "cell_type": "code",
   "execution_count": 39,
   "metadata": {},
   "outputs": [],
   "source": [
    "corpus = data['text'].values"
   ]
  },
  {
   "cell_type": "code",
   "execution_count": 40,
   "metadata": {},
   "outputs": [],
   "source": [
    "def text_cleaner(text):\n",
    "    text = re.sub(r'[^a-zA-Z ]', ' ', text)\n",
    "    return \" \".join(text.split())"
   ]
  },
  {
   "cell_type": "code",
   "execution_count": 41,
   "metadata": {},
   "outputs": [],
   "source": [
    "def get_wordnet_pos(word):\n",
    "    tag = nltk.pos_tag([word])[0][1][0].upper()\n",
    "    tag_dict = {\"J\": wordnet.ADJ,\n",
    "                \"N\": wordnet.NOUN,\n",
    "                \"V\": wordnet.VERB,\n",
    "                \"R\": wordnet.ADV}\n",
    "    return tag_dict.get(tag, wordnet.NOUN)\n",
    "\n",
    "def text_lemmitezer(text):\n",
    "    tokens = nltk.word_tokenize(text)\n",
    "    return ' '.join([wnl.lemmatize(w, get_wordnet_pos(w)) for w in tokens])"
   ]
  },
  {
   "cell_type": "code",
   "execution_count": 46,
   "metadata": {},
   "outputs": [
    {
     "name": "stdout",
     "output_type": "stream",
     "text": [
      "[('describes', 'NNS')]\n"
     ]
    }
   ],
   "source": [
    "#print(nltk.pos_tag(['describes']))"
   ]
  },
  {
   "cell_type": "code",
   "execution_count": 47,
   "metadata": {},
   "outputs": [],
   "source": [
    "corpus_lemmatized = []\n",
    "for i in range(len(corpus)): \n",
    "    index = text_lemmitezer(text_cleaner(corpus[i]))\n",
    "    corpus_lemmatized.append(index)"
   ]
  },
  {
   "cell_type": "code",
   "execution_count": 50,
   "metadata": {},
   "outputs": [],
   "source": [
    "stopwords = set(nltk_stopwords.words('english'))"
   ]
  },
  {
   "cell_type": "markdown",
   "metadata": {},
   "source": [
    "Далее разделим корпус на тренировочный и тестовый"
   ]
  },
  {
   "cell_type": "code",
   "execution_count": 51,
   "metadata": {},
   "outputs": [],
   "source": [
    "X_train, X_test, y_train, y_test = train_test_split(corpus_lemmatized, data['toxic'], test_size=0.2, random_state=42)"
   ]
  },
  {
   "cell_type": "markdown",
   "metadata": {},
   "source": [
    "Далее преобразуем корпус с помощью TF-IDF векторизации"
   ]
  },
  {
   "cell_type": "code",
   "execution_count": 52,
   "metadata": {},
   "outputs": [],
   "source": [
    "ti = TfidfVectorizer(stop_words=stopwords)"
   ]
  },
  {
   "cell_type": "code",
   "execution_count": 53,
   "metadata": {},
   "outputs": [],
   "source": [
    "X_train_ti = ti.fit_transform(X_train)\n",
    "X_test_ti = ti.transform(X_test)"
   ]
  },
  {
   "cell_type": "markdown",
   "metadata": {},
   "source": [
    "## Обучение"
   ]
  },
  {
   "cell_type": "markdown",
   "metadata": {},
   "source": [
    "Обучим модели с помощью 2 разных алгоритмов LogisticRegression и SVC, а также произведем подбор их гиперпараметров."
   ]
  },
  {
   "cell_type": "code",
   "execution_count": 57,
   "metadata": {},
   "outputs": [
    {
     "name": "stdout",
     "output_type": "stream",
     "text": [
      "Fitting 5 folds for each of 3 candidates, totalling 15 fits\n",
      "[CV] END ...................model__C=9, model__max_iter=1000; total time= 1.6min\n",
      "[CV] END ...................model__C=9, model__max_iter=1000; total time= 1.9min\n",
      "[CV] END ...................model__C=9, model__max_iter=1000; total time= 1.7min\n",
      "[CV] END ...................model__C=9, model__max_iter=1000; total time= 1.8min\n",
      "[CV] END ...................model__C=9, model__max_iter=1000; total time= 1.6min\n",
      "[CV] END ..................model__C=10, model__max_iter=1000; total time= 1.7min\n",
      "[CV] END ..................model__C=10, model__max_iter=1000; total time= 1.6min\n",
      "[CV] END ..................model__C=10, model__max_iter=1000; total time= 1.7min\n",
      "[CV] END ..................model__C=10, model__max_iter=1000; total time= 1.1min\n",
      "[CV] END ..................model__C=10, model__max_iter=1000; total time= 1.9min\n",
      "[CV] END ..................model__C=11, model__max_iter=1000; total time= 2.0min\n",
      "[CV] END ..................model__C=11, model__max_iter=1000; total time= 1.9min\n",
      "[CV] END ..................model__C=11, model__max_iter=1000; total time= 1.7min\n",
      "[CV] END ..................model__C=11, model__max_iter=1000; total time= 1.6min\n",
      "[CV] END ..................model__C=11, model__max_iter=1000; total time= 1.9min\n"
     ]
    },
    {
     "data": {
      "text/plain": [
       "GridSearchCV(cv=5,\n",
       "             estimator=Pipeline(steps=[('ti',\n",
       "                                        TfidfVectorizer(stop_words={'a',\n",
       "                                                                    'about',\n",
       "                                                                    'above',\n",
       "                                                                    'after',\n",
       "                                                                    'again',\n",
       "                                                                    'against',\n",
       "                                                                    'ain',\n",
       "                                                                    'all', 'am',\n",
       "                                                                    'an', 'and',\n",
       "                                                                    'any',\n",
       "                                                                    'are',\n",
       "                                                                    'aren',\n",
       "                                                                    \"aren't\",\n",
       "                                                                    'as', 'at',\n",
       "                                                                    'be',\n",
       "                                                                    'because',\n",
       "                                                                    'been',\n",
       "                                                                    'before',\n",
       "                                                                    'being',\n",
       "                                                                    'below',\n",
       "                                                                    'between',\n",
       "                                                                    'both',\n",
       "                                                                    'but', 'by',\n",
       "                                                                    'can',\n",
       "                                                                    'couldn',\n",
       "                                                                    \"couldn't\", ...})),\n",
       "                                       ('model', LogisticRegression())]),\n",
       "             n_jobs=-1,\n",
       "             param_grid={'model__C': [9, 10, 11], 'model__max_iter': [1000]},\n",
       "             scoring='f1', verbose=2)"
      ]
     },
     "execution_count": 57,
     "metadata": {},
     "output_type": "execute_result"
    }
   ],
   "source": [
    "pipe_lr = Pipeline([('ti', TfidfVectorizer(stop_words=stopwords)),\n",
    "                 ('model', LogisticRegression())])\n",
    "\n",
    "parameters = {'model__C': [9, 10, 11],\n",
    "              'model__max_iter': [1000]}\n",
    "#lrm = LogisticRegression()\n",
    "grid_lrm = GridSearchCV(pipe_lr, parameters,\n",
    "                  cv=5,\n",
    "                  scoring='f1',\n",
    "                  n_jobs=-1,\n",
    "                  verbose=2)\n",
    "grid_lrm.fit(X_train, y_train)"
   ]
  },
  {
   "cell_type": "code",
   "execution_count": 58,
   "metadata": {},
   "outputs": [
    {
     "name": "stdout",
     "output_type": "stream",
     "text": [
      "Параметры лучшей модели - 0.7698672713382555, метрика F1 - {'model__C': 11, 'model__max_iter': 1000}\n"
     ]
    }
   ],
   "source": [
    "print('Параметры лучшей модели - {}, метрика F1 - {}'.format(grid_lrm.best_score_, grid_lrm.best_params_))"
   ]
  },
  {
   "cell_type": "code",
   "execution_count": 59,
   "metadata": {},
   "outputs": [
    {
     "name": "stdout",
     "output_type": "stream",
     "text": [
      "Fitting 5 folds for each of 4 candidates, totalling 20 fits\n",
      "[CV] END ................model__C=0.01, model__max_iter=1000; total time=   6.3s\n",
      "[CV] END ................model__C=0.01, model__max_iter=1000; total time=   6.0s\n",
      "[CV] END ................model__C=0.01, model__max_iter=1000; total time=   6.1s\n",
      "[CV] END ................model__C=0.01, model__max_iter=1000; total time=   6.2s\n",
      "[CV] END ................model__C=0.01, model__max_iter=1000; total time=   6.4s\n",
      "[CV] END .................model__C=0.1, model__max_iter=1000; total time=   6.1s\n",
      "[CV] END .................model__C=0.1, model__max_iter=1000; total time=   6.2s\n",
      "[CV] END .................model__C=0.1, model__max_iter=1000; total time=   6.2s\n",
      "[CV] END .................model__C=0.1, model__max_iter=1000; total time=   6.0s\n",
      "[CV] END .................model__C=0.1, model__max_iter=1000; total time=   6.2s\n",
      "[CV] END ..................model__C=10, model__max_iter=1000; total time=   9.0s\n",
      "[CV] END ..................model__C=10, model__max_iter=1000; total time=  10.0s\n",
      "[CV] END ..................model__C=10, model__max_iter=1000; total time=   9.6s\n",
      "[CV] END ..................model__C=10, model__max_iter=1000; total time=  10.2s\n",
      "[CV] END ..................model__C=10, model__max_iter=1000; total time=   9.4s\n",
      "[CV] END ..................model__C=11, model__max_iter=1000; total time=   9.3s\n",
      "[CV] END ..................model__C=11, model__max_iter=1000; total time=   9.8s\n",
      "[CV] END ..................model__C=11, model__max_iter=1000; total time=   9.5s\n",
      "[CV] END ..................model__C=11, model__max_iter=1000; total time=  10.5s\n",
      "[CV] END ..................model__C=11, model__max_iter=1000; total time=   9.6s\n"
     ]
    },
    {
     "data": {
      "text/plain": [
       "GridSearchCV(cv=5,\n",
       "             estimator=Pipeline(steps=[('ti',\n",
       "                                        TfidfVectorizer(stop_words={'a',\n",
       "                                                                    'about',\n",
       "                                                                    'above',\n",
       "                                                                    'after',\n",
       "                                                                    'again',\n",
       "                                                                    'against',\n",
       "                                                                    'ain',\n",
       "                                                                    'all', 'am',\n",
       "                                                                    'an', 'and',\n",
       "                                                                    'any',\n",
       "                                                                    'are',\n",
       "                                                                    'aren',\n",
       "                                                                    \"aren't\",\n",
       "                                                                    'as', 'at',\n",
       "                                                                    'be',\n",
       "                                                                    'because',\n",
       "                                                                    'been',\n",
       "                                                                    'before',\n",
       "                                                                    'being',\n",
       "                                                                    'below',\n",
       "                                                                    'between',\n",
       "                                                                    'both',\n",
       "                                                                    'but', 'by',\n",
       "                                                                    'can',\n",
       "                                                                    'couldn',\n",
       "                                                                    \"couldn't\", ...})),\n",
       "                                       ('model', LinearSVC())]),\n",
       "             n_jobs=-1,\n",
       "             param_grid={'model__C': [0.01, 0.1, 10, 11],\n",
       "                         'model__max_iter': [1000]},\n",
       "             scoring='f1', verbose=2)"
      ]
     },
     "execution_count": 59,
     "metadata": {},
     "output_type": "execute_result"
    }
   ],
   "source": [
    "pipe_svc = Pipeline([('ti', TfidfVectorizer(stop_words=stopwords)),\n",
    "                 ('model', LinearSVC())])\n",
    "\n",
    "parameters = {'model__C': [0.01, 0.1, 10, 11],\n",
    "              'model__max_iter': [1000]}\n",
    "#svc = LinearSVC()\n",
    "grid_svc = GridSearchCV(pipe_svc, parameters,\n",
    "                  cv=5,\n",
    "                  scoring='f1',\n",
    "                  n_jobs=-1,\n",
    "                  verbose=2)\n",
    "grid_svc.fit(X_train, y_train)"
   ]
  },
  {
   "cell_type": "code",
   "execution_count": 60,
   "metadata": {
    "scrolled": true
   },
   "outputs": [
    {
     "name": "stdout",
     "output_type": "stream",
     "text": [
      "Параметры лучшей модели - 0.7421427743995489, метрика F1 - {'model__C': 10, 'model__max_iter': 1000}\n"
     ]
    }
   ],
   "source": [
    "print('Параметры лучшей модели - {}, метрика F1 - {}'.format(grid_svc.best_score_, grid_svc.best_params_))"
   ]
  },
  {
   "cell_type": "code",
   "execution_count": 62,
   "metadata": {},
   "outputs": [
    {
     "name": "stderr",
     "output_type": "stream",
     "text": [
      "/opt/conda/lib/python3.9/site-packages/sklearn/linear_model/_logistic.py:763: ConvergenceWarning: lbfgs failed to converge (status=1):\n",
      "STOP: TOTAL NO. of ITERATIONS REACHED LIMIT.\n",
      "\n",
      "Increase the number of iterations (max_iter) or scale the data as shown in:\n",
      "    https://scikit-learn.org/stable/modules/preprocessing.html\n",
      "Please also refer to the documentation for alternative solver options:\n",
      "    https://scikit-learn.org/stable/modules/linear_model.html#logistic-regression\n",
      "  n_iter_i = _check_optimize_result(\n"
     ]
    },
    {
     "data": {
      "text/plain": [
       "LogisticRegression(C=11)"
      ]
     },
     "execution_count": 62,
     "metadata": {},
     "output_type": "execute_result"
    }
   ],
   "source": [
    "lrm = LogisticRegression(C = 11)\n",
    "lrm.fit(X_train_ti, y_train)"
   ]
  },
  {
   "cell_type": "code",
   "execution_count": 63,
   "metadata": {},
   "outputs": [
    {
     "name": "stdout",
     "output_type": "stream",
     "text": [
      "Метрика F1 на тестовой выборке - 0.7685282753775906\n"
     ]
    }
   ],
   "source": [
    "print('Метрика F1 на тестовой выборке - {}'.format(f1_score(lrm.predict(X_test_ti), y_test)))"
   ]
  },
  {
   "cell_type": "markdown",
   "metadata": {},
   "source": [
    "## Выводы"
   ]
  },
  {
   "cell_type": "markdown",
   "metadata": {},
   "source": [
    "В этом проекте была разработана модель классификации токсичности твитов. В ходе работ был очищен текст от не нужных символов, проведена лемматизация текстов. Тексты также очищены от стоп-слов.\n",
    "\n",
    "Был проведен подбор гиперпараметров для алгоритмов LogisticRegression и SVC. Метрики F1 этих моделей составили 0.76 и 0.74, соответственно. \n",
    "\n",
    "В качестве финальной модели была выбрана модель с алгоритмом LogisticRegression, которая на тестовой выборке твитов, показала метрику F1 - 0.76"
   ]
  }
 ],
 "metadata": {
  "ExecuteTimeLog": [
   {
    "duration": 7144,
    "start_time": "2023-04-01T14:58:06.394Z"
   },
   {
    "duration": 623,
    "start_time": "2023-04-01T14:58:13.541Z"
   },
   {
    "duration": 0,
    "start_time": "2023-04-01T14:58:14.168Z"
   },
   {
    "duration": 0,
    "start_time": "2023-04-01T14:58:14.169Z"
   },
   {
    "duration": 4124,
    "start_time": "2023-04-01T14:58:31.140Z"
   },
   {
    "duration": 22,
    "start_time": "2023-04-01T14:58:37.538Z"
   },
   {
    "duration": 15,
    "start_time": "2023-04-01T14:58:38.345Z"
   },
   {
    "duration": 24,
    "start_time": "2023-04-01T15:01:11.804Z"
   },
   {
    "duration": 15,
    "start_time": "2023-04-01T15:01:16.586Z"
   },
   {
    "duration": 23,
    "start_time": "2023-04-01T15:07:14.500Z"
   },
   {
    "duration": 2,
    "start_time": "2023-04-01T15:07:17.722Z"
   },
   {
    "duration": 13939,
    "start_time": "2023-04-01T15:07:18.444Z"
   },
   {
    "duration": 565,
    "start_time": "2023-04-01T15:07:32.443Z"
   },
   {
    "duration": 233,
    "start_time": "2023-04-01T15:07:33.009Z"
   },
   {
    "duration": 1089,
    "start_time": "2023-04-01T15:07:33.245Z"
   },
   {
    "duration": 4,
    "start_time": "2023-04-01T15:08:37.363Z"
   },
   {
    "duration": 126,
    "start_time": "2023-04-01T15:09:02.370Z"
   },
   {
    "duration": 4,
    "start_time": "2023-04-01T15:09:06.309Z"
   },
   {
    "duration": 54936,
    "start_time": "2023-04-01T15:10:53.417Z"
   },
   {
    "duration": 10,
    "start_time": "2023-04-01T15:12:17.360Z"
   },
   {
    "duration": 29,
    "start_time": "2023-04-01T15:13:05.809Z"
   },
   {
    "duration": 5,
    "start_time": "2023-04-01T15:13:51.866Z"
   },
   {
    "duration": 5,
    "start_time": "2023-04-01T15:14:03.507Z"
   },
   {
    "duration": 9,
    "start_time": "2023-04-01T15:17:05.690Z"
   },
   {
    "duration": 3,
    "start_time": "2023-04-01T15:17:28.312Z"
   },
   {
    "duration": 230,
    "start_time": "2023-04-01T15:18:28.536Z"
   },
   {
    "duration": 21,
    "start_time": "2023-04-01T15:18:40.424Z"
   },
   {
    "duration": 17,
    "start_time": "2023-04-01T15:19:05.616Z"
   },
   {
    "duration": 4,
    "start_time": "2023-04-01T15:19:11.846Z"
   },
   {
    "duration": 10,
    "start_time": "2023-04-01T15:19:49.967Z"
   },
   {
    "duration": 10,
    "start_time": "2023-04-01T15:23:58.870Z"
   },
   {
    "duration": 56,
    "start_time": "2023-04-01T15:26:51.054Z"
   },
   {
    "duration": 29,
    "start_time": "2023-04-01T15:27:12.826Z"
   },
   {
    "duration": 30,
    "start_time": "2023-04-01T15:27:40.026Z"
   },
   {
    "duration": 33,
    "start_time": "2023-04-01T15:28:19.412Z"
   },
   {
    "duration": 3,
    "start_time": "2023-04-01T15:28:55.815Z"
   },
   {
    "duration": 4,
    "start_time": "2023-04-01T15:29:10.934Z"
   },
   {
    "duration": 27,
    "start_time": "2023-04-01T15:30:38.133Z"
   },
   {
    "duration": 3,
    "start_time": "2023-04-01T15:31:06.903Z"
   },
   {
    "duration": 3,
    "start_time": "2023-04-01T15:31:13.915Z"
   },
   {
    "duration": 32,
    "start_time": "2023-04-01T15:32:09.306Z"
   },
   {
    "duration": 27,
    "start_time": "2023-04-01T15:32:27.993Z"
   },
   {
    "duration": 3,
    "start_time": "2023-04-01T15:32:47.914Z"
   },
   {
    "duration": 5,
    "start_time": "2023-04-01T15:32:55.969Z"
   },
   {
    "duration": 35402,
    "start_time": "2023-04-01T15:33:41.831Z"
   },
   {
    "duration": 87054,
    "start_time": "2023-04-01T15:35:04.904Z"
   },
   {
    "duration": 84202,
    "start_time": "2023-04-01T15:38:24.050Z"
   },
   {
    "duration": 10,
    "start_time": "2023-04-01T15:40:37.121Z"
   },
   {
    "duration": 58,
    "start_time": "2023-04-01T15:41:37.857Z"
   },
   {
    "duration": 17,
    "start_time": "2023-04-01T15:44:37.126Z"
   },
   {
    "duration": 3,
    "start_time": "2023-04-01T15:45:33.500Z"
   },
   {
    "duration": 3,
    "start_time": "2023-04-01T15:45:37.462Z"
   },
   {
    "duration": 15,
    "start_time": "2023-04-01T15:46:50.429Z"
   },
   {
    "duration": 3,
    "start_time": "2023-04-01T15:46:53.429Z"
   },
   {
    "duration": 6480,
    "start_time": "2023-04-01T15:46:53.892Z"
   },
   {
    "duration": 16,
    "start_time": "2023-04-01T15:50:00.603Z"
   },
   {
    "duration": 3,
    "start_time": "2023-04-01T15:50:28.450Z"
   },
   {
    "duration": 17,
    "start_time": "2023-04-01T15:50:32.303Z"
   },
   {
    "duration": 57,
    "start_time": "2023-04-01T15:50:40.604Z"
   },
   {
    "duration": 1873,
    "start_time": "2023-04-01T16:03:05.373Z"
   },
   {
    "duration": 2246,
    "start_time": "2023-04-01T16:03:07.248Z"
   },
   {
    "duration": 12,
    "start_time": "2023-04-01T16:03:09.495Z"
   },
   {
    "duration": 16,
    "start_time": "2023-04-01T16:03:09.508Z"
   },
   {
    "duration": 3,
    "start_time": "2023-04-01T16:03:09.525Z"
   },
   {
    "duration": 1640,
    "start_time": "2023-04-01T16:03:09.529Z"
   },
   {
    "duration": 3,
    "start_time": "2023-04-01T16:03:11.170Z"
   },
   {
    "duration": 21,
    "start_time": "2023-04-01T16:03:11.174Z"
   },
   {
    "duration": 6950,
    "start_time": "2023-04-01T16:03:11.196Z"
   },
   {
    "duration": 0,
    "start_time": "2023-04-01T16:03:18.148Z"
   },
   {
    "duration": 0,
    "start_time": "2023-04-01T16:03:18.149Z"
   },
   {
    "duration": 0,
    "start_time": "2023-04-01T16:03:18.150Z"
   },
   {
    "duration": 0,
    "start_time": "2023-04-01T16:03:18.151Z"
   },
   {
    "duration": 0,
    "start_time": "2023-04-01T16:03:18.152Z"
   },
   {
    "duration": 0,
    "start_time": "2023-04-01T16:03:18.153Z"
   },
   {
    "duration": 0,
    "start_time": "2023-04-01T16:03:18.154Z"
   },
   {
    "duration": 1350,
    "start_time": "2023-04-01T16:04:08.670Z"
   },
   {
    "duration": 848,
    "start_time": "2023-04-01T16:04:10.022Z"
   },
   {
    "duration": 12,
    "start_time": "2023-04-01T16:04:10.872Z"
   },
   {
    "duration": 12,
    "start_time": "2023-04-01T16:04:10.885Z"
   },
   {
    "duration": 3,
    "start_time": "2023-04-01T16:04:10.899Z"
   },
   {
    "duration": 1658,
    "start_time": "2023-04-01T16:04:10.903Z"
   },
   {
    "duration": 3,
    "start_time": "2023-04-01T16:04:12.562Z"
   },
   {
    "duration": 7,
    "start_time": "2023-04-01T16:04:12.566Z"
   },
   {
    "duration": 76854,
    "start_time": "2023-04-01T16:04:12.574Z"
   },
   {
    "duration": 3,
    "start_time": "2023-04-01T16:05:29.429Z"
   },
   {
    "duration": 56,
    "start_time": "2023-04-01T16:05:29.433Z"
   },
   {
    "duration": 3,
    "start_time": "2023-04-01T16:05:29.490Z"
   },
   {
    "duration": 5819,
    "start_time": "2023-04-01T16:05:29.494Z"
   },
   {
    "duration": 293,
    "start_time": "2023-04-01T16:05:35.315Z"
   },
   {
    "duration": 0,
    "start_time": "2023-04-01T16:05:35.609Z"
   },
   {
    "duration": 0,
    "start_time": "2023-04-01T16:05:35.610Z"
   },
   {
    "duration": 0,
    "start_time": "2023-04-01T16:05:35.611Z"
   },
   {
    "duration": 465666,
    "start_time": "2023-04-01T16:06:45.217Z"
   },
   {
    "duration": 3,
    "start_time": "2023-04-01T16:16:29.900Z"
   },
   {
    "duration": 50,
    "start_time": "2023-04-01T16:17:00.179Z"
   },
   {
    "duration": 1878,
    "start_time": "2023-04-01T16:17:34.370Z"
   },
   {
    "duration": 2270,
    "start_time": "2023-04-01T16:17:36.249Z"
   },
   {
    "duration": 13,
    "start_time": "2023-04-01T16:17:38.521Z"
   },
   {
    "duration": 13,
    "start_time": "2023-04-01T16:17:38.535Z"
   },
   {
    "duration": 4,
    "start_time": "2023-04-01T16:17:38.550Z"
   },
   {
    "duration": 1781,
    "start_time": "2023-04-01T16:17:38.555Z"
   },
   {
    "duration": 5,
    "start_time": "2023-04-01T16:17:40.338Z"
   },
   {
    "duration": 4,
    "start_time": "2023-04-01T16:17:40.344Z"
   },
   {
    "duration": 78415,
    "start_time": "2023-04-01T16:17:40.350Z"
   },
   {
    "duration": 20,
    "start_time": "2023-04-01T16:18:58.767Z"
   },
   {
    "duration": 58,
    "start_time": "2023-04-01T16:18:58.789Z"
   },
   {
    "duration": 3,
    "start_time": "2023-04-01T16:18:58.849Z"
   },
   {
    "duration": 6144,
    "start_time": "2023-04-01T16:18:58.853Z"
   },
   {
    "duration": 609486,
    "start_time": "2023-04-01T16:19:04.999Z"
   },
   {
    "duration": 5,
    "start_time": "2023-04-01T16:29:14.572Z"
   },
   {
    "duration": 56,
    "start_time": "2023-04-01T16:29:47.019Z"
   },
   {
    "duration": 6,
    "start_time": "2023-04-01T16:30:46.301Z"
   },
   {
    "duration": 2440,
    "start_time": "2023-04-01T16:31:20.125Z"
   },
   {
    "duration": 2271,
    "start_time": "2023-04-01T16:31:22.567Z"
   },
   {
    "duration": 11,
    "start_time": "2023-04-01T16:31:24.839Z"
   },
   {
    "duration": 20,
    "start_time": "2023-04-01T16:31:24.851Z"
   },
   {
    "duration": 5,
    "start_time": "2023-04-01T16:31:24.873Z"
   },
   {
    "duration": 1723,
    "start_time": "2023-04-01T16:31:24.879Z"
   },
   {
    "duration": 9,
    "start_time": "2023-04-01T16:31:26.604Z"
   },
   {
    "duration": 5,
    "start_time": "2023-04-01T16:31:26.615Z"
   },
   {
    "duration": 78148,
    "start_time": "2023-04-01T16:31:26.622Z"
   },
   {
    "duration": 5,
    "start_time": "2023-04-01T16:32:44.772Z"
   },
   {
    "duration": 55,
    "start_time": "2023-04-01T16:32:44.779Z"
   },
   {
    "duration": 2,
    "start_time": "2023-04-01T16:32:44.836Z"
   },
   {
    "duration": 5948,
    "start_time": "2023-04-01T16:32:44.839Z"
   },
   {
    "duration": 2,
    "start_time": "2023-04-01T16:32:50.789Z"
   },
   {
    "duration": 4,
    "start_time": "2023-04-01T16:32:50.793Z"
   },
   {
    "duration": 2729,
    "start_time": "2023-04-01T16:34:01.469Z"
   },
   {
    "duration": 2282,
    "start_time": "2023-04-01T16:34:04.200Z"
   },
   {
    "duration": 12,
    "start_time": "2023-04-01T16:34:06.483Z"
   },
   {
    "duration": 14,
    "start_time": "2023-04-01T16:34:06.497Z"
   },
   {
    "duration": 8,
    "start_time": "2023-04-01T16:34:06.512Z"
   },
   {
    "duration": 1707,
    "start_time": "2023-04-01T16:34:06.522Z"
   },
   {
    "duration": 4,
    "start_time": "2023-04-01T16:34:08.231Z"
   },
   {
    "duration": 9,
    "start_time": "2023-04-01T16:34:08.236Z"
   },
   {
    "duration": 79888,
    "start_time": "2023-04-01T16:34:08.246Z"
   },
   {
    "duration": 5,
    "start_time": "2023-04-01T16:35:28.136Z"
   },
   {
    "duration": 54,
    "start_time": "2023-04-01T16:35:28.143Z"
   },
   {
    "duration": 2,
    "start_time": "2023-04-01T16:35:28.199Z"
   },
   {
    "duration": 5675,
    "start_time": "2023-04-01T16:35:28.203Z"
   },
   {
    "duration": 3,
    "start_time": "2023-04-01T16:35:33.879Z"
   },
   {
    "duration": 6,
    "start_time": "2023-04-01T16:35:33.883Z"
   },
   {
    "duration": 2590,
    "start_time": "2023-04-01T16:47:21.354Z"
   },
   {
    "duration": 1314,
    "start_time": "2023-04-01T16:47:59.404Z"
   },
   {
    "duration": 2246,
    "start_time": "2023-04-01T16:48:00.720Z"
   },
   {
    "duration": 15,
    "start_time": "2023-04-01T16:48:02.967Z"
   },
   {
    "duration": 11,
    "start_time": "2023-04-01T16:48:02.983Z"
   },
   {
    "duration": 5,
    "start_time": "2023-04-01T16:48:02.996Z"
   },
   {
    "duration": 1786,
    "start_time": "2023-04-01T16:48:03.002Z"
   },
   {
    "duration": 2,
    "start_time": "2023-04-01T16:48:04.790Z"
   },
   {
    "duration": 5,
    "start_time": "2023-04-01T16:48:04.794Z"
   },
   {
    "duration": 77962,
    "start_time": "2023-04-01T16:48:04.800Z"
   },
   {
    "duration": 5,
    "start_time": "2023-04-01T16:49:22.764Z"
   },
   {
    "duration": 52,
    "start_time": "2023-04-01T16:49:22.772Z"
   },
   {
    "duration": 2,
    "start_time": "2023-04-01T16:49:22.826Z"
   },
   {
    "duration": 5812,
    "start_time": "2023-04-01T16:49:22.829Z"
   },
   {
    "duration": 2,
    "start_time": "2023-04-01T16:49:28.643Z"
   },
   {
    "duration": 7,
    "start_time": "2023-04-01T16:49:28.647Z"
   },
   {
    "duration": 18346,
    "start_time": "2023-04-01T16:49:28.655Z"
   },
   {
    "duration": 4,
    "start_time": "2023-04-01T16:49:47.002Z"
   },
   {
    "duration": 39723,
    "start_time": "2023-04-01T16:50:18.501Z"
   },
   {
    "duration": 4,
    "start_time": "2023-04-01T16:51:03.711Z"
   },
   {
    "duration": 34831,
    "start_time": "2023-04-01T16:51:11.861Z"
   },
   {
    "duration": 3,
    "start_time": "2023-04-01T16:51:53.956Z"
   },
   {
    "duration": 625012,
    "start_time": "2023-04-01T16:52:11.569Z"
   },
   {
    "duration": 6,
    "start_time": "2023-04-01T17:02:36.586Z"
   },
   {
    "duration": 4,
    "start_time": "2023-04-01T17:05:34.356Z"
   },
   {
    "duration": 597322,
    "start_time": "2023-04-01T17:09:06.954Z"
   },
   {
    "duration": 13,
    "start_time": "2023-04-01T17:19:04.278Z"
   },
   {
    "duration": 34650,
    "start_time": "2023-04-01T17:19:04.372Z"
   },
   {
    "duration": 2,
    "start_time": "2023-04-01T17:19:39.024Z"
   },
   {
    "duration": 17,
    "start_time": "2023-04-01T17:19:39.028Z"
   },
   {
    "duration": 1361,
    "start_time": "2023-04-01T19:53:11.757Z"
   },
   {
    "duration": 3252,
    "start_time": "2023-04-01T19:53:13.120Z"
   },
   {
    "duration": 12,
    "start_time": "2023-04-01T19:53:16.374Z"
   },
   {
    "duration": 12,
    "start_time": "2023-04-01T19:53:16.388Z"
   },
   {
    "duration": 5,
    "start_time": "2023-04-01T19:53:16.401Z"
   },
   {
    "duration": 1853,
    "start_time": "2023-04-01T19:53:16.407Z"
   },
   {
    "duration": 32,
    "start_time": "2023-04-01T19:53:18.262Z"
   },
   {
    "duration": 12,
    "start_time": "2023-04-01T19:53:18.296Z"
   },
   {
    "duration": 73582,
    "start_time": "2023-04-01T19:53:18.310Z"
   },
   {
    "duration": 3,
    "start_time": "2023-04-01T19:54:31.894Z"
   },
   {
    "duration": 57,
    "start_time": "2023-04-01T19:54:31.899Z"
   },
   {
    "duration": 3,
    "start_time": "2023-04-01T19:54:31.958Z"
   },
   {
    "duration": 5751,
    "start_time": "2023-04-01T19:54:31.968Z"
   },
   {
    "duration": 2,
    "start_time": "2023-04-01T19:54:37.721Z"
   },
   {
    "duration": 9,
    "start_time": "2023-04-01T19:54:37.725Z"
   },
   {
    "duration": 35969,
    "start_time": "2023-04-01T19:54:37.736Z"
   },
   {
    "duration": 3,
    "start_time": "2023-04-01T19:55:13.707Z"
   },
   {
    "duration": 137,
    "start_time": "2023-04-01T19:55:13.712Z"
   },
   {
    "duration": 4,
    "start_time": "2023-04-01T19:56:29.530Z"
   },
   {
    "duration": 6,
    "start_time": "2023-04-01T19:57:00.847Z"
   },
   {
    "duration": 3,
    "start_time": "2023-04-01T19:57:29.994Z"
   },
   {
    "duration": 2,
    "start_time": "2023-04-01T19:58:55.806Z"
   },
   {
    "duration": 13,
    "start_time": "2023-04-01T19:58:56.403Z"
   },
   {
    "duration": 1222,
    "start_time": "2023-04-01T19:59:58.141Z"
   },
   {
    "duration": 757,
    "start_time": "2023-04-01T19:59:59.365Z"
   },
   {
    "duration": 12,
    "start_time": "2023-04-01T20:00:00.124Z"
   },
   {
    "duration": 49,
    "start_time": "2023-04-01T20:00:00.137Z"
   },
   {
    "duration": 27,
    "start_time": "2023-04-01T20:00:00.188Z"
   },
   {
    "duration": 1835,
    "start_time": "2023-04-01T20:00:00.216Z"
   },
   {
    "duration": 58,
    "start_time": "2023-04-01T20:00:02.053Z"
   },
   {
    "duration": 36,
    "start_time": "2023-04-01T20:00:02.113Z"
   },
   {
    "duration": 74556,
    "start_time": "2023-04-01T20:00:02.151Z"
   },
   {
    "duration": 3,
    "start_time": "2023-04-01T20:01:16.709Z"
   },
   {
    "duration": 64,
    "start_time": "2023-04-01T20:01:16.714Z"
   },
   {
    "duration": 3,
    "start_time": "2023-04-01T20:01:16.780Z"
   },
   {
    "duration": 6030,
    "start_time": "2023-04-01T20:01:16.785Z"
   },
   {
    "duration": 3,
    "start_time": "2023-04-01T20:01:22.818Z"
   },
   {
    "duration": 3,
    "start_time": "2023-04-01T20:01:22.823Z"
   },
   {
    "duration": 32822,
    "start_time": "2023-04-01T20:01:22.828Z"
   },
   {
    "duration": 3,
    "start_time": "2023-04-01T20:01:55.651Z"
   },
   {
    "duration": 4,
    "start_time": "2023-04-01T20:01:55.655Z"
   },
   {
    "duration": 5,
    "start_time": "2023-04-01T20:01:55.668Z"
   },
   {
    "duration": 4,
    "start_time": "2023-04-01T20:01:55.674Z"
   },
   {
    "duration": 643,
    "start_time": "2023-04-01T20:05:11.005Z"
   },
   {
    "duration": 30,
    "start_time": "2023-04-01T20:05:11.722Z"
   },
   {
    "duration": 4,
    "start_time": "2023-04-01T20:05:37.745Z"
   },
   {
    "duration": 4,
    "start_time": "2023-04-01T20:05:59.497Z"
   },
   {
    "duration": 3,
    "start_time": "2023-04-01T20:07:00.626Z"
   },
   {
    "duration": 5,
    "start_time": "2023-04-01T20:07:01.930Z"
   },
   {
    "duration": 3,
    "start_time": "2023-04-01T20:07:03.433Z"
   },
   {
    "duration": 3,
    "start_time": "2023-04-01T20:07:18.762Z"
   },
   {
    "duration": 5,
    "start_time": "2023-04-01T20:07:19.750Z"
   },
   {
    "duration": 4,
    "start_time": "2023-04-01T20:07:20.934Z"
   },
   {
    "duration": 2,
    "start_time": "2023-04-01T20:07:40.088Z"
   },
   {
    "duration": 5,
    "start_time": "2023-04-01T20:07:40.756Z"
   },
   {
    "duration": 4,
    "start_time": "2023-04-01T20:07:43.401Z"
   },
   {
    "duration": 3,
    "start_time": "2023-04-01T20:07:56.089Z"
   },
   {
    "duration": 5,
    "start_time": "2023-04-01T20:07:56.705Z"
   },
   {
    "duration": 3,
    "start_time": "2023-04-01T20:07:57.322Z"
   },
   {
    "duration": 3,
    "start_time": "2023-04-01T20:08:12.549Z"
   },
   {
    "duration": 5,
    "start_time": "2023-04-01T20:08:13.206Z"
   },
   {
    "duration": 3,
    "start_time": "2023-04-01T20:08:13.848Z"
   },
   {
    "duration": 3,
    "start_time": "2023-04-01T20:09:03.564Z"
   },
   {
    "duration": 5,
    "start_time": "2023-04-01T20:09:03.930Z"
   },
   {
    "duration": 3,
    "start_time": "2023-04-01T20:09:04.349Z"
   },
   {
    "duration": 2,
    "start_time": "2023-04-01T20:09:10.663Z"
   },
   {
    "duration": 4,
    "start_time": "2023-04-01T20:09:11.055Z"
   },
   {
    "duration": 3,
    "start_time": "2023-04-01T20:09:11.427Z"
   },
   {
    "duration": 3,
    "start_time": "2023-04-01T20:09:17.405Z"
   },
   {
    "duration": 5,
    "start_time": "2023-04-01T20:09:17.736Z"
   },
   {
    "duration": 3,
    "start_time": "2023-04-01T20:09:18.118Z"
   },
   {
    "duration": 2,
    "start_time": "2023-04-01T20:09:56.731Z"
   },
   {
    "duration": 4,
    "start_time": "2023-04-01T20:09:56.934Z"
   },
   {
    "duration": 3,
    "start_time": "2023-04-01T20:09:57.663Z"
   },
   {
    "duration": 1223,
    "start_time": "2023-04-02T14:51:07.788Z"
   },
   {
    "duration": 3262,
    "start_time": "2023-04-02T14:51:09.013Z"
   },
   {
    "duration": 22,
    "start_time": "2023-04-02T14:51:12.276Z"
   },
   {
    "duration": 12,
    "start_time": "2023-04-02T14:51:12.300Z"
   },
   {
    "duration": 13,
    "start_time": "2023-04-02T14:51:12.314Z"
   },
   {
    "duration": 12,
    "start_time": "2023-04-02T14:51:12.328Z"
   },
   {
    "duration": 1560,
    "start_time": "2023-04-02T14:51:12.342Z"
   },
   {
    "duration": 10,
    "start_time": "2023-04-02T14:51:13.904Z"
   },
   {
    "duration": 3,
    "start_time": "2023-04-02T14:51:13.915Z"
   },
   {
    "duration": 80129,
    "start_time": "2023-04-02T14:51:13.919Z"
   },
   {
    "duration": 4,
    "start_time": "2023-04-02T14:52:34.049Z"
   },
   {
    "duration": 56,
    "start_time": "2023-04-02T14:52:34.055Z"
   },
   {
    "duration": 2,
    "start_time": "2023-04-02T14:52:34.113Z"
   },
   {
    "duration": 6335,
    "start_time": "2023-04-02T14:52:34.118Z"
   },
   {
    "duration": 1370689,
    "start_time": "2023-04-02T14:59:11.052Z"
   },
   {
    "duration": 4,
    "start_time": "2023-04-02T15:44:26.383Z"
   },
   {
    "duration": 39900,
    "start_time": "2023-04-02T15:44:27.509Z"
   },
   {
    "duration": 4,
    "start_time": "2023-04-02T15:58:10.644Z"
   },
   {
    "duration": 15,
    "start_time": "2023-04-02T15:58:11.227Z"
   },
   {
    "duration": 2216,
    "start_time": "2023-04-03T09:30:05.020Z"
   },
   {
    "duration": 2760,
    "start_time": "2023-04-03T09:30:07.318Z"
   },
   {
    "duration": 42,
    "start_time": "2023-04-03T09:30:10.080Z"
   },
   {
    "duration": 15,
    "start_time": "2023-04-03T09:30:10.277Z"
   },
   {
    "duration": 20,
    "start_time": "2023-04-03T09:30:10.832Z"
   },
   {
    "duration": 3,
    "start_time": "2023-04-03T09:30:12.894Z"
   },
   {
    "duration": 4,
    "start_time": "2023-04-03T09:30:14.132Z"
   },
   {
    "duration": 3,
    "start_time": "2023-04-03T09:30:15.598Z"
   },
   {
    "duration": 13,
    "start_time": "2023-04-03T09:30:18.637Z"
   },
   {
    "duration": 137,
    "start_time": "2023-04-03T09:30:21.856Z"
   },
   {
    "duration": 4,
    "start_time": "2023-04-03T09:30:37.811Z"
   },
   {
    "duration": 51,
    "start_time": "2023-04-03T09:30:42.054Z"
   },
   {
    "duration": 541,
    "start_time": "2023-04-03T09:31:12.414Z"
   },
   {
    "duration": 1265182,
    "start_time": "2023-04-03T09:31:18.056Z"
   },
   {
    "duration": 8,
    "start_time": "2023-04-03T10:07:44.474Z"
   },
   {
    "duration": 83,
    "start_time": "2023-04-03T10:07:45.504Z"
   },
   {
    "duration": 4,
    "start_time": "2023-04-03T10:07:46.476Z"
   },
   {
    "duration": 7677,
    "start_time": "2023-04-03T10:07:47.110Z"
   },
   {
    "duration": 72763,
    "start_time": "2023-04-03T10:08:06.551Z"
   },
   {
    "duration": 4,
    "start_time": "2023-04-03T10:11:48.200Z"
   },
   {
    "duration": 2679,
    "start_time": "2023-04-03T19:24:24.117Z"
   },
   {
    "duration": 4391,
    "start_time": "2023-04-03T19:24:30.079Z"
   },
   {
    "duration": 60,
    "start_time": "2023-04-03T19:24:34.473Z"
   },
   {
    "duration": 22,
    "start_time": "2023-04-03T19:24:34.546Z"
   },
   {
    "duration": 24,
    "start_time": "2023-04-03T19:32:30.850Z"
   },
   {
    "duration": 6,
    "start_time": "2023-04-03T19:32:32.930Z"
   },
   {
    "duration": 2,
    "start_time": "2023-04-03T19:32:33.575Z"
   },
   {
    "duration": 4,
    "start_time": "2023-04-03T19:32:39.366Z"
   },
   {
    "duration": 14,
    "start_time": "2023-04-03T19:32:40.206Z"
   },
   {
    "duration": 1871,
    "start_time": "2023-04-03T19:33:12.811Z"
   },
   {
    "duration": 7,
    "start_time": "2023-04-03T19:33:39.142Z"
   },
   {
    "duration": 15,
    "start_time": "2023-04-03T19:34:23.415Z"
   },
   {
    "duration": 5,
    "start_time": "2023-04-03T19:34:24.641Z"
   },
   {
    "duration": 9,
    "start_time": "2023-04-03T19:34:31.685Z"
   },
   {
    "duration": 11,
    "start_time": "2023-04-03T19:34:50.626Z"
   },
   {
    "duration": 5,
    "start_time": "2023-04-03T19:34:51.949Z"
   },
   {
    "duration": 5,
    "start_time": "2023-04-03T19:35:11.558Z"
   },
   {
    "duration": 182,
    "start_time": "2023-04-03T19:36:03.633Z"
   },
   {
    "duration": 14,
    "start_time": "2023-04-03T19:36:29.618Z"
   },
   {
    "duration": 11,
    "start_time": "2023-04-03T19:36:51.683Z"
   },
   {
    "duration": 8,
    "start_time": "2023-04-03T19:37:08.005Z"
   },
   {
    "duration": 4,
    "start_time": "2023-04-03T19:37:15.460Z"
   },
   {
    "duration": 5,
    "start_time": "2023-04-03T19:37:32.051Z"
   },
   {
    "duration": 17,
    "start_time": "2023-04-03T19:39:03.564Z"
   },
   {
    "duration": 3626,
    "start_time": "2023-04-03T19:39:07.126Z"
   },
   {
    "duration": 678,
    "start_time": "2023-04-03T19:40:13.745Z"
   },
   {
    "duration": 1039,
    "start_time": "2023-04-03T19:40:38.353Z"
   },
   {
    "duration": 748,
    "start_time": "2023-04-03T19:42:31.929Z"
   },
   {
    "duration": 2796055,
    "start_time": "2023-04-03T19:42:34.290Z"
   },
   {
    "duration": 4902,
    "start_time": "2023-04-03T20:36:39.570Z"
   },
   {
    "duration": 1038,
    "start_time": "2023-04-03T20:36:44.475Z"
   },
   {
    "duration": 45,
    "start_time": "2023-04-03T20:36:45.515Z"
   },
   {
    "duration": 201,
    "start_time": "2023-04-03T20:36:45.562Z"
   },
   {
    "duration": 26,
    "start_time": "2023-04-03T20:36:45.765Z"
   },
   {
    "duration": 21,
    "start_time": "2023-04-03T20:36:45.794Z"
   },
   {
    "duration": 13,
    "start_time": "2023-04-03T20:36:45.818Z"
   },
   {
    "duration": 21,
    "start_time": "2023-04-03T20:36:45.833Z"
   },
   {
    "duration": 10,
    "start_time": "2023-04-03T20:36:45.856Z"
   },
   {
    "duration": 656,
    "start_time": "2023-04-03T20:36:45.870Z"
   },
   {
    "duration": 5303,
    "start_time": "2023-04-03T20:47:42.425Z"
   },
   {
    "duration": 1147,
    "start_time": "2023-04-03T20:47:47.731Z"
   },
   {
    "duration": 52,
    "start_time": "2023-04-03T20:47:48.884Z"
   },
   {
    "duration": 233,
    "start_time": "2023-04-03T20:47:48.938Z"
   },
   {
    "duration": 20,
    "start_time": "2023-04-03T20:47:49.174Z"
   },
   {
    "duration": 47,
    "start_time": "2023-04-03T20:47:49.195Z"
   },
   {
    "duration": 13,
    "start_time": "2023-04-03T20:47:49.244Z"
   },
   {
    "duration": 5,
    "start_time": "2023-04-03T20:47:49.259Z"
   },
   {
    "duration": 9,
    "start_time": "2023-04-03T20:47:49.266Z"
   },
   {
    "duration": 770,
    "start_time": "2023-04-03T20:47:49.277Z"
   },
   {
    "duration": 3338973,
    "start_time": "2023-04-03T20:47:50.049Z"
   },
   {
    "duration": 4,
    "start_time": "2023-04-03T21:43:29.024Z"
   },
   {
    "duration": 231,
    "start_time": "2023-04-03T21:43:29.031Z"
   },
   {
    "duration": 3,
    "start_time": "2023-04-03T21:43:29.266Z"
   },
   {
    "duration": 12274,
    "start_time": "2023-04-03T21:43:29.271Z"
   },
   {
    "duration": 701,
    "start_time": "2023-04-03T21:43:41.552Z"
   },
   {
    "duration": 0,
    "start_time": "2023-04-03T21:43:42.261Z"
   },
   {
    "duration": 0,
    "start_time": "2023-04-03T21:43:42.266Z"
   },
   {
    "duration": 0,
    "start_time": "2023-04-03T21:43:42.272Z"
   },
   {
    "duration": 0,
    "start_time": "2023-04-03T21:43:42.279Z"
   },
   {
    "duration": 102,
    "start_time": "2023-04-03T21:48:47.272Z"
   },
   {
    "duration": 81,
    "start_time": "2023-04-03T21:49:14.852Z"
   },
   {
    "duration": 2296,
    "start_time": "2023-04-03T21:50:17.949Z"
   },
   {
    "duration": 42,
    "start_time": "2023-04-03T22:08:35.215Z"
   },
   {
    "duration": 3,
    "start_time": "2023-04-03T22:09:12.315Z"
   },
   {
    "duration": 4,
    "start_time": "2023-04-03T22:09:12.874Z"
   },
   {
    "duration": 1440119,
    "start_time": "2023-04-03T22:09:18.545Z"
   },
   {
    "duration": 5417,
    "start_time": "2023-04-04T09:20:32.880Z"
   },
   {
    "duration": 105,
    "start_time": "2023-04-04T10:55:20.928Z"
   },
   {
    "duration": 5,
    "start_time": "2023-04-04T10:55:47.868Z"
   },
   {
    "duration": 4,
    "start_time": "2023-04-04T10:56:07.853Z"
   },
   {
    "duration": 1493,
    "start_time": "2023-04-04T10:56:36.653Z"
   },
   {
    "duration": 4,
    "start_time": "2023-04-04T10:57:01.774Z"
   },
   {
    "duration": 5,
    "start_time": "2023-04-04T10:57:37.373Z"
   },
   {
    "duration": 5,
    "start_time": "2023-04-04T10:58:52.509Z"
   },
   {
    "duration": 4,
    "start_time": "2023-04-04T10:58:54.645Z"
   },
   {
    "duration": 5,
    "start_time": "2023-04-04T11:00:07.294Z"
   },
   {
    "duration": 5,
    "start_time": "2023-04-04T11:00:32.789Z"
   },
   {
    "duration": 4,
    "start_time": "2023-04-04T11:00:35.286Z"
   },
   {
    "duration": 5,
    "start_time": "2023-04-04T11:01:15.774Z"
   },
   {
    "duration": 5,
    "start_time": "2023-04-04T11:01:17.533Z"
   },
   {
    "duration": 58,
    "start_time": "2023-04-04T11:02:11.369Z"
   },
   {
    "duration": 338,
    "start_time": "2023-04-04T11:02:22.125Z"
   },
   {
    "duration": 3,
    "start_time": "2023-04-04T11:02:26.870Z"
   },
   {
    "duration": 5,
    "start_time": "2023-04-04T11:02:27.405Z"
   },
   {
    "duration": 21,
    "start_time": "2023-04-04T11:02:29.501Z"
   },
   {
    "duration": 3420,
    "start_time": "2023-04-04T11:02:36.221Z"
   },
   {
    "duration": 36,
    "start_time": "2023-04-04T11:02:39.645Z"
   },
   {
    "duration": 10,
    "start_time": "2023-04-04T11:02:39.683Z"
   },
   {
    "duration": 23,
    "start_time": "2023-04-04T11:02:41.412Z"
   },
   {
    "duration": 3,
    "start_time": "2023-04-04T11:02:44.286Z"
   },
   {
    "duration": 2,
    "start_time": "2023-04-04T11:02:44.701Z"
   },
   {
    "duration": 3,
    "start_time": "2023-04-04T11:02:47.277Z"
   },
   {
    "duration": 5,
    "start_time": "2023-04-04T11:02:47.853Z"
   },
   {
    "duration": 58,
    "start_time": "2023-04-04T11:02:49.269Z"
   },
   {
    "duration": 5,
    "start_time": "2023-04-04T11:03:18.093Z"
   },
   {
    "duration": 48,
    "start_time": "2023-04-04T11:03:19.543Z"
   },
   {
    "duration": 5,
    "start_time": "2023-04-04T11:04:49.909Z"
   },
   {
    "duration": 6,
    "start_time": "2023-04-04T11:04:51.245Z"
   },
   {
    "duration": 4,
    "start_time": "2023-04-04T11:05:26.813Z"
   },
   {
    "duration": 50,
    "start_time": "2023-04-04T11:05:27.727Z"
   },
   {
    "duration": 4,
    "start_time": "2023-04-04T12:33:09.584Z"
   },
   {
    "duration": 9,
    "start_time": "2023-04-04T12:33:11.390Z"
   },
   {
    "duration": 9,
    "start_time": "2023-04-04T12:34:19.498Z"
   },
   {
    "duration": 2,
    "start_time": "2023-04-04T12:34:33.703Z"
   },
   {
    "duration": 4,
    "start_time": "2023-04-04T12:34:34.127Z"
   },
   {
    "duration": 3,
    "start_time": "2023-04-04T12:34:35.367Z"
   },
   {
    "duration": 4,
    "start_time": "2023-04-04T12:34:35.455Z"
   },
   {
    "duration": 8,
    "start_time": "2023-04-04T12:34:36.930Z"
   },
   {
    "duration": 4,
    "start_time": "2023-04-04T12:35:47.447Z"
   },
   {
    "duration": 4,
    "start_time": "2023-04-04T12:36:03.799Z"
   },
   {
    "duration": 25,
    "start_time": "2023-04-04T12:36:20.551Z"
   },
   {
    "duration": 4,
    "start_time": "2023-04-04T12:36:34.735Z"
   },
   {
    "duration": 1199499,
    "start_time": "2023-04-04T12:37:07.311Z"
   },
   {
    "duration": 19,
    "start_time": "2023-04-04T13:50:12.822Z"
   },
   {
    "duration": 27,
    "start_time": "2023-04-04T13:50:22.645Z"
   },
   {
    "duration": 5,
    "start_time": "2023-04-04T13:50:44.942Z"
   },
   {
    "duration": 71,
    "start_time": "2023-04-04T13:50:50.238Z"
   },
   {
    "duration": 3,
    "start_time": "2023-04-04T13:50:51.338Z"
   },
   {
    "duration": 7517,
    "start_time": "2023-04-04T13:50:53.253Z"
   },
   {
    "duration": 51,
    "start_time": "2023-04-04T13:51:27.031Z"
   },
   {
    "duration": 49,
    "start_time": "2023-04-04T13:51:46.558Z"
   },
   {
    "duration": 293,
    "start_time": "2023-04-04T13:52:45.039Z"
   },
   {
    "duration": 1660676,
    "start_time": "2023-04-04T13:54:13.870Z"
   },
   {
    "duration": 3,
    "start_time": "2023-04-04T15:00:25.752Z"
   },
   {
    "duration": 169925,
    "start_time": "2023-04-04T15:00:33.169Z"
   },
   {
    "duration": 3,
    "start_time": "2023-04-04T15:55:37.618Z"
   },
   {
    "duration": 26,
    "start_time": "2023-04-04T15:55:42.170Z"
   },
   {
    "duration": 51721,
    "start_time": "2023-04-04T15:58:03.329Z"
   },
   {
    "duration": 15,
    "start_time": "2023-04-04T15:58:55.141Z"
   }
  ],
  "kernelspec": {
   "display_name": "Python 3 (ipykernel)",
   "language": "python",
   "name": "python3"
  },
  "language_info": {
   "codemirror_mode": {
    "name": "ipython",
    "version": 3
   },
   "file_extension": ".py",
   "mimetype": "text/x-python",
   "name": "python",
   "nbconvert_exporter": "python",
   "pygments_lexer": "ipython3",
   "version": "3.9.5"
  },
  "toc": {
   "base_numbering": 1,
   "nav_menu": {},
   "number_sections": true,
   "sideBar": true,
   "skip_h1_title": true,
   "title_cell": "Содержание",
   "title_sidebar": "Contents",
   "toc_cell": true,
   "toc_position": {
    "height": "calc(100% - 180px)",
    "left": "10px",
    "top": "150px",
    "width": "302.391px"
   },
   "toc_section_display": true,
   "toc_window_display": false
  }
 },
 "nbformat": 4,
 "nbformat_minor": 2
}
