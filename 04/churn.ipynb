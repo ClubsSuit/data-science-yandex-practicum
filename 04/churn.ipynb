{
 "cells": [
  {
   "attachments": {},
   "cell_type": "markdown",
   "metadata": {
    "toc": true
   },
   "source": [
    "<h1>Содержание<span class=\"tocSkip\"></span></h1>\n",
    "<div class=\"toc\"><ul class=\"toc-item\"><li><span><a href=\"#Подготовка-данных\" data-toc-modified-id=\"Подготовка-данных-1\"><span class=\"toc-item-num\">1&nbsp;&nbsp;</span>Подготовка данных</a></span><ul class=\"toc-item\"><li><span><a href=\"#План-работ\" data-toc-modified-id=\"План-работ-1.1\"><span class=\"toc-item-num\">1.1&nbsp;&nbsp;</span>План работ</a></span></li><li><span><a href=\"#Выводы\" data-toc-modified-id=\"Выводы-1.2\"><span class=\"toc-item-num\">1.2&nbsp;&nbsp;</span>Выводы</a></span></li></ul></li><li><span><a href=\"#Исследование-задачи\" data-toc-modified-id=\"Исследование-задачи-2\"><span class=\"toc-item-num\">2&nbsp;&nbsp;</span>Исследование задачи</a></span><ul class=\"toc-item\"><li><span><a href=\"#Выводы\" data-toc-modified-id=\"Выводы-2.1\"><span class=\"toc-item-num\">2.1&nbsp;&nbsp;</span>Выводы</a></span></li></ul></li><li><span><a href=\"#Борьба-с-дисбалансом\" data-toc-modified-id=\"Борьба-с-дисбалансом-3\"><span class=\"toc-item-num\">3&nbsp;&nbsp;</span>Борьба с дисбалансом</a></span><ul class=\"toc-item\"><li><span><a href=\"#Увеличение-выборки\" data-toc-modified-id=\"Увеличение-выборки-3.1\"><span class=\"toc-item-num\">3.1&nbsp;&nbsp;</span>Увеличение выборки</a></span></li><li><span><a href=\"#Уменьшение-выборки\" data-toc-modified-id=\"Уменьшение-выборки-3.2\"><span class=\"toc-item-num\">3.2&nbsp;&nbsp;</span>Уменьшение выборки</a></span></li><li><span><a href=\"#Выводы\" data-toc-modified-id=\"Выводы-3.3\"><span class=\"toc-item-num\">3.3&nbsp;&nbsp;</span>Выводы</a></span></li></ul></li><li><span><a href=\"#Тестирование-модели\" data-toc-modified-id=\"Тестирование-модели-4\"><span class=\"toc-item-num\">4&nbsp;&nbsp;</span>Тестирование модели</a></span></li><li><span><a href=\"#Чек-лист-готовности-проекта\" data-toc-modified-id=\"Чек-лист-готовности-проекта-5\"><span class=\"toc-item-num\">5&nbsp;&nbsp;</span>Чек-лист готовности проекта</a></span></li></ul></div>"
   ]
  },
  {
   "attachments": {},
   "cell_type": "markdown",
   "metadata": {},
   "source": [
    "# Отток клиентов"
   ]
  },
  {
   "attachments": {},
   "cell_type": "markdown",
   "metadata": {},
   "source": [
    "Из «Бета-Банка» стали уходить клиенты. Каждый месяц. Немного, но заметно. Банковские маркетологи посчитали: сохранять текущих клиентов дешевле, чем привлекать новых.\n",
    "\n",
    "Нужно спрогнозировать, уйдёт клиент из банка в ближайшее время или нет. Вам предоставлены исторические данные о поведении клиентов и расторжении договоров с банком. \n",
    "\n",
    "Постройте модель с предельно большим значением *F1*-меры. Чтобы сдать проект успешно, нужно довести метрику до 0.59. Проверьте *F1*-меру на тестовой выборке самостоятельно.\n",
    "\n",
    "Дополнительно измеряйте *AUC-ROC*, сравнивайте её значение с *F1*-мерой.\n",
    "\n",
    "Источник данных: [https://www.kaggle.com/barelydedicated/bank-customer-churn-modeling](https://www.kaggle.com/barelydedicated/bank-customer-churn-modeling)"
   ]
  },
  {
   "attachments": {},
   "cell_type": "markdown",
   "metadata": {},
   "source": [
    "## Подготовка данных"
   ]
  },
  {
   "attachments": {},
   "cell_type": "markdown",
   "metadata": {},
   "source": [
    "### План работ"
   ]
  },
  {
   "attachments": {},
   "cell_type": "markdown",
   "metadata": {},
   "source": [
    "Данные из \"Бета-Банка\" выглядят следующим образом:\n",
    "\n",
    "**Признаки**\n",
    "\n",
    "* RowNumber — индекс строки в данных\n",
    "* CustomerId — уникальный идентификатор клиента\n",
    "* Surname — фамилия\n",
    "* CreditScore — кредитный рейтинг\n",
    "* Geography — страна проживания\n",
    "* Gender — пол\n",
    "* Age — возраст\n",
    "* Tenure — сколько лет человек является клиентом банка\n",
    "* Balance — баланс на счёте\n",
    "* NumOfProducts — количество продуктов банка, используемых клиентом\n",
    "* HasCrCard — наличие кредитной карты\n",
    "* IsActiveMember — активность клиента\n",
    "* EstimatedSalary — предполагаемая зарплата\n",
    "\n",
    "**Целевой признак**\n",
    "\n",
    "* Exited — факт ухода клиента\n",
    "\n",
    "Загрузим необходимые библиотеки, разобьем датасет на три выборки: тренировочную, валидационную и тестовую, в соотношении 60/20/20% от общей, соответственно. Но сначала посмотрим на данные:\n",
    "* есть ли пропуски\n",
    "* нужно ли упорядочивать данные\n",
    "* есть ли диссбаланс классов\n",
    "* проверить работоспосбность данных для обучения моделей"
   ]
  },
  {
   "cell_type": "code",
   "execution_count": 1,
   "metadata": {},
   "outputs": [
    {
     "name": "stdout",
     "output_type": "stream",
     "text": [
      "Requirement already satisfied: imblearn in /opt/conda/lib/python3.9/site-packages (0.0)\n",
      "Requirement already satisfied: imbalanced-learn in /opt/conda/lib/python3.9/site-packages (from imblearn) (0.10.1)\n",
      "Requirement already satisfied: threadpoolctl>=2.0.0 in /opt/conda/lib/python3.9/site-packages (from imbalanced-learn->imblearn) (3.1.0)\n",
      "Requirement already satisfied: joblib>=1.1.1 in /opt/conda/lib/python3.9/site-packages (from imbalanced-learn->imblearn) (1.2.0)\n",
      "Requirement already satisfied: scikit-learn>=1.0.2 in /opt/conda/lib/python3.9/site-packages (from imbalanced-learn->imblearn) (1.2.1)\n",
      "Requirement already satisfied: numpy>=1.17.3 in /opt/conda/lib/python3.9/site-packages (from imbalanced-learn->imblearn) (1.21.1)\n",
      "Requirement already satisfied: scipy>=1.3.2 in /opt/conda/lib/python3.9/site-packages (from imbalanced-learn->imblearn) (1.9.1)\n",
      "(10000, 14)\n"
     ]
    },
    {
     "data": {
      "text/html": [
       "<div>\n",
       "<style scoped>\n",
       "    .dataframe tbody tr th:only-of-type {\n",
       "        vertical-align: middle;\n",
       "    }\n",
       "\n",
       "    .dataframe tbody tr th {\n",
       "        vertical-align: top;\n",
       "    }\n",
       "\n",
       "    .dataframe thead th {\n",
       "        text-align: right;\n",
       "    }\n",
       "</style>\n",
       "<table border=\"1\" class=\"dataframe\">\n",
       "  <thead>\n",
       "    <tr style=\"text-align: right;\">\n",
       "      <th></th>\n",
       "      <th>count</th>\n",
       "      <th>mean</th>\n",
       "      <th>std</th>\n",
       "      <th>min</th>\n",
       "      <th>25%</th>\n",
       "      <th>50%</th>\n",
       "      <th>75%</th>\n",
       "      <th>max</th>\n",
       "    </tr>\n",
       "  </thead>\n",
       "  <tbody>\n",
       "    <tr>\n",
       "      <th>RowNumber</th>\n",
       "      <td>10000.0</td>\n",
       "      <td>5.000500e+03</td>\n",
       "      <td>2886.895680</td>\n",
       "      <td>1.00</td>\n",
       "      <td>2500.75</td>\n",
       "      <td>5.000500e+03</td>\n",
       "      <td>7.500250e+03</td>\n",
       "      <td>10000.00</td>\n",
       "    </tr>\n",
       "    <tr>\n",
       "      <th>CustomerId</th>\n",
       "      <td>10000.0</td>\n",
       "      <td>1.569094e+07</td>\n",
       "      <td>71936.186123</td>\n",
       "      <td>15565701.00</td>\n",
       "      <td>15628528.25</td>\n",
       "      <td>1.569074e+07</td>\n",
       "      <td>1.575323e+07</td>\n",
       "      <td>15815690.00</td>\n",
       "    </tr>\n",
       "    <tr>\n",
       "      <th>CreditScore</th>\n",
       "      <td>10000.0</td>\n",
       "      <td>6.505288e+02</td>\n",
       "      <td>96.653299</td>\n",
       "      <td>350.00</td>\n",
       "      <td>584.00</td>\n",
       "      <td>6.520000e+02</td>\n",
       "      <td>7.180000e+02</td>\n",
       "      <td>850.00</td>\n",
       "    </tr>\n",
       "    <tr>\n",
       "      <th>Age</th>\n",
       "      <td>10000.0</td>\n",
       "      <td>3.892180e+01</td>\n",
       "      <td>10.487806</td>\n",
       "      <td>18.00</td>\n",
       "      <td>32.00</td>\n",
       "      <td>3.700000e+01</td>\n",
       "      <td>4.400000e+01</td>\n",
       "      <td>92.00</td>\n",
       "    </tr>\n",
       "    <tr>\n",
       "      <th>Tenure</th>\n",
       "      <td>9091.0</td>\n",
       "      <td>4.997690e+00</td>\n",
       "      <td>2.894723</td>\n",
       "      <td>0.00</td>\n",
       "      <td>2.00</td>\n",
       "      <td>5.000000e+00</td>\n",
       "      <td>7.000000e+00</td>\n",
       "      <td>10.00</td>\n",
       "    </tr>\n",
       "    <tr>\n",
       "      <th>Balance</th>\n",
       "      <td>10000.0</td>\n",
       "      <td>7.648589e+04</td>\n",
       "      <td>62397.405202</td>\n",
       "      <td>0.00</td>\n",
       "      <td>0.00</td>\n",
       "      <td>9.719854e+04</td>\n",
       "      <td>1.276442e+05</td>\n",
       "      <td>250898.09</td>\n",
       "    </tr>\n",
       "    <tr>\n",
       "      <th>NumOfProducts</th>\n",
       "      <td>10000.0</td>\n",
       "      <td>1.530200e+00</td>\n",
       "      <td>0.581654</td>\n",
       "      <td>1.00</td>\n",
       "      <td>1.00</td>\n",
       "      <td>1.000000e+00</td>\n",
       "      <td>2.000000e+00</td>\n",
       "      <td>4.00</td>\n",
       "    </tr>\n",
       "    <tr>\n",
       "      <th>HasCrCard</th>\n",
       "      <td>10000.0</td>\n",
       "      <td>7.055000e-01</td>\n",
       "      <td>0.455840</td>\n",
       "      <td>0.00</td>\n",
       "      <td>0.00</td>\n",
       "      <td>1.000000e+00</td>\n",
       "      <td>1.000000e+00</td>\n",
       "      <td>1.00</td>\n",
       "    </tr>\n",
       "    <tr>\n",
       "      <th>IsActiveMember</th>\n",
       "      <td>10000.0</td>\n",
       "      <td>5.151000e-01</td>\n",
       "      <td>0.499797</td>\n",
       "      <td>0.00</td>\n",
       "      <td>0.00</td>\n",
       "      <td>1.000000e+00</td>\n",
       "      <td>1.000000e+00</td>\n",
       "      <td>1.00</td>\n",
       "    </tr>\n",
       "    <tr>\n",
       "      <th>EstimatedSalary</th>\n",
       "      <td>10000.0</td>\n",
       "      <td>1.000902e+05</td>\n",
       "      <td>57510.492818</td>\n",
       "      <td>11.58</td>\n",
       "      <td>51002.11</td>\n",
       "      <td>1.001939e+05</td>\n",
       "      <td>1.493882e+05</td>\n",
       "      <td>199992.48</td>\n",
       "    </tr>\n",
       "    <tr>\n",
       "      <th>Exited</th>\n",
       "      <td>10000.0</td>\n",
       "      <td>2.037000e-01</td>\n",
       "      <td>0.402769</td>\n",
       "      <td>0.00</td>\n",
       "      <td>0.00</td>\n",
       "      <td>0.000000e+00</td>\n",
       "      <td>0.000000e+00</td>\n",
       "      <td>1.00</td>\n",
       "    </tr>\n",
       "  </tbody>\n",
       "</table>\n",
       "</div>"
      ],
      "text/plain": [
       "                   count          mean           std          min  \\\n",
       "RowNumber        10000.0  5.000500e+03   2886.895680         1.00   \n",
       "CustomerId       10000.0  1.569094e+07  71936.186123  15565701.00   \n",
       "CreditScore      10000.0  6.505288e+02     96.653299       350.00   \n",
       "Age              10000.0  3.892180e+01     10.487806        18.00   \n",
       "Tenure            9091.0  4.997690e+00      2.894723         0.00   \n",
       "Balance          10000.0  7.648589e+04  62397.405202         0.00   \n",
       "NumOfProducts    10000.0  1.530200e+00      0.581654         1.00   \n",
       "HasCrCard        10000.0  7.055000e-01      0.455840         0.00   \n",
       "IsActiveMember   10000.0  5.151000e-01      0.499797         0.00   \n",
       "EstimatedSalary  10000.0  1.000902e+05  57510.492818        11.58   \n",
       "Exited           10000.0  2.037000e-01      0.402769         0.00   \n",
       "\n",
       "                         25%           50%           75%          max  \n",
       "RowNumber            2500.75  5.000500e+03  7.500250e+03     10000.00  \n",
       "CustomerId       15628528.25  1.569074e+07  1.575323e+07  15815690.00  \n",
       "CreditScore           584.00  6.520000e+02  7.180000e+02       850.00  \n",
       "Age                    32.00  3.700000e+01  4.400000e+01        92.00  \n",
       "Tenure                  2.00  5.000000e+00  7.000000e+00        10.00  \n",
       "Balance                 0.00  9.719854e+04  1.276442e+05    250898.09  \n",
       "NumOfProducts           1.00  1.000000e+00  2.000000e+00         4.00  \n",
       "HasCrCard               0.00  1.000000e+00  1.000000e+00         1.00  \n",
       "IsActiveMember          0.00  1.000000e+00  1.000000e+00         1.00  \n",
       "EstimatedSalary     51002.11  1.001939e+05  1.493882e+05    199992.48  \n",
       "Exited                  0.00  0.000000e+00  0.000000e+00         1.00  "
      ]
     },
     "metadata": {},
     "output_type": "display_data"
    },
    {
     "data": {
      "text/html": [
       "<div>\n",
       "<style scoped>\n",
       "    .dataframe tbody tr th:only-of-type {\n",
       "        vertical-align: middle;\n",
       "    }\n",
       "\n",
       "    .dataframe tbody tr th {\n",
       "        vertical-align: top;\n",
       "    }\n",
       "\n",
       "    .dataframe thead th {\n",
       "        text-align: right;\n",
       "    }\n",
       "</style>\n",
       "<table border=\"1\" class=\"dataframe\">\n",
       "  <thead>\n",
       "    <tr style=\"text-align: right;\">\n",
       "      <th></th>\n",
       "      <th>RowNumber</th>\n",
       "      <th>CustomerId</th>\n",
       "      <th>Surname</th>\n",
       "      <th>CreditScore</th>\n",
       "      <th>Geography</th>\n",
       "      <th>Gender</th>\n",
       "      <th>Age</th>\n",
       "      <th>Tenure</th>\n",
       "      <th>Balance</th>\n",
       "      <th>NumOfProducts</th>\n",
       "      <th>HasCrCard</th>\n",
       "      <th>IsActiveMember</th>\n",
       "      <th>EstimatedSalary</th>\n",
       "      <th>Exited</th>\n",
       "    </tr>\n",
       "  </thead>\n",
       "  <tbody>\n",
       "    <tr>\n",
       "      <th>0</th>\n",
       "      <td>1</td>\n",
       "      <td>15634602</td>\n",
       "      <td>Hargrave</td>\n",
       "      <td>619</td>\n",
       "      <td>France</td>\n",
       "      <td>Female</td>\n",
       "      <td>42</td>\n",
       "      <td>2.0</td>\n",
       "      <td>0.00</td>\n",
       "      <td>1</td>\n",
       "      <td>1</td>\n",
       "      <td>1</td>\n",
       "      <td>101348.88</td>\n",
       "      <td>1</td>\n",
       "    </tr>\n",
       "    <tr>\n",
       "      <th>1</th>\n",
       "      <td>2</td>\n",
       "      <td>15647311</td>\n",
       "      <td>Hill</td>\n",
       "      <td>608</td>\n",
       "      <td>Spain</td>\n",
       "      <td>Female</td>\n",
       "      <td>41</td>\n",
       "      <td>1.0</td>\n",
       "      <td>83807.86</td>\n",
       "      <td>1</td>\n",
       "      <td>0</td>\n",
       "      <td>1</td>\n",
       "      <td>112542.58</td>\n",
       "      <td>0</td>\n",
       "    </tr>\n",
       "    <tr>\n",
       "      <th>2</th>\n",
       "      <td>3</td>\n",
       "      <td>15619304</td>\n",
       "      <td>Onio</td>\n",
       "      <td>502</td>\n",
       "      <td>France</td>\n",
       "      <td>Female</td>\n",
       "      <td>42</td>\n",
       "      <td>8.0</td>\n",
       "      <td>159660.80</td>\n",
       "      <td>3</td>\n",
       "      <td>1</td>\n",
       "      <td>0</td>\n",
       "      <td>113931.57</td>\n",
       "      <td>1</td>\n",
       "    </tr>\n",
       "    <tr>\n",
       "      <th>3</th>\n",
       "      <td>4</td>\n",
       "      <td>15701354</td>\n",
       "      <td>Boni</td>\n",
       "      <td>699</td>\n",
       "      <td>France</td>\n",
       "      <td>Female</td>\n",
       "      <td>39</td>\n",
       "      <td>1.0</td>\n",
       "      <td>0.00</td>\n",
       "      <td>2</td>\n",
       "      <td>0</td>\n",
       "      <td>0</td>\n",
       "      <td>93826.63</td>\n",
       "      <td>0</td>\n",
       "    </tr>\n",
       "    <tr>\n",
       "      <th>4</th>\n",
       "      <td>5</td>\n",
       "      <td>15737888</td>\n",
       "      <td>Mitchell</td>\n",
       "      <td>850</td>\n",
       "      <td>Spain</td>\n",
       "      <td>Female</td>\n",
       "      <td>43</td>\n",
       "      <td>2.0</td>\n",
       "      <td>125510.82</td>\n",
       "      <td>1</td>\n",
       "      <td>1</td>\n",
       "      <td>1</td>\n",
       "      <td>79084.10</td>\n",
       "      <td>0</td>\n",
       "    </tr>\n",
       "  </tbody>\n",
       "</table>\n",
       "</div>"
      ],
      "text/plain": [
       "   RowNumber  CustomerId   Surname  CreditScore Geography  Gender  Age  \\\n",
       "0          1    15634602  Hargrave          619    France  Female   42   \n",
       "1          2    15647311      Hill          608     Spain  Female   41   \n",
       "2          3    15619304      Onio          502    France  Female   42   \n",
       "3          4    15701354      Boni          699    France  Female   39   \n",
       "4          5    15737888  Mitchell          850     Spain  Female   43   \n",
       "\n",
       "   Tenure    Balance  NumOfProducts  HasCrCard  IsActiveMember  \\\n",
       "0     2.0       0.00              1          1               1   \n",
       "1     1.0   83807.86              1          0               1   \n",
       "2     8.0  159660.80              3          1               0   \n",
       "3     1.0       0.00              2          0               0   \n",
       "4     2.0  125510.82              1          1               1   \n",
       "\n",
       "   EstimatedSalary  Exited  \n",
       "0        101348.88       1  \n",
       "1        112542.58       0  \n",
       "2        113931.57       1  \n",
       "3         93826.63       0  \n",
       "4         79084.10       0  "
      ]
     },
     "metadata": {},
     "output_type": "display_data"
    }
   ],
   "source": [
    "!pip install imblearn\n",
    "\n",
    "import pandas as pd\n",
    "import numpy as np\n",
    "import matplotlib.pyplot as plt\n",
    "from sklearn.model_selection import train_test_split\n",
    "from sklearn.linear_model import LogisticRegression\n",
    "from sklearn.ensemble import RandomForestClassifier\n",
    "from sklearn.tree import DecisionTreeClassifier\n",
    "from sklearn.preprocessing import StandardScaler\n",
    "from sklearn.tree import DecisionTreeClassifier\n",
    "from sklearn.metrics import (accuracy_score, \n",
    "                            confusion_matrix,\n",
    "                            recall_score,\n",
    "                            precision_score,\n",
    "                            f1_score,\n",
    "                            precision_recall_curve,\n",
    "                            roc_curve,\n",
    "                            roc_auc_score\n",
    "                            )\n",
    "from sklearn.utils import shuffle\n",
    "from imblearn.over_sampling import SMOTE\n",
    "import warnings\n",
    "warnings.filterwarnings('ignore')\n",
    "\n",
    "data = pd.read_csv('/datasets/Churn.csv')\n",
    "\n",
    "print(data.shape)\n",
    "display(data.describe().T)\n",
    "display(data.head())"
   ]
  },
  {
   "attachments": {},
   "cell_type": "markdown",
   "metadata": {},
   "source": [
    "На первый взгляд столбец \"RowNumber\", \"Surname\" и \"CustomerId\" не нужны, так как в первом случае он повтряет индекс таблицы, а во-втором и третьем эти столбцы не несут полеззной информации как признак клиента. "
   ]
  },
  {
   "cell_type": "code",
   "execution_count": 2,
   "metadata": {},
   "outputs": [],
   "source": [
    "data = data.drop(['RowNumber', 'CustomerId', 'Surname'], axis=1)"
   ]
  },
  {
   "attachments": {},
   "cell_type": "markdown",
   "metadata": {},
   "source": [
    "Также в данных есть 909 NaN-значениq столбца \"Tenure\". "
   ]
  },
  {
   "cell_type": "code",
   "execution_count": 3,
   "metadata": {},
   "outputs": [
    {
     "data": {
      "text/html": [
       "<div>\n",
       "<style scoped>\n",
       "    .dataframe tbody tr th:only-of-type {\n",
       "        vertical-align: middle;\n",
       "    }\n",
       "\n",
       "    .dataframe tbody tr th {\n",
       "        vertical-align: top;\n",
       "    }\n",
       "\n",
       "    .dataframe thead th {\n",
       "        text-align: right;\n",
       "    }\n",
       "</style>\n",
       "<table border=\"1\" class=\"dataframe\">\n",
       "  <thead>\n",
       "    <tr style=\"text-align: right;\">\n",
       "      <th></th>\n",
       "      <th>CreditScore</th>\n",
       "      <th>Geography</th>\n",
       "      <th>Gender</th>\n",
       "      <th>Age</th>\n",
       "      <th>Tenure</th>\n",
       "      <th>Balance</th>\n",
       "      <th>NumOfProducts</th>\n",
       "      <th>HasCrCard</th>\n",
       "      <th>IsActiveMember</th>\n",
       "      <th>EstimatedSalary</th>\n",
       "      <th>Exited</th>\n",
       "    </tr>\n",
       "  </thead>\n",
       "  <tbody>\n",
       "    <tr>\n",
       "      <th>30</th>\n",
       "      <td>591</td>\n",
       "      <td>Spain</td>\n",
       "      <td>Female</td>\n",
       "      <td>39</td>\n",
       "      <td>NaN</td>\n",
       "      <td>0.00</td>\n",
       "      <td>3</td>\n",
       "      <td>1</td>\n",
       "      <td>0</td>\n",
       "      <td>140469.38</td>\n",
       "      <td>1</td>\n",
       "    </tr>\n",
       "    <tr>\n",
       "      <th>48</th>\n",
       "      <td>550</td>\n",
       "      <td>Germany</td>\n",
       "      <td>Male</td>\n",
       "      <td>38</td>\n",
       "      <td>NaN</td>\n",
       "      <td>103391.38</td>\n",
       "      <td>1</td>\n",
       "      <td>0</td>\n",
       "      <td>1</td>\n",
       "      <td>90878.13</td>\n",
       "      <td>0</td>\n",
       "    </tr>\n",
       "    <tr>\n",
       "      <th>51</th>\n",
       "      <td>585</td>\n",
       "      <td>Germany</td>\n",
       "      <td>Male</td>\n",
       "      <td>36</td>\n",
       "      <td>NaN</td>\n",
       "      <td>146050.97</td>\n",
       "      <td>2</td>\n",
       "      <td>0</td>\n",
       "      <td>0</td>\n",
       "      <td>86424.57</td>\n",
       "      <td>0</td>\n",
       "    </tr>\n",
       "    <tr>\n",
       "      <th>53</th>\n",
       "      <td>655</td>\n",
       "      <td>Germany</td>\n",
       "      <td>Male</td>\n",
       "      <td>41</td>\n",
       "      <td>NaN</td>\n",
       "      <td>125561.97</td>\n",
       "      <td>1</td>\n",
       "      <td>0</td>\n",
       "      <td>0</td>\n",
       "      <td>164040.94</td>\n",
       "      <td>1</td>\n",
       "    </tr>\n",
       "    <tr>\n",
       "      <th>60</th>\n",
       "      <td>742</td>\n",
       "      <td>Germany</td>\n",
       "      <td>Male</td>\n",
       "      <td>35</td>\n",
       "      <td>NaN</td>\n",
       "      <td>136857.00</td>\n",
       "      <td>1</td>\n",
       "      <td>0</td>\n",
       "      <td>0</td>\n",
       "      <td>84509.57</td>\n",
       "      <td>0</td>\n",
       "    </tr>\n",
       "    <tr>\n",
       "      <th>...</th>\n",
       "      <td>...</td>\n",
       "      <td>...</td>\n",
       "      <td>...</td>\n",
       "      <td>...</td>\n",
       "      <td>...</td>\n",
       "      <td>...</td>\n",
       "      <td>...</td>\n",
       "      <td>...</td>\n",
       "      <td>...</td>\n",
       "      <td>...</td>\n",
       "      <td>...</td>\n",
       "    </tr>\n",
       "    <tr>\n",
       "      <th>9944</th>\n",
       "      <td>744</td>\n",
       "      <td>Germany</td>\n",
       "      <td>Male</td>\n",
       "      <td>41</td>\n",
       "      <td>NaN</td>\n",
       "      <td>190409.34</td>\n",
       "      <td>2</td>\n",
       "      <td>1</td>\n",
       "      <td>1</td>\n",
       "      <td>138361.48</td>\n",
       "      <td>0</td>\n",
       "    </tr>\n",
       "    <tr>\n",
       "      <th>9956</th>\n",
       "      <td>520</td>\n",
       "      <td>France</td>\n",
       "      <td>Female</td>\n",
       "      <td>46</td>\n",
       "      <td>NaN</td>\n",
       "      <td>85216.61</td>\n",
       "      <td>1</td>\n",
       "      <td>1</td>\n",
       "      <td>0</td>\n",
       "      <td>117369.52</td>\n",
       "      <td>1</td>\n",
       "    </tr>\n",
       "    <tr>\n",
       "      <th>9964</th>\n",
       "      <td>479</td>\n",
       "      <td>France</td>\n",
       "      <td>Male</td>\n",
       "      <td>34</td>\n",
       "      <td>NaN</td>\n",
       "      <td>117593.48</td>\n",
       "      <td>2</td>\n",
       "      <td>0</td>\n",
       "      <td>0</td>\n",
       "      <td>113308.29</td>\n",
       "      <td>0</td>\n",
       "    </tr>\n",
       "    <tr>\n",
       "      <th>9985</th>\n",
       "      <td>659</td>\n",
       "      <td>France</td>\n",
       "      <td>Male</td>\n",
       "      <td>36</td>\n",
       "      <td>NaN</td>\n",
       "      <td>123841.49</td>\n",
       "      <td>2</td>\n",
       "      <td>1</td>\n",
       "      <td>0</td>\n",
       "      <td>96833.00</td>\n",
       "      <td>0</td>\n",
       "    </tr>\n",
       "    <tr>\n",
       "      <th>9999</th>\n",
       "      <td>792</td>\n",
       "      <td>France</td>\n",
       "      <td>Female</td>\n",
       "      <td>28</td>\n",
       "      <td>NaN</td>\n",
       "      <td>130142.79</td>\n",
       "      <td>1</td>\n",
       "      <td>1</td>\n",
       "      <td>0</td>\n",
       "      <td>38190.78</td>\n",
       "      <td>0</td>\n",
       "    </tr>\n",
       "  </tbody>\n",
       "</table>\n",
       "<p>909 rows × 11 columns</p>\n",
       "</div>"
      ],
      "text/plain": [
       "      CreditScore Geography  Gender  Age  Tenure    Balance  NumOfProducts  \\\n",
       "30            591     Spain  Female   39     NaN       0.00              3   \n",
       "48            550   Germany    Male   38     NaN  103391.38              1   \n",
       "51            585   Germany    Male   36     NaN  146050.97              2   \n",
       "53            655   Germany    Male   41     NaN  125561.97              1   \n",
       "60            742   Germany    Male   35     NaN  136857.00              1   \n",
       "...           ...       ...     ...  ...     ...        ...            ...   \n",
       "9944          744   Germany    Male   41     NaN  190409.34              2   \n",
       "9956          520    France  Female   46     NaN   85216.61              1   \n",
       "9964          479    France    Male   34     NaN  117593.48              2   \n",
       "9985          659    France    Male   36     NaN  123841.49              2   \n",
       "9999          792    France  Female   28     NaN  130142.79              1   \n",
       "\n",
       "      HasCrCard  IsActiveMember  EstimatedSalary  Exited  \n",
       "30            1               0        140469.38       1  \n",
       "48            0               1         90878.13       0  \n",
       "51            0               0         86424.57       0  \n",
       "53            0               0        164040.94       1  \n",
       "60            0               0         84509.57       0  \n",
       "...         ...             ...              ...     ...  \n",
       "9944          1               1        138361.48       0  \n",
       "9956          1               0        117369.52       1  \n",
       "9964          0               0        113308.29       0  \n",
       "9985          1               0         96833.00       0  \n",
       "9999          1               0         38190.78       0  \n",
       "\n",
       "[909 rows x 11 columns]"
      ]
     },
     "metadata": {},
     "output_type": "display_data"
    },
    {
     "name": "stdout",
     "output_type": "stream",
     "text": [
      "[ 2.  1.  8.  7.  4.  6.  3. 10.  5.  9.  0. nan]\n"
     ]
    }
   ],
   "source": [
    "display(data[data.isna().any(axis=1)])\n",
    "\n",
    "print(data['Tenure'].unique())"
   ]
  },
  {
   "attachments": {},
   "cell_type": "markdown",
   "metadata": {},
   "source": [
    "Удалим строки с пропущенными значениями."
   ]
  },
  {
   "cell_type": "code",
   "execution_count": 4,
   "metadata": {},
   "outputs": [],
   "source": [
    "data = data.dropna()"
   ]
  },
  {
   "attachments": {},
   "cell_type": "markdown",
   "metadata": {},
   "source": [
    "Даллее используем прямое колирование для преобразования данных, так как мы решаем задачу логической регрессии. "
   ]
  },
  {
   "cell_type": "code",
   "execution_count": 5,
   "metadata": {},
   "outputs": [],
   "source": [
    "data_ohe = pd.get_dummies(data, drop_first=True)"
   ]
  },
  {
   "attachments": {},
   "cell_type": "markdown",
   "metadata": {},
   "source": [
    "Разделим данные на три выборки: тренировочную, валидационную и тестовую, в соотношении 60/20/20% от общей, соответственно."
   ]
  },
  {
   "cell_type": "code",
   "execution_count": 6,
   "metadata": {},
   "outputs": [],
   "source": [
    "target = data_ohe['Exited']\n",
    "features = data_ohe.drop('Exited', axis=1)\n",
    "\n",
    "features_train, features_temp, target_train, target_temp = train_test_split(features, target, test_size=0.4, random_state=12345)\n",
    "features_valid, features_test, target_valid, target_test = train_test_split(features_temp, target_temp, test_size=0.5, random_state=12345)"
   ]
  },
  {
   "attachments": {},
   "cell_type": "markdown",
   "metadata": {},
   "source": [
    "Промасштабируем данные и проведём тестировочное обучение модели, чтобы убедится что нету ошибок"
   ]
  },
  {
   "cell_type": "code",
   "execution_count": 7,
   "metadata": {},
   "outputs": [
    {
     "data": {
      "text/html": [
       "<div>\n",
       "<style scoped>\n",
       "    .dataframe tbody tr th:only-of-type {\n",
       "        vertical-align: middle;\n",
       "    }\n",
       "\n",
       "    .dataframe tbody tr th {\n",
       "        vertical-align: top;\n",
       "    }\n",
       "\n",
       "    .dataframe thead th {\n",
       "        text-align: right;\n",
       "    }\n",
       "</style>\n",
       "<table border=\"1\" class=\"dataframe\">\n",
       "  <thead>\n",
       "    <tr style=\"text-align: right;\">\n",
       "      <th></th>\n",
       "      <th>CreditScore</th>\n",
       "      <th>Age</th>\n",
       "      <th>Tenure</th>\n",
       "      <th>Balance</th>\n",
       "      <th>NumOfProducts</th>\n",
       "      <th>HasCrCard</th>\n",
       "      <th>IsActiveMember</th>\n",
       "      <th>EstimatedSalary</th>\n",
       "      <th>Geography_Germany</th>\n",
       "      <th>Geography_Spain</th>\n",
       "      <th>Gender_Male</th>\n",
       "    </tr>\n",
       "  </thead>\n",
       "  <tbody>\n",
       "    <tr>\n",
       "      <th>9344</th>\n",
       "      <td>0.809075</td>\n",
       "      <td>-1.039327</td>\n",
       "      <td>2.0</td>\n",
       "      <td>0.554904</td>\n",
       "      <td>1</td>\n",
       "      <td>1</td>\n",
       "      <td>0</td>\n",
       "      <td>0.019508</td>\n",
       "      <td>0</td>\n",
       "      <td>0</td>\n",
       "      <td>0</td>\n",
       "    </tr>\n",
       "    <tr>\n",
       "      <th>3796</th>\n",
       "      <td>-1.152518</td>\n",
       "      <td>-1.227561</td>\n",
       "      <td>7.0</td>\n",
       "      <td>0.480609</td>\n",
       "      <td>1</td>\n",
       "      <td>0</td>\n",
       "      <td>0</td>\n",
       "      <td>0.056167</td>\n",
       "      <td>0</td>\n",
       "      <td>0</td>\n",
       "      <td>1</td>\n",
       "    </tr>\n",
       "    <tr>\n",
       "      <th>7462</th>\n",
       "      <td>-0.398853</td>\n",
       "      <td>0.090079</td>\n",
       "      <td>9.0</td>\n",
       "      <td>-1.237830</td>\n",
       "      <td>1</td>\n",
       "      <td>1</td>\n",
       "      <td>1</td>\n",
       "      <td>0.848738</td>\n",
       "      <td>0</td>\n",
       "      <td>0</td>\n",
       "      <td>1</td>\n",
       "    </tr>\n",
       "    <tr>\n",
       "      <th>1508</th>\n",
       "      <td>-0.749875</td>\n",
       "      <td>-0.286389</td>\n",
       "      <td>6.0</td>\n",
       "      <td>-1.237830</td>\n",
       "      <td>2</td>\n",
       "      <td>1</td>\n",
       "      <td>1</td>\n",
       "      <td>-0.894953</td>\n",
       "      <td>0</td>\n",
       "      <td>0</td>\n",
       "      <td>1</td>\n",
       "    </tr>\n",
       "    <tr>\n",
       "      <th>4478</th>\n",
       "      <td>-1.028628</td>\n",
       "      <td>-0.756975</td>\n",
       "      <td>4.0</td>\n",
       "      <td>-1.237830</td>\n",
       "      <td>2</td>\n",
       "      <td>0</td>\n",
       "      <td>1</td>\n",
       "      <td>-1.284516</td>\n",
       "      <td>0</td>\n",
       "      <td>0</td>\n",
       "      <td>1</td>\n",
       "    </tr>\n",
       "    <tr>\n",
       "      <th>...</th>\n",
       "      <td>...</td>\n",
       "      <td>...</td>\n",
       "      <td>...</td>\n",
       "      <td>...</td>\n",
       "      <td>...</td>\n",
       "      <td>...</td>\n",
       "      <td>...</td>\n",
       "      <td>...</td>\n",
       "      <td>...</td>\n",
       "      <td>...</td>\n",
       "      <td>...</td>\n",
       "    </tr>\n",
       "    <tr>\n",
       "      <th>4938</th>\n",
       "      <td>1.283988</td>\n",
       "      <td>-0.474624</td>\n",
       "      <td>10.0</td>\n",
       "      <td>0.813031</td>\n",
       "      <td>1</td>\n",
       "      <td>0</td>\n",
       "      <td>0</td>\n",
       "      <td>-1.092767</td>\n",
       "      <td>1</td>\n",
       "      <td>0</td>\n",
       "      <td>1</td>\n",
       "    </tr>\n",
       "    <tr>\n",
       "      <th>4529</th>\n",
       "      <td>0.158652</td>\n",
       "      <td>0.466548</td>\n",
       "      <td>8.0</td>\n",
       "      <td>1.071609</td>\n",
       "      <td>1</td>\n",
       "      <td>1</td>\n",
       "      <td>1</td>\n",
       "      <td>0.260842</td>\n",
       "      <td>0</td>\n",
       "      <td>0</td>\n",
       "      <td>0</td>\n",
       "    </tr>\n",
       "    <tr>\n",
       "      <th>3866</th>\n",
       "      <td>-1.049276</td>\n",
       "      <td>-0.945210</td>\n",
       "      <td>6.0</td>\n",
       "      <td>0.449165</td>\n",
       "      <td>1</td>\n",
       "      <td>1</td>\n",
       "      <td>1</td>\n",
       "      <td>-1.086965</td>\n",
       "      <td>0</td>\n",
       "      <td>0</td>\n",
       "      <td>0</td>\n",
       "    </tr>\n",
       "    <tr>\n",
       "      <th>2414</th>\n",
       "      <td>-0.956359</td>\n",
       "      <td>1.219485</td>\n",
       "      <td>9.0</td>\n",
       "      <td>-1.237830</td>\n",
       "      <td>1</td>\n",
       "      <td>1</td>\n",
       "      <td>0</td>\n",
       "      <td>1.288527</td>\n",
       "      <td>0</td>\n",
       "      <td>0</td>\n",
       "      <td>0</td>\n",
       "    </tr>\n",
       "    <tr>\n",
       "      <th>5056</th>\n",
       "      <td>1.222043</td>\n",
       "      <td>-1.509912</td>\n",
       "      <td>2.0</td>\n",
       "      <td>1.015938</td>\n",
       "      <td>1</td>\n",
       "      <td>0</td>\n",
       "      <td>1</td>\n",
       "      <td>-1.244002</td>\n",
       "      <td>1</td>\n",
       "      <td>0</td>\n",
       "      <td>1</td>\n",
       "    </tr>\n",
       "  </tbody>\n",
       "</table>\n",
       "<p>5454 rows × 11 columns</p>\n",
       "</div>"
      ],
      "text/plain": [
       "      CreditScore       Age  Tenure   Balance  NumOfProducts  HasCrCard  \\\n",
       "9344     0.809075 -1.039327     2.0  0.554904              1          1   \n",
       "3796    -1.152518 -1.227561     7.0  0.480609              1          0   \n",
       "7462    -0.398853  0.090079     9.0 -1.237830              1          1   \n",
       "1508    -0.749875 -0.286389     6.0 -1.237830              2          1   \n",
       "4478    -1.028628 -0.756975     4.0 -1.237830              2          0   \n",
       "...           ...       ...     ...       ...            ...        ...   \n",
       "4938     1.283988 -0.474624    10.0  0.813031              1          0   \n",
       "4529     0.158652  0.466548     8.0  1.071609              1          1   \n",
       "3866    -1.049276 -0.945210     6.0  0.449165              1          1   \n",
       "2414    -0.956359  1.219485     9.0 -1.237830              1          1   \n",
       "5056     1.222043 -1.509912     2.0  1.015938              1          0   \n",
       "\n",
       "      IsActiveMember  EstimatedSalary  Geography_Germany  Geography_Spain  \\\n",
       "9344               0         0.019508                  0                0   \n",
       "3796               0         0.056167                  0                0   \n",
       "7462               1         0.848738                  0                0   \n",
       "1508               1        -0.894953                  0                0   \n",
       "4478               1        -1.284516                  0                0   \n",
       "...              ...              ...                ...              ...   \n",
       "4938               0        -1.092767                  1                0   \n",
       "4529               1         0.260842                  0                0   \n",
       "3866               1        -1.086965                  0                0   \n",
       "2414               0         1.288527                  0                0   \n",
       "5056               1        -1.244002                  1                0   \n",
       "\n",
       "      Gender_Male  \n",
       "9344            0  \n",
       "3796            1  \n",
       "7462            1  \n",
       "1508            1  \n",
       "4478            1  \n",
       "...           ...  \n",
       "4938            1  \n",
       "4529            0  \n",
       "3866            0  \n",
       "2414            0  \n",
       "5056            1  \n",
       "\n",
       "[5454 rows x 11 columns]"
      ]
     },
     "metadata": {},
     "output_type": "display_data"
    }
   ],
   "source": [
    "numeric = ['CreditScore', 'Age', 'Balance', 'EstimatedSalary']\n",
    "\n",
    "scaler = StandardScaler()\n",
    "scaler.fit(features_train[numeric])\n",
    "\n",
    "features_train[numeric] = scaler.transform(features_train[numeric])\n",
    "features_valid[numeric] = scaler.transform(features_valid[numeric]) \n",
    "features_test[numeric] = scaler.transform(features_test[numeric]) \n",
    "\n",
    "pd.options.mode.chained_assignment = None\n",
    "\n",
    "display(features_train)\n"
   ]
  },
  {
   "attachments": {},
   "cell_type": "markdown",
   "metadata": {},
   "source": [
    "### Выводы"
   ]
  },
  {
   "attachments": {},
   "cell_type": "markdown",
   "metadata": {},
   "source": [
    "Проведено подготовка данных для дальнейшего исследования и решении задачи, удалены пропуски, проведено прямое кодирование и проведена тестовое обучение модели, следовательно данные подготовлены к использованию."
   ]
  },
  {
   "attachments": {},
   "cell_type": "markdown",
   "metadata": {},
   "source": [
    "## Исследование задачи"
   ]
  },
  {
   "attachments": {},
   "cell_type": "markdown",
   "metadata": {},
   "source": [
    "Проверим данные на дисбаланс таргета"
   ]
  },
  {
   "cell_type": "code",
   "execution_count": 8,
   "metadata": {},
   "outputs": [
    {
     "name": "stdout",
     "output_type": "stream",
     "text": [
      "Доля фактов уходов клиента: 20.39%\n"
     ]
    }
   ],
   "source": [
    "print('Доля фактов уходов клиента: {:.2%}'.format(data_ohe['Exited'].mean()))"
   ]
  },
  {
   "attachments": {},
   "cell_type": "markdown",
   "metadata": {},
   "source": [
    "Проверим первые модели логической регрессии, случайного леса и решающего дерева. Попробуем подобрать наилучшие гиперпараметры для этих моделей."
   ]
  },
  {
   "cell_type": "code",
   "execution_count": 9,
   "metadata": {},
   "outputs": [],
   "source": [
    "result_ls = []\n",
    "\n",
    "def best_rf(features_train, target_train, features_valid, target_valid, depth, estimator):\n",
    "    model_rf = None\n",
    "    best_f1 = 0\n",
    "    depth = 13\n",
    "    estimator = 501\n",
    "    for d in range(10, depth):\n",
    "        for e in range(300, estimator, 50):\n",
    "            model = RandomForestClassifier(random_state=12345,  \n",
    "                                               max_depth = d,\n",
    "                                               n_estimators=e)\n",
    "            model.fit(features_train, target_train)\n",
    "            predicted_valid = model.predict(features_valid)\n",
    "            result = f1_score(target_valid, predicted_valid)\n",
    "            \n",
    "            if result > best_f1:\n",
    "                best_f1 = result\n",
    "                model_rf = model\n",
    "                best_d = d\n",
    "                best_e = e\n",
    "    \n",
    "    return model_rf, best_d, best_e\n",
    "\n",
    "def best_dt(features_train, target_train, features_valid, target_valid, depth):\n",
    "    model_dt = None\n",
    "    best_f1 = 0\n",
    "    depth = 13\n",
    "    for d in range(1, depth):\n",
    "        model = DecisionTreeClassifier(random_state=12345, max_depth=d)\n",
    "        model.fit(features_train, target_train)\n",
    "        predicted_valid = model.predict(features_valid)\n",
    "        result = f1_score(target_valid, predicted_valid)\n",
    "\n",
    "        if result > best_f1:\n",
    "            best_f1 = result\n",
    "            model_dt = model\n",
    "            best_d = d\n",
    "\n",
    "    return model_dt, best_d\n",
    "                \n",
    "def getMetrics(model, features, target):\n",
    "    predicted = model.predict(features)\n",
    "    probabilities = model.predict_proba(features)\n",
    "    probabilities_one = probabilities[:, 1]\n",
    "    f1 = f1_score(target, predicted)\n",
    "    auc_roc = roc_auc_score(target, probabilities_one)\n",
    "    return [f1, auc_roc]\n",
    "\n",
    "def plotAUC(model, features, target):\n",
    "    probabilities = model.predict_proba(features)\n",
    "    probabilities_one = probabilities[:, 1]\n",
    "    \n",
    "    precision, recall, thresholds = precision_recall_curve(target, probabilities[:, 1])\n",
    "\n",
    "    plt.figure(figsize=(6, 6))\n",
    "    plt.step(recall, precision, where='post')\n",
    "    plt.xlabel('Recall')\n",
    "    plt.ylabel('Precision')\n",
    "    plt.ylim([0.0, 1.05])\n",
    "    plt.xlim([0.0, 1.0])\n",
    "    plt.title('Кривая Precision-Recall')\n",
    "    plt.show()\n",
    "\n",
    "    fpr, tpr, thresholds = roc_curve(target, probabilities_one) \n",
    "\n",
    "    plt.figure(figsize=(10, 10))\n",
    "    plt.plot(fpr, tpr, linestyle='-')\n",
    "    plt.plot([0, 1], [0, 1], linestyle='--')\n",
    "    plt.xlim([0.0, 1.0])\n",
    "    plt.ylim([0.0, 1.0])\n",
    "    plt.xlabel('False Positive Rate')\n",
    "    plt.ylabel('True Positive Rate')\n",
    "    plt.title('ROC-curve')\n",
    "    plt.show()\n",
    "    \n",
    "def plotResults(list):\n",
    "    print(\"AUC = {:.3f} | F1 = {:.3f}\".format(list[1], list[0]))"
   ]
  },
  {
   "cell_type": "code",
   "execution_count": 10,
   "metadata": {},
   "outputs": [
    {
     "data": {
      "image/png": "[encoded data removed]",
      "text/plain": [
       "<Figure size 432x432 with 1 Axes>"
      ]
     },
     "metadata": {
      "needs_background": "light"
     },
     "output_type": "display_data"
    },
    {
     "data": {
      "image/png": "[encoded data removed]",
      "text/plain": [
       "<Figure size 720x720 with 1 Axes>"
      ]
     },
     "metadata": {
      "needs_background": "light"
     },
     "output_type": "display_data"
    },
    {
     "name": "stdout",
     "output_type": "stream",
     "text": [
      "AUC = 0.774 | F1 = 0.304\n"
     ]
    }
   ],
   "source": [
    "model_lr = LogisticRegression(random_state=12345, solver='liblinear')\n",
    "model_lr.fit(features_train, target_train)\n",
    "\n",
    "\n",
    "plotAUC(model_lr, features_valid, target_valid)\n",
    "plotResults(getMetrics(model_lr, features_valid, target_valid))\n",
    "\n",
    "result_ls.append([\"LogisticRegression\", getMetrics(model_lr, features_valid, target_valid)[1], \n",
    "                                        getMetrics(model_lr, features_valid, target_valid)[0]])"
   ]
  },
  {
   "cell_type": "code",
   "execution_count": 11,
   "metadata": {
    "scrolled": true
   },
   "outputs": [
    {
     "name": "stdout",
     "output_type": "stream",
     "text": [
      "Гиперпараметры лучшей модели - Глубина леса = 12.000, Количество деревьев = 450.000\n"
     ]
    }
   ],
   "source": [
    "model_rf, best_d, best_e = best_rf(features_train, target_train, features_valid, target_valid, 13, 501)      \n",
    "\n",
    "print(\"Гиперпараметры лучшей модели - Глубина леса = {:.3f}, Количество деревьев = {:.3f}\".format(best_d, best_e))"
   ]
  },
  {
   "cell_type": "code",
   "execution_count": 12,
   "metadata": {},
   "outputs": [
    {
     "data": {
      "image/png": "[encoded data removed]",
      "text/plain": [
       "<Figure size 432x432 with 1 Axes>"
      ]
     },
     "metadata": {
      "needs_background": "light"
     },
     "output_type": "display_data"
    },
    {
     "data": {
      "image/png": "[encoded data removed]",
      "text/plain": [
       "<Figure size 720x720 with 1 Axes>"
      ]
     },
     "metadata": {
      "needs_background": "light"
     },
     "output_type": "display_data"
    },
    {
     "name": "stdout",
     "output_type": "stream",
     "text": [
      "AUC = 0.872 | F1 = 0.579\n"
     ]
    }
   ],
   "source": [
    "plotAUC(model_rf, features_valid, target_valid)\n",
    "plotResults(getMetrics(model_rf, features_valid, target_valid))\n",
    "\n",
    "result_ls.append([\"RandomForrest\", getMetrics(model_rf, features_valid, target_valid)[1], \n",
    "                                   getMetrics(model_rf, features_valid, target_valid)[0]])"
   ]
  },
  {
   "cell_type": "code",
   "execution_count": 13,
   "metadata": {
    "scrolled": true
   },
   "outputs": [
    {
     "name": "stdout",
     "output_type": "stream",
     "text": [
      "Гиперпараметры лучшей модели - Глубина = 7.000\n"
     ]
    }
   ],
   "source": [
    "model_dt, best_d = best_dt(features_train, target_train, features_valid, target_valid, 13)      \n",
    "\n",
    "print(\"Гиперпараметры лучшей модели - Глубина = {:.3f}\".format(best_d))"
   ]
  },
  {
   "cell_type": "code",
   "execution_count": 14,
   "metadata": {},
   "outputs": [
    {
     "data": {
      "image/png": "[encoded data removed]",
      "text/plain": [
       "<Figure size 432x432 with 1 Axes>"
      ]
     },
     "metadata": {
      "needs_background": "light"
     },
     "output_type": "display_data"
    },
    {
     "data": {
      "image/png": "[encoded data removed]",
      "text/plain": [
       "<Figure size 720x720 with 1 Axes>"
      ]
     },
     "metadata": {
      "needs_background": "light"
     },
     "output_type": "display_data"
    },
    {
     "name": "stdout",
     "output_type": "stream",
     "text": [
      "AUC = 0.835 | F1 = 0.576\n"
     ]
    }
   ],
   "source": [
    "plotAUC(model_dt, features_valid, target_valid)\n",
    "plotResults(getMetrics(model_dt, features_valid, target_valid))\n",
    "\n",
    "result_ls.append([\"DesicionTree\", getMetrics(model_dt, features_valid, target_valid)[1], \n",
    "                                  getMetrics(model_dt, features_valid, target_valid)[0]])"
   ]
  },
  {
   "cell_type": "code",
   "execution_count": 15,
   "metadata": {},
   "outputs": [
    {
     "data": {
      "text/html": [
       "<div>\n",
       "<style scoped>\n",
       "    .dataframe tbody tr th:only-of-type {\n",
       "        vertical-align: middle;\n",
       "    }\n",
       "\n",
       "    .dataframe tbody tr th {\n",
       "        vertical-align: top;\n",
       "    }\n",
       "\n",
       "    .dataframe thead th {\n",
       "        text-align: right;\n",
       "    }\n",
       "</style>\n",
       "<table border=\"1\" class=\"dataframe\">\n",
       "  <thead>\n",
       "    <tr style=\"text-align: right;\">\n",
       "      <th></th>\n",
       "      <th>Model</th>\n",
       "      <th>AUC</th>\n",
       "      <th>F1</th>\n",
       "    </tr>\n",
       "  </thead>\n",
       "  <tbody>\n",
       "    <tr>\n",
       "      <th>0</th>\n",
       "      <td>LogisticRegression</td>\n",
       "      <td>0.773536</td>\n",
       "      <td>0.304000</td>\n",
       "    </tr>\n",
       "    <tr>\n",
       "      <th>1</th>\n",
       "      <td>RandomForrest</td>\n",
       "      <td>0.872208</td>\n",
       "      <td>0.579216</td>\n",
       "    </tr>\n",
       "    <tr>\n",
       "      <th>2</th>\n",
       "      <td>DesicionTree</td>\n",
       "      <td>0.834605</td>\n",
       "      <td>0.576433</td>\n",
       "    </tr>\n",
       "  </tbody>\n",
       "</table>\n",
       "</div>"
      ],
      "text/plain": [
       "                Model       AUC        F1\n",
       "0  LogisticRegression  0.773536  0.304000\n",
       "1       RandomForrest  0.872208  0.579216\n",
       "2        DesicionTree  0.834605  0.576433"
      ]
     },
     "metadata": {},
     "output_type": "display_data"
    }
   ],
   "source": [
    "result_df = pd.DataFrame(result_ls, columns=['Model', 'AUC', 'F1'])\n",
    "display(result_df)"
   ]
  },
  {
   "attachments": {},
   "cell_type": "markdown",
   "metadata": {},
   "source": [
    "### Выводы"
   ]
  },
  {
   "attachments": {},
   "cell_type": "markdown",
   "metadata": {},
   "source": [
    "Показатели F1-меры не достаточны, это связано с дисбалансом таргета."
   ]
  },
  {
   "attachments": {},
   "cell_type": "markdown",
   "metadata": {},
   "source": [
    "## Борьба с дисбалансом"
   ]
  },
  {
   "attachments": {},
   "cell_type": "markdown",
   "metadata": {},
   "source": [
    "### Увеличение выборки"
   ]
  },
  {
   "cell_type": "code",
   "execution_count": 16,
   "metadata": {},
   "outputs": [],
   "source": [
    "def upsample(features, target, repeat):\n",
    "    features_zeros = features[target == 0]\n",
    "    features_ones = features[target == 1]\n",
    "    target_zeros = target[target == 0]\n",
    "    target_ones = target[target == 1]\n",
    "\n",
    "    features_upsampled = pd.concat([features_zeros] + [features_ones] * repeat)\n",
    "    target_upsampled = pd.concat([target_zeros] + [target_ones] * repeat)\n",
    "    \n",
    "    features_upsampled, target_upsampled = shuffle(\n",
    "        features_upsampled, target_upsampled, random_state=12345)\n",
    "    \n",
    "    return features_upsampled, target_upsampled\n",
    "\n",
    "features_upsampled, target_upsampled = upsample(features_train, target_train, 4)\n",
    "\n",
    "#oversample = SMOTE(random_state=12345)\n",
    "#features_train_up, target_train_up = oversample.fit_resample(features_train, target_train)"
   ]
  },
  {
   "cell_type": "code",
   "execution_count": 17,
   "metadata": {},
   "outputs": [
    {
     "data": {
      "image/png": "[encoded data removed]",
      "text/plain": [
       "<Figure size 432x432 with 1 Axes>"
      ]
     },
     "metadata": {
      "needs_background": "light"
     },
     "output_type": "display_data"
    },
    {
     "data": {
      "image/png": "[encoded data removed]",
      "text/plain": [
       "<Figure size 720x720 with 1 Axes>"
      ]
     },
     "metadata": {
      "needs_background": "light"
     },
     "output_type": "display_data"
    },
    {
     "name": "stdout",
     "output_type": "stream",
     "text": [
      "AUC = 0.778 | F1 = 0.507\n"
     ]
    }
   ],
   "source": [
    "model_lr = LogisticRegression(random_state=12345, solver='liblinear')\n",
    "model_lr.fit(features_upsampled, target_upsampled)\n",
    "\n",
    "plotAUC(model_lr, features_valid, target_valid)\n",
    "plotResults(getMetrics(model_lr, features_valid, target_valid))\n",
    "\n",
    "result_ls.append([\"LogisticRegressionUpsampled\", getMetrics(model_lr, features_valid, target_valid)[1], \n",
    "                                        getMetrics(model_lr, features_valid, target_valid)[0]])"
   ]
  },
  {
   "cell_type": "code",
   "execution_count": 18,
   "metadata": {},
   "outputs": [
    {
     "name": "stdout",
     "output_type": "stream",
     "text": [
      "Гиперпараметры лучшей модели - Глубина леса = 12.000, Количество деревьев = 400.000\n"
     ]
    }
   ],
   "source": [
    "model_rf, best_d, best_e = best_rf(features_upsampled, target_upsampled, features_valid, target_valid, 13, 501)      \n",
    "\n",
    "print(\"Гиперпараметры лучшей модели - Глубина леса = {:.3f}, Количество деревьев = {:.3f}\".format(best_d, best_e))"
   ]
  },
  {
   "cell_type": "code",
   "execution_count": 19,
   "metadata": {},
   "outputs": [
    {
     "data": {
      "image/png": "[encoded data removed]",
      "text/plain": [
       "<Figure size 432x432 with 1 Axes>"
      ]
     },
     "metadata": {
      "needs_background": "light"
     },
     "output_type": "display_data"
    },
    {
     "data": {
      "image/png": "[encoded data removed]",
      "text/plain": [
       "<Figure size 720x720 with 1 Axes>"
      ]
     },
     "metadata": {
      "needs_background": "light"
     },
     "output_type": "display_data"
    },
    {
     "name": "stdout",
     "output_type": "stream",
     "text": [
      "AUC = 0.867 | F1 = 0.637\n"
     ]
    }
   ],
   "source": [
    "plotAUC(model_rf, features_valid, target_valid)\n",
    "plotResults(getMetrics(model_rf, features_valid, target_valid))\n",
    "\n",
    "result_ls.append([\"RandomForrestUpsampled\", getMetrics(model_rf, features_valid, target_valid)[1], \n",
    "                                   getMetrics(model_rf, features_valid, target_valid)[0]])"
   ]
  },
  {
   "cell_type": "code",
   "execution_count": 20,
   "metadata": {},
   "outputs": [
    {
     "name": "stdout",
     "output_type": "stream",
     "text": [
      "Гиперпараметры лучшей модели - Глубина = 5.000\n"
     ]
    }
   ],
   "source": [
    "model_dt, best_d = best_dt(features_upsampled, target_upsampled, features_valid, target_valid, 13)      \n",
    "\n",
    "print(\"Гиперпараметры лучшей модели - Глубина = {:.3f}\".format(best_d))"
   ]
  },
  {
   "cell_type": "code",
   "execution_count": 21,
   "metadata": {},
   "outputs": [
    {
     "data": {
      "image/png": "[encoded data removed]",
      "text/plain": [
       "<Figure size 432x432 with 1 Axes>"
      ]
     },
     "metadata": {
      "needs_background": "light"
     },
     "output_type": "display_data"
    },
    {
     "data": {
      "image/png": "[encoded data removed]",
      "text/plain": [
       "<Figure size 720x720 with 1 Axes>"
      ]
     },
     "metadata": {
      "needs_background": "light"
     },
     "output_type": "display_data"
    },
    {
     "name": "stdout",
     "output_type": "stream",
     "text": [
      "AUC = 0.840 | F1 = 0.574\n"
     ]
    }
   ],
   "source": [
    "plotAUC(model_dt, features_valid, target_valid)\n",
    "plotResults(getMetrics(model_dt, features_valid, target_valid))\n",
    "\n",
    "result_ls.append([\"DesicionTreeUpsampled\", getMetrics(model_dt, features_valid, target_valid)[1], \n",
    "                                  getMetrics(model_dt, features_valid, target_valid)[0]])"
   ]
  },
  {
   "cell_type": "code",
   "execution_count": 22,
   "metadata": {},
   "outputs": [
    {
     "data": {
      "text/html": [
       "<div>\n",
       "<style scoped>\n",
       "    .dataframe tbody tr th:only-of-type {\n",
       "        vertical-align: middle;\n",
       "    }\n",
       "\n",
       "    .dataframe tbody tr th {\n",
       "        vertical-align: top;\n",
       "    }\n",
       "\n",
       "    .dataframe thead th {\n",
       "        text-align: right;\n",
       "    }\n",
       "</style>\n",
       "<table border=\"1\" class=\"dataframe\">\n",
       "  <thead>\n",
       "    <tr style=\"text-align: right;\">\n",
       "      <th></th>\n",
       "      <th>Model</th>\n",
       "      <th>AUC</th>\n",
       "      <th>F1</th>\n",
       "    </tr>\n",
       "  </thead>\n",
       "  <tbody>\n",
       "    <tr>\n",
       "      <th>0</th>\n",
       "      <td>LogisticRegression</td>\n",
       "      <td>0.773536</td>\n",
       "      <td>0.304000</td>\n",
       "    </tr>\n",
       "    <tr>\n",
       "      <th>1</th>\n",
       "      <td>RandomForrest</td>\n",
       "      <td>0.872208</td>\n",
       "      <td>0.579216</td>\n",
       "    </tr>\n",
       "    <tr>\n",
       "      <th>2</th>\n",
       "      <td>DesicionTree</td>\n",
       "      <td>0.834605</td>\n",
       "      <td>0.576433</td>\n",
       "    </tr>\n",
       "    <tr>\n",
       "      <th>3</th>\n",
       "      <td>LogisticRegressionUpsampled</td>\n",
       "      <td>0.777945</td>\n",
       "      <td>0.507246</td>\n",
       "    </tr>\n",
       "    <tr>\n",
       "      <th>4</th>\n",
       "      <td>RandomForrestUpsampled</td>\n",
       "      <td>0.867459</td>\n",
       "      <td>0.637419</td>\n",
       "    </tr>\n",
       "    <tr>\n",
       "      <th>5</th>\n",
       "      <td>DesicionTreeUpsampled</td>\n",
       "      <td>0.839652</td>\n",
       "      <td>0.573545</td>\n",
       "    </tr>\n",
       "  </tbody>\n",
       "</table>\n",
       "</div>"
      ],
      "text/plain": [
       "                         Model       AUC        F1\n",
       "0           LogisticRegression  0.773536  0.304000\n",
       "1                RandomForrest  0.872208  0.579216\n",
       "2                 DesicionTree  0.834605  0.576433\n",
       "3  LogisticRegressionUpsampled  0.777945  0.507246\n",
       "4       RandomForrestUpsampled  0.867459  0.637419\n",
       "5        DesicionTreeUpsampled  0.839652  0.573545"
      ]
     },
     "metadata": {},
     "output_type": "display_data"
    }
   ],
   "source": [
    "result_df = pd.DataFrame(result_ls, columns=['Model', 'AUC', 'F1'])\n",
    "display(result_df)"
   ]
  },
  {
   "attachments": {},
   "cell_type": "markdown",
   "metadata": {},
   "source": [
    "### Уменьшение выборки"
   ]
  },
  {
   "cell_type": "code",
   "execution_count": 23,
   "metadata": {
    "scrolled": true
   },
   "outputs": [],
   "source": [
    "def downsample(features, target, fraction):\n",
    "    features_zeros = features[target == 0]\n",
    "    features_ones = features[target == 1]\n",
    "    target_zeros = target[target == 0]\n",
    "    target_ones = target[target == 1]\n",
    "\n",
    "    features_downsampled = pd.concat(\n",
    "        [features_zeros.sample(frac=fraction, random_state=12345)] + [features_ones])\n",
    "    target_downsampled = pd.concat(\n",
    "        [target_zeros.sample(frac=fraction, random_state=12345)] + [target_ones])\n",
    "    \n",
    "    features_downsampled, target_downsampled = shuffle(\n",
    "        features_downsampled, target_downsampled, random_state=12345)\n",
    "    \n",
    "    return features_downsampled, target_downsampled\n",
    "\n",
    "features_downsampled, target_downsampled = downsample(features_train, target_train, 0.1)"
   ]
  },
  {
   "cell_type": "code",
   "execution_count": 24,
   "metadata": {},
   "outputs": [
    {
     "data": {
      "image/png": "[encoded data removed]",
      "text/plain": [
       "<Figure size 432x432 with 1 Axes>"
      ]
     },
     "metadata": {
      "needs_background": "light"
     },
     "output_type": "display_data"
    },
    {
     "data": {
      "image/png": "[encoded data removed]",
      "text/plain": [
       "<Figure size 720x720 with 1 Axes>"
      ]
     },
     "metadata": {
      "needs_background": "light"
     },
     "output_type": "display_data"
    },
    {
     "name": "stdout",
     "output_type": "stream",
     "text": [
      "AUC = 0.771 | F1 = 0.416\n"
     ]
    }
   ],
   "source": [
    "model_lr = LogisticRegression(random_state=12345, solver='liblinear')\n",
    "model_lr.fit(features_downsampled, target_downsampled)\n",
    "\n",
    "plotAUC(model_lr, features_valid, target_valid)\n",
    "plotResults(getMetrics(model_lr, features_valid, target_valid))\n",
    "\n",
    "result_ls.append([\"LogisticRegressionDownsampled\", getMetrics(model_lr, features_valid, target_valid)[1], \n",
    "                                        getMetrics(model_lr, features_valid, target_valid)[0]])"
   ]
  },
  {
   "cell_type": "code",
   "execution_count": 25,
   "metadata": {},
   "outputs": [
    {
     "name": "stdout",
     "output_type": "stream",
     "text": [
      "Гиперпараметры лучшей модели - Глубина леса = 12.000, Количество деревьев = 300.000\n"
     ]
    }
   ],
   "source": [
    "model_rf, best_d, best_e = best_rf(features_downsampled, target_downsampled, features_valid, target_valid, 13, 501)      \n",
    "\n",
    "print(\"Гиперпараметры лучшей модели - Глубина леса = {:.3f}, Количество деревьев = {:.3f}\".format(best_d, best_e))"
   ]
  },
  {
   "cell_type": "code",
   "execution_count": 26,
   "metadata": {},
   "outputs": [
    {
     "data": {
      "image/png": "[encoded data removed]",
      "text/plain": [
       "<Figure size 432x432 with 1 Axes>"
      ]
     },
     "metadata": {
      "needs_background": "light"
     },
     "output_type": "display_data"
    },
    {
     "data": {
      "image/png": "[encoded data removed]",
      "text/plain": [
       "<Figure size 720x720 with 1 Axes>"
      ]
     },
     "metadata": {
      "needs_background": "light"
     },
     "output_type": "display_data"
    },
    {
     "name": "stdout",
     "output_type": "stream",
     "text": [
      "AUC = 0.858 | F1 = 0.466\n"
     ]
    }
   ],
   "source": [
    "plotAUC(model_rf, features_valid, target_valid)\n",
    "plotResults(getMetrics(model_rf, features_valid, target_valid))\n",
    "\n",
    "result_ls.append([\"RandomForrestDownsampled\", getMetrics(model_rf, features_valid, target_valid)[1], \n",
    "                                   getMetrics(model_rf, features_valid, target_valid)[0]])"
   ]
  },
  {
   "cell_type": "code",
   "execution_count": 27,
   "metadata": {},
   "outputs": [
    {
     "name": "stdout",
     "output_type": "stream",
     "text": [
      "Гиперпараметры лучшей модели - Глубина = 5.000\n"
     ]
    }
   ],
   "source": [
    "model_dt, best_d = best_dt(features_downsampled, target_downsampled, features_valid, target_valid, 13)      \n",
    "\n",
    "print(\"Гиперпараметры лучшей модели - Глубина = {:.3f}\".format(best_d))"
   ]
  },
  {
   "cell_type": "code",
   "execution_count": 28,
   "metadata": {
    "scrolled": true
   },
   "outputs": [
    {
     "data": {
      "image/png": "[encoded data removed]",
      "text/plain": [
       "<Figure size 432x432 with 1 Axes>"
      ]
     },
     "metadata": {
      "needs_background": "light"
     },
     "output_type": "display_data"
    },
    {
     "data": {
      "image/png": "[encoded data removed]",
      "text/plain": [
       "<Figure size 720x720 with 1 Axes>"
      ]
     },
     "metadata": {
      "needs_background": "light"
     },
     "output_type": "display_data"
    },
    {
     "name": "stdout",
     "output_type": "stream",
     "text": [
      "AUC = 0.831 | F1 = 0.515\n"
     ]
    }
   ],
   "source": [
    "plotAUC(model_dt, features_valid, target_valid)\n",
    "plotResults(getMetrics(model_dt, features_valid, target_valid))\n",
    "\n",
    "result_ls.append([\"DesicionTreeDownsampled\", getMetrics(model_dt, features_valid, target_valid)[1], \n",
    "                                  getMetrics(model_dt, features_valid, target_valid)[0]])"
   ]
  },
  {
   "attachments": {},
   "cell_type": "markdown",
   "metadata": {},
   "source": [
    "### Выводы"
   ]
  },
  {
   "attachments": {},
   "cell_type": "markdown",
   "metadata": {},
   "source": [
    "В ходе данного исследования были исследованны модели логической регрессии, решающего древа и случайного леса. Для каждой модели был произведен поиск оптимальных гиперпараметров. Также для борьбы с дисбалансом были исследованны техники увелечения и уменьшения выборок. Результаты приведены в таблице:"
   ]
  },
  {
   "cell_type": "code",
   "execution_count": 29,
   "metadata": {
    "scrolled": true
   },
   "outputs": [
    {
     "data": {
      "text/html": [
       "<div>\n",
       "<style scoped>\n",
       "    .dataframe tbody tr th:only-of-type {\n",
       "        vertical-align: middle;\n",
       "    }\n",
       "\n",
       "    .dataframe tbody tr th {\n",
       "        vertical-align: top;\n",
       "    }\n",
       "\n",
       "    .dataframe thead th {\n",
       "        text-align: right;\n",
       "    }\n",
       "</style>\n",
       "<table border=\"1\" class=\"dataframe\">\n",
       "  <thead>\n",
       "    <tr style=\"text-align: right;\">\n",
       "      <th></th>\n",
       "      <th>Model</th>\n",
       "      <th>AUC</th>\n",
       "      <th>F1</th>\n",
       "    </tr>\n",
       "  </thead>\n",
       "  <tbody>\n",
       "    <tr>\n",
       "      <th>0</th>\n",
       "      <td>LogisticRegression</td>\n",
       "      <td>0.773536</td>\n",
       "      <td>0.304000</td>\n",
       "    </tr>\n",
       "    <tr>\n",
       "      <th>1</th>\n",
       "      <td>RandomForrest</td>\n",
       "      <td>0.872208</td>\n",
       "      <td>0.579216</td>\n",
       "    </tr>\n",
       "    <tr>\n",
       "      <th>2</th>\n",
       "      <td>DesicionTree</td>\n",
       "      <td>0.834605</td>\n",
       "      <td>0.576433</td>\n",
       "    </tr>\n",
       "    <tr>\n",
       "      <th>3</th>\n",
       "      <td>LogisticRegressionUpsampled</td>\n",
       "      <td>0.777945</td>\n",
       "      <td>0.507246</td>\n",
       "    </tr>\n",
       "    <tr>\n",
       "      <th>4</th>\n",
       "      <td>RandomForrestUpsampled</td>\n",
       "      <td>0.867459</td>\n",
       "      <td>0.637419</td>\n",
       "    </tr>\n",
       "    <tr>\n",
       "      <th>5</th>\n",
       "      <td>DesicionTreeUpsampled</td>\n",
       "      <td>0.839652</td>\n",
       "      <td>0.573545</td>\n",
       "    </tr>\n",
       "    <tr>\n",
       "      <th>6</th>\n",
       "      <td>LogisticRegressionDownsampled</td>\n",
       "      <td>0.771405</td>\n",
       "      <td>0.415677</td>\n",
       "    </tr>\n",
       "    <tr>\n",
       "      <th>7</th>\n",
       "      <td>RandomForrestDownsampled</td>\n",
       "      <td>0.857905</td>\n",
       "      <td>0.465931</td>\n",
       "    </tr>\n",
       "    <tr>\n",
       "      <th>8</th>\n",
       "      <td>DesicionTreeDownsampled</td>\n",
       "      <td>0.830563</td>\n",
       "      <td>0.514988</td>\n",
       "    </tr>\n",
       "  </tbody>\n",
       "</table>\n",
       "</div>"
      ],
      "text/plain": [
       "                           Model       AUC        F1\n",
       "0             LogisticRegression  0.773536  0.304000\n",
       "1                  RandomForrest  0.872208  0.579216\n",
       "2                   DesicionTree  0.834605  0.576433\n",
       "3    LogisticRegressionUpsampled  0.777945  0.507246\n",
       "4         RandomForrestUpsampled  0.867459  0.637419\n",
       "5          DesicionTreeUpsampled  0.839652  0.573545\n",
       "6  LogisticRegressionDownsampled  0.771405  0.415677\n",
       "7       RandomForrestDownsampled  0.857905  0.465931\n",
       "8        DesicionTreeDownsampled  0.830563  0.514988"
      ]
     },
     "metadata": {},
     "output_type": "display_data"
    }
   ],
   "source": [
    "result_df = pd.DataFrame(result_ls, columns=['Model', 'AUC', 'F1'])\n",
    "display(result_df)"
   ]
  },
  {
   "attachments": {},
   "cell_type": "markdown",
   "metadata": {},
   "source": [
    "По полученным метрикам моделей видно, что наиболее оптимальной является модель случайного леса со следующими гиперпараметрами:\n",
    "* Глубина леса = 12\n",
    "* Количество деревьев = 400"
   ]
  },
  {
   "attachments": {},
   "cell_type": "markdown",
   "metadata": {},
   "source": [
    "Посмотрим на распределения порога данной модели."
   ]
  },
  {
   "cell_type": "code",
   "execution_count": 30,
   "metadata": {
    "scrolled": true
   },
   "outputs": [
    {
     "name": "stdout",
     "output_type": "stream",
     "text": [
      "Порог = 0.00 | Точность = 0.207, Полнота = 1.000, F1 = 0.344\n",
      "Порог = 0.05 | Точность = 0.227, Полнота = 0.989, F1 = 0.369\n",
      "Порог = 0.10 | Точность = 0.257, Полнота = 0.973, F1 = 0.407\n",
      "Порог = 0.15 | Точность = 0.297, Полнота = 0.952, F1 = 0.453\n",
      "Порог = 0.20 | Точность = 0.339, Полнота = 0.920, F1 = 0.495\n",
      "Порог = 0.25 | Точность = 0.385, Полнота = 0.886, F1 = 0.537\n",
      "Порог = 0.30 | Точность = 0.426, Полнота = 0.854, F1 = 0.568\n",
      "Порог = 0.35 | Точность = 0.466, Полнота = 0.809, F1 = 0.592\n",
      "Порог = 0.40 | Точность = 0.507, Полнота = 0.756, F1 = 0.607\n",
      "Порог = 0.45 | Точность = 0.555, Полнота = 0.711, F1 = 0.623\n",
      "Порог = 0.50 | Точность = 0.621, Полнота = 0.655, F1 = 0.637\n",
      "Порог = 0.55 | Точность = 0.656, Полнота = 0.592, F1 = 0.622\n",
      "Порог = 0.60 | Точность = 0.717, Полнота = 0.544, F1 = 0.618\n",
      "Порог = 0.65 | Точность = 0.770, Полнота = 0.480, F1 = 0.592\n",
      "Порог = 0.70 | Точность = 0.803, Полнота = 0.411, F1 = 0.544\n",
      "Порог = 0.75 | Точность = 0.859, Полнота = 0.355, F1 = 0.503\n",
      "Порог = 0.80 | Точность = 0.901, Полнота = 0.313, F1 = 0.465\n",
      "Порог = 0.85 | Точность = 0.884, Полнота = 0.202, F1 = 0.328\n",
      "Порог = 0.90 | Точность = 0.881, Полнота = 0.098, F1 = 0.177\n"
     ]
    }
   ],
   "source": [
    "model = RandomForestClassifier(random_state=12345, n_estimators=400, max_depth = 12)\n",
    "model.fit(features_upsampled, target_upsampled)\n",
    "probabilities_valid = model.predict_proba(features_valid)\n",
    "probabilities_one_valid = probabilities_valid[:, 1]\n",
    "\n",
    "for threshold in np.arange(0, 0.95, 0.05):\n",
    "    predicted_valid = probabilities_one_valid > threshold\n",
    "    precision = precision_score(target_valid, predicted_valid)\n",
    "    recall = recall_score(target_valid, predicted_valid)\n",
    "    f = f1_score(target_valid, predicted_valid)\n",
    "    print(\"Порог = {:.2f} | Точность = {:.3f}, Полнота = {:.3f}, F1 = {:.3f}\".format(threshold, precision, recall, f))"
   ]
  },
  {
   "attachments": {},
   "cell_type": "markdown",
   "metadata": {},
   "source": [
    "Результаты демонстрируют наибольшие метрики у модели случайного леса при пороге 0,5. Данная модель показала максимальные результаты, осталось только проверить ее на тестовых данных."
   ]
  },
  {
   "attachments": {},
   "cell_type": "markdown",
   "metadata": {},
   "source": [
    "## Тестирование модели"
   ]
  },
  {
   "attachments": {},
   "cell_type": "markdown",
   "metadata": {},
   "source": [
    "Проведем тестирование модели с гиперпараметрами, которые были найдены в предыдущей главе, также используется техника upsampling и посмотрим метрики."
   ]
  },
  {
   "cell_type": "code",
   "execution_count": 32,
   "metadata": {
    "scrolled": true
   },
   "outputs": [
    {
     "name": "stdout",
     "output_type": "stream",
     "text": [
      "F1: 0.601078167115903\n",
      "Recall: 0.6353276353276354\n",
      "Precison: 0.5703324808184144\n",
      "Accuracy: 0.8372732270478285\n"
     ]
    }
   ],
   "source": [
    "model = RandomForestClassifier(random_state=12345, \n",
    "                                           max_depth = 12,\n",
    "                                           n_estimators=400)\n",
    "model.fit(features_upsampled, target_upsampled)\n",
    "predicted_test = model.predict(features_test)\n",
    "print('F1:', f1_score(target_test, predicted_test))\n",
    "print('Recall:', recall_score(target_test, predicted_test))\n",
    "print('Precison:', precision_score(target_test, predicted_test))\n",
    "print('Accuracy:', accuracy_score(target_test, predicted_test))"
   ]
  },
  {
   "attachments": {},
   "cell_type": "markdown",
   "metadata": {},
   "source": [
    "Также проверим нашу модель на адекватность, с помощью сравнения модели с константой: "
   ]
  },
  {
   "cell_type": "code",
   "execution_count": 33,
   "metadata": {
    "scrolled": true
   },
   "outputs": [
    {
     "name": "stdout",
     "output_type": "stream",
     "text": [
      "Accuracy: 0.7960620393796062\n"
     ]
    }
   ],
   "source": [
    "target_const = target*0\n",
    "acc_const = accuracy_score(target, target_const)\n",
    "\n",
    "print(\"Accuracy:\", acc_const)"
   ]
  },
  {
   "attachments": {},
   "cell_type": "markdown",
   "metadata": {},
   "source": [
    "Наша модель обладает большей точностью предсказания чем если бы таргет заменить константой."
   ]
  },
  {
   "attachments": {},
   "cell_type": "markdown",
   "metadata": {},
   "source": [
    "В ходе работы были исследованны различные модели для предсказания оттока клиентов, применены разные способы борьбы с дисбалансом классов. В результате был выбран алгоритм случайного леса, со следующими параметрами:\n",
    "\n",
    "* Глубина леса = 12\n",
    "* Количество деревьев = 400\n",
    "\n",
    "Обучение проводилось на увеличенной выборке.\n",
    "\n",
    "Метрика F1 = 0,6 свидетельствует, что модель достаточно точно (63% правильных результатов) предсказывает отток клиентов из \"Бета-Банка\". "
   ]
  }
 ],
 "metadata": {
  "ExecuteTimeLog": [
   {
    "duration": 12146,
    "start_time": "2023-01-12T14:07:54.407Z"
   },
   {
    "duration": 99,
    "start_time": "2023-01-12T14:08:16.381Z"
   },
   {
    "duration": 83,
    "start_time": "2023-01-12T14:10:33.331Z"
   },
   {
    "duration": 45,
    "start_time": "2023-01-12T14:11:57.507Z"
   },
   {
    "duration": 48,
    "start_time": "2023-01-12T14:12:56.833Z"
   },
   {
    "duration": 55,
    "start_time": "2023-01-12T14:13:41.041Z"
   },
   {
    "duration": 50,
    "start_time": "2023-01-12T14:14:42.641Z"
   },
   {
    "duration": 53,
    "start_time": "2023-01-12T14:14:47.288Z"
   },
   {
    "duration": 60,
    "start_time": "2023-01-12T14:14:54.401Z"
   },
   {
    "duration": 70,
    "start_time": "2023-01-12T14:15:22.964Z"
   },
   {
    "duration": 62,
    "start_time": "2023-01-12T14:15:33.632Z"
   },
   {
    "duration": 75,
    "start_time": "2023-01-12T14:20:36.015Z"
   },
   {
    "duration": 64,
    "start_time": "2023-01-12T14:21:03.495Z"
   },
   {
    "duration": 69,
    "start_time": "2023-01-12T14:24:41.310Z"
   },
   {
    "duration": 60,
    "start_time": "2023-01-12T14:25:48.733Z"
   },
   {
    "duration": 67,
    "start_time": "2023-01-12T14:30:12.323Z"
   },
   {
    "duration": 66,
    "start_time": "2023-01-12T14:30:49.523Z"
   },
   {
    "duration": 153,
    "start_time": "2023-01-12T14:31:40.747Z"
   },
   {
    "duration": 1243,
    "start_time": "2023-01-12T14:33:26.651Z"
   },
   {
    "duration": 74,
    "start_time": "2023-01-12T14:33:52.665Z"
   },
   {
    "duration": 65,
    "start_time": "2023-01-12T14:35:29.784Z"
   },
   {
    "duration": 54,
    "start_time": "2023-01-12T14:39:18.505Z"
   },
   {
    "duration": 51,
    "start_time": "2023-01-12T14:39:39.198Z"
   },
   {
    "duration": 47,
    "start_time": "2023-01-12T14:40:34.253Z"
   },
   {
    "duration": 61,
    "start_time": "2023-01-12T14:40:58.510Z"
   },
   {
    "duration": 66,
    "start_time": "2023-01-12T14:42:07.470Z"
   },
   {
    "duration": 1235,
    "start_time": "2023-01-12T14:44:26.477Z"
   },
   {
    "duration": 53,
    "start_time": "2023-01-12T14:44:50.220Z"
   },
   {
    "duration": 52,
    "start_time": "2023-01-12T14:45:10.627Z"
   },
   {
    "duration": 58,
    "start_time": "2023-01-12T14:46:59.675Z"
   },
   {
    "duration": 82,
    "start_time": "2023-01-12T14:51:03.521Z"
   },
   {
    "duration": 82,
    "start_time": "2023-01-12T14:51:13.093Z"
   },
   {
    "duration": 88,
    "start_time": "2023-01-12T14:51:35.553Z"
   },
   {
    "duration": 83,
    "start_time": "2023-01-12T14:54:54.400Z"
   },
   {
    "duration": 4,
    "start_time": "2023-01-12T14:54:57.583Z"
   },
   {
    "duration": 1119,
    "start_time": "2023-01-12T15:13:30.217Z"
   },
   {
    "duration": 4,
    "start_time": "2023-01-12T15:13:31.338Z"
   },
   {
    "duration": 40,
    "start_time": "2023-01-12T15:13:31.344Z"
   },
   {
    "duration": 7,
    "start_time": "2023-01-12T15:13:31.386Z"
   },
   {
    "duration": 34,
    "start_time": "2023-01-12T15:13:31.395Z"
   },
   {
    "duration": 18,
    "start_time": "2023-01-12T15:13:31.431Z"
   },
   {
    "duration": 55,
    "start_time": "2023-01-12T15:13:31.451Z"
   },
   {
    "duration": 1105,
    "start_time": "2023-01-12T15:20:57.324Z"
   },
   {
    "duration": 4,
    "start_time": "2023-01-12T15:20:58.432Z"
   },
   {
    "duration": 31,
    "start_time": "2023-01-12T15:20:58.437Z"
   },
   {
    "duration": 7,
    "start_time": "2023-01-12T15:20:58.477Z"
   },
   {
    "duration": 13,
    "start_time": "2023-01-12T15:20:58.486Z"
   },
   {
    "duration": 14,
    "start_time": "2023-01-12T15:20:58.501Z"
   },
   {
    "duration": 31,
    "start_time": "2023-01-12T15:20:58.516Z"
   },
   {
    "duration": 1170,
    "start_time": "2023-01-12T16:08:55.268Z"
   },
   {
    "duration": 4,
    "start_time": "2023-01-12T16:08:56.440Z"
   },
   {
    "duration": 37,
    "start_time": "2023-01-12T16:08:56.446Z"
   },
   {
    "duration": 8,
    "start_time": "2023-01-12T16:08:56.486Z"
   },
   {
    "duration": 11,
    "start_time": "2023-01-12T16:08:56.496Z"
   },
   {
    "duration": 28,
    "start_time": "2023-01-12T16:08:56.509Z"
   },
   {
    "duration": 29,
    "start_time": "2023-01-12T16:08:56.539Z"
   },
   {
    "duration": 104,
    "start_time": "2023-01-12T16:08:56.569Z"
   },
   {
    "duration": 12,
    "start_time": "2023-01-12T16:09:31.348Z"
   },
   {
    "duration": 11,
    "start_time": "2023-01-12T16:11:49.571Z"
   },
   {
    "duration": 19,
    "start_time": "2023-01-12T16:15:03.010Z"
   },
   {
    "duration": 23,
    "start_time": "2023-01-12T16:15:23.281Z"
   },
   {
    "duration": 1118,
    "start_time": "2023-01-12T16:16:02.810Z"
   },
   {
    "duration": 5,
    "start_time": "2023-01-12T16:16:03.930Z"
   },
   {
    "duration": 73,
    "start_time": "2023-01-12T16:16:03.937Z"
   },
   {
    "duration": 14,
    "start_time": "2023-01-12T16:16:04.012Z"
   },
   {
    "duration": 32,
    "start_time": "2023-01-12T16:16:04.029Z"
   },
   {
    "duration": 23,
    "start_time": "2023-01-12T16:16:04.063Z"
   },
   {
    "duration": 46,
    "start_time": "2023-01-12T16:16:04.088Z"
   },
   {
    "duration": 105,
    "start_time": "2023-01-12T16:16:04.136Z"
   },
   {
    "duration": 26,
    "start_time": "2023-01-12T16:16:54.841Z"
   },
   {
    "duration": 28,
    "start_time": "2023-01-12T16:18:58.048Z"
   },
   {
    "duration": 101,
    "start_time": "2023-01-12T16:19:33.056Z"
   },
   {
    "duration": 27,
    "start_time": "2023-01-12T16:19:37.384Z"
   },
   {
    "duration": 512,
    "start_time": "2023-01-12T16:22:59.550Z"
   },
   {
    "duration": 20,
    "start_time": "2023-01-12T16:24:17.717Z"
   },
   {
    "duration": 28,
    "start_time": "2023-01-12T16:24:43.116Z"
   },
   {
    "duration": 104,
    "start_time": "2023-01-12T16:24:45.956Z"
   },
   {
    "duration": 15,
    "start_time": "2023-01-12T16:26:44.908Z"
   },
   {
    "duration": 5,
    "start_time": "2023-01-12T16:27:10.068Z"
   },
   {
    "duration": 9,
    "start_time": "2023-01-12T16:32:37.546Z"
   },
   {
    "duration": 85,
    "start_time": "2023-01-12T16:32:43.379Z"
   },
   {
    "duration": 6,
    "start_time": "2023-01-12T16:32:46.491Z"
   },
   {
    "duration": 12,
    "start_time": "2023-01-12T16:40:59.294Z"
   },
   {
    "duration": 1333,
    "start_time": "2023-01-12T16:41:04.291Z"
   },
   {
    "duration": 5,
    "start_time": "2023-01-12T16:41:05.627Z"
   },
   {
    "duration": 35,
    "start_time": "2023-01-12T16:41:05.634Z"
   },
   {
    "duration": 9,
    "start_time": "2023-01-12T16:41:05.677Z"
   },
   {
    "duration": 16,
    "start_time": "2023-01-12T16:41:05.688Z"
   },
   {
    "duration": 34,
    "start_time": "2023-01-12T16:41:05.705Z"
   },
   {
    "duration": 62,
    "start_time": "2023-01-12T16:41:05.741Z"
   },
   {
    "duration": 97,
    "start_time": "2023-01-12T16:41:05.804Z"
   },
   {
    "duration": 0,
    "start_time": "2023-01-12T16:41:05.902Z"
   },
   {
    "duration": 0,
    "start_time": "2023-01-12T16:41:05.903Z"
   },
   {
    "duration": 8,
    "start_time": "2023-01-12T16:41:08.590Z"
   },
   {
    "duration": 29,
    "start_time": "2023-01-12T16:41:44.581Z"
   },
   {
    "duration": 7,
    "start_time": "2023-01-12T16:41:48.237Z"
   },
   {
    "duration": 34,
    "start_time": "2023-01-12T16:42:26.129Z"
   },
   {
    "duration": 16,
    "start_time": "2023-01-12T16:42:44.763Z"
   },
   {
    "duration": 15,
    "start_time": "2023-01-12T16:43:09.568Z"
   },
   {
    "duration": 1182,
    "start_time": "2023-01-12T16:43:15.169Z"
   },
   {
    "duration": 4,
    "start_time": "2023-01-12T16:43:16.352Z"
   },
   {
    "duration": 43,
    "start_time": "2023-01-12T16:43:16.358Z"
   },
   {
    "duration": 19,
    "start_time": "2023-01-12T16:43:16.403Z"
   },
   {
    "duration": 47,
    "start_time": "2023-01-12T16:43:16.423Z"
   },
   {
    "duration": 39,
    "start_time": "2023-01-12T16:43:16.472Z"
   },
   {
    "duration": 58,
    "start_time": "2023-01-12T16:43:16.513Z"
   },
   {
    "duration": 15,
    "start_time": "2023-01-12T16:43:16.573Z"
   },
   {
    "duration": 62,
    "start_time": "2023-01-12T16:43:16.590Z"
   },
   {
    "duration": 9,
    "start_time": "2023-01-12T16:43:16.654Z"
   },
   {
    "duration": 88,
    "start_time": "2023-01-12T16:44:09.071Z"
   },
   {
    "duration": 12,
    "start_time": "2023-01-12T16:44:22.468Z"
   },
   {
    "duration": 32,
    "start_time": "2023-01-12T17:04:24.499Z"
   },
   {
    "duration": 12,
    "start_time": "2023-01-12T17:04:26.683Z"
   },
   {
    "duration": 98,
    "start_time": "2023-01-12T17:06:21.865Z"
   },
   {
    "duration": 84,
    "start_time": "2023-01-12T17:06:38.732Z"
   },
   {
    "duration": 14,
    "start_time": "2023-01-12T17:06:42.921Z"
   },
   {
    "duration": 47,
    "start_time": "2023-01-12T17:06:45.107Z"
   },
   {
    "duration": 57,
    "start_time": "2023-01-12T17:06:54.058Z"
   },
   {
    "duration": 9,
    "start_time": "2023-01-12T17:08:34.409Z"
   },
   {
    "duration": 20,
    "start_time": "2023-01-12T17:08:38.336Z"
   },
   {
    "duration": 49,
    "start_time": "2023-01-12T17:08:39.976Z"
   },
   {
    "duration": 15,
    "start_time": "2023-01-12T17:08:40.575Z"
   },
   {
    "duration": 110,
    "start_time": "2023-01-12T17:09:10.870Z"
   },
   {
    "duration": 10,
    "start_time": "2023-01-12T17:09:11.959Z"
   },
   {
    "duration": 18,
    "start_time": "2023-01-12T17:09:12.551Z"
   },
   {
    "duration": 272,
    "start_time": "2023-01-12T17:09:13.808Z"
   },
   {
    "duration": 44,
    "start_time": "2023-01-12T17:09:14.941Z"
   },
   {
    "duration": 1183,
    "start_time": "2023-01-12T17:39:55.484Z"
   },
   {
    "duration": 4,
    "start_time": "2023-01-12T17:39:56.668Z"
   },
   {
    "duration": 53,
    "start_time": "2023-01-12T17:39:56.674Z"
   },
   {
    "duration": 16,
    "start_time": "2023-01-12T17:39:56.729Z"
   },
   {
    "duration": 31,
    "start_time": "2023-01-12T17:39:56.747Z"
   },
   {
    "duration": 42,
    "start_time": "2023-01-12T17:39:56.779Z"
   },
   {
    "duration": 42,
    "start_time": "2023-01-12T17:39:56.824Z"
   },
   {
    "duration": 17,
    "start_time": "2023-01-12T17:39:56.867Z"
   },
   {
    "duration": 100,
    "start_time": "2023-01-12T17:39:56.885Z"
   },
   {
    "duration": 190,
    "start_time": "2023-01-12T17:39:56.988Z"
   },
   {
    "duration": 60,
    "start_time": "2023-01-12T17:39:57.180Z"
   },
   {
    "duration": 338,
    "start_time": "2023-01-12T17:39:57.241Z"
   },
   {
    "duration": 197,
    "start_time": "2023-01-12T17:39:57.581Z"
   },
   {
    "duration": 369,
    "start_time": "2023-01-12T17:39:57.780Z"
   },
   {
    "duration": 1238,
    "start_time": "2023-01-25T18:03:05.169Z"
   },
   {
    "duration": 4,
    "start_time": "2023-01-25T18:03:06.409Z"
   },
   {
    "duration": 30,
    "start_time": "2023-01-25T18:03:06.415Z"
   },
   {
    "duration": 7,
    "start_time": "2023-01-25T18:03:06.447Z"
   },
   {
    "duration": 11,
    "start_time": "2023-01-25T18:03:06.455Z"
   },
   {
    "duration": 12,
    "start_time": "2023-01-25T18:03:06.468Z"
   },
   {
    "duration": 50,
    "start_time": "2023-01-25T18:03:06.481Z"
   },
   {
    "duration": 15,
    "start_time": "2023-01-25T18:03:06.533Z"
   },
   {
    "duration": 259,
    "start_time": "2023-01-25T18:03:06.550Z"
   },
   {
    "duration": 101,
    "start_time": "2023-01-25T18:03:06.811Z"
   },
   {
    "duration": 111,
    "start_time": "2023-01-25T18:03:06.914Z"
   },
   {
    "duration": 487,
    "start_time": "2023-01-25T18:03:07.027Z"
   },
   {
    "duration": 198,
    "start_time": "2023-01-25T18:03:07.604Z"
   },
   {
    "duration": 272,
    "start_time": "2023-01-25T18:03:07.805Z"
   },
   {
    "duration": 25,
    "start_time": "2023-01-25T18:06:18.152Z"
   },
   {
    "duration": 19,
    "start_time": "2023-01-25T18:06:41.047Z"
   },
   {
    "duration": 10,
    "start_time": "2023-01-25T18:06:56.176Z"
   },
   {
    "duration": 42,
    "start_time": "2023-01-25T18:07:19.889Z"
   },
   {
    "duration": 20,
    "start_time": "2023-01-25T18:07:24.014Z"
   },
   {
    "duration": 13,
    "start_time": "2023-01-25T18:08:37.629Z"
   },
   {
    "duration": 4,
    "start_time": "2023-01-25T18:13:06.626Z"
   },
   {
    "duration": 21,
    "start_time": "2023-01-25T18:15:24.371Z"
   },
   {
    "duration": 12,
    "start_time": "2023-01-25T18:17:00.929Z"
   },
   {
    "duration": 92,
    "start_time": "2023-01-25T18:17:25.336Z"
   },
   {
    "duration": 3,
    "start_time": "2023-01-25T18:20:40.015Z"
   },
   {
    "duration": 4,
    "start_time": "2023-01-25T18:20:51.013Z"
   },
   {
    "duration": 2,
    "start_time": "2023-01-25T18:25:02.387Z"
   },
   {
    "duration": 17,
    "start_time": "2023-01-25T18:27:22.306Z"
   },
   {
    "duration": 51,
    "start_time": "2023-01-25T18:27:23.658Z"
   },
   {
    "duration": 53,
    "start_time": "2023-01-25T18:28:00.769Z"
   },
   {
    "duration": 96,
    "start_time": "2023-01-25T18:28:27.408Z"
   },
   {
    "duration": 12,
    "start_time": "2023-01-25T18:28:37.712Z"
   },
   {
    "duration": 35,
    "start_time": "2023-01-25T18:28:38.463Z"
   },
   {
    "duration": 40,
    "start_time": "2023-01-25T18:28:57.344Z"
   },
   {
    "duration": 25,
    "start_time": "2023-01-25T18:29:13.856Z"
   },
   {
    "duration": 1155,
    "start_time": "2023-01-25T18:29:22.530Z"
   },
   {
    "duration": 4,
    "start_time": "2023-01-25T18:29:23.688Z"
   },
   {
    "duration": 32,
    "start_time": "2023-01-25T18:29:23.694Z"
   },
   {
    "duration": 10,
    "start_time": "2023-01-25T18:29:23.729Z"
   },
   {
    "duration": 20,
    "start_time": "2023-01-25T18:29:23.741Z"
   },
   {
    "duration": 19,
    "start_time": "2023-01-25T18:29:23.764Z"
   },
   {
    "duration": 45,
    "start_time": "2023-01-25T18:29:23.785Z"
   },
   {
    "duration": 15,
    "start_time": "2023-01-25T18:29:23.832Z"
   },
   {
    "duration": 4,
    "start_time": "2023-01-25T18:29:23.849Z"
   },
   {
    "duration": 53,
    "start_time": "2023-01-25T18:29:23.855Z"
   },
   {
    "duration": 106,
    "start_time": "2023-01-25T18:29:23.910Z"
   },
   {
    "duration": 386,
    "start_time": "2023-01-25T18:29:24.018Z"
   },
   {
    "duration": 0,
    "start_time": "2023-01-25T18:29:24.406Z"
   },
   {
    "duration": 0,
    "start_time": "2023-01-25T18:29:24.407Z"
   },
   {
    "duration": 28,
    "start_time": "2023-01-25T18:29:33.231Z"
   },
   {
    "duration": 42,
    "start_time": "2023-01-25T18:30:02.679Z"
   },
   {
    "duration": 14,
    "start_time": "2023-01-25T18:30:30.295Z"
   },
   {
    "duration": 24,
    "start_time": "2023-01-25T18:30:37.303Z"
   },
   {
    "duration": 145,
    "start_time": "2023-01-25T18:31:00.158Z"
   },
   {
    "duration": 79,
    "start_time": "2023-01-25T18:31:32.503Z"
   },
   {
    "duration": 85,
    "start_time": "2023-01-25T18:31:36.991Z"
   },
   {
    "duration": 1149,
    "start_time": "2023-01-25T18:31:41.412Z"
   },
   {
    "duration": 4,
    "start_time": "2023-01-25T18:31:42.563Z"
   },
   {
    "duration": 36,
    "start_time": "2023-01-25T18:31:42.569Z"
   },
   {
    "duration": 8,
    "start_time": "2023-01-25T18:31:42.608Z"
   },
   {
    "duration": 10,
    "start_time": "2023-01-25T18:31:42.617Z"
   },
   {
    "duration": 13,
    "start_time": "2023-01-25T18:31:42.629Z"
   },
   {
    "duration": 36,
    "start_time": "2023-01-25T18:31:42.644Z"
   },
   {
    "duration": 15,
    "start_time": "2023-01-25T18:31:42.704Z"
   },
   {
    "duration": 4,
    "start_time": "2023-01-25T18:31:42.721Z"
   },
   {
    "duration": 80,
    "start_time": "2023-01-25T18:31:42.727Z"
   },
   {
    "duration": 105,
    "start_time": "2023-01-25T18:31:42.808Z"
   },
   {
    "duration": 270,
    "start_time": "2023-01-25T18:31:42.915Z"
   },
   {
    "duration": 0,
    "start_time": "2023-01-25T18:31:43.186Z"
   },
   {
    "duration": 0,
    "start_time": "2023-01-25T18:31:43.188Z"
   },
   {
    "duration": 94,
    "start_time": "2023-01-25T18:31:51.414Z"
   },
   {
    "duration": 25,
    "start_time": "2023-01-25T18:32:13.166Z"
   },
   {
    "duration": 114,
    "start_time": "2023-01-25T18:33:29.093Z"
   },
   {
    "duration": 29,
    "start_time": "2023-01-25T18:33:35.758Z"
   },
   {
    "duration": 112,
    "start_time": "2023-01-25T18:35:05.692Z"
   },
   {
    "duration": 98,
    "start_time": "2023-01-25T18:35:21.612Z"
   },
   {
    "duration": 1201,
    "start_time": "2023-01-25T18:35:26.186Z"
   },
   {
    "duration": 4,
    "start_time": "2023-01-25T18:35:27.389Z"
   },
   {
    "duration": 23,
    "start_time": "2023-01-25T18:35:27.394Z"
   },
   {
    "duration": 8,
    "start_time": "2023-01-25T18:35:27.419Z"
   },
   {
    "duration": 16,
    "start_time": "2023-01-25T18:35:27.429Z"
   },
   {
    "duration": 16,
    "start_time": "2023-01-25T18:35:27.447Z"
   },
   {
    "duration": 48,
    "start_time": "2023-01-25T18:35:27.464Z"
   },
   {
    "duration": 15,
    "start_time": "2023-01-25T18:35:27.514Z"
   },
   {
    "duration": 3,
    "start_time": "2023-01-25T18:35:27.531Z"
   },
   {
    "duration": 74,
    "start_time": "2023-01-25T18:35:27.537Z"
   },
   {
    "duration": 96,
    "start_time": "2023-01-25T18:35:27.613Z"
   },
   {
    "duration": 38,
    "start_time": "2023-01-25T18:35:27.710Z"
   },
   {
    "duration": 110,
    "start_time": "2023-01-25T18:35:27.802Z"
   },
   {
    "duration": 404,
    "start_time": "2023-01-25T18:35:27.914Z"
   },
   {
    "duration": 247,
    "start_time": "2023-01-25T18:38:09.796Z"
   },
   {
    "duration": 331,
    "start_time": "2023-01-25T18:39:13.883Z"
   },
   {
    "duration": 111,
    "start_time": "2023-01-25T18:39:25.794Z"
   },
   {
    "duration": 122,
    "start_time": "2023-01-25T18:39:47.987Z"
   },
   {
    "duration": 1199,
    "start_time": "2023-01-25T18:39:54.178Z"
   },
   {
    "duration": 5,
    "start_time": "2023-01-25T18:39:55.378Z"
   },
   {
    "duration": 29,
    "start_time": "2023-01-25T18:39:55.385Z"
   },
   {
    "duration": 8,
    "start_time": "2023-01-25T18:39:55.417Z"
   },
   {
    "duration": 12,
    "start_time": "2023-01-25T18:39:55.427Z"
   },
   {
    "duration": 18,
    "start_time": "2023-01-25T18:39:55.440Z"
   },
   {
    "duration": 57,
    "start_time": "2023-01-25T18:39:55.460Z"
   },
   {
    "duration": 17,
    "start_time": "2023-01-25T18:39:55.519Z"
   },
   {
    "duration": 4,
    "start_time": "2023-01-25T18:39:55.538Z"
   },
   {
    "duration": 61,
    "start_time": "2023-01-25T18:39:55.545Z"
   },
   {
    "duration": 103,
    "start_time": "2023-01-25T18:39:55.608Z"
   },
   {
    "duration": 40,
    "start_time": "2023-01-25T18:39:55.713Z"
   },
   {
    "duration": 110,
    "start_time": "2023-01-25T18:39:55.802Z"
   },
   {
    "duration": 466,
    "start_time": "2023-01-25T18:39:55.913Z"
   },
   {
    "duration": 1141,
    "start_time": "2023-01-25T18:41:54.821Z"
   },
   {
    "duration": 7,
    "start_time": "2023-01-25T18:41:55.964Z"
   },
   {
    "duration": 53,
    "start_time": "2023-01-25T18:41:55.972Z"
   },
   {
    "duration": 7,
    "start_time": "2023-01-25T18:41:56.027Z"
   },
   {
    "duration": 38,
    "start_time": "2023-01-25T18:41:56.037Z"
   },
   {
    "duration": 25,
    "start_time": "2023-01-25T18:41:56.077Z"
   },
   {
    "duration": 45,
    "start_time": "2023-01-25T18:41:56.103Z"
   },
   {
    "duration": 20,
    "start_time": "2023-01-25T18:41:56.150Z"
   },
   {
    "duration": 6,
    "start_time": "2023-01-25T18:41:56.172Z"
   },
   {
    "duration": 55,
    "start_time": "2023-01-25T18:41:56.180Z"
   },
   {
    "duration": 104,
    "start_time": "2023-01-25T18:41:56.303Z"
   },
   {
    "duration": 59,
    "start_time": "2023-01-25T18:41:56.408Z"
   },
   {
    "duration": 113,
    "start_time": "2023-01-25T18:41:56.502Z"
   },
   {
    "duration": 461,
    "start_time": "2023-01-25T18:41:56.618Z"
   },
   {
    "duration": 288,
    "start_time": "2023-01-25T18:42:24.565Z"
   },
   {
    "duration": 72,
    "start_time": "2023-01-25T18:46:28.734Z"
   },
   {
    "duration": 102,
    "start_time": "2023-01-25T18:49:05.525Z"
   },
   {
    "duration": 15,
    "start_time": "2023-01-25T18:51:11.458Z"
   },
   {
    "duration": 23,
    "start_time": "2023-01-25T18:51:22.684Z"
   },
   {
    "duration": 26,
    "start_time": "2023-01-25T18:54:47.834Z"
   },
   {
    "duration": 20,
    "start_time": "2023-01-25T18:55:03.857Z"
   },
   {
    "duration": 5103,
    "start_time": "2023-01-25T18:55:31.110Z"
   },
   {
    "duration": 73,
    "start_time": "2023-01-25T18:56:28.336Z"
   },
   {
    "duration": 18,
    "start_time": "2023-01-25T18:56:35.457Z"
   },
   {
    "duration": 123,
    "start_time": "2023-01-25T18:56:46.080Z"
   },
   {
    "duration": 13,
    "start_time": "2023-01-25T18:57:39.812Z"
   },
   {
    "duration": 13,
    "start_time": "2023-01-25T18:57:41.803Z"
   },
   {
    "duration": 107,
    "start_time": "2023-01-25T18:58:07.177Z"
   },
   {
    "duration": 115,
    "start_time": "2023-01-25T18:58:23.311Z"
   },
   {
    "duration": 32,
    "start_time": "2023-01-25T18:59:12.341Z"
   },
   {
    "duration": 114,
    "start_time": "2023-01-25T18:59:16.175Z"
   },
   {
    "duration": 33,
    "start_time": "2023-01-25T19:41:44.937Z"
   },
   {
    "duration": 79,
    "start_time": "2023-01-25T19:42:47.295Z"
   },
   {
    "duration": 202,
    "start_time": "2023-01-25T19:43:05.175Z"
   },
   {
    "duration": 339,
    "start_time": "2023-01-25T19:43:22.776Z"
   },
   {
    "duration": 345,
    "start_time": "2023-01-25T19:43:48.830Z"
   },
   {
    "duration": 1088,
    "start_time": "2023-01-25T20:20:57.756Z"
   },
   {
    "duration": 4,
    "start_time": "2023-01-25T20:20:58.846Z"
   },
   {
    "duration": 24,
    "start_time": "2023-01-25T20:20:58.851Z"
   },
   {
    "duration": 6,
    "start_time": "2023-01-25T20:20:58.877Z"
   },
   {
    "duration": 11,
    "start_time": "2023-01-25T20:20:58.902Z"
   },
   {
    "duration": 9,
    "start_time": "2023-01-25T20:20:58.915Z"
   },
   {
    "duration": 37,
    "start_time": "2023-01-25T20:20:58.925Z"
   },
   {
    "duration": 15,
    "start_time": "2023-01-25T20:20:58.964Z"
   },
   {
    "duration": 4,
    "start_time": "2023-01-25T20:20:59.002Z"
   },
   {
    "duration": 40,
    "start_time": "2023-01-25T20:20:59.009Z"
   },
   {
    "duration": 219,
    "start_time": "2023-01-25T20:20:59.050Z"
   },
   {
    "duration": 33,
    "start_time": "2023-01-25T20:20:59.270Z"
   },
   {
    "duration": 76,
    "start_time": "2023-01-25T20:20:59.305Z"
   },
   {
    "duration": 50,
    "start_time": "2023-01-25T20:20:59.383Z"
   },
   {
    "duration": 174,
    "start_time": "2023-01-25T20:20:59.435Z"
   },
   {
    "duration": 99,
    "start_time": "2023-01-25T20:20:59.611Z"
   },
   {
    "duration": 211,
    "start_time": "2023-01-25T20:20:59.711Z"
   },
   {
    "duration": 237,
    "start_time": "2023-01-25T20:20:59.924Z"
   },
   {
    "duration": 141,
    "start_time": "2023-01-25T20:21:00.162Z"
   },
   {
    "duration": 365,
    "start_time": "2023-01-25T20:21:00.305Z"
   },
   {
    "duration": 75,
    "start_time": "2023-01-25T20:21:24.977Z"
   },
   {
    "duration": 45,
    "start_time": "2023-01-25T20:21:42.028Z"
   },
   {
    "duration": 10,
    "start_time": "2023-01-25T20:24:02.439Z"
   },
   {
    "duration": 57,
    "start_time": "2023-01-25T20:24:03.520Z"
   },
   {
    "duration": 260,
    "start_time": "2023-01-25T20:24:10.598Z"
   },
   {
    "duration": 367,
    "start_time": "2023-01-25T20:27:47.005Z"
   },
   {
    "duration": 1283,
    "start_time": "2023-01-26T10:27:16.361Z"
   },
   {
    "duration": 4,
    "start_time": "2023-01-26T10:27:17.646Z"
   },
   {
    "duration": 26,
    "start_time": "2023-01-26T10:27:17.652Z"
   },
   {
    "duration": 7,
    "start_time": "2023-01-26T10:27:17.680Z"
   },
   {
    "duration": 11,
    "start_time": "2023-01-26T10:27:17.689Z"
   },
   {
    "duration": 38,
    "start_time": "2023-01-26T10:27:17.702Z"
   },
   {
    "duration": 50,
    "start_time": "2023-01-26T10:27:17.743Z"
   },
   {
    "duration": 16,
    "start_time": "2023-01-26T10:27:17.795Z"
   },
   {
    "duration": 26,
    "start_time": "2023-01-26T10:27:17.813Z"
   },
   {
    "duration": 98,
    "start_time": "2023-01-26T10:27:17.842Z"
   },
   {
    "duration": 175,
    "start_time": "2023-01-26T10:27:17.942Z"
   },
   {
    "duration": 21,
    "start_time": "2023-01-26T10:27:18.119Z"
   },
   {
    "duration": 70,
    "start_time": "2023-01-26T10:27:18.142Z"
   },
   {
    "duration": 48,
    "start_time": "2023-01-26T10:27:18.214Z"
   },
   {
    "duration": 184,
    "start_time": "2023-01-26T10:27:18.265Z"
   },
   {
    "duration": 188,
    "start_time": "2023-01-26T10:27:18.453Z"
   },
   {
    "duration": 141,
    "start_time": "2023-01-26T10:27:18.644Z"
   },
   {
    "duration": 226,
    "start_time": "2023-01-26T10:27:18.787Z"
   },
   {
    "duration": 190,
    "start_time": "2023-01-26T10:27:19.015Z"
   },
   {
    "duration": 453,
    "start_time": "2023-01-26T10:27:19.208Z"
   },
   {
    "duration": 42,
    "start_time": "2023-01-26T10:27:43.608Z"
   },
   {
    "duration": 30,
    "start_time": "2023-01-26T10:28:22.192Z"
   },
   {
    "duration": 33,
    "start_time": "2023-01-26T10:28:32.218Z"
   },
   {
    "duration": 73,
    "start_time": "2023-01-26T10:28:34.648Z"
   },
   {
    "duration": 66,
    "start_time": "2023-01-26T10:28:41.929Z"
   },
   {
    "duration": 28,
    "start_time": "2023-01-26T10:28:46.864Z"
   },
   {
    "duration": 15,
    "start_time": "2023-01-26T10:28:50.928Z"
   },
   {
    "duration": 34,
    "start_time": "2023-01-26T10:28:53.128Z"
   },
   {
    "duration": 245,
    "start_time": "2023-01-26T10:28:59.855Z"
   },
   {
    "duration": 126,
    "start_time": "2023-01-26T10:29:02.984Z"
   },
   {
    "duration": 302,
    "start_time": "2023-01-26T10:29:16.000Z"
   },
   {
    "duration": 30,
    "start_time": "2023-01-26T10:30:15.416Z"
   },
   {
    "duration": 108,
    "start_time": "2023-01-26T10:30:42.128Z"
   },
   {
    "duration": 27,
    "start_time": "2023-01-26T10:30:56.313Z"
   },
   {
    "duration": 525,
    "start_time": "2023-01-26T10:31:11.448Z"
   },
   {
    "duration": 157,
    "start_time": "2023-01-26T10:31:22.057Z"
   },
   {
    "duration": 90,
    "start_time": "2023-01-26T10:32:27.233Z"
   },
   {
    "duration": 200,
    "start_time": "2023-01-26T10:34:36.352Z"
   },
   {
    "duration": 95,
    "start_time": "2023-01-26T10:35:01.321Z"
   },
   {
    "duration": 197,
    "start_time": "2023-01-26T10:35:06.193Z"
   },
   {
    "duration": 11,
    "start_time": "2023-01-26T10:51:43.441Z"
   },
   {
    "duration": 14,
    "start_time": "2023-01-26T10:51:52.113Z"
   },
   {
    "duration": 37,
    "start_time": "2023-01-26T10:52:36.385Z"
   },
   {
    "duration": 27,
    "start_time": "2023-01-26T10:52:51.176Z"
   },
   {
    "duration": 27,
    "start_time": "2023-01-26T10:53:16.857Z"
   },
   {
    "duration": 526047,
    "start_time": "2023-01-26T10:53:34.369Z"
   },
   {
    "duration": 19,
    "start_time": "2023-01-26T11:05:06.897Z"
   },
   {
    "duration": 11,
    "start_time": "2023-01-26T11:18:53.074Z"
   },
   {
    "duration": 288,
    "start_time": "2023-01-26T11:18:57.857Z"
   },
   {
    "duration": 307,
    "start_time": "2023-01-26T11:19:02.873Z"
   },
   {
    "duration": 214,
    "start_time": "2023-01-26T11:19:08.621Z"
   },
   {
    "duration": 179,
    "start_time": "2023-01-26T11:19:14.052Z"
   },
   {
    "duration": 131,
    "start_time": "2023-01-26T11:20:07.940Z"
   },
   {
    "duration": 39,
    "start_time": "2023-01-26T11:23:18.462Z"
   },
   {
    "duration": 1505,
    "start_time": "2023-01-26T11:23:23.620Z"
   },
   {
    "duration": 5,
    "start_time": "2023-01-26T11:23:25.127Z"
   },
   {
    "duration": 32,
    "start_time": "2023-01-26T11:23:25.134Z"
   },
   {
    "duration": 9,
    "start_time": "2023-01-26T11:23:25.169Z"
   },
   {
    "duration": 20,
    "start_time": "2023-01-26T11:23:25.180Z"
   },
   {
    "duration": 12,
    "start_time": "2023-01-26T11:23:25.202Z"
   },
   {
    "duration": 63,
    "start_time": "2023-01-26T11:23:25.216Z"
   },
   {
    "duration": 24,
    "start_time": "2023-01-26T11:23:25.281Z"
   },
   {
    "duration": 5,
    "start_time": "2023-01-26T11:23:25.307Z"
   },
   {
    "duration": 130,
    "start_time": "2023-01-26T11:23:25.315Z"
   },
   {
    "duration": 207,
    "start_time": "2023-01-26T11:23:25.447Z"
   },
   {
    "duration": 11,
    "start_time": "2023-01-26T11:23:25.656Z"
   },
   {
    "duration": 78,
    "start_time": "2023-01-26T11:23:25.669Z"
   },
   {
    "duration": 196,
    "start_time": "2023-01-26T11:23:25.749Z"
   },
   {
    "duration": 40,
    "start_time": "2023-01-26T11:23:25.947Z"
   },
   {
    "duration": 52,
    "start_time": "2023-01-26T11:23:25.989Z"
   },
   {
    "duration": 134,
    "start_time": "2023-01-26T11:23:26.045Z"
   },
   {
    "duration": 227,
    "start_time": "2023-01-26T11:23:26.180Z"
   },
   {
    "duration": 146,
    "start_time": "2023-01-26T11:23:26.409Z"
   },
   {
    "duration": 202,
    "start_time": "2023-01-26T11:23:26.557Z"
   },
   {
    "duration": 170,
    "start_time": "2023-01-26T11:23:26.760Z"
   },
   {
    "duration": 23547,
    "start_time": "2023-01-26T11:23:26.932Z"
   },
   {
    "duration": 0,
    "start_time": "2023-01-26T11:23:50.481Z"
   },
   {
    "duration": 1473,
    "start_time": "2023-01-26T11:24:13.793Z"
   },
   {
    "duration": 4,
    "start_time": "2023-01-26T11:24:15.269Z"
   },
   {
    "duration": 32,
    "start_time": "2023-01-26T11:24:15.275Z"
   },
   {
    "duration": 7,
    "start_time": "2023-01-26T11:24:15.310Z"
   },
   {
    "duration": 27,
    "start_time": "2023-01-26T11:24:15.319Z"
   },
   {
    "duration": 9,
    "start_time": "2023-01-26T11:24:15.348Z"
   },
   {
    "duration": 43,
    "start_time": "2023-01-26T11:24:15.358Z"
   },
   {
    "duration": 17,
    "start_time": "2023-01-26T11:24:15.402Z"
   },
   {
    "duration": 19,
    "start_time": "2023-01-26T11:24:15.421Z"
   },
   {
    "duration": 95,
    "start_time": "2023-01-26T11:24:15.444Z"
   },
   {
    "duration": 167,
    "start_time": "2023-01-26T11:24:15.542Z"
   },
   {
    "duration": 11,
    "start_time": "2023-01-26T11:24:15.710Z"
   },
   {
    "duration": 43,
    "start_time": "2023-01-26T11:24:15.723Z"
   },
   {
    "duration": 221,
    "start_time": "2023-01-26T11:24:15.768Z"
   },
   {
    "duration": 51,
    "start_time": "2023-01-26T11:24:15.990Z"
   },
   {
    "duration": 16,
    "start_time": "2023-01-26T11:24:16.043Z"
   },
   {
    "duration": 211,
    "start_time": "2023-01-26T11:24:16.061Z"
   },
   {
    "duration": 231,
    "start_time": "2023-01-26T11:24:16.273Z"
   },
   {
    "duration": 149,
    "start_time": "2023-01-26T11:24:16.506Z"
   },
   {
    "duration": 149,
    "start_time": "2023-01-26T11:24:16.657Z"
   },
   {
    "duration": 172,
    "start_time": "2023-01-26T11:24:16.808Z"
   },
   {
    "duration": 231522,
    "start_time": "2023-01-26T11:24:16.982Z"
   },
   {
    "duration": 0,
    "start_time": "2023-01-26T11:28:08.506Z"
   },
   {
    "duration": 14841,
    "start_time": "2023-01-26T11:29:40.754Z"
   },
   {
    "duration": 92300,
    "start_time": "2023-01-26T11:30:31.385Z"
   },
   {
    "duration": 810,
    "start_time": "2023-01-26T11:32:52.890Z"
   },
   {
    "duration": 3604,
    "start_time": "2023-01-26T11:33:13.849Z"
   },
   {
    "duration": 3746,
    "start_time": "2023-01-26T11:33:24.298Z"
   },
   {
    "duration": 10,
    "start_time": "2023-01-26T11:33:48.498Z"
   },
   {
    "duration": 75,
    "start_time": "2023-01-26T11:37:12.636Z"
   },
   {
    "duration": 47,
    "start_time": "2023-01-26T11:37:24.458Z"
   },
   {
    "duration": 3780,
    "start_time": "2023-01-26T11:37:30.482Z"
   },
   {
    "duration": 2541,
    "start_time": "2023-01-26T11:37:57.066Z"
   },
   {
    "duration": 38,
    "start_time": "2023-01-26T11:40:13.618Z"
   },
   {
    "duration": 1480,
    "start_time": "2023-01-26T11:40:24.321Z"
   },
   {
    "duration": 4,
    "start_time": "2023-01-26T11:40:25.804Z"
   },
   {
    "duration": 32,
    "start_time": "2023-01-26T11:40:25.810Z"
   },
   {
    "duration": 8,
    "start_time": "2023-01-26T11:40:25.845Z"
   },
   {
    "duration": 11,
    "start_time": "2023-01-26T11:40:25.855Z"
   },
   {
    "duration": 9,
    "start_time": "2023-01-26T11:40:25.868Z"
   },
   {
    "duration": 62,
    "start_time": "2023-01-26T11:40:25.879Z"
   },
   {
    "duration": 17,
    "start_time": "2023-01-26T11:40:25.943Z"
   },
   {
    "duration": 4,
    "start_time": "2023-01-26T11:40:25.962Z"
   },
   {
    "duration": 76,
    "start_time": "2023-01-26T11:40:25.967Z"
   },
   {
    "duration": 172,
    "start_time": "2023-01-26T11:40:26.045Z"
   },
   {
    "duration": 27,
    "start_time": "2023-01-26T11:40:26.219Z"
   },
   {
    "duration": 28,
    "start_time": "2023-01-26T11:40:26.248Z"
   },
   {
    "duration": 159,
    "start_time": "2023-01-26T11:40:26.340Z"
   },
   {
    "duration": 62,
    "start_time": "2023-01-26T11:40:26.501Z"
   },
   {
    "duration": 84,
    "start_time": "2023-01-26T11:40:26.565Z"
   },
   {
    "duration": 121,
    "start_time": "2023-01-26T11:40:26.651Z"
   },
   {
    "duration": 241,
    "start_time": "2023-01-26T11:40:26.773Z"
   },
   {
    "duration": 162,
    "start_time": "2023-01-26T11:40:27.016Z"
   },
   {
    "duration": 154,
    "start_time": "2023-01-26T11:40:27.179Z"
   },
   {
    "duration": 174,
    "start_time": "2023-01-26T11:40:27.335Z"
   },
   {
    "duration": 121,
    "start_time": "2023-01-26T11:40:27.511Z"
   },
   {
    "duration": 0,
    "start_time": "2023-01-26T11:40:27.640Z"
   },
   {
    "duration": 6415,
    "start_time": "2023-01-26T11:41:17.634Z"
   },
   {
    "duration": 3790,
    "start_time": "2023-01-26T11:41:55.003Z"
   },
   {
    "duration": 3716,
    "start_time": "2023-01-26T11:42:14.067Z"
   },
   {
    "duration": 2235,
    "start_time": "2023-01-26T11:42:25.698Z"
   },
   {
    "duration": 12,
    "start_time": "2023-01-26T11:42:43.706Z"
   },
   {
    "duration": 2146,
    "start_time": "2023-01-26T11:43:04.570Z"
   },
   {
    "duration": 86410,
    "start_time": "2023-01-26T11:43:18.059Z"
   },
   {
    "duration": 2537,
    "start_time": "2023-01-26T11:45:03.427Z"
   },
   {
    "duration": 61,
    "start_time": "2023-01-28T08:19:29.443Z"
   },
   {
    "duration": 1768,
    "start_time": "2023-01-28T08:19:36.644Z"
   },
   {
    "duration": 4,
    "start_time": "2023-01-28T08:19:38.414Z"
   },
   {
    "duration": 28,
    "start_time": "2023-01-28T08:19:38.421Z"
   },
   {
    "duration": 8,
    "start_time": "2023-01-28T08:19:38.451Z"
   },
   {
    "duration": 9,
    "start_time": "2023-01-28T08:19:38.461Z"
   },
   {
    "duration": 8,
    "start_time": "2023-01-28T08:19:38.472Z"
   },
   {
    "duration": 36,
    "start_time": "2023-01-28T08:19:38.482Z"
   },
   {
    "duration": 42,
    "start_time": "2023-01-28T08:19:38.519Z"
   },
   {
    "duration": 4,
    "start_time": "2023-01-28T08:19:38.562Z"
   },
   {
    "duration": 90,
    "start_time": "2023-01-28T08:19:38.568Z"
   },
   {
    "duration": 246,
    "start_time": "2023-01-28T08:19:38.660Z"
   },
   {
    "duration": 14,
    "start_time": "2023-01-28T08:19:38.908Z"
   },
   {
    "duration": 125,
    "start_time": "2023-01-28T08:19:38.924Z"
   },
   {
    "duration": 165,
    "start_time": "2023-01-28T08:19:39.052Z"
   },
   {
    "duration": 45,
    "start_time": "2023-01-28T08:19:39.218Z"
   },
   {
    "duration": 22,
    "start_time": "2023-01-28T08:19:39.265Z"
   },
   {
    "duration": 174,
    "start_time": "2023-01-28T08:19:39.289Z"
   },
   {
    "duration": 256,
    "start_time": "2023-01-28T08:19:39.464Z"
   },
   {
    "duration": 156,
    "start_time": "2023-01-28T08:19:39.722Z"
   },
   {
    "duration": 150,
    "start_time": "2023-01-28T08:19:39.880Z"
   },
   {
    "duration": 166,
    "start_time": "2023-01-28T08:19:40.032Z"
   },
   {
    "duration": 81327,
    "start_time": "2023-01-28T08:19:40.200Z"
   },
   {
    "duration": 2347,
    "start_time": "2023-01-28T08:21:01.529Z"
   },
   {
    "duration": 79754,
    "start_time": "2023-01-28T08:27:21.337Z"
   },
   {
    "duration": 2567,
    "start_time": "2023-01-28T08:29:25.347Z"
   },
   {
    "duration": 285,
    "start_time": "2023-01-28T08:32:32.730Z"
   },
   {
    "duration": 143,
    "start_time": "2023-01-28T08:32:45.395Z"
   },
   {
    "duration": 121,
    "start_time": "2023-01-28T08:33:11.524Z"
   },
   {
    "duration": 152,
    "start_time": "2023-01-28T08:33:20.222Z"
   },
   {
    "duration": 1850,
    "start_time": "2023-01-28T10:16:53.500Z"
   },
   {
    "duration": 89,
    "start_time": "2023-01-28T10:17:38.534Z"
   },
   {
    "duration": 108,
    "start_time": "2023-01-28T10:17:50.529Z"
   },
   {
    "duration": 1485,
    "start_time": "2023-01-28T10:17:57.961Z"
   },
   {
    "duration": 4,
    "start_time": "2023-01-28T10:17:59.448Z"
   },
   {
    "duration": 29,
    "start_time": "2023-01-28T10:17:59.453Z"
   },
   {
    "duration": 8,
    "start_time": "2023-01-28T10:17:59.483Z"
   },
   {
    "duration": 28,
    "start_time": "2023-01-28T10:17:59.493Z"
   },
   {
    "duration": 10,
    "start_time": "2023-01-28T10:17:59.523Z"
   },
   {
    "duration": 40,
    "start_time": "2023-01-28T10:17:59.534Z"
   },
   {
    "duration": 17,
    "start_time": "2023-01-28T10:17:59.575Z"
   },
   {
    "duration": 4,
    "start_time": "2023-01-28T10:17:59.621Z"
   },
   {
    "duration": 95,
    "start_time": "2023-01-28T10:17:59.626Z"
   },
   {
    "duration": 173,
    "start_time": "2023-01-28T10:17:59.723Z"
   },
   {
    "duration": 23,
    "start_time": "2023-01-28T10:17:59.898Z"
   },
   {
    "duration": 100,
    "start_time": "2023-01-28T10:17:59.923Z"
   },
   {
    "duration": 146,
    "start_time": "2023-01-28T10:18:00.028Z"
   },
   {
    "duration": 57,
    "start_time": "2023-01-28T10:18:00.176Z"
   },
   {
    "duration": 18,
    "start_time": "2023-01-28T10:18:00.234Z"
   },
   {
    "duration": 195,
    "start_time": "2023-01-28T10:18:00.254Z"
   },
   {
    "duration": 237,
    "start_time": "2023-01-28T10:18:00.450Z"
   },
   {
    "duration": 146,
    "start_time": "2023-01-28T10:18:00.688Z"
   },
   {
    "duration": 137,
    "start_time": "2023-01-28T10:18:00.836Z"
   },
   {
    "duration": 169,
    "start_time": "2023-01-28T10:18:00.975Z"
   },
   {
    "duration": 81618,
    "start_time": "2023-01-28T10:18:01.146Z"
   },
   {
    "duration": 2415,
    "start_time": "2023-01-28T10:19:22.765Z"
   },
   {
    "duration": 31,
    "start_time": "2023-01-28T10:19:25.227Z"
   },
   {
    "duration": 23,
    "start_time": "2023-01-28T10:26:26.185Z"
   },
   {
    "duration": 73,
    "start_time": "2023-01-28T10:26:35.916Z"
   },
   {
    "duration": 94,
    "start_time": "2023-01-28T11:41:40.760Z"
   },
   {
    "duration": 1526,
    "start_time": "2023-01-28T11:41:47.053Z"
   },
   {
    "duration": 5,
    "start_time": "2023-01-28T11:41:48.581Z"
   },
   {
    "duration": 35,
    "start_time": "2023-01-28T11:41:48.587Z"
   },
   {
    "duration": 9,
    "start_time": "2023-01-28T11:41:48.625Z"
   },
   {
    "duration": 11,
    "start_time": "2023-01-28T11:41:48.636Z"
   },
   {
    "duration": 11,
    "start_time": "2023-01-28T11:41:48.649Z"
   },
   {
    "duration": 68,
    "start_time": "2023-01-28T11:41:48.662Z"
   },
   {
    "duration": 4,
    "start_time": "2023-01-28T11:41:48.733Z"
   },
   {
    "duration": 81,
    "start_time": "2023-01-28T11:41:48.739Z"
   },
   {
    "duration": 175,
    "start_time": "2023-01-28T11:41:48.824Z"
   },
   {
    "duration": 30,
    "start_time": "2023-01-28T11:41:49.001Z"
   },
   {
    "duration": 32,
    "start_time": "2023-01-28T11:41:49.033Z"
   },
   {
    "duration": 154,
    "start_time": "2023-01-28T11:41:49.122Z"
   },
   {
    "duration": 52,
    "start_time": "2023-01-28T11:41:49.277Z"
   },
   {
    "duration": 15,
    "start_time": "2023-01-28T11:41:49.330Z"
   },
   {
    "duration": 138,
    "start_time": "2023-01-28T11:41:49.420Z"
   },
   {
    "duration": 229,
    "start_time": "2023-01-28T11:41:49.560Z"
   },
   {
    "duration": 144,
    "start_time": "2023-01-28T11:41:49.791Z"
   },
   {
    "duration": 147,
    "start_time": "2023-01-28T11:41:49.937Z"
   },
   {
    "duration": 171,
    "start_time": "2023-01-28T11:41:50.086Z"
   },
   {
    "duration": 84787,
    "start_time": "2023-01-28T11:41:50.258Z"
   },
   {
    "duration": 2527,
    "start_time": "2023-01-28T11:43:15.046Z"
   },
   {
    "duration": 39009,
    "start_time": "2023-01-28T12:02:59.050Z"
   },
   {
    "duration": 62816,
    "start_time": "2023-01-28T12:03:51.798Z"
   },
   {
    "duration": 90,
    "start_time": "2023-01-28T12:09:10.229Z"
   },
   {
    "duration": 221,
    "start_time": "2023-01-28T12:09:32.197Z"
   },
   {
    "duration": 345,
    "start_time": "2023-01-28T12:15:59.053Z"
   },
   {
    "duration": 11722,
    "start_time": "2023-01-28T12:16:12.037Z"
   },
   {
    "duration": 339,
    "start_time": "2023-01-28T12:17:03.240Z"
   },
   {
    "duration": 67028,
    "start_time": "2023-01-28T12:17:41.101Z"
   },
   {
    "duration": 416,
    "start_time": "2023-01-28T12:22:41.109Z"
   },
   {
    "duration": 341,
    "start_time": "2023-01-28T12:23:18.646Z"
   },
   {
    "duration": 376,
    "start_time": "2023-01-28T12:24:26.509Z"
   },
   {
    "duration": 73585,
    "start_time": "2023-01-28T12:26:35.223Z"
   },
   {
    "duration": 70652,
    "start_time": "2023-01-28T12:29:15.261Z"
   },
   {
    "duration": 452,
    "start_time": "2023-01-28T12:32:38.969Z"
   },
   {
    "duration": 502,
    "start_time": "2023-01-28T12:32:48.398Z"
   },
   {
    "duration": 2,
    "start_time": "2023-01-28T12:36:44.284Z"
   },
   {
    "duration": 9,
    "start_time": "2023-01-28T12:40:25.877Z"
   },
   {
    "duration": 1701,
    "start_time": "2023-01-28T12:40:43.600Z"
   },
   {
    "duration": 4,
    "start_time": "2023-01-28T12:40:45.304Z"
   },
   {
    "duration": 35,
    "start_time": "2023-01-28T12:40:45.323Z"
   },
   {
    "duration": 9,
    "start_time": "2023-01-28T12:40:45.361Z"
   },
   {
    "duration": 11,
    "start_time": "2023-01-28T12:40:45.372Z"
   },
   {
    "duration": 43,
    "start_time": "2023-01-28T12:40:45.385Z"
   },
   {
    "duration": 59,
    "start_time": "2023-01-28T12:40:45.432Z"
   },
   {
    "duration": 4,
    "start_time": "2023-01-28T12:40:45.492Z"
   },
   {
    "duration": 5,
    "start_time": "2023-01-28T12:40:45.498Z"
   },
   {
    "duration": 372,
    "start_time": "2023-01-28T12:40:45.526Z"
   },
   {
    "duration": 72111,
    "start_time": "2023-01-28T12:40:45.900Z"
   },
   {
    "duration": 450,
    "start_time": "2023-01-28T12:41:58.012Z"
   },
   {
    "duration": 9,
    "start_time": "2023-01-28T12:41:58.464Z"
   },
   {
    "duration": 12,
    "start_time": "2023-01-28T12:41:58.475Z"
   },
   {
    "duration": 150,
    "start_time": "2023-01-28T12:41:58.489Z"
   },
   {
    "duration": 153,
    "start_time": "2023-01-28T12:41:58.641Z"
   },
   {
    "duration": 73,
    "start_time": "2023-01-28T12:41:58.796Z"
   },
   {
    "duration": 52,
    "start_time": "2023-01-28T12:41:58.873Z"
   },
   {
    "duration": 140,
    "start_time": "2023-01-28T12:41:58.928Z"
   },
   {
    "duration": 318,
    "start_time": "2023-01-28T12:41:59.070Z"
   },
   {
    "duration": 176,
    "start_time": "2023-01-28T12:41:59.391Z"
   },
   {
    "duration": 166,
    "start_time": "2023-01-28T12:41:59.570Z"
   },
   {
    "duration": 208,
    "start_time": "2023-01-28T12:41:59.738Z"
   },
   {
    "duration": 96061,
    "start_time": "2023-01-28T12:41:59.948Z"
   },
   {
    "duration": 2837,
    "start_time": "2023-01-28T12:43:36.010Z"
   },
   {
    "duration": 8,
    "start_time": "2023-01-28T12:50:28.817Z"
   },
   {
    "duration": 140,
    "start_time": "2023-01-28T12:51:50.188Z"
   },
   {
    "duration": 46,
    "start_time": "2023-01-28T12:52:18.780Z"
   },
   {
    "duration": 6,
    "start_time": "2023-01-28T12:52:53.140Z"
   },
   {
    "duration": 28,
    "start_time": "2023-01-28T12:53:03.853Z"
   },
   {
    "duration": 350,
    "start_time": "2023-01-28T12:53:51.772Z"
   },
   {
    "duration": 71,
    "start_time": "2023-01-28T12:55:44.557Z"
   },
   {
    "duration": 33,
    "start_time": "2023-01-28T12:55:56.892Z"
   },
   {
    "duration": 338,
    "start_time": "2023-01-28T12:56:33.724Z"
   },
   {
    "duration": 8,
    "start_time": "2023-01-28T12:58:23.172Z"
   },
   {
    "duration": 366,
    "start_time": "2023-01-28T12:59:09.973Z"
   },
   {
    "duration": 506,
    "start_time": "2023-01-28T13:00:28.916Z"
   },
   {
    "duration": 10,
    "start_time": "2023-01-28T13:09:05.300Z"
   },
   {
    "duration": 8,
    "start_time": "2023-01-28T13:09:11.083Z"
   },
   {
    "duration": 62944,
    "start_time": "2023-01-28T13:09:18.835Z"
   },
   {
    "duration": 70,
    "start_time": "2023-01-28T13:11:05.644Z"
   },
   {
    "duration": 66596,
    "start_time": "2023-01-28T13:11:15.349Z"
   },
   {
    "duration": 64015,
    "start_time": "2023-01-28T13:12:46.955Z"
   },
   {
    "duration": 1562,
    "start_time": "2023-01-28T13:14:05.716Z"
   },
   {
    "duration": 13,
    "start_time": "2023-01-28T13:15:17.188Z"
   },
   {
    "duration": 10,
    "start_time": "2023-01-28T13:16:53.691Z"
   },
   {
    "duration": 227,
    "start_time": "2023-01-28T13:17:02.028Z"
   },
   {
    "duration": 1458,
    "start_time": "2023-01-28T13:18:17.092Z"
   },
   {
    "duration": 9,
    "start_time": "2023-01-28T13:18:22.032Z"
   },
   {
    "duration": 1462,
    "start_time": "2023-01-28T13:18:34.746Z"
   },
   {
    "duration": 471,
    "start_time": "2023-01-28T13:18:39.851Z"
   },
   {
    "duration": 9,
    "start_time": "2023-01-28T13:18:45.995Z"
   },
   {
    "duration": 10178,
    "start_time": "2023-01-28T13:19:56.405Z"
   },
   {
    "duration": 2350,
    "start_time": "2023-01-28T13:21:26.294Z"
   },
   {
    "duration": 12,
    "start_time": "2023-01-28T13:25:45.974Z"
   },
   {
    "duration": 2912,
    "start_time": "2023-01-28T13:26:02.499Z"
   },
   {
    "duration": 13,
    "start_time": "2023-01-28T13:26:32.587Z"
   },
   {
    "duration": 14,
    "start_time": "2023-01-28T13:29:59.698Z"
   },
   {
    "duration": 560,
    "start_time": "2023-01-28T13:30:40.367Z"
   },
   {
    "duration": 68,
    "start_time": "2023-01-28T13:31:06.744Z"
   },
   {
    "duration": 3669,
    "start_time": "2023-01-28T13:33:16.698Z"
   },
   {
    "duration": 5,
    "start_time": "2023-01-28T13:33:20.369Z"
   },
   {
    "duration": 32,
    "start_time": "2023-01-28T13:33:20.376Z"
   },
   {
    "duration": 16,
    "start_time": "2023-01-28T13:33:20.410Z"
   },
   {
    "duration": 11,
    "start_time": "2023-01-28T13:33:20.427Z"
   },
   {
    "duration": 9,
    "start_time": "2023-01-28T13:33:20.440Z"
   },
   {
    "duration": 39,
    "start_time": "2023-01-28T13:33:20.451Z"
   },
   {
    "duration": 4,
    "start_time": "2023-01-28T13:33:20.492Z"
   },
   {
    "duration": 9,
    "start_time": "2023-01-28T13:33:20.521Z"
   },
   {
    "duration": 587,
    "start_time": "2023-01-28T13:33:20.533Z"
   },
   {
    "duration": 69870,
    "start_time": "2023-01-28T13:33:21.123Z"
   },
   {
    "duration": 1498,
    "start_time": "2023-01-28T13:34:30.996Z"
   },
   {
    "duration": 237,
    "start_time": "2023-01-28T13:34:32.495Z"
   },
   {
    "duration": 1505,
    "start_time": "2023-01-28T13:34:32.734Z"
   },
   {
    "duration": 10,
    "start_time": "2023-01-28T13:34:34.240Z"
   },
   {
    "duration": 14,
    "start_time": "2023-01-28T13:34:34.252Z"
   },
   {
    "duration": 565,
    "start_time": "2023-01-28T13:34:34.268Z"
   },
   {
    "duration": 94610,
    "start_time": "2023-01-28T13:34:34.835Z"
   },
   {
    "duration": 1474,
    "start_time": "2023-01-28T13:36:09.447Z"
   },
   {
    "duration": 314,
    "start_time": "2023-01-28T13:36:10.923Z"
   },
   {
    "duration": 1443,
    "start_time": "2023-01-28T13:36:11.239Z"
   },
   {
    "duration": 9,
    "start_time": "2023-01-28T13:36:12.684Z"
   },
   {
    "duration": 142,
    "start_time": "2023-01-28T13:36:12.694Z"
   },
   {
    "duration": 0,
    "start_time": "2023-01-28T13:36:12.839Z"
   },
   {
    "duration": 0,
    "start_time": "2023-01-28T13:36:12.840Z"
   },
   {
    "duration": 0,
    "start_time": "2023-01-28T13:36:12.841Z"
   },
   {
    "duration": 0,
    "start_time": "2023-01-28T13:36:12.843Z"
   },
   {
    "duration": 0,
    "start_time": "2023-01-28T13:36:12.844Z"
   },
   {
    "duration": 0,
    "start_time": "2023-01-28T13:36:12.846Z"
   },
   {
    "duration": 0,
    "start_time": "2023-01-28T13:36:12.847Z"
   },
   {
    "duration": 0,
    "start_time": "2023-01-28T13:36:12.848Z"
   },
   {
    "duration": 10,
    "start_time": "2023-01-28T13:38:11.027Z"
   },
   {
    "duration": 235,
    "start_time": "2023-01-28T13:38:22.778Z"
   },
   {
    "duration": 180,
    "start_time": "2023-01-28T13:38:25.746Z"
   },
   {
    "duration": 342,
    "start_time": "2023-01-28T13:38:34.242Z"
   },
   {
    "duration": 182,
    "start_time": "2023-01-28T13:38:36.747Z"
   },
   {
    "duration": 602,
    "start_time": "2023-01-28T13:39:48.620Z"
   },
   {
    "duration": 10,
    "start_time": "2023-01-28T13:43:27.347Z"
   },
   {
    "duration": 3534,
    "start_time": "2023-01-28T13:43:31.475Z"
   },
   {
    "duration": 6,
    "start_time": "2023-01-28T13:43:35.012Z"
   },
   {
    "duration": 65,
    "start_time": "2023-01-28T13:43:35.020Z"
   },
   {
    "duration": 10,
    "start_time": "2023-01-28T13:43:35.088Z"
   },
   {
    "duration": 30,
    "start_time": "2023-01-28T13:43:35.100Z"
   },
   {
    "duration": 24,
    "start_time": "2023-01-28T13:43:35.132Z"
   },
   {
    "duration": 47,
    "start_time": "2023-01-28T13:43:35.158Z"
   },
   {
    "duration": 5,
    "start_time": "2023-01-28T13:43:35.207Z"
   },
   {
    "duration": 23,
    "start_time": "2023-01-28T13:43:35.214Z"
   },
   {
    "duration": 481,
    "start_time": "2023-01-28T13:43:35.240Z"
   },
   {
    "duration": 38483,
    "start_time": "2023-01-28T13:43:35.724Z"
   },
   {
    "duration": 1587,
    "start_time": "2023-01-28T13:44:14.209Z"
   },
   {
    "duration": 242,
    "start_time": "2023-01-28T13:44:15.799Z"
   },
   {
    "duration": 197,
    "start_time": "2023-01-28T13:44:16.043Z"
   },
   {
    "duration": 9,
    "start_time": "2023-01-28T13:44:16.242Z"
   },
   {
    "duration": 15,
    "start_time": "2023-01-28T13:44:16.252Z"
   },
   {
    "duration": 552,
    "start_time": "2023-01-28T13:44:16.269Z"
   },
   {
    "duration": 52780,
    "start_time": "2023-01-28T13:44:16.824Z"
   },
   {
    "duration": 1407,
    "start_time": "2023-01-28T13:45:09.607Z"
   },
   {
    "duration": 301,
    "start_time": "2023-01-28T13:45:11.015Z"
   },
   {
    "duration": 179,
    "start_time": "2023-01-28T13:45:11.318Z"
   },
   {
    "duration": 8,
    "start_time": "2023-01-28T13:45:11.499Z"
   },
   {
    "duration": 11,
    "start_time": "2023-01-28T13:45:11.521Z"
   },
   {
    "duration": 497,
    "start_time": "2023-01-28T13:45:11.534Z"
   },
   {
    "duration": 18589,
    "start_time": "2023-01-28T13:45:12.122Z"
   },
   {
    "duration": 1021,
    "start_time": "2023-01-28T13:45:30.712Z"
   },
   {
    "duration": 115,
    "start_time": "2023-01-28T13:45:31.735Z"
   },
   {
    "duration": 71,
    "start_time": "2023-01-28T13:45:31.853Z"
   },
   {
    "duration": 0,
    "start_time": "2023-01-28T13:45:31.925Z"
   },
   {
    "duration": 0,
    "start_time": "2023-01-28T13:45:31.927Z"
   },
   {
    "duration": 0,
    "start_time": "2023-01-28T13:45:31.929Z"
   },
   {
    "duration": 0,
    "start_time": "2023-01-28T13:45:31.930Z"
   },
   {
    "duration": 0,
    "start_time": "2023-01-28T13:45:31.931Z"
   },
   {
    "duration": 0,
    "start_time": "2023-01-28T13:45:31.932Z"
   },
   {
    "duration": 181,
    "start_time": "2023-01-28T13:45:45.387Z"
   },
   {
    "duration": 10,
    "start_time": "2023-01-28T13:46:07.171Z"
   },
   {
    "duration": 3901,
    "start_time": "2023-01-28T13:49:22.555Z"
   },
   {
    "duration": 3701,
    "start_time": "2023-01-28T13:49:41.635Z"
   },
   {
    "duration": 3846,
    "start_time": "2023-01-28T13:56:28.435Z"
   },
   {
    "duration": 310,
    "start_time": "2023-01-28T13:57:08.274Z"
   },
   {
    "duration": 347,
    "start_time": "2023-01-28T13:57:16.171Z"
   },
   {
    "duration": 11,
    "start_time": "2023-01-28T13:58:56.698Z"
   },
   {
    "duration": 3740,
    "start_time": "2023-01-28T14:09:23.234Z"
   },
   {
    "duration": 3634,
    "start_time": "2023-01-28T14:10:15.369Z"
   },
   {
    "duration": 3663,
    "start_time": "2023-01-28T14:11:34.184Z"
   },
   {
    "duration": 3668,
    "start_time": "2023-01-28T14:15:49.289Z"
   },
   {
    "duration": 5,
    "start_time": "2023-01-28T14:17:01.252Z"
   },
   {
    "duration": 9,
    "start_time": "2023-01-28T14:28:43.397Z"
   },
   {
    "duration": 8,
    "start_time": "2023-01-28T14:28:48.936Z"
   },
   {
    "duration": 3680,
    "start_time": "2023-01-28T14:28:55.701Z"
   },
   {
    "duration": 5,
    "start_time": "2023-01-28T14:28:59.383Z"
   },
   {
    "duration": 26,
    "start_time": "2023-01-28T14:28:59.389Z"
   },
   {
    "duration": 8,
    "start_time": "2023-01-28T14:28:59.422Z"
   },
   {
    "duration": 10,
    "start_time": "2023-01-28T14:28:59.432Z"
   },
   {
    "duration": 9,
    "start_time": "2023-01-28T14:28:59.443Z"
   },
   {
    "duration": 35,
    "start_time": "2023-01-28T14:28:59.454Z"
   },
   {
    "duration": 32,
    "start_time": "2023-01-28T14:28:59.491Z"
   },
   {
    "duration": 11,
    "start_time": "2023-01-28T14:28:59.525Z"
   },
   {
    "duration": 301,
    "start_time": "2023-01-28T14:28:59.539Z"
   },
   {
    "duration": 0,
    "start_time": "2023-01-28T14:28:59.842Z"
   },
   {
    "duration": 0,
    "start_time": "2023-01-28T14:28:59.844Z"
   },
   {
    "duration": 0,
    "start_time": "2023-01-28T14:28:59.845Z"
   },
   {
    "duration": 0,
    "start_time": "2023-01-28T14:28:59.847Z"
   },
   {
    "duration": 0,
    "start_time": "2023-01-28T14:28:59.849Z"
   },
   {
    "duration": 0,
    "start_time": "2023-01-28T14:28:59.850Z"
   },
   {
    "duration": 0,
    "start_time": "2023-01-28T14:28:59.852Z"
   },
   {
    "duration": 0,
    "start_time": "2023-01-28T14:28:59.853Z"
   },
   {
    "duration": 0,
    "start_time": "2023-01-28T14:28:59.855Z"
   },
   {
    "duration": 0,
    "start_time": "2023-01-28T14:28:59.856Z"
   },
   {
    "duration": 0,
    "start_time": "2023-01-28T14:28:59.857Z"
   },
   {
    "duration": 0,
    "start_time": "2023-01-28T14:28:59.859Z"
   },
   {
    "duration": 0,
    "start_time": "2023-01-28T14:28:59.860Z"
   },
   {
    "duration": 0,
    "start_time": "2023-01-28T14:28:59.861Z"
   },
   {
    "duration": 0,
    "start_time": "2023-01-28T14:28:59.862Z"
   },
   {
    "duration": 0,
    "start_time": "2023-01-28T14:28:59.863Z"
   },
   {
    "duration": 0,
    "start_time": "2023-01-28T14:28:59.864Z"
   },
   {
    "duration": 0,
    "start_time": "2023-01-28T14:28:59.865Z"
   },
   {
    "duration": 0,
    "start_time": "2023-01-28T14:28:59.866Z"
   },
   {
    "duration": 0,
    "start_time": "2023-01-28T14:28:59.867Z"
   },
   {
    "duration": 0,
    "start_time": "2023-01-28T14:28:59.868Z"
   },
   {
    "duration": 0,
    "start_time": "2023-01-28T14:28:59.869Z"
   },
   {
    "duration": 0,
    "start_time": "2023-01-28T14:28:59.870Z"
   },
   {
    "duration": 104,
    "start_time": "2023-01-28T14:31:06.422Z"
   },
   {
    "duration": 10,
    "start_time": "2023-01-28T14:31:10.953Z"
   },
   {
    "duration": 636,
    "start_time": "2023-01-28T14:31:13.892Z"
   },
   {
    "duration": 38543,
    "start_time": "2023-01-28T14:33:47.160Z"
   },
   {
    "duration": 3758,
    "start_time": "2023-01-28T14:34:41.744Z"
   },
   {
    "duration": 4,
    "start_time": "2023-01-28T14:34:45.504Z"
   },
   {
    "duration": 27,
    "start_time": "2023-01-28T14:34:45.510Z"
   },
   {
    "duration": 7,
    "start_time": "2023-01-28T14:34:45.539Z"
   },
   {
    "duration": 10,
    "start_time": "2023-01-28T14:34:45.548Z"
   },
   {
    "duration": 10,
    "start_time": "2023-01-28T14:34:45.560Z"
   },
   {
    "duration": 65,
    "start_time": "2023-01-28T14:34:45.572Z"
   },
   {
    "duration": 4,
    "start_time": "2023-01-28T14:34:45.638Z"
   },
   {
    "duration": 14,
    "start_time": "2023-01-28T14:34:45.644Z"
   },
   {
    "duration": 763,
    "start_time": "2023-01-28T14:34:45.661Z"
   },
   {
    "duration": 40185,
    "start_time": "2023-01-28T14:34:46.427Z"
   },
   {
    "duration": 1776,
    "start_time": "2023-01-28T14:35:26.613Z"
   },
   {
    "duration": 266,
    "start_time": "2023-01-28T14:35:28.391Z"
   },
   {
    "duration": 344,
    "start_time": "2023-01-28T14:35:28.659Z"
   },
   {
    "duration": 19,
    "start_time": "2023-01-28T14:35:29.005Z"
   },
   {
    "duration": 26,
    "start_time": "2023-01-28T14:35:29.026Z"
   },
   {
    "duration": 576,
    "start_time": "2023-01-28T14:35:29.054Z"
   },
   {
    "duration": 54350,
    "start_time": "2023-01-28T14:35:29.635Z"
   },
   {
    "duration": 1608,
    "start_time": "2023-01-28T14:36:23.989Z"
   },
   {
    "duration": 314,
    "start_time": "2023-01-28T14:36:25.599Z"
   },
   {
    "duration": 321,
    "start_time": "2023-01-28T14:36:25.915Z"
   },
   {
    "duration": 9,
    "start_time": "2023-01-28T14:36:26.239Z"
   },
   {
    "duration": 12,
    "start_time": "2023-01-28T14:36:26.250Z"
   },
   {
    "duration": 759,
    "start_time": "2023-01-28T14:36:26.263Z"
   },
   {
    "duration": 18351,
    "start_time": "2023-01-28T14:36:27.025Z"
   },
   {
    "duration": 1156,
    "start_time": "2023-01-28T14:36:45.379Z"
   },
   {
    "duration": 128,
    "start_time": "2023-01-28T14:36:46.537Z"
   },
   {
    "duration": 331,
    "start_time": "2023-01-28T14:36:46.668Z"
   },
   {
    "duration": 20,
    "start_time": "2023-01-28T14:36:47.001Z"
   },
   {
    "duration": 3780,
    "start_time": "2023-01-28T14:36:47.023Z"
   },
   {
    "duration": 3,
    "start_time": "2023-01-28T14:36:50.805Z"
   },
   {
    "duration": 3710,
    "start_time": "2023-01-28T14:36:50.809Z"
   },
   {
    "duration": 9,
    "start_time": "2023-01-28T14:36:54.522Z"
   }
  ],
  "kernelspec": {
   "display_name": "Python 3 (ipykernel)",
   "language": "python",
   "name": "python3"
  },
  "language_info": {
   "codemirror_mode": {
    "name": "ipython",
    "version": 3
   },
   "file_extension": ".py",
   "mimetype": "text/x-python",
   "name": "python",
   "nbconvert_exporter": "python",
   "pygments_lexer": "ipython3",
   "version": "3.9.5"
  },
  "toc": {
   "base_numbering": 1,
   "nav_menu": {
    "height": "340px",
    "width": "255.559px"
   },
   "number_sections": true,
   "sideBar": true,
   "skip_h1_title": true,
   "title_cell": "Содержание",
   "title_sidebar": "Contents",
   "toc_cell": true,
   "toc_position": {
    "height": "calc(100% - 180px)",
    "left": "10px",
    "top": "150px",
    "width": "259.188px"
   },
   "toc_section_display": true,
   "toc_window_display": false
  }
 },
 "nbformat": 4,
 "nbformat_minor": 2
}
