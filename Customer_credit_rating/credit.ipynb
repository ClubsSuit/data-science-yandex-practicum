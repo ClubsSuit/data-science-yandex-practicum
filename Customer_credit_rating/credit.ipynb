{
 "cells": [
  {
   "attachments": {},
   "cell_type": "markdown",
   "id": "3bb5df92",
   "metadata": {
    "deletable": false,
    "editable": false,
    "id": "c81daeeb"
   },
   "source": [
    "# Исследование надежности заемщиков\n"
   ]
  },
  {
   "attachments": {},
   "cell_type": "markdown",
   "id": "6fcf77fc",
   "metadata": {
    "deletable": false,
    "editable": false,
    "id": "827c20bf"
   },
   "source": [
    "Во второй части проекта вы выполните шаги 3 и 4. Их вручную проверит ревьюер.\n",
    "Чтобы вам не пришлось писать код заново для шагов 1 и 2, мы добавили авторские решения в ячейки с кодом. \n",
    "\n"
   ]
  },
  {
   "attachments": {},
   "cell_type": "markdown",
   "id": "6d06114d",
   "metadata": {
    "deletable": false,
    "editable": false,
    "id": "744d7639"
   },
   "source": [
    "## Откройте таблицу и изучите общую информацию о данных"
   ]
  },
  {
   "attachments": {},
   "cell_type": "markdown",
   "id": "e03f882c",
   "metadata": {
    "deletable": false,
    "editable": false,
    "id": "e7a14c31"
   },
   "source": [
    "**Задание 1. Импортируйте библиотеку pandas. Считайте данные из csv-файла в датафрейм и сохраните в переменную `data`. Путь к файлу:**\n",
    "\n",
    "`/datasets/data.csv`"
   ]
  },
  {
   "cell_type": "code",
   "execution_count": 1,
   "id": "fbb656aa",
   "metadata": {
    "deletable": false,
    "id": "7bcf75c9"
   },
   "outputs": [],
   "source": [
    "import pandas as pd\n",
    "\n",
    "try:\n",
    "    data = pd.read_csv('/datasets/data.csv')\n",
    "except:\n",
    "    data = pd.read_csv('https://code.s3.yandex.net/datasets/data.csv')"
   ]
  },
  {
   "attachments": {},
   "cell_type": "markdown",
   "id": "9852960c",
   "metadata": {
    "deletable": false,
    "editable": false,
    "id": "b8038fe3"
   },
   "source": [
    "**Задание 2. Выведите первые 20 строчек датафрейма `data` на экран.**"
   ]
  },
  {
   "cell_type": "code",
   "execution_count": 2,
   "id": "1149f223",
   "metadata": {
    "deletable": false,
    "id": "2a7cab99",
    "outputId": "1a8f3ef2-d323-4ec2-ddf7-89670b5944c4"
   },
   "outputs": [
    {
     "data": {
      "text/html": [
       "<div>\n",
       "<style scoped>\n",
       "    .dataframe tbody tr th:only-of-type {\n",
       "        vertical-align: middle;\n",
       "    }\n",
       "\n",
       "    .dataframe tbody tr th {\n",
       "        vertical-align: top;\n",
       "    }\n",
       "\n",
       "    .dataframe thead th {\n",
       "        text-align: right;\n",
       "    }\n",
       "</style>\n",
       "<table border=\"1\" class=\"dataframe\">\n",
       "  <thead>\n",
       "    <tr style=\"text-align: right;\">\n",
       "      <th></th>\n",
       "      <th>children</th>\n",
       "      <th>days_employed</th>\n",
       "      <th>dob_years</th>\n",
       "      <th>education</th>\n",
       "      <th>education_id</th>\n",
       "      <th>family_status</th>\n",
       "      <th>family_status_id</th>\n",
       "      <th>gender</th>\n",
       "      <th>income_type</th>\n",
       "      <th>debt</th>\n",
       "      <th>total_income</th>\n",
       "      <th>purpose</th>\n",
       "    </tr>\n",
       "  </thead>\n",
       "  <tbody>\n",
       "    <tr>\n",
       "      <th>0</th>\n",
       "      <td>1</td>\n",
       "      <td>-8437.673028</td>\n",
       "      <td>42</td>\n",
       "      <td>высшее</td>\n",
       "      <td>0</td>\n",
       "      <td>женат / замужем</td>\n",
       "      <td>0</td>\n",
       "      <td>F</td>\n",
       "      <td>сотрудник</td>\n",
       "      <td>0</td>\n",
       "      <td>253875.639453</td>\n",
       "      <td>покупка жилья</td>\n",
       "    </tr>\n",
       "    <tr>\n",
       "      <th>1</th>\n",
       "      <td>1</td>\n",
       "      <td>-4024.803754</td>\n",
       "      <td>36</td>\n",
       "      <td>среднее</td>\n",
       "      <td>1</td>\n",
       "      <td>женат / замужем</td>\n",
       "      <td>0</td>\n",
       "      <td>F</td>\n",
       "      <td>сотрудник</td>\n",
       "      <td>0</td>\n",
       "      <td>112080.014102</td>\n",
       "      <td>приобретение автомобиля</td>\n",
       "    </tr>\n",
       "    <tr>\n",
       "      <th>2</th>\n",
       "      <td>0</td>\n",
       "      <td>-5623.422610</td>\n",
       "      <td>33</td>\n",
       "      <td>Среднее</td>\n",
       "      <td>1</td>\n",
       "      <td>женат / замужем</td>\n",
       "      <td>0</td>\n",
       "      <td>M</td>\n",
       "      <td>сотрудник</td>\n",
       "      <td>0</td>\n",
       "      <td>145885.952297</td>\n",
       "      <td>покупка жилья</td>\n",
       "    </tr>\n",
       "    <tr>\n",
       "      <th>3</th>\n",
       "      <td>3</td>\n",
       "      <td>-4124.747207</td>\n",
       "      <td>32</td>\n",
       "      <td>среднее</td>\n",
       "      <td>1</td>\n",
       "      <td>женат / замужем</td>\n",
       "      <td>0</td>\n",
       "      <td>M</td>\n",
       "      <td>сотрудник</td>\n",
       "      <td>0</td>\n",
       "      <td>267628.550329</td>\n",
       "      <td>дополнительное образование</td>\n",
       "    </tr>\n",
       "    <tr>\n",
       "      <th>4</th>\n",
       "      <td>0</td>\n",
       "      <td>340266.072047</td>\n",
       "      <td>53</td>\n",
       "      <td>среднее</td>\n",
       "      <td>1</td>\n",
       "      <td>гражданский брак</td>\n",
       "      <td>1</td>\n",
       "      <td>F</td>\n",
       "      <td>пенсионер</td>\n",
       "      <td>0</td>\n",
       "      <td>158616.077870</td>\n",
       "      <td>сыграть свадьбу</td>\n",
       "    </tr>\n",
       "    <tr>\n",
       "      <th>5</th>\n",
       "      <td>0</td>\n",
       "      <td>-926.185831</td>\n",
       "      <td>27</td>\n",
       "      <td>высшее</td>\n",
       "      <td>0</td>\n",
       "      <td>гражданский брак</td>\n",
       "      <td>1</td>\n",
       "      <td>M</td>\n",
       "      <td>компаньон</td>\n",
       "      <td>0</td>\n",
       "      <td>255763.565419</td>\n",
       "      <td>покупка жилья</td>\n",
       "    </tr>\n",
       "    <tr>\n",
       "      <th>6</th>\n",
       "      <td>0</td>\n",
       "      <td>-2879.202052</td>\n",
       "      <td>43</td>\n",
       "      <td>высшее</td>\n",
       "      <td>0</td>\n",
       "      <td>женат / замужем</td>\n",
       "      <td>0</td>\n",
       "      <td>F</td>\n",
       "      <td>компаньон</td>\n",
       "      <td>0</td>\n",
       "      <td>240525.971920</td>\n",
       "      <td>операции с жильем</td>\n",
       "    </tr>\n",
       "    <tr>\n",
       "      <th>7</th>\n",
       "      <td>0</td>\n",
       "      <td>-152.779569</td>\n",
       "      <td>50</td>\n",
       "      <td>СРЕДНЕЕ</td>\n",
       "      <td>1</td>\n",
       "      <td>женат / замужем</td>\n",
       "      <td>0</td>\n",
       "      <td>M</td>\n",
       "      <td>сотрудник</td>\n",
       "      <td>0</td>\n",
       "      <td>135823.934197</td>\n",
       "      <td>образование</td>\n",
       "    </tr>\n",
       "    <tr>\n",
       "      <th>8</th>\n",
       "      <td>2</td>\n",
       "      <td>-6929.865299</td>\n",
       "      <td>35</td>\n",
       "      <td>ВЫСШЕЕ</td>\n",
       "      <td>0</td>\n",
       "      <td>гражданский брак</td>\n",
       "      <td>1</td>\n",
       "      <td>F</td>\n",
       "      <td>сотрудник</td>\n",
       "      <td>0</td>\n",
       "      <td>95856.832424</td>\n",
       "      <td>на проведение свадьбы</td>\n",
       "    </tr>\n",
       "    <tr>\n",
       "      <th>9</th>\n",
       "      <td>0</td>\n",
       "      <td>-2188.756445</td>\n",
       "      <td>41</td>\n",
       "      <td>среднее</td>\n",
       "      <td>1</td>\n",
       "      <td>женат / замужем</td>\n",
       "      <td>0</td>\n",
       "      <td>M</td>\n",
       "      <td>сотрудник</td>\n",
       "      <td>0</td>\n",
       "      <td>144425.938277</td>\n",
       "      <td>покупка жилья для семьи</td>\n",
       "    </tr>\n",
       "    <tr>\n",
       "      <th>10</th>\n",
       "      <td>2</td>\n",
       "      <td>-4171.483647</td>\n",
       "      <td>36</td>\n",
       "      <td>высшее</td>\n",
       "      <td>0</td>\n",
       "      <td>женат / замужем</td>\n",
       "      <td>0</td>\n",
       "      <td>M</td>\n",
       "      <td>компаньон</td>\n",
       "      <td>0</td>\n",
       "      <td>113943.491460</td>\n",
       "      <td>покупка недвижимости</td>\n",
       "    </tr>\n",
       "    <tr>\n",
       "      <th>11</th>\n",
       "      <td>0</td>\n",
       "      <td>-792.701887</td>\n",
       "      <td>40</td>\n",
       "      <td>среднее</td>\n",
       "      <td>1</td>\n",
       "      <td>женат / замужем</td>\n",
       "      <td>0</td>\n",
       "      <td>F</td>\n",
       "      <td>сотрудник</td>\n",
       "      <td>0</td>\n",
       "      <td>77069.234271</td>\n",
       "      <td>покупка коммерческой недвижимости</td>\n",
       "    </tr>\n",
       "    <tr>\n",
       "      <th>12</th>\n",
       "      <td>0</td>\n",
       "      <td>NaN</td>\n",
       "      <td>65</td>\n",
       "      <td>среднее</td>\n",
       "      <td>1</td>\n",
       "      <td>гражданский брак</td>\n",
       "      <td>1</td>\n",
       "      <td>M</td>\n",
       "      <td>пенсионер</td>\n",
       "      <td>0</td>\n",
       "      <td>NaN</td>\n",
       "      <td>сыграть свадьбу</td>\n",
       "    </tr>\n",
       "    <tr>\n",
       "      <th>13</th>\n",
       "      <td>0</td>\n",
       "      <td>-1846.641941</td>\n",
       "      <td>54</td>\n",
       "      <td>неоконченное высшее</td>\n",
       "      <td>2</td>\n",
       "      <td>женат / замужем</td>\n",
       "      <td>0</td>\n",
       "      <td>F</td>\n",
       "      <td>сотрудник</td>\n",
       "      <td>0</td>\n",
       "      <td>130458.228857</td>\n",
       "      <td>приобретение автомобиля</td>\n",
       "    </tr>\n",
       "    <tr>\n",
       "      <th>14</th>\n",
       "      <td>0</td>\n",
       "      <td>-1844.956182</td>\n",
       "      <td>56</td>\n",
       "      <td>высшее</td>\n",
       "      <td>0</td>\n",
       "      <td>гражданский брак</td>\n",
       "      <td>1</td>\n",
       "      <td>F</td>\n",
       "      <td>компаньон</td>\n",
       "      <td>1</td>\n",
       "      <td>165127.911772</td>\n",
       "      <td>покупка жилой недвижимости</td>\n",
       "    </tr>\n",
       "    <tr>\n",
       "      <th>15</th>\n",
       "      <td>1</td>\n",
       "      <td>-972.364419</td>\n",
       "      <td>26</td>\n",
       "      <td>среднее</td>\n",
       "      <td>1</td>\n",
       "      <td>женат / замужем</td>\n",
       "      <td>0</td>\n",
       "      <td>F</td>\n",
       "      <td>сотрудник</td>\n",
       "      <td>0</td>\n",
       "      <td>116820.904450</td>\n",
       "      <td>строительство собственной недвижимости</td>\n",
       "    </tr>\n",
       "    <tr>\n",
       "      <th>16</th>\n",
       "      <td>0</td>\n",
       "      <td>-1719.934226</td>\n",
       "      <td>35</td>\n",
       "      <td>среднее</td>\n",
       "      <td>1</td>\n",
       "      <td>женат / замужем</td>\n",
       "      <td>0</td>\n",
       "      <td>F</td>\n",
       "      <td>сотрудник</td>\n",
       "      <td>0</td>\n",
       "      <td>289202.704229</td>\n",
       "      <td>недвижимость</td>\n",
       "    </tr>\n",
       "    <tr>\n",
       "      <th>17</th>\n",
       "      <td>0</td>\n",
       "      <td>-2369.999720</td>\n",
       "      <td>33</td>\n",
       "      <td>высшее</td>\n",
       "      <td>0</td>\n",
       "      <td>гражданский брак</td>\n",
       "      <td>1</td>\n",
       "      <td>M</td>\n",
       "      <td>сотрудник</td>\n",
       "      <td>0</td>\n",
       "      <td>90410.586745</td>\n",
       "      <td>строительство недвижимости</td>\n",
       "    </tr>\n",
       "    <tr>\n",
       "      <th>18</th>\n",
       "      <td>0</td>\n",
       "      <td>400281.136913</td>\n",
       "      <td>53</td>\n",
       "      <td>среднее</td>\n",
       "      <td>1</td>\n",
       "      <td>вдовец / вдова</td>\n",
       "      <td>2</td>\n",
       "      <td>F</td>\n",
       "      <td>пенсионер</td>\n",
       "      <td>0</td>\n",
       "      <td>56823.777243</td>\n",
       "      <td>на покупку подержанного автомобиля</td>\n",
       "    </tr>\n",
       "    <tr>\n",
       "      <th>19</th>\n",
       "      <td>0</td>\n",
       "      <td>-10038.818549</td>\n",
       "      <td>48</td>\n",
       "      <td>СРЕДНЕЕ</td>\n",
       "      <td>1</td>\n",
       "      <td>в разводе</td>\n",
       "      <td>3</td>\n",
       "      <td>F</td>\n",
       "      <td>сотрудник</td>\n",
       "      <td>0</td>\n",
       "      <td>242831.107982</td>\n",
       "      <td>на покупку своего автомобиля</td>\n",
       "    </tr>\n",
       "  </tbody>\n",
       "</table>\n",
       "</div>"
      ],
      "text/plain": [
       "    children  days_employed  dob_years            education  education_id  \\\n",
       "0          1   -8437.673028         42               высшее             0   \n",
       "1          1   -4024.803754         36              среднее             1   \n",
       "2          0   -5623.422610         33              Среднее             1   \n",
       "3          3   -4124.747207         32              среднее             1   \n",
       "4          0  340266.072047         53              среднее             1   \n",
       "5          0    -926.185831         27               высшее             0   \n",
       "6          0   -2879.202052         43               высшее             0   \n",
       "7          0    -152.779569         50              СРЕДНЕЕ             1   \n",
       "8          2   -6929.865299         35               ВЫСШЕЕ             0   \n",
       "9          0   -2188.756445         41              среднее             1   \n",
       "10         2   -4171.483647         36               высшее             0   \n",
       "11         0    -792.701887         40              среднее             1   \n",
       "12         0            NaN         65              среднее             1   \n",
       "13         0   -1846.641941         54  неоконченное высшее             2   \n",
       "14         0   -1844.956182         56               высшее             0   \n",
       "15         1    -972.364419         26              среднее             1   \n",
       "16         0   -1719.934226         35              среднее             1   \n",
       "17         0   -2369.999720         33               высшее             0   \n",
       "18         0  400281.136913         53              среднее             1   \n",
       "19         0  -10038.818549         48              СРЕДНЕЕ             1   \n",
       "\n",
       "       family_status  family_status_id gender income_type  debt  \\\n",
       "0    женат / замужем                 0      F   сотрудник     0   \n",
       "1    женат / замужем                 0      F   сотрудник     0   \n",
       "2    женат / замужем                 0      M   сотрудник     0   \n",
       "3    женат / замужем                 0      M   сотрудник     0   \n",
       "4   гражданский брак                 1      F   пенсионер     0   \n",
       "5   гражданский брак                 1      M   компаньон     0   \n",
       "6    женат / замужем                 0      F   компаньон     0   \n",
       "7    женат / замужем                 0      M   сотрудник     0   \n",
       "8   гражданский брак                 1      F   сотрудник     0   \n",
       "9    женат / замужем                 0      M   сотрудник     0   \n",
       "10   женат / замужем                 0      M   компаньон     0   \n",
       "11   женат / замужем                 0      F   сотрудник     0   \n",
       "12  гражданский брак                 1      M   пенсионер     0   \n",
       "13   женат / замужем                 0      F   сотрудник     0   \n",
       "14  гражданский брак                 1      F   компаньон     1   \n",
       "15   женат / замужем                 0      F   сотрудник     0   \n",
       "16   женат / замужем                 0      F   сотрудник     0   \n",
       "17  гражданский брак                 1      M   сотрудник     0   \n",
       "18    вдовец / вдова                 2      F   пенсионер     0   \n",
       "19         в разводе                 3      F   сотрудник     0   \n",
       "\n",
       "     total_income                                 purpose  \n",
       "0   253875.639453                           покупка жилья  \n",
       "1   112080.014102                 приобретение автомобиля  \n",
       "2   145885.952297                           покупка жилья  \n",
       "3   267628.550329              дополнительное образование  \n",
       "4   158616.077870                         сыграть свадьбу  \n",
       "5   255763.565419                           покупка жилья  \n",
       "6   240525.971920                       операции с жильем  \n",
       "7   135823.934197                             образование  \n",
       "8    95856.832424                   на проведение свадьбы  \n",
       "9   144425.938277                 покупка жилья для семьи  \n",
       "10  113943.491460                    покупка недвижимости  \n",
       "11   77069.234271       покупка коммерческой недвижимости  \n",
       "12            NaN                         сыграть свадьбу  \n",
       "13  130458.228857                 приобретение автомобиля  \n",
       "14  165127.911772              покупка жилой недвижимости  \n",
       "15  116820.904450  строительство собственной недвижимости  \n",
       "16  289202.704229                            недвижимость  \n",
       "17   90410.586745              строительство недвижимости  \n",
       "18   56823.777243      на покупку подержанного автомобиля  \n",
       "19  242831.107982            на покупку своего автомобиля  "
      ]
     },
     "execution_count": 2,
     "metadata": {},
     "output_type": "execute_result"
    }
   ],
   "source": [
    "data.head(20)"
   ]
  },
  {
   "attachments": {},
   "cell_type": "markdown",
   "id": "b164df0a",
   "metadata": {
    "deletable": false,
    "editable": false,
    "id": "1c12e233"
   },
   "source": [
    "**Задание 3. Выведите основную информацию о датафрейме с помощью метода `info()`.**"
   ]
  },
  {
   "cell_type": "code",
   "execution_count": 3,
   "id": "16fc1c1e",
   "metadata": {
    "deletable": false,
    "id": "2b757bca",
    "outputId": "15376089-8dad-46c9-b520-c05248d43158"
   },
   "outputs": [
    {
     "name": "stdout",
     "output_type": "stream",
     "text": [
      "<class 'pandas.core.frame.DataFrame'>\n",
      "RangeIndex: 21525 entries, 0 to 21524\n",
      "Data columns (total 12 columns):\n",
      " #   Column            Non-Null Count  Dtype  \n",
      "---  ------            --------------  -----  \n",
      " 0   children          21525 non-null  int64  \n",
      " 1   days_employed     19351 non-null  float64\n",
      " 2   dob_years         21525 non-null  int64  \n",
      " 3   education         21525 non-null  object \n",
      " 4   education_id      21525 non-null  int64  \n",
      " 5   family_status     21525 non-null  object \n",
      " 6   family_status_id  21525 non-null  int64  \n",
      " 7   gender            21525 non-null  object \n",
      " 8   income_type       21525 non-null  object \n",
      " 9   debt              21525 non-null  int64  \n",
      " 10  total_income      19351 non-null  float64\n",
      " 11  purpose           21525 non-null  object \n",
      "dtypes: float64(2), int64(5), object(5)\n",
      "memory usage: 2.0+ MB\n"
     ]
    }
   ],
   "source": [
    "data.info()"
   ]
  },
  {
   "attachments": {},
   "cell_type": "markdown",
   "id": "2ca29420",
   "metadata": {
    "deletable": false,
    "editable": false,
    "id": "333ec665"
   },
   "source": [
    "## Предобработка данных"
   ]
  },
  {
   "attachments": {},
   "cell_type": "markdown",
   "id": "88e3d822",
   "metadata": {
    "deletable": false,
    "editable": false,
    "id": "02d92d53"
   },
   "source": [
    "### Удаление пропусков"
   ]
  },
  {
   "attachments": {},
   "cell_type": "markdown",
   "id": "2f3f222a",
   "metadata": {
    "deletable": false,
    "editable": false,
    "id": "cd84967c"
   },
   "source": [
    "**Задание 4. Выведите количество пропущенных значений для каждого столбца. Используйте комбинацию двух методов.**"
   ]
  },
  {
   "cell_type": "code",
   "execution_count": 4,
   "id": "63869f88",
   "metadata": {
    "deletable": false,
    "id": "7f9b2309",
    "outputId": "81f4d817-781c-465c-ed15-91ce4446810d"
   },
   "outputs": [
    {
     "data": {
      "text/plain": [
       "children               0\n",
       "days_employed       2174\n",
       "dob_years              0\n",
       "education              0\n",
       "education_id           0\n",
       "family_status          0\n",
       "family_status_id       0\n",
       "gender                 0\n",
       "income_type            0\n",
       "debt                   0\n",
       "total_income        2174\n",
       "purpose                0\n",
       "dtype: int64"
      ]
     },
     "execution_count": 4,
     "metadata": {},
     "output_type": "execute_result"
    }
   ],
   "source": [
    "data.isna().sum()"
   ]
  },
  {
   "attachments": {},
   "cell_type": "markdown",
   "id": "04a14f82",
   "metadata": {
    "deletable": false,
    "editable": false,
    "id": "db86e27b"
   },
   "source": [
    "**Задание 5. В двух столбцах есть пропущенные значения. Один из них — `days_employed`. Пропуски в этом столбце вы обработаете на следующем этапе. Другой столбец с пропущенными значениями — `total_income` — хранит данные о доходах. На сумму дохода сильнее всего влияет тип занятости, поэтому заполнить пропуски в этом столбце нужно медианным значением по каждому типу из столбца `income_type`. Например, у человека с типом занятости `сотрудник` пропуск в столбце `total_income` должен быть заполнен медианным доходом среди всех записей с тем же типом.**"
   ]
  },
  {
   "cell_type": "code",
   "execution_count": 5,
   "id": "d5190352",
   "metadata": {
    "deletable": false,
    "id": "42006a93"
   },
   "outputs": [],
   "source": [
    "for t in data['income_type'].unique():\n",
    "    data.loc[(data['income_type'] == t) & (data['total_income'].isna()), 'total_income'] = \\\n",
    "    data.loc[(data['income_type'] == t), 'total_income'].median()"
   ]
  },
  {
   "attachments": {},
   "cell_type": "markdown",
   "id": "0937f8d6",
   "metadata": {
    "deletable": false,
    "editable": false,
    "id": "89da5ece"
   },
   "source": [
    "### Обработка аномальных значений"
   ]
  },
  {
   "attachments": {},
   "cell_type": "markdown",
   "id": "f2dc8c6c",
   "metadata": {
    "deletable": false,
    "editable": false,
    "id": "57964554"
   },
   "source": [
    "**Задание 6. В данных могут встречаться артефакты (аномалии) — значения, которые не отражают действительность и появились по какой-то ошибке. таким артефактом будет отрицательное количество дней трудового стажа в столбце `days_employed`. Для реальных данных это нормально. Обработайте значения в этом столбце: замените все отрицательные значения положительными с помощью метода `abs()`.**"
   ]
  },
  {
   "cell_type": "code",
   "execution_count": 6,
   "id": "a4402f3e",
   "metadata": {
    "deletable": false,
    "id": "f6f055bf"
   },
   "outputs": [],
   "source": [
    "data['days_employed'] = data['days_employed'].abs()"
   ]
  },
  {
   "attachments": {},
   "cell_type": "markdown",
   "id": "94d64579",
   "metadata": {
    "deletable": false,
    "editable": false,
    "id": "6107dd2f"
   },
   "source": [
    "**Задание 7. Для каждого типа занятости выведите медианное значение трудового стажа `days_employed` в днях.**"
   ]
  },
  {
   "cell_type": "code",
   "execution_count": 7,
   "id": "dca90a6f",
   "metadata": {
    "deletable": false,
    "id": "85a5faf6",
    "outputId": "801ef80e-522b-4668-f34e-565af7432bcf"
   },
   "outputs": [
    {
     "data": {
      "text/plain": [
       "income_type\n",
       "безработный        366413.652744\n",
       "в декрете            3296.759962\n",
       "госслужащий          2689.368353\n",
       "компаньон            1547.382223\n",
       "пенсионер          365213.306266\n",
       "предприниматель       520.848083\n",
       "сотрудник            1574.202821\n",
       "студент               578.751554\n",
       "Name: days_employed, dtype: float64"
      ]
     },
     "execution_count": 7,
     "metadata": {},
     "output_type": "execute_result"
    }
   ],
   "source": [
    "data.groupby('income_type')['days_employed'].agg('median')"
   ]
  },
  {
   "attachments": {},
   "cell_type": "markdown",
   "id": "17491a86",
   "metadata": {
    "deletable": false,
    "editable": false,
    "id": "38d1a030"
   },
   "source": [
    "У двух типов (безработные и пенсионеры) получатся аномально большие значения. Исправить такие значения сложно, поэтому оставьте их как есть. Тем более этот столбец не понадобится вам для исследования."
   ]
  },
  {
   "attachments": {},
   "cell_type": "markdown",
   "id": "be1c69a8",
   "metadata": {
    "deletable": false,
    "editable": false,
    "id": "d8a9f147"
   },
   "source": [
    "**Задание 8. Выведите перечень уникальных значений столбца `children`.**"
   ]
  },
  {
   "cell_type": "code",
   "execution_count": 8,
   "id": "5e7ca577",
   "metadata": {
    "deletable": false,
    "id": "ef5056eb",
    "outputId": "6975b15c-7f95-4697-d16d-a0c79b657b03"
   },
   "outputs": [
    {
     "data": {
      "text/plain": [
       "array([ 1,  0,  3,  2, -1,  4, 20,  5])"
      ]
     },
     "execution_count": 8,
     "metadata": {},
     "output_type": "execute_result"
    }
   ],
   "source": [
    "data['children'].unique()"
   ]
  },
  {
   "attachments": {},
   "cell_type": "markdown",
   "id": "d10c332c",
   "metadata": {
    "deletable": false,
    "editable": false,
    "id": "40b9ebf2"
   },
   "source": [
    "**Задание 9. В столбце `children` есть два аномальных значения. Удалите строки, в которых встречаются такие аномальные значения из датафрейма `data`.**"
   ]
  },
  {
   "cell_type": "code",
   "execution_count": 9,
   "id": "ab19d5b0",
   "metadata": {
    "deletable": false,
    "id": "3ff9801d"
   },
   "outputs": [],
   "source": [
    "data = data[(data['children'] != -1) & (data['children'] != 20)]"
   ]
  },
  {
   "attachments": {},
   "cell_type": "markdown",
   "id": "ff66500b",
   "metadata": {
    "deletable": false,
    "editable": false,
    "id": "bbc4d0ce"
   },
   "source": [
    "**Задание 10. Ещё раз выведите перечень уникальных значений столбца `children`, чтобы убедиться, что артефакты удалены.**"
   ]
  },
  {
   "cell_type": "code",
   "execution_count": 10,
   "id": "1731a8b0",
   "metadata": {
    "deletable": false,
    "id": "ad4fa8b7",
    "outputId": "b2097101-d49d-44d9-901b-32a65c9463d1"
   },
   "outputs": [
    {
     "data": {
      "text/plain": [
       "array([1, 0, 3, 2, 4, 5])"
      ]
     },
     "execution_count": 10,
     "metadata": {},
     "output_type": "execute_result"
    }
   ],
   "source": [
    "data['children'].unique()"
   ]
  },
  {
   "attachments": {},
   "cell_type": "markdown",
   "id": "9d44c65d",
   "metadata": {
    "deletable": false,
    "editable": false,
    "id": "75440b63"
   },
   "source": [
    "### Удаление пропусков (продолжение)"
   ]
  },
  {
   "attachments": {},
   "cell_type": "markdown",
   "id": "96d65cba",
   "metadata": {
    "deletable": false,
    "editable": false,
    "id": "f4ea573f"
   },
   "source": [
    "**Задание 11. Заполните пропуски в столбце `days_employed` медианными значениями по каждого типа занятости `income_type`.**"
   ]
  },
  {
   "cell_type": "code",
   "execution_count": 11,
   "id": "51fd146f",
   "metadata": {
    "deletable": false,
    "id": "af6b1a7e"
   },
   "outputs": [],
   "source": [
    "for t in data['income_type'].unique():\n",
    "    data.loc[(data['income_type'] == t) & (data['days_employed'].isna()), 'days_employed'] = \\\n",
    "    data.loc[(data['income_type'] == t), 'days_employed'].median()"
   ]
  },
  {
   "attachments": {},
   "cell_type": "markdown",
   "id": "0d8f1fd8",
   "metadata": {
    "deletable": false,
    "editable": false,
    "id": "2753f40d"
   },
   "source": [
    "**Задание 12. Убедитесь, что все пропуски заполнены. Проверьте себя и ещё раз выведите количество пропущенных значений для каждого столбца с помощью двух методов.**"
   ]
  },
  {
   "cell_type": "code",
   "execution_count": 12,
   "id": "dc5748ce",
   "metadata": {
    "deletable": false,
    "id": "55f78bc2",
    "outputId": "8da1e4e1-358e-4e87-98c9-f261bce0a7b2"
   },
   "outputs": [
    {
     "data": {
      "text/plain": [
       "children            0\n",
       "days_employed       0\n",
       "dob_years           0\n",
       "education           0\n",
       "education_id        0\n",
       "family_status       0\n",
       "family_status_id    0\n",
       "gender              0\n",
       "income_type         0\n",
       "debt                0\n",
       "total_income        0\n",
       "purpose             0\n",
       "dtype: int64"
      ]
     },
     "execution_count": 12,
     "metadata": {},
     "output_type": "execute_result"
    }
   ],
   "source": [
    "data.isna().sum()"
   ]
  },
  {
   "attachments": {},
   "cell_type": "markdown",
   "id": "34cd6c06",
   "metadata": {
    "deletable": false,
    "editable": false,
    "id": "ddc81e43"
   },
   "source": [
    "### Изменение типов данных"
   ]
  },
  {
   "attachments": {},
   "cell_type": "markdown",
   "id": "a544aa28",
   "metadata": {
    "deletable": false,
    "editable": false,
    "id": "42d19d24"
   },
   "source": [
    "**Задание 13. Замените вещественный тип данных в столбце `total_income` на целочисленный с помощью метода `astype()`.**"
   ]
  },
  {
   "cell_type": "code",
   "execution_count": 13,
   "id": "a7e55b29",
   "metadata": {
    "deletable": false,
    "id": "920b65ad"
   },
   "outputs": [],
   "source": [
    "data['total_income'] = data['total_income'].astype(int)"
   ]
  },
  {
   "attachments": {},
   "cell_type": "markdown",
   "id": "7f8056a0",
   "metadata": {
    "deletable": false,
    "editable": false,
    "id": "80c420ba"
   },
   "source": [
    "### Обработка дубликатов"
   ]
  },
  {
   "attachments": {},
   "cell_type": "markdown",
   "id": "7de3bcfa",
   "metadata": {
    "deletable": false,
    "editable": false
   },
   "source": [
    "**Задание 14. Обработайте неявные дубликаты в столбце `education`. В этом столбце есть одни и те же значения, но записанные по-разному: с использованием заглавных и строчных букв. Приведите их к нижнему регистру. Проверьте остальные столбцы.**"
   ]
  },
  {
   "cell_type": "code",
   "execution_count": 14,
   "id": "f291474d",
   "metadata": {
    "deletable": false
   },
   "outputs": [],
   "source": [
    "data['education'] = data['education'].str.lower()"
   ]
  },
  {
   "attachments": {},
   "cell_type": "markdown",
   "id": "acd9623b",
   "metadata": {
    "deletable": false,
    "editable": false,
    "id": "dc587695"
   },
   "source": [
    "**Задание 15. Выведите на экран количество строк-дубликатов в данных. Если такие строки присутствуют, удалите их.**"
   ]
  },
  {
   "cell_type": "code",
   "execution_count": 15,
   "id": "b09c282a",
   "metadata": {
    "deletable": false,
    "id": "3ee445e4",
    "outputId": "9684deba-1934-42d1-99e1-cda61740f822"
   },
   "outputs": [
    {
     "data": {
      "text/plain": [
       "71"
      ]
     },
     "execution_count": 15,
     "metadata": {},
     "output_type": "execute_result"
    }
   ],
   "source": [
    "data.duplicated().sum()"
   ]
  },
  {
   "cell_type": "code",
   "execution_count": 16,
   "id": "df69da67",
   "metadata": {
    "deletable": false,
    "id": "8575fe05"
   },
   "outputs": [],
   "source": [
    "data = data.drop_duplicates()"
   ]
  },
  {
   "attachments": {},
   "cell_type": "markdown",
   "id": "81d520f1",
   "metadata": {
    "deletable": false,
    "editable": false,
    "id": "9904cf55"
   },
   "source": [
    "### Категоризация данных"
   ]
  },
  {
   "attachments": {},
   "cell_type": "markdown",
   "id": "f9bc5af4",
   "metadata": {
    "deletable": false,
    "editable": false,
    "id": "72fcc8a2"
   },
   "source": [
    "**Задание 16. На основании диапазонов, указанных ниже, создайте в датафрейме `data` столбец `total_income_category` с категориями:**\n",
    "\n",
    "- 0–30000 — `'E'`;\n",
    "- 30001–50000 — `'D'`;\n",
    "- 50001–200000 — `'C'`;\n",
    "- 200001–1000000 — `'B'`;\n",
    "- 1000001 и выше — `'A'`.\n",
    "\n",
    "\n",
    "**Например, кредитополучателю с доходом 25000 нужно назначить категорию `'E'`, а клиенту, получающему 235000, — `'B'`. Используйте собственную функцию с именем `categorize_income()` и метод `apply()`.**"
   ]
  },
  {
   "cell_type": "code",
   "execution_count": 17,
   "id": "2dd7da25",
   "metadata": {
    "deletable": false,
    "id": "e1771346"
   },
   "outputs": [],
   "source": [
    "def categorize_income(income):\n",
    "    try:\n",
    "        if 0 <= income <= 30000:\n",
    "            return 'E'\n",
    "        elif 30001 <= income <= 50000:\n",
    "            return 'D'\n",
    "        elif 50001 <= income <= 200000:\n",
    "            return 'C'\n",
    "        elif 200001 <= income <= 1000000:\n",
    "            return 'B'\n",
    "        elif income >= 1000001:\n",
    "            return 'A'\n",
    "    except:\n",
    "        pass"
   ]
  },
  {
   "cell_type": "code",
   "execution_count": 18,
   "id": "95a7a07d",
   "metadata": {
    "deletable": false,
    "id": "d5f3586d"
   },
   "outputs": [],
   "source": [
    "data['total_income_category'] = data['total_income'].apply(categorize_income)"
   ]
  },
  {
   "attachments": {},
   "cell_type": "markdown",
   "id": "a7081323",
   "metadata": {
    "deletable": false,
    "editable": false,
    "id": "dde49b5c"
   },
   "source": [
    "**Задание 17. Выведите на экран перечень уникальных целей взятия кредита из столбца `purpose`.**"
   ]
  },
  {
   "cell_type": "code",
   "execution_count": 19,
   "id": "2d049895",
   "metadata": {
    "deletable": false,
    "id": "f67ce9b3",
    "outputId": "673c12d9-7d7e-4ae0-9812-c622c89dd244"
   },
   "outputs": [
    {
     "data": {
      "text/plain": [
       "array(['покупка жилья', 'приобретение автомобиля',\n",
       "       'дополнительное образование', 'сыграть свадьбу',\n",
       "       'операции с жильем', 'образование', 'на проведение свадьбы',\n",
       "       'покупка жилья для семьи', 'покупка недвижимости',\n",
       "       'покупка коммерческой недвижимости', 'покупка жилой недвижимости',\n",
       "       'строительство собственной недвижимости', 'недвижимость',\n",
       "       'строительство недвижимости', 'на покупку подержанного автомобиля',\n",
       "       'на покупку своего автомобиля',\n",
       "       'операции с коммерческой недвижимостью',\n",
       "       'строительство жилой недвижимости', 'жилье',\n",
       "       'операции со своей недвижимостью', 'автомобили',\n",
       "       'заняться образованием', 'сделка с подержанным автомобилем',\n",
       "       'получение образования', 'автомобиль', 'свадьба',\n",
       "       'получение дополнительного образования', 'покупка своего жилья',\n",
       "       'операции с недвижимостью', 'получение высшего образования',\n",
       "       'свой автомобиль', 'сделка с автомобилем',\n",
       "       'профильное образование', 'высшее образование',\n",
       "       'покупка жилья для сдачи', 'на покупку автомобиля', 'ремонт жилью',\n",
       "       'заняться высшим образованием'], dtype=object)"
      ]
     },
     "execution_count": 19,
     "metadata": {},
     "output_type": "execute_result"
    }
   ],
   "source": [
    "data['purpose'].unique()"
   ]
  },
  {
   "attachments": {},
   "cell_type": "markdown",
   "id": "9d2af52c",
   "metadata": {
    "deletable": false,
    "editable": false,
    "id": "85d0aef0"
   },
   "source": [
    "**Задание 18. Создайте функцию, которая на основании данных из столбца `purpose` сформирует новый столбец `purpose_category`, в который войдут следующие категории:**\n",
    "\n",
    "- `'операции с автомобилем'`,\n",
    "- `'операции с недвижимостью'`,\n",
    "- `'проведение свадьбы'`,\n",
    "- `'получение образования'`.\n",
    "\n",
    "**Например, если в столбце `purpose` находится подстрока `'на покупку автомобиля'`, то в столбце `purpose_category` должна появиться строка `'операции с автомобилем'`.**\n",
    "\n",
    "**Используйте собственную функцию с именем `categorize_purpose()` и метод `apply()`. Изучите данные в столбце `purpose` и определите, какие подстроки помогут вам правильно определить категорию.**"
   ]
  },
  {
   "cell_type": "code",
   "execution_count": 20,
   "id": "8b52c87f",
   "metadata": {
    "deletable": false,
    "id": "e149fab4"
   },
   "outputs": [],
   "source": [
    "def categorize_purpose(row):\n",
    "    try:\n",
    "        if 'автом' in row:\n",
    "            return 'операции с автомобилем'\n",
    "        elif 'жил' in row or 'недвиж' in row:\n",
    "            return 'операции с недвижимостью'\n",
    "        elif 'свад' in row:\n",
    "            return 'проведение свадьбы'\n",
    "        elif 'образов' in row:\n",
    "            return 'получение образования'\n",
    "    except:\n",
    "        return 'нет категории'"
   ]
  },
  {
   "cell_type": "code",
   "execution_count": 21,
   "id": "2ccb5422",
   "metadata": {
    "deletable": false,
    "id": "bf36e69b"
   },
   "outputs": [],
   "source": [
    "data['purpose_category'] = data['purpose'].apply(categorize_purpose)"
   ]
  },
  {
   "attachments": {},
   "cell_type": "markdown",
   "id": "e6337622",
   "metadata": {
    "deletable": false,
    "editable": false,
    "id": "09b242bf"
   },
   "source": [
    "### Шаг 3. Исследуйте данные и ответьте на вопросы"
   ]
  },
  {
   "attachments": {},
   "cell_type": "markdown",
   "id": "e52acf6e",
   "metadata": {
    "deletable": false,
    "editable": false,
    "id": "c5d66278"
   },
   "source": [
    "#### 3.1 Есть ли зависимость между количеством детей и возвратом кредита в срок?"
   ]
  },
  {
   "cell_type": "code",
   "execution_count": 22,
   "id": "e4a5c13a",
   "metadata": {
    "deletable": false,
    "id": "2cacfc4a"
   },
   "outputs": [
    {
     "data": {
      "text/html": [
       "<div>\n",
       "<style scoped>\n",
       "    .dataframe tbody tr th:only-of-type {\n",
       "        vertical-align: middle;\n",
       "    }\n",
       "\n",
       "    .dataframe tbody tr th {\n",
       "        vertical-align: top;\n",
       "    }\n",
       "\n",
       "    .dataframe thead th {\n",
       "        text-align: right;\n",
       "    }\n",
       "</style>\n",
       "<table border=\"1\" class=\"dataframe\">\n",
       "  <thead>\n",
       "    <tr style=\"text-align: right;\">\n",
       "      <th></th>\n",
       "      <th>Количество клиентов</th>\n",
       "      <th>Среднее значение</th>\n",
       "    </tr>\n",
       "    <tr>\n",
       "      <th>Количество детей</th>\n",
       "      <th></th>\n",
       "      <th></th>\n",
       "    </tr>\n",
       "  </thead>\n",
       "  <tbody>\n",
       "    <tr>\n",
       "      <th>0</th>\n",
       "      <td>14091</td>\n",
       "      <td>0.075438</td>\n",
       "    </tr>\n",
       "    <tr>\n",
       "      <th>1</th>\n",
       "      <td>4808</td>\n",
       "      <td>0.092346</td>\n",
       "    </tr>\n",
       "    <tr>\n",
       "      <th>2</th>\n",
       "      <td>2052</td>\n",
       "      <td>0.094542</td>\n",
       "    </tr>\n",
       "    <tr>\n",
       "      <th>3</th>\n",
       "      <td>330</td>\n",
       "      <td>0.081818</td>\n",
       "    </tr>\n",
       "    <tr>\n",
       "      <th>4</th>\n",
       "      <td>41</td>\n",
       "      <td>0.097561</td>\n",
       "    </tr>\n",
       "    <tr>\n",
       "      <th>5</th>\n",
       "      <td>9</td>\n",
       "      <td>0.000000</td>\n",
       "    </tr>\n",
       "  </tbody>\n",
       "</table>\n",
       "</div>"
      ],
      "text/plain": [
       "                  Количество клиентов  Среднее значение\n",
       "Количество детей                                       \n",
       "0                               14091          0.075438\n",
       "1                                4808          0.092346\n",
       "2                                2052          0.094542\n",
       "3                                 330          0.081818\n",
       "4                                  41          0.097561\n",
       "5                                   9          0.000000"
      ]
     },
     "metadata": {},
     "output_type": "display_data"
    }
   ],
   "source": [
    "data_renamed = data.rename(columns={'children':'Количество детей', \n",
    "                                    'debt':'невозврат кредита в срок', \n",
    "                                    'family_status':'Гражданское состояние',\n",
    "                                    'total_income_category':'Категория дохода',\n",
    "                                    'purpose_category':'Цели кредита'})\n",
    "\n",
    "def pivot_plot(data, values, index):\n",
    "    data = pd.pivot_table(data, values=values, index=index, aggfunc=['count', 'mean'])\n",
    "    data = data.rename(columns={'count':'Количество клиентов', 'mean':'Среднее значение'}).droplevel(1,axis=1)\n",
    "    display(data)\n",
    "\n",
    "\n",
    "pivot_plot(data_renamed, 'невозврат кредита в срок', 'Количество детей')"
   ]
  },
  {
   "attachments": {},
   "cell_type": "markdown",
   "id": "9cece004",
   "metadata": {
    "deletable": false,
    "id": "3a6b99ec"
   },
   "source": [
    "**Вывод: Количество данных о клиентах с тремя и более детьми недостаточно для корректных выводов.  На основе остальных данных можно сделать вывод, что наличие детей увеличивает вероятность невозврата кредита в срок, так как среднее значение по не возвратам выше чем у клиентов без детей.** "
   ]
  },
  {
   "attachments": {},
   "cell_type": "markdown",
   "id": "ba212c94",
   "metadata": {
    "deletable": false,
    "editable": false,
    "id": "97be82ca"
   },
   "source": [
    "#### 3.2 Есть ли зависимость между семейным положением и возвратом кредита в срок?"
   ]
  },
  {
   "cell_type": "code",
   "execution_count": 23,
   "id": "5dc25e54",
   "metadata": {
    "deletable": false,
    "id": "dc3f7ee8"
   },
   "outputs": [
    {
     "data": {
      "text/html": [
       "<div>\n",
       "<style scoped>\n",
       "    .dataframe tbody tr th:only-of-type {\n",
       "        vertical-align: middle;\n",
       "    }\n",
       "\n",
       "    .dataframe tbody tr th {\n",
       "        vertical-align: top;\n",
       "    }\n",
       "\n",
       "    .dataframe thead th {\n",
       "        text-align: right;\n",
       "    }\n",
       "</style>\n",
       "<table border=\"1\" class=\"dataframe\">\n",
       "  <thead>\n",
       "    <tr style=\"text-align: right;\">\n",
       "      <th></th>\n",
       "      <th>Количество клиентов</th>\n",
       "      <th>Среднее значение</th>\n",
       "    </tr>\n",
       "    <tr>\n",
       "      <th>Гражданское состояние</th>\n",
       "      <th></th>\n",
       "      <th></th>\n",
       "    </tr>\n",
       "  </thead>\n",
       "  <tbody>\n",
       "    <tr>\n",
       "      <th>Не женат / не замужем</th>\n",
       "      <td>2796</td>\n",
       "      <td>0.097639</td>\n",
       "    </tr>\n",
       "    <tr>\n",
       "      <th>в разводе</th>\n",
       "      <td>1189</td>\n",
       "      <td>0.070648</td>\n",
       "    </tr>\n",
       "    <tr>\n",
       "      <th>вдовец / вдова</th>\n",
       "      <td>951</td>\n",
       "      <td>0.066246</td>\n",
       "    </tr>\n",
       "    <tr>\n",
       "      <th>гражданский брак</th>\n",
       "      <td>4134</td>\n",
       "      <td>0.093130</td>\n",
       "    </tr>\n",
       "    <tr>\n",
       "      <th>женат / замужем</th>\n",
       "      <td>12261</td>\n",
       "      <td>0.075606</td>\n",
       "    </tr>\n",
       "  </tbody>\n",
       "</table>\n",
       "</div>"
      ],
      "text/plain": [
       "                       Количество клиентов  Среднее значение\n",
       "Гражданское состояние                                       \n",
       "Не женат / не замужем                 2796          0.097639\n",
       "в разводе                             1189          0.070648\n",
       "вдовец / вдова                         951          0.066246\n",
       "гражданский брак                      4134          0.093130\n",
       "женат / замужем                      12261          0.075606"
      ]
     },
     "metadata": {},
     "output_type": "display_data"
    }
   ],
   "source": [
    "pivot_plot(data_renamed, 'невозврат кредита в срок', 'Гражданское состояние')"
   ]
  },
  {
   "attachments": {},
   "cell_type": "markdown",
   "id": "a7385c9c",
   "metadata": {
    "deletable": false,
    "id": "1cef7837"
   },
   "source": [
    "**Вывод: Клиенты находящиеся в браке или в разводе - более ответственны в плане выплат кредита. Информации по вдовцам или вдовам меньше, чем остальных, и поэтому сложно утверждать, что они самые благонадежные.** "
   ]
  },
  {
   "attachments": {},
   "cell_type": "markdown",
   "id": "ff8ce5e4",
   "metadata": {
    "deletable": false,
    "editable": false,
    "id": "1e8b2fca"
   },
   "source": [
    "#### 3.3 Есть ли зависимость между уровнем дохода и возвратом кредита в срок?"
   ]
  },
  {
   "cell_type": "code",
   "execution_count": 24,
   "id": "efffa617",
   "metadata": {
    "deletable": false,
    "id": "cd7e3720"
   },
   "outputs": [
    {
     "data": {
      "text/html": [
       "<div>\n",
       "<style scoped>\n",
       "    .dataframe tbody tr th:only-of-type {\n",
       "        vertical-align: middle;\n",
       "    }\n",
       "\n",
       "    .dataframe tbody tr th {\n",
       "        vertical-align: top;\n",
       "    }\n",
       "\n",
       "    .dataframe thead th {\n",
       "        text-align: right;\n",
       "    }\n",
       "</style>\n",
       "<table border=\"1\" class=\"dataframe\">\n",
       "  <thead>\n",
       "    <tr style=\"text-align: right;\">\n",
       "      <th></th>\n",
       "      <th>Количество клиентов</th>\n",
       "      <th>Среднее значение</th>\n",
       "    </tr>\n",
       "    <tr>\n",
       "      <th>Категория дохода</th>\n",
       "      <th></th>\n",
       "      <th></th>\n",
       "    </tr>\n",
       "  </thead>\n",
       "  <tbody>\n",
       "    <tr>\n",
       "      <th>A</th>\n",
       "      <td>25</td>\n",
       "      <td>0.080000</td>\n",
       "    </tr>\n",
       "    <tr>\n",
       "      <th>B</th>\n",
       "      <td>5014</td>\n",
       "      <td>0.070602</td>\n",
       "    </tr>\n",
       "    <tr>\n",
       "      <th>C</th>\n",
       "      <td>15921</td>\n",
       "      <td>0.084982</td>\n",
       "    </tr>\n",
       "    <tr>\n",
       "      <th>D</th>\n",
       "      <td>349</td>\n",
       "      <td>0.060172</td>\n",
       "    </tr>\n",
       "    <tr>\n",
       "      <th>E</th>\n",
       "      <td>22</td>\n",
       "      <td>0.090909</td>\n",
       "    </tr>\n",
       "  </tbody>\n",
       "</table>\n",
       "</div>"
      ],
      "text/plain": [
       "                  Количество клиентов  Среднее значение\n",
       "Категория дохода                                       \n",
       "A                                  25          0.080000\n",
       "B                                5014          0.070602\n",
       "C                               15921          0.084982\n",
       "D                                 349          0.060172\n",
       "E                                  22          0.090909"
      ]
     },
     "metadata": {},
     "output_type": "display_data"
    }
   ],
   "source": [
    "pivot_plot(data_renamed, 'невозврат кредита в срок', 'Категория дохода')"
   ]
  },
  {
   "attachments": {},
   "cell_type": "markdown",
   "id": "75aa1052",
   "metadata": {
    "deletable": false,
    "id": "e8593def"
   },
   "source": [
    "**Вывод: Количество данных о клиентах с категорией доходов A, D, E недостаточно для корректных выводов.  На основе остальных данных можно сделать вывод, что меньший достаток увеличивает вероятность невозврата кредита в срок, так как среднее значение по не возвратам выше чем у остальных категорий достатка.** "
   ]
  },
  {
   "attachments": {},
   "cell_type": "markdown",
   "id": "7c898412",
   "metadata": {
    "deletable": false,
    "editable": false,
    "id": "99ecbd1f"
   },
   "source": [
    "#### 3.4 Как разные цели кредита влияют на его возврат в срок?"
   ]
  },
  {
   "cell_type": "code",
   "execution_count": 25,
   "id": "bb15b798",
   "metadata": {
    "deletable": false,
    "id": "2b687290"
   },
   "outputs": [
    {
     "data": {
      "text/html": [
       "<div>\n",
       "<style scoped>\n",
       "    .dataframe tbody tr th:only-of-type {\n",
       "        vertical-align: middle;\n",
       "    }\n",
       "\n",
       "    .dataframe tbody tr th {\n",
       "        vertical-align: top;\n",
       "    }\n",
       "\n",
       "    .dataframe thead th {\n",
       "        text-align: right;\n",
       "    }\n",
       "</style>\n",
       "<table border=\"1\" class=\"dataframe\">\n",
       "  <thead>\n",
       "    <tr style=\"text-align: right;\">\n",
       "      <th></th>\n",
       "      <th>Количество клиентов</th>\n",
       "      <th>Среднее значение</th>\n",
       "    </tr>\n",
       "    <tr>\n",
       "      <th>Цели кредита</th>\n",
       "      <th></th>\n",
       "      <th></th>\n",
       "    </tr>\n",
       "  </thead>\n",
       "  <tbody>\n",
       "    <tr>\n",
       "      <th>операции с автомобилем</th>\n",
       "      <td>4279</td>\n",
       "      <td>0.093480</td>\n",
       "    </tr>\n",
       "    <tr>\n",
       "      <th>операции с недвижимостью</th>\n",
       "      <td>10751</td>\n",
       "      <td>0.072551</td>\n",
       "    </tr>\n",
       "    <tr>\n",
       "      <th>получение образования</th>\n",
       "      <td>3988</td>\n",
       "      <td>0.092528</td>\n",
       "    </tr>\n",
       "    <tr>\n",
       "      <th>проведение свадьбы</th>\n",
       "      <td>2313</td>\n",
       "      <td>0.079118</td>\n",
       "    </tr>\n",
       "  </tbody>\n",
       "</table>\n",
       "</div>"
      ],
      "text/plain": [
       "                          Количество клиентов  Среднее значение\n",
       "Цели кредита                                                   \n",
       "операции с автомобилем                   4279          0.093480\n",
       "операции с недвижимостью                10751          0.072551\n",
       "получение образования                    3988          0.092528\n",
       "проведение свадьбы                       2313          0.079118"
      ]
     },
     "metadata": {},
     "output_type": "display_data"
    }
   ],
   "source": [
    "pivot_plot(data_renamed, 'невозврат кредита в срок', 'Цели кредита')"
   ]
  },
  {
   "attachments": {},
   "cell_type": "markdown",
   "id": "d5dae7f9",
   "metadata": {
    "deletable": false,
    "id": "b4bb2ce6"
   },
   "source": [
    "**Вывод: Клиенты взявшие кредит на операциям с недвижимостью или провведения свадьбы реже пропускают дату платежа по кредиту, чем остальные клиенты.** "
   ]
  },
  {
   "attachments": {},
   "cell_type": "markdown",
   "id": "6f461856",
   "metadata": {
    "deletable": false,
    "editable": false,
    "id": "09c3ac4c"
   },
   "source": [
    "#### 3.5 Приведите возможные причины появления пропусков в исходных данных."
   ]
  },
  {
   "attachments": {},
   "cell_type": "markdown",
   "id": "148a8fd2",
   "metadata": {
    "deletable": false,
    "id": "9da2ceda"
   },
   "source": [
    "**Ответ: Клиенты затруднялись или не хотели указывать свой стаж или уровень заработка. Также в каких-то случаях это могло не требоваться банком. Могли возникнуть и технические проблемы при внесении данных в БД или же на этапе выгрузки данных из БД для их анализа.** "
   ]
  },
  {
   "attachments": {},
   "cell_type": "markdown",
   "id": "e1cda0fb",
   "metadata": {
    "deletable": false,
    "editable": false,
    "id": "7b0487d6"
   },
   "source": [
    "#### 3.6 Объясните, почему заполнить пропуски медианным значением — лучшее решение для количественных переменных."
   ]
  },
  {
   "attachments": {},
   "cell_type": "markdown",
   "id": "a62b695f",
   "metadata": {
    "deletable": false,
    "id": "7ecf2b8e"
   },
   "source": [
    "**Ответ: При наличии выбросов в данных, среднее значение хуже отображает состояние исследуемого параметра. Медианное значение меньше зависит от выбросов в данных.**"
   ]
  },
  {
   "attachments": {},
   "cell_type": "markdown",
   "id": "4ab1ef44",
   "metadata": {
    "deletable": false,
    "editable": false,
    "id": "6db5255a"
   },
   "source": [
    "### Шаг 4: общий вывод."
   ]
  },
  {
   "cell_type": "code",
   "execution_count": 26,
   "id": "fa9af25c",
   "metadata": {},
   "outputs": [
    {
     "data": {
      "text/plain": [
       "<AxesSubplot:xlabel='Количество детей', ylabel='Цели кредита-Категория дохода'>"
      ]
     },
     "execution_count": 26,
     "metadata": {},
     "output_type": "execute_result"
    },
    {
     "data": {
      "image/png": "[encoded data removed]",
      "text/plain": [
       "<Figure size 432x288 with 2 Axes>"
      ]
     },
     "metadata": {
      "needs_background": "light"
     },
     "output_type": "display_data"
    }
   ],
   "source": [
    "data_filtered = data_renamed[(data_renamed['Категория дохода'] == 'B') | (data_renamed['Категория дохода'] == 'C')]\n",
    "data_filtered = data_filtered[data_filtered['Количество детей'] < 3]\n",
    "data_heat = pd.pivot_table(data_filtered, values='невозврат кредита в срок', index=['Цели кредита', 'Категория дохода'], columns='Количество детей', aggfunc='mean')\n",
    "\n",
    "import seaborn as sns\n",
    "\n",
    "sns.heatmap(data_heat, annot = True, fmt ='.3g')"
   ]
  },
  {
   "attachments": {},
   "cell_type": "markdown",
   "id": "3ffca6d6",
   "metadata": {},
   "source": [
    "**Диаграмма зависимости среднего значения невозврата кредита в срок от целей кредита, достатка и количества детей клиента**"
   ]
  },
  {
   "attachments": {},
   "cell_type": "markdown",
   "id": "6eeba117",
   "metadata": {},
   "source": [
    "Наименьшие среднее значение невозврата кредита в срок у клиентов с высоким достатком и с детьми, которые взяли на проведение свадьбы. Однако, данных недостаточно для того, чтобы это утверждать."
   ]
  },
  {
   "attachments": {},
   "cell_type": "markdown",
   "id": "7ee7d704",
   "metadata": {
    "deletable": false,
    "id": "bad65432"
   },
   "source": [
    "**По результатам исследования:**\n",
    "- Клиенты имеющие детей чаще пропускают срок внесения платежей по кредиту\n",
    "- Клиенты с высоким достатком реже пропускают срок внесения платежей по кредиту\n",
    "- Клиенты находящиеся в браке или в разводе - более ответственны в плане выплат кредита\n",
    "- Клиенты берущие кредит на покупку недвижимости или проведение свадьбы реже пропускают срок внесения платежей по кредиту\n",
    "- Наиболее рисковый клиент тот, кто собирается купить автомобиль или получить образование и имеет при этом детей\n",
    "- Наименее рисковый клиент тот, кто собирается приобрести недвижимость или провести свадьбу, без детей и с высоким достатком"
   ]
  }
 ],
 "metadata": {
  "ExecuteTimeLog": [
   {
    "duration": 453,
    "start_time": "2022-10-23T19:54:41.786Z"
   },
   {
    "duration": 494,
    "start_time": "2022-10-23T19:54:48.628Z"
   },
   {
    "duration": 21,
    "start_time": "2022-10-23T19:54:49.124Z"
   },
   {
    "duration": 25,
    "start_time": "2022-10-23T19:54:49.146Z"
   },
   {
    "duration": 20,
    "start_time": "2022-10-23T19:54:49.173Z"
   },
   {
    "duration": 58,
    "start_time": "2022-10-23T19:54:49.194Z"
   },
   {
    "duration": 3,
    "start_time": "2022-10-23T19:54:49.253Z"
   },
   {
    "duration": 24,
    "start_time": "2022-10-23T19:54:49.258Z"
   },
   {
    "duration": 28,
    "start_time": "2022-10-23T19:54:49.284Z"
   },
   {
    "duration": 33,
    "start_time": "2022-10-23T19:54:49.314Z"
   },
   {
    "duration": 13,
    "start_time": "2022-10-23T19:54:49.350Z"
   },
   {
    "duration": 54,
    "start_time": "2022-10-23T19:54:49.364Z"
   },
   {
    "duration": 10,
    "start_time": "2022-10-23T19:54:49.419Z"
   },
   {
    "duration": 17,
    "start_time": "2022-10-23T19:54:49.430Z"
   },
   {
    "duration": 28,
    "start_time": "2022-10-23T19:54:49.448Z"
   },
   {
    "duration": 18,
    "start_time": "2022-10-23T19:54:49.477Z"
   },
   {
    "duration": 23,
    "start_time": "2022-10-23T19:54:49.497Z"
   },
   {
    "duration": 4,
    "start_time": "2022-10-23T19:54:49.521Z"
   },
   {
    "duration": 43,
    "start_time": "2022-10-23T19:54:49.526Z"
   },
   {
    "duration": 13,
    "start_time": "2022-10-23T19:54:49.571Z"
   },
   {
    "duration": 27,
    "start_time": "2022-10-23T19:54:49.586Z"
   },
   {
    "duration": 21,
    "start_time": "2022-10-23T19:54:49.615Z"
   },
   {
    "duration": 15,
    "start_time": "2022-10-23T19:54:49.638Z"
   },
   {
    "duration": 13,
    "start_time": "2022-10-23T19:54:49.655Z"
   },
   {
    "duration": 16,
    "start_time": "2022-10-23T19:54:49.669Z"
   },
   {
    "duration": 28,
    "start_time": "2022-10-23T19:54:49.687Z"
   },
   {
    "duration": 3,
    "start_time": "2022-10-23T20:01:47.906Z"
   },
   {
    "duration": 4,
    "start_time": "2022-10-23T20:02:43.268Z"
   },
   {
    "duration": 3,
    "start_time": "2022-10-23T20:04:13.756Z"
   },
   {
    "duration": 400,
    "start_time": "2022-10-23T20:04:46.678Z"
   },
   {
    "duration": 21,
    "start_time": "2022-10-23T20:04:47.080Z"
   },
   {
    "duration": 21,
    "start_time": "2022-10-23T20:04:47.102Z"
   },
   {
    "duration": 9,
    "start_time": "2022-10-23T20:04:47.125Z"
   },
   {
    "duration": 31,
    "start_time": "2022-10-23T20:04:47.136Z"
   },
   {
    "duration": 3,
    "start_time": "2022-10-23T20:04:47.168Z"
   },
   {
    "duration": 11,
    "start_time": "2022-10-23T20:04:47.173Z"
   },
   {
    "duration": 4,
    "start_time": "2022-10-23T20:04:47.185Z"
   },
   {
    "duration": 36,
    "start_time": "2022-10-23T20:04:47.191Z"
   },
   {
    "duration": 4,
    "start_time": "2022-10-23T20:04:47.230Z"
   },
   {
    "duration": 33,
    "start_time": "2022-10-23T20:04:47.236Z"
   },
   {
    "duration": 15,
    "start_time": "2022-10-23T20:04:47.271Z"
   },
   {
    "duration": 3,
    "start_time": "2022-10-23T20:04:47.288Z"
   },
   {
    "duration": 41,
    "start_time": "2022-10-23T20:04:47.292Z"
   },
   {
    "duration": 20,
    "start_time": "2022-10-23T20:04:47.334Z"
   },
   {
    "duration": 15,
    "start_time": "2022-10-23T20:04:47.356Z"
   },
   {
    "duration": 4,
    "start_time": "2022-10-23T20:04:47.372Z"
   },
   {
    "duration": 18,
    "start_time": "2022-10-23T20:04:47.377Z"
   },
   {
    "duration": 29,
    "start_time": "2022-10-23T20:04:47.397Z"
   },
   {
    "duration": 4,
    "start_time": "2022-10-23T20:04:47.428Z"
   },
   {
    "duration": 16,
    "start_time": "2022-10-23T20:04:47.434Z"
   },
   {
    "duration": 4,
    "start_time": "2022-10-23T20:04:47.451Z"
   },
   {
    "duration": 21,
    "start_time": "2022-10-23T20:04:47.456Z"
   },
   {
    "duration": 10,
    "start_time": "2022-10-23T20:04:47.479Z"
   },
   {
    "duration": 6,
    "start_time": "2022-10-23T20:04:47.491Z"
   },
   {
    "duration": 4,
    "start_time": "2022-10-23T20:04:51.269Z"
   },
   {
    "duration": 56,
    "start_time": "2022-10-23T20:05:03.149Z"
   },
   {
    "duration": 14,
    "start_time": "2022-10-23T20:05:05.125Z"
   },
   {
    "duration": 14,
    "start_time": "2022-10-23T20:05:10.522Z"
   },
   {
    "duration": 13,
    "start_time": "2022-10-23T20:05:26.745Z"
   },
   {
    "duration": 69,
    "start_time": "2022-10-23T20:05:57.536Z"
   },
   {
    "duration": 15,
    "start_time": "2022-10-23T20:06:13.899Z"
   },
   {
    "duration": 14,
    "start_time": "2022-10-23T20:06:29.532Z"
   },
   {
    "duration": 15,
    "start_time": "2022-10-23T20:09:22.805Z"
   },
   {
    "duration": 15,
    "start_time": "2022-10-23T20:10:59.825Z"
   },
   {
    "duration": 425,
    "start_time": "2022-10-23T20:12:22.962Z"
   },
   {
    "duration": 24,
    "start_time": "2022-10-23T20:12:23.389Z"
   },
   {
    "duration": 14,
    "start_time": "2022-10-23T20:12:23.415Z"
   },
   {
    "duration": 9,
    "start_time": "2022-10-23T20:12:23.431Z"
   },
   {
    "duration": 40,
    "start_time": "2022-10-23T20:12:23.442Z"
   },
   {
    "duration": 3,
    "start_time": "2022-10-23T20:12:23.484Z"
   },
   {
    "duration": 14,
    "start_time": "2022-10-23T20:12:23.489Z"
   },
   {
    "duration": 22,
    "start_time": "2022-10-23T20:12:23.505Z"
   },
   {
    "duration": 21,
    "start_time": "2022-10-23T20:12:23.529Z"
   },
   {
    "duration": 5,
    "start_time": "2022-10-23T20:12:23.553Z"
   },
   {
    "duration": 44,
    "start_time": "2022-10-23T20:12:23.560Z"
   },
   {
    "duration": 17,
    "start_time": "2022-10-23T20:12:23.606Z"
   },
   {
    "duration": 4,
    "start_time": "2022-10-23T20:12:23.625Z"
   },
   {
    "duration": 21,
    "start_time": "2022-10-23T20:12:23.631Z"
   },
   {
    "duration": 28,
    "start_time": "2022-10-23T20:12:23.654Z"
   },
   {
    "duration": 38,
    "start_time": "2022-10-23T20:12:23.684Z"
   },
   {
    "duration": 4,
    "start_time": "2022-10-23T20:12:23.724Z"
   },
   {
    "duration": 14,
    "start_time": "2022-10-23T20:12:23.730Z"
   },
   {
    "duration": 5,
    "start_time": "2022-10-23T20:12:23.746Z"
   },
   {
    "duration": 7,
    "start_time": "2022-10-23T20:12:23.753Z"
   },
   {
    "duration": 11,
    "start_time": "2022-10-23T20:12:23.762Z"
   },
   {
    "duration": 25,
    "start_time": "2022-10-23T20:12:23.774Z"
   },
   {
    "duration": 21,
    "start_time": "2022-10-23T20:12:23.801Z"
   },
   {
    "duration": 3,
    "start_time": "2022-10-23T20:12:23.824Z"
   },
   {
    "duration": 13,
    "start_time": "2022-10-23T20:12:23.828Z"
   },
   {
    "duration": 16,
    "start_time": "2022-10-23T20:12:29.124Z"
   },
   {
    "duration": 19,
    "start_time": "2022-10-23T20:13:03.449Z"
   },
   {
    "duration": 20,
    "start_time": "2022-10-23T20:13:20.381Z"
   },
   {
    "duration": 28,
    "start_time": "2022-10-23T20:13:44.913Z"
   },
   {
    "duration": 8,
    "start_time": "2022-10-23T20:14:55.195Z"
   },
   {
    "duration": 8,
    "start_time": "2022-10-23T20:15:14.325Z"
   },
   {
    "duration": 76,
    "start_time": "2022-10-23T20:18:42.223Z"
   },
   {
    "duration": 37,
    "start_time": "2022-10-23T20:19:15.450Z"
   },
   {
    "duration": 9,
    "start_time": "2022-10-23T20:21:00.565Z"
   },
   {
    "duration": 10,
    "start_time": "2022-10-23T20:21:59.667Z"
   },
   {
    "duration": 21,
    "start_time": "2022-10-23T20:23:22.261Z"
   },
   {
    "duration": 19,
    "start_time": "2022-10-23T20:23:53.195Z"
   },
   {
    "duration": 9,
    "start_time": "2022-10-23T20:24:32.668Z"
   },
   {
    "duration": 9,
    "start_time": "2022-10-23T20:26:56.227Z"
   },
   {
    "duration": 10,
    "start_time": "2022-10-23T20:27:23.814Z"
   },
   {
    "duration": 8,
    "start_time": "2022-10-23T20:28:29.468Z"
   },
   {
    "duration": 7,
    "start_time": "2022-10-23T20:30:57.445Z"
   },
   {
    "duration": 7,
    "start_time": "2022-10-23T20:31:04.537Z"
   },
   {
    "duration": 8,
    "start_time": "2022-10-23T20:33:25.686Z"
   },
   {
    "duration": 8,
    "start_time": "2022-10-23T20:34:27.454Z"
   },
   {
    "duration": 592,
    "start_time": "2022-10-26T19:28:04.595Z"
   },
   {
    "duration": 23,
    "start_time": "2022-10-26T19:28:05.189Z"
   },
   {
    "duration": 16,
    "start_time": "2022-10-26T19:28:05.214Z"
   },
   {
    "duration": 11,
    "start_time": "2022-10-26T19:28:05.232Z"
   },
   {
    "duration": 39,
    "start_time": "2022-10-26T19:28:05.244Z"
   },
   {
    "duration": 5,
    "start_time": "2022-10-26T19:28:05.285Z"
   },
   {
    "duration": 39,
    "start_time": "2022-10-26T19:28:05.292Z"
   },
   {
    "duration": 5,
    "start_time": "2022-10-26T19:28:05.332Z"
   },
   {
    "duration": 9,
    "start_time": "2022-10-26T19:28:05.338Z"
   },
   {
    "duration": 6,
    "start_time": "2022-10-26T19:28:05.349Z"
   },
   {
    "duration": 72,
    "start_time": "2022-10-26T19:28:05.356Z"
   },
   {
    "duration": 12,
    "start_time": "2022-10-26T19:28:05.430Z"
   },
   {
    "duration": 5,
    "start_time": "2022-10-26T19:28:05.444Z"
   },
   {
    "duration": 14,
    "start_time": "2022-10-26T19:28:05.451Z"
   },
   {
    "duration": 23,
    "start_time": "2022-10-26T19:28:05.467Z"
   },
   {
    "duration": 47,
    "start_time": "2022-10-26T19:28:05.492Z"
   },
   {
    "duration": 4,
    "start_time": "2022-10-26T19:28:05.541Z"
   },
   {
    "duration": 10,
    "start_time": "2022-10-26T19:28:05.547Z"
   },
   {
    "duration": 6,
    "start_time": "2022-10-26T19:28:05.560Z"
   },
   {
    "duration": 4,
    "start_time": "2022-10-26T19:28:05.568Z"
   },
   {
    "duration": 12,
    "start_time": "2022-10-26T19:28:05.573Z"
   },
   {
    "duration": 41,
    "start_time": "2022-10-26T19:28:05.587Z"
   },
   {
    "duration": 8,
    "start_time": "2022-10-26T19:28:05.630Z"
   },
   {
    "duration": 7,
    "start_time": "2022-10-26T19:28:05.640Z"
   },
   {
    "duration": 7,
    "start_time": "2022-10-26T19:28:05.649Z"
   },
   {
    "duration": 65,
    "start_time": "2022-10-26T19:28:42.404Z"
   },
   {
    "duration": 8,
    "start_time": "2022-10-26T19:29:27.258Z"
   },
   {
    "duration": 6,
    "start_time": "2022-10-26T19:33:41.028Z"
   },
   {
    "duration": 564,
    "start_time": "2022-10-26T19:34:18.201Z"
   },
   {
    "duration": 1206,
    "start_time": "2022-10-26T19:39:05.168Z"
   },
   {
    "duration": 24,
    "start_time": "2022-10-26T19:39:22.147Z"
   },
   {
    "duration": 24,
    "start_time": "2022-10-26T19:39:59.146Z"
   },
   {
    "duration": 18,
    "start_time": "2022-10-26T19:40:42.638Z"
   },
   {
    "duration": 19,
    "start_time": "2022-10-26T19:41:23.778Z"
   },
   {
    "duration": 19,
    "start_time": "2022-10-26T19:42:22.994Z"
   },
   {
    "duration": 31,
    "start_time": "2022-10-26T19:43:30.027Z"
   },
   {
    "duration": 37,
    "start_time": "2022-10-26T19:43:56.651Z"
   },
   {
    "duration": 27,
    "start_time": "2022-10-26T19:44:21.064Z"
   },
   {
    "duration": 22,
    "start_time": "2022-10-26T19:44:44.084Z"
   },
   {
    "duration": 11,
    "start_time": "2022-10-26T19:47:45.922Z"
   },
   {
    "duration": 537,
    "start_time": "2022-10-26T20:01:59.100Z"
   },
   {
    "duration": 25,
    "start_time": "2022-10-26T20:01:59.639Z"
   },
   {
    "duration": 17,
    "start_time": "2022-10-26T20:01:59.665Z"
   },
   {
    "duration": 10,
    "start_time": "2022-10-26T20:01:59.684Z"
   },
   {
    "duration": 57,
    "start_time": "2022-10-26T20:01:59.696Z"
   },
   {
    "duration": 4,
    "start_time": "2022-10-26T20:01:59.755Z"
   },
   {
    "duration": 26,
    "start_time": "2022-10-26T20:01:59.760Z"
   },
   {
    "duration": 27,
    "start_time": "2022-10-26T20:01:59.787Z"
   },
   {
    "duration": 13,
    "start_time": "2022-10-26T20:01:59.816Z"
   },
   {
    "duration": 23,
    "start_time": "2022-10-26T20:01:59.833Z"
   },
   {
    "duration": 52,
    "start_time": "2022-10-26T20:01:59.857Z"
   },
   {
    "duration": 10,
    "start_time": "2022-10-26T20:01:59.911Z"
   },
   {
    "duration": 4,
    "start_time": "2022-10-26T20:01:59.923Z"
   },
   {
    "duration": 26,
    "start_time": "2022-10-26T20:01:59.929Z"
   },
   {
    "duration": 27,
    "start_time": "2022-10-26T20:01:59.957Z"
   },
   {
    "duration": 17,
    "start_time": "2022-10-26T20:01:59.986Z"
   },
   {
    "duration": 4,
    "start_time": "2022-10-26T20:02:00.005Z"
   },
   {
    "duration": 34,
    "start_time": "2022-10-26T20:02:00.011Z"
   },
   {
    "duration": 16,
    "start_time": "2022-10-26T20:02:00.047Z"
   },
   {
    "duration": 3,
    "start_time": "2022-10-26T20:02:00.065Z"
   },
   {
    "duration": 29,
    "start_time": "2022-10-26T20:02:00.070Z"
   },
   {
    "duration": 21,
    "start_time": "2022-10-26T20:02:00.101Z"
   },
   {
    "duration": 12,
    "start_time": "2022-10-26T20:02:00.123Z"
   },
   {
    "duration": 428,
    "start_time": "2022-10-26T20:02:00.137Z"
   },
   {
    "duration": 8,
    "start_time": "2022-10-26T20:02:00.567Z"
   },
   {
    "duration": 696,
    "start_time": "2022-10-26T22:10:04.735Z"
   },
   {
    "duration": 21,
    "start_time": "2022-10-26T22:10:05.433Z"
   },
   {
    "duration": 15,
    "start_time": "2022-10-26T22:10:05.456Z"
   },
   {
    "duration": 11,
    "start_time": "2022-10-26T22:10:05.472Z"
   },
   {
    "duration": 62,
    "start_time": "2022-10-26T22:10:05.485Z"
   },
   {
    "duration": 3,
    "start_time": "2022-10-26T22:10:05.549Z"
   },
   {
    "duration": 19,
    "start_time": "2022-10-26T22:10:05.555Z"
   },
   {
    "duration": 4,
    "start_time": "2022-10-26T22:10:05.576Z"
   },
   {
    "duration": 9,
    "start_time": "2022-10-26T22:10:05.582Z"
   },
   {
    "duration": 4,
    "start_time": "2022-10-26T22:10:05.592Z"
   },
   {
    "duration": 60,
    "start_time": "2022-10-26T22:10:05.598Z"
   },
   {
    "duration": 10,
    "start_time": "2022-10-26T22:10:05.659Z"
   },
   {
    "duration": 6,
    "start_time": "2022-10-26T22:10:05.671Z"
   },
   {
    "duration": 12,
    "start_time": "2022-10-26T22:10:05.679Z"
   },
   {
    "duration": 17,
    "start_time": "2022-10-26T22:10:05.693Z"
   },
   {
    "duration": 37,
    "start_time": "2022-10-26T22:10:05.711Z"
   },
   {
    "duration": 4,
    "start_time": "2022-10-26T22:10:05.750Z"
   },
   {
    "duration": 17,
    "start_time": "2022-10-26T22:10:05.756Z"
   },
   {
    "duration": 5,
    "start_time": "2022-10-26T22:10:05.775Z"
   },
   {
    "duration": 4,
    "start_time": "2022-10-26T22:10:05.782Z"
   },
   {
    "duration": 29,
    "start_time": "2022-10-26T22:10:05.787Z"
   },
   {
    "duration": 10,
    "start_time": "2022-10-26T22:10:05.817Z"
   },
   {
    "duration": 15,
    "start_time": "2022-10-26T22:10:05.829Z"
   },
   {
    "duration": 513,
    "start_time": "2022-10-26T22:10:05.846Z"
   },
   {
    "duration": 11,
    "start_time": "2022-10-26T22:10:06.361Z"
   },
   {
    "duration": 660,
    "start_time": "2022-10-31T20:52:18.970Z"
   },
   {
    "duration": 21,
    "start_time": "2022-10-31T20:52:19.632Z"
   },
   {
    "duration": 13,
    "start_time": "2022-10-31T20:52:19.654Z"
   },
   {
    "duration": 8,
    "start_time": "2022-10-31T20:52:19.668Z"
   },
   {
    "duration": 41,
    "start_time": "2022-10-31T20:52:19.677Z"
   },
   {
    "duration": 2,
    "start_time": "2022-10-31T20:52:19.720Z"
   },
   {
    "duration": 13,
    "start_time": "2022-10-31T20:52:19.724Z"
   },
   {
    "duration": 4,
    "start_time": "2022-10-31T20:52:19.738Z"
   },
   {
    "duration": 10,
    "start_time": "2022-10-31T20:52:19.744Z"
   },
   {
    "duration": 4,
    "start_time": "2022-10-31T20:52:19.756Z"
   },
   {
    "duration": 49,
    "start_time": "2022-10-31T20:52:19.761Z"
   },
   {
    "duration": 8,
    "start_time": "2022-10-31T20:52:19.812Z"
   },
   {
    "duration": 4,
    "start_time": "2022-10-31T20:52:19.821Z"
   },
   {
    "duration": 13,
    "start_time": "2022-10-31T20:52:19.826Z"
   },
   {
    "duration": 18,
    "start_time": "2022-10-31T20:52:19.840Z"
   },
   {
    "duration": 16,
    "start_time": "2022-10-31T20:52:19.860Z"
   },
   {
    "duration": 3,
    "start_time": "2022-10-31T20:52:19.878Z"
   },
   {
    "duration": 9,
    "start_time": "2022-10-31T20:52:19.908Z"
   },
   {
    "duration": 9,
    "start_time": "2022-10-31T20:52:19.918Z"
   },
   {
    "duration": 4,
    "start_time": "2022-10-31T20:52:19.928Z"
   },
   {
    "duration": 13,
    "start_time": "2022-10-31T20:52:19.933Z"
   },
   {
    "duration": 31,
    "start_time": "2022-10-31T20:52:19.947Z"
   },
   {
    "duration": 50,
    "start_time": "2022-10-31T20:52:19.979Z"
   },
   {
    "duration": 21,
    "start_time": "2022-10-31T20:52:20.031Z"
   },
   {
    "duration": 23,
    "start_time": "2022-10-31T20:52:20.054Z"
   },
   {
    "duration": 1380,
    "start_time": "2022-10-31T20:52:20.079Z"
   },
   {
    "duration": 48,
    "start_time": "2022-10-31T20:53:43.002Z"
   },
   {
    "duration": 427,
    "start_time": "2022-10-31T20:53:52.075Z"
   },
   {
    "duration": 401,
    "start_time": "2022-10-31T20:54:10.091Z"
   },
   {
    "duration": 681,
    "start_time": "2022-10-31T21:19:46.258Z"
   },
   {
    "duration": 21,
    "start_time": "2022-10-31T21:19:46.941Z"
   },
   {
    "duration": 14,
    "start_time": "2022-10-31T21:19:46.964Z"
   },
   {
    "duration": 9,
    "start_time": "2022-10-31T21:19:46.979Z"
   },
   {
    "duration": 51,
    "start_time": "2022-10-31T21:19:46.990Z"
   },
   {
    "duration": 4,
    "start_time": "2022-10-31T21:19:47.042Z"
   },
   {
    "duration": 10,
    "start_time": "2022-10-31T21:19:47.047Z"
   },
   {
    "duration": 3,
    "start_time": "2022-10-31T21:19:47.059Z"
   },
   {
    "duration": 10,
    "start_time": "2022-10-31T21:19:47.064Z"
   },
   {
    "duration": 5,
    "start_time": "2022-10-31T21:19:47.075Z"
   },
   {
    "duration": 53,
    "start_time": "2022-10-31T21:19:47.081Z"
   },
   {
    "duration": 10,
    "start_time": "2022-10-31T21:19:47.135Z"
   },
   {
    "duration": 6,
    "start_time": "2022-10-31T21:19:47.147Z"
   },
   {
    "duration": 12,
    "start_time": "2022-10-31T21:19:47.155Z"
   },
   {
    "duration": 19,
    "start_time": "2022-10-31T21:19:47.169Z"
   },
   {
    "duration": 43,
    "start_time": "2022-10-31T21:19:47.190Z"
   },
   {
    "duration": 3,
    "start_time": "2022-10-31T21:19:47.235Z"
   },
   {
    "duration": 13,
    "start_time": "2022-10-31T21:19:47.240Z"
   },
   {
    "duration": 6,
    "start_time": "2022-10-31T21:19:47.254Z"
   },
   {
    "duration": 4,
    "start_time": "2022-10-31T21:19:47.261Z"
   },
   {
    "duration": 12,
    "start_time": "2022-10-31T21:19:47.266Z"
   },
   {
    "duration": 27,
    "start_time": "2022-10-31T21:19:47.280Z"
   },
   {
    "duration": 24,
    "start_time": "2022-10-31T21:19:47.334Z"
   },
   {
    "duration": 23,
    "start_time": "2022-10-31T21:19:47.360Z"
   },
   {
    "duration": 22,
    "start_time": "2022-10-31T21:19:47.384Z"
   },
   {
    "duration": 1388,
    "start_time": "2022-10-31T21:19:47.408Z"
   },
   {
    "duration": 49,
    "start_time": "2022-11-01T09:09:45.690Z"
   },
   {
    "duration": 684,
    "start_time": "2022-11-01T09:09:50.311Z"
   },
   {
    "duration": 22,
    "start_time": "2022-11-01T09:09:50.997Z"
   },
   {
    "duration": 21,
    "start_time": "2022-11-01T09:09:51.020Z"
   },
   {
    "duration": 9,
    "start_time": "2022-11-01T09:09:51.043Z"
   },
   {
    "duration": 37,
    "start_time": "2022-11-01T09:09:51.054Z"
   },
   {
    "duration": 3,
    "start_time": "2022-11-01T09:09:51.093Z"
   },
   {
    "duration": 20,
    "start_time": "2022-11-01T09:09:51.097Z"
   },
   {
    "duration": 5,
    "start_time": "2022-11-01T09:09:51.119Z"
   },
   {
    "duration": 9,
    "start_time": "2022-11-01T09:09:51.125Z"
   },
   {
    "duration": 6,
    "start_time": "2022-11-01T09:09:51.136Z"
   },
   {
    "duration": 43,
    "start_time": "2022-11-01T09:09:51.144Z"
   },
   {
    "duration": 9,
    "start_time": "2022-11-01T09:09:51.188Z"
   },
   {
    "duration": 5,
    "start_time": "2022-11-01T09:09:51.198Z"
   },
   {
    "duration": 17,
    "start_time": "2022-11-01T09:09:51.204Z"
   },
   {
    "duration": 25,
    "start_time": "2022-11-01T09:09:51.222Z"
   },
   {
    "duration": 29,
    "start_time": "2022-11-01T09:09:51.248Z"
   },
   {
    "duration": 4,
    "start_time": "2022-11-01T09:09:51.278Z"
   },
   {
    "duration": 30,
    "start_time": "2022-11-01T09:09:51.283Z"
   },
   {
    "duration": 8,
    "start_time": "2022-11-01T09:09:51.314Z"
   },
   {
    "duration": 9,
    "start_time": "2022-11-01T09:09:51.324Z"
   },
   {
    "duration": 17,
    "start_time": "2022-11-01T09:09:51.334Z"
   },
   {
    "duration": 36,
    "start_time": "2022-11-01T09:09:51.353Z"
   },
   {
    "duration": 22,
    "start_time": "2022-11-01T09:09:51.391Z"
   },
   {
    "duration": 19,
    "start_time": "2022-11-01T09:09:51.415Z"
   },
   {
    "duration": 22,
    "start_time": "2022-11-01T09:09:51.435Z"
   },
   {
    "duration": 1360,
    "start_time": "2022-11-01T09:09:51.477Z"
   }
  ],
  "colab": {
   "name": "dpp_template_part2.ipynb",
   "provenance": []
  },
  "kernelspec": {
   "display_name": "Python 3 (ipykernel)",
   "language": "python",
   "name": "python3"
  },
  "language_info": {
   "codemirror_mode": {
    "name": "ipython",
    "version": 3
   },
   "file_extension": ".py",
   "mimetype": "text/x-python",
   "name": "python",
   "nbconvert_exporter": "python",
   "pygments_lexer": "ipython3",
   "version": "3.9.5"
  },
  "toc": {
   "base_numbering": 1,
   "nav_menu": {},
   "number_sections": true,
   "sideBar": true,
   "skip_h1_title": true,
   "title_cell": "Table of Contents",
   "title_sidebar": "Contents",
   "toc_cell": false,
   "toc_position": {},
   "toc_section_display": true,
   "toc_window_display": false
  }
 },
 "nbformat": 4,
 "nbformat_minor": 5
}
